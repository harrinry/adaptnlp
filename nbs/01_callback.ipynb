{
 "cells": [
  {
   "cell_type": "code",
   "execution_count": null,
   "metadata": {},
   "outputs": [],
   "source": [
    "# default_exp callback"
   ]
  },
  {
   "cell_type": "markdown",
   "metadata": {},
   "source": [
    "# Callbacks\n",
    "> Callbacks for predicting within AdaptNLP using the fastai framework"
   ]
  },
  {
   "cell_type": "code",
   "execution_count": 1,
   "metadata": {},
   "outputs": [],
   "source": [
    "#export\n",
    "from fastcore.basics import store_attr\n",
    "from fastcore.meta import delegates\n",
    "\n",
    "from fastai.callback.core import Callback, CancelBatchException\n",
    "\n",
    "from transformers import PreTrainedModel"
   ]
  },
  {
   "cell_type": "code",
   "execution_count": null,
   "metadata": {},
   "outputs": [],
   "source": [
    "#export\n",
    "class GatherInputsCallback(Callback):\n",
    "    \"\"\"\n",
    "    Prepares basic input dictionary for HuggingFace Transformers\n",
    "\n",
    "    This `Callback` generates a very basic dictionary consisting of `input_ids`,\n",
    "    `attention_masks`, and `token_type_ids`, and saves it to the attribute `self.learn.inputs`.\n",
    "\n",
    "    If further data is expected or needed from the batch, the additional Callback(s) should have\n",
    "    an order of -2\n",
    "    \"\"\"\n",
    "    order = -3\n",
    "\n",
    "    def before_validate(self):\n",
    "        \"\"\"\n",
    "        Sets the number of inputs in `self.dls`\n",
    "        \"\"\"\n",
    "        x = self.dl.one_batch()\n",
    "        self.learn.dls.n_inp = len(x)\n",
    "\n",
    "    def before_batch(self):\n",
    "        \"\"\"\n",
    "        Turns `self.xb` from a tuple to a dictionary of either\n",
    "            `{\"input_ids\", \"attention_masks\", \"token_type_ids\"}`d\n",
    "        or\n",
    "            `{\"input_ids\", \"attention_masks\"}`\n",
    "        \"\"\"\n",
    "        inputs = {\n",
    "                \"input_ids\":self.learn.xb[0],\n",
    "                \"attention_mask\":self.learn.xb[1]\n",
    "        }\n",
    "\n",
    "        if len(self.learn.xb) > 2:\n",
    "            inputs[\"token_type_ids\"] = self.learn.xb[2]\n",
    "\n",
    "        self.learn.inputs = inputs"
   ]
  },
  {
   "cell_type": "code",
   "execution_count": null,
   "metadata": {},
   "outputs": [],
   "source": [
    "#export\n",
    "class SetInputsCallback(Callback):\n",
    "    \"\"\"\n",
    "    Callback which runs after `GatherInputsCallback` that sets `self.learn.xb`\n",
    "    \"\"\"\n",
    "    order = -1\n",
    "\n",
    "    def __init__(self, as_dict=False): store_attr()\n",
    "\n",
    "    def before_batch(self):\n",
    "        \"\"\"\n",
    "        Set `self.learn.xb` to `self.learn.inputs.values()`\n",
    "        \"\"\"\n",
    "        if not self.as_dict:\n",
    "            self.learn.xb = list(self.learn.inputs.values())\n",
    "        else:\n",
    "            self.learn.xb = self.learn.inputs"
   ]
  },
  {
   "cell_type": "code",
   "execution_count": null,
   "metadata": {},
   "outputs": [],
   "source": [
    "#export\n",
    "class GeneratorCallback(Callback):\n",
    "    \"\"\"\n",
    "    Callback used for models that utilize `self.model.generate`\n",
    "    \"\"\"\n",
    "    \n",
    "    @delegates(PreTrainedModel.generate)\n",
    "    def __init__(self, num_beams:int, min_length:int, max_length:int, early_stopping:bool, **kwargs):\n",
    "        store_attr()\n",
    "        self.kwargs = kwargs\n",
    "    \n",
    "    def before_batch(self):\n",
    "        \"\"\"\n",
    "        Run model-specific inference\n",
    "        \"\"\"\n",
    "        \n",
    "        pred = self.learn.model.generate(\n",
    "            input_ids = self.xb['input_ids'],\n",
    "            attention_mask = self.xb['attention_mask'],\n",
    "            num_beams = self.num_beams,\n",
    "            min_length = self.min_length,\n",
    "            max_length = self.max_length,\n",
    "            early_stopping = self.early_stopping,\n",
    "            **self.kwargs\n",
    "        )\n",
    "        \n",
    "        self.learn.pred = pred\n",
    "        \n",
    "        raise CancelBatchException # skip original model inference"
   ]
  }
 ],
 "metadata": {
  "jupytext": {
   "split_at_heading": true
  },
  "kernelspec": {
   "display_name": "Python 3 (ipykernel)",
   "language": "python",
   "name": "python3"
  },
  "language_info": {
   "codemirror_mode": {
    "name": "ipython",
    "version": 3
   },
   "file_extension": ".py",
   "mimetype": "text/x-python",
   "name": "python",
   "nbconvert_exporter": "python",
   "pygments_lexer": "ipython3",
   "version": "3.8.11"
  }
 },
 "nbformat": 4,
 "nbformat_minor": 4
}
