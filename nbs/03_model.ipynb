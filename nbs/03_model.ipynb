{
 "cells": [
  {
   "cell_type": "code",
   "execution_count": 1,
   "metadata": {},
   "outputs": [],
   "source": [
    "# default_exp model"
   ]
  },
  {
   "cell_type": "markdown",
   "metadata": {},
   "source": [
    "# Model\n",
    "> AdaptNLP's internal `AdaptiveModel` class, along with `fastai` internals for predicting"
   ]
  },
  {
   "cell_type": "code",
   "execution_count": 2,
   "metadata": {},
   "outputs": [],
   "source": [
    "#hide\n",
    "from nbverbose.showdoc import *"
   ]
  },
  {
   "cell_type": "code",
   "execution_count": 3,
   "metadata": {},
   "outputs": [],
   "source": [
    "#export\n",
    "from typing import Union, List\n",
    "from pathlib import Path\n",
    "from abc import ABC, abstractmethod\n",
    "\n",
    "from flair.data import Sentence\n",
    "\n",
    "import torch\n",
    "from torch import nn\n",
    "from torch.utils.data import TensorDataset, DataLoader\n",
    "\n",
    "from fastcore.basics import noop, store_attr, patch, first, ifnone\n",
    "from fastcore.meta import delegates\n",
    "\n",
    "from fastai.callback.core import Callback, GatherPredsCallback\n",
    "from fastai.callback.progress import ProgressCallback\n",
    "\n",
    "from fastai.learner import Learner\n",
    "from fastai.data.core import DataLoaders\n",
    "\n",
    "from fastai.torch_core import to_device, default_device\n",
    "\n",
    "from adaptnlp.callback import GatherInputsCallback, SetInputsCallback"
   ]
  },
  {
   "cell_type": "markdown",
   "metadata": {},
   "source": [
    "## Patched Functionalities"
   ]
  },
  {
   "cell_type": "code",
   "execution_count": 4,
   "metadata": {},
   "outputs": [],
   "source": [
    "#export\n",
    "@patch\n",
    "def one_batch(\n",
    "    self:DataLoader\n",
    ") -> torch.Tensor: # A batch of data\n",
    "    \"Pathed functionality that grabs one batch of data from the `DataLoader` and deletes the iter\"\n",
    "    res = first(self)\n",
    "    if hasattr(self, 'it'): delattr(self, 'it')\n",
    "    return res"
   ]
  },
  {
   "cell_type": "code",
   "execution_count": 5,
   "metadata": {},
   "outputs": [],
   "source": [
    "#export\n",
    "@patch\n",
    "def after_validate(\n",
    "    self:GatherPredsCallback\n",
    "):\n",
    "    \"Patched functionality that does nothing\"\n",
    "    pass"
   ]
  },
  {
   "cell_type": "code",
   "execution_count": 6,
   "metadata": {},
   "outputs": [],
   "source": [
    "#export\n",
    "class CudaCallback(Callback):\n",
    "    \"Move data to CUDA device\"\n",
    "    def __init__(\n",
    "        self, \n",
    "        device:str=None # A device to move the data to, such as 'cuda:0' or 'cpu'\n",
    "    ): self.device = ifnone(device, default_device())\n",
    "    def before_batch(self): self.learn.xb,self.learn.yb = to_device(self.xb),to_device(self.yb)\n",
    "    def before_fit(self): self.model.to(self.device)"
   ]
  },
  {
   "cell_type": "code",
   "execution_count": 7,
   "metadata": {},
   "outputs": [],
   "source": [
    "#exporti\n",
    "class _NoopModel(nn.Module):\n",
    "    \"\"\"\n",
    "    Very basic model that performs y = mx+b. Is used only as a placeholder model for `BaseLearner`.\n",
    "    Is based on https://github.com/fastai/fastai/blob/master/fastai/test_utils.py#L30\n",
    "    \"\"\"\n",
    "    def __init__(self):\n",
    "        super().__init__()\n",
    "        self.a,self.b = nn.Parameter(torch.randn(1)),nn.Parameter(torch.randn(1))\n",
    "\n",
    "    def forward(self, x): return x*self.a + self.b"
   ]
  },
  {
   "cell_type": "code",
   "execution_count": 8,
   "metadata": {},
   "outputs": [],
   "source": [
    "#exporti\n",
    "class _BaseLearner:\n",
    "    \"\"\"\n",
    "    Simple `Learner` class with `synth` DataLoaders, a noop model, and a noop loss function.\n",
    "\n",
    "    Contains access to minimal `Learner` functionality including:\n",
    "      - `get_preds`\n",
    "      - `lr_find`, `fit_one_cycle`, `fit_flat_cos`, `fit_sgdr`, `fit` (not implemented)\n",
    "      - `metrics`, `opt_func`, `splitter`, `wd`, `moms` (not implemented)\n",
    "    \"\"\"\n",
    "    __cbs = [SetInputsCallback(), GatherInputsCallback()]\n",
    "\n",
    "    def __init__(self, device='cuda' if torch.cuda.is_available() else 'cpu') -> None:\n",
    "        \"\"\"\n",
    "        Generates blank `Learner` and stores it away privately.\n",
    "        \"\"\"\n",
    "        self.__cbs.append(CudaCallback(device))\n",
    "        self.__learner = Learner(self._generate_dls(), _NoopModel(), loss_func=noop, cbs=self.__cbs)\n",
    "        self.__default_dls, self.__default_model = True, True\n",
    "\n",
    "    def _generate_dls(self, a=2, b=3, batch_size=16, n_train=10, n_valid=2) -> DataLoaders:\n",
    "        \"\"\"\n",
    "        Builds synthetic `DataLoaders`.\n",
    "        Implementation based on https://github.com/fastai/fastai/blob/master/fastai/test_utils.py#L18\n",
    "        \"\"\"\n",
    "        def get_data(n) -> TensorDataset:\n",
    "            \"\"\"\n",
    "            Generates synthetic `TensorDataset`\n",
    "            \"\"\"\n",
    "            x = torch.randn(batch_size*n, 1)\n",
    "            return TensorDataset(x, a*x + b, 0.1*torch.randn(batch_size*n, 1))\n",
    "\n",
    "        train_ds = get_data(n_train)\n",
    "        valid_ds = get_data(n_valid)\n",
    "        train_dl = DataLoader(train_ds, batch_size=batch_size, shuffle=True, num_workers=0)\n",
    "        valid_dl = DataLoader(valid_ds, batch_size=batch_size, num_workers=0)\n",
    "        return DataLoaders(train_dl, valid_dl)\n",
    "\n",
    "    def get_preds(self, dl=None, cbs=[]):\n",
    "        \"\"\"\n",
    "        Get raw predictions based on `dl` with `cbs`.\n",
    "\n",
    "        For basic inference, `cbs` should include any `Callbacks` needed to do general inference\n",
    "        \"\"\"\n",
    "        if dl is None: raise ValueError(\"`dl` should not be `None`\")\n",
    "        if isinstance(self.__learner.model, _NoopModel):\n",
    "            raise ValueError(\"The default model is still set, you should override this with `_BaseLearner.set_model(x)`\")\n",
    "        return self.__learner.get_preds(dl=dl, cbs=cbs)\n",
    "    \n",
    "    def set_device(self, device:str='cpu'):\n",
    "        if device != 'cpu' and device != 'cuda': \n",
    "            raise ValueError(\"Device must either be `cpu` or `cuda`\")\n",
    "        self.__learn.__cbs[-1].device = device\n",
    "\n",
    "    def set_as_dict(self, as_dict:bool=False):\n",
    "        \"\"\"\n",
    "        Sets `is_dict` in the `SetInputsCallback`. Should be utilized whenever dictating\n",
    "        if the incoming batch should be a dictionary or the actual inputs.\n",
    "        \"\"\"\n",
    "        for cb in self.__cbs:\n",
    "            if isinstance(cb, SetInputsCallback):\n",
    "                cb.as_dict = as_dict\n",
    "\n",
    "    def set_model(self, model):\n",
    "        \"\"\"\n",
    "        Sets `Learner`'s model to `model`\n",
    "        \"\"\"\n",
    "        self.__learner.model = model"
   ]
  },
  {
   "cell_type": "code",
   "execution_count": 9,
   "metadata": {},
   "outputs": [],
   "source": [
    "#export\n",
    "class AdaptiveModel(ABC):\n",
    "    _learn = _BaseLearner()\n",
    "    \n",
    "    def set_model(\n",
    "        self, \n",
    "        model # A PyTorch model\n",
    "    ):\n",
    "        \"Sets model in `_learn`\"\n",
    "        self._learn.set_model(model)\n",
    "        self.model = model\n",
    "        \n",
    "    def set_as_dict(\n",
    "        self, \n",
    "        as_dict:bool=False # Whether to return the inputs as a dictionary when predicting or training\n",
    "    ):\n",
    "        \"Sets `as_dict` in `_learn`\"\n",
    "        self._learn.set_as_dict(as_dict)\n",
    "        \n",
    "    def set_device(\n",
    "        self, \n",
    "        device:str='cpu' #  A device for the `CudaCallback`, such as 'cuda:0' or 'cpu'\n",
    "    ):\n",
    "        \"Sets the device for `CudaCallback` in `__learn`\"\n",
    "        self._learn.set_device(device)\n",
    "        \n",
    "\n",
    "    def get_preds(\n",
    "        self, \n",
    "        dl=None, # An iterable DataLoader or DataLoader-like object \n",
    "        cbs=[] # Optional fastai `Callbacks`\n",
    "    ):\n",
    "        \"\"\"\n",
    "        Get raw predictions based on `dl` with `cbs`.\n",
    "\n",
    "        For basic inference, `cbs` should include any `Callbacks` needed to do general inference\n",
    "        \"\"\"\n",
    "        return self._learn.get_preds(dl=dl, cbs=cbs)\n",
    "        \n",
    "    @abstractmethod\n",
    "    def load(\n",
    "        self,\n",
    "        model_name_or_path: Union[str, Path], # A model file location to use\n",
    "    ):\n",
    "        \"Load model into the `AdaptiveModel` object as alternative constructor\"\n",
    "        raise NotImplementedError(\"Please Implement this method\")\n",
    "\n",
    "    @abstractmethod\n",
    "    def predict(\n",
    "        self,\n",
    "        text: Union[List[Sentence], Sentence, List[str], str], # Some text to predict on\n",
    "        mini_batch_size: int = 32, # A batch size for if a list of texts are passed in\n",
    "        **kwargs,\n",
    "    ) -> List[Sentence]: # A list of predicted sentences\n",
    "        \"Run inference on the model\"\n",
    "        raise NotImplementedError(\"Please Implement this method\")"
   ]
  },
  {
   "cell_type": "code",
   "execution_count": 10,
   "metadata": {},
   "outputs": [
    {
     "data": {
      "text/markdown": [
       "<h4 id=\"AdaptiveModel.set_model\" class=\"doc_header\"><code>AdaptiveModel.set_model</code><a href=\"__main__.py#L5\" class=\"source_link\" style=\"float:right\">[source]</a></h4>\n",
       "\n",
       "> <code>AdaptiveModel.set_model</code>(**`model`**)\n",
       "\n",
       "Sets model in `_learn`\n",
       "\n",
       "**Parameters:**\n",
       "\n",
       "\n",
       " - **`model`** : *`<class 'inspect._empty'>`*\t<p>A PyTorch model</p>\n",
       "\n"
      ],
      "text/plain": [
       "<IPython.core.display.Markdown object>"
      ]
     },
     "metadata": {},
     "output_type": "display_data"
    }
   ],
   "source": [
    "show_doc(AdaptiveModel.set_model)"
   ]
  },
  {
   "cell_type": "code",
   "execution_count": 11,
   "metadata": {},
   "outputs": [
    {
     "data": {
      "text/markdown": [
       "<h4 id=\"AdaptiveModel.set_as_dict\" class=\"doc_header\"><code>AdaptiveModel.set_as_dict</code><a href=\"__main__.py#L13\" class=\"source_link\" style=\"float:right\">[source]</a></h4>\n",
       "\n",
       "> <code>AdaptiveModel.set_as_dict</code>(**`as_dict`**:`bool`=*`False`*)\n",
       "\n",
       "Sets `as_dict` in `_learn`\n",
       "\n",
       "**Parameters:**\n",
       "\n",
       "\n",
       " - **`as_dict`** : *`<class 'bool'>`*, *optional*\t<p>Whether to return the inputs as a dictionary when predicting or training</p>\n",
       "\n"
      ],
      "text/plain": [
       "<IPython.core.display.Markdown object>"
      ]
     },
     "metadata": {},
     "output_type": "display_data"
    }
   ],
   "source": [
    "show_doc(AdaptiveModel.set_as_dict)"
   ]
  },
  {
   "cell_type": "code",
   "execution_count": 12,
   "metadata": {},
   "outputs": [
    {
     "data": {
      "text/markdown": [
       "<h4 id=\"AdaptiveModel.set_device\" class=\"doc_header\"><code>AdaptiveModel.set_device</code><a href=\"__main__.py#L20\" class=\"source_link\" style=\"float:right\">[source]</a></h4>\n",
       "\n",
       "> <code>AdaptiveModel.set_device</code>(**`device`**:`str`=*`'cpu'`*)\n",
       "\n",
       "Sets the device for [`CudaCallback`](/adaptnlp/model.html#CudaCallback) in `__learn`\n",
       "\n",
       "**Parameters:**\n",
       "\n",
       "\n",
       " - **`device`** : *`<class 'str'>`*, *optional*\t<p>A device for the `CudaCallback`, such as 'cuda:0' or 'cpu'</p>\n",
       "\n"
      ],
      "text/plain": [
       "<IPython.core.display.Markdown object>"
      ]
     },
     "metadata": {},
     "output_type": "display_data"
    }
   ],
   "source": [
    "show_doc(AdaptiveModel.set_device)"
   ]
  },
  {
   "cell_type": "code",
   "execution_count": 13,
   "metadata": {},
   "outputs": [
    {
     "data": {
      "text/markdown": [
       "<h4 id=\"AdaptiveModel.get_preds\" class=\"doc_header\"><code>AdaptiveModel.get_preds</code><a href=\"__main__.py#L28\" class=\"source_link\" style=\"float:right\">[source]</a></h4>\n",
       "\n",
       "> <code>AdaptiveModel.get_preds</code>(**`dl`**=*`None`*, **`cbs`**=*`[]`*)\n",
       "\n",
       "Get raw predictions based on `dl` with `cbs`.\n",
       "\n",
       "For basic inference, `cbs` should include any `Callbacks` needed to do general inference\n",
       "\n",
       "**Parameters:**\n",
       "\n",
       "\n",
       " - **`dl`** : *`<class 'NoneType'>`*, *optional*\t<p>An iterable DataLoader or DataLoader-like object</p>\n",
       "\n",
       "\n",
       " - **`cbs`** : *`<class 'list'>`*, *optional*\t<p>Optional fastai `Callbacks`</p>\n",
       "\n"
      ],
      "text/plain": [
       "<IPython.core.display.Markdown object>"
      ]
     },
     "metadata": {},
     "output_type": "display_data"
    }
   ],
   "source": [
    "show_doc(AdaptiveModel.get_preds)"
   ]
  },
  {
   "cell_type": "code",
   "execution_count": 14,
   "metadata": {},
   "outputs": [
    {
     "data": {
      "text/markdown": [
       "<h4 id=\"AdaptiveModel.load\" class=\"doc_header\"><code>AdaptiveModel.load</code><a href=\"__main__.py#L40\" class=\"source_link\" style=\"float:right\">[source]</a></h4>\n",
       "\n",
       "> <code>AdaptiveModel.load</code>(**`model_name_or_path`**:`Union`\\[`str`, `Path`\\])\n",
       "\n",
       "Load model into the [`AdaptiveModel`](/adaptnlp/model.html#AdaptiveModel) object as alternative constructor\n",
       "\n",
       "**Parameters:**\n",
       "\n",
       "\n",
       " - **`model_name_or_path`** : *`typing.Union[str, pathlib.Path]`*\t<p>A model file location to use</p>\n",
       "\n"
      ],
      "text/plain": [
       "<IPython.core.display.Markdown object>"
      ]
     },
     "metadata": {},
     "output_type": "display_data"
    }
   ],
   "source": [
    "show_doc(AdaptiveModel.load)"
   ]
  },
  {
   "cell_type": "code",
   "execution_count": 15,
   "metadata": {},
   "outputs": [
    {
     "data": {
      "text/markdown": [
       "<h4 id=\"AdaptiveModel.predict\" class=\"doc_header\"><code>AdaptiveModel.predict</code><a href=\"__main__.py#L48\" class=\"source_link\" style=\"float:right\">[source]</a></h4>\n",
       "\n",
       "> <code>AdaptiveModel.predict</code>(**`text`**:`Union`\\[`List`\\[`Sentence`\\], `Sentence`, `List`\\[`str`\\], `str`\\], **`mini_batch_size`**:`int`=*`32`*, **\\*\\*`kwargs`**)\n",
       "\n",
       "Run inference on the model\n",
       "\n",
       "**Parameters:**\n",
       "\n",
       "\n",
       " - **`text`** : *`typing.Union[typing.List[flair.data.Sentence], flair.data.Sentence, typing.List[str], str]`*\t<p>Some text to predict on</p>\n",
       "\n",
       "\n",
       " - **`mini_batch_size`** : *`<class 'int'>`*, *optional*\t<p>A batch size for if a list of texts are passed in</p>\n",
       "\n",
       "\n",
       " - **`kwargs`** : *`<class 'inspect._empty'>`*\n",
       "\n",
       "\n",
       "**Returns**:\n",
       "\t\n",
       " * *`typing.List[flair.data.Sentence]`*\t<p>A list of predicted sentences</p>\n",
       "\n"
      ],
      "text/plain": [
       "<IPython.core.display.Markdown object>"
      ]
     },
     "metadata": {},
     "output_type": "display_data"
    }
   ],
   "source": [
    "show_doc(AdaptiveModel.predict)"
   ]
  }
 ],
 "metadata": {
  "jupytext": {
   "split_at_heading": true
  },
  "kernelspec": {
   "display_name": "Python 3 (ipykernel)",
   "language": "python",
   "name": "python3"
  },
  "language_info": {
   "codemirror_mode": {
    "name": "ipython",
    "version": 3
   },
   "file_extension": ".py",
   "mimetype": "text/x-python",
   "name": "python",
   "nbconvert_exporter": "python",
   "pygments_lexer": "ipython3",
   "version": "3.8.11"
  }
 },
 "nbformat": 4,
 "nbformat_minor": 4
}
