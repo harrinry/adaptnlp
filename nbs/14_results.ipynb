{
 "cells": [
  {
   "cell_type": "code",
   "execution_count": null,
   "metadata": {},
   "outputs": [],
   "source": [
    "#default_exp results"
   ]
  },
  {
   "cell_type": "markdown",
   "metadata": {},
   "source": [
    "# Result Representation\n",
    "> End-User API for task-specific objects"
   ]
  },
  {
   "cell_type": "markdown",
   "metadata": {},
   "source": [
    "## Foundational Representation\n",
    "\n",
    "This API is an opinionated approach towards generating a task-specific (and task-generic) result compatable with both HuggingFace and Flair.\n",
    "\n",
    "Since each task requires slightly different access to the data, each task as a result returns a different datatype.\n",
    "\n",
    "Each stem from the `TextResult` class:"
   ]
  },
  {
   "cell_type": "code",
   "execution_count": null,
   "metadata": {},
   "outputs": [],
   "source": [
    "#export\n",
    "from abc import ABC, abstractmethod\n",
    "from fastcore.basics import mk_class"
   ]
  },
  {
   "cell_type": "code",
   "execution_count": null,
   "metadata": {},
   "outputs": [],
   "source": [
    "#export\n",
    "mk_class('DetailLevel', **{o:o.lower() for o in ['Low','Medium','High']},\n",
    "        doc=\"All possible detail levels as attributes to get tab-completion and typo-proofing\")"
   ]
  },
  {
   "cell_type": "code",
   "execution_count": null,
   "metadata": {},
   "outputs": [],
   "source": [
    "#export\n",
    "class TextResult(ABC):\n",
    "    \"\"\"\n",
    "    A basic model output representation\n",
    "    \"\"\"\n",
    "    \n",
    "    @abstractmethod\n",
    "    def show(self, tokenized=False, detail=0):\n",
    "        \"Show some results, in a potential level of detail\"\n",
    "        raise NotImplementedError(\"This functionality is not yet supported for this application.\")\n",
    "    \n",
    "    @abstractmethod\n",
    "    def to_dict(self, detail_level=DetailLevel.Low) -> dict:\n",
    "        \"\"\"\n",
    "        Exports `self` as a dictionary, with a variety of detail levels\n",
    "        \"\"\"\n",
    "        raise NotImplementedError(\"This functionality is not yet supported for this application.\")"
   ]
  },
  {
   "cell_type": "code",
   "execution_count": null,
   "metadata": {},
   "outputs": [],
   "source": [
    "from adaptnlp.question_answering import *"
   ]
  },
  {
   "cell_type": "code",
   "execution_count": null,
   "metadata": {},
   "outputs": [],
   "source": [
    "qa = EasyQuestionAnswering()"
   ]
  },
  {
   "cell_type": "code",
   "execution_count": null,
   "metadata": {},
   "outputs": [
    {
     "data": {
      "application/vnd.jupyter.widget-view+json": {
       "model_id": "abbef6eb21bb4ffaa9d8de4c9dfd5a2c",
       "version_major": 2,
       "version_minor": 0
      },
      "text/plain": [
       "HBox(children=(FloatProgress(value=0.0, description='Downloading', max=443.0, style=ProgressStyle(description_…"
      ]
     },
     "metadata": {},
     "output_type": "display_data"
    },
    {
     "name": "stdout",
     "output_type": "stream",
     "text": [
      "\n"
     ]
    },
    {
     "data": {
      "application/vnd.jupyter.widget-view+json": {
       "model_id": "fdaaa3fd99a84588b973fadd3a4952d3",
       "version_major": 2,
       "version_minor": 0
      },
      "text/plain": [
       "HBox(children=(FloatProgress(value=0.0, description='Downloading', max=231508.0, style=ProgressStyle(descripti…"
      ]
     },
     "metadata": {},
     "output_type": "display_data"
    },
    {
     "name": "stdout",
     "output_type": "stream",
     "text": [
      "\n"
     ]
    },
    {
     "data": {
      "application/vnd.jupyter.widget-view+json": {
       "model_id": "36e34f40981043618d00fb282513b667",
       "version_major": 2,
       "version_minor": 0
      },
      "text/plain": [
       "HBox(children=(FloatProgress(value=0.0, description='Downloading', max=28.0, style=ProgressStyle(description_w…"
      ]
     },
     "metadata": {},
     "output_type": "display_data"
    },
    {
     "name": "stdout",
     "output_type": "stream",
     "text": [
      "\n"
     ]
    },
    {
     "data": {
      "application/vnd.jupyter.widget-view+json": {
       "model_id": "e91c067cc8014da9a6dd4958cb4c0304",
       "version_major": 2,
       "version_minor": 0
      },
      "text/plain": [
       "HBox(children=(FloatProgress(value=0.0, description='Downloading', max=466062.0, style=ProgressStyle(descripti…"
      ]
     },
     "metadata": {},
     "output_type": "display_data"
    },
    {
     "name": "stdout",
     "output_type": "stream",
     "text": [
      "\n"
     ]
    },
    {
     "data": {
      "application/vnd.jupyter.widget-view+json": {
       "model_id": "863d64cffc804b76ab4b235bfa027cc6",
       "version_major": 2,
       "version_minor": 0
      },
      "text/plain": [
       "HBox(children=(FloatProgress(value=0.0, description='Downloading', max=1340675298.0, style=ProgressStyle(descr…"
      ]
     },
     "metadata": {},
     "output_type": "display_data"
    },
    {
     "name": "stdout",
     "output_type": "stream",
     "text": [
      "\n"
     ]
    },
    {
     "name": "stderr",
     "output_type": "stream",
     "text": [
      "convert squad examples to features: 100%|██████████| 1/1 [00:00<00:00, 721.29it/s]\n",
      "add example index and unique id: 100%|██████████| 1/1 [00:00<00:00, 4350.94it/s]\n"
     ]
    },
    {
     "data": {
      "text/html": [],
      "text/plain": [
       "<IPython.core.display.HTML object>"
      ]
     },
     "metadata": {},
     "output_type": "display_data"
    }
   ],
   "source": [
    "a = qa.predict_qa(query='What is life?', context='Life is NLP.', n_best_size=5, mini_batch_size=1)"
   ]
  },
  {
   "cell_type": "code",
   "execution_count": null,
   "metadata": {},
   "outputs": [
    {
     "data": {
      "text/plain": [
       "('NLP.',\n",
       " [OrderedDict([('text', 'NLP.'),\n",
       "               ('probability', 0.9040334074377709),\n",
       "               ('start_logit', 3.8810549),\n",
       "               ('end_logit', 4.3925385),\n",
       "               ('start_index', 2),\n",
       "               ('end_index', 2)]),\n",
       "  OrderedDict([('text', 'Life is NLP.'),\n",
       "               ('probability', 0.09288783780370446),\n",
       "               ('start_logit', 1.6055818),\n",
       "               ('end_logit', 4.3925385),\n",
       "               ('start_index', 0),\n",
       "               ('end_index', 2)]),\n",
       "  OrderedDict([('text', 'is NLP.'),\n",
       "               ('probability', 0.003078754758524662),\n",
       "               ('start_logit', -1.8012856),\n",
       "               ('end_logit', 4.3925385),\n",
       "               ('start_index', 1),\n",
       "               ('end_index', 2)])])"
      ]
     },
     "execution_count": null,
     "metadata": {},
     "output_type": "execute_result"
    }
   ],
   "source": [
    "a"
   ]
  },
  {
   "cell_type": "code",
   "execution_count": null,
   "metadata": {},
   "outputs": [],
   "source": [
    "# from fastcore.basics import store_attr\n",
    "# import pandas as pd\n",
    "\n",
    "# @delegates(pd.DataFrame.to_html)\n",
    "# def display_df(df, name, **kwargs):\n",
    "#     \"Display `df` in a notebook or defaults to print, originally from fastai\"\n",
    "#     try: from IPython.display import display, HTML\n",
    "#     except: return print(f'{name}:\\n{df}')\n",
    "#     display(HTML(f'<b>Query</b>: {name}<br><b>Results:</b>{df.to_html(**kwargs)}'))"
   ]
  },
  {
   "cell_type": "code",
   "execution_count": null,
   "metadata": {},
   "outputs": [],
   "source": [
    "from fastcore.meta import delegates"
   ]
  },
  {
   "cell_type": "code",
   "execution_count": null,
   "metadata": {},
   "outputs": [],
   "source": [
    "# class QAResult(TextResult):\n",
    "#     def __init__(self, question, answer, *dicts):\n",
    "#         self.question = question\n",
    "#         self.answer = answer\n",
    "#         self.dicts = dicts\n",
    "        \n",
    "#     @delegates(pd.DataFrame)\n",
    "#     def visualize(self, full = False, display_config = {}, **kwargs):\n",
    "#         \"Visualize probabilities for each text, potentially pretty\"\n",
    "#         columns = ['text', 'probability'] if not full else None\n",
    "#         display_df(pd.DataFrame(self.dicts, columns = columns, **kwargs), self.question, **display_config)\n",
    "        \n",
    "# #     def show_at(self, idx:int):\n",
    "# #         \"Shows information about a specific result\"\n",
    "        "
   ]
  },
  {
   "cell_type": "code",
   "execution_count": null,
   "metadata": {},
   "outputs": [],
   "source": [
    "# o = QAResult('What is life?', a, *a[1])"
   ]
  },
  {
   "cell_type": "code",
   "execution_count": null,
   "metadata": {},
   "outputs": [
    {
     "data": {
      "text/html": [
       "<b>Query</b>: What is life?<br><b>Results:</b><table border=\"1\" class=\"dataframe\">\n",
       "  <thead>\n",
       "    <tr style=\"text-align: right;\">\n",
       "      <th>text</th>\n",
       "      <th>probability</th>\n",
       "    </tr>\n",
       "  </thead>\n",
       "  <tbody>\n",
       "    <tr>\n",
       "      <td>NLP.</td>\n",
       "      <td>0.904033</td>\n",
       "    </tr>\n",
       "    <tr>\n",
       "      <td>Life is NLP.</td>\n",
       "      <td>0.092888</td>\n",
       "    </tr>\n",
       "    <tr>\n",
       "      <td>is NLP.</td>\n",
       "      <td>0.003079</td>\n",
       "    </tr>\n",
       "  </tbody>\n",
       "</table>"
      ],
      "text/plain": [
       "<IPython.core.display.HTML object>"
      ]
     },
     "metadata": {},
     "output_type": "display_data"
    }
   ],
   "source": [
    "# o.visualize(full=False, display_config={'index':False})"
   ]
  },
  {
   "cell_type": "code",
   "execution_count": null,
   "metadata": {},
   "outputs": [
    {
     "data": {
      "text/plain": [
       "['NLP.', 'Life is NLP.', 'is NLP.']"
      ]
     },
     "execution_count": null,
     "metadata": {},
     "output_type": "execute_result"
    }
   ],
   "source": [
    "# [a['text'] for a in o.dicts]"
   ]
  },
  {
   "cell_type": "code",
   "execution_count": null,
   "metadata": {},
   "outputs": [
    {
     "data": {
      "text/plain": [
       "[0.9040334074377709, 0.09288783780370446, 0.003078754758524662]"
      ]
     },
     "execution_count": null,
     "metadata": {},
     "output_type": "execute_result"
    }
   ],
   "source": [
    "# [a['probability'] for a in o.dicts]"
   ]
  },
  {
   "cell_type": "code",
   "execution_count": null,
   "metadata": {},
   "outputs": [
    {
     "data": {
      "text/plain": [
       "{0.9040334074377709, 'NLP.'}"
      ]
     },
     "execution_count": null,
     "metadata": {},
     "output_type": "execute_result"
    }
   ],
   "source": [
    "# {'NLP.', 0.9040334074377709}"
   ]
  },
  {
   "cell_type": "code",
   "execution_count": null,
   "metadata": {},
   "outputs": [],
   "source": []
  }
 ],
 "metadata": {
  "kernelspec": {
   "display_name": "Python 3",
   "language": "python",
   "name": "python3"
  }
 },
 "nbformat": 4,
 "nbformat_minor": 4
}
