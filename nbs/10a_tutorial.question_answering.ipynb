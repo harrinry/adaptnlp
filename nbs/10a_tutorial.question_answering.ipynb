{
 "cells": [
  {
   "cell_type": "markdown",
   "metadata": {},
   "source": [
    "# Tutorial - Question Answering\n",
    "> Using the Question Answering API within AdaptNLP"
   ]
  },
  {
   "cell_type": "markdown",
   "metadata": {},
   "source": [
    "## Question Answering\n",
    "\n",
    "Question Answering is the NLP task of producing a legible answer from being provided two text inputs: the context and the question in regards to the context.\n",
    "\n",
    "Examples of Question Answering models are span-based models that output a start and end index that outline the relevant \"answer\" from the context provided. With these models, we can extract answers from various questions and queries regarding any unstructured text.\n",
    "\n",
    "Below, we'll walk through how we can use AdaptNLP's `EasyQuestionAnswering` module to extract span-based text answers from unstructured text using state-of-the-art question answering models."
   ]
  },
  {
   "cell_type": "markdown",
   "metadata": {},
   "source": [
    "## Getting Started"
   ]
  },
  {
   "cell_type": "markdown",
   "metadata": {},
   "source": [
    "You can use `EasyQuestionAnswering` to run span-based question answering models.\n",
    "\n",
    "Providing a `context` and `query`, we get an output of top `n_best_size` answer predictions along with token span indices and probability scores.\n",
    "\n",
    "First we'll import the EasyQuestionAnswering class from AdaptNLP and instantiate it:"
   ]
  },
  {
   "cell_type": "code",
   "execution_count": null,
   "metadata": {},
   "outputs": [],
   "source": [
    "from adaptnlp import EasyQuestionAnswering\n",
    "qa_model = EasyQuestionAnswering()"
   ]
  },
  {
   "cell_type": "markdown",
   "metadata": {},
   "source": [
    "Next we'll write some example context to use:"
   ]
  },
  {
   "cell_type": "code",
   "execution_count": null,
   "metadata": {},
   "outputs": [],
   "source": [
    "context = \"\"\"Amazon.com, Inc.[6] (/ˈæməzɒn/), is an American multinational technology company based in Seattle, \n",
    "Washington that focuses on e-commerce, cloud computing, digital streaming, and artificial intelligence. \n",
    "It is considered one of the Big Four technology companies along with Google, Apple, and Facebook.[7][8][9] \n",
    "Amazon is known for its disruption of well-established industries through technological innovation and mass \n",
    "scale.[10][11][12] It is the world's largest e-commerce marketplace, AI assistant provider, and cloud computing \n",
    "platform[13] as measured by revenue and market capitalization.[14] Amazon is the largest Internet company by \n",
    "revenue in the world.[15] It is the second largest private employer in the United States[16] and one of the world's \n",
    "most valuable companies. Amazon is the second largest technology company by revenue. Amazon was founded by Jeff Bezos \n",
    "on July 5, 1994, in Bellevue, Washington. The company initially started as an online marketplace for books but later \n",
    "expanded to sell electronics, software, video games, apparel, furniture, food, toys, and jewelry. In 2015, Amazon \n",
    "surpassed Walmart as the most valuable retailer in the United States by market capitalization.[17] In 2017, Amazon \n",
    "acquired Whole Foods Market for $13.4 billion, which vastly increased Amazon's presence as a brick-and-mortar \n",
    "retailer.[18] In 2018, Bezos announced that its two-day delivery service, Amazon Prime, had surpassed 100 million \n",
    "subscribers worldwide\n",
    "\"\"\""
   ]
  },
  {
   "cell_type": "markdown",
   "metadata": {},
   "source": [
    "And then finally we'll query the data with the `predict_qa` method.\n",
    "\n",
    "For our example we'll run inference on Transformer's DistilBERT model which was fine-tuned on the SQUAD dataset:"
   ]
  },
  {
   "cell_type": "code",
   "execution_count": null,
   "metadata": {},
   "outputs": [
    {
     "name": "stderr",
     "output_type": "stream",
     "text": [
      "convert squad examples to features: 100%|██████████| 1/1 [00:00<00:00, 40.63it/s]\n",
      "add example index and unique id: 100%|██████████| 1/1 [00:00<00:00, 5146.39it/s]\n"
     ]
    },
    {
     "data": {
      "text/html": [],
      "text/plain": [
       "<IPython.core.display.HTML object>"
      ]
     },
     "metadata": {},
     "output_type": "display_data"
    }
   ],
   "source": [
    "results = qa_model.predict_qa(query=\"What does Amazon do?\", context=context, n_best_size=5, mini_batch_size=1, model_name_or_path=\"distilbert-base-uncased-distilled-squad\")"
   ]
  },
  {
   "cell_type": "markdown",
   "metadata": {},
   "source": [
    "And we can take a peek at the results:"
   ]
  },
  {
   "cell_type": "code",
   "execution_count": null,
   "metadata": {},
   "outputs": [
    {
     "data": {
      "text/plain": [
       "{'queries': ['What does Amazon do?'],\n",
       " 'best_answers': [OrderedDict([(0,\n",
       "                'disruption of well-established industries'),\n",
       "               (1, 'disruption'),\n",
       "               (2, 'its disruption of well-established industries'),\n",
       "               (3, 'its disruption'),\n",
       "               (4, 'Amazon is known for its disruption')])]}"
      ]
     },
     "execution_count": null,
     "metadata": {},
     "output_type": "execute_result"
    }
   ],
   "source": [
    "results"
   ]
  },
  {
   "cell_type": "code",
   "execution_count": null,
   "metadata": {},
   "outputs": [
    {
     "data": {
      "text/plain": [
       "[OrderedDict([(0, 'disruption of well-established industries'),\n",
       "              (1, 'disruption'),\n",
       "              (2, 'its disruption of well-established industries'),\n",
       "              (3, 'its disruption'),\n",
       "              (4, 'Amazon is known for its disruption')])]"
      ]
     },
     "execution_count": null,
     "metadata": {},
     "output_type": "execute_result"
    }
   ],
   "source": [
    "results['best_answers']"
   ]
  },
  {
   "cell_type": "markdown",
   "metadata": {},
   "source": [
    "We can also pass in multiple questions to provide even more context:"
   ]
  },
  {
   "cell_type": "code",
   "execution_count": null,
   "metadata": {},
   "outputs": [],
   "source": [
    "questions = [\"What does Amazon do?\",\n",
    "             \"What happened July 5, 1994?\",\n",
    "             \"How much did Amazon acquire Whole Foods for?\"]"
   ]
  },
  {
   "cell_type": "markdown",
   "metadata": {},
   "source": [
    "Just make sure to pass in your context multiple times:"
   ]
  },
  {
   "cell_type": "code",
   "execution_count": null,
   "metadata": {},
   "outputs": [
    {
     "name": "stderr",
     "output_type": "stream",
     "text": [
      "convert squad examples to features: 100%|██████████| 3/3 [00:00<00:00, 38.89it/s]\n",
      "add example index and unique id: 100%|██████████| 3/3 [00:00<00:00, 15439.16it/s]\n"
     ]
    },
    {
     "data": {
      "text/html": [],
      "text/plain": [
       "<IPython.core.display.HTML object>"
      ]
     },
     "metadata": {},
     "output_type": "display_data"
    },
    {
     "name": "stdout",
     "output_type": "stream",
     "text": [
      "Warning! `n_best_size` 5 is greater than the actual number of answers 4, only returning 4 answers\n"
     ]
    }
   ],
   "source": [
    "results = qa_model.predict_qa(\n",
    "    query=questions, \n",
    "    context=[context]*3,\n",
    "    mini_batch_size=1, \n",
    "    model_name_or_path=\"distilbert-base-uncased-distilled-squad\"\n",
    ")"
   ]
  },
  {
   "cell_type": "markdown",
   "metadata": {},
   "source": [
    "Our new results:"
   ]
  },
  {
   "cell_type": "code",
   "execution_count": null,
   "metadata": {},
   "outputs": [
    {
     "data": {
      "text/plain": [
       "[OrderedDict([(0, 'disruption of well-established industries'),\n",
       "              (1, 'disruption'),\n",
       "              (2, 'its disruption of well-established industries'),\n",
       "              (3, 'its disruption'),\n",
       "              (4, 'Amazon is known for its disruption')]),\n",
       " OrderedDict([(0, 'Jeff Bezos'),\n",
       "              (1, 'Amazon was founded by Jeff Bezos'),\n",
       "              (2, 'founded by Jeff Bezos'),\n",
       "              (3, 'Bezos')]),\n",
       " OrderedDict([(0, '$13.4 billion'),\n",
       "              (1, '13.4 billion'),\n",
       "              (2, '$13.4 billion,'),\n",
       "              (3, '13.4 billion,'),\n",
       "              (4, '$')])]"
      ]
     },
     "execution_count": null,
     "metadata": {},
     "output_type": "execute_result"
    }
   ],
   "source": [
    "results['best_answers']"
   ]
  },
  {
   "cell_type": "markdown",
   "metadata": {},
   "source": [
    "If we want more information, we can pass in a `DetailLevel` to ask for (you can also just use the strings `low`, `medium`, and `high`).\n",
    "\n",
    "This will instead return a dictionary of various items to look at. By default our results earlier were with the `DetailLevel.Low`"
   ]
  },
  {
   "cell_type": "code",
   "execution_count": null,
   "metadata": {},
   "outputs": [],
   "source": [
    "from adaptnlp import DetailLevel"
   ]
  },
  {
   "cell_type": "code",
   "execution_count": null,
   "metadata": {},
   "outputs": [
    {
     "name": "stderr",
     "output_type": "stream",
     "text": [
      "convert squad examples to features: 100%|██████████| 1/1 [00:00<00:00, 57.00it/s]\n",
      "add example index and unique id: 100%|██████████| 1/1 [00:00<00:00, 5077.85it/s]\n"
     ]
    },
    {
     "data": {
      "text/html": [],
      "text/plain": [
       "<IPython.core.display.HTML object>"
      ]
     },
     "metadata": {},
     "output_type": "display_data"
    }
   ],
   "source": [
    "results = qa_model.predict_qa(\n",
    "    query=\"What does Amazon do?\",\n",
    "    context=context,\n",
    "    model_name_or_path=\"distilbert-base-uncased-distilled-squad\",\n",
    "    detail_level=DetailLevel.Medium\n",
    ")"
   ]
  },
  {
   "cell_type": "code",
   "execution_count": null,
   "metadata": {},
   "outputs": [
    {
     "data": {
      "text/plain": [
       "{'queries': ['What does Amazon do?'],\n",
       " 'best_answers': [OrderedDict([(0,\n",
       "                'disruption of well-established industries'),\n",
       "               (1, 'disruption'),\n",
       "               (2, 'its disruption of well-established industries'),\n",
       "               (3, 'its disruption'),\n",
       "               (4, 'Amazon is known for its disruption')])],\n",
       " 'pairings': OrderedDict([('What does Amazon do?',\n",
       "               (('disruption of well-established industries',\n",
       "                 'disruption',\n",
       "                 'its disruption of well-established industries',\n",
       "                 'its disruption',\n",
       "                 'Amazon is known for its disruption'),\n",
       "                tensor([0.6033, 0.2977, 0.0585, 0.0289, 0.0116])))]),\n",
       " 'context': \"Amazon.com, Inc.[6] (/ˈæməzɒn/), is an American multinational technology company based in Seattle, \\nWashington that focuses on e-commerce, cloud computing, digital streaming, and artificial intelligence. \\nIt is considered one of the Big Four technology companies along with Google, Apple, and Facebook.[7][8][9] \\nAmazon is known for its disruption of well-established industries through technological innovation and mass \\nscale.[10][11][12] It is the world's largest e-commerce marketplace, AI assistant provider, and cloud computing \\nplatform[13] as measured by revenue and market capitalization.[14] Amazon is the largest Internet company by \\nrevenue in the world.[15] It is the second largest private employer in the United States[16] and one of the world's \\nmost valuable companies. Amazon is the second largest technology company by revenue. Amazon was founded by Jeff Bezos \\non July 5, 1994, in Bellevue, Washington. The company initially started as an online marketplace for books but later \\nexpanded to sell electronics, software, video games, apparel, furniture, food, toys, and jewelry. In 2015, Amazon \\nsurpassed Walmart as the most valuable retailer in the United States by market capitalization.[17] In 2017, Amazon \\nacquired Whole Foods Market for $13.4 billion, which vastly increased Amazon's presence as a brick-and-mortar \\nretailer.[18] In 2018, Bezos announced that its two-day delivery service, Amazon Prime, had surpassed 100 million \\nsubscribers worldwide\\n\"}"
      ]
     },
     "execution_count": null,
     "metadata": {},
     "output_type": "execute_result"
    }
   ],
   "source": [
    "results"
   ]
  },
  {
   "cell_type": "markdown",
   "metadata": {},
   "source": [
    "As we can see, the `medium` detail level will return not only our queries and answers, but also a `pairing` with the question, its top answers, and their softmax'd probabilities.\n",
    "\n",
    "Along with this it will return the context passed into the question."
   ]
  },
  {
   "cell_type": "markdown",
   "metadata": {},
   "source": [
    "And now let's look at the highest detail level:"
   ]
  },
  {
   "cell_type": "code",
   "execution_count": null,
   "metadata": {},
   "outputs": [
    {
     "name": "stderr",
     "output_type": "stream",
     "text": [
      "convert squad examples to features: 100%|██████████| 1/1 [00:00<00:00, 53.25it/s]\n",
      "add example index and unique id: 100%|██████████| 1/1 [00:00<00:00, 5592.41it/s]\n"
     ]
    },
    {
     "data": {
      "text/html": [],
      "text/plain": [
       "<IPython.core.display.HTML object>"
      ]
     },
     "metadata": {},
     "output_type": "display_data"
    }
   ],
   "source": [
    "results = qa_model.predict_qa(\n",
    "    query=\"What does Amazon do?\",\n",
    "    context=context,\n",
    "    model_name_or_path=\"distilbert-base-uncased-distilled-squad\",\n",
    "    detail_level='high'\n",
    ")"
   ]
  },
  {
   "cell_type": "code",
   "execution_count": null,
   "metadata": {},
   "outputs": [
    {
     "data": {
      "text/plain": [
       "{'queries': ['What does Amazon do?'],\n",
       " 'best_answers': [OrderedDict([(0,\n",
       "                'disruption of well-established industries'),\n",
       "               (1, 'disruption'),\n",
       "               (2, 'its disruption of well-established industries'),\n",
       "               (3, 'its disruption'),\n",
       "               (4, 'Amazon is known for its disruption')])],\n",
       " 'pairings': OrderedDict([('What does Amazon do?',\n",
       "               (('disruption of well-established industries',\n",
       "                 'disruption',\n",
       "                 'its disruption of well-established industries',\n",
       "                 'its disruption',\n",
       "                 'Amazon is known for its disruption'),\n",
       "                tensor([0.6033, 0.2977, 0.0585, 0.0289, 0.0116])))]),\n",
       " 'context': \"Amazon.com, Inc.[6] (/ˈæməzɒn/), is an American multinational technology company based in Seattle, \\nWashington that focuses on e-commerce, cloud computing, digital streaming, and artificial intelligence. \\nIt is considered one of the Big Four technology companies along with Google, Apple, and Facebook.[7][8][9] \\nAmazon is known for its disruption of well-established industries through technological innovation and mass \\nscale.[10][11][12] It is the world's largest e-commerce marketplace, AI assistant provider, and cloud computing \\nplatform[13] as measured by revenue and market capitalization.[14] Amazon is the largest Internet company by \\nrevenue in the world.[15] It is the second largest private employer in the United States[16] and one of the world's \\nmost valuable companies. Amazon is the second largest technology company by revenue. Amazon was founded by Jeff Bezos \\non July 5, 1994, in Bellevue, Washington. The company initially started as an online marketplace for books but later \\nexpanded to sell electronics, software, video games, apparel, furniture, food, toys, and jewelry. In 2015, Amazon \\nsurpassed Walmart as the most valuable retailer in the United States by market capitalization.[17] In 2017, Amazon \\nacquired Whole Foods Market for $13.4 billion, which vastly increased Amazon's presence as a brick-and-mortar \\nretailer.[18] In 2018, Bezos announced that its two-day delivery service, Amazon Prime, had surpassed 100 million \\nsubscribers worldwide\\n\",\n",
       " 'squad_example': [<transformers.data.processors.squad.SquadExample at 0x7f1d0a7aac40>],\n",
       " 'n_best_json': OrderedDict([('0',\n",
       "               [OrderedDict([('text',\n",
       "                              'disruption of well-established industries'),\n",
       "                             ('probability', 0.6033453867567354),\n",
       "                             ('start_logit', 6.112513),\n",
       "                             ('end_logit', 4.161786),\n",
       "                             ('start_index', 45),\n",
       "                             ('end_index', 48)]),\n",
       "                OrderedDict([('text', 'disruption'),\n",
       "                             ('probability', 0.2976593481770998),\n",
       "                             ('start_logit', 6.112513),\n",
       "                             ('end_logit', 3.4552462),\n",
       "                             ('start_index', 45),\n",
       "                             ('end_index', 45)]),\n",
       "                OrderedDict([('text',\n",
       "                              'its disruption of well-established industries'),\n",
       "                             ('probability', 0.0585262472890109),\n",
       "                             ('start_logit', 3.779499),\n",
       "                             ('end_logit', 4.161786),\n",
       "                             ('start_index', 44),\n",
       "                             ('end_index', 48)]),\n",
       "                OrderedDict([('text', 'its disruption'),\n",
       "                             ('probability', 0.02887381755406165),\n",
       "                             ('start_logit', 3.779499),\n",
       "                             ('end_logit', 3.4552462),\n",
       "                             ('start_index', 44),\n",
       "                             ('end_index', 45)]),\n",
       "                OrderedDict([('text', 'Amazon is known for its disruption'),\n",
       "                             ('probability', 0.011595200223092338),\n",
       "                             ('start_logit', 2.8671546),\n",
       "                             ('end_logit', 3.4552462),\n",
       "                             ('start_index', 40),\n",
       "                             ('end_index', 45)])])])}"
      ]
     },
     "execution_count": null,
     "metadata": {},
     "output_type": "execute_result"
    }
   ],
   "source": [
    "results"
   ]
  },
  {
   "cell_type": "markdown",
   "metadata": {},
   "source": [
    "The `DetailLevel.High` option will also return the `squad_example` result, as well as the original `n_best_json` with detailed information about each predicted option"
   ]
  },
  {
   "cell_type": "code",
   "execution_count": null,
   "metadata": {},
   "outputs": [],
   "source": []
  }
 ],
 "metadata": {
  "kernelspec": {
   "display_name": "Python 3 (ipykernel)",
   "language": "python",
   "name": "python3"
  }
 },
 "nbformat": 4,
 "nbformat_minor": 4
}
