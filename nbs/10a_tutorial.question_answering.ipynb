{
 "cells": [
  {
   "cell_type": "code",
   "execution_count": null,
   "metadata": {},
   "outputs": [],
   "source": [
    "#all_slow"
   ]
  },
  {
   "cell_type": "markdown",
   "metadata": {},
   "source": [
    "# Tutorial: Question Answering\n",
    "> Using the Question Answering API within AdaptNLP"
   ]
  },
  {
   "cell_type": "markdown",
   "metadata": {},
   "source": [
    "## Question Answering\n",
    "\n",
    "Question Answering is the NLP task of producing a legible answer from being provided two text inputs: the context and the question in regards to the context.\n",
    "\n",
    "Examples of Question Answering models are span-based models that output a start and end index that outline the relevant \"answer\" from the context provided. With these models, we can extract answers from various questions and queries regarding any unstructured text.\n",
    "\n",
    "Below, we'll walk through how we can use AdaptNLP's `EasyQuestionAnswering` module to extract span-based text answers from unstructured text using state-of-the-art question answering models."
   ]
  },
  {
   "cell_type": "markdown",
   "metadata": {},
   "source": [
    "## Getting Started"
   ]
  },
  {
   "cell_type": "markdown",
   "metadata": {},
   "source": [
    "You can use `EasyQuestionAnswering` to run span-based question answering models.\n",
    "\n",
    "Providing a `context` and `query`, we get an output of top `n_best_size` answer predictions along with token span indices and probability scores.\n",
    "\n",
    "First we'll import the EasyQuestionAnswering class from AdaptNLP and instantiate it:"
   ]
  },
  {
   "cell_type": "code",
   "execution_count": null,
   "metadata": {},
   "outputs": [],
   "source": [
    "from adaptnlp import EasyQuestionAnswering\n",
    "qa_model = EasyQuestionAnswering()"
   ]
  },
  {
   "cell_type": "markdown",
   "metadata": {},
   "source": [
    "Next we'll write some example context to use:"
   ]
  },
  {
   "cell_type": "code",
   "execution_count": null,
   "metadata": {},
   "outputs": [],
   "source": [
    "context = \"\"\"Amazon.com, Inc.[6] (/ˈæməzɒn/), is an American multinational technology company based in Seattle, \n",
    "Washington that focuses on e-commerce, cloud computing, digital streaming, and artificial intelligence. \n",
    "It is considered one of the Big Four technology companies along with Google, Apple, and Facebook.[7][8][9] \n",
    "Amazon is known for its disruption of well-established industries through technological innovation and mass \n",
    "scale.[10][11][12] It is the world's largest e-commerce marketplace, AI assistant provider, and cloud computing \n",
    "platform[13] as measured by revenue and market capitalization.[14] Amazon is the largest Internet company by \n",
    "revenue in the world.[15] It is the second largest private employer in the United States[16] and one of the world's \n",
    "most valuable companies. Amazon is the second largest technology company by revenue. Amazon was founded by Jeff Bezos \n",
    "on July 5, 1994, in Bellevue, Washington. The company initially started as an online marketplace for books but later \n",
    "expanded to sell electronics, software, video games, apparel, furniture, food, toys, and jewelry. In 2015, Amazon \n",
    "surpassed Walmart as the most valuable retailer in the United States by market capitalization.[17] In 2017, Amazon \n",
    "acquired Whole Foods Market for $13.4 billion, which vastly increased Amazon's presence as a brick-and-mortar \n",
    "retailer.[18] In 2018, Bezos announced that its two-day delivery service, Amazon Prime, had surpassed 100 million \n",
    "subscribers worldwide\n",
    "\"\"\""
   ]
  },
  {
   "cell_type": "markdown",
   "metadata": {},
   "source": [
    "And then finally we'll query the data with the `predict_qa` method.\n",
    "\n",
    "For our example we'll run inference on Transformer's DistilBERT model which was fine-tuned on the SQUAD dataset:"
   ]
  },
  {
   "cell_type": "code",
   "execution_count": null,
   "metadata": {},
   "outputs": [
    {
     "name": "stderr",
     "output_type": "stream",
     "text": [
      "convert squad examples to features: 100%|██████████| 1/1 [00:00<00:00, 35.47it/s]\n",
      "add example index and unique id: 100%|██████████| 1/1 [00:00<00:00, 4702.13it/s]\n"
     ]
    },
    {
     "data": {
      "text/html": [],
      "text/plain": [
       "<IPython.core.display.HTML object>"
      ]
     },
     "metadata": {},
     "output_type": "display_data"
    }
   ],
   "source": [
    "top_prediction, all_nbest_json = qa_model.predict_qa(query=\"What does Amazon do?\", context=context, n_best_size=5, mini_batch_size=1, model_name_or_path=\"distilbert-base-uncased-distilled-squad\")"
   ]
  },
  {
   "cell_type": "markdown",
   "metadata": {},
   "source": [
    "And we can take a peek at the results:"
   ]
  },
  {
   "cell_type": "code",
   "execution_count": null,
   "metadata": {},
   "outputs": [
    {
     "name": "stdout",
     "output_type": "stream",
     "text": [
      "disruption of well-established industries\n"
     ]
    }
   ],
   "source": [
    "print(top_prediction)"
   ]
  },
  {
   "cell_type": "code",
   "execution_count": null,
   "metadata": {},
   "outputs": [
    {
     "data": {
      "text/plain": [
       "[OrderedDict([('text', 'disruption of well-established industries'),\n",
       "              ('probability', 0.6033452454300696),\n",
       "              ('start_logit', 6.112517),\n",
       "              ('end_logit', 4.161786),\n",
       "              ('start_index', 45),\n",
       "              ('end_index', 48)]),\n",
       " OrderedDict([('text', 'disruption'),\n",
       "              ('probability', 0.2976601300650915),\n",
       "              ('start_logit', 6.112517),\n",
       "              ('end_logit', 3.4552488),\n",
       "              ('start_index', 45),\n",
       "              ('end_index', 45)])]"
      ]
     },
     "execution_count": null,
     "metadata": {},
     "output_type": "execute_result"
    }
   ],
   "source": [
    "all_nbest_json[:2]"
   ]
  },
  {
   "cell_type": "markdown",
   "metadata": {},
   "source": [
    "We can also pass in multiple questions to provide even more context:"
   ]
  },
  {
   "cell_type": "code",
   "execution_count": null,
   "metadata": {},
   "outputs": [],
   "source": [
    "questions = [\"What does Amazon do?\",\n",
    "             \"What happened July 5, 1994?\",\n",
    "             \"How much did Amazon acquire Whole Foods for?\"]"
   ]
  },
  {
   "cell_type": "markdown",
   "metadata": {},
   "source": [
    "Just make sure to pass in your context multiple times:"
   ]
  },
  {
   "cell_type": "code",
   "execution_count": null,
   "metadata": {},
   "outputs": [
    {
     "name": "stderr",
     "output_type": "stream",
     "text": [
      "convert squad examples to features: 100%|██████████| 3/3 [00:00<00:00, 46.30it/s]\n",
      "add example index and unique id: 100%|██████████| 3/3 [00:00<00:00, 15847.50it/s]\n"
     ]
    },
    {
     "data": {
      "text/html": [],
      "text/plain": [
       "<IPython.core.display.HTML object>"
      ]
     },
     "metadata": {},
     "output_type": "display_data"
    }
   ],
   "source": [
    "top_prediction, all_nbest_json = qa_model.predict_qa(query=questions, context=[context]*3, n_best_size=5, mini_batch_size=1, model_name_or_path=\"distilbert-base-uncased-distilled-squad\")"
   ]
  },
  {
   "cell_type": "markdown",
   "metadata": {},
   "source": [
    "Our new results:"
   ]
  },
  {
   "cell_type": "code",
   "execution_count": null,
   "metadata": {},
   "outputs": [
    {
     "name": "stdout",
     "output_type": "stream",
     "text": [
      "OrderedDict([('0', 'disruption of well-established industries'), ('1', 'Jeff Bezos'), ('2', '$13.4 billion')])\n"
     ]
    }
   ],
   "source": [
    "print(top_prediction)"
   ]
  },
  {
   "cell_type": "code",
   "execution_count": null,
   "metadata": {},
   "outputs": [
    {
     "data": {
      "text/plain": [
       "[OrderedDict([('text', 'Jeff Bezos'),\n",
       "              ('probability', 0.5127517857731716),\n",
       "              ('start_logit', 2.8254287),\n",
       "              ('end_logit', 0.6868366),\n",
       "              ('start_index', 119),\n",
       "              ('end_index', 120)]),\n",
       " OrderedDict([('text', 'Amazon was founded by Jeff Bezos'),\n",
       "              ('probability', 0.47153574087191846),\n",
       "              ('start_logit', 2.7416315),\n",
       "              ('end_logit', 0.6868366),\n",
       "              ('start_index', 115),\n",
       "              ('end_index', 120)])]"
      ]
     },
     "execution_count": null,
     "metadata": {},
     "output_type": "execute_result"
    }
   ],
   "source": [
    "all_nbest_json['1'][:2]"
   ]
  }
 ],
 "metadata": {
  "kernelspec": {
   "display_name": "Python 3",
   "language": "python",
   "name": "python3"
  }
 },
 "nbformat": 4,
 "nbformat_minor": 4
}
