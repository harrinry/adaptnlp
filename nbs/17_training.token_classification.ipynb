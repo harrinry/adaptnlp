{
 "cells": [
  {
   "cell_type": "code",
   "execution_count": 4,
   "id": "19ffd5a1",
   "metadata": {},
   "outputs": [],
   "source": [
    "#default_exp training.token_classification"
   ]
  },
  {
   "cell_type": "markdown",
   "id": "33013810",
   "metadata": {},
   "source": [
    "# Token Classification Tuning\n",
    "> Data and Tuning API for Token Classification Tasks"
   ]
  },
  {
   "cell_type": "code",
   "execution_count": 1,
   "id": "d13989e7",
   "metadata": {},
   "outputs": [],
   "source": [
    "#hide\n",
    "from nbverbose.showdoc import *\n",
    "from fastcore.test import *"
   ]
  },
  {
   "cell_type": "code",
   "execution_count": 33,
   "id": "c7ec3da7",
   "metadata": {},
   "outputs": [],
   "source": [
    "#export\n",
    "import pandas as pd\n",
    "import numpy as np\n",
    "from fastcore.meta import delegates\n",
    "from fastcore.xtras import Path, range_of\n",
    "\n",
    "from fastai.basics import *\n",
    "from fastai.data.core import DataLoaders\n",
    "from fastai.data.transforms import get_files\n",
    "\n",
    "from adaptnlp.training.core import *\n",
    "from adaptnlp.training.arrow_utils import TextNoNewLineDatasetReader\n",
    "from adaptnlp.inference.token_classification import TransformersTokenTagger, TokenClassificationResult, DetailLevel\n",
    "\n",
    "from transformers import default_data_collator, AutoModelForTokenClassification, AutoTokenizer\n",
    "from datasets import Dataset, load_metric\n",
    "\n",
    "from typing import List\n",
    "from ast import literal_eval"
   ]
  },
  {
   "cell_type": "markdown",
   "id": "4abff10e",
   "metadata": {},
   "source": [
    "## Datasets"
   ]
  },
  {
   "cell_type": "code",
   "execution_count": 3,
   "id": "6b824338",
   "metadata": {},
   "outputs": [],
   "source": [
    "#hide\n",
    "def encode_tags(tags, encodings):\n",
    "    # create an empty array of -100\n",
    "    encoded_labels = np.ones(len(encodings['offset_mapping']),dtype=int) * -100\n",
    "    offset_array = np.array(encodings['offset_mapping'])\n",
    "    \n",
    "    # set labels whose first offset position is 0 and the second is not 0\n",
    "    encoded_labels[(offset_array[:,0] == 0) & (offset_array[:,1] != 0)] = tags\n",
    "        \n",
    "    return list(encoded_labels)"
   ]
  },
  {
   "cell_type": "code",
   "execution_count": 5,
   "id": "9b4dd3b0",
   "metadata": {},
   "outputs": [],
   "source": [
    "#export\n",
    "def _batch_tokenize(batch, tokenizer, tokenize_kwargs):\n",
    "    updated_tags = [] # list of lists\n",
    "    updated_batch = {} # dict of lists\n",
    "    \n",
    "    for tokens, tags in zip(batch['tokens'], batch['ner_tags']):\n",
    "        encodings = tokenizer(tokens, **tokenize_kwargs)\n",
    "        updated_tags.append(encode_tags(tags, encodings))\n",
    "        \n",
    "        for feat in encodings.keys():\n",
    "            if (feat != 'offset_mapping'):\n",
    "                if feat in updated_batch:\n",
    "                    updated_batch[feat].append(encodings[feat])\n",
    "                else:\n",
    "                    updated_batch[feat] = [encodings[feat]]\n",
    "                \n",
    "    updated_batch['labels'] = updated_tags\n",
    "    return updated_batch\n",
    "        "
   ]
  },
  {
   "cell_type": "code",
   "execution_count": 6,
   "id": "bbc482a8",
   "metadata": {},
   "outputs": [],
   "source": [
    "#export\n",
    "class TokenClassificationDatasets(TaskDatasets):\n",
    "    \"\"\"\n",
    "    A set of datasets designed for token classification\n",
    "    \"\"\"\n",
    "    def __init__(\n",
    "        self,\n",
    "        train_dset:Dataset, # A training dataset\n",
    "        valid_dset:Dataset, # A validation dataset\n",
    "        tokenizer_name:str, # The name of a tokenizer\n",
    "        tokenize:bool, # Whether to tokenize immediately\n",
    "        tokenize_kwargs:dict, # kwargs for the tokenize function\n",
    "        auto_kwargs:dict, # AutoTokenizer.from_pretrained kwargs\n",
    "        remove_columns:list, # The columns to remove when tokenizing\n",
    "        entity_mapping:dict, # A mapping of entity names to encoded labels\n",
    "    ):\n",
    "        \n",
    "        \"Constructs TaskDatasets, should not be called explicitly\"\n",
    "        super().__init__(\n",
    "            train_dset,\n",
    "            valid_dset,\n",
    "            tokenizer_name,\n",
    "            tokenize,\n",
    "            _batch_tokenize,\n",
    "            tokenize_kwargs,\n",
    "            auto_kwargs,\n",
    "            remove_columns,\n",
    "        )\n",
    "        self.entity_mapping = entity_mapping\n",
    "        \n",
    "    @classmethod\n",
    "    def from_dfs(\n",
    "        cls,\n",
    "        train_df:pd.DataFrame, # A training dataframe\n",
    "        token_col:str, # The name of the token column\n",
    "        tag_col:str, # The name of the tag column\n",
    "        entity_mapping:dict, # A mapping of entity names to encoded labels\n",
    "        tokenizer_name:str, # The name of the tokenizer\n",
    "        tokenize:bool=True, # Whether to tokenize immediately\n",
    "        valid_df=None, # An optional validation dataframe\n",
    "        split_func=None, # Optionally a splitting function similar to RandomSplitter\n",
    "        split_pct=.2, # What % to split the train_df\n",
    "        tokenize_kwargs:dict={}, # kwargs for the tokenize function\n",
    "        auto_kwargs:dict={} # kwargs for the AutoTokenizer.from_pretrained constructor\n",
    "    ):\n",
    "        \"Builds `TokenClassificationDatasets` from a `DataFrame` or set of `DataFrames`\"\n",
    "        if split_func is None: split_func = RandomSplitter(split_pct)\n",
    "        if valid_df is None:\n",
    "            train_idxs, valid_idxs = split_func(train_df)\n",
    "            valid_df = train_df.iloc[valid_idxs]\n",
    "            train_df = train_df.iloc[train_idxs]\n",
    "            \n",
    "        train_df = train_df[[token_col,tag_col]]\n",
    "        valid_df = valid_df[[token_col,tag_col]]\n",
    "        train_df = train_df.rename(columns={token_col:'tokens', tag_col: 'ner_tags'})\n",
    "        valid_df = valid_df.rename(columns={token_col:'tokens', tag_col: 'ner_tags'})\n",
    "        \n",
    "        train_dset = Dataset.from_dict(train_df.to_dict('list'))\n",
    "        valid_dset = Dataset.from_dict(valid_df.to_dict('list'))\n",
    "        \n",
    "        return cls(\n",
    "            train_dset,\n",
    "            valid_dset,\n",
    "            tokenizer_name,\n",
    "            tokenize,\n",
    "            tokenize_kwargs,\n",
    "            auto_kwargs,\n",
    "            remove_columns=['tokens', 'ner_tags'],\n",
    "            entity_mapping = entity_mapping\n",
    "        )\n",
    "    \n",
    "    @classmethod\n",
    "    def from_csvs(\n",
    "        cls,\n",
    "        train_csv:Path, # A training csv file\n",
    "        token_col:str, # The name of the token column\n",
    "        tag_col:str, # The name of the tag column\n",
    "        entity_mapping:dict, # A mapping of entity names to encoded labels\n",
    "        tokenizer_name:str, # The name of the tokenizer\n",
    "        tokenize:bool=True, # Whether to tokenize immediately\n",
    "        valid_csv:Path=None, # An optional validation csv\n",
    "        split_func=None, # Optionally a splitting function similar to RandomSplitter\n",
    "        split_pct=.2, # What % to split the train df\n",
    "        tokenize_kwargs:dict={}, # kwargs for the tokenize function\n",
    "        auto_kwargs:dict={}, # kwargs for the AutoTokenizer.from_pretrained constructor\n",
    "        **kwargs, # kwargs for `pd.read_csv`\n",
    "    ):\n",
    "        \"Builds `SequenceClassificationDatasets` from a single csv or set of csvs. A convience constructor for `from_dfs`\"\n",
    "        train_df = pd.read_csv(train_csv, **kwargs)\n",
    "        if valid_csv is not None: valid_df = pd.read_csv(valid_csv, **kwargs)\n",
    "        else: valid_df = None\n",
    "        return cls.from_dfs(\n",
    "            train_df,\n",
    "            token_col,\n",
    "            tag_col,\n",
    "            entity_mapping,\n",
    "            tokenizer_name,\n",
    "            tokenize,\n",
    "            valid_df,\n",
    "            split_func,\n",
    "            split_pct,\n",
    "            tokenize_kwargs,\n",
    "            auto_kwargs\n",
    "        )\n",
    "    \n",
    "    \n",
    "    @delegates(DataLoaders)\n",
    "    def dataloaders(\n",
    "        self,\n",
    "        batch_size:int=16, # A batch size\n",
    "        shuffle_train:bool=True, # Whether to shuffle the training dataset\n",
    "        collate_fn:callable=None, # A custom collation function\n",
    "        **kwargs # Torch DataLoader kwargs\n",
    "    ):\n",
    "        \"Build DataLoaders from `self`\"\n",
    "        dls = super().dataloaders(batch_size, shuffle_train, collate_fn, **kwargs)\n",
    "        dls.entity_mapping = self.entity_mapping\n",
    "        return dls"
   ]
  },
  {
   "cell_type": "code",
   "execution_count": 100,
   "id": "protecting-teaching",
   "metadata": {},
   "outputs": [
    {
     "data": {
      "text/markdown": [
       "<h4 id=\"TokenClassificationDatasets.from_dfs\" class=\"doc_header\"><code>TokenClassificationDatasets.from_dfs</code><a href=\"__main__.py#L31\" class=\"source_link\" style=\"float:right\">[source]</a></h4>\n",
       "\n",
       "> <code>TokenClassificationDatasets.from_dfs</code>(**`train_df`**:`DataFrame`, **`token_col`**:`str`, **`tag_col`**:`str`, **`entity_mapping`**:`dict`, **`tokenizer_name`**:`str`, **`tokenize`**:`bool`=*`True`*, **`valid_df`**=*`None`*, **`split_func`**=*`None`*, **`split_pct`**=*`0.2`*, **`tokenize_kwargs`**:`dict`=*`{}`*, **`auto_kwargs`**:`dict`=*`{}`*)\n",
       "\n",
       "Builds `TokenClassificationDatasets` from a `DataFrame` or set of `DataFrames`\n",
       "\n",
       "**Parameters:**\n",
       "\n",
       "\n",
       " - **`train_df`** : *`<class 'pandas.core.frame.DataFrame'>`*\t<p>A training dataframe</p>\n",
       "\n",
       "\n",
       " - **`token_col`** : *`<class 'str'>`*\t<p>The name of the token column</p>\n",
       "\n",
       "\n",
       " - **`tag_col`** : *`<class 'str'>`*\t<p>The name of the tag column</p>\n",
       "\n",
       "\n",
       " - **`entity_mapping`** : *`<class 'dict'>`*\t<p>A mapping of entity names to encoded labels</p>\n",
       "\n",
       "\n",
       " - **`tokenizer_name`** : *`<class 'str'>`*\t<p>The name of the tokenizer</p>\n",
       "\n",
       "\n",
       " - **`tokenize`** : *`<class 'bool'>`*, *optional*\t<p>Whether to tokenize immediately</p>\n",
       "\n",
       "\n",
       " - **`valid_df`** : *`<class 'NoneType'>`*, *optional*\t<p>An optional validation dataframe</p>\n",
       "\n",
       "\n",
       " - **`split_func`** : *`<class 'NoneType'>`*, *optional*\t<p>Optionally a splitting function similar to RandomSplitter</p>\n",
       "\n",
       "\n",
       " - **`split_pct`** : *`<class 'float'>`*, *optional*\t<p>What % to split the train_df</p>\n",
       "\n",
       "\n",
       " - **`tokenize_kwargs`** : *`<class 'dict'>`*, *optional*\t<p>kwargs for the tokenize function</p>\n",
       "\n",
       "\n",
       " - **`auto_kwargs`** : *`<class 'dict'>`*, *optional*\t<p>kwargs for the AutoTokenizer.from_pretrained constructor</p>\n",
       "\n"
      ],
      "text/plain": [
       "<IPython.core.display.Markdown object>"
      ]
     },
     "metadata": {},
     "output_type": "display_data"
    }
   ],
   "source": [
    "show_doc(TokenClassificationDatasets.from_dfs)"
   ]
  },
  {
   "cell_type": "code",
   "execution_count": 101,
   "id": "sensitive-marina",
   "metadata": {},
   "outputs": [
    {
     "data": {
      "text/markdown": [
       "<h4 id=\"TokenClassificationDatasets.from_csvs\" class=\"doc_header\"><code>TokenClassificationDatasets.from_csvs</code><a href=\"__main__.py#L72\" class=\"source_link\" style=\"float:right\">[source]</a></h4>\n",
       "\n",
       "> <code>TokenClassificationDatasets.from_csvs</code>(**`train_csv`**:`Path`, **`token_col`**:`str`, **`tag_col`**:`str`, **`entity_mapping`**:`dict`, **`tokenizer_name`**:`str`, **`tokenize`**:`bool`=*`True`*, **`valid_csv`**:`Path`=*`None`*, **`split_func`**=*`None`*, **`split_pct`**=*`0.2`*, **`tokenize_kwargs`**:`dict`=*`{}`*, **`auto_kwargs`**:`dict`=*`{}`*, **\\*\\*`kwargs`**)\n",
       "\n",
       "Builds [`SequenceClassificationDatasets`](/adaptnlp/training.sequence_classification.html#SequenceClassificationDatasets) from a single csv or set of csvs. A convience constructor for `from_dfs`\n",
       "\n",
       "**Parameters:**\n",
       "\n",
       "\n",
       " - **`train_csv`** : *`<class 'pathlib.Path'>`*\t<p>A training csv file</p>\n",
       "\n",
       "\n",
       " - **`token_col`** : *`<class 'str'>`*\t<p>The name of the token column</p>\n",
       "\n",
       "\n",
       " - **`tag_col`** : *`<class 'str'>`*\t<p>The name of the tag column</p>\n",
       "\n",
       "\n",
       " - **`entity_mapping`** : *`<class 'dict'>`*\t<p>A mapping of entity names to encoded labels</p>\n",
       "\n",
       "\n",
       " - **`tokenizer_name`** : *`<class 'str'>`*\t<p>The name of the tokenizer</p>\n",
       "\n",
       "\n",
       " - **`tokenize`** : *`<class 'bool'>`*, *optional*\t<p>Whether to tokenize immediately</p>\n",
       "\n",
       "\n",
       " - **`valid_csv`** : *`<class 'pathlib.Path'>`*, *optional*\t<p>An optional validation csv</p>\n",
       "\n",
       "\n",
       " - **`split_func`** : *`<class 'NoneType'>`*, *optional*\t<p>Optionally a splitting function similar to RandomSplitter</p>\n",
       "\n",
       "\n",
       " - **`split_pct`** : *`<class 'float'>`*, *optional*\t<p>What % to split the train df</p>\n",
       "\n",
       "\n",
       " - **`tokenize_kwargs`** : *`<class 'dict'>`*, *optional*\t<p>kwargs for the tokenize function</p>\n",
       "\n",
       "\n",
       " - **`auto_kwargs`** : *`<class 'dict'>`*, *optional*\t<p>kwargs for the AutoTokenizer.from_pretrained constructor</p>\n",
       "\n",
       "\n",
       " - **`kwargs`** : *`<class 'inspect._empty'>`*\n"
      ],
      "text/plain": [
       "<IPython.core.display.Markdown object>"
      ]
     },
     "metadata": {},
     "output_type": "display_data"
    }
   ],
   "source": [
    "show_doc(TokenClassificationDatasets.from_csvs)"
   ]
  },
  {
   "cell_type": "markdown",
   "id": "caroline-beads",
   "metadata": {},
   "source": [
    "When passing in kwargs if anything should go to the `tokenize` function they should go to `tokenize_kwargs`, and if it should go to the `Auto` class constructor, they should go to `auto_kwargs`"
   ]
  },
  {
   "cell_type": "code",
   "execution_count": 86,
   "id": "b59f7237",
   "metadata": {},
   "outputs": [
    {
     "name": "stderr",
     "output_type": "stream",
     "text": [
      "Reusing dataset conll2003 (/home/ubuntu/.cache/huggingface/datasets/conll2003/conll2003/1.0.0/40e7cb6bcc374f7c349c83acd1e9352a4f09474eb691f64f364ee62eb65d0ca6)\n"
     ]
    },
    {
     "name": "stdout",
     "output_type": "stream",
     "text": [
      "No value for `max_length` set, automatically adjusting to the size of the model and including truncation\n",
      "Sequence length set to: 512\n"
     ]
    },
    {
     "data": {
      "application/vnd.jupyter.widget-view+json": {
       "model_id": "931c511f6d62475f93f17d26aba1f6e0",
       "version_major": 2,
       "version_minor": 0
      },
      "text/plain": [
       "HBox(children=(FloatProgress(value=0.0, max=12.0), HTML(value='')))"
      ]
     },
     "metadata": {},
     "output_type": "display_data"
    },
    {
     "name": "stdout",
     "output_type": "stream",
     "text": [
      "\n"
     ]
    },
    {
     "data": {
      "application/vnd.jupyter.widget-view+json": {
       "model_id": "742d0372f0c643539f3a144c9ea58dd3",
       "version_major": 2,
       "version_minor": 0
      },
      "text/plain": [
       "HBox(children=(FloatProgress(value=0.0, max=3.0), HTML(value='')))"
      ]
     },
     "metadata": {},
     "output_type": "display_data"
    },
    {
     "name": "stdout",
     "output_type": "stream",
     "text": [
      "\n"
     ]
    }
   ],
   "source": [
    "#hide\n",
    "#slow\n",
    "from datasets import load_dataset\n",
    "\n",
    "# converting original HF dataset to pandas dataframe\n",
    "dsets = load_dataset('conll2003')\n",
    "dset = dsets['train']\n",
    "dset.set_format(type='pandas')\n",
    "df = dset[:]\n",
    "df = df[['tokens', 'ner_tags']]\n",
    "\n",
    "# create entity mapping dict\n",
    "entity_mapping = {\n",
    "    0: 'O',\n",
    "    1: 'B-PER',\n",
    "    2: 'I-PER',\n",
    "    3: 'B-ORG',\n",
    "    4: 'I-ORG',\n",
    "    5: 'B-LOC',\n",
    "    6: 'I-LOC',\n",
    "    7: 'B-MISC',\n",
    "    8: 'I-MISC'\n",
    "}\n",
    "\n",
    "# set tokenizer arguments\n",
    "tokenize_kwargs = {\n",
    "    'truncation':True, \n",
    "    'is_split_into_words':True, \n",
    "    'padding':'max_length', \n",
    "    'return_offsets_mapping':True\n",
    "}\n",
    "\n",
    "tset = TokenClassificationDatasets.from_dfs(\n",
    "    df,\n",
    "    'tokens',\n",
    "    'ner_tags',\n",
    "    entity_mapping,\n",
    "    tokenizer_name = 'distilbert-base-uncased',\n",
    "    tokenize=True,\n",
    "    tokenize_kwargs = tokenize_kwargs\n",
    ")\n",
    "\n",
    "test_eq(len(tset.train), 11233)\n",
    "test_eq(len(tset.valid), 2808)\n",
    "test_eq(tset.train[0].keys(), ['attention_mask', 'input_ids', 'labels'])"
   ]
  },
  {
   "cell_type": "code",
   "execution_count": 87,
   "id": "bizarre-poultry",
   "metadata": {},
   "outputs": [
    {
     "name": "stderr",
     "output_type": "stream",
     "text": [
      "Reusing dataset conll2003 (/home/ubuntu/.cache/huggingface/datasets/conll2003/conll2003/1.0.0/40e7cb6bcc374f7c349c83acd1e9352a4f09474eb691f64f364ee62eb65d0ca6)\n"
     ]
    },
    {
     "name": "stdout",
     "output_type": "stream",
     "text": [
      "No value for `max_length` set, automatically adjusting to the size of the model and including truncation\n",
      "Sequence length set to: 512\n"
     ]
    },
    {
     "data": {
      "application/vnd.jupyter.widget-view+json": {
       "model_id": "67230b4bf1784693babdca45b3e74a40",
       "version_major": 2,
       "version_minor": 0
      },
      "text/plain": [
       "HBox(children=(FloatProgress(value=0.0, max=12.0), HTML(value='')))"
      ]
     },
     "metadata": {},
     "output_type": "display_data"
    },
    {
     "name": "stdout",
     "output_type": "stream",
     "text": [
      "\n"
     ]
    },
    {
     "data": {
      "application/vnd.jupyter.widget-view+json": {
       "model_id": "e3b9f27f786e4733b0820771321efb82",
       "version_major": 2,
       "version_minor": 0
      },
      "text/plain": [
       "HBox(children=(FloatProgress(value=0.0, max=3.0), HTML(value='')))"
      ]
     },
     "metadata": {},
     "output_type": "display_data"
    },
    {
     "name": "stdout",
     "output_type": "stream",
     "text": [
      "\n"
     ]
    }
   ],
   "source": [
    "#hide\n",
    "#slow\n",
    "from datasets import load_dataset\n",
    "\n",
    "# converting original HF dataset to pandas dataframe\n",
    "dsets = load_dataset('conll2003')\n",
    "dset = dsets['train']\n",
    "dset.set_format(type='pandas')\n",
    "df = dset[:]\n",
    "df = df[['tokens', 'ner_tags']]\n",
    "train_df = df.iloc[:11233]\n",
    "valid_df = df.iloc[11233:]\n",
    "\n",
    "# create entity mapping dict\n",
    "entity_mapping = {\n",
    "    0: 'O',\n",
    "    1: 'B-PER',\n",
    "    2: 'I-PER',\n",
    "    3: 'B-ORG',\n",
    "    4: 'I-ORG',\n",
    "    5: 'B-LOC',\n",
    "    6: 'I-LOC',\n",
    "    7: 'B-MISC',\n",
    "    8: 'I-MISC'\n",
    "}\n",
    "\n",
    "# set tokenizer arguments\n",
    "tokenize_kwargs = {\n",
    "    'truncation':True, \n",
    "    'is_split_into_words':True, \n",
    "    'padding':'max_length', \n",
    "    'return_offsets_mapping':True\n",
    "}\n",
    "\n",
    "tset = TokenClassificationDatasets.from_dfs(\n",
    "    train_df,\n",
    "    'tokens',\n",
    "    'ner_tags',\n",
    "    entity_mapping,\n",
    "    valid_df=valid_df,\n",
    "    tokenizer_name = 'distilbert-base-uncased',\n",
    "    tokenize=True,\n",
    "    tokenize_kwargs = tokenize_kwargs\n",
    ")\n",
    "\n",
    "test_eq(len(tset.train), 11233)\n",
    "test_eq(len(tset.valid), 2808)\n",
    "test_eq(tset.train[0].keys(), ['attention_mask', 'input_ids', 'labels'])"
   ]
  },
  {
   "cell_type": "code",
   "execution_count": 96,
   "id": "accessory-equipment",
   "metadata": {},
   "outputs": [
    {
     "name": "stderr",
     "output_type": "stream",
     "text": [
      "Reusing dataset conll2003 (/home/ubuntu/.cache/huggingface/datasets/conll2003/conll2003/1.0.0/40e7cb6bcc374f7c349c83acd1e9352a4f09474eb691f64f364ee62eb65d0ca6)\n"
     ]
    },
    {
     "name": "stdout",
     "output_type": "stream",
     "text": [
      "No value for `max_length` set, automatically adjusting to the size of the model and including truncation\n",
      "Sequence length set to: 512\n"
     ]
    },
    {
     "data": {
      "application/vnd.jupyter.widget-view+json": {
       "model_id": "29d39d3b5cfa47ecaa7320f3ed494236",
       "version_major": 2,
       "version_minor": 0
      },
      "text/plain": [
       "HBox(children=(FloatProgress(value=0.0, max=12.0), HTML(value='')))"
      ]
     },
     "metadata": {},
     "output_type": "display_data"
    },
    {
     "name": "stdout",
     "output_type": "stream",
     "text": [
      "\n"
     ]
    },
    {
     "data": {
      "application/vnd.jupyter.widget-view+json": {
       "model_id": "3d261d5e670248d2821596870378c8d1",
       "version_major": 2,
       "version_minor": 0
      },
      "text/plain": [
       "HBox(children=(FloatProgress(value=0.0, max=3.0), HTML(value='')))"
      ]
     },
     "metadata": {},
     "output_type": "display_data"
    },
    {
     "name": "stdout",
     "output_type": "stream",
     "text": [
      "\n"
     ]
    }
   ],
   "source": [
    "#hide\n",
    "#slow\n",
    "from datasets import load_dataset\n",
    "\n",
    "# converting original HF dataset to csv\n",
    "dsets = load_dataset('conll2003')\n",
    "dset = dsets['train']\n",
    "dset.set_format(type='pandas')\n",
    "df = dset[:]\n",
    "df = df[['tokens', 'ner_tags']]\n",
    "df['ner_tags'] = df['ner_tags'].apply(lambda x : list(x))\n",
    "df['tokens'] = df['tokens'].apply(lambda x : list(x))\n",
    "df.to_csv('/tmp/conll2003.csv', index=False)\n",
    "\n",
    "# create entity mapping dict\n",
    "entity_mapping = {\n",
    "    0: 'O',\n",
    "    1: 'B-PER',\n",
    "    2: 'I-PER',\n",
    "    3: 'B-ORG',\n",
    "    4: 'I-ORG',\n",
    "    5: 'B-LOC',\n",
    "    6: 'I-LOC',\n",
    "    7: 'B-MISC',\n",
    "    8: 'I-MISC'\n",
    "}\n",
    "\n",
    "# set tokenizer arguments\n",
    "tokenize_kwargs = {\n",
    "    'truncation':True, \n",
    "    'is_split_into_words':True, \n",
    "    'padding':'max_length', \n",
    "    'return_offsets_mapping':True\n",
    "}\n",
    "\n",
    "converters={'col1': literal_eval}\n",
    "\n",
    "tset = TokenClassificationDatasets.from_csvs(\n",
    "    '/tmp/conll2003.csv',\n",
    "    'tokens',\n",
    "    'ner_tags',\n",
    "    entity_mapping,\n",
    "    tokenizer_name = 'distilbert-base-uncased',\n",
    "    tokenize=True,\n",
    "    tokenize_kwargs = tokenize_kwargs,\n",
    "    converters={'tokens': literal_eval, 'ner_tags': literal_eval}  # kwarg to pd.read_csv\n",
    ")\n",
    "\n",
    "test_eq(len(tset.train), 11233)\n",
    "test_eq(len(tset.valid), 2808)\n",
    "test_eq(tset.train[0].keys(), ['attention_mask', 'input_ids', 'labels'])"
   ]
  },
  {
   "cell_type": "code",
   "execution_count": 98,
   "id": "american-mainstream",
   "metadata": {},
   "outputs": [
    {
     "name": "stderr",
     "output_type": "stream",
     "text": [
      "Reusing dataset conll2003 (/home/ubuntu/.cache/huggingface/datasets/conll2003/conll2003/1.0.0/40e7cb6bcc374f7c349c83acd1e9352a4f09474eb691f64f364ee62eb65d0ca6)\n"
     ]
    },
    {
     "name": "stdout",
     "output_type": "stream",
     "text": [
      "No value for `max_length` set, automatically adjusting to the size of the model and including truncation\n",
      "Sequence length set to: 512\n"
     ]
    },
    {
     "data": {
      "application/vnd.jupyter.widget-view+json": {
       "model_id": "1b7f339811e94fa582a2d6d2cfc55d52",
       "version_major": 2,
       "version_minor": 0
      },
      "text/plain": [
       "HBox(children=(FloatProgress(value=0.0, max=12.0), HTML(value='')))"
      ]
     },
     "metadata": {},
     "output_type": "display_data"
    },
    {
     "name": "stdout",
     "output_type": "stream",
     "text": [
      "\n"
     ]
    },
    {
     "data": {
      "application/vnd.jupyter.widget-view+json": {
       "model_id": "54f7ea1074834915bb99089ffcabeab2",
       "version_major": 2,
       "version_minor": 0
      },
      "text/plain": [
       "HBox(children=(FloatProgress(value=0.0, max=3.0), HTML(value='')))"
      ]
     },
     "metadata": {},
     "output_type": "display_data"
    },
    {
     "name": "stdout",
     "output_type": "stream",
     "text": [
      "\n"
     ]
    }
   ],
   "source": [
    "#hide\n",
    "#slow\n",
    "from datasets import load_dataset\n",
    "\n",
    "# converting original HF dataset to csv\n",
    "dsets = load_dataset('conll2003')\n",
    "dset = dsets['train']\n",
    "dset.set_format(type='pandas')\n",
    "df = dset[:]\n",
    "df = df[['tokens', 'ner_tags']]\n",
    "df['ner_tags'] = df['ner_tags'].apply(lambda x : list(x))\n",
    "df['tokens'] = df['tokens'].apply(lambda x : list(x))\n",
    "train_df = df.iloc[:11233]\n",
    "valid_df = df.iloc[11233:]\n",
    "train_df.to_csv('/tmp/train.csv', index=False)\n",
    "valid_df.to_csv('/tmp/valid.csv', index=False)\n",
    "\n",
    "# create entity mapping dict\n",
    "entity_mapping = {\n",
    "    0: 'O',\n",
    "    1: 'B-PER',\n",
    "    2: 'I-PER',\n",
    "    3: 'B-ORG',\n",
    "    4: 'I-ORG',\n",
    "    5: 'B-LOC',\n",
    "    6: 'I-LOC',\n",
    "    7: 'B-MISC',\n",
    "    8: 'I-MISC'\n",
    "}\n",
    "\n",
    "# set tokenizer arguments\n",
    "tokenize_kwargs = {\n",
    "    'truncation':True, \n",
    "    'is_split_into_words':True, \n",
    "    'padding':'max_length', \n",
    "    'return_offsets_mapping':True\n",
    "}\n",
    "\n",
    "converters={'col1': literal_eval}\n",
    "\n",
    "tset = TokenClassificationDatasets.from_csvs(\n",
    "    '/tmp/train.csv',\n",
    "    'tokens',\n",
    "    'ner_tags',\n",
    "    entity_mapping,\n",
    "    valid_csv = '/tmp/valid.csv',\n",
    "    tokenizer_name = 'distilbert-base-uncased',\n",
    "    tokenize=True,\n",
    "    tokenize_kwargs = tokenize_kwargs,\n",
    "    converters={'tokens': literal_eval, 'ner_tags': literal_eval}  # kwarg to pd.read_csv\n",
    ")\n",
    "\n",
    "test_eq(len(tset.train), 11233)\n",
    "test_eq(len(tset.valid), 2808)\n",
    "test_eq(tset.train[0].keys(), ['attention_mask', 'input_ids', 'labels'])"
   ]
  },
  {
   "cell_type": "markdown",
   "id": "243cb632",
   "metadata": {},
   "source": [
    "## Token Classification Tuner"
   ]
  },
  {
   "cell_type": "code",
   "execution_count": 8,
   "id": "amateur-click",
   "metadata": {},
   "outputs": [],
   "source": [
    "#hide\n",
    "class NERMetrics():\n",
    "    \"\"\"\n",
    "    Computes multi-label classification metrics for NER, using seqeval metric from HuggingFace\n",
    "    \"\"\"\n",
    "    def __init__(\n",
    "        self,\n",
    "        dls:DataLoaders, # A set of DataLoaders\n",
    "        entity_mapping:dict=None, # A mapping of entity names to encoded labels\n",
    "    ):\n",
    "        if hasattr(dls, 'entity_mapping'): self.label_list = list(dls.entity_mapping.values())\n",
    "        else: raise ValueError('Could not extrapolate labels list from DataLoaders, please pass it in as a param')\n",
    "            \n",
    "        self.metric = load_metric(\"seqeval\")\n",
    "    \n",
    "    # source: https://colab.research.google.com/github/huggingface/notebooks/blob/master/examples/token_classification.ipynb#scrollTo=-1bS-ATSqPq2\n",
    "    def compute_metrics(self, preds, labels):\n",
    "        predictions = preds.argmax(2)\n",
    "\n",
    "        # Remove ignored index (special tokens)\n",
    "        true_predictions = [\n",
    "            [self.label_list[p] for (p, l) in zip(prediction, label) if l != -100]\n",
    "            for prediction, label in zip(predictions, labels)\n",
    "        ]\n",
    "        true_labels = [\n",
    "            [self.label_list[l] for (p, l) in zip(prediction, label) if l != -100]\n",
    "            for prediction, label in zip(predictions, labels)\n",
    "        ]\n",
    "\n",
    "        results = self.metric.compute(predictions=true_predictions, references=true_labels)\n",
    "        return results\n",
    "    \n",
    "    def accuracy(self, preds, labels):\n",
    "        results = self.compute_metrics(preds, labels)\n",
    "        return results['overall_accuracy']\n",
    "    \n",
    "    def precision(self, preds, labels):\n",
    "        results = self.compute_metrics(preds, labels)\n",
    "        return results['overall_precision']\n",
    "    \n",
    "    def recall(self, preds, labels):\n",
    "        results = self.compute_metrics(preds, labels)\n",
    "        return results['overall_recall']\n",
    "    \n",
    "    def f1(self, preds, labels):\n",
    "        results = self.compute_metrics(preds, labels)\n",
    "        return results['overall_f1']"
   ]
  },
  {
   "cell_type": "code",
   "execution_count": 9,
   "id": "0796d9a5",
   "metadata": {},
   "outputs": [],
   "source": [
    "#export\n",
    "class TokenClassificationTuner(AdaptiveTuner):\n",
    "    \"\"\"\n",
    "    An `AdaptiveTuner` with good defaults for Token Classification tasks\n",
    "    \n",
    "    **Valid kwargs and defaults:**\n",
    "      - `lr`:float = 0.001\n",
    "      - `splitter`:function = `trainable_params`\n",
    "      - `cbs`:list = None\n",
    "      - `path`:Path = None\n",
    "      - `model_dir`:Path = 'models'\n",
    "      - `wd`:float = None\n",
    "      - `wd_bn_bias`:bool = False\n",
    "      - `train_bn`:bool = True\n",
    "      - `moms`: tuple(float) = (0.95, 0.85, 0.95)\n",
    "    \n",
    "    \"\"\"\n",
    "    def __init__(\n",
    "        self,\n",
    "        dls:DataLoaders, # A set of DataLoaders\n",
    "        model_name:str, # A HuggingFace model\n",
    "        tokenizer = None, # A HuggingFace tokenizer\n",
    "        loss_func = CrossEntropyLossFlat(), # A loss function\n",
    "        metrics = ['accuracy', 'f1'], # Metrics to monitor the training with\n",
    "        opt_func = Adam, # A fastai or torch Optimizer\n",
    "        additional_cbs = None, # Additional Callbacks to have always tied to the Tuner\n",
    "        expose_fastai_api = False, # Whether to expose the fastai API\n",
    "        num_classes:int=None, # The number of classes\n",
    "        **kwargs, # kwargs for `Learner.__init__`\n",
    "    ):\n",
    "        additional_cbs = listify(additional_cbs)\n",
    "        for arg in 'dls,model,loss_func,metrics,opt_func,cbs,expose_fastai'.split(','): \n",
    "            if arg in kwargs.keys(): kwargs.pop(arg) # Pop all existing kwargs\n",
    "        if hasattr(dls, 'entity_mapping'): num_classes = len(dls.entity_mapping)\n",
    "        if num_classes is None: raise ValueError('Could not extrapolate number of classes, please pass it in as a param')\n",
    "        model = AutoModelForTokenClassification.from_pretrained(model_name, num_labels=num_classes, id2label=entity_mapping)\n",
    "        if tokenizer is None: tokenizer = AutoTokenizer.from_pretrained(model_name)\n",
    "        self.num_classes = num_classes\n",
    "        \n",
    "        NER_metrics = NERMetrics(dls)\n",
    "        new_metrics = []\n",
    "        for met in metrics:\n",
    "            if met == 'accuracy':\n",
    "                new_metrics.append(NER_metrics.accuracy)\n",
    "            elif met == 'precision':\n",
    "                new_metrics.append(NER_metrics.precision)\n",
    "            elif met == 'recall':\n",
    "                new_metrics.append(NER_metrics.recall)\n",
    "            elif met == 'f1':\n",
    "                new_metrics.append(NER_metrics.f1)\n",
    "            else:\n",
    "                raise ValueError('Metric not supported. Please enter one or more of the following: accuracy, precision, recall, f1')\n",
    "        \n",
    "        super().__init__(\n",
    "            expose_fastai_api,\n",
    "            dls = dls, \n",
    "            model = model, \n",
    "            tokenizer = tokenizer,\n",
    "            loss_func = loss_func, \n",
    "            metrics = new_metrics, \n",
    "            opt_func = opt_func, \n",
    "            cbs=additional_cbs, \n",
    "            **kwargs\n",
    "        )\n",
    "        \n",
    "    def predict(\n",
    "        self,\n",
    "        text:Union[List[str], str], # Some text or list of texts to do inference with\n",
    "        bs:int=64, # A batch size to use for multiple texts\n",
    "        grouped_entities: bool = True, # Return whole entity span strings\n",
    "        detail_level:DetailLevel = DetailLevel.Low, # A detail level to return on the predictions\n",
    "    ) -> dict: # A dictionary of filtered predictions\n",
    "        \"Predict some `text` for token classification with the currently loaded model\"\n",
    "        if getattr(self, '_inferencer', None) is None: self._inferencer = TransformersTokenTagger(self.tokenizer, self.model)\n",
    "        \n",
    "        preds = self._inferencer.predict(text, bs, grouped_entities, detail_level)\n",
    "        \n",
    "        return preds\n",
    "        "
   ]
  },
  {
   "cell_type": "code",
   "execution_count": 99,
   "id": "qualified-dollar",
   "metadata": {},
   "outputs": [
    {
     "data": {
      "text/markdown": [
       "<h4 id=\"TokenClassificationTuner.predict\" class=\"doc_header\"><code>TokenClassificationTuner.predict</code><a href=\"__main__.py#L66\" class=\"source_link\" style=\"float:right\">[source]</a></h4>\n",
       "\n",
       "> <code>TokenClassificationTuner.predict</code>(**`text`**:`Union`\\[`List`\\[`str`\\], `str`\\], **`bs`**:`int`=*`64`*, **`grouped_entities`**:`bool`=*`True`*, **`detail_level`**:`DetailLevel`=*`'low'`*)\n",
       "\n",
       "Predict some `text` for token classification with the currently loaded model\n",
       "\n",
       "**Parameters:**\n",
       "\n",
       "\n",
       " - **`text`** : *`typing.Union[typing.List[str], str]`*\t<p>Some text or list of texts to do inference with</p>\n",
       "\n",
       "\n",
       " - **`bs`** : *`<class 'int'>`*, *optional*\t<p>A batch size to use for multiple texts</p>\n",
       "\n",
       "\n",
       " - **`grouped_entities`** : *`<class 'bool'>`*, *optional*\t<p>Return whole entity span strings</p>\n",
       "\n",
       "\n",
       " - **`detail_level`** : *`<class 'fastcore.basics.DetailLevel'>`*, *optional*\t<p>A detail level to return on the predictions</p>\n",
       "\n",
       "\n",
       "\n",
       "**Returns**:\n",
       "\t\n",
       " * *`<class 'dict'>`*\t<p>A dictionary of filtered predictions</p>\n",
       "\n"
      ],
      "text/plain": [
       "<IPython.core.display.Markdown object>"
      ]
     },
     "metadata": {},
     "output_type": "display_data"
    }
   ],
   "source": [
    "show_doc(TokenClassificationTuner.predict)"
   ]
  },
  {
   "cell_type": "code",
   "execution_count": 10,
   "id": "cb42122f",
   "metadata": {},
   "outputs": [
    {
     "name": "stderr",
     "output_type": "stream",
     "text": [
      "Some weights of the model checkpoint at distilbert-base-uncased were not used when initializing DistilBertForTokenClassification: ['vocab_layer_norm.bias', 'vocab_projector.bias', 'vocab_transform.weight', 'vocab_layer_norm.weight', 'vocab_transform.bias', 'vocab_projector.weight']\n",
      "- This IS expected if you are initializing DistilBertForTokenClassification from the checkpoint of a model trained on another task or with another architecture (e.g. initializing a BertForSequenceClassification model from a BertForPreTraining model).\n",
      "- This IS NOT expected if you are initializing DistilBertForTokenClassification from the checkpoint of a model that you expect to be exactly identical (initializing a BertForSequenceClassification model from a BertForSequenceClassification model).\n",
      "Some weights of DistilBertForTokenClassification were not initialized from the model checkpoint at distilbert-base-uncased and are newly initialized: ['classifier.weight', 'classifier.bias']\n",
      "You should probably TRAIN this model on a down-stream task to be able to use it for predictions and inference.\n"
     ]
    }
   ],
   "source": [
    "dls = tset.dataloaders()\n",
    "\n",
    "tuner = TokenClassificationTuner(dls, 'distilbert-base-uncased', metrics=['accuracy',\n",
    "                                                                         'precision',\n",
    "                                                                         'recall',\n",
    "                                                                         'f1'])"
   ]
  },
  {
   "cell_type": "code",
   "execution_count": 12,
   "id": "342afcf2",
   "metadata": {},
   "outputs": [
    {
     "name": "stdout",
     "output_type": "stream",
     "text": [
      "█\r"
     ]
    },
    {
     "data": {
      "image/png": "[encoded data removed]",
      "text/plain": [
       "<Figure size 432x288 with 1 Axes>"
      ]
     },
     "metadata": {
      "needs_background": "light"
     },
     "output_type": "display_data"
    }
   ],
   "source": [
    "lr = tuner.lr_find()"
   ]
  },
  {
   "cell_type": "code",
   "execution_count": 11,
   "id": "bc6570de",
   "metadata": {},
   "outputs": [
    {
     "name": "stdout",
     "output_type": "stream",
     "text": [
      "epoch     train_loss  valid_loss  accuracy  precision  recall    f1        time    \n",
      "█\r"
     ]
    },
    {
     "name": "stderr",
     "output_type": "stream",
     "text": [
      "/home/ubuntu/anaconda3/envs/pytorch_p36/lib/python3.6/site-packages/seqeval/metrics/v1.py:57: UndefinedMetricWarning: Precision and F-score are ill-defined and being set to 0.0 in labels with no predicted samples. Use `zero_division` parameter to control this behavior.\n",
      "  _warn_prf(average, modifier, msg_start, len(result))\n"
     ]
    },
    {
     "name": "stdout",
     "output_type": "stream",
     "text": [
      "0         0.069511    0.075891    0.979530  0.900202   0.890779  0.894904  14:16     \n",
      "█\r"
     ]
    },
    {
     "name": "stderr",
     "output_type": "stream",
     "text": [
      "/home/ubuntu/anaconda3/envs/pytorch_p36/lib/python3.6/site-packages/seqeval/metrics/v1.py:57: UndefinedMetricWarning: Recall and F-score are ill-defined and being set to 0.0 in labels with no true samples. Use `zero_division` parameter to control this behavior.\n",
      "  _warn_prf(average, modifier, msg_start, len(result))\n"
     ]
    },
    {
     "name": "stdout",
     "output_type": "stream",
     "text": [
      "1         0.038251    0.050270    0.985926  0.932494   0.930558  0.931157  14:10     \n",
      "2         0.015244    0.049998    0.987354  0.937108   0.943109  0.939752  14:26     \n"
     ]
    }
   ],
   "source": [
    "from adaptnlp import Strategy\n",
    "\n",
    "tuner.tune(3, lr=lr, strategy=Strategy.OneCycle)"
   ]
  },
  {
   "cell_type": "code",
   "execution_count": 16,
   "id": "7de1b238",
   "metadata": {},
   "outputs": [
    {
     "name": "stdout",
     "output_type": "stream",
     "text": [
      "█\r"
     ]
    },
    {
     "data": {
      "text/plain": [
       "OrderedDict([('tags',\n",
       "              [[{'entity': 'B-ORG',\n",
       "                 'score': 0.9966050982475281,\n",
       "                 'word': 'nov'},\n",
       "                {'entity': 'I-ORG',\n",
       "                 'score': 0.9790855646133423,\n",
       "                 'word': '##etta'},\n",
       "                {'entity': 'B-LOC',\n",
       "                 'score': 0.9930502772331238,\n",
       "                 'word': 'mclean'}]])])"
      ]
     },
     "execution_count": 16,
     "metadata": {},
     "output_type": "execute_result"
    }
   ],
   "source": [
    "tuner.predict('The company Novetta is based in McLean, Virginia')"
   ]
  },
  {
   "cell_type": "code",
   "execution_count": null,
   "id": "hollywood-vietnamese",
   "metadata": {},
   "outputs": [],
   "source": []
  }
 ],
 "metadata": {
  "kernelspec": {
   "display_name": "Python 3",
   "language": "python",
   "name": "python3"
  },
  "language_info": {
   "codemirror_mode": {
    "name": "ipython",
    "version": 3
   },
   "file_extension": ".py",
   "mimetype": "text/x-python",
   "name": "python",
   "nbconvert_exporter": "python",
   "pygments_lexer": "ipython3",
   "version": "3.6.13"
  }
 },
 "nbformat": 4,
 "nbformat_minor": 5
}
