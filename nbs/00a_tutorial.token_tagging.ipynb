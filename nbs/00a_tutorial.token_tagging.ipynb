{
 "cells": [
  {
   "cell_type": "code",
   "execution_count": 1,
   "metadata": {},
   "outputs": [],
   "source": [
    "from adaptnlp import EasyTokenTagger\n",
    "from pprint import pprint"
   ]
  },
  {
   "cell_type": "markdown",
   "metadata": {},
   "source": [
    "# Examples of using EasyTokenTagger"
   ]
  },
  {
   "cell_type": "code",
   "execution_count": 2,
   "metadata": {},
   "outputs": [],
   "source": [
    "# Set example text and instantiate tagger instance\n",
    "example_text = '''Novetta Solutions is the best. Albert Einstein used to be employed at Novetta Solutions. \n",
    "The Wright brothers loved to visit the JBF headquarters, and they would have a chat with Albert.'''\n",
    "tagger = EasyTokenTagger()"
   ]
  },
  {
   "cell_type": "markdown",
   "metadata": {},
   "source": [
    "# With Transformers"
   ]
  },
  {
   "cell_type": "code",
   "execution_count": 3,
   "metadata": {},
   "outputs": [
    {
     "name": "stdout",
     "output_type": "stream",
     "text": [
      "2020-08-31 04:23:50,022 loading file sshleifer/tiny-dbmdz-bert-large-cased-finetuned-conll03-english\n"
     ]
    },
    {
     "name": "stderr",
     "output_type": "stream",
     "text": [
      "Predicting text: 100%|██████████| 1/1 [00:00<00:00, 164.10it/s]\n"
     ]
    }
   ],
   "source": [
    "sentences = tagger.tag_text(text=example_text, model_name_or_path=\"sshleifer/tiny-dbmdz-bert-large-cased-finetuned-conll03-english\")"
   ]
  },
  {
   "cell_type": "code",
   "execution_count": 4,
   "metadata": {},
   "outputs": [
    {
     "name": "stdout",
     "output_type": "stream",
     "text": [
      "List string outputs of tags:\n",
      "\n",
      "[{'entity_group': 'I-LOC',\n",
      "  'offsets': (-1, 2),\n",
      "  'score': 0.11716681718826294,\n",
      "  'word': '[CLS] Novetta'},\n",
      " {'entity_group': 'B-ORG',\n",
      "  'offsets': (2, 3),\n",
      "  'score': 0.11758644878864288,\n",
      "  'word': 'Solutions'},\n",
      " {'entity_group': 'I-LOC',\n",
      "  'offsets': (3, 5),\n",
      "  'score': 0.11716681718826294,\n",
      "  'word': 'is the'},\n",
      " {'entity_group': 'B-ORG',\n",
      "  'offsets': (5, 6),\n",
      "  'score': 0.11758644878864288,\n",
      "  'word': 'best'},\n",
      " {'entity_group': 'I-LOC',\n",
      "  'offsets': (6, 13),\n",
      "  'score': 0.11716681718826294,\n",
      "  'word': '. Albert Einstein used to be employed'},\n",
      " {'entity_group': 'B-ORG',\n",
      "  'offsets': (13, 15),\n",
      "  'score': 0.11758644878864288,\n",
      "  'word': 'at Nov'},\n",
      " {'entity_group': 'I-LOC',\n",
      "  'offsets': (15, 24),\n",
      "  'score': 0.11716681718826294,\n",
      "  'word': '##etta Solutions . The Wright brothers loved to visit'},\n",
      " {'entity_group': 'B-ORG',\n",
      "  'offsets': (24, 25),\n",
      "  'score': 0.11758644878864288,\n",
      "  'word': 'the'},\n",
      " {'entity_group': 'I-LOC',\n",
      "  'offsets': (25, 27),\n",
      "  'score': 0.11716681718826294,\n",
      "  'word': 'JBF'},\n",
      " {'entity_group': 'B-ORG',\n",
      "  'offsets': (27, 28),\n",
      "  'score': 0.11758644878864288,\n",
      "  'word': 'headquarters'},\n",
      " {'entity_group': 'I-LOC',\n",
      "  'offsets': (28, 31),\n",
      "  'score': 0.11716681718826294,\n",
      "  'word': ', and they'},\n",
      " {'entity_group': 'B-ORG',\n",
      "  'offsets': (31, 32),\n",
      "  'score': 0.11758644878864288,\n",
      "  'word': 'would'},\n",
      " {'entity_group': 'I-LOC',\n",
      "  'offsets': (32, 39),\n",
      "  'score': 0.11716681718826294,\n",
      "  'word': 'have a chat with Albert . [SEP]'}]\n"
     ]
    }
   ],
   "source": [
    "# See Results\n",
    "print(\"List string outputs of tags:\\n\")\n",
    "for sen in sentences:\n",
    "    pprint(sen)"
   ]
  },
  {
   "cell_type": "markdown",
   "metadata": {},
   "source": [
    "# With Flair "
   ]
  },
  {
   "cell_type": "markdown",
   "metadata": {},
   "source": [
    "## Named Entity Recognition"
   ]
  },
  {
   "cell_type": "code",
   "execution_count": 5,
   "metadata": {},
   "outputs": [
    {
     "name": "stdout",
     "output_type": "stream",
     "text": [
      "2020-08-31 04:23:55,368 loading file /home/andrew/.flair/models/en-ner-ontonotes-v0.4.pt\n"
     ]
    }
   ],
   "source": [
    "# Tag the string\n",
    "sentences = tagger.tag_text(text = example_text, model_name_or_path = \"ner-ontonotes\")"
   ]
  },
  {
   "cell_type": "code",
   "execution_count": 6,
   "metadata": {},
   "outputs": [
    {
     "name": "stdout",
     "output_type": "stream",
     "text": [
      "List string outputs of tags:\n",
      "\n",
      "Novetta <B-ORG> Solutions <E-ORG> is the best . Albert <B-PERSON> Einstein <E-PERSON> used to be employed at Novetta <B-ORG> Solutions <E-ORG> . The Wright <S-PERSON> brothers loved to visit the JBF <S-ORG> headquarters , and they would have a chat with Albert <S-PERSON> .\n"
     ]
    }
   ],
   "source": [
    "# See Results\n",
    "print(\"List string outputs of tags:\\n\")\n",
    "for sen in sentences:\n",
    "    print(sen.to_tagged_string())"
   ]
  },
  {
   "cell_type": "code",
   "execution_count": 7,
   "metadata": {},
   "outputs": [
    {
     "name": "stdout",
     "output_type": "stream",
     "text": [
      "List entities tagged:\n",
      "\n",
      "Span [1,2]: \"Novetta Solutions\"   [− Labels: ORG (0.9644)]\n",
      "Span [7,8]: \"Albert Einstein\"   [− Labels: PERSON (0.9969)]\n",
      "Span [14,15]: \"Novetta Solutions\"   [− Labels: ORG (0.9796)]\n",
      "Span [18]: \"Wright\"   [− Labels: PERSON (0.9995)]\n",
      "Span [24]: \"JBF\"   [− Labels: ORG (0.9898)]\n",
      "Span [34]: \"Albert\"   [− Labels: PERSON (0.9999)]\n"
     ]
    }
   ],
   "source": [
    "print(\"List entities tagged:\\n\")\n",
    "for sen in sentences:\n",
    "    for entity in sen.get_spans(\"ner\"):\n",
    "        print(entity)"
   ]
  },
  {
   "cell_type": "code",
   "execution_count": 8,
   "metadata": {},
   "outputs": [
    {
     "name": "stdout",
     "output_type": "stream",
     "text": [
      "Get json of tagged information:\n",
      "\n",
      "{'entities': [{'end_pos': 17,\n",
      "               'labels': [ORG (0.9644)],\n",
      "               'start_pos': 0,\n",
      "               'text': 'Novetta Solutions'},\n",
      "              {'end_pos': 46,\n",
      "               'labels': [PERSON (0.9969)],\n",
      "               'start_pos': 31,\n",
      "               'text': 'Albert Einstein'},\n",
      "              {'end_pos': 87,\n",
      "               'labels': [ORG (0.9796)],\n",
      "               'start_pos': 70,\n",
      "               'text': 'Novetta Solutions'},\n",
      "              {'end_pos': 100,\n",
      "               'labels': [PERSON (0.9995)],\n",
      "               'start_pos': 94,\n",
      "               'text': 'Wright'},\n",
      "              {'end_pos': 132,\n",
      "               'labels': [ORG (0.9898)],\n",
      "               'start_pos': 129,\n",
      "               'text': 'JBF'},\n",
      "              {'end_pos': 185,\n",
      "               'labels': [PERSON (0.9999)],\n",
      "               'start_pos': 179,\n",
      "               'text': 'Albert'}],\n",
      " 'labels': [],\n",
      " 'text': 'Novetta Solutions is the best. Albert Einstein used to be employed '\n",
      "         'at Novetta Solutions.  The Wright brothers loved to visit the JBF '\n",
      "         'headquarters, and they would have a chat with Albert.'}\n"
     ]
    }
   ],
   "source": [
    "print(\"Get json of tagged information:\\n\")\n",
    "for sen in sentences:\n",
    "    pprint(sen.to_dict(tag_type=\"ner\"))"
   ]
  },
  {
   "cell_type": "markdown",
   "metadata": {},
   "source": [
    "## Parts of Speech"
   ]
  },
  {
   "cell_type": "code",
   "execution_count": 9,
   "metadata": {},
   "outputs": [
    {
     "name": "stdout",
     "output_type": "stream",
     "text": [
      "2020-08-31 04:23:58,151 loading file /home/andrew/.flair/models/en-pos-ontonotes-v0.5.pt\n"
     ]
    }
   ],
   "source": [
    "sentences = tagger.tag_text(text = example_text, model_name_or_path = \"pos\")"
   ]
  },
  {
   "cell_type": "code",
   "execution_count": 10,
   "metadata": {},
   "outputs": [
    {
     "name": "stdout",
     "output_type": "stream",
     "text": [
      "List string outputs of tags:\n",
      "\n",
      "Novetta <NNP> Solutions <NNPS> is <VBZ> the <DT> best <JJS> . <.> Albert <NNP> Einstein <NNP> used <VBD> to <TO> be <VB> employed <VBN> at <IN> Novetta <NNP> Solutions <NNPS> . <.> The <DT> Wright <NNP> brothers <NNS> loved <VBD> to <TO> visit <VB> the <DT> JBF <NNP> headquarters <NN> , <,> and <CC> they <PRP> would <MD> have <VB> a <DT> chat <NN> with <IN> Albert <NNP> . <.>\n"
     ]
    }
   ],
   "source": [
    "# See Results\n",
    "print(\"List string outputs of tags:\\n\")\n",
    "for sen in sentences:\n",
    "    print(sen.to_tagged_string())"
   ]
  },
  {
   "cell_type": "code",
   "execution_count": 11,
   "metadata": {},
   "outputs": [
    {
     "name": "stdout",
     "output_type": "stream",
     "text": [
      "List text/entities tagged:\n",
      "\n",
      "Span [1]: \"Novetta\"   [− Labels: NNP (0.9998)]\n",
      "Span [2]: \"Solutions\"   [− Labels: NNPS (0.8235)]\n",
      "Span [3]: \"is\"   [− Labels: VBZ (1.0)]\n",
      "Span [4]: \"the\"   [− Labels: DT (1.0)]\n",
      "Span [5]: \"best\"   [− Labels: JJS (0.9996)]\n",
      "Span [6]: \".\"   [− Labels: . (0.9995)]\n",
      "Span [7]: \"Albert\"   [− Labels: NNP (1.0)]\n",
      "Span [8]: \"Einstein\"   [− Labels: NNP (1.0)]\n",
      "Span [9]: \"used\"   [− Labels: VBD (0.9981)]\n",
      "Span [10]: \"to\"   [− Labels: TO (0.9999)]\n",
      "Span [11]: \"be\"   [− Labels: VB (1.0)]\n",
      "Span [12]: \"employed\"   [− Labels: VBN (0.9971)]\n",
      "Span [13]: \"at\"   [− Labels: IN (1.0)]\n",
      "Span [14]: \"Novetta\"   [− Labels: NNP (1.0)]\n",
      "Span [15]: \"Solutions\"   [− Labels: NNPS (0.6877)]\n",
      "Span [16]: \".\"   [− Labels: . (0.5807)]\n",
      "Span [17]: \"The\"   [− Labels: DT (1.0)]\n",
      "Span [18]: \"Wright\"   [− Labels: NNP (0.9999)]\n",
      "Span [19]: \"brothers\"   [− Labels: NNS (1.0)]\n",
      "Span [20]: \"loved\"   [− Labels: VBD (1.0)]\n",
      "Span [21]: \"to\"   [− Labels: TO (0.9994)]\n",
      "Span [22]: \"visit\"   [− Labels: VB (1.0)]\n",
      "Span [23]: \"the\"   [− Labels: DT (1.0)]\n",
      "Span [24]: \"JBF\"   [− Labels: NNP (1.0)]\n",
      "Span [25]: \"headquarters\"   [− Labels: NN (0.9325)]\n",
      "Span [26]: \",\"   [− Labels: , (1.0)]\n",
      "Span [27]: \"and\"   [− Labels: CC (1.0)]\n",
      "Span [28]: \"they\"   [− Labels: PRP (1.0)]\n",
      "Span [29]: \"would\"   [− Labels: MD (1.0)]\n",
      "Span [30]: \"have\"   [− Labels: VB (1.0)]\n",
      "Span [31]: \"a\"   [− Labels: DT (1.0)]\n",
      "Span [32]: \"chat\"   [− Labels: NN (1.0)]\n",
      "Span [33]: \"with\"   [− Labels: IN (1.0)]\n",
      "Span [34]: \"Albert\"   [− Labels: NNP (1.0)]\n",
      "Span [35]: \".\"   [− Labels: . (1.0)]\n"
     ]
    }
   ],
   "source": [
    "print(\"List text/entities tagged:\\n\")\n",
    "for sen in sentences:\n",
    "    for entity in sen.get_spans(\"pos\"):\n",
    "        print(entity)"
   ]
  },
  {
   "cell_type": "code",
   "execution_count": 12,
   "metadata": {},
   "outputs": [
    {
     "name": "stdout",
     "output_type": "stream",
     "text": [
      "Get json of tagged information:\n",
      "\n",
      "{'entities': [{'end_pos': 7,\n",
      "               'labels': [NNP (0.9998)],\n",
      "               'start_pos': 0,\n",
      "               'text': 'Novetta'},\n",
      "              {'end_pos': 17,\n",
      "               'labels': [NNPS (0.8235)],\n",
      "               'start_pos': 8,\n",
      "               'text': 'Solutions'},\n",
      "              {'end_pos': 20,\n",
      "               'labels': [VBZ (1.0)],\n",
      "               'start_pos': 18,\n",
      "               'text': 'is'},\n",
      "              {'end_pos': 24,\n",
      "               'labels': [DT (1.0)],\n",
      "               'start_pos': 21,\n",
      "               'text': 'the'},\n",
      "              {'end_pos': 29,\n",
      "               'labels': [JJS (0.9996)],\n",
      "               'start_pos': 25,\n",
      "               'text': 'best'},\n",
      "              {'end_pos': 30,\n",
      "               'labels': [. (0.9995)],\n",
      "               'start_pos': 29,\n",
      "               'text': '.'},\n",
      "              {'end_pos': 37,\n",
      "               'labels': [NNP (1.0)],\n",
      "               'start_pos': 31,\n",
      "               'text': 'Albert'},\n",
      "              {'end_pos': 46,\n",
      "               'labels': [NNP (1.0)],\n",
      "               'start_pos': 38,\n",
      "               'text': 'Einstein'},\n",
      "              {'end_pos': 51,\n",
      "               'labels': [VBD (0.9981)],\n",
      "               'start_pos': 47,\n",
      "               'text': 'used'},\n",
      "              {'end_pos': 54,\n",
      "               'labels': [TO (0.9999)],\n",
      "               'start_pos': 52,\n",
      "               'text': 'to'},\n",
      "              {'end_pos': 57,\n",
      "               'labels': [VB (1.0)],\n",
      "               'start_pos': 55,\n",
      "               'text': 'be'},\n",
      "              {'end_pos': 66,\n",
      "               'labels': [VBN (0.9971)],\n",
      "               'start_pos': 58,\n",
      "               'text': 'employed'},\n",
      "              {'end_pos': 69,\n",
      "               'labels': [IN (1.0)],\n",
      "               'start_pos': 67,\n",
      "               'text': 'at'},\n",
      "              {'end_pos': 77,\n",
      "               'labels': [NNP (1.0)],\n",
      "               'start_pos': 70,\n",
      "               'text': 'Novetta'},\n",
      "              {'end_pos': 87,\n",
      "               'labels': [NNPS (0.6877)],\n",
      "               'start_pos': 78,\n",
      "               'text': 'Solutions'},\n",
      "              {'end_pos': 88,\n",
      "               'labels': [. (0.5807)],\n",
      "               'start_pos': 87,\n",
      "               'text': '.'},\n",
      "              {'end_pos': 93,\n",
      "               'labels': [DT (1.0)],\n",
      "               'start_pos': 90,\n",
      "               'text': 'The'},\n",
      "              {'end_pos': 100,\n",
      "               'labels': [NNP (0.9999)],\n",
      "               'start_pos': 94,\n",
      "               'text': 'Wright'},\n",
      "              {'end_pos': 109,\n",
      "               'labels': [NNS (1.0)],\n",
      "               'start_pos': 101,\n",
      "               'text': 'brothers'},\n",
      "              {'end_pos': 115,\n",
      "               'labels': [VBD (1.0)],\n",
      "               'start_pos': 110,\n",
      "               'text': 'loved'},\n",
      "              {'end_pos': 118,\n",
      "               'labels': [TO (0.9994)],\n",
      "               'start_pos': 116,\n",
      "               'text': 'to'},\n",
      "              {'end_pos': 124,\n",
      "               'labels': [VB (1.0)],\n",
      "               'start_pos': 119,\n",
      "               'text': 'visit'},\n",
      "              {'end_pos': 128,\n",
      "               'labels': [DT (1.0)],\n",
      "               'start_pos': 125,\n",
      "               'text': 'the'},\n",
      "              {'end_pos': 132,\n",
      "               'labels': [NNP (1.0)],\n",
      "               'start_pos': 129,\n",
      "               'text': 'JBF'},\n",
      "              {'end_pos': 145,\n",
      "               'labels': [NN (0.9325)],\n",
      "               'start_pos': 133,\n",
      "               'text': 'headquarters'},\n",
      "              {'end_pos': 146,\n",
      "               'labels': [, (1.0)],\n",
      "               'start_pos': 145,\n",
      "               'text': ','},\n",
      "              {'end_pos': 150,\n",
      "               'labels': [CC (1.0)],\n",
      "               'start_pos': 147,\n",
      "               'text': 'and'},\n",
      "              {'end_pos': 155,\n",
      "               'labels': [PRP (1.0)],\n",
      "               'start_pos': 151,\n",
      "               'text': 'they'},\n",
      "              {'end_pos': 161,\n",
      "               'labels': [MD (1.0)],\n",
      "               'start_pos': 156,\n",
      "               'text': 'would'},\n",
      "              {'end_pos': 166,\n",
      "               'labels': [VB (1.0)],\n",
      "               'start_pos': 162,\n",
      "               'text': 'have'},\n",
      "              {'end_pos': 168,\n",
      "               'labels': [DT (1.0)],\n",
      "               'start_pos': 167,\n",
      "               'text': 'a'},\n",
      "              {'end_pos': 173,\n",
      "               'labels': [NN (1.0)],\n",
      "               'start_pos': 169,\n",
      "               'text': 'chat'},\n",
      "              {'end_pos': 178,\n",
      "               'labels': [IN (1.0)],\n",
      "               'start_pos': 174,\n",
      "               'text': 'with'},\n",
      "              {'end_pos': 185,\n",
      "               'labels': [NNP (1.0)],\n",
      "               'start_pos': 179,\n",
      "               'text': 'Albert'},\n",
      "              {'end_pos': 186,\n",
      "               'labels': [. (1.0)],\n",
      "               'start_pos': 185,\n",
      "               'text': '.'}],\n",
      " 'labels': [],\n",
      " 'text': 'Novetta Solutions is the best. Albert Einstein used to be employed '\n",
      "         'at Novetta Solutions.  The Wright brothers loved to visit the JBF '\n",
      "         'headquarters, and they would have a chat with Albert.'}\n"
     ]
    }
   ],
   "source": [
    "print(\"Get json of tagged information:\\n\")\n",
    "for sen in sentences:\n",
    "    pprint(sen.to_dict(tag_type=\"pos\"))"
   ]
  },
  {
   "cell_type": "markdown",
   "metadata": {},
   "source": [
    "## Chunk"
   ]
  },
  {
   "cell_type": "code",
   "execution_count": null,
   "metadata": {},
   "outputs": [
    {
     "name": "stdout",
     "output_type": "stream",
     "text": [
      "2020-08-31 04:24:03,605 https://nlp.informatik.hu-berlin.de/resources/models/chunk/en-chunk-conll2000-v0.4.pt not found in cache, downloading to /tmp/tmp5b7eqcx0\n"
     ]
    },
    {
     "name": "stderr",
     "output_type": "stream",
     "text": [
      "  6%|▋         | 16029696/249034168 [00:04<00:46, 5063404.31B/s]"
     ]
    }
   ],
   "source": [
    "sentences = tagger.tag_text(text = example_text, model_name_or_path = \"chunk\")"
   ]
  },
  {
   "cell_type": "code",
   "execution_count": 12,
   "metadata": {},
   "outputs": [
    {
     "name": "stdout",
     "output_type": "stream",
     "text": [
      "List string outputs of tags:\n",
      "\n",
      "Novetta <B-NP> Solutions <E-NP> is <S-VP> the <B-NP> best <E-NP> . Albert <B-NP> Einstein <E-NP> used <B-VP> to <I-VP> be <I-VP> employed <E-VP> at <S-PP> Novetta <B-NP> Solutions <E-NP> . The <B-NP> Wright <I-NP> brothers <E-NP> loved <B-VP> to <I-VP> visit <E-VP> the <B-NP> JBF <I-NP> headquarters <E-NP> , and they <S-NP> would <B-VP> have <E-VP> a <B-NP> chat <E-NP> with <S-PP> Albert <S-NP> .\n"
     ]
    }
   ],
   "source": [
    "# See Results\n",
    "print(\"List string outputs of tags:\\n\")\n",
    "for sen in sentences:\n",
    "    print(sen.to_tagged_string())"
   ]
  },
  {
   "cell_type": "code",
   "execution_count": 13,
   "metadata": {},
   "outputs": [
    {
     "name": "stdout",
     "output_type": "stream",
     "text": [
      "List text/entities tagged:\n",
      "\n",
      "NP-span [1,2]: \"Novetta Solutions\"\n",
      "VP-span [3]: \"is\"\n",
      "NP-span [4,5]: \"the best\"\n",
      "NP-span [7,8]: \"Albert Einstein\"\n",
      "VP-span [9,10,11,12]: \"used to be employed\"\n",
      "PP-span [13]: \"at\"\n",
      "NP-span [14,15]: \"Novetta Solutions\"\n",
      "NP-span [17,18,19]: \"The Wright brothers\"\n",
      "VP-span [20,21,22]: \"loved to visit\"\n",
      "NP-span [23,24,25]: \"the JBF headquarters\"\n",
      "NP-span [28]: \"they\"\n",
      "VP-span [29,30]: \"would have\"\n",
      "NP-span [31,32]: \"a chat\"\n",
      "PP-span [33]: \"with\"\n",
      "NP-span [34]: \"Albert\"\n"
     ]
    }
   ],
   "source": [
    "print(\"List text/entities tagged:\\n\")\n",
    "for sen in sentences:\n",
    "    for entity in sen.get_spans(\"np\"):\n",
    "        print(entity)"
   ]
  },
  {
   "cell_type": "markdown",
   "metadata": {},
   "source": [
    "## Frame"
   ]
  },
  {
   "cell_type": "code",
   "execution_count": 14,
   "metadata": {},
   "outputs": [
    {
     "name": "stdout",
     "output_type": "stream",
     "text": [
      "2020-02-14 07:05:45,281 loading file /home/ubuntu/.flair/models/en-frame-ontonotes-v0.4.pt\n"
     ]
    }
   ],
   "source": [
    "sentences = tagger.tag_text(text = example_text, model_name_or_path = \"frame\")"
   ]
  },
  {
   "cell_type": "code",
   "execution_count": 15,
   "metadata": {},
   "outputs": [
    {
     "name": "stdout",
     "output_type": "stream",
     "text": [
      "List string outputs of tags:\n",
      "\n",
      "Novetta <_> Solutions <_> is <be.01> the <_> best <_> . <_> Albert <_> Einstein <_> used <use.03> to <_> be <be.03> employed <employ.01> at <_> Novetta <_> Solutions <_> . <_> The <_> Wright <_> brothers <_> loved <love.02> to <_> visit <visit.01> the <_> JBF <_> headquarters <_> , <_> and <_> they <_> would <_> have <have.03> a <_> chat <chat.01> with <_> Albert <_> . <_>\n"
     ]
    }
   ],
   "source": [
    "# See Results\n",
    "print(\"List string outputs of tags:\\n\")\n",
    "for sen in sentences:\n",
    "    print(sen.to_tagged_string())"
   ]
  },
  {
   "cell_type": "markdown",
   "metadata": {},
   "source": [
    "## Fast Sequence Labeling\n",
    "#### Make sure to check out some of Flair's \"fast\" cpu-minded models that produce similar results to SOTA models"
   ]
  },
  {
   "cell_type": "markdown",
   "metadata": {},
   "source": [
    "### NER"
   ]
  },
  {
   "cell_type": "code",
   "execution_count": 16,
   "metadata": {},
   "outputs": [
    {
     "name": "stdout",
     "output_type": "stream",
     "text": [
      "2020-02-14 07:05:46,098 loading file /home/ubuntu/.flair/models/en-ner-ontonotes-fast-v0.4.pt\n"
     ]
    }
   ],
   "source": [
    "# Tag the string\n",
    "sentences = tagger.tag_text(text = example_text, model_name_or_path = \"ner-ontonotes-fast\")"
   ]
  },
  {
   "cell_type": "code",
   "execution_count": 17,
   "metadata": {},
   "outputs": [
    {
     "name": "stdout",
     "output_type": "stream",
     "text": [
      "List entities tagged:\n",
      "\n",
      "ORG-span [1,2]: \"Novetta Solutions\"\n",
      "PERSON-span [7,8]: \"Albert Einstein\"\n",
      "ORG-span [14,15]: \"Novetta Solutions\"\n",
      "PERSON-span [18]: \"Wright\"\n",
      "ORG-span [24]: \"JBF\"\n",
      "PERSON-span [34]: \"Albert\"\n"
     ]
    }
   ],
   "source": [
    "print(\"List entities tagged:\\n\")\n",
    "for sen in sentences:\n",
    "    for entity in sen.get_spans(\"ner\"):\n",
    "        print(entity)"
   ]
  },
  {
   "cell_type": "markdown",
   "metadata": {},
   "source": [
    "## Tag Tokens with All Loaded Models At Once\n",
    "\n",
    "#### The tagger now has multiple models loaded after tagging all of the previous text\n",
    "#### This means with one method call of `tag_all(text)`, we can tag the text with all the loaded models"
   ]
  },
  {
   "cell_type": "code",
   "execution_count": 18,
   "metadata": {},
   "outputs": [],
   "source": [
    "sentences = tagger.tag_all(example_text)"
   ]
  },
  {
   "cell_type": "code",
   "execution_count": 19,
   "metadata": {},
   "outputs": [
    {
     "name": "stdout",
     "output_type": "stream",
     "text": [
      "List entities tagged:\n",
      "\n",
      "ORG-span [1,2]: \"Novetta Solutions\"\n",
      "PERSON-span [7,8]: \"Albert Einstein\"\n",
      "ORG-span [14,15]: \"Novetta Solutions\"\n",
      "PERSON-span [18]: \"Wright\"\n",
      "ORG-span [24]: \"JBF\"\n",
      "PERSON-span [34]: \"Albert\"\n"
     ]
    }
   ],
   "source": [
    "print(\"List entities tagged:\\n\")\n",
    "for sen in sentences:\n",
    "    for entity in sen.get_spans(\"ner\"):\n",
    "        print(entity)"
   ]
  },
  {
   "cell_type": "code",
   "execution_count": 20,
   "metadata": {},
   "outputs": [
    {
     "name": "stdout",
     "output_type": "stream",
     "text": [
      "List entities tagged:\n",
      "\n",
      "PROPN-span [1]: \"Novetta\"\n",
      "PROPN-span [2]: \"Solutions\"\n",
      "VERB-span [3]: \"is\"\n",
      "DET-span [4]: \"the\"\n",
      "ADJ-span [5]: \"best\"\n",
      "PUNCT-span [6]: \".\"\n",
      "PROPN-span [7]: \"Albert\"\n",
      "PROPN-span [8]: \"Einstein\"\n",
      "VERB-span [9]: \"used\"\n",
      "PART-span [10]: \"to\"\n",
      "VERB-span [11]: \"be\"\n",
      "VERB-span [12]: \"employed\"\n",
      "ADP-span [13]: \"at\"\n",
      "PROPN-span [14]: \"Novetta\"\n",
      "PROPN-span [15]: \"Solutions\"\n",
      "PUNCT-span [16]: \".\"\n",
      "DET-span [17]: \"The\"\n",
      "PROPN-span [18]: \"Wright\"\n",
      "NOUN-span [19]: \"brothers\"\n",
      "VERB-span [20]: \"loved\"\n",
      "PART-span [21]: \"to\"\n",
      "VERB-span [22]: \"visit\"\n",
      "DET-span [23]: \"the\"\n",
      "PROPN-span [24]: \"JBF\"\n",
      "NOUN-span [25]: \"headquarters\"\n",
      "PUNCT-span [26]: \",\"\n",
      "CCONJ-span [27]: \"and\"\n",
      "PRON-span [28]: \"they\"\n",
      "AUX-span [29]: \"would\"\n",
      "VERB-span [30]: \"have\"\n",
      "DET-span [31]: \"a\"\n",
      "NOUN-span [32]: \"chat\"\n",
      "ADP-span [33]: \"with\"\n",
      "PROPN-span [34]: \"Albert\"\n",
      "PUNCT-span [35]: \".\"\n"
     ]
    }
   ],
   "source": [
    "print(\"List entities tagged:\\n\")\n",
    "for sen in sentences:\n",
    "    for entity in sen.get_spans(\"pos\"):\n",
    "        print(entity)"
   ]
  },
  {
   "cell_type": "code",
   "execution_count": 21,
   "metadata": {},
   "outputs": [
    {
     "name": "stdout",
     "output_type": "stream",
     "text": [
      "List entities tagged:\n",
      "\n",
      "NP-span [1,2]: \"Novetta Solutions\"\n",
      "VP-span [3]: \"is\"\n",
      "NP-span [4,5]: \"the best\"\n",
      "NP-span [7,8]: \"Albert Einstein\"\n",
      "VP-span [9,10,11,12]: \"used to be employed\"\n",
      "PP-span [13]: \"at\"\n",
      "NP-span [14,15]: \"Novetta Solutions\"\n",
      "NP-span [17,18,19]: \"The Wright brothers\"\n",
      "VP-span [20,21,22]: \"loved to visit\"\n",
      "NP-span [23,24,25]: \"the JBF headquarters\"\n",
      "NP-span [28]: \"they\"\n",
      "VP-span [29,30]: \"would have\"\n",
      "NP-span [31,32]: \"a chat\"\n",
      "PP-span [33]: \"with\"\n",
      "NP-span [34]: \"Albert\"\n"
     ]
    }
   ],
   "source": [
    "print(\"List entities tagged:\\n\")\n",
    "for sen in sentences:\n",
    "    for entity in sen.get_spans(\"np\"):\n",
    "        print(entity)"
   ]
  },
  {
   "cell_type": "code",
   "execution_count": null,
   "metadata": {},
   "outputs": [],
   "source": []
  },
  {
   "cell_type": "code",
   "execution_count": null,
   "metadata": {},
   "outputs": [],
   "source": []
  }
 ],
 "metadata": {
  "kernelspec": {
   "display_name": "Python 3",
   "language": "python",
   "name": "python3"
  },
  "language_info": {
   "codemirror_mode": {
    "name": "ipython",
    "version": 3
   },
   "file_extension": ".py",
   "mimetype": "text/x-python",
   "name": "python",
   "nbconvert_exporter": "python",
   "pygments_lexer": "ipython3",
   "version": "3.6.9"
  }
 },
 "nbformat": 4,
 "nbformat_minor": 4
}
