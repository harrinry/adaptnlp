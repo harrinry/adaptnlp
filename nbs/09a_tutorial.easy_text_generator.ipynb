{
 "cells": [
  {
   "cell_type": "markdown",
   "metadata": {},
   "source": [
    "# Text Generation\n",
    "\n",
    "Text generation is the NLP task of generating a coherent sequence of words, usually from a language model. The current leading methods, most notably OpenAI’s GPT-2 and GPT-3, rely on feeding tokens (words or characters) into a pre-trained language model which then uses this seed data to construct a sequence of text. AdaptNLP provides simple methods to easily fine-tune these state-of-the-art models and generate text for any use case.\n",
    "\n",
    "Below, we'll walk through how we can use AdaptNLP's EasyTextGenerator module to generate text to complete a given String."
   ]
  },
  {
   "cell_type": "markdown",
   "metadata": {},
   "source": [
    "## Getting Started with `TextGeneration`\n",
    "\n",
    "We'll first get started by importing the `EasyTextGenerator` class from AdaptNLP.\n",
    "\n",
    "After that, we set some example text that we'll use further down, and then instantiate the generator.\n"
   ]
  },
  {
   "cell_type": "code",
   "execution_count": 1,
   "metadata": {},
   "outputs": [],
   "source": [
    "from adaptnlp import EasyTextGenerator\n",
    "\n",
    "text = \"China and the U.S. will begin to\"\n",
    "\n",
    "generator = EasyTextGenerator()"
   ]
  },
  {
   "cell_type": "markdown",
   "metadata": {},
   "source": [
    "### Generate with `generate(text:str, model_name_or_path: str, mini_batch_size: int, num_tokens_to_produce: int **kwargs)`\n",
    "Now that we have the summarizer instantiated, we are ready to load in a model and compress the text \n",
    "with the built-in `generate()` method.  \n",
    "\n",
    "This method takes in parameters: `text`, `model_name_or_path`, `mini_batch_size`, and `num_tokens_to_produce` as well as optional keyword arguments\n",
    "from the `Transformers.PreTrainedModel.generate()` method.\n",
    "\n",
    "Note: You can set `model_name_or_path` to any of Transformers pretrained Generation Models with Language Model heads.\n",
    "    Transformers models are located at [https://huggingface.co/models](https://huggingface.co/models).  You can also pass in\n",
    "    the path of a custom trained Transformers `xxxWithLMHead` model.\n",
    " \n",
    "The method returns a list of Strings. For now, there is no batch processing with the text generation module.\n",
    "\n",
    "Here is one example using the gpt2 model:"
   ]
  },
  {
   "cell_type": "code",
   "execution_count": 2,
   "metadata": {},
   "outputs": [
    {
     "name": "stderr",
     "output_type": "stream",
     "text": [
      "Special tokens have been added in the vocabulary, make sure the associated word emebedding are fine-tuned or trained.\n",
      "Some weights of GPT2LMHeadModel were not initialized from the model checkpoint at gpt2 and are newly initialized: ['h.0.attn.masked_bias', 'h.1.attn.masked_bias', 'h.2.attn.masked_bias', 'h.3.attn.masked_bias', 'h.4.attn.masked_bias', 'h.5.attn.masked_bias', 'h.6.attn.masked_bias', 'h.7.attn.masked_bias', 'h.8.attn.masked_bias', 'h.9.attn.masked_bias', 'h.10.attn.masked_bias', 'h.11.attn.masked_bias', 'lm_head.weight']\n",
      "You should probably TRAIN this model on a down-stream task to be able to use it for predictions and inference.\n",
      "Generating: 100%|██████████| 1/1 [00:00<00:00,  2.24it/s]"
     ]
    },
    {
     "name": "stdout",
     "output_type": "stream",
     "text": [
      "['China and the U.S. will begin to see the effects of the new sanctions on the Russian economy.\\n\\n\"The U.S. is going to be the first to see the effects of the new sanctions,\" said Michael O\\'Hanlon, a senior fellow at the Center for Strategic']\n"
     ]
    },
    {
     "name": "stderr",
     "output_type": "stream",
     "text": [
      "\n"
     ]
    }
   ],
   "source": [
    "# Generate\n",
    "generated_text = generator.generate(text, model_name_or_path=\"gpt2\", mini_batch_size=2, num_tokens_to_produce=50)\n",
    "\n",
    "print(generated_text)\n"
   ]
  },
  {
   "cell_type": "code",
   "execution_count": null,
   "metadata": {},
   "outputs": [],
   "source": []
  }
 ],
 "metadata": {
  "kernelspec": {
   "display_name": "Python 3.6.9 64-bit ('venv-adaptnlp': venv)",
   "language": "python",
   "name": "python36964bitvenvadaptnlpvenv387528252572417bb94ad41a66831edd"
  },
  "language_info": {
   "codemirror_mode": {
    "name": "ipython",
    "version": 3
   },
   "file_extension": ".py",
   "mimetype": "text/x-python",
   "name": "python",
   "nbconvert_exporter": "python",
   "pygments_lexer": "ipython3",
   "version": "3.6.9"
  }
 },
 "nbformat": 4,
 "nbformat_minor": 4
}
