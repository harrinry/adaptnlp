{
 "cells": [
  {
   "cell_type": "code",
   "execution_count": null,
   "id": "da54a4a9",
   "metadata": {},
   "outputs": [],
   "source": [
    "#all_slow"
   ]
  },
  {
   "cell_type": "code",
   "execution_count": null,
   "id": "08e6e11c",
   "metadata": {},
   "outputs": [],
   "source": [
    "#hide\n",
    "from nbdev.showdoc import *"
   ]
  },
  {
   "cell_type": "markdown",
   "id": "1bc18f09",
   "metadata": {},
   "source": [
    "## Tutorial: Language Model Tuning\n",
    "> A tutorial following the fine-tuning and data API for Langauge Models"
   ]
  },
  {
   "cell_type": "code",
   "execution_count": null,
   "id": "32fe9c49",
   "metadata": {},
   "outputs": [],
   "source": [
    "from adaptnlp.training."
   ]
  },
  {
   "cell_type": "markdown",
   "id": "a9856e2c",
   "metadata": {},
   "source": [
    "## Overview\n",
    "\n",
    "In this tutorial we will cover building a dataset with the AdaptNLP data API for language model fine-tuning, and fine-tune a model towards that dataset.\n",
    "\n",
    "Throughout the tutorial you will notice we call from `fastai`, this is because the tuning API is built upon their library\n",
    "\n",
    "> Note: Eventually this will change to `fastai_minima`\n",
    "\n",
    "For our task, we will use the `IMDB_SAMPLE` dataset to help us tune a BERT model"
   ]
  },
  {
   "cell_type": "markdown",
   "id": "229bd1b9",
   "metadata": {},
   "source": [
    "## The Dataset"
   ]
  },
  {
   "cell_type": "markdown",
   "id": "1619b947",
   "metadata": {},
   "source": [
    "The first thing we need to do is get some data. We will use fastai's handy `untar_data` function and the `URLs` class to download it:"
   ]
  },
  {
   "cell_type": "code",
   "execution_count": null,
   "id": "f575166c",
   "metadata": {},
   "outputs": [],
   "source": [
    "from fastai.data.external import untar_data, URLs"
   ]
  },
  {
   "cell_type": "code",
   "execution_count": null,
   "id": "76735bb7",
   "metadata": {},
   "outputs": [
    {
     "data": {
      "text/plain": [
       "(#1) [Path('/root/.fastai/data/imdb_sample/texts.csv')]"
      ]
     },
     "execution_count": null,
     "metadata": {},
     "output_type": "execute_result"
    }
   ],
   "source": [
    "path = untar_data(URLs.IMDB_SAMPLE); path.ls()"
   ]
  },
  {
   "cell_type": "markdown",
   "id": "e6695fe0",
   "metadata": {},
   "source": [
    "As you can see, we get a `Path` object showing where the data is stored. Let's open it in `pandas`, as currently the API only supports reading in through `DataFrame`'s:"
   ]
  },
  {
   "cell_type": "code",
   "execution_count": null,
   "id": "9c131a27",
   "metadata": {},
   "outputs": [],
   "source": [
    "import pandas as pd\n",
    "\n",
    "df = pd.read_csv(path/'texts.csv')"
   ]
  },
  {
   "cell_type": "code",
   "execution_count": null,
   "id": "cc8ebbfb",
   "metadata": {},
   "outputs": [
    {
     "data": {
      "text/html": [
       "<div>\n",
       "<style scoped>\n",
       "    .dataframe tbody tr th:only-of-type {\n",
       "        vertical-align: middle;\n",
       "    }\n",
       "\n",
       "    .dataframe tbody tr th {\n",
       "        vertical-align: top;\n",
       "    }\n",
       "\n",
       "    .dataframe thead th {\n",
       "        text-align: right;\n",
       "    }\n",
       "</style>\n",
       "<table border=\"1\" class=\"dataframe\">\n",
       "  <thead>\n",
       "    <tr style=\"text-align: right;\">\n",
       "      <th></th>\n",
       "      <th>label</th>\n",
       "      <th>text</th>\n",
       "      <th>is_valid</th>\n",
       "    </tr>\n",
       "  </thead>\n",
       "  <tbody>\n",
       "    <tr>\n",
       "      <th>0</th>\n",
       "      <td>negative</td>\n",
       "      <td>Un-bleeping-believable! Meg Ryan doesn't even look her usual pert lovable self in this, which normally makes me forgive her shallow ticky acting schtick. Hard to believe she was the producer on this dog. Plus Kevin Kline: what kind of suicide trip has his career been on? Whoosh... Banzai!!! Finally this was directed by the guy who did Big Chill? Must be a replay of Jonestown - hollywood style. Wooofff!</td>\n",
       "      <td>False</td>\n",
       "    </tr>\n",
       "    <tr>\n",
       "      <th>1</th>\n",
       "      <td>positive</td>\n",
       "      <td>This is a extremely well-made film. The acting, script and camera-work are all first-rate. The music is good, too, though it is mostly early in the film, when things are still relatively cheery. There are no really superstars in the cast, though several faces will be familiar. The entire cast does an excellent job with the script.&lt;br /&gt;&lt;br /&gt;But it is hard to watch, because there is no good end to a situation like the one presented. It is now fashionable to blame the British for setting Hindus and Muslims against each other, and then cruelly separating them into two countries. There is som...</td>\n",
       "      <td>False</td>\n",
       "    </tr>\n",
       "    <tr>\n",
       "      <th>2</th>\n",
       "      <td>negative</td>\n",
       "      <td>Every once in a long while a movie will come along that will be so awful that I feel compelled to warn people. If I labor all my days and I can save but one soul from watching this movie, how great will be my joy.&lt;br /&gt;&lt;br /&gt;Where to begin my discussion of pain. For starters, there was a musical montage every five minutes. There was no character development. Every character was a stereotype. We had swearing guy, fat guy who eats donuts, goofy foreign guy, etc. The script felt as if it were being written as the movie was being shot. The production value was so incredibly low that it felt li...</td>\n",
       "      <td>False</td>\n",
       "    </tr>\n",
       "    <tr>\n",
       "      <th>3</th>\n",
       "      <td>positive</td>\n",
       "      <td>Name just says it all. I watched this movie with my dad when it came out and having served in Korea he had great admiration for the man. The disappointing thing about this film is that it only concentrate on a short period of the man's life - interestingly enough the man's entire life would have made such an epic bio-pic that it is staggering to imagine the cost for production.&lt;br /&gt;&lt;br /&gt;Some posters elude to the flawed characteristics about the man, which are cheap shots. The theme of the movie \"Duty, Honor, Country\" are not just mere words blathered from the lips of a high-brassed offic...</td>\n",
       "      <td>False</td>\n",
       "    </tr>\n",
       "    <tr>\n",
       "      <th>4</th>\n",
       "      <td>negative</td>\n",
       "      <td>This movie succeeds at being one of the most unique movies you've seen. However this comes from the fact that you can't make heads or tails of this mess. It almost seems as a series of challenges set up to determine whether or not you are willing to walk out of the movie and give up the money you just paid. If you don't want to feel slighted you'll sit through this horrible film and develop a real sense of pity for the actors involved, they've all seen better days, but then you realize they actually got paid quite a bit of money to do this and you'll lose pity for them just like you've alr...</td>\n",
       "      <td>False</td>\n",
       "    </tr>\n",
       "  </tbody>\n",
       "</table>\n",
       "</div>"
      ],
      "text/plain": [
       "      label  \\\n",
       "0  negative   \n",
       "1  positive   \n",
       "2  negative   \n",
       "3  positive   \n",
       "4  negative   \n",
       "\n",
       "                                                                                                                                                                                                                                                                                                                                                                                                                                                                                                                                                                                                                      text  \\\n",
       "0                                                                                                                                                                                                    Un-bleeping-believable! Meg Ryan doesn't even look her usual pert lovable self in this, which normally makes me forgive her shallow ticky acting schtick. Hard to believe she was the producer on this dog. Plus Kevin Kline: what kind of suicide trip has his career been on? Whoosh... Banzai!!! Finally this was directed by the guy who did Big Chill? Must be a replay of Jonestown - hollywood style. Wooofff!   \n",
       "1  This is a extremely well-made film. The acting, script and camera-work are all first-rate. The music is good, too, though it is mostly early in the film, when things are still relatively cheery. There are no really superstars in the cast, though several faces will be familiar. The entire cast does an excellent job with the script.<br /><br />But it is hard to watch, because there is no good end to a situation like the one presented. It is now fashionable to blame the British for setting Hindus and Muslims against each other, and then cruelly separating them into two countries. There is som...   \n",
       "2  Every once in a long while a movie will come along that will be so awful that I feel compelled to warn people. If I labor all my days and I can save but one soul from watching this movie, how great will be my joy.<br /><br />Where to begin my discussion of pain. For starters, there was a musical montage every five minutes. There was no character development. Every character was a stereotype. We had swearing guy, fat guy who eats donuts, goofy foreign guy, etc. The script felt as if it were being written as the movie was being shot. The production value was so incredibly low that it felt li...   \n",
       "3  Name just says it all. I watched this movie with my dad when it came out and having served in Korea he had great admiration for the man. The disappointing thing about this film is that it only concentrate on a short period of the man's life - interestingly enough the man's entire life would have made such an epic bio-pic that it is staggering to imagine the cost for production.<br /><br />Some posters elude to the flawed characteristics about the man, which are cheap shots. The theme of the movie \"Duty, Honor, Country\" are not just mere words blathered from the lips of a high-brassed offic...   \n",
       "4  This movie succeeds at being one of the most unique movies you've seen. However this comes from the fact that you can't make heads or tails of this mess. It almost seems as a series of challenges set up to determine whether or not you are willing to walk out of the movie and give up the money you just paid. If you don't want to feel slighted you'll sit through this horrible film and develop a real sense of pity for the actors involved, they've all seen better days, but then you realize they actually got paid quite a bit of money to do this and you'll lose pity for them just like you've alr...   \n",
       "\n",
       "   is_valid  \n",
       "0     False  \n",
       "1     False  \n",
       "2     False  \n",
       "3     False  \n",
       "4     False  "
      ]
     },
     "execution_count": null,
     "metadata": {},
     "output_type": "execute_result"
    }
   ],
   "source": [
    "df.head()"
   ]
  },
  {
   "cell_type": "markdown",
   "id": "8c7c4131",
   "metadata": {},
   "source": [
    "We have a `label`, `text`, and `is_valid` column. Let's see how we can frame this into AdaptNLP"
   ]
  },
  {
   "cell_type": "markdown",
   "id": "3034bf63",
   "metadata": {},
   "source": [
    "## High Level API\n",
    "\n",
    "\n",
    "Each `*Tuner` class comes with a factory method to prepare your dataset and generate the `Tuner` class at once. If you want a more exposed API, the next section will introduce you to the mid-level API. Let's see the doc for our function:"
   ]
  },
  {
   "cell_type": "code",
   "execution_count": null,
   "id": "e4a54884",
   "metadata": {},
   "outputs": [
    {
     "data": {
      "text/markdown": [
       "<h4 id=\"LanguageModelTuner.from_df\" class=\"doc_header\"><code>LanguageModelTuner.from_df</code><a href=\"https://github.com/novetta/adaptnlp/tree/master/adaptnlp/training/tuner.py#L276\" class=\"source_link\" style=\"float:right\">[source]</a></h4>\n",
       "\n",
       "> <code>LanguageModelTuner.from_df</code>(**`df`**:`DataFrame`, **`text_col`**:`str`=*`'text'`*, **`model_name`**:`str`=*`None`*, **`language_model_type`**:`LMType`=*`'causal'`*, **`split_func`**:`callable`=*`_inner`*, **`loss_func`**=*`CrossEntropyLoss()`*, **`metrics`**=*`[<fastai.metrics.Perplexity object at 0x7f2bc0d9c280>]`*, **`batch_size`**=*`8`*, **`collate_fn`**=*`default_collate`*, **`opt_func`**=*`Adam`*, **`additional_cbs`**=*`None`*, **`expose_fastai_api`**=*`False`*, **`dataset_kwargs`**:`dict`=*`{}`*, **`tokenize_kwargs`**:`dict`=*`{}`*, **`auto_kwargs`**:`dict`=*`{}`*, **`lr`**=*`0.001`*, **`splitter`**=*`trainable_params`*, **`cbs`**=*`None`*, **`path`**=*`None`*, **`model_dir`**=*`'models'`*, **`wd`**=*`None`*, **`wd_bn_bias`**=*`False`*, **`train_bn`**=*`True`*, **`moms`**=*`(0.95, 0.85, 0.95)`*)\n",
       "\n",
       "Convience method to build a [`LanguageModelTuner`](/adaptnlptraining.tuner.html#LanguageModelTuner) from a Pandas Dataframe"
      ],
      "text/plain": [
       "<IPython.core.display.Markdown object>"
      ]
     },
     "metadata": {},
     "output_type": "display_data"
    }
   ],
   "source": [
    "show_doc(LanguageModelTuner.from_df)"
   ]
  },
  {
   "cell_type": "markdown",
   "id": "58289e02",
   "metadata": {},
   "source": [
    "We can see it wants a `DataFrame`, the name of our text column, the name of a transformers model, the **type** of language model we are training, potentially a way to split the data, and some other configurable bits for training (such as loss function, optimizer, etc). We can also pass in `LanguageModelDatasets.from_df`, `tokenize()`, and `AutoTokenizer.from_pretrained` kwargs with `dataset_`, `tokenize_`, and `auto_` `kwargs` respectively.\n",
    "\n",
    "The defaults for the high-level API will work out of the box for their task. In this case our loss function is CrossEntropy, we have `Perplexity` as our metric, and our optimizer is `Adam`. Let's use these defaults to build a tuner:"
   ]
  },
  {
   "cell_type": "code",
   "execution_count": null,
   "id": "c9a52451",
   "metadata": {},
   "outputs": [
    {
     "data": {
      "application/vnd.jupyter.widget-view+json": {
       "model_id": "57329b2f19be4d5890079c2ed3cec4a3",
       "version_major": 2,
       "version_minor": 0
      },
      "text/plain": [
       "HBox(children=(FloatProgress(value=0.0, max=1.0), HTML(value='')))"
      ]
     },
     "metadata": {},
     "output_type": "display_data"
    },
    {
     "name": "stdout",
     "output_type": "stream",
     "text": [
      "\n"
     ]
    },
    {
     "data": {
      "application/vnd.jupyter.widget-view+json": {
       "model_id": "296e2f48c7764553b459235824a354bc",
       "version_major": 2,
       "version_minor": 0
      },
      "text/plain": [
       "HBox(children=(FloatProgress(value=0.0, max=1.0), HTML(value='')))"
      ]
     },
     "metadata": {},
     "output_type": "display_data"
    },
    {
     "name": "stdout",
     "output_type": "stream",
     "text": [
      "\n"
     ]
    },
    {
     "data": {
      "application/vnd.jupyter.widget-view+json": {
       "model_id": "3d4bab87b38c4c5c8171ce0106fbfbd3",
       "version_major": 2,
       "version_minor": 0
      },
      "text/plain": [
       "HBox(children=(FloatProgress(value=0.0, max=1.0), HTML(value='')))"
      ]
     },
     "metadata": {},
     "output_type": "display_data"
    },
    {
     "name": "stdout",
     "output_type": "stream",
     "text": [
      "\n"
     ]
    },
    {
     "data": {
      "application/vnd.jupyter.widget-view+json": {
       "model_id": "e6e355a1928d4346ba9e1c9b785063b3",
       "version_major": 2,
       "version_minor": 0
      },
      "text/plain": [
       "HBox(children=(FloatProgress(value=0.0, max=1.0), HTML(value='')))"
      ]
     },
     "metadata": {},
     "output_type": "display_data"
    },
    {
     "name": "stdout",
     "output_type": "stream",
     "text": [
      "\n"
     ]
    }
   ],
   "source": [
    "tuner = LanguageModelTuner.from_df(\n",
    "    df, \n",
    "    text_col='text',\n",
    "    model_name='distilgpt2',\n",
    "    language_model_type=LMType.Causal,\n",
    "    split_func=RandomSplitter(valid_pct=0.1),\n",
    "    metrics=[Perplexity()]\n",
    ")"
   ]
  },
  {
   "cell_type": "markdown",
   "id": "f1863877",
   "metadata": {},
   "source": [
    "What this did for us is first tokenize our datasets into a `transformers.Dataset`, then it built our `DataLoaders`, before finally setting up a causal language model for us to tune with. \n",
    "\n",
    "All that's left now is to train! \n",
    "\n",
    "We can use the `lr_find` method to find a good learning rate to use, and the use `tune` to train for a few epochs:\n",
    "\n",
    "> Note: `lr_find` is fastai's Learning Rate Finder, you can read the documentation on it [here](https://docs.fast.ai/callback.schedule#Learner.lr_find)"
   ]
  },
  {
   "cell_type": "code",
   "execution_count": null,
   "id": "902b6cc0",
   "metadata": {},
   "outputs": [
    {
     "data": {
      "text/html": [],
      "text/plain": [
       "<IPython.core.display.HTML object>"
      ]
     },
     "metadata": {},
     "output_type": "display_data"
    },
    {
     "data": {
      "image/png": "[encoded data removed]",
      "text/plain": [
       "<Figure size 432x288 with 1 Axes>"
      ]
     },
     "metadata": {
      "needs_background": "light"
     },
     "output_type": "display_data"
    }
   ],
   "source": [
    "lr = tuner.lr_find()"
   ]
  },
  {
   "cell_type": "markdown",
   "id": "2befa537",
   "metadata": {},
   "source": [
    "We can then see the recommended learning rate:"
   ]
  },
  {
   "cell_type": "code",
   "execution_count": null,
   "id": "0984e554",
   "metadata": {},
   "outputs": [
    {
     "data": {
      "text/plain": [
       "SuggestedLRs(valley=tensor(0.0002))"
      ]
     },
     "execution_count": null,
     "metadata": {},
     "output_type": "execute_result"
    }
   ],
   "source": [
    "lr"
   ]
  },
  {
   "cell_type": "markdown",
   "id": "bfb4a493",
   "metadata": {},
   "source": [
    "And now let's use it and tune:\n",
    "\n",
    "> Note: By default it will use the `OneCyclePolicy`, but `CosineAnnealing` and `SGDR` are also available"
   ]
  },
  {
   "cell_type": "code",
   "execution_count": null,
   "id": "d37c1f10",
   "metadata": {},
   "outputs": [
    {
     "data": {
      "text/html": [
       "<table border=\"1\" class=\"dataframe\">\n",
       "  <thead>\n",
       "    <tr style=\"text-align: left;\">\n",
       "      <th>epoch</th>\n",
       "      <th>train_loss</th>\n",
       "      <th>valid_loss</th>\n",
       "      <th>perplexity</th>\n",
       "      <th>time</th>\n",
       "    </tr>\n",
       "  </thead>\n",
       "  <tbody>\n",
       "    <tr>\n",
       "      <td>0</td>\n",
       "      <td>4.051404</td>\n",
       "      <td>3.923397</td>\n",
       "      <td>50.571938</td>\n",
       "      <td>01:04</td>\n",
       "    </tr>\n",
       "    <tr>\n",
       "      <td>1</td>\n",
       "      <td>3.898776</td>\n",
       "      <td>3.918438</td>\n",
       "      <td>50.321789</td>\n",
       "      <td>01:05</td>\n",
       "    </tr>\n",
       "    <tr>\n",
       "      <td>2</td>\n",
       "      <td>3.741556</td>\n",
       "      <td>3.925002</td>\n",
       "      <td>50.653172</td>\n",
       "      <td>01:05</td>\n",
       "    </tr>\n",
       "  </tbody>\n",
       "</table>"
      ],
      "text/plain": [
       "<IPython.core.display.HTML object>"
      ]
     },
     "metadata": {},
     "output_type": "display_data"
    }
   ],
   "source": [
    "tuner.tune(\n",
    "    epochs=3,\n",
    "    lr=float(lr.valley),\n",
    "    strategy=Strategy.OneCycle,\n",
    "    wd=0.01\n",
    ")"
   ]
  },
  {
   "cell_type": "markdown",
   "id": "c577461c",
   "metadata": {},
   "source": [
    "And now you're done, with only three lines of code! Let's try and convert that over to the mid-level API, and remove some of that (heavy) abstraction next:"
   ]
  },
  {
   "cell_type": "markdown",
   "id": "432c42d1",
   "metadata": {},
   "source": [
    "## Mid-Level API\n",
    "\n",
    "Let's see how we can recreate the high level API with `Datasets` and `Tuner` APIs.\n",
    "\n",
    "We'll use the `LanguageModelDatasets.from_df` helper function:"
   ]
  },
  {
   "cell_type": "code",
   "execution_count": null,
   "id": "9a9fd2d8",
   "metadata": {},
   "outputs": [
    {
     "name": "stdout",
     "output_type": "stream",
     "text": [
      "Help on method from_df in module adaptnlp.training.data:\n",
      "\n",
      "from_df(df: pandas.core.frame.DataFrame, text_col: str = 'text', splits=None, block_size: int = 512, masked_lm: bool = False, tokenizer_name: str = None, tokenize: bool = True, tokenize_kwargs: dict = {}, auto_kwargs: dict = {}) method of builtins.type instance\n",
      "    Builds `SequenceClassificationDatasets` from a `DataFrame` or file path\n",
      "\n"
     ]
    }
   ],
   "source": [
    "help(LanguageModelDatasets.from_df)"
   ]
  },
  {
   "cell_type": "markdown",
   "id": "deb588a6",
   "metadata": {},
   "source": [
    "It expects a `DataFrame`, a text column name, some splits, the block size our language model should expect, and a tokenizer model.\n",
    "\n",
    "First let's look at how to write our splits.\n",
    "\n",
    "These should be in the format of a list of indicies, dictating what goes to the training, and what goes to the validation sets such as: `[[0,1,2],[3,4,5]]`.\n",
    "\n",
    "We'll bring in fastai's `RandomSplitter` like earlier, which will randomly split the data 80/20 between train and validation:"
   ]
  },
  {
   "cell_type": "code",
   "execution_count": null,
   "id": "a3a3d35a",
   "metadata": {},
   "outputs": [],
   "source": [
    "splits = RandomSplitter(valid_pct=0.1)(df)"
   ]
  },
  {
   "cell_type": "code",
   "execution_count": null,
   "id": "0a843679",
   "metadata": {},
   "outputs": [
    {
     "data": {
      "text/plain": [
       "((#900) [900,586,643,130,886,546,905,105,755,337...],\n",
       " (#100) [847,696,118,772,474,365,531,461,661,720...])"
      ]
     },
     "execution_count": null,
     "metadata": {},
     "output_type": "execute_result"
    }
   ],
   "source": [
    "splits"
   ]
  },
  {
   "cell_type": "markdown",
   "id": "62b56bf5",
   "metadata": {},
   "source": [
    "Now that we have some splits, let's build and tokenize the dataset:"
   ]
  },
  {
   "cell_type": "code",
   "execution_count": null,
   "id": "12b2ca99",
   "metadata": {},
   "outputs": [
    {
     "data": {
      "application/vnd.jupyter.widget-view+json": {
       "model_id": "c5509ad03de047148f992aa04dd54537",
       "version_major": 2,
       "version_minor": 0
      },
      "text/plain": [
       "HBox(children=(FloatProgress(value=0.0, max=1.0), HTML(value='')))"
      ]
     },
     "metadata": {},
     "output_type": "display_data"
    },
    {
     "name": "stdout",
     "output_type": "stream",
     "text": [
      "\n"
     ]
    },
    {
     "data": {
      "application/vnd.jupyter.widget-view+json": {
       "model_id": "9f5f4adb3b0d40dcb2ced3bda6a22fd8",
       "version_major": 2,
       "version_minor": 0
      },
      "text/plain": [
       "HBox(children=(FloatProgress(value=0.0, max=1.0), HTML(value='')))"
      ]
     },
     "metadata": {},
     "output_type": "display_data"
    },
    {
     "name": "stdout",
     "output_type": "stream",
     "text": [
      "\n"
     ]
    },
    {
     "data": {
      "application/vnd.jupyter.widget-view+json": {
       "model_id": "8ad1c68129c247c29c55d98798951f67",
       "version_major": 2,
       "version_minor": 0
      },
      "text/plain": [
       "HBox(children=(FloatProgress(value=0.0, max=1.0), HTML(value='')))"
      ]
     },
     "metadata": {},
     "output_type": "display_data"
    },
    {
     "name": "stdout",
     "output_type": "stream",
     "text": [
      "\n"
     ]
    },
    {
     "data": {
      "application/vnd.jupyter.widget-view+json": {
       "model_id": "e2a345aeb82d4dd491b87a1ceab22d98",
       "version_major": 2,
       "version_minor": 0
      },
      "text/plain": [
       "HBox(children=(FloatProgress(value=0.0, max=1.0), HTML(value='')))"
      ]
     },
     "metadata": {},
     "output_type": "display_data"
    },
    {
     "name": "stdout",
     "output_type": "stream",
     "text": [
      "\n"
     ]
    }
   ],
   "source": [
    "dset = LanguageModelDatasets.from_df(\n",
    "    df = df,\n",
    "    text_col = 'text',\n",
    "    splits=splits,\n",
    "    block_size=128,\n",
    "    tokenizer_name='distilgpt2',\n",
    "    tokenize=True\n",
    ")"
   ]
  },
  {
   "cell_type": "markdown",
   "id": "146c6f58",
   "metadata": {},
   "source": [
    "Once we have our tokenized `Dataset`, all we need to do is build our `DataLoaders`:"
   ]
  },
  {
   "cell_type": "code",
   "execution_count": null,
   "id": "8bd94bb1",
   "metadata": {},
   "outputs": [],
   "source": [
    "dls = dset.dataloaders(batch_size=8, shuffle_train=True)"
   ]
  },
  {
   "cell_type": "markdown",
   "id": "dc91852c",
   "metadata": {},
   "source": [
    "Let's make sure a batch looks okay:"
   ]
  },
  {
   "cell_type": "code",
   "execution_count": null,
   "id": "96862c61",
   "metadata": {},
   "outputs": [
    {
     "data": {
      "text/plain": [
       "{'attention_mask': tensor([[1, 1, 1,  ..., 1, 1, 1],\n",
       "         [1, 1, 1,  ..., 1, 1, 1],\n",
       "         [1, 1, 1,  ..., 1, 1, 1],\n",
       "         ...,\n",
       "         [1, 1, 1,  ..., 1, 1, 1],\n",
       "         [1, 1, 1,  ..., 1, 1, 1],\n",
       "         [1, 1, 1,  ..., 1, 1, 1]]),\n",
       " 'input_ids': tensor([[ 1220,  6927,  1671,  ..., 11037,    12,   383],\n",
       "         [  703,   326,  4325,  ...,    13, 17352,   309],\n",
       "         [ 1600,   290,   484,  ...,    13,   679,   635],\n",
       "         ...,\n",
       "         [  737,  6423,   612,  ...,   262,   886,   286],\n",
       "         [  683,   284,   651,  ...,   428,  1333,   431],\n",
       "         [  925,   340,   284,  ...,    11,   262, 10275]]),\n",
       " 'labels': tensor([[ 1220,  6927,  1671,  ..., 11037,    12,   383],\n",
       "         [  703,   326,  4325,  ...,    13, 17352,   309],\n",
       "         [ 1600,   290,   484,  ...,    13,   679,   635],\n",
       "         ...,\n",
       "         [  737,  6423,   612,  ...,   262,   886,   286],\n",
       "         [  683,   284,   651,  ...,   428,  1333,   431],\n",
       "         [  925,   340,   284,  ...,    11,   262, 10275]])}"
      ]
     },
     "execution_count": null,
     "metadata": {},
     "output_type": "execute_result"
    }
   ],
   "source": [
    "next(iter(dls[0]))"
   ]
  },
  {
   "cell_type": "markdown",
   "id": "f7fa1a31",
   "metadata": {},
   "source": [
    "Now let's Tune:"
   ]
  },
  {
   "cell_type": "markdown",
   "id": "b114f7d0",
   "metadata": {},
   "source": [
    "## Tuning a Model\n",
    "\n",
    "Next we need to tune a model to our dataset. We'll use the `LanguageModelTuner` class for this, which as some good defaults for our task such as metrics and a loss function to use:\n",
    "\n",
    "> Note: We need to specify the type of language model we are fine-tuning. "
   ]
  },
  {
   "cell_type": "code",
   "execution_count": null,
   "id": "7550932b",
   "metadata": {},
   "outputs": [],
   "source": [
    "tuner = LanguageModelTuner(\n",
    "    dls, \n",
    "    model_name = 'distilgpt2', \n",
    "    language_model_type = LMType.Causal\n",
    ")"
   ]
  },
  {
   "cell_type": "code",
   "execution_count": null,
   "id": "db205786",
   "metadata": {},
   "outputs": [
    {
     "data": {
      "text/html": [],
      "text/plain": [
       "<IPython.core.display.HTML object>"
      ]
     },
     "metadata": {},
     "output_type": "display_data"
    },
    {
     "data": {
      "image/png": "[encoded data removed]",
      "text/plain": [
       "<Figure size 432x288 with 1 Axes>"
      ]
     },
     "metadata": {
      "needs_background": "light"
     },
     "output_type": "display_data"
    }
   ],
   "source": [
    "lr = tuner.lr_find()"
   ]
  },
  {
   "cell_type": "code",
   "execution_count": null,
   "id": "e3c8e45d",
   "metadata": {},
   "outputs": [
    {
     "data": {
      "text/html": [
       "<table border=\"1\" class=\"dataframe\">\n",
       "  <thead>\n",
       "    <tr style=\"text-align: left;\">\n",
       "      <th>epoch</th>\n",
       "      <th>train_loss</th>\n",
       "      <th>valid_loss</th>\n",
       "      <th>perplexity</th>\n",
       "      <th>time</th>\n",
       "    </tr>\n",
       "  </thead>\n",
       "  <tbody>\n",
       "    <tr>\n",
       "      <td>0</td>\n",
       "      <td>4.143619</td>\n",
       "      <td>4.019847</td>\n",
       "      <td>55.692581</td>\n",
       "      <td>00:54</td>\n",
       "    </tr>\n",
       "    <tr>\n",
       "      <td>1</td>\n",
       "      <td>3.938582</td>\n",
       "      <td>4.031476</td>\n",
       "      <td>56.344013</td>\n",
       "      <td>00:55</td>\n",
       "    </tr>\n",
       "    <tr>\n",
       "      <td>2</td>\n",
       "      <td>3.715658</td>\n",
       "      <td>4.051895</td>\n",
       "      <td>57.506310</td>\n",
       "      <td>00:56</td>\n",
       "    </tr>\n",
       "  </tbody>\n",
       "</table>"
      ],
      "text/plain": [
       "<IPython.core.display.HTML object>"
      ]
     },
     "metadata": {},
     "output_type": "display_data"
    }
   ],
   "source": [
    "tuner.tune(\n",
    "    epochs = 3,\n",
    "    lr = 1e-4,\n",
    "    strategy=Strategy.OneCycle,\n",
    "    wd=0.01\n",
    ")"
   ]
  },
  {
   "cell_type": "code",
   "execution_count": null,
   "id": "ebf7b247",
   "metadata": {},
   "outputs": [],
   "source": []
  }
 ],
 "metadata": {
  "kernelspec": {
   "display_name": "Python 3",
   "language": "python",
   "name": "python3"
  }
 },
 "nbformat": 4,
 "nbformat_minor": 5
}
