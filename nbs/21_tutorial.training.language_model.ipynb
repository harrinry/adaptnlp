{
 "cells": [
  {
   "cell_type": "code",
   "execution_count": null,
   "id": "da54a4a9",
   "metadata": {},
   "outputs": [],
   "source": [
    "#all_slow"
   ]
  },
  {
   "cell_type": "code",
   "execution_count": null,
   "id": "08e6e11c",
   "metadata": {},
   "outputs": [],
   "source": [
    "#hide\n",
    "from nbdev.showdoc import *"
   ]
  },
  {
   "cell_type": "markdown",
   "id": "1bc18f09",
   "metadata": {},
   "source": [
    "## Tutorial: Language Model Tuning\n",
    "> A tutorial following the fine-tuning and data API for Langauge Models"
   ]
  },
  {
   "cell_type": "code",
   "execution_count": null,
   "id": "32fe9c49",
   "metadata": {},
   "outputs": [],
   "source": [
    "from adaptnlp.training.language_model import LanguageModelTuner, LMType\n",
    "from transformers import AutoTokenizer\n",
    "\n",
    "from datasets import load_dataset"
   ]
  },
  {
   "cell_type": "markdown",
   "id": "a9856e2c",
   "metadata": {},
   "source": [
    "## Overview\n",
    "\n",
    "In this tutorial we will fine-tune a language model using `AdaptNLP`. We will build the `DataLoaders` following HuggingFace's [Language Model Fine-Tuning](https://colab.research.google.com/github/huggingface/notebooks/blob/master/examples/language_modeling.ipynb#scrollTo=diKZnB1I3l_R) tutorial, as a data API is not complete yet.\n",
    "\n",
    "For our task we will fine tune on the `wikitext` dataset with `distilgpt2`"
   ]
  },
  {
   "cell_type": "markdown",
   "id": "229bd1b9",
   "metadata": {},
   "source": [
    "## The Dataset"
   ]
  },
  {
   "cell_type": "markdown",
   "id": "1619b947",
   "metadata": {},
   "source": [
    "The first thing we need to do is get some data. We will load the dataset in with `load_dataset`:"
   ]
  },
  {
   "cell_type": "code",
   "execution_count": null,
   "id": "f575166c",
   "metadata": {},
   "outputs": [
    {
     "data": {
      "application/vnd.jupyter.widget-view+json": {
       "model_id": "39ce562134554b79955979d8a7c7f026",
       "version_major": 2,
       "version_minor": 0
      },
      "text/plain": [
       "HBox(children=(FloatProgress(value=0.0, description='Downloading', max=1934.0, style=ProgressStyle(description…"
      ]
     },
     "metadata": {},
     "output_type": "display_data"
    },
    {
     "name": "stdout",
     "output_type": "stream",
     "text": [
      "\n"
     ]
    },
    {
     "data": {
      "application/vnd.jupyter.widget-view+json": {
       "model_id": "08233cc0f0804181827af28a439d46ef",
       "version_major": 2,
       "version_minor": 0
      },
      "text/plain": [
       "HBox(children=(FloatProgress(value=0.0, description='Downloading', max=1124.0, style=ProgressStyle(description…"
      ]
     },
     "metadata": {},
     "output_type": "display_data"
    },
    {
     "name": "stdout",
     "output_type": "stream",
     "text": [
      "\n",
      "Downloading and preparing dataset wikitext/wikitext-2-raw-v1 (download: 4.50 MiB, generated: 12.91 MiB, post-processed: Unknown size, total: 17.41 MiB) to /root/.cache/huggingface/datasets/wikitext/wikitext-2-raw-v1/1.0.0/aa5e094000ec7afeb74c3be92c88313cd6f132d564c7effd961c10fd47c76f20...\n"
     ]
    },
    {
     "data": {
      "application/vnd.jupyter.widget-view+json": {
       "model_id": "9f7373591dca49fda17869cd0c219074",
       "version_major": 2,
       "version_minor": 0
      },
      "text/plain": [
       "HBox(children=(FloatProgress(value=0.0, description='Downloading', max=4721645.0, style=ProgressStyle(descript…"
      ]
     },
     "metadata": {},
     "output_type": "display_data"
    },
    {
     "name": "stdout",
     "output_type": "stream",
     "text": [
      "\n"
     ]
    },
    {
     "data": {
      "application/vnd.jupyter.widget-view+json": {
       "model_id": "",
       "version_major": 2,
       "version_minor": 0
      },
      "text/plain": [
       "HBox(children=(FloatProgress(value=1.0, bar_style='info', layout=Layout(width='20px'), max=1.0), HTML(value=''…"
      ]
     },
     "metadata": {},
     "output_type": "display_data"
    },
    {
     "data": {
      "application/vnd.jupyter.widget-view+json": {
       "model_id": "",
       "version_major": 2,
       "version_minor": 0
      },
      "text/plain": [
       "HBox(children=(FloatProgress(value=1.0, bar_style='info', layout=Layout(width='20px'), max=1.0), HTML(value=''…"
      ]
     },
     "metadata": {},
     "output_type": "display_data"
    },
    {
     "data": {
      "application/vnd.jupyter.widget-view+json": {
       "model_id": "",
       "version_major": 2,
       "version_minor": 0
      },
      "text/plain": [
       "HBox(children=(FloatProgress(value=1.0, bar_style='info', layout=Layout(width='20px'), max=1.0), HTML(value=''…"
      ]
     },
     "metadata": {},
     "output_type": "display_data"
    },
    {
     "name": "stdout",
     "output_type": "stream",
     "text": [
      "Dataset wikitext downloaded and prepared to /root/.cache/huggingface/datasets/wikitext/wikitext-2-raw-v1/1.0.0/aa5e094000ec7afeb74c3be92c88313cd6f132d564c7effd961c10fd47c76f20. Subsequent calls will reuse this data.\n"
     ]
    }
   ],
   "source": [
    "dset = load_dataset('wikitext', 'wikitext-2-raw-v1')"
   ]
  },
  {
   "cell_type": "markdown",
   "id": "83056d46",
   "metadata": {},
   "source": [
    "And if we look at an item in the training dataset, we will find our text:"
   ]
  },
  {
   "cell_type": "code",
   "execution_count": null,
   "id": "cc8ebbfb",
   "metadata": {},
   "outputs": [
    {
     "data": {
      "text/plain": [
       "{'text': ' The game \\'s battle system , the BliTZ system , is carried over directly from Valkyira Chronicles . During missions , players select each unit using a top @-@ down perspective of the battlefield map : once a character is selected , the player moves the character around the battlefield in third @-@ person . A character can only act once per @-@ turn , but characters can be granted multiple turns at the expense of other characters \\' turns . Each character has a field and distance of movement limited by their Action Gauge . Up to nine characters can be assigned to a single mission . During gameplay , characters will call out if something happens to them , such as their health points ( HP ) getting low or being knocked out by enemy attacks . Each character has specific \" Potentials \" , skills unique to each character . They are divided into \" Personal Potential \" , which are innate skills that remain unaltered unless otherwise dictated by the story and can either help or impede a character , and \" Battle Potentials \" , which are grown throughout the game and always grant boons to a character . To learn Battle Potentials , each character has a unique \" Masters Table \" , a grid @-@ based skill table that can be used to acquire and link different skills . Characters also have Special Abilities that grant them temporary boosts on the battlefield : Kurt can activate \" Direct Command \" and move around the battlefield without depleting his Action Point gauge , the character Reila can shift into her \" Valkyria Form \" and become invincible , while Imca can target multiple enemy units with her heavy weapon . \\n'}"
      ]
     },
     "execution_count": null,
     "metadata": {},
     "output_type": "execute_result"
    }
   ],
   "source": [
    "dset['train'][10]"
   ]
  },
  {
   "cell_type": "markdown",
   "id": "cfd268f4",
   "metadata": {},
   "source": [
    "Next we'll need to tokenize and prepare our datasets. The quick functions below will help us get there:"
   ]
  },
  {
   "cell_type": "code",
   "execution_count": null,
   "id": "d9b425c1",
   "metadata": {},
   "outputs": [],
   "source": [
    "def group_texts(examples, block_size=128):\n",
    "    # Concatenate all texts, based on the HuggingFace tutorial\n",
    "    concatenated_examples = {k: sum(examples[k], []) for k in examples.keys()}\n",
    "    total_length = len(concatenated_examples[list(examples.keys())[0]])\n",
    "    # We drop the small remainder, we could add padding if the model supported it instead of this drop, you can\n",
    "        # customize this part to your needs.\n",
    "    total_length = (total_length // block_size) * block_size\n",
    "    # Split by chunks of max_len.\n",
    "    result = {\n",
    "        k: [t[i : i + block_size] for i in range(0, total_length, block_size)]\n",
    "        for k, t in concatenated_examples.items()\n",
    "    }\n",
    "    result[\"labels\"] = result[\"input_ids\"].copy()\n",
    "    return result"
   ]
  },
  {
   "cell_type": "code",
   "execution_count": null,
   "id": "1649f385",
   "metadata": {},
   "outputs": [],
   "source": [
    "def generate_dsets(dsets, tokenizer_name:str, block_size:int=128, batch_size=1000):\n",
    "    \"Generates a tokenized dataset from a HuggingFace Datasets\"\n",
    "    def _tokenize(examples): return tokenizer(examples[\"text\"])\n",
    "    tokenizer = AutoTokenizer.from_pretrained(tokenizer_name, use_fast=True)\n",
    "    tokenized_dsets = dsets.map(_tokenize, batched=True, num_proc=4, remove_columns=[\"text\"])\n",
    "    return tokenized_dsets.map(group_texts, batched=True, num_proc=4, batch_size=128)"
   ]
  },
  {
   "cell_type": "code",
   "execution_count": null,
   "id": "6758036f",
   "metadata": {},
   "outputs": [
    {
     "data": {
      "application/vnd.jupyter.widget-view+json": {
       "model_id": "135f7964f7c4416f9089e5d46009786a",
       "version_major": 2,
       "version_minor": 0
      },
      "text/plain": [
       "HBox(children=(FloatProgress(value=0.0, description='Downloading', max=762.0, style=ProgressStyle(description_…"
      ]
     },
     "metadata": {},
     "output_type": "display_data"
    },
    {
     "name": "stdout",
     "output_type": "stream",
     "text": [
      "\n"
     ]
    },
    {
     "data": {
      "application/vnd.jupyter.widget-view+json": {
       "model_id": "9b2a0b991453440daaaccb636af6d5e7",
       "version_major": 2,
       "version_minor": 0
      },
      "text/plain": [
       "HBox(children=(FloatProgress(value=0.0, description='Downloading', max=1042301.0, style=ProgressStyle(descript…"
      ]
     },
     "metadata": {},
     "output_type": "display_data"
    },
    {
     "name": "stdout",
     "output_type": "stream",
     "text": [
      "\n"
     ]
    },
    {
     "data": {
      "application/vnd.jupyter.widget-view+json": {
       "model_id": "c35a48b2cd6c4618b780ea9c6ebca4d8",
       "version_major": 2,
       "version_minor": 0
      },
      "text/plain": [
       "HBox(children=(FloatProgress(value=0.0, description='Downloading', max=456318.0, style=ProgressStyle(descripti…"
      ]
     },
     "metadata": {},
     "output_type": "display_data"
    },
    {
     "name": "stdout",
     "output_type": "stream",
     "text": [
      "\n"
     ]
    },
    {
     "data": {
      "application/vnd.jupyter.widget-view+json": {
       "model_id": "4092fe0e621e4acc8e394c219ca78d4d",
       "version_major": 2,
       "version_minor": 0
      },
      "text/plain": [
       "HBox(children=(FloatProgress(value=0.0, description='Downloading', max=1355256.0, style=ProgressStyle(descript…"
      ]
     },
     "metadata": {},
     "output_type": "display_data"
    },
    {
     "name": "stdout",
     "output_type": "stream",
     "text": [
      "\n",
      "\n",
      "\n",
      "\n",
      "\n",
      "\n",
      "\n",
      "\n",
      "\n",
      "\n",
      "\n",
      "\n",
      "\n",
      "\n",
      "\n",
      "\n",
      "\n",
      "\n",
      "\n",
      "\n",
      "\n",
      "\n",
      "\n",
      "\n",
      "\n"
     ]
    }
   ],
   "source": [
    "dsets = generate_dsets(dset, tokenizer_name='distilgpt2', batch_size=1000)"
   ]
  },
  {
   "cell_type": "markdown",
   "id": "12140cf0",
   "metadata": {},
   "source": [
    "## Working with AdaptNLP's Data API\n",
    "\n",
    "Now that we have some datasets, we'll use the lower level `TaskDatasets` API to generate our dataloaders for us:"
   ]
  },
  {
   "cell_type": "code",
   "execution_count": null,
   "id": "f2ad2ee3",
   "metadata": {},
   "outputs": [],
   "source": [
    "from adaptnlp.training.core import TaskDatasets"
   ]
  },
  {
   "cell_type": "markdown",
   "id": "9df2a9fa",
   "metadata": {},
   "source": [
    "We just need to pass in the train and validation datasets, and specify `tokenize` to `False` (as they are already tokenized)"
   ]
  },
  {
   "cell_type": "code",
   "execution_count": null,
   "id": "f4bf0bb7",
   "metadata": {},
   "outputs": [],
   "source": [
    "dset = TaskDatasets(dsets['train'], dsets['validation'], tokenize=False)"
   ]
  },
  {
   "cell_type": "markdown",
   "id": "6a575d49",
   "metadata": {},
   "source": [
    "Finally we just build our `DataLoaders`. We'll specify a batch size of 32 here:"
   ]
  },
  {
   "cell_type": "code",
   "execution_count": null,
   "id": "f335d8e0",
   "metadata": {},
   "outputs": [],
   "source": [
    "dls = dset.dataloaders(batch_size=32)"
   ]
  },
  {
   "cell_type": "markdown",
   "id": "41dcee59",
   "metadata": {},
   "source": [
    "Now we can tune a model!"
   ]
  },
  {
   "cell_type": "markdown",
   "id": "3542db1e",
   "metadata": {},
   "source": [
    "## Tuning a Model"
   ]
  },
  {
   "cell_type": "markdown",
   "id": "6a180407",
   "metadata": {},
   "source": [
    "For this next part, we will use the simple `Tuning` API to train our model. We'll use the `LanguageModelTuner` class, which has some good defaults for our task. And we'll also specify our `language_model_type` as `Causal`:"
   ]
  },
  {
   "cell_type": "code",
   "execution_count": null,
   "id": "85bc2c1c",
   "metadata": {},
   "outputs": [],
   "source": [
    "tuner = LanguageModelTuner(dls, 'distilgpt2', language_model_type=LMType.Causal)"
   ]
  },
  {
   "cell_type": "markdown",
   "id": "8b8f36c0",
   "metadata": {},
   "source": [
    "If we check out the `dir` we'll find we only have a few properties and functions we can use:"
   ]
  },
  {
   "cell_type": "code",
   "execution_count": null,
   "id": "7e8756e5",
   "metadata": {},
   "outputs": [
    {
     "data": {
      "text/plain": [
       "['dls',\n",
       " 'from_df',\n",
       " 'load',\n",
       " 'loss_func',\n",
       " 'lr_find',\n",
       " 'metrics',\n",
       " 'model',\n",
       " 'save',\n",
       " 'tune']"
      ]
     },
     "execution_count": null,
     "metadata": {},
     "output_type": "execute_result"
    }
   ],
   "source": [
    "[d for d in dir(tuner) if not d.startswith('_')]"
   ]
  },
  {
   "cell_type": "markdown",
   "id": "e3ced2aa",
   "metadata": {},
   "source": [
    "We only care about `lr_find`, `tune`, and `save` here.\n",
    "\n",
    "Since the training api is built on top of `fastai`, if you are experienced with fastai (or want to remove some abstraction and see under the hood), you can pass in `expose_fastai_api=True` to the constructor to have access to everything.\n",
    "\n",
    "Now let's find a good learning rate to use:"
   ]
  },
  {
   "cell_type": "code",
   "execution_count": null,
   "id": "472defbe",
   "metadata": {},
   "outputs": [
    {
     "data": {
      "text/html": [],
      "text/plain": [
       "<IPython.core.display.HTML object>"
      ]
     },
     "metadata": {},
     "output_type": "display_data"
    },
    {
     "name": "stderr",
     "output_type": "stream",
     "text": [
      "/opt/venv/lib/python3.8/site-packages/fastai/callback/schedule.py:270: UserWarning: color is redundantly defined by the 'color' keyword argument and the fmt string \"ro\" (-> color='r'). The keyword argument will take precedence.\n",
      "  ax.plot(val, idx, 'ro', label=nm, c=color)\n"
     ]
    },
    {
     "data": {
      "image/png": "[encoded data removed]",
      "text/plain": [
       "<Figure size 432x288 with 1 Axes>"
      ]
     },
     "metadata": {
      "needs_background": "light"
     },
     "output_type": "display_data"
    }
   ],
   "source": [
    "lr = tuner.lr_find()"
   ]
  },
  {
   "cell_type": "markdown",
   "id": "ad8b1332",
   "metadata": {},
   "source": [
    "We can see our recommended learning rate:"
   ]
  },
  {
   "cell_type": "code",
   "execution_count": null,
   "id": "dbcb7626",
   "metadata": {},
   "outputs": [
    {
     "name": "stdout",
     "output_type": "stream",
     "text": [
      "SuggestedLRs(valley=tensor(5.2481e-05))\n"
     ]
    }
   ],
   "source": [
    "print(lr)"
   ]
  },
  {
   "cell_type": "markdown",
   "id": "17121973",
   "metadata": {},
   "source": [
    "Let's train with 5e-5 with the `tune` method for 3 epochs. We'll also add in some weight decay:"
   ]
  },
  {
   "cell_type": "code",
   "execution_count": null,
   "id": "852e86f2",
   "metadata": {},
   "outputs": [
    {
     "data": {
      "text/html": [
       "<table border=\"1\" class=\"dataframe\">\n",
       "  <thead>\n",
       "    <tr style=\"text-align: left;\">\n",
       "      <th>epoch</th>\n",
       "      <th>train_loss</th>\n",
       "      <th>valid_loss</th>\n",
       "      <th>perplexity</th>\n",
       "      <th>time</th>\n",
       "    </tr>\n",
       "  </thead>\n",
       "  <tbody>\n",
       "    <tr>\n",
       "      <td>0</td>\n",
       "      <td>3.781469</td>\n",
       "      <td>3.686790</td>\n",
       "      <td>39.916527</td>\n",
       "      <td>06:50</td>\n",
       "    </tr>\n",
       "    <tr>\n",
       "      <td>1</td>\n",
       "      <td>3.648803</td>\n",
       "      <td>3.646324</td>\n",
       "      <td>38.333488</td>\n",
       "      <td>06:59</td>\n",
       "    </tr>\n",
       "    <tr>\n",
       "      <td>2</td>\n",
       "      <td>3.582164</td>\n",
       "      <td>3.642136</td>\n",
       "      <td>38.173275</td>\n",
       "      <td>06:56</td>\n",
       "    </tr>\n",
       "  </tbody>\n",
       "</table>"
      ],
      "text/plain": [
       "<IPython.core.display.HTML object>"
      ]
     },
     "metadata": {},
     "output_type": "display_data"
    }
   ],
   "source": [
    "tuner.tune(3, lr=5e-5, wd=1e-2)"
   ]
  },
  {
   "cell_type": "markdown",
   "id": "81ef0d32",
   "metadata": {},
   "source": [
    "And it's trained! "
   ]
  }
 ],
 "metadata": {
  "kernelspec": {
   "display_name": "Python 3 (ipykernel)",
   "language": "python",
   "name": "python3"
  }
 },
 "nbformat": 4,
 "nbformat_minor": 5
}
