{
 "cells": [
  {
   "cell_type": "code",
   "execution_count": null,
   "metadata": {},
   "outputs": [],
   "source": [
    "#default_exp model_hub"
   ]
  },
  {
   "cell_type": "markdown",
   "metadata": {},
   "source": [
    "# Interacting with HuggingFace and Flair, Model Zoo\n",
    "> An interactive API for model lookup within HuggingFace and Flair"
   ]
  },
  {
   "cell_type": "code",
   "execution_count": null,
   "metadata": {},
   "outputs": [],
   "source": [
    "#hide\n",
    "from nbdev.showdoc import show_doc\n",
    "from fastcore.test import *"
   ]
  },
  {
   "cell_type": "code",
   "execution_count": null,
   "metadata": {},
   "outputs": [],
   "source": [
    "#export\n",
    "from fastcore.basics import Self, merge\n",
    "from fastcore.utils import dict2obj, obj2dict\n",
    "from fastai_minima.utils import apply\n",
    "from huggingface_hub.hf_api import ModelInfo, HfApi\n",
    "\n",
    "from typing import List, Dict"
   ]
  },
  {
   "cell_type": "code",
   "execution_count": null,
   "metadata": {},
   "outputs": [],
   "source": [
    "#exporti\n",
    "_hf_tasks = {\n",
    "    'FILL_MASK':'fill-mask',\n",
    "    'QUESTION_ANSWERING':'question-answering',\n",
    "    'SUMMARIZATION':'summarization',\n",
    "    'TABLE_QUESTION_ANSWERING':'table-question-answering',\n",
    "    'TEXT_CLASSIFICATION':'text-classification',\n",
    "    'TEXT_GENERATION':'text-generation',\n",
    "    'TEXT2TEXT_GENERATION':'text2text-generation',\n",
    "    'TOKEN_CLASSIFICATION':'token-classification',\n",
    "    'TRANSLATION':'translation',\n",
    "    'ZERO_SHOT_CLASSIFICATION':'zero-shot-classification',\n",
    "    'CONVERSATIONAL':'conversational',\n",
    "    'TEXT_TO_SPEECH':'text-to-speech',\n",
    "    'AUTOMATIC_SPEECH_RECOGNITION':'automatic-speech-recognition',\n",
    "    'AUDIO_SOURCE_SEPERATION':'audio-source-seperation',\n",
    "    'VOICE_ACTIVITY_DETECTION':'voice-activity-detection'}"
   ]
  },
  {
   "cell_type": "code",
   "execution_count": null,
   "metadata": {},
   "outputs": [],
   "source": [
    "#export\n",
    "HF_TASKS = dict2obj(_hf_tasks)\n",
    "HF_TASKS.__doc__ = \"A list of all HuggingFace tasks for valid API lookup\""
   ]
  },
  {
   "cell_type": "markdown",
   "metadata": {},
   "source": [
    "For convience the `HF_TASKS` and `FLAIR_TASKS` objects can enable tab-completion for searching through the API:"
   ]
  },
  {
   "cell_type": "code",
   "execution_count": null,
   "metadata": {},
   "outputs": [
    {
     "data": {
      "text/markdown": [
       "<h4 id=\"- FILL_MASK: fill-mask\n",
       "- QUESTION_ANSWERING: question-answering\n",
       "- SUMMARIZATION: summarization\n",
       "- TABLE_QUESTION_ANSWERING: table-question-answering\n",
       "- TEXT_CLASSIFICATION: text-classification\n",
       "- TEXT_GENERATION: text-generation\n",
       "- TEXT2TEXT_GENERATION: text2text-generation\n",
       "- TOKEN_CLASSIFICATION: token-classification\n",
       "- TRANSLATION: translation\n",
       "- ZERO_SHOT_CLASSIFICATION: zero-shot-classification\n",
       "- CONVERSATIONAL: conversational\n",
       "- TEXT_TO_SPEECH: text-to-speech\n",
       "- AUTOMATIC_SPEECH_RECOGNITION: automatic-speech-recognition\n",
       "- AUDIO_SOURCE_SEPERATION: audio-source-seperation\n",
       "- VOICE_ACTIVITY_DETECTION: voice-activity-detection\" class=\"doc_header\"><code>- FILL_MASK: fill-mask\n",
       "- QUESTION_ANSWERING: question-answering\n",
       "- SUMMARIZATION: summarization\n",
       "- TABLE_QUESTION_ANSWERING: table-question-answering\n",
       "- TEXT_CLASSIFICATION: text-classification\n",
       "- TEXT_GENERATION: text-generation\n",
       "- TEXT2TEXT_GENERATION: text2text-generation\n",
       "- TOKEN_CLASSIFICATION: token-classification\n",
       "- TRANSLATION: translation\n",
       "- ZERO_SHOT_CLASSIFICATION: zero-shot-classification\n",
       "- CONVERSATIONAL: conversational\n",
       "- TEXT_TO_SPEECH: text-to-speech\n",
       "- AUTOMATIC_SPEECH_RECOGNITION: automatic-speech-recognition\n",
       "- AUDIO_SOURCE_SEPERATION: audio-source-seperation\n",
       "- VOICE_ACTIVITY_DETECTION: voice-activity-detection</code><a href=\"\" class=\"source_link\" style=\"float:right\">[source]</a></h4>\n",
       "\n",
       "A list of all HuggingFace tasks for valid API lookup"
      ],
      "text/plain": [
       "<IPython.core.display.Markdown object>"
      ]
     },
     "metadata": {},
     "output_type": "display_data"
    }
   ],
   "source": [
    "show_doc(HF_TASKS)"
   ]
  },
  {
   "cell_type": "code",
   "execution_count": null,
   "metadata": {},
   "outputs": [],
   "source": [
    "#export\n",
    "class HFModelResult:\n",
    "    \"\"\"\n",
    "    A very basic class for storing a HuggingFace model returned through an API request\n",
    "    \"\"\"\n",
    "    def __init__(self, model_info: ModelInfo):\n",
    "        self.info = model_info\n",
    "        \n",
    "    def __repr__(self): return f'Model Name: {self.name}, Tasks: [' + ', '.join(self.tasks) + ']'\n",
    "    \n",
    "    @property\n",
    "    def name(self): return self.info.modelId\n",
    "\n",
    "    @property\n",
    "    def tags(self): return self.info.tags\n",
    "    \n",
    "    @property\n",
    "    def tasks(self): \n",
    "        if self.info.pipeline_tag:\n",
    "            all_tasks = [self.info.pipeline_tag]\n",
    "            for tag in self.tags:\n",
    "                if (tag in HF_TASKS.keys()) and (tag not in all_tasks):\n",
    "                    all_tasks += [tag]\n",
    "        else: all_tasks = []\n",
    "        return all_tasks\n",
    "    \n",
    "    def to_dict(self): return {'model_name':self.name, 'tags':self.tags, 'tasks':self.tasks, 'model_info':self.info}"
   ]
  },
  {
   "cell_type": "code",
   "execution_count": null,
   "metadata": {},
   "outputs": [],
   "source": [
    "#export\n",
    "class HFModelSearchHub:\n",
    "    \"\"\"\n",
    "    A class for interacting with the HF model hub API, and searching for models by name or task\n",
    "    \n",
    "    Needs username and password for a `HuggingFace` account to search\n",
    "    \"\"\"\n",
    "    \n",
    "    def __init__(self, username='', password=''):\n",
    "        self.api = HfApi()\n",
    "        self.token = self.api.login(username, password)\n",
    "        \n",
    "    def _format_results(self, results:list, as_dict=False, user_uploaded=False) -> (List[HFModelResult], Dict[str, HFModelResult]):\n",
    "        \"\"\"\n",
    "        Takes raw HuggingFace API results and makes them easier to read and work with\n",
    "        \"\"\"\n",
    "        results = apply(HFModelResult, results)\n",
    "        if not user_uploaded:\n",
    "            results = [r for r in results if '/' not in r.name]\n",
    "        if as_dict:\n",
    "            dicts = apply(Self.to_dict(), results)\n",
    "            results = {m['model_name'] : m for m in dicts}\n",
    "        return results\n",
    "        \n",
    "    def search_model_by_task(self, task:str, as_dict=False, user_uploaded=False) -> (List[HFModelResult], Dict[str, HFModelResult]):\n",
    "        \"\"\"\n",
    "        Searches HuggingFace Model API for all pretrained models relating to `task` and returns a list of HFModelResults\n",
    "        \n",
    "        Optionally can return all models as a `dict` rather than a list\n",
    "        \n",
    "        If `user_uploaded` is False, will only return models originating in HuggingFace (such as distilgpt2)\n",
    "              \n",
    "        Usage:\n",
    "        ```python\n",
    "          hub = HFModelHubSearch(username, password)\n",
    "          hub.search_model_by_task('summarization')\n",
    "          # OR #\n",
    "          hub.search_model_by_task(HF_TASKS.SUMMARIZATION)\n",
    "      ```\n",
    "        \"\"\"\n",
    "        if task not in TASKS.values():\n",
    "            raise ValueError(f'''`{task}` is not a valid task. \n",
    "            \n",
    "            Please choose a valid one available from HuggingFace: (https://huggingface.co/transformers/task_summary.html) \n",
    "            Or with the `HF_TASKS` object''')\n",
    "        models = self.api.list_models(task)\n",
    "        return self._format_results(models, as_dict, user_uploaded)\n",
    "    \n",
    "    def search_model_by_name(self, name:str, as_dict=False, user_uploaded=False) -> (List[HFModelResult], Dict[str, HFModelResult]):\n",
    "        \"\"\"\n",
    "        Searches HuggingFace Model API for all pretrained models containing `name` and returns a list of HFModelResults\n",
    "        \n",
    "        Optionally can return all models as `dict` rather than a list\n",
    "        \n",
    "        If `user_uploaded` is False, will only return models originating from HuggingFace (such as distilgpt2)\n",
    "        \n",
    "        Usage:\n",
    "          ```python\n",
    "          hub = HFModelHubSearch(username, password)\n",
    "          hub.search_model_by_name('gpt2')\n",
    "          ```\n",
    "        \"\"\"\n",
    "        if user_uploaded:\n",
    "            models = self.api.list_models()\n",
    "            models = self._format_results(models, as_dict, user_uploaded)\n",
    "            models = [m for m in models if name in m.name]\n",
    "            \n",
    "        else:\n",
    "            models = self.api.list_models(name)\n",
    "            models = self._format_results(models, as_dict, user_uploaded)\n",
    "        return models"
   ]
  },
  {
   "cell_type": "code",
   "execution_count": null,
   "metadata": {},
   "outputs": [],
   "source": [
    "#exporti\n",
    "_flair_tasks = {\n",
    "    'NAMED_ENTITY_RECOGNITION':'ner',\n",
    "    'PHRASE_CHUNKING':'chunk',\n",
    "    'VERB_DISAMBIGUATION':'frame',\n",
    "    'PART_OF_SPEECH_TAGGING':'pos',\n",
    "    'UNIVERSAL_PART_OF_SPEECH_TAGGING':'upos'\n",
    "    \n",
    "}"
   ]
  },
  {
   "cell_type": "code",
   "execution_count": null,
   "metadata": {},
   "outputs": [],
   "source": [
    "#export\n",
    "FLAIR_TASKS = dict2obj(_flair_tasks)\n",
    "FLAIR_TASKS.__doc__ = \"A list of all Flair model tasks for valid API lookup\""
   ]
  },
  {
   "cell_type": "code",
   "execution_count": null,
   "metadata": {},
   "outputs": [],
   "source": [
    "#export\n",
    "class FlairModelSearchHub:\n",
    "    \"\"\"\n",
    "    A class for interacting with the HF model hub API, and searching for Flair models by name or task\n",
    "    \n",
    "    Needs username and password for a `HuggingFace` account to search\n",
    "    \"\"\"\n",
    "    \n",
    "    def __init__(self, username='', password=''):\n",
    "        self.api = HfApi()\n",
    "        self.token = self.api.login(username, password)\n",
    "        \n",
    "    def _format_results(self, results:list, as_dict=False, user_uploaded=False) -> (List[HFModelResult], Dict[str, HFModelResult]):\n",
    "        \"\"\"\n",
    "        Takes raw HuggingFace API results and makes them easier to read and work with\n",
    "        \"\"\"\n",
    "        results = apply(HFModelResult, results)\n",
    "        if not user_uploaded:\n",
    "            results = [r for r in results if 'flair/' in r.name]\n",
    "        if as_dict:\n",
    "            dicts = apply(Self.to_dict(), results)\n",
    "            results = {m['model_name'] : m for m in dicts}\n",
    "        return results\n",
    "    \n",
    "    def search_model_by_name(self, name:str, as_dict=False, user_uploaded=False) -> (List[HFModelResult], Dict[str, HFModelResult]):\n",
    "        \"\"\"\n",
    "        Searches HuggingFace Model API for all flair models containing `name` and returns a list of `HFModelResults`\n",
    "        \n",
    "        Optionally can return all models as `dict` rather than a list\n",
    "        \n",
    "        If `user_uploaded` is False, will only return models originating from Flair (such as flair/chunk-english-fast)\n",
    "        \n",
    "        Usage:\n",
    "          ```python\n",
    "          hub = FlairModelHubSearch(username, password)\n",
    "          hub.search_model_by_name('flair/chunk-english-fast')\n",
    "          ```\n",
    "        \"\"\"\n",
    "        models = self.api.list_models('flair')\n",
    "        models = [m for m in models if name in m.modelId]\n",
    "        return self._format_results(models, as_dict, user_uploaded)\n",
    "    \n",
    "    def search_model_by_task(self, task:str, as_dict=False, user_uploaded=False) -> (List[HFModelResult], Dict[str, HFModelResult]):\n",
    "        \"\"\"\n",
    "        Searches HuggingFace Model API for all flair models for `task` and returns a list of `HFModelResults`\n",
    "        \n",
    "        Optionally can return all models as `dict` rather than a list\n",
    "        \n",
    "        If `user_uploaded` is False, will only return models originating from Flair (such as flair/chunk-english-fast)\n",
    "        \n",
    "        Usage:\n",
    "        ```python\n",
    "            hub = FlairModelHubSearch(username, password)\n",
    "            hub.search_model_by_task('ner')\n",
    "            # OR: #\n",
    "            hub.search_model_by_task(FLAIR_TASKS.NAMED_ENTITY_RECOGNITION)\n",
    "        \"\"\"\n",
    "        if (task not in FLAIR_TASKS.values()) and (task != ''):\n",
    "            raise ValueError(f'''`{task}` is not a valid task. \n",
    "            \n",
    "            Please choose a valid one available from Flair: (https://huggingface.co/flair) \n",
    "            Or with the `FLAIR_TASKS` object''')\n",
    "        models = self.api.list_models('flair')\n",
    "        models = [m for m in models if task in m.modelId]\n",
    "        return self._format_results(models, as_dict, user_uploaded)"
   ]
  },
  {
   "cell_type": "code",
   "execution_count": null,
   "metadata": {},
   "outputs": [],
   "source": [
    "# TODO: Write tests with a gh secret so I can test the API"
   ]
  }
 ],
 "metadata": {
  "kernelspec": {
   "display_name": "Python 3",
   "language": "python",
   "name": "python3"
  }
 },
 "nbformat": 4,
 "nbformat_minor": 4
}
