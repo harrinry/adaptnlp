{
 "cells": [
  {
   "cell_type": "code",
   "execution_count": null,
   "id": "f859213c",
   "metadata": {},
   "outputs": [],
   "source": [
    "#default_exp training.tuner"
   ]
  },
  {
   "cell_type": "markdown",
   "id": "9aed4238",
   "metadata": {},
   "source": [
    "# Tuning API\n",
    "> Modules for task fine-tuning"
   ]
  },
  {
   "cell_type": "code",
   "execution_count": null,
   "id": "4b7c1174",
   "metadata": {},
   "outputs": [],
   "source": [
    "#hide\n",
    "from nbdev.showdoc import *\n",
    "from fastcore.test import *"
   ]
  },
  {
   "cell_type": "code",
   "execution_count": null,
   "id": "41b211be",
   "metadata": {},
   "outputs": [],
   "source": [
    "#export\n",
    "from fastai.learner import *\n",
    "from fastai.data.all import *\n",
    "from fastai.callback.all import *\n",
    "from fastai.metrics import *\n",
    "from fastai.losses import *\n",
    "from fastai.optimizer import *\n",
    "# NOTE: Placeholder imports, remove once we are ready for release"
   ]
  },
  {
   "cell_type": "code",
   "execution_count": null,
   "id": "9503b80a",
   "metadata": {},
   "outputs": [],
   "source": [
    "#export\n",
    "class AdaptiveLearner(Learner):\n",
    "    \"\"\"\n",
    "    A base fastai `Learner` that overrides `_split` and `_do_one_batch` to\n",
    "    have it work with HuggingFace datasets and models\n",
    "    \"\"\"\n",
    "    def _split(self, b):\n",
    "        \"Assign `self.xb` to model input and labels\"\n",
    "        self.xb = b\n",
    "        if not isinstance(b, dict): raise NotImplementedError('Datasets that are not dictionaries are not supported')\n",
    "        if 'labels' in b.keys(): self.yb = b['labels'].unsqueeze(0)\n",
    "    \n",
    "    def _do_one_batch(self):\n",
    "        \"Move a batch of data to a device, get predictions, calculate the loss, and perform backward pass\"\n",
    "        self.xb = {k:v.to(self.device) for k,v in self.xb.items()} # See if `to_device` fixes this\n",
    "        self.yb = self.yb.to(self.device)\n",
    "        out = self.model(**self.xb)\n",
    "        self.pred = out['logits'].to(self.device)\n",
    "        self('after_pred')\n",
    "        if 'loss' in out.keys() and self.loss_func is None:\n",
    "            self.loss_grad = out['loss'].to(self.device)\n",
    "            self.loss = self.loss_grad.clone()\n",
    "        elif len(self.yb) and self.loss_func is not None:\n",
    "            self.loss_grad = self.loss_func(self.pred, *self.yb)\n",
    "            self.loss = self.loss_grad.clone()\n",
    "        self('after_loss')\n",
    "        if not self.training or not len(self.yb): return\n",
    "        self('before_backward')\n",
    "        self.loss_grad.backward()\n",
    "        self._with_events(self.opt.step, 'step', CancelStepException)\n",
    "        self.opt.zero_grad()\n",
    "    \n",
    "    def predict(self, inp): raise NotImplementedError()"
   ]
  },
  {
   "cell_type": "markdown",
   "id": "9eda5ab0",
   "metadata": {},
   "source": [
    "The `AdaptiveLearner` class is the base class you should use when fine-tuning on `HuggingFace` models and datasets. It assumes that the dataset will *always* be a dictionary, with labels always being a `labels` key. Futher task-specific `Learner`'s are detailed below:"
   ]
  },
  {
   "cell_type": "code",
   "execution_count": null,
   "id": "89d2e611",
   "metadata": {},
   "outputs": [],
   "source": [
    "#export\n",
    "class SequenceClassificationTuner(AdaptiveLearner):\n",
    "    \"\"\"\n",
    "    A `AdaptiveLearner` with good defaults for Sequence Classification tasks\n",
    "    \n",
    "    **Valid kwargs and defaults:**\n",
    "      - `lr`:float = 0.001\n",
    "      - `splitter`:function = `trainable_params`\n",
    "      - `cbs`:list = None\n",
    "      - `path`:Path = None\n",
    "      - `model_dir`:Path = 'models'\n",
    "      - `wd`:float = None\n",
    "      - `wd_bn_bias`:bool = False\n",
    "      - `train_bn`:bool = True\n",
    "      - `moms`: tuple(float) = (0.95, 0.85, 0.95)\n",
    "    \n",
    "    \"\"\"\n",
    "    def __init__(\n",
    "        self,\n",
    "        dls:DataLoaders, # A set of DataLoaders\n",
    "        model, # A HuggingFace model\n",
    "        loss_func = CrossEntropyLossFlat(), # A loss function\n",
    "        metrics = [accuracy, F1Score()], # Metrics to monitor the training with\n",
    "        opt_func = Adam, # A fastai or torch Optimizer\n",
    "        additional_cbs = None, # Additional Callbacks to have always tied to the Tuner\n",
    "        **kwargs, # kwargs for `Learner.__init__`\n",
    "    ):\n",
    "        additional_cbs = listify(additional_cbs)\n",
    "        for arg in 'dls,model,loss_func,metrics,opt_func,cbs'.split(','): kwargs.pop(arg) # Pop all existing kwargs\n",
    "        super().__init__(\n",
    "            self, \n",
    "            dls, \n",
    "            model, \n",
    "            loss_func = loss_func, \n",
    "            metrics = metrics, \n",
    "            opt_func = opt_func, \n",
    "            cbs=additional_cbs, \n",
    "            **kwargs\n",
    "        )"
   ]
  },
  {
   "cell_type": "code",
   "execution_count": null,
   "id": "dcfca61f",
   "metadata": {},
   "outputs": [],
   "source": []
  }
 ],
 "metadata": {
  "kernelspec": {
   "display_name": "Python 3",
   "language": "python",
   "name": "python3"
  }
 },
 "nbformat": 4,
 "nbformat_minor": 5
}
