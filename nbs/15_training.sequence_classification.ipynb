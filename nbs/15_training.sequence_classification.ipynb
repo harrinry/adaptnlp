{
 "cells": [
  {
   "cell_type": "code",
   "execution_count": null,
   "id": "c64deeed",
   "metadata": {},
   "outputs": [],
   "source": [
    "#default_exp training.sequence_classification"
   ]
  },
  {
   "cell_type": "markdown",
   "id": "9ef2fcad",
   "metadata": {},
   "source": [
    "# Sequence Classification Tuning\n",
    "> Data and Tuning API for Sequence Classification Tasks"
   ]
  },
  {
   "cell_type": "code",
   "execution_count": null,
   "id": "14f8ee22",
   "metadata": {},
   "outputs": [],
   "source": [
    "#hide\n",
    "from nbdev.showdoc import *\n",
    "from fastcore.test import *"
   ]
  },
  {
   "cell_type": "code",
   "execution_count": null,
   "id": "23625fe3",
   "metadata": {},
   "outputs": [],
   "source": [
    "#export\n",
    "import pandas as pd\n",
    "from fastcore.foundation import L\n",
    "from fastcore.meta import delegates\n",
    "from fastcore.xtras import Path, range_of\n",
    "\n",
    "from fastai.basics import * # TODO: Replace with absolutes in fastai_minima\n",
    "\n",
    "from datasets import Dataset\n",
    "from transformers import AutoModelForSequenceClassification, default_data_collator\n",
    "\n",
    "from adaptnlp.training.core import * # Core has everything we need so you should always import * with it"
   ]
  },
  {
   "cell_type": "markdown",
   "id": "2659d49f",
   "metadata": {},
   "source": [
    "## Datasets"
   ]
  },
  {
   "cell_type": "code",
   "execution_count": null,
   "id": "c1465bbb",
   "metadata": {},
   "outputs": [],
   "source": [
    "#export\n",
    "class SequenceClassificationDatasets(TaskDatasets):\n",
    "    \"\"\"\n",
    "    A set of datasets designed for sequence classification\n",
    "    \"\"\"\n",
    "    def __init__(\n",
    "        self,\n",
    "        items, # Some items we can pull x's and y's from\n",
    "        get_x = ColReader('text'), # A function taking in one item and extracting the text\n",
    "        get_y = ColReader('label'), # A function taking in one item and extracting the label(s)\n",
    "        splits = None, # Indexs to split the data from\n",
    "        tokenizer_name:str = None, # The string name of a `HuggingFace` tokenizer or model. If `None`, will not tokenize the dataset.\n",
    "        tokenize:bool = True, # Whether to tokenize the dataset immediatly\n",
    "        tokenize_kwargs:dict = {'padding':True}, # Some kwargs for when we call the tokenizer\n",
    "        auto_kwargs:dict = {}, # Some kwargs when calling `AutoTokenizer.from_pretrained`\n",
    "    ):\n",
    "        xs = L(L(items).map(get_x)[0].values, use_list=True)\n",
    "        ys = L(L(items).map(get_y)[0].values, use_list=True)\n",
    "        self.categorize = Categorize(ys)\n",
    "        ys = L([self.categorize(y) for y in ys], use_list=True)\n",
    "        train_xs, train_ys = xs[splits[0]], ys[splits[0]]\n",
    "        valid_xs, valid_ys = xs[splits[1]], ys[splits[1]]\n",
    "        \n",
    "        train_dset = Dataset.from_dict({\n",
    "            'text':train_xs,\n",
    "            'labels':train_ys\n",
    "        })\n",
    "        \n",
    "        valid_dset = Dataset.from_dict({\n",
    "            'text':valid_xs,\n",
    "            'labels':valid_ys\n",
    "        })\n",
    "        \n",
    "        super().__init__(train_dset, valid_dset, tokenizer_name, tokenize, tokenize_kwargs, auto_kwargs)\n",
    "        \n",
    "    \n",
    "    @classmethod\n",
    "    def from_df(\n",
    "        cls,\n",
    "        df:pd.DataFrame, # A Pandas Dataframe or Path to a DataFrame\n",
    "        text_col:str = 'text', # Name of the column the text is stored\n",
    "        label_col:str = 'labels', # Name of the column the label(s) are stored\n",
    "        splits = None, # Indexes to split the data with\n",
    "        tokenizer_name:str = None, # The string name of a `HuggingFace` tokenizer or model. If `None`, will not tokenize the dataset.\n",
    "        tokenize:bool = True, # Whether to tokenize the dataset immediatly\n",
    "        tokenize_kwargs:dict = {'padding':True}, # Some kwargs for when we call the tokenizer\n",
    "        auto_kwargs:dict = {}, # Some kwargs when calling `AutoTokenizer.from_pretrained`\n",
    "    ):\n",
    "        \"Builds `SequenceClassificationDatasets` from a `DataFrame` or file path\"\n",
    "        get_x = ColReader(text_col)\n",
    "        get_y = ColReader(label_col)\n",
    "        if splits is None: splits = RandomSplitter(0.2)(range_of(df))\n",
    "        return cls(df, get_x, get_y, splits, tokenizer_name, tokenize, tokenize_kwargs, auto_kwargs)\n",
    "    \n",
    "    @delegates(DataLoaders)\n",
    "    def dataloaders(\n",
    "        self, \n",
    "        batch_size=8, # A batch size\n",
    "        shuffle_train=True, # Whether to shuffle the training dataset\n",
    "        collate_fn = None, # A custom collation function\n",
    "        **kwargs): # Torch DataLoader kwargs\n",
    "        dls = super().dataloaders(batch_size, shuffle_train, collate_fn, **kwargs)\n",
    "        dls[0].categorize = self.categorize\n",
    "        return dls"
   ]
  },
  {
   "cell_type": "markdown",
   "id": "a17ec21f",
   "metadata": {},
   "source": [
    "Currently `SequenceClassificationDatasets` only supports reading in data from a `DataFrame` or similar item.\n",
    "\n",
    "When passing in kwargs if anything should go to the `tokenize` function they should go to `tokenize_kwargs`, and if it should go to the `Auto` class constructor, they should go to `auto_kwargs`"
   ]
  },
  {
   "cell_type": "code",
   "execution_count": null,
   "id": "9b587259",
   "metadata": {},
   "outputs": [
    {
     "data": {
      "application/vnd.jupyter.widget-view+json": {
       "model_id": "c24a22a42af245afbc4dfa05c26a3523",
       "version_major": 2,
       "version_minor": 0
      },
      "text/plain": [
       "HBox(children=(FloatProgress(value=0.0, max=1.0), HTML(value='')))"
      ]
     },
     "metadata": {},
     "output_type": "display_data"
    },
    {
     "name": "stdout",
     "output_type": "stream",
     "text": [
      "\n"
     ]
    },
    {
     "data": {
      "application/vnd.jupyter.widget-view+json": {
       "model_id": "07a0fedc68774b73b3e64dc2a83f4b59",
       "version_major": 2,
       "version_minor": 0
      },
      "text/plain": [
       "HBox(children=(FloatProgress(value=0.0, max=1.0), HTML(value='')))"
      ]
     },
     "metadata": {},
     "output_type": "display_data"
    },
    {
     "name": "stdout",
     "output_type": "stream",
     "text": [
      "\n"
     ]
    }
   ],
   "source": [
    "from fastai.data.external import URLs, untar_data\n",
    "path = untar_data(URLs.IMDB_SAMPLE)\n",
    "df = pd.read_csv(path/'texts.csv')\n",
    "dset = SequenceClassificationDatasets.from_df(\n",
    "    df,\n",
    "    'text',\n",
    "    'label',\n",
    "    tokenizer_name = \"bert-base-uncased\",\n",
    "    tokenize=True,\n",
    "    tokenize_kwargs = {'max_length':512, 'truncation':True}\n",
    ")\n",
    "\n",
    "test_eq(len(dset.train), 800)\n",
    "test_eq(len(dset.valid), 200)\n",
    "test_eq(len(dset.train[0]), 4) \n",
    "test_eq(dset.train[0].keys(), ['attention_mask', 'input_ids', 'labels', 'token_type_ids'])"
   ]
  },
  {
   "cell_type": "markdown",
   "id": "d0db08ec",
   "metadata": {},
   "source": [
    "## Sequence Classification Tuner"
   ]
  },
  {
   "cell_type": "code",
   "execution_count": null,
   "id": "6f068bb8",
   "metadata": {},
   "outputs": [],
   "source": [
    "#export\n",
    "class SequenceClassificationTuner(AdaptiveTuner):\n",
    "    \"\"\"\n",
    "    An `AdaptiveTuner` with good defaults for Sequence Classification tasks\n",
    "    \n",
    "    **Valid kwargs and defaults:**\n",
    "      - `lr`:float = 0.001\n",
    "      - `splitter`:function = `trainable_params`\n",
    "      - `cbs`:list = None\n",
    "      - `path`:Path = None\n",
    "      - `model_dir`:Path = 'models'\n",
    "      - `wd`:float = None\n",
    "      - `wd_bn_bias`:bool = False\n",
    "      - `train_bn`:bool = True\n",
    "      - `moms`: tuple(float) = (0.95, 0.85, 0.95)\n",
    "    \n",
    "    \"\"\"\n",
    "    def __init__(\n",
    "        self,\n",
    "        dls:DataLoaders, # A set of DataLoaders\n",
    "        model_name:str, # A HuggingFace model\n",
    "        loss_func = CrossEntropyLossFlat(), # A loss function\n",
    "        metrics = [accuracy, F1Score()], # Metrics to monitor the training with\n",
    "        opt_func = Adam, # A fastai or torch Optimizer\n",
    "        additional_cbs = None, # Additional Callbacks to have always tied to the Tuner,\n",
    "        expose_fastai_api = False, # Whether to expose the fastai API\n",
    "        num_classes:int=None, # The number of classes\n",
    "        **kwargs, # kwargs for `Learner.__init__`\n",
    "    ):\n",
    "        additional_cbs = listify(additional_cbs)\n",
    "        for arg in 'dls,model,loss_func,metrics,opt_func,cbs,expose_fastai'.split(','): \n",
    "            if arg in kwargs.keys(): kwargs.pop(arg) # Pop all existing kwargs\n",
    "        if hasattr(dls[0], 'categorize'): num_classes = getattr(dls[0].categorize, 'classes', None)\n",
    "        if num_classes is None: raise ValueError(\"Could not extrapolate number of classes, please pass it in as a param\")\n",
    "        model = AutoModelForSequenceClassification.from_pretrained(model_name, num_labels=num_classes)\n",
    "        \n",
    "        super().__init__(\n",
    "            expose_fastai_api,\n",
    "            dls = dls, \n",
    "            model = model, \n",
    "            loss_func = loss_func, \n",
    "            metrics = metrics, \n",
    "            opt_func = opt_func, \n",
    "            cbs=additional_cbs, \n",
    "            **kwargs\n",
    "        )\n",
    "    \n",
    "    @delegates(Learner.__init__)\n",
    "    @classmethod\n",
    "    def from_df(\n",
    "        cls,\n",
    "        df:pd.DataFrame, # A Pandas Dataframe or Path to a DataFrame\n",
    "        text_col:str = 'text', # Name of the column the text is stored\n",
    "        label_col:str = 'labels', # Name of the column the label(s) are stored\n",
    "        model_name:str = None, # The string name of a huggingFace model\n",
    "        split_func:callable = RandomSplitter(), # A function which splits the data\n",
    "        loss_func = CrossEntropyLossFlat(), # A loss function\n",
    "        metrics = [accuracy, F1Score()], # Metrics to monitor the training with\n",
    "        batch_size=8, # A batch size\n",
    "        collate_fn=default_data_collator, # An optional custom collate function\n",
    "        opt_func = Adam, # A fastai or torch Optimizer\n",
    "        additional_cbs = None, # Additional Callbacks to have always tied to the Tuner,\n",
    "        expose_fastai_api = False, # Whether to expose the fastai API\n",
    "        tokenize_kwargs:dict = {'padding':True}, # Some kwargs for when we call the tokenizer\n",
    "        auto_kwargs:dict = {}, # Some kwargs when calling `AutoTokenizer.from_pretrained`\n",
    "        **kwargs # Learner kwargs\n",
    "    ):\n",
    "        \"Convience method to build a `SequenceClassificationTuner` from a Pandas Dataframe\"\n",
    "        try:\n",
    "            splits = split_func(df)\n",
    "        except:\n",
    "            splits = split_func(range_of(df))\n",
    "        dls = SequenceClassificationDatasets.from_df(\n",
    "            df,\n",
    "            text_col,\n",
    "            label_col,\n",
    "            splits,\n",
    "            tokenizer_name=model_name,\n",
    "            tokenize_kwargs=tokenize_kwargs,\n",
    "            auto_kwargs=auto_kwargs\n",
    "        ).dataloaders(batch_size, collate_fn)\n",
    "        \n",
    "        return cls(dls, model_name, loss_func, metrics, opt_func, additional_cbs, expose_fastai_api)"
   ]
  },
  {
   "cell_type": "code",
   "execution_count": null,
   "id": "b9910daa",
   "metadata": {},
   "outputs": [],
   "source": []
  }
 ],
 "metadata": {
  "kernelspec": {
   "display_name": "Python 3",
   "language": "python",
   "name": "python3"
  }
 },
 "nbformat": 4,
 "nbformat_minor": 5
}
