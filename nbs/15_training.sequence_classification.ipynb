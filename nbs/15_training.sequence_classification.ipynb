{
 "cells": [
  {
   "cell_type": "code",
   "execution_count": null,
   "id": "c64deeed",
   "metadata": {},
   "outputs": [],
   "source": [
    "#default_exp training.sequence_classification"
   ]
  },
  {
   "cell_type": "markdown",
   "id": "9ef2fcad",
   "metadata": {},
   "source": [
    "# Sequence Classification Tuning\n",
    "> Data and Tuning API for Sequence Classification Tasks"
   ]
  },
  {
   "cell_type": "code",
   "execution_count": null,
   "id": "14f8ee22",
   "metadata": {},
   "outputs": [],
   "source": [
    "#hide\n",
    "from nbdev.showdoc import *\n",
    "from fastcore.test import *"
   ]
  },
  {
   "cell_type": "code",
   "execution_count": null,
   "id": "23625fe3",
   "metadata": {},
   "outputs": [],
   "source": [
    "#export\n",
    "import pandas as pd\n",
    "from fastcore.foundation import L\n",
    "from fastcore.meta import delegates\n",
    "from fastcore.xtras import Path, range_of\n",
    "\n",
    "from fastai.basics import *\n",
    "from fastai.data.transforms import get_files\n",
    "\n",
    "from datasets import Dataset\n",
    "from transformers import AutoModelForSequenceClassification, default_data_collator, AutoTokenizer\n",
    "\n",
    "from adaptnlp.training.core import * # Core has everything we need so you should always import * with it\n",
    "\n",
    "from adaptnlp.inference.sequence_classification import TransformersSequenceClassifier, SequenceResult, DetailLevel\n",
    "from typing import List\n",
    "\n",
    "from adaptnlp.training.arrow_utils import TextNoNewLineDatasetReader"
   ]
  },
  {
   "cell_type": "markdown",
   "id": "2659d49f",
   "metadata": {},
   "source": [
    "## Datasets"
   ]
  },
  {
   "cell_type": "code",
   "execution_count": null,
   "id": "16428964",
   "metadata": {},
   "outputs": [],
   "source": [
    "#export\n",
    "def _tokenize(item, tokenizer, tokenize_kwargs): return tokenizer(item['text'], **tokenize_kwargs)"
   ]
  },
  {
   "cell_type": "code",
   "execution_count": null,
   "id": "c1465bbb",
   "metadata": {},
   "outputs": [],
   "source": [
    "#export\n",
    "class SequenceClassificationDatasets(TaskDatasets):\n",
    "    \"\"\"\n",
    "    A set of datasets designed for sequence classification\n",
    "    \"\"\"\n",
    "    def __init__(\n",
    "        self,\n",
    "        train_dset,\n",
    "        valid_dset,\n",
    "        tokenizer_name,\n",
    "        tokenize,\n",
    "        tokenize_kwargs,\n",
    "        auto_kwargs,\n",
    "        remove_columns,\n",
    "        categorize\n",
    "    ):     \n",
    "        \"Constructs TaskDatasets, should not be called explicitly\"\n",
    "        super().__init__(\n",
    "            train_dset, \n",
    "            valid_dset, \n",
    "            tokenizer_name, \n",
    "            tokenize, \n",
    "            _tokenize, \n",
    "            tokenize_kwargs, \n",
    "            auto_kwargs, \n",
    "            remove_columns\n",
    "        )\n",
    "        self.categorize = categorize\n",
    "        \n",
    "    \n",
    "    @classmethod\n",
    "    def from_dfs(\n",
    "        cls,\n",
    "        train_df:pd.DataFrame, # A training dataframe\n",
    "        text_col:str, # The name of the text column\n",
    "        label_col:str, # The name of the label column\n",
    "        tokenizer_name:str, # The name of the tokenizer\n",
    "        tokenize:bool=True, # Whether to tokenize immediatly\n",
    "        is_multicategory:bool=False, # Whether each item has a single label or multiple labels\n",
    "        label_delim=' ', # If `is_multicategory`, how to seperate the labels\n",
    "        valid_df=None, # An optional validation dataframe\n",
    "        split_func=None, # Optionally a splitting function similar to RandomSplitter\n",
    "        split_pct=.2, # What % to split the train_df\n",
    "        tokenize_kwargs:dict={}, # kwargs for the tokenize function\n",
    "        auto_kwargs:dict={} # kwargs for the AutoTokenizer.from_pretrained constructor\n",
    "    ):\n",
    "        \"Builds `SequenceClassificationDatasets` from a `DataFrame` or set of `DataFrames`\"\n",
    "        if split_func is None: split_func = RandomSplitter(split_pct)\n",
    "        if valid_df is None:\n",
    "            train_idxs, valid_idxs = split_func(train_df)\n",
    "            valid_df = train_df.iloc[valid_idxs]\n",
    "            train_df = train_df.iloc[train_idxs]\n",
    "            \n",
    "        train_df = train_df[[text_col,label_col]]\n",
    "        valid_df = valid_df[[text_col,label_col]]\n",
    "        train_df = train_df.rename(columns={text_col:'text', label_col: 'label'})\n",
    "        valid_df = valid_df.rename(columns={text_col:'text', label_col: 'label'})\n",
    "            \n",
    "        lbls = list(train_df['label'].unique())\n",
    "        if is_multicategory:\n",
    "            classes = set()\n",
    "            for lbl in lbls:\n",
    "                sep_l = lbl.split(label_delim)\n",
    "                for l in sep_l: classes.add(l)\n",
    "            categorize = MultiCategorize(classes)\n",
    "        else:\n",
    "            classes = set()\n",
    "            for lbl in lbls: classes.add(lbl)\n",
    "            categorize = Categorize(classes)\n",
    "        \n",
    "        train_df['label'] = train_df['label'].apply(lambda x: categorize(x))\n",
    "        valid_df['label'] = valid_df['label'].apply(lambda x: categorize(x))\n",
    "            \n",
    "        \n",
    "        train_dset = Dataset.from_dict(train_df.to_dict('list'))\n",
    "        valid_dset = Dataset.from_dict(valid_df.to_dict('list'))\n",
    "        return cls(\n",
    "            train_dset, \n",
    "            valid_dset, \n",
    "            tokenizer_name, \n",
    "            tokenize, \n",
    "            tokenize_kwargs, \n",
    "            auto_kwargs, \n",
    "            remove_columns=['text'], \n",
    "            categorize=categorize\n",
    "        )\n",
    "        \n",
    "    @classmethod\n",
    "    def from_csvs(\n",
    "        cls,\n",
    "        train_csv:Path, # A training csv file\n",
    "        text_col:str, # The name of the text column\n",
    "        label_col:str, # The name of the label column\n",
    "        tokenizer_name:str, # The name of the tokenizer\n",
    "        tokenize:bool=True, # Whether to tokenize immediatly\n",
    "        is_multicategory:bool=False, # Whether each item has a single label or multiple labels\n",
    "        label_delim=' ', # If `is_multicategory`, how to seperate the labels\n",
    "        valid_csv:Path=None, # An optional validation csv\n",
    "        split_func=None, # Optionally a splitting function similar to RandomSplitter\n",
    "        split_pct=.2, # What % to split the train_df\n",
    "        tokenize_kwargs:dict={}, # kwargs for the tokenize function\n",
    "        auto_kwargs:dict={}, # kwargs for the AutoTokenizer.from_pretrained constructor\n",
    "        **kwargs, # kwargs for `pd.read_csv`\n",
    "    ):\n",
    "        \"Builds `SequenceClassificationDatasets` from a single csv or set of csvs. A convience constructor for `from_dfs`\"\n",
    "        train_df = pd.read_csv(train_csv, **kwargs)\n",
    "        if valid_csv is not None: valid_df = pd.read_csv(valid_csv, **kwargs)\n",
    "        else: valid_df = None\n",
    "        return cls.from_dfs(\n",
    "            train_df, \n",
    "            text_col, \n",
    "            label_col, \n",
    "            tokenizer_name, \n",
    "            tokenize, \n",
    "            is_multicategory, \n",
    "            label_delim, \n",
    "            valid_df, \n",
    "            split_func, \n",
    "            split_pct, \n",
    "            tokenize_kwargs, \n",
    "            auto_kwargs\n",
    "        )\n",
    "            \n",
    "    @classmethod\n",
    "    def from_folders(\n",
    "        cls,\n",
    "        train_path:Path, # The path to the training data\n",
    "        get_label:callable, # A function which grabs the label(s) given a text files `Path`\n",
    "        tokenizer_name:str, # The name of the tokenizer\n",
    "        tokenize:bool=True, # Whether to tokenize immediatly\n",
    "        is_multicategory:bool=False, # Whether each item has a single label or multiple labels\n",
    "        label_delim='_', # if `is_multicategory`, how to seperate the labels\n",
    "        valid_path:Path=None, # The path to the validation data\n",
    "        split_func=None, # Optionally a splitting function similar to RandomSplitter\n",
    "        split_pct=.2, # What % to split the items in the `train_path`\n",
    "        tokenize_kwargs:dict={}, # kwargs for the tokenize function\n",
    "        auto_kwargs:dict={}, # kwargs for the AutoTokenizer.from_pretrained constructor\n",
    "    ):\n",
    "        \"Builds `SequenceClassificationDatasets` from a folder or groups of folders\"\n",
    "        train_txts = get_files(train_path, extensions='.txt')\n",
    "        if valid_path is not None:\n",
    "            valid_txts = get_files(valid_path, extensions='.txt')\n",
    "        else:\n",
    "            if split_func is None:\n",
    "                split_func = RandomSplitter(split_pct)\n",
    "            train_idxs, valid_idxs = split_func(train_txts)\n",
    "            valid_txts = train_txts[valid_idxs]\n",
    "            train_txts = train_txts[train_idxs]\n",
    "        train_txts = [str(x) for x in train_txts]\n",
    "        valid_txts = [str(x) for x in valid_txts]\n",
    "        train_dset = TextNoNewLineDatasetReader(train_txts).read()\n",
    "        valid_dset = TextNoNewLineDatasetReader(valid_txts).read()\n",
    "        \n",
    "        train_lbls = [get_label(o) for o in train_txts]\n",
    "        valid_lbls = [get_label(o) for o in valid_txts]\n",
    "        if is_multicategory:\n",
    "            classes = set()\n",
    "            for lbl in train_lbls:\n",
    "                sep_l = lbl.split(label_delim)\n",
    "                for l in sep_l: classes.add(l)\n",
    "            categorize = MultiCategorize(classes)\n",
    "        else:\n",
    "            classes = set()\n",
    "            for lbl in train_lbls: classes.add(lbl)\n",
    "            categorize = Categorize(classes)\n",
    "        train_lbls = [categorize(lbl) for lbl in train_lbls]\n",
    "        valid_lbls = [categorize(lbl) for lbl in valid_lbls]\n",
    "        train_dset = train_dset.add_column('label', train_lbls)\n",
    "        valid_dset = valid_dset.add_column('label', valid_lbls)\n",
    "        \n",
    "        return cls(\n",
    "            train_dset, \n",
    "            valid_dset, \n",
    "            tokenizer_name, \n",
    "            tokenize, \n",
    "            tokenize_kwargs, \n",
    "            auto_kwargs, \n",
    "            remove_columns=['text'], \n",
    "            categorize=categorize\n",
    "        )     \n",
    "        \n",
    "    @delegates(DataLoaders)\n",
    "    def dataloaders(\n",
    "        self, \n",
    "        batch_size=8, # A batch size\n",
    "        shuffle_train=True, # Whether to shuffle the training dataset\n",
    "        collate_fn = None, # A custom collation function\n",
    "        **kwargs, # Torch DataLoader kwargs\n",
    "    ):\n",
    "        \"Build DataLoaders from `self`\"\n",
    "        dls = super().dataloaders(batch_size, shuffle_train, collate_fn, **kwargs)\n",
    "        dls[0].categorize = self.categorize\n",
    "        return dls"
   ]
  },
  {
   "cell_type": "code",
   "execution_count": null,
   "id": "146ec81d",
   "metadata": {},
   "outputs": [
    {
     "data": {
      "text/markdown": [
       "<h4 id=\"SequenceClassificationDatasets.from_dfs\" class=\"doc_header\"><code>SequenceClassificationDatasets.from_dfs</code><a href=\"__main__.py#L29\" class=\"source_link\" style=\"float:right\">[source]</a></h4>\n",
       "\n",
       "> <code>SequenceClassificationDatasets.from_dfs</code>(**`train_df`**:`DataFrame`, **`text_col`**:`str`, **`label_col`**:`str`, **`tokenizer_name`**:`str`, **`tokenize`**:`bool`=*`True`*, **`is_multicategory`**:`bool`=*`False`*, **`label_delim`**=*`' '`*, **`valid_df`**=*`None`*, **`split_func`**=*`None`*, **`split_pct`**=*`0.2`*, **`tokenize_kwargs`**:`dict`=*`{}`*, **`auto_kwargs`**:`dict`=*`{}`*)\n",
       "\n",
       "Builds [`SequenceClassificationDatasets`](/adaptnlp/training.sequence_classification.html#SequenceClassificationDatasets) from a `DataFrame` or set of `DataFrames`"
      ],
      "text/plain": [
       "<IPython.core.display.Markdown object>"
      ]
     },
     "metadata": {},
     "output_type": "display_data"
    }
   ],
   "source": [
    "show_doc(SequenceClassificationDatasets.from_dfs)"
   ]
  },
  {
   "cell_type": "code",
   "execution_count": null,
   "id": "2f3024d3",
   "metadata": {},
   "outputs": [
    {
     "data": {
      "text/markdown": [
       "<h4 id=\"SequenceClassificationDatasets.from_csvs\" class=\"doc_header\"><code>SequenceClassificationDatasets.from_csvs</code><a href=\"__main__.py#L73\" class=\"source_link\" style=\"float:right\">[source]</a></h4>\n",
       "\n",
       "> <code>SequenceClassificationDatasets.from_csvs</code>(**`train_csv`**:`Path`, **`text_col`**:`str`, **`label_col`**:`str`, **`tokenizer_name`**:`str`, **`tokenize`**:`bool`=*`True`*, **`is_multicategory`**:`bool`=*`False`*, **`label_delim`**=*`' '`*, **`valid_csv`**:`Path`=*`None`*, **`split_func`**=*`None`*, **`split_pct`**=*`0.2`*, **`tokenize_kwargs`**:`dict`=*`{}`*, **`auto_kwargs`**:`dict`=*`{}`*)\n",
       "\n",
       "Builds [`SequenceClassificationDatasets`](/adaptnlp/training.sequence_classification.html#SequenceClassificationDatasets) from a single csv or set of csvs. A convience constructor for `from_dfs`"
      ],
      "text/plain": [
       "<IPython.core.display.Markdown object>"
      ]
     },
     "metadata": {},
     "output_type": "display_data"
    }
   ],
   "source": [
    "show_doc(SequenceClassificationDatasets.from_csvs)"
   ]
  },
  {
   "cell_type": "code",
   "execution_count": null,
   "id": "c84f1e01",
   "metadata": {},
   "outputs": [
    {
     "data": {
      "text/markdown": [
       "<h4 id=\"SequenceClassificationDatasets.from_folders\" class=\"doc_header\"><code>SequenceClassificationDatasets.from_folders</code><a href=\"__main__.py#L95\" class=\"source_link\" style=\"float:right\">[source]</a></h4>\n",
       "\n",
       "> <code>SequenceClassificationDatasets.from_folders</code>(**`train_path`**:`Path`, **`get_label`**:`callable`, **`tokenizer_name`**:`str`, **`tokenize`**:`bool`=*`True`*, **`is_multicategory`**:`bool`=*`False`*, **`label_delim`**=*`'_'`*, **`valid_path`**:`Path`=*`None`*, **`split_func`**=*`None`*, **`split_pct`**=*`0.2`*, **`tokenize_kwargs`**:`dict`=*`{}`*, **`auto_kwargs`**:`dict`=*`{}`*)\n",
       "\n",
       "Builds [`SequenceClassificationDatasets`](/adaptnlp/training.sequence_classification.html#SequenceClassificationDatasets) from a folder or groups of folders"
      ],
      "text/plain": [
       "<IPython.core.display.Markdown object>"
      ]
     },
     "metadata": {},
     "output_type": "display_data"
    }
   ],
   "source": [
    "show_doc(SequenceClassificationDatasets.from_folders)"
   ]
  },
  {
   "cell_type": "markdown",
   "id": "a17ec21f",
   "metadata": {},
   "source": [
    "When passing in kwargs if anything should go to the `tokenize` function they should go to `tokenize_kwargs`, and if it should go to the `Auto` class constructor, they should go to `auto_kwargs`"
   ]
  },
  {
   "cell_type": "code",
   "execution_count": null,
   "id": "9b587259",
   "metadata": {},
   "outputs": [
    {
     "data": {
      "application/vnd.jupyter.widget-view+json": {
       "model_id": "baa96a8426a6408ba8e76b9e3ab5eefa",
       "version_major": 2,
       "version_minor": 0
      },
      "text/plain": [
       "HBox(children=(FloatProgress(value=0.0, max=1.0), HTML(value='')))"
      ]
     },
     "metadata": {},
     "output_type": "display_data"
    },
    {
     "name": "stdout",
     "output_type": "stream",
     "text": [
      "\n"
     ]
    },
    {
     "data": {
      "application/vnd.jupyter.widget-view+json": {
       "model_id": "2af5954ce5f546c093d03f22d418ae3b",
       "version_major": 2,
       "version_minor": 0
      },
      "text/plain": [
       "HBox(children=(FloatProgress(value=0.0, max=1.0), HTML(value='')))"
      ]
     },
     "metadata": {},
     "output_type": "display_data"
    },
    {
     "name": "stdout",
     "output_type": "stream",
     "text": [
      "\n"
     ]
    }
   ],
   "source": [
    "#hide\n",
    "#slow\n",
    "from fastai.data.external import URLs, untar_data\n",
    "path = untar_data(URLs.IMDB_SAMPLE)\n",
    "df = pd.read_csv(path/'texts.csv')\n",
    "\n",
    "dset = SequenceClassificationDatasets.from_dfs(\n",
    "    df,\n",
    "    'text',\n",
    "    'label',\n",
    "    tokenizer_name = \"bert-base-uncased\",\n",
    "    tokenize=True,\n",
    "    tokenize_kwargs = {'max_length':512, 'truncation':True}\n",
    ")\n",
    "\n",
    "test_eq(len(dset.train), 800)\n",
    "test_eq(len(dset.valid), 200)\n",
    "test_eq(len(dset.train[0]), 4) \n",
    "test_eq(dset.train[0].keys(), ['attention_mask', 'input_ids', 'labels', 'token_type_ids'])"
   ]
  },
  {
   "cell_type": "code",
   "execution_count": null,
   "id": "cc09bcba",
   "metadata": {},
   "outputs": [
    {
     "data": {
      "application/vnd.jupyter.widget-view+json": {
       "model_id": "83ffb8fd0de144b0be99c3bf781a4bbe",
       "version_major": 2,
       "version_minor": 0
      },
      "text/plain": [
       "HBox(children=(FloatProgress(value=0.0, max=1.0), HTML(value='')))"
      ]
     },
     "metadata": {},
     "output_type": "display_data"
    },
    {
     "name": "stdout",
     "output_type": "stream",
     "text": [
      "\n"
     ]
    },
    {
     "data": {
      "application/vnd.jupyter.widget-view+json": {
       "model_id": "add1047ed215466388ae4a63ec7f207b",
       "version_major": 2,
       "version_minor": 0
      },
      "text/plain": [
       "HBox(children=(FloatProgress(value=0.0, max=1.0), HTML(value='')))"
      ]
     },
     "metadata": {},
     "output_type": "display_data"
    },
    {
     "name": "stdout",
     "output_type": "stream",
     "text": [
      "\n"
     ]
    }
   ],
   "source": [
    "#hide\n",
    "#slow\n",
    "df = pd.read_csv(path/'texts.csv')\n",
    "train_df = df.iloc[:800]\n",
    "valid_df = df.iloc[800:]\n",
    "\n",
    "dset = SequenceClassificationDatasets.from_dfs(\n",
    "    train_df,\n",
    "    valid_df=valid_df, \n",
    "    text_col='text',\n",
    "    label_col='label',\n",
    "    tokenizer_name = \"bert-base-uncased\",\n",
    "    tokenize=True,\n",
    "    tokenize_kwargs = {'max_length':512, 'truncation':True}\n",
    ")\n",
    "\n",
    "test_eq(len(dset.train), 800)\n",
    "test_eq(len(dset.valid), 200)\n",
    "test_eq(len(dset.train[0]), 4) \n",
    "test_eq(dset.train[0].keys(), ['attention_mask', 'input_ids', 'labels', 'token_type_ids'])"
   ]
  },
  {
   "cell_type": "code",
   "execution_count": null,
   "id": "dcb8bb63",
   "metadata": {},
   "outputs": [
    {
     "data": {
      "application/vnd.jupyter.widget-view+json": {
       "model_id": "4447b888b2ea42e080ce1205e5c96533",
       "version_major": 2,
       "version_minor": 0
      },
      "text/plain": [
       "HBox(children=(FloatProgress(value=0.0, max=1.0), HTML(value='')))"
      ]
     },
     "metadata": {},
     "output_type": "display_data"
    },
    {
     "name": "stdout",
     "output_type": "stream",
     "text": [
      "\n"
     ]
    },
    {
     "data": {
      "application/vnd.jupyter.widget-view+json": {
       "model_id": "4e04eddfd40a4b6db80a7b2e78fa81be",
       "version_major": 2,
       "version_minor": 0
      },
      "text/plain": [
       "HBox(children=(FloatProgress(value=0.0, max=1.0), HTML(value='')))"
      ]
     },
     "metadata": {},
     "output_type": "display_data"
    },
    {
     "name": "stdout",
     "output_type": "stream",
     "text": [
      "\n"
     ]
    }
   ],
   "source": [
    "#hide\n",
    "#slow\n",
    "from fastai.data.external import URLs, untar_data\n",
    "path = untar_data(URLs.IMDB_SAMPLE)\n",
    "\n",
    "dset = SequenceClassificationDatasets.from_csvs(\n",
    "    path/'texts.csv',\n",
    "    'text',\n",
    "    'label',\n",
    "    tokenizer_name = \"bert-base-uncased\",\n",
    "    tokenize=True,\n",
    "    tokenize_kwargs = {'max_length':512, 'truncation':True}\n",
    ")\n",
    "\n",
    "test_eq(len(dset.train), 800)\n",
    "test_eq(len(dset.valid), 200)\n",
    "test_eq(len(dset.train[0]), 4) \n",
    "test_eq(dset.train[0].keys(), ['attention_mask', 'input_ids', 'labels', 'token_type_ids'])"
   ]
  },
  {
   "cell_type": "code",
   "execution_count": null,
   "id": "f0463af9",
   "metadata": {},
   "outputs": [
    {
     "data": {
      "application/vnd.jupyter.widget-view+json": {
       "model_id": "04dcf6cb4242486985870f7d1dc06193",
       "version_major": 2,
       "version_minor": 0
      },
      "text/plain": [
       "HBox(children=(FloatProgress(value=0.0, max=1.0), HTML(value='')))"
      ]
     },
     "metadata": {},
     "output_type": "display_data"
    },
    {
     "name": "stdout",
     "output_type": "stream",
     "text": [
      "\n"
     ]
    },
    {
     "data": {
      "application/vnd.jupyter.widget-view+json": {
       "model_id": "3abfe5dea1934db8b2105fc57de28d7a",
       "version_major": 2,
       "version_minor": 0
      },
      "text/plain": [
       "HBox(children=(FloatProgress(value=0.0, max=1.0), HTML(value='')))"
      ]
     },
     "metadata": {},
     "output_type": "display_data"
    },
    {
     "name": "stdout",
     "output_type": "stream",
     "text": [
      "\n"
     ]
    }
   ],
   "source": [
    "#hide\n",
    "#slow\n",
    "df = pd.read_csv(path/'texts.csv')\n",
    "train_df = df.iloc[:800]\n",
    "valid_df = df.iloc[800:]\n",
    "\n",
    "train_df.to_csv('/tmp/train.csv')\n",
    "valid_df.to_csv('/tmp/valid.csv')\n",
    "\n",
    "dset = SequenceClassificationDatasets.from_csvs(\n",
    "    '/tmp/train.csv',\n",
    "    valid_csv='/tmp/valid.csv', \n",
    "    text_col='text',\n",
    "    label_col='label',\n",
    "    tokenizer_name = \"bert-base-uncased\",\n",
    "    tokenize=True,\n",
    "    tokenize_kwargs = {'max_length':512, 'truncation':True}\n",
    ")\n",
    "\n",
    "test_eq(len(dset.train), 800)\n",
    "test_eq(len(dset.valid), 200)\n",
    "test_eq(len(dset.train[0]), 4) \n",
    "test_eq(dset.train[0].keys(), ['attention_mask', 'input_ids', 'labels', 'token_type_ids'])"
   ]
  },
  {
   "cell_type": "markdown",
   "id": "d0db08ec",
   "metadata": {},
   "source": [
    "## Sequence Classification Tuner"
   ]
  },
  {
   "cell_type": "code",
   "execution_count": null,
   "id": "6f068bb8",
   "metadata": {},
   "outputs": [],
   "source": [
    "#export\n",
    "class SequenceClassificationTuner(AdaptiveTuner):\n",
    "    \"\"\"\n",
    "    An `AdaptiveTuner` with good defaults for Sequence Classification tasks\n",
    "    \n",
    "    **Valid kwargs and defaults:**\n",
    "      - `lr`:float = 0.001\n",
    "      - `splitter`:function = `trainable_params`\n",
    "      - `cbs`:list = None\n",
    "      - `path`:Path = None\n",
    "      - `model_dir`:Path = 'models'\n",
    "      - `wd`:float = None\n",
    "      - `wd_bn_bias`:bool = False\n",
    "      - `train_bn`:bool = True\n",
    "      - `moms`: tuple(float) = (0.95, 0.85, 0.95)\n",
    "    \n",
    "    \"\"\"\n",
    "    def __init__(\n",
    "        self,\n",
    "        dls:DataLoaders, # A set of DataLoaders\n",
    "        model_name:str, # A HuggingFace model\n",
    "        tokenizer = None, # A HuggingFace tokenizer\n",
    "        loss_func = CrossEntropyLossFlat(), # A loss function\n",
    "        metrics = [accuracy, F1Score()], # Metrics to monitor the training with\n",
    "        opt_func = Adam, # A fastai or torch Optimizer\n",
    "        additional_cbs = None, # Additional Callbacks to have always tied to the Tuner,\n",
    "        expose_fastai_api = False, # Whether to expose the fastai API\n",
    "        num_classes:int=None, # The number of classes\n",
    "        **kwargs, # kwargs for `Learner.__init__`\n",
    "    ):\n",
    "        additional_cbs = listify(additional_cbs)\n",
    "        for arg in 'dls,model,loss_func,metrics,opt_func,cbs,expose_fastai'.split(','): \n",
    "            if arg in kwargs.keys(): kwargs.pop(arg) # Pop all existing kwargs\n",
    "        if hasattr(dls[0], 'categorize'): num_classes = getattr(dls[0].categorize, 'classes', None)\n",
    "        if num_classes is None: raise ValueError(\"Could not extrapolate number of classes, please pass it in as a param\")\n",
    "        if not isinstance(num_classes, int): num_classes = len(num_classes)\n",
    "        model = AutoModelForSequenceClassification.from_pretrained(model_name, num_labels=num_classes)\n",
    "        if tokenizer is None: tokenizer = AutoTokenizer.from_pretrained(model_name)\n",
    "        \n",
    "        super().__init__(\n",
    "            expose_fastai_api,\n",
    "            dls = dls, \n",
    "            model = model, \n",
    "            tokenizer = tokenizer,\n",
    "            loss_func = loss_func, \n",
    "            metrics = metrics, \n",
    "            opt_func = opt_func, \n",
    "            cbs=additional_cbs, \n",
    "            **kwargs\n",
    "        )\n",
    "    \n",
    "    def predict(\n",
    "        self,\n",
    "        text:Union[List[str], str], # Some text or list of texts to do inference with\n",
    "        bs:int=64, # A batch size to use for multiple texts\n",
    "        detail_level:DetailLevel = DetailLevel.Low, # A detail level to return on the predictions\n",
    "    ):\n",
    "        \"Predict some `text` for sequence classification with the currently loaded model\"\n",
    "        if getattr(self, '_inferencer', None) is None: self._inferencer = TransformersSequenceClassifier(self.tokenizer, self.model)\n",
    "        preds = self._inferencer.predict(text,bs)\n",
    "        cat = getattr(self.dls, 'categorize', None)\n",
    "        vocab = cat.classes if cat is not None else None\n",
    "        return SequenceResult(preds, vocab).to_dict(detail_level)"
   ]
  },
  {
   "cell_type": "code",
   "execution_count": null,
   "id": "c9659e86",
   "metadata": {},
   "outputs": [
    {
     "data": {
      "text/markdown": [
       "<h4 id=\"SequenceClassificationTuner.predict\" class=\"doc_header\"><code>SequenceClassificationTuner.predict</code><a href=\"__main__.py#L97\" class=\"source_link\" style=\"float:right\">[source]</a></h4>\n",
       "\n",
       "> <code>SequenceClassificationTuner.predict</code>(**`text`**:`Union`\\[`List`\\[`str`\\], `str`\\], **`bs`**:`int`=*`64`*, **`detail_level`**:`DetailLevel`=*`'low'`*)\n",
       "\n",
       "Predict some `text` for sequence classification with the currently loaded model\n",
       "\n",
       "**Function Arguments**:\n",
       "* `text` (`Union[List[str], str]`): Some text or list of texts to do inference with\n",
       "* `bs` (`int`): A batch size to use for multiple texts\n",
       "* `detail_level` (`DetailLevel `): A detail level to return on the predictions\n"
      ],
      "text/plain": [
       "<IPython.core.display.Markdown object>"
      ]
     },
     "metadata": {},
     "output_type": "display_data"
    }
   ],
   "source": [
    "show_doc(SequenceClassificationTuner.predict)"
   ]
  },
  {
   "cell_type": "code",
   "execution_count": null,
   "id": "3b5a0a8e",
   "metadata": {},
   "outputs": [],
   "source": []
  }
 ],
 "metadata": {
  "kernelspec": {
   "display_name": "Python 3 (ipykernel)",
   "language": "python",
   "name": "python3"
  }
 },
 "nbformat": 4,
 "nbformat_minor": 5
}
