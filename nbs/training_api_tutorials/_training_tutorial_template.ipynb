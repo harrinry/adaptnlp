{
 "cells": [
  {
   "cell_type": "code",
   "execution_count": 1,
   "id": "53946cd5",
   "metadata": {},
   "outputs": [],
   "source": [
    "#all_slow"
   ]
  },
  {
   "cell_type": "markdown",
   "id": "ca157d7d",
   "metadata": {},
   "source": [
    "# Tutorial: Fine-Tuning `TASK` on `KIND` with `DATASET`\n",
    "> Sentence describing fine-tuning with `DATASET` format on the task"
   ]
  },
  {
   "cell_type": "markdown",
   "id": "cac2223b",
   "metadata": {},
   "source": [
    "## Important Notes (This Should Be Deleted)\n",
    "- **Always** use explicit imports, even with libraries that allow for easier imports such as fastai\n",
    "- Be as verbose as possible towards what is going on\n",
    "- Assume the reader has minimal knowledge of the library, and has not visited any other tutorials\n",
    "- Assume the reader **knows** the task they are performing here, so do not explicitly restate what sequence classification or Named Entity Recognition is\n",
    "\n",
    "Key for title:\n",
    "- `TASK`: The task performed, such as \"Named Entity Recognition\" or \"Sequence Classification\"\n",
    "- `KIND`: Description of the data format, such as \"two CSVs\" or \"text files\"\n",
    "- `DATASET`: The name of the dataset, such as IMDB Movie Reviews"
   ]
  },
  {
   "cell_type": "markdown",
   "id": "36868fd4",
   "metadata": {},
   "source": [
    "## Introduction\n",
    "\n",
    "A quick sentence or two describing what we will be doing explicitly. As well as a section on what can be possible by the end, such as:\n",
    "\n",
    "By the end of this tutorial you should be able to:\n",
    "1. Build a dataset with ....\n",
    "2. ...\n",
    "3. ...\n",
    "4. ...\n"
   ]
  },
  {
   "cell_type": "markdown",
   "id": "3a44baa5",
   "metadata": {},
   "source": [
    "## Installing the Library"
   ]
  },
  {
   "cell_type": "markdown",
   "id": "fce03b17",
   "metadata": {},
   "source": [
    "Show installing the library from `pip`, as well as any extra libraries they may need. These should be commented out cells however, in case they are already installed on your system."
   ]
  },
  {
   "cell_type": "code",
   "execution_count": null,
   "id": "8bc6b3cd",
   "metadata": {},
   "outputs": [],
   "source": [
    "# FILL ME"
   ]
  },
  {
   "cell_type": "markdown",
   "id": "86de58d7",
   "metadata": {},
   "source": [
    "## Getting the Dataset"
   ]
  },
  {
   "cell_type": "markdown",
   "id": "2a039f4f",
   "metadata": {},
   "source": [
    "Walk through downloading `DATASET` from some place, and getting it ready to be built with `Datasets`"
   ]
  },
  {
   "cell_type": "code",
   "execution_count": 5,
   "id": "82a2612b",
   "metadata": {},
   "outputs": [],
   "source": [
    "# FILL ME"
   ]
  },
  {
   "cell_type": "markdown",
   "id": "320caa02",
   "metadata": {},
   "source": [
    "## Picking a Model with the Hub"
   ]
  },
  {
   "cell_type": "markdown",
   "id": "170b200d",
   "metadata": {},
   "source": [
    "Using the `HFHub` class, show searching for a model to train on a particular task and choosing it"
   ]
  },
  {
   "cell_type": "code",
   "execution_count": 6,
   "id": "b85eb95c",
   "metadata": {},
   "outputs": [],
   "source": [
    "# FILL ME"
   ]
  },
  {
   "cell_type": "markdown",
   "id": "b676253e",
   "metadata": {},
   "source": [
    "## Building `TaskDatasets`"
   ]
  },
  {
   "cell_type": "markdown",
   "id": "7faa7c29",
   "metadata": {},
   "source": [
    "Using the `TaskDatasets` API, show building `DataLoaders` from **one** API"
   ]
  },
  {
   "cell_type": "code",
   "execution_count": 7,
   "id": "83994a53",
   "metadata": {},
   "outputs": [],
   "source": [
    "# FILL ME"
   ]
  },
  {
   "cell_type": "markdown",
   "id": "586172ad",
   "metadata": {},
   "source": [
    "## Building `Tuner`"
   ]
  },
  {
   "cell_type": "markdown",
   "id": "23e2d9bf",
   "metadata": {},
   "source": [
    "Make a `*Tuner` instance compatible with the `TASK`"
   ]
  },
  {
   "cell_type": "code",
   "execution_count": 8,
   "id": "c54d78db",
   "metadata": {},
   "outputs": [],
   "source": [
    "# FILL ME"
   ]
  },
  {
   "cell_type": "markdown",
   "id": "33dd944d",
   "metadata": {},
   "source": [
    "## Fine-Tuning"
   ]
  },
  {
   "cell_type": "markdown",
   "id": "2e9ec17d",
   "metadata": {},
   "source": [
    "Using the high-level `tune` API, train a model"
   ]
  },
  {
   "cell_type": "code",
   "execution_count": 9,
   "id": "e4214963",
   "metadata": {},
   "outputs": [],
   "source": [
    "# FILL ME"
   ]
  },
  {
   "cell_type": "markdown",
   "id": "42dc3547",
   "metadata": {},
   "source": [
    "## Saving Model"
   ]
  },
  {
   "cell_type": "markdown",
   "id": "2aebf7b2",
   "metadata": {},
   "source": [
    "Show saving a model, as well as what is saved"
   ]
  },
  {
   "cell_type": "code",
   "execution_count": 10,
   "id": "a01b6b63",
   "metadata": {},
   "outputs": [],
   "source": [
    "# FILL ME"
   ]
  },
  {
   "cell_type": "markdown",
   "id": "faf8dec2",
   "metadata": {},
   "source": [
    "## Performing Inference"
   ]
  },
  {
   "cell_type": "markdown",
   "id": "1ce058be",
   "metadata": {},
   "source": [
    "Get predictions from our model with both `tuner.predict` and the `Easy*` inference classes, highlighting the use-case for each"
   ]
  },
  {
   "cell_type": "code",
   "execution_count": null,
   "id": "43d011be",
   "metadata": {},
   "outputs": [],
   "source": [
    "# FILL ME"
   ]
  },
  {
   "cell_type": "markdown",
   "id": "cff6d3dc",
   "metadata": {},
   "source": [
    "## Code Summary"
   ]
  },
  {
   "cell_type": "markdown",
   "id": "f345ccf1",
   "metadata": {},
   "source": [
    "A quick one-cell code chunk with all the code used in this notebook, so the reader can quickly copy/paste this"
   ]
  },
  {
   "cell_type": "code",
   "execution_count": null,
   "id": "c2cbbc9c",
   "metadata": {},
   "outputs": [],
   "source": [
    "# FILL ME"
   ]
  }
 ],
 "metadata": {
  "kernelspec": {
   "display_name": "Python 3 (ipykernel)",
   "language": "python",
   "name": "python3"
  },
  "language_info": {
   "codemirror_mode": {
    "name": "ipython",
    "version": 3
   },
   "file_extension": ".py",
   "mimetype": "text/x-python",
   "name": "python",
   "nbconvert_exporter": "python",
   "pygments_lexer": "ipython3",
   "version": "3.8.11"
  }
 },
 "nbformat": 4,
 "nbformat_minor": 5
}
