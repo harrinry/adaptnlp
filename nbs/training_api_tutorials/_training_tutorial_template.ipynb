{
 "cells": [
  {
   "cell_type": "code",
   "execution_count": 1,
   "id": "ef5e7820",
   "metadata": {},
   "outputs": [],
   "source": [
    "#all_slow"
   ]
  },
  {
   "cell_type": "markdown",
   "id": "bc806e1b",
   "metadata": {},
   "source": [
    "# Tutorial: Fine-Tuning TASK with DATASET\n",
    "> Sentence describing fine-tuning with `DATASET` format on the task"
   ]
  },
  {
   "cell_type": "markdown",
   "id": "3640af07",
   "metadata": {},
   "source": [
    "## Important Notes (This Should Be Deleted)\n",
    "- **Always** use explicit imports, even with libraries that allow for easier imports such as fastai\n",
    "- Be as verbose as possible towards what is going on\n",
    "- Assume the reader has minimal knowledge of the library, and has not visited any other tutorials\n",
    "- Assume the reader **knows** the task they are performing here, so do not explicitly restate what sequence classification or Named Entity Recognition is"
   ]
  },
  {
   "cell_type": "markdown",
   "id": "1ba4e108",
   "metadata": {},
   "source": [
    "## Getting the Dataset"
   ]
  },
  {
   "cell_type": "markdown",
   "id": "f6c50c26",
   "metadata": {},
   "source": [
    "Walk through downloading `DATASET` from some place, and getting it ready to be built with `Datasets`"
   ]
  },
  {
   "cell_type": "code",
   "execution_count": 5,
   "id": "ceff8e58",
   "metadata": {},
   "outputs": [],
   "source": [
    "# FILL ME"
   ]
  },
  {
   "cell_type": "markdown",
   "id": "432e41f4",
   "metadata": {},
   "source": [
    "## Picking a Model with the Hub"
   ]
  },
  {
   "cell_type": "markdown",
   "id": "aa0e9541",
   "metadata": {},
   "source": [
    "Using the `HFHub` class, show searching for a model to train on a particular task and choosing it"
   ]
  },
  {
   "cell_type": "code",
   "execution_count": 6,
   "id": "7a0d0683",
   "metadata": {},
   "outputs": [],
   "source": [
    "# FILL ME"
   ]
  },
  {
   "cell_type": "markdown",
   "id": "80085a26",
   "metadata": {},
   "source": [
    "## Building `TaskDatasets`"
   ]
  },
  {
   "cell_type": "markdown",
   "id": "243715e3",
   "metadata": {},
   "source": [
    "Using the `TaskDatasets` API, show building `DataLoaders` from **one** API"
   ]
  },
  {
   "cell_type": "code",
   "execution_count": 7,
   "id": "6ec1f734",
   "metadata": {},
   "outputs": [],
   "source": [
    "# FILL ME"
   ]
  },
  {
   "cell_type": "markdown",
   "id": "3c9a2f08",
   "metadata": {},
   "source": [
    "## Building `Tuner`"
   ]
  },
  {
   "cell_type": "markdown",
   "id": "f4c45611",
   "metadata": {},
   "source": [
    "Make a `*Tuner` instance compatible with the `TASK`"
   ]
  },
  {
   "cell_type": "code",
   "execution_count": 8,
   "id": "ddca9e42",
   "metadata": {},
   "outputs": [],
   "source": [
    "# FILL ME"
   ]
  },
  {
   "cell_type": "markdown",
   "id": "1fbaeea8",
   "metadata": {},
   "source": [
    "## Fine-Tuning"
   ]
  },
  {
   "cell_type": "markdown",
   "id": "c380bf54",
   "metadata": {},
   "source": [
    "Using the high-level `tune` API, train a model"
   ]
  },
  {
   "cell_type": "code",
   "execution_count": 9,
   "id": "b45ffb19",
   "metadata": {},
   "outputs": [],
   "source": [
    "# FILL ME"
   ]
  },
  {
   "cell_type": "markdown",
   "id": "eb6329b5",
   "metadata": {},
   "source": [
    "## Saving Model"
   ]
  },
  {
   "cell_type": "markdown",
   "id": "3091ca8b",
   "metadata": {},
   "source": [
    "Show saving a model, as well as what is saved"
   ]
  },
  {
   "cell_type": "code",
   "execution_count": 10,
   "id": "18b30f8e",
   "metadata": {},
   "outputs": [],
   "source": [
    "# FILL ME"
   ]
  },
  {
   "cell_type": "markdown",
   "id": "c5ed6142",
   "metadata": {},
   "source": [
    "## Performing Inference"
   ]
  },
  {
   "cell_type": "markdown",
   "id": "57291619",
   "metadata": {},
   "source": [
    "Get predictions from our model with both `tuner.predict` and the `Easy*` inference classes, highlighting the use-case for each"
   ]
  },
  {
   "cell_type": "code",
   "execution_count": null,
   "id": "9ff625d0",
   "metadata": {},
   "outputs": [],
   "source": [
    "# FILL ME"
   ]
  },
  {
   "cell_type": "markdown",
   "id": "260ced41",
   "metadata": {},
   "source": [
    "## Code Summary"
   ]
  },
  {
   "cell_type": "markdown",
   "id": "6500de0c",
   "metadata": {},
   "source": [
    "A quick one-cell code chunk with all the code used in this notebook, so the reader can quickly copy/paste this"
   ]
  },
  {
   "cell_type": "code",
   "execution_count": null,
   "id": "0f926f70",
   "metadata": {},
   "outputs": [],
   "source": [
    "# FILL ME"
   ]
  }
 ],
 "metadata": {
  "kernelspec": {
   "display_name": "Python 3 (ipykernel)",
   "language": "python",
   "name": "python3"
  },
  "language_info": {
   "codemirror_mode": {
    "name": "ipython",
    "version": 3
   },
   "file_extension": ".py",
   "mimetype": "text/x-python",
   "name": "python",
   "nbconvert_exporter": "python",
   "pygments_lexer": "ipython3",
   "version": "3.8.11"
  }
 },
 "nbformat": 4,
 "nbformat_minor": 5
}
