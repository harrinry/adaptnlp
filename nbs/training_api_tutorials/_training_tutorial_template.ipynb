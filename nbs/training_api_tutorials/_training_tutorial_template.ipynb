{
 "cells": [
  {
   "cell_type": "code",
   "execution_count": 1,
   "id": "afc94de5",
   "metadata": {},
   "outputs": [],
   "source": [
    "#all_slow"
   ]
  },
  {
   "cell_type": "markdown",
   "id": "9698fe72",
   "metadata": {},
   "source": [
    "# Tutorial: Fine-Tuning `TASK` on `KIND` with `DATASET`\n",
    "> Sentence describing fine-tuning with `DATASET` format on the task"
   ]
  },
  {
   "cell_type": "markdown",
   "id": "748fe5ab",
   "metadata": {},
   "source": [
    "## Important Notes (This Should Be Deleted)\n",
    "- **Always** use explicit imports, even with libraries that allow for easier imports such as fastai\n",
    "- Be as verbose as possible towards what is going on\n",
    "- Assume the reader has minimal knowledge of the library, and has not visited any other tutorials\n",
    "- Assume the reader **knows** the task they are performing here, so do not explicitly restate what sequence classification or Named Entity Recognition is\n",
    "\n",
    "Key for title:\n",
    "- `TASK`: The task performed, such as \"Named Entity Recognition\" or \"Sequence Classification\"\n",
    "- `KIND`: Description of the data format, such as \"two CSVs\" or \"text files\"\n",
    "- `DATASET`: The name of the dataset, such as IMDB Movie Reviews"
   ]
  },
  {
   "cell_type": "markdown",
   "id": "1ac45449",
   "metadata": {},
   "source": [
    "## Getting the Dataset"
   ]
  },
  {
   "cell_type": "markdown",
   "id": "72564f10",
   "metadata": {},
   "source": [
    "Walk through downloading `DATASET` from some place, and getting it ready to be built with `Datasets`"
   ]
  },
  {
   "cell_type": "code",
   "execution_count": 5,
   "id": "4583ddb4",
   "metadata": {},
   "outputs": [],
   "source": [
    "# FILL ME"
   ]
  },
  {
   "cell_type": "markdown",
   "id": "96a9af05",
   "metadata": {},
   "source": [
    "## Picking a Model with the Hub"
   ]
  },
  {
   "cell_type": "markdown",
   "id": "e2bfb62f",
   "metadata": {},
   "source": [
    "Using the `HFHub` class, show searching for a model to train on a particular task and choosing it"
   ]
  },
  {
   "cell_type": "code",
   "execution_count": 6,
   "id": "0ad90faf",
   "metadata": {},
   "outputs": [],
   "source": [
    "# FILL ME"
   ]
  },
  {
   "cell_type": "markdown",
   "id": "0b68d46c",
   "metadata": {},
   "source": [
    "## Building `TaskDatasets`"
   ]
  },
  {
   "cell_type": "markdown",
   "id": "4035adc2",
   "metadata": {},
   "source": [
    "Using the `TaskDatasets` API, show building `DataLoaders` from **one** API"
   ]
  },
  {
   "cell_type": "code",
   "execution_count": 7,
   "id": "3485f0ed",
   "metadata": {},
   "outputs": [],
   "source": [
    "# FILL ME"
   ]
  },
  {
   "cell_type": "markdown",
   "id": "8411c070",
   "metadata": {},
   "source": [
    "## Building `Tuner`"
   ]
  },
  {
   "cell_type": "markdown",
   "id": "fac0df75",
   "metadata": {},
   "source": [
    "Make a `*Tuner` instance compatible with the `TASK`"
   ]
  },
  {
   "cell_type": "code",
   "execution_count": 8,
   "id": "c0ad26ee",
   "metadata": {},
   "outputs": [],
   "source": [
    "# FILL ME"
   ]
  },
  {
   "cell_type": "markdown",
   "id": "b249d5da",
   "metadata": {},
   "source": [
    "## Fine-Tuning"
   ]
  },
  {
   "cell_type": "markdown",
   "id": "abb6b3b4",
   "metadata": {},
   "source": [
    "Using the high-level `tune` API, train a model"
   ]
  },
  {
   "cell_type": "code",
   "execution_count": 9,
   "id": "24528c78",
   "metadata": {},
   "outputs": [],
   "source": [
    "# FILL ME"
   ]
  },
  {
   "cell_type": "markdown",
   "id": "3218911f",
   "metadata": {},
   "source": [
    "## Saving Model"
   ]
  },
  {
   "cell_type": "markdown",
   "id": "48cada2b",
   "metadata": {},
   "source": [
    "Show saving a model, as well as what is saved"
   ]
  },
  {
   "cell_type": "code",
   "execution_count": 10,
   "id": "b4df82d4",
   "metadata": {},
   "outputs": [],
   "source": [
    "# FILL ME"
   ]
  },
  {
   "cell_type": "markdown",
   "id": "ae78d49e",
   "metadata": {},
   "source": [
    "## Performing Inference"
   ]
  },
  {
   "cell_type": "markdown",
   "id": "05dd1508",
   "metadata": {},
   "source": [
    "Get predictions from our model with both `tuner.predict` and the `Easy*` inference classes, highlighting the use-case for each"
   ]
  },
  {
   "cell_type": "code",
   "execution_count": null,
   "id": "f8b7d69d",
   "metadata": {},
   "outputs": [],
   "source": [
    "# FILL ME"
   ]
  },
  {
   "cell_type": "markdown",
   "id": "5903de0c",
   "metadata": {},
   "source": [
    "## Code Summary"
   ]
  },
  {
   "cell_type": "markdown",
   "id": "16e163d6",
   "metadata": {},
   "source": [
    "A quick one-cell code chunk with all the code used in this notebook, so the reader can quickly copy/paste this"
   ]
  },
  {
   "cell_type": "code",
   "execution_count": null,
   "id": "b145bcb2",
   "metadata": {},
   "outputs": [],
   "source": [
    "# FILL ME"
   ]
  }
 ],
 "metadata": {
  "kernelspec": {
   "display_name": "Python 3 (ipykernel)",
   "language": "python",
   "name": "python3"
  },
  "language_info": {
   "codemirror_mode": {
    "name": "ipython",
    "version": 3
   },
   "file_extension": ".py",
   "mimetype": "text/x-python",
   "name": "python",
   "nbconvert_exporter": "python",
   "pygments_lexer": "ipython3",
   "version": "3.8.11"
  }
 },
 "nbformat": 4,
 "nbformat_minor": 5
}
