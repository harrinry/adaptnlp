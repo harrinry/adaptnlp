{
 "cells": [
  {
   "cell_type": "code",
   "execution_count": 1,
   "id": "53946cd5",
   "metadata": {},
   "outputs": [],
   "source": [
    "#all_slow"
   ]
  },
  {
   "cell_type": "markdown",
   "id": "ca157d7d",
   "metadata": {},
   "source": [
    "# Tutorial: Fine-Tuning Sequence Classification on Text Files with IMDB\n",
    "> Tuning a Sequence Classification model on the IMDB Dataset"
   ]
  },
  {
   "cell_type": "markdown",
   "id": "d9163881",
   "metadata": {},
   "source": [
    "## Introduction\n",
    "\n",
    "In this tutorial we will be showing an end-to-end example of fine-tuning a Transformer for sequence classification on a custom dataset in text files format.\n",
    "\n",
    "By the end of this you should be able to:\n",
    "\n",
    "1. Build a dataset with the `SequenceClassificationDatasets` class, and their DataLoaders\n",
    "2. Build a `SequenceClassificationTuner` quickly, find a good learning rate, and train with the One-Cycle Policy\n",
    "3. Save that model away, to be used with deployment or other HuggingFace libraries\n",
    "4. Apply inference using both the `Tuner` available function as well as with the `EasySequenceClassifier` class within AdaptNLP"
   ]
  },
  {
   "cell_type": "markdown",
   "id": "3a44baa5",
   "metadata": {},
   "source": [
    "## Installing the Library"
   ]
  },
  {
   "cell_type": "markdown",
   "id": "fce03b17",
   "metadata": {},
   "source": [
    "This tutorial utilizies the latest AdaptNLP version, as well as parts of the `fastai` library. Please run the below code to install them:"
   ]
  },
  {
   "cell_type": "code",
   "execution_count": 2,
   "id": "8bc6b3cd",
   "metadata": {},
   "outputs": [],
   "source": [
    "# !pip install git+https://github.com/muellerzr/nbdev git+https://github.com/novetta/adaptnlp@dev -U"
   ]
  },
  {
   "cell_type": "code",
   "execution_count": 3,
   "id": "9affa878",
   "metadata": {},
   "outputs": [],
   "source": [
    "#hide\n",
    "from nbdev.showdoc import *"
   ]
  },
  {
   "cell_type": "markdown",
   "id": "86de58d7",
   "metadata": {},
   "source": [
    "## Getting the Dataset"
   ]
  },
  {
   "cell_type": "markdown",
   "id": "2a039f4f",
   "metadata": {},
   "source": [
    "First we need a dataset. We will use the `fastai` library to download the full `IMDB` Movie Reviews dataset"
   ]
  },
  {
   "cell_type": "code",
   "execution_count": 4,
   "id": "82a2612b",
   "metadata": {},
   "outputs": [],
   "source": [
    "from fastai.data.external import URLs, untar_data"
   ]
  },
  {
   "cell_type": "markdown",
   "id": "a82dfd36",
   "metadata": {},
   "source": [
    "`URLs` holds a namespace of many data endpoints, and `untar_data` is a function that can download and extract any data from a given URL.\n",
    "\n",
    "Combining both, we can download the data:"
   ]
  },
  {
   "cell_type": "code",
   "execution_count": 5,
   "id": "a94a57b4",
   "metadata": {},
   "outputs": [],
   "source": [
    "data_path = untar_data(URLs.IMDB)"
   ]
  },
  {
   "cell_type": "markdown",
   "id": "30812629",
   "metadata": {},
   "source": [
    "If we look at what was downloaded, we will find a `train` and `test` folder:"
   ]
  },
  {
   "cell_type": "code",
   "execution_count": 6,
   "id": "346033c8",
   "metadata": {},
   "outputs": [
    {
     "data": {
      "text/plain": [
       "(#7) [Path('/root/.fastai/data/imdb/test'),Path('/root/.fastai/data/imdb/README'),Path('/root/.fastai/data/imdb/train'),Path('/root/.fastai/data/imdb/imdb.vocab'),Path('/root/.fastai/data/imdb/tmp_clas'),Path('/root/.fastai/data/imdb/unsup'),Path('/root/.fastai/data/imdb/tmp_lm')]"
      ]
     },
     "execution_count": 6,
     "metadata": {},
     "output_type": "execute_result"
    }
   ],
   "source": [
    "data_path.ls()"
   ]
  },
  {
   "cell_type": "markdown",
   "id": "8508a61e",
   "metadata": {},
   "source": [
    "In each are folders seperating each text file by class:"
   ]
  },
  {
   "cell_type": "code",
   "execution_count": 7,
   "id": "73b7d44d",
   "metadata": {},
   "outputs": [
    {
     "data": {
      "text/plain": [
       "(#4) [Path('/root/.fastai/data/imdb/train/pos'),Path('/root/.fastai/data/imdb/train/neg'),Path('/root/.fastai/data/imdb/train/unsupBow.feat'),Path('/root/.fastai/data/imdb/train/labeledBow.feat')]"
      ]
     },
     "execution_count": 7,
     "metadata": {},
     "output_type": "execute_result"
    }
   ],
   "source": [
    "(data_path/'train').ls()"
   ]
  },
  {
   "cell_type": "markdown",
   "id": "9df10425",
   "metadata": {},
   "source": [
    "As a result, we can say the dataset follows the following format:\n",
    "\n",
    "- `train`\n",
    "  - `class_a`\n",
    "    - `text1.txt`\n",
    "    - `text2.txt`\n",
    "    - ...\n",
    "  - `class_b`\n",
    "    - `text1.txt`\n",
    "    - ...\n",
    "- `test` (or `valid`)\n",
    "  - `class_a`\n",
    "    - `text1.txt`\n",
    "    - ...\n",
    "  - `class_b`\n",
    "    - `text1.txt`\n",
    "    - ..."
   ]
  },
  {
   "cell_type": "markdown",
   "id": "51ffbb81",
   "metadata": {},
   "source": [
    "> Note: In this instance, test and validation have very similar meanings. Both are the dataset which is used to calculate the metrics during training (such as accuracy or F1Score)"
   ]
  },
  {
   "cell_type": "markdown",
   "id": "f7b8de9b",
   "metadata": {},
   "source": [
    "Now that we have the dataset, and we know the format it is in, let's pick a viable model to train with"
   ]
  },
  {
   "cell_type": "markdown",
   "id": "b3fb5d3b",
   "metadata": {},
   "source": [
    "## Picking a Model with the Hub\n",
    "\n",
    "AdaptNLP has a `HFModelHub` class that allows you to communicate with the HuggingFace Hub and pick a model from it, as well as a namespace `HF_TASKS` class with a list of valid tasks we can search by.\n",
    "\n",
    "Let's try and find one suitable for sequence classification.\n",
    "\n",
    "First we need to import the class and generate an instance of it:"
   ]
  },
  {
   "cell_type": "code",
   "execution_count": 8,
   "id": "bf1ba264",
   "metadata": {},
   "outputs": [],
   "source": [
    "from adaptnlp import HFModelHub, HF_TASKS"
   ]
  },
  {
   "cell_type": "code",
   "execution_count": 9,
   "id": "3f6c8e36",
   "metadata": {},
   "outputs": [],
   "source": [
    "hub = HFModelHub()"
   ]
  },
  {
   "cell_type": "markdown",
   "id": "3698a9b3",
   "metadata": {},
   "source": [
    "Next we can search for a model:"
   ]
  },
  {
   "cell_type": "code",
   "execution_count": 10,
   "id": "7f8b3534",
   "metadata": {},
   "outputs": [],
   "source": [
    "models = hub.search_model_by_task(\n",
    "    task=HF_TASKS.TEXT_CLASSIFICATION\n",
    ")"
   ]
  },
  {
   "cell_type": "markdown",
   "id": "57b3f788",
   "metadata": {},
   "source": [
    "Let's look at a few:"
   ]
  },
  {
   "cell_type": "code",
   "execution_count": 11,
   "id": "c8c27048",
   "metadata": {},
   "outputs": [
    {
     "data": {
      "text/plain": [
       "[Model Name: distilbert-base-uncased-finetuned-sst-2-english, Tasks: [text-classification],\n",
       " Model Name: roberta-base-openai-detector, Tasks: [text-classification],\n",
       " Model Name: roberta-large-mnli, Tasks: [text-classification],\n",
       " Model Name: roberta-large-openai-detector, Tasks: [text-classification]]"
      ]
     },
     "execution_count": 11,
     "metadata": {},
     "output_type": "execute_result"
    }
   ],
   "source": [
    "models[:10]"
   ]
  },
  {
   "cell_type": "markdown",
   "id": "4da59052",
   "metadata": {},
   "source": [
    "These are models specifically tagged with the `text-classification` tag, so you may not see a few models you would expect such as `bert_base_cased`.\n",
    "\n",
    "We'll use that first model, `distilbert-base-uncased`:"
   ]
  },
  {
   "cell_type": "code",
   "execution_count": 12,
   "id": "5999f7cb",
   "metadata": {},
   "outputs": [],
   "source": [
    "model = models[0]"
   ]
  },
  {
   "cell_type": "code",
   "execution_count": 13,
   "id": "9b08091b",
   "metadata": {},
   "outputs": [
    {
     "data": {
      "text/plain": [
       "Model Name: distilbert-base-uncased-finetuned-sst-2-english, Tasks: [text-classification]"
      ]
     },
     "execution_count": 13,
     "metadata": {},
     "output_type": "execute_result"
    }
   ],
   "source": [
    "model"
   ]
  },
  {
   "cell_type": "markdown",
   "id": "d1e8b538",
   "metadata": {},
   "source": [
    "Now that we have picked a model, let's use the data API to prepare our data"
   ]
  },
  {
   "cell_type": "markdown",
   "id": "8521efa6",
   "metadata": {},
   "source": [
    "> Note: It should be mentioned that this is optional, you can always just pass in the string name of a model such as \"bert-base-cased\""
   ]
  },
  {
   "cell_type": "markdown",
   "id": "b676253e",
   "metadata": {},
   "source": [
    "## Building `TaskDatasets` with `SequenceClassificationDatasets`"
   ]
  },
  {
   "cell_type": "markdown",
   "id": "7faa7c29",
   "metadata": {},
   "source": [
    "Each task has a high-level data wrapper around the `TaskDatasets` class. In our case this is the `SequenceClassificationDatasets` class:"
   ]
  },
  {
   "cell_type": "code",
   "execution_count": 14,
   "id": "986d9821",
   "metadata": {},
   "outputs": [],
   "source": [
    "from adaptnlp import SequenceClassificationDatasets"
   ]
  },
  {
   "cell_type": "markdown",
   "id": "73a7dc2e",
   "metadata": {},
   "source": [
    "There are multiple different constructors for the `SequenceClassificationDatasets` class, and you should never call the main constructor directly.\n",
    "\n",
    "We will be using `from_folders` method:"
   ]
  },
  {
   "cell_type": "code",
   "execution_count": 15,
   "id": "36a8c2ee",
   "metadata": {},
   "outputs": [
    {
     "data": {
      "text/markdown": [
       "<h4 id=\"SequenceClassificationDatasets.from_folders\" class=\"doc_header\"><code>SequenceClassificationDatasets.from_folders</code><a href=\"https://github.com/novetta/adaptnlp/tree/master/adaptnlp/training/sequence_classification.py#L150\" class=\"source_link\" style=\"float:right\">[source]</a></h4>\n",
       "\n",
       "> <code>SequenceClassificationDatasets.from_folders</code>(**`train_path`**:`Path`, **`get_label`**:`callable`, **`tokenizer_name`**:`str`, **`tokenize`**:`bool`=*`True`*, **`is_multicategory`**:`bool`=*`False`*, **`label_delim`**=*`'_'`*, **`valid_path`**:`Path`=*`None`*, **`split_func`**=*`None`*, **`split_pct`**=*`0.2`*, **`tokenize_kwargs`**:`dict`=*`{}`*, **`auto_kwargs`**:`dict`=*`{}`*)\n",
       "\n",
       "Builds [`SequenceClassificationDatasets`](/adaptnlp/training.sequence_classification.html#SequenceClassificationDatasets) from a folder or groups of folders\n",
       "\n",
       "**Function Arguments**:\n",
       "* `train_path` (`Path`): The path to the training data\n",
       "* `get_label` (`callable`): A function which grabs the label(s) given a text files `Path`\n",
       "* `tokenizer_name` (`str`): The name of the tokenizer\n",
       "* `tokenize` (`bool`): Whether to tokenize immediatly\n",
       "* `is_multicategory` (`bool`): Whether each item has a single label or multiple labels\n",
       "* `label_delim`: if `is_multicategory`, how to seperate the labels\n",
       "* `valid_path` (`Path`): The path to the validation data\n",
       "* `split_func`: Optionally a splitting function similar to RandomSplitter\n",
       "* `split_pct`: What % to split the items in the `train_path`\n",
       "* `tokenize_kwargs` (`dict`): kwargs for the tokenize function\n",
       "* `auto_kwargs` (`dict`): kwargs for the AutoTokenizer.from_pretrained constructor\n"
      ],
      "text/plain": [
       "<IPython.core.display.Markdown object>"
      ]
     },
     "metadata": {},
     "output_type": "display_data"
    }
   ],
   "source": [
    "show_doc(SequenceClassificationDatasets.from_folders)"
   ]
  },
  {
   "cell_type": "markdown",
   "id": "e0550b76",
   "metadata": {},
   "source": [
    "Anything you would normally pass to the tokenizer call (such as `max_length`, `padding`) should go in `tokenize_kwargs`, and anything going to the `AutoTokenizer.from_pretrained` constructor should be passed to the `auto_kwargs`.\n",
    "\n",
    "In our case we have a `train_path` and `valid_path`, and the last thing we need to do is write a way to get the label from an individual file. \n",
    "\n",
    "Let's look at what one of these look like:"
   ]
  },
  {
   "cell_type": "code",
   "execution_count": 16,
   "id": "05f2c26e",
   "metadata": {},
   "outputs": [],
   "source": [
    "item = (data_path/'train'/'pos').ls()[0]"
   ]
  },
  {
   "cell_type": "code",
   "execution_count": 17,
   "id": "32b1ad89",
   "metadata": {},
   "outputs": [
    {
     "data": {
      "text/plain": [
       "Path('/root/.fastai/data/imdb/train/pos/3205_8.txt')"
      ]
     },
     "execution_count": 17,
     "metadata": {},
     "output_type": "execute_result"
    }
   ],
   "source": [
    "item"
   ]
  },
  {
   "cell_type": "markdown",
   "id": "66b8199b",
   "metadata": {},
   "source": [
    "So the label is located in the _name_ of the **parent** relative to the actual file:"
   ]
  },
  {
   "cell_type": "code",
   "execution_count": 18,
   "id": "6fcde7eb",
   "metadata": {},
   "outputs": [
    {
     "data": {
      "text/plain": [
       "'pos'"
      ]
     },
     "execution_count": 18,
     "metadata": {},
     "output_type": "execute_result"
    }
   ],
   "source": [
    "item.parent.name"
   ]
  },
  {
   "cell_type": "markdown",
   "id": "0fc0491d",
   "metadata": {},
   "source": [
    "Let's write a quick function to extract that:\n",
    "\n",
    "> Note: The items get passed in as string file locations, so we should convert them to a Path to utilize the `.parent.name` functionality"
   ]
  },
  {
   "cell_type": "code",
   "execution_count": 19,
   "id": "baa9b751",
   "metadata": {},
   "outputs": [],
   "source": [
    "from pathlib import Path\n",
    "\n",
    "def get_y(item:str): return Path(item).parent.name"
   ]
  },
  {
   "cell_type": "markdown",
   "id": "28ba5eff",
   "metadata": {},
   "source": [
    "Next we'll build our `SequenceClassificationDatasets`:"
   ]
  },
  {
   "cell_type": "code",
   "execution_count": 20,
   "id": "92e209f7",
   "metadata": {},
   "outputs": [
    {
     "name": "stderr",
     "output_type": "stream",
     "text": [
      "Using custom data configuration default-1f2b71eec4880b46\n",
      "Reusing dataset text_no_new_line (/root/.cache/huggingface/datasets/text_no_new_line/default-1f2b71eec4880b46/0.0.0)\n",
      "Using custom data configuration default-04d8fbd2bd2108a0\n",
      "Reusing dataset text_no_new_line (/root/.cache/huggingface/datasets/text_no_new_line/default-04d8fbd2bd2108a0/0.0.0)\n",
      "Loading cached processed dataset at /root/.cache/huggingface/datasets/text_no_new_line/default-1f2b71eec4880b46/0.0.0/cache-109f586a7b1ac79b.arrow\n",
      "Loading cached processed dataset at /root/.cache/huggingface/datasets/text_no_new_line/default-04d8fbd2bd2108a0/0.0.0/cache-921d1183829bb9ec.arrow\n"
     ]
    }
   ],
   "source": [
    "dsets = SequenceClassificationDatasets.from_folders(\n",
    "    data_path/'train',\n",
    "    get_label=get_y,\n",
    "    valid_path=data_path/'test',\n",
    "    tokenizer_name=model.name,\n",
    "    tokenize=True,\n",
    "    split_func=get_y,\n",
    "    tokenize_kwargs={'max_length':128, 'truncation':True, 'padding':True}\n",
    ")"
   ]
  },
  {
   "cell_type": "markdown",
   "id": "4f79fb5b",
   "metadata": {},
   "source": [
    "> Note: If you only have a training folder, just pass in a `split_func` or `split_pct` to either have it split the dataset in a custom way, or pass in a percentage to randomly split by"
   ]
  },
  {
   "cell_type": "markdown",
   "id": "57572a85",
   "metadata": {},
   "source": [
    "And finally turn it into some `AdaptiveDataLoaders`.\n",
    "\n",
    "These are just fastai's `DataLoaders` class, but it overrides a few functions to have it work nicely with HuggingFace's `Dataset` class"
   ]
  },
  {
   "cell_type": "code",
   "execution_count": 21,
   "id": "dd5a37ad",
   "metadata": {},
   "outputs": [
    {
     "data": {
      "text/markdown": [
       "<h4 id=\"SequenceClassificationDatasets.dataloaders\" class=\"doc_header\"><code>SequenceClassificationDatasets.dataloaders</code><a href=\"https://github.com/novetta/adaptnlp/tree/master/adaptnlp/training/sequence_classification.py#L208\" class=\"source_link\" style=\"float:right\">[source]</a></h4>\n",
       "\n",
       "> <code>SequenceClassificationDatasets.dataloaders</code>(**`batch_size`**=*`8`*, **`shuffle_train`**=*`True`*, **`collate_fn`**=*`None`*, **`path`**=*`'.'`*, **`device`**=*`None`*)\n",
       "\n",
       "Build DataLoaders from `self`\n",
       "\n",
       "**Function Arguments**:\n",
       "* `batch_size`: A batch size\n",
       "* `shuffle_train`: Whether to shuffle the training dataset\n"
      ],
      "text/plain": [
       "<IPython.core.display.Markdown object>"
      ]
     },
     "metadata": {},
     "output_type": "display_data"
    }
   ],
   "source": [
    "show_doc(dsets.dataloaders)"
   ]
  },
  {
   "cell_type": "code",
   "execution_count": 22,
   "id": "8f4c533d",
   "metadata": {},
   "outputs": [],
   "source": [
    "dls = dsets.dataloaders(batch_size=8)"
   ]
  },
  {
   "cell_type": "markdown",
   "id": "ffe82a9c",
   "metadata": {},
   "source": [
    "Finally, let's view a batch of data with the `show_batch` function:"
   ]
  },
  {
   "cell_type": "code",
   "execution_count": 23,
   "id": "7ae861c6",
   "metadata": {},
   "outputs": [
    {
     "data": {
      "text/html": [
       "<table border=\"1\" class=\"dataframe\">\n",
       "  <thead>\n",
       "    <tr style=\"text-align: right;\">\n",
       "      <th></th>\n",
       "      <th>Input</th>\n",
       "      <th>Label</th>\n",
       "    </tr>\n",
       "  </thead>\n",
       "  <tbody>\n",
       "    <tr>\n",
       "      <th>0</th>\n",
       "      <td>the us state dept. would not like us to see this movie, because they have a beef with the iranian govt. however, it shows us just how civilized iran really is, despite the content of the film, which centers on the struggle of women there for equal rights in the simplest of terms : the ability to watch a soccer game at the stadium, which is strictly limited to male audiences alone. the film is hilariously funny, and in and of itself is proof of freedom of speech and expression in iran. i enjoyed this movie intensely. five girls try to penetrate the police border at the ticket gates to a soccer match between</td>\n",
       "      <td>pos</td>\n",
       "    </tr>\n",
       "    <tr>\n",
       "      <th>1</th>\n",
       "      <td>awful! absolutely awful! no plot, no point, no end. it looks like the director turned the camera on and then the whole crew went to lunch. every day. i'm trying to give this video away but no one will take it. i'm giving it a 2 instead of a 1 because i like benigni. roger, i'm going to have to say thumbs down on this one. &lt; br / &gt; &lt; br / &gt;</td>\n",
       "      <td>neg</td>\n",
       "    </tr>\n",
       "    <tr>\n",
       "      <th>2</th>\n",
       "      <td>at the time, \" my left foot \" was the little movie that could. it was hugely popular, and everyone applauded the fact that such a small, independent film could make it all the way to the oscars. &lt; br / &gt; &lt; br / &gt; since then, movies like \" my left foot \" are a dime a dozen, so it might be hard in retrospect to understand what all the fuss was about. it's certainly a well made and competent film, but it's clear that the bulk of its success rests on the shoulders of daniel day - lewis, who immerses himself in</td>\n",
       "      <td>pos</td>\n",
       "    </tr>\n",
       "    <tr>\n",
       "      <th>3</th>\n",
       "      <td>i decided to watch this serial after seeing the endless adverts for it on the bbc in the weeks prior to it starting. i watched it despite the fact that i don't like the pretentious kind of stuff that alan hollinghurst writes ( sorry to his fans but i think we have a case of the emperor's new clothes with this author's work ). i admit that the acting is excellent, it is beautifully shot and i was reasonably entertained by it - however - i found that the storyline was extremely thin and after watching all three episodes feel very unsatisfied with this rather empty production.</td>\n",
       "      <td>neg</td>\n",
       "    </tr>\n",
       "    <tr>\n",
       "      <th>4</th>\n",
       "      <td>i have a high tolerance for the weird, but frankly some movies go way, way beyond weird - - so far that they make your brain hurt. this is such a film. trying to understand it or even explain it is impossible and i think the film is best understood while taking drugs - - it's that incomprehensible. &lt; br / &gt; &lt; br / &gt; the film begins with some very cute japanese animation involving a cat. however, out of the blue, tons of twisted and occasionally disturbing things occur - - making me wonder if i am losing something in the translation. however, even if this is so</td>\n",
       "      <td>neg</td>\n",
       "    </tr>\n",
       "  </tbody>\n",
       "</table>"
      ],
      "text/plain": [
       "<IPython.core.display.HTML object>"
      ]
     },
     "metadata": {},
     "output_type": "display_data"
    }
   ],
   "source": [
    "dls.show_batch()"
   ]
  },
  {
   "cell_type": "markdown",
   "id": "586172ad",
   "metadata": {},
   "source": [
    "## Building `Tuner`"
   ]
  },
  {
   "cell_type": "markdown",
   "id": "23e2d9bf",
   "metadata": {},
   "source": [
    "Next we need to build a compatible `Tuner` for our problem. These tuners contain good defaults for our problem space, including loss functions and metrics.\n",
    "\n",
    "First let's import the `SequenceClassificationTuner` and view it's documentation"
   ]
  },
  {
   "cell_type": "code",
   "execution_count": 24,
   "id": "3684443b",
   "metadata": {},
   "outputs": [],
   "source": [
    "from adaptnlp import SequenceClassificationTuner"
   ]
  },
  {
   "cell_type": "code",
   "execution_count": 25,
   "id": "85e41ac3",
   "metadata": {},
   "outputs": [
    {
     "data": {
      "text/markdown": [
       "<h2 id=\"SequenceClassificationTuner\" class=\"doc_header\"><code>class</code> <code>SequenceClassificationTuner</code><a href=\"https://github.com/novetta/adaptnlp/tree/master/adaptnlp/training/sequence_classification.py#L222\" class=\"source_link\" style=\"float:right\">[source]</a></h2>\n",
       "\n",
       "> <code>SequenceClassificationTuner</code>(**`dls`**:`DataLoaders`, **`model_name`**:`str`, **`tokenizer`**=*`None`*, **`loss_func`**=*`CrossEntropyLoss()`*, **`metrics`**=*`[<function accuracy at 0x7f27ea6cb0d0>, <fastai.metrics.AccumMetric object at 0x7f27ea4dd3a0>]`*, **`opt_func`**=*`Adam`*, **`additional_cbs`**=*`None`*, **`expose_fastai_api`**=*`False`*, **`num_classes`**:`int`=*`None`*, **\\*\\*`kwargs`**) :: [`AdaptiveTuner`](/adaptnlp/training.core.html#AdaptiveTuner)\n",
       "\n",
       "An [`AdaptiveTuner`](/adaptnlp/training.core.html#AdaptiveTuner) with good defaults for Sequence Classification tasks\n",
       "\n",
       "**Valid kwargs and defaults:**\n",
       "  - `lr`:float = 0.001\n",
       "  - `splitter`:function = `trainable_params`\n",
       "  - `cbs`:list = None\n",
       "  - `path`:Path = None\n",
       "  - `model_dir`:Path = 'models'\n",
       "  - `wd`:float = None\n",
       "  - `wd_bn_bias`:bool = False\n",
       "  - `train_bn`:bool = True\n",
       "  - `moms`: tuple(float) = (0.95, 0.85, 0.95)\n",
       "\n",
       "**Function Arguments**:\n",
       "* `dls` (`DataLoaders`): A set of DataLoaders\n",
       "* `model_name` (`str`): A HuggingFace model\n",
       "* `num_classes` (`int`): The number of classes\n",
       "* `**kwargs`: kwargs for `Learner.__init__`\n"
      ],
      "text/plain": [
       "<IPython.core.display.Markdown object>"
      ]
     },
     "metadata": {},
     "output_type": "display_data"
    }
   ],
   "source": [
    "show_doc(SequenceClassificationTuner)"
   ]
  },
  {
   "cell_type": "markdown",
   "id": "25a6337f",
   "metadata": {},
   "source": [
    "Next we'll pass in our `DataLoaders` and the name of our model:"
   ]
  },
  {
   "cell_type": "markdown",
   "id": "48f13ffd",
   "metadata": {},
   "source": [
    "> Note: If you are **not** using the data API and generating `AdaptiveDataLoaders`, you need to pass in the tokenizer to the constructor as well with `tokenizer=tokenizer`"
   ]
  },
  {
   "cell_type": "code",
   "execution_count": 33,
   "id": "8ec6dde0",
   "metadata": {},
   "outputs": [],
   "source": [
    "tuner = SequenceClassificationTuner(dls, model.name)"
   ]
  },
  {
   "cell_type": "markdown",
   "id": "af203bc7",
   "metadata": {},
   "source": [
    "By default we can see that it used `CrossEntropyLoss` as our loss function, and both `accuracy` and `F1Score` as our metrics:"
   ]
  },
  {
   "cell_type": "code",
   "execution_count": 34,
   "id": "4a089e10",
   "metadata": {},
   "outputs": [
    {
     "data": {
      "text/plain": [
       "FlattenedLoss of CrossEntropyLoss()"
      ]
     },
     "execution_count": 34,
     "metadata": {},
     "output_type": "execute_result"
    }
   ],
   "source": [
    "tuner.loss_func"
   ]
  },
  {
   "cell_type": "code",
   "execution_count": 35,
   "id": "2bb13513",
   "metadata": {},
   "outputs": [
    {
     "name": "stdout",
     "output_type": "stream",
     "text": [
      "accuracy\n",
      "f1_score\n"
     ]
    }
   ],
   "source": [
    "_ = [print(m.name) for m in tuner.metrics]"
   ]
  },
  {
   "cell_type": "markdown",
   "id": "d2459ede",
   "metadata": {},
   "source": [
    "Finally we just need to train our model!"
   ]
  },
  {
   "cell_type": "markdown",
   "id": "33dd944d",
   "metadata": {},
   "source": [
    "## Fine-Tuning"
   ]
  },
  {
   "cell_type": "markdown",
   "id": "2e9ec17d",
   "metadata": {},
   "source": [
    "To fine-tune, AdaptNLP's tuner class provides only a few functions to work with. The important ones are the `tune` and `lr_find` class.\n",
    "\n",
    "As the `Tuner` uses `fastai` under the hood, `lr_find` calls fastai's Learning Rate Finder to help us pick a learning rate. Let's do that now:"
   ]
  },
  {
   "cell_type": "code",
   "execution_count": 36,
   "id": "4a952ef5",
   "metadata": {},
   "outputs": [
    {
     "data": {
      "text/markdown": [
       "<h4 id=\"AdaptiveTuner.lr_find\" class=\"doc_header\"><code>AdaptiveTuner.lr_find</code><a href=\"https://github.com/novetta/adaptnlp/tree/master/adaptnlp/training/core.py#L380\" class=\"source_link\" style=\"float:right\">[source]</a></h4>\n",
       "\n",
       "> <code>AdaptiveTuner.lr_find</code>(**`start_lr`**=*`1e-07`*, **`end_lr`**=*`10`*, **`num_it`**=*`100`*, **`stop_div`**=*`True`*, **`show_plot`**=*`True`*, **`suggest_funcs`**=*`valley`*)\n",
       "\n",
       "Runs fastai's `LR Finder`\n",
       "\n"
      ],
      "text/plain": [
       "<IPython.core.display.Markdown object>"
      ]
     },
     "metadata": {},
     "output_type": "display_data"
    }
   ],
   "source": [
    "show_doc(tuner.lr_find)"
   ]
  },
  {
   "cell_type": "code",
   "execution_count": 37,
   "id": "b0e74161",
   "metadata": {},
   "outputs": [
    {
     "data": {
      "text/html": [],
      "text/plain": [
       "<IPython.core.display.HTML object>"
      ]
     },
     "metadata": {},
     "output_type": "display_data"
    },
    {
     "name": "stderr",
     "output_type": "stream",
     "text": [
      "/opt/venv/lib/python3.8/site-packages/fastai/callback/schedule.py:270: UserWarning: color is redundantly defined by the 'color' keyword argument and the fmt string \"ro\" (-> color='r'). The keyword argument will take precedence.\n",
      "  ax.plot(val, idx, 'ro', label=nm, c=color)\n"
     ]
    },
    {
     "data": {
      "text/plain": [
       "SuggestedLRs(valley=0.0003981071640737355)"
      ]
     },
     "execution_count": 37,
     "metadata": {},
     "output_type": "execute_result"
    },
    {
     "data": {
      "image/png": "[encoded data removed]",
      "text/plain": [
       "<Figure size 432x288 with 1 Axes>"
      ]
     },
     "metadata": {
      "needs_background": "light"
     },
     "output_type": "display_data"
    }
   ],
   "source": [
    "tuner.lr_find()"
   ]
  },
  {
   "cell_type": "markdown",
   "id": "f616822e",
   "metadata": {},
   "source": [
    "It recommends a learning rate of around 1e-4, so we will use that."
   ]
  },
  {
   "cell_type": "code",
   "execution_count": 38,
   "id": "3264f0d4",
   "metadata": {},
   "outputs": [],
   "source": [
    "lr = 1e-4"
   ]
  },
  {
   "cell_type": "markdown",
   "id": "c3cd5a91",
   "metadata": {},
   "source": [
    "Let's look at the documentation for `tune` function:"
   ]
  },
  {
   "cell_type": "code",
   "execution_count": 39,
   "id": "16ddce02",
   "metadata": {},
   "outputs": [
    {
     "data": {
      "text/markdown": [
       "<h4 id=\"AdaptiveTuner.tune\" class=\"doc_header\"><code>AdaptiveTuner.tune</code><a href=\"https://github.com/novetta/adaptnlp/tree/master/adaptnlp/training/core.py#L366\" class=\"source_link\" style=\"float:right\">[source]</a></h4>\n",
       "\n",
       "> <code>AdaptiveTuner.tune</code>(**`epochs`**:`int`, **`lr`**:`float`=*`None`*, **`strategy`**:`Strategy`=*`'fit_one_cycle'`*, **`callbacks`**:`list`=*`[]`*, **\\*\\*`kwargs`**)\n",
       "\n",
       "Fine tune `self.model` for `epochs` with an `lr` and `strategy`\n",
       "\n"
      ],
      "text/plain": [
       "<IPython.core.display.Markdown object>"
      ]
     },
     "metadata": {},
     "output_type": "display_data"
    }
   ],
   "source": [
    "show_doc(tuner.tune)"
   ]
  },
  {
   "cell_type": "markdown",
   "id": "388bd7f4",
   "metadata": {},
   "source": [
    "We can pass in a number of epochs, a learning rate, a strategy, and additional fastai callbacks to call.\n",
    "\n",
    "Valid strategies live in the `Strategy` namespace class, and consist of:\n",
    "- OneCycle\n",
    "- CosineAnnealing\n",
    "- SGDR"
   ]
  },
  {
   "cell_type": "code",
   "execution_count": 40,
   "id": "e73f6a8d",
   "metadata": {},
   "outputs": [],
   "source": [
    "from adaptnlp import Strategy"
   ]
  },
  {
   "cell_type": "markdown",
   "id": "00c88a33",
   "metadata": {},
   "source": [
    "In this tutorial we will train with the One-Cycle policy."
   ]
  },
  {
   "cell_type": "markdown",
   "id": "54c74227",
   "metadata": {},
   "source": [
    "Let's now `tune` with our strategy and our newly found learning rate for three iterations over the dataset"
   ]
  },
  {
   "cell_type": "code",
   "execution_count": 41,
   "id": "03687689",
   "metadata": {
    "scrolled": true
   },
   "outputs": [
    {
     "data": {
      "text/html": [
       "<table border=\"1\" class=\"dataframe\">\n",
       "  <thead>\n",
       "    <tr style=\"text-align: left;\">\n",
       "      <th>epoch</th>\n",
       "      <th>train_loss</th>\n",
       "      <th>valid_loss</th>\n",
       "      <th>accuracy</th>\n",
       "      <th>f1_score</th>\n",
       "      <th>time</th>\n",
       "    </tr>\n",
       "  </thead>\n",
       "  <tbody>\n",
       "    <tr>\n",
       "      <td>0</td>\n",
       "      <td>0.353429</td>\n",
       "      <td>0.367736</td>\n",
       "      <td>0.834720</td>\n",
       "      <td>0.826503</td>\n",
       "      <td>06:58</td>\n",
       "    </tr>\n",
       "    <tr>\n",
       "      <td>1</td>\n",
       "      <td>0.284561</td>\n",
       "      <td>0.348747</td>\n",
       "      <td>0.853640</td>\n",
       "      <td>0.849727</td>\n",
       "      <td>06:58</td>\n",
       "    </tr>\n",
       "    <tr>\n",
       "      <td>2</td>\n",
       "      <td>0.105604</td>\n",
       "      <td>0.388459</td>\n",
       "      <td>0.862440</td>\n",
       "      <td>0.862621</td>\n",
       "      <td>06:58</td>\n",
       "    </tr>\n",
       "  </tbody>\n",
       "</table>"
      ],
      "text/plain": [
       "<IPython.core.display.HTML object>"
      ]
     },
     "metadata": {},
     "output_type": "display_data"
    }
   ],
   "source": [
    "tuner.tune(\n",
    "    epochs=3, \n",
    "    lr=lr, \n",
    "    strategy=Strategy.OneCycle\n",
    ")"
   ]
  },
  {
   "cell_type": "markdown",
   "id": "42dc3547",
   "metadata": {},
   "source": [
    "## Saving Model"
   ]
  },
  {
   "cell_type": "markdown",
   "id": "2aebf7b2",
   "metadata": {},
   "source": [
    "Now that we have a trained model, let's save those weights away.\n",
    "\n",
    "Calling `tuner.save` will save both the model and the tokenizer in the same format as how HuggingFace does:"
   ]
  },
  {
   "cell_type": "code",
   "execution_count": 42,
   "id": "a01b6b63",
   "metadata": {},
   "outputs": [
    {
     "data": {
      "text/markdown": [
       "<h4 id=\"AdaptiveTuner.save\" class=\"doc_header\"><code>AdaptiveTuner.save</code><a href=\"https://github.com/novetta/adaptnlp/tree/master/adaptnlp/training/core.py#L388\" class=\"source_link\" style=\"float:right\">[source]</a></h4>\n",
       "\n",
       "> <code>AdaptiveTuner.save</code>(**`save_directory`**)\n",
       "\n",
       "Save a pretrained model to a `save_directory`\n",
       "\n",
       "**Function Arguments**:\n",
       "* `save_directory`: A folder to save our model to\n"
      ],
      "text/plain": [
       "<IPython.core.display.Markdown object>"
      ]
     },
     "metadata": {},
     "output_type": "display_data"
    }
   ],
   "source": [
    "show_doc(tuner.save)"
   ]
  },
  {
   "cell_type": "code",
   "execution_count": 43,
   "id": "5e66d79c",
   "metadata": {},
   "outputs": [
    {
     "data": {
      "text/plain": [
       "'good_model'"
      ]
     },
     "execution_count": 43,
     "metadata": {},
     "output_type": "execute_result"
    }
   ],
   "source": [
    "tuner.save('good_model')"
   ]
  },
  {
   "cell_type": "markdown",
   "id": "faf8dec2",
   "metadata": {},
   "source": [
    "## Performing Inference"
   ]
  },
  {
   "cell_type": "markdown",
   "id": "73ffec52",
   "metadata": {},
   "source": [
    "There are two ways to get predictions, the first is with the `.predict` method in our `tuner`. This is great for if you just finished training and want to see how your model performs on some new data!\n",
    "The other method is with AdaptNLP's infernece API, which we will show afterwards"
   ]
  },
  {
   "cell_type": "markdown",
   "id": "87ddcba5",
   "metadata": {},
   "source": [
    "## In Tuner"
   ]
  },
  {
   "cell_type": "markdown",
   "id": "fb36b957",
   "metadata": {},
   "source": [
    "First let's write a sentence ot test with"
   ]
  },
  {
   "cell_type": "code",
   "execution_count": 44,
   "id": "168ffe2c",
   "metadata": {},
   "outputs": [],
   "source": [
    "sentence = \"This movie was horrible! Hugh Jackman is a terrible actor\""
   ]
  },
  {
   "cell_type": "markdown",
   "id": "258c2e7c",
   "metadata": {},
   "source": [
    "And then predict with it:"
   ]
  },
  {
   "cell_type": "code",
   "execution_count": 45,
   "id": "aa794b1d",
   "metadata": {},
   "outputs": [
    {
     "data": {
      "text/markdown": [
       "<h4 id=\"SequenceClassificationTuner.predict\" class=\"doc_header\"><code>SequenceClassificationTuner.predict</code><a href=\"https://github.com/novetta/adaptnlp/tree/master/adaptnlp/training/sequence_classification.py#L272\" class=\"source_link\" style=\"float:right\">[source]</a></h4>\n",
       "\n",
       "> <code>SequenceClassificationTuner.predict</code>(**`text`**:`Union`\\[`List`\\[`str`\\], `str`\\], **`bs`**:`int`=*`64`*, **`detail_level`**:`DetailLevel`=*`'low'`*)\n",
       "\n",
       "Predict some `text` for sequence classification with the currently loaded model\n",
       "\n",
       "**Function Arguments**:\n",
       "* `text` (`Union[List[str], str]`): Some text or list of texts to do inference with\n",
       "* `bs` (`int`): A batch size to use for multiple texts\n",
       "* `detail_level` (`DetailLevel `): A detail level to return on the predictions\n"
      ],
      "text/plain": [
       "<IPython.core.display.Markdown object>"
      ]
     },
     "metadata": {},
     "output_type": "display_data"
    }
   ],
   "source": [
    "show_doc(tuner.predict)"
   ]
  },
  {
   "cell_type": "code",
   "execution_count": 46,
   "id": "afeb2f4e",
   "metadata": {},
   "outputs": [
    {
     "data": {
      "text/html": [],
      "text/plain": [
       "<IPython.core.display.HTML object>"
      ]
     },
     "metadata": {},
     "output_type": "display_data"
    },
    {
     "data": {
      "text/plain": [
       "{'sentences': ['This movie was horrible! Hugh Jackman is a terrible actor'],\n",
       " 'predictions': ['neg'],\n",
       " 'probs': tensor([[9.9931e-01, 6.9142e-04]])}"
      ]
     },
     "execution_count": 46,
     "metadata": {},
     "output_type": "execute_result"
    }
   ],
   "source": [
    "tuner.predict(sentence)"
   ]
  },
  {
   "cell_type": "markdown",
   "id": "671d0201",
   "metadata": {},
   "source": [
    "### With the Inference API"
   ]
  },
  {
   "cell_type": "markdown",
   "id": "934394be",
   "metadata": {},
   "source": [
    "Next we will use the `EasySequenceClassifier` class, which AdaptNLP offers:"
   ]
  },
  {
   "cell_type": "code",
   "execution_count": 47,
   "id": "c6d92d99",
   "metadata": {},
   "outputs": [],
   "source": [
    "from adaptnlp import EasySequenceClassifier"
   ]
  },
  {
   "cell_type": "markdown",
   "id": "74f21f19",
   "metadata": {},
   "source": [
    "We simply construct the class:"
   ]
  },
  {
   "cell_type": "code",
   "execution_count": 48,
   "id": "807b645b",
   "metadata": {},
   "outputs": [],
   "source": [
    "classifier = EasySequenceClassifier()"
   ]
  },
  {
   "cell_type": "markdown",
   "id": "714756a9",
   "metadata": {},
   "source": [
    "And call the `tag_text` method, passing in the sentence, the location of our saved model, and some names for our classes:"
   ]
  },
  {
   "cell_type": "code",
   "execution_count": 49,
   "id": "a5bae902",
   "metadata": {},
   "outputs": [
    {
     "name": "stdout",
     "output_type": "stream",
     "text": [
      "2021-08-02 18:10:15,999 loading file good_model\n"
     ]
    },
    {
     "data": {
      "text/html": [],
      "text/plain": [
       "<IPython.core.display.HTML object>"
      ]
     },
     "metadata": {},
     "output_type": "display_data"
    },
    {
     "data": {
      "text/plain": [
       "{'sentences': ['This movie was horrible! Hugh Jackman is a terrible actor'],\n",
       " 'predictions': ['negative'],\n",
       " 'probs': tensor([[9.9931e-01, 6.9142e-04]])}"
      ]
     },
     "execution_count": 49,
     "metadata": {},
     "output_type": "execute_result"
    }
   ],
   "source": [
    "classifier.tag_text(\n",
    "    sentence,\n",
    "    model_name_or_path='good_model',\n",
    "    class_names=['negative', 'positive']\n",
    ")"
   ]
  },
  {
   "cell_type": "markdown",
   "id": "1f7bb8f4",
   "metadata": {},
   "source": [
    "And we got the exact same output and probabilities!"
   ]
  },
  {
   "cell_type": "markdown",
   "id": "542bf6cd",
   "metadata": {},
   "source": [
    "There are also different levels of predictions we can return (which is also the same with our earlier `predict` call).\n",
    "\n",
    "These live in a namespace `DetailLevel` class, with a few examples below:"
   ]
  },
  {
   "cell_type": "code",
   "execution_count": 50,
   "id": "0c1aa21a",
   "metadata": {},
   "outputs": [],
   "source": [
    "from adaptnlp import DetailLevel"
   ]
  },
  {
   "cell_type": "code",
   "execution_count": 51,
   "id": "4d8574a7",
   "metadata": {},
   "outputs": [
    {
     "data": {
      "text/plain": [
       "'low'"
      ]
     },
     "execution_count": 51,
     "metadata": {},
     "output_type": "execute_result"
    }
   ],
   "source": [
    "DetailLevel.Low"
   ]
  },
  {
   "cell_type": "markdown",
   "id": "beacf2b4",
   "metadata": {},
   "source": [
    "While some Easy modules will not return different items at each level, most will return only a few specific outputs at the Low level, and everything possible at the High level:"
   ]
  },
  {
   "cell_type": "code",
   "execution_count": 52,
   "id": "b3db3426",
   "metadata": {},
   "outputs": [
    {
     "data": {
      "text/html": [],
      "text/plain": [
       "<IPython.core.display.HTML object>"
      ]
     },
     "metadata": {},
     "output_type": "display_data"
    },
    {
     "data": {
      "text/plain": [
       "{'sentences': ['This movie was horrible! Hugh Jackman is a terrible actor'],\n",
       " 'predictions': ['NEGATIVE'],\n",
       " 'probs': tensor([[9.9931e-01, 6.9142e-04]])}"
      ]
     },
     "execution_count": 52,
     "metadata": {},
     "output_type": "execute_result"
    }
   ],
   "source": [
    "classifier.tag_text(\n",
    "    sentence,\n",
    "    model_name_or_path = 'good_model',\n",
    "    detail_level=DetailLevel.Low\n",
    ")"
   ]
  },
  {
   "cell_type": "code",
   "execution_count": 53,
   "id": "c1393391",
   "metadata": {},
   "outputs": [
    {
     "data": {
      "text/html": [],
      "text/plain": [
       "<IPython.core.display.HTML object>"
      ]
     },
     "metadata": {},
     "output_type": "display_data"
    },
    {
     "data": {
      "text/plain": [
       "{'sentences': ['This movie was horrible! Hugh Jackman is a terrible actor'],\n",
       " 'predictions': ['NEGATIVE'],\n",
       " 'probs': tensor([[9.9931e-01, 6.9142e-04]]),\n",
       " 'pairings': OrderedDict([('This movie was horrible! Hugh Jackman is a terrible actor',\n",
       "               tensor([9.9931e-01, 6.9142e-04]))]),\n",
       " 'classes': ['NEGATIVE', 'POSITIVE']}"
      ]
     },
     "execution_count": 53,
     "metadata": {},
     "output_type": "execute_result"
    }
   ],
   "source": [
    "classifier.tag_text(\n",
    "    sentence,\n",
    "    model_name_or_path = 'good_model',\n",
    "    detail_level=DetailLevel.Medium\n",
    ")"
   ]
  },
  {
   "cell_type": "code",
   "execution_count": 54,
   "id": "83c22772",
   "metadata": {},
   "outputs": [
    {
     "data": {
      "text/html": [],
      "text/plain": [
       "<IPython.core.display.HTML object>"
      ]
     },
     "metadata": {},
     "output_type": "display_data"
    },
    {
     "data": {
      "text/plain": [
       "{'sentences': [Sentence: \"This movie was horrible ! Hugh Jackman is a terrible actor\"   [− Tokens: 11  − Sentence-Labels: {'sc': [NEGATIVE (0.9993), POSITIVE (0.0007)]}]],\n",
       " 'predictions': ['NEGATIVE'],\n",
       " 'probs': tensor([[9.9931e-01, 6.9142e-04]]),\n",
       " 'pairings': OrderedDict([('This movie was horrible! Hugh Jackman is a terrible actor',\n",
       "               tensor([9.9931e-01, 6.9142e-04]))]),\n",
       " 'classes': ['NEGATIVE', 'POSITIVE']}"
      ]
     },
     "execution_count": 54,
     "metadata": {},
     "output_type": "execute_result"
    }
   ],
   "source": [
    "classifier.tag_text(\n",
    "    sentence,\n",
    "    model_name_or_path = 'good_model',\n",
    "    detail_level=DetailLevel.High\n",
    ")"
   ]
  }
 ],
 "metadata": {
  "kernelspec": {
   "display_name": "Python 3 (ipykernel)",
   "language": "python",
   "name": "python3"
  },
  "language_info": {
   "codemirror_mode": {
    "name": "ipython",
    "version": 3
   },
   "file_extension": ".py",
   "mimetype": "text/x-python",
   "name": "python",
   "nbconvert_exporter": "python",
   "pygments_lexer": "ipython3",
   "version": "3.8.11"
  }
 },
 "nbformat": 4,
 "nbformat_minor": 5
}
