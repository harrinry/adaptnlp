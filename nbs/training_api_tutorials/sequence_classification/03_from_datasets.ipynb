{
 "cells": [
  {
   "cell_type": "code",
   "execution_count": 1,
   "id": "53946cd5",
   "metadata": {
    "id": "53946cd5"
   },
   "outputs": [],
   "source": [
    "#all_slow"
   ]
  },
  {
   "cell_type": "markdown",
   "id": "ca157d7d",
   "metadata": {
    "id": "ca157d7d"
   },
   "source": [
    "# Tutorial: Fine-Tuning Sequence Classification on HuggingFace `Datasets` with MRPC\n",
    "> Tuning a Sequence Classification model on the Microsoft MRPC dataset"
   ]
  },
  {
   "cell_type": "markdown",
   "id": "e17d8af2",
   "metadata": {},
   "source": [
    "## Introduction\n",
    "\n",
    "In this tutorial we will be showing an end-to-end example of fine-tuning a Transformer for sequence classification on a custom dataset in HuggingFace `Dataset` format.\n",
    "\n",
    "By the end of this you should be able to:\n",
    "\n",
    "1. Build a dataset with the `TaskDatasets` class, and their DataLoaders\n",
    "2. Build a `SequenceClassificationTuner` quickly, find a good learning rate, and train with the One-Cycle Policy\n",
    "3. Save that model away, to be used with deployment or other HuggingFace libraries\n",
    "4. Apply inference using both the `Tuner` available function as well as with the `EasySequenceClassifier` class within AdaptNLP"
   ]
  },
  {
   "cell_type": "markdown",
   "id": "3a44baa5",
   "metadata": {
    "id": "3a44baa5"
   },
   "source": [
    "## Installing the Library"
   ]
  },
  {
   "cell_type": "markdown",
   "id": "fce03b17",
   "metadata": {
    "id": "fce03b17"
   },
   "source": [
    "This tutorial utilizies the latest AdaptNLP version, as well as parts of the `fastai` library. Please run the below code to install them:"
   ]
  },
  {
   "cell_type": "code",
   "execution_count": 2,
   "id": "8bc6b3cd",
   "metadata": {
    "id": "8bc6b3cd"
   },
   "outputs": [],
   "source": [
    "# !pip install git+https://github.com/muellerzr/nbdev git+https://github.com/novetta/adaptnlp@dev -U"
   ]
  },
  {
   "cell_type": "code",
   "execution_count": 3,
   "id": "VOwOHNTgyJzY",
   "metadata": {
    "id": "VOwOHNTgyJzY"
   },
   "outputs": [],
   "source": [
    "#hide\n",
    "from nbdev.showdoc import *"
   ]
  },
  {
   "cell_type": "markdown",
   "id": "86de58d7",
   "metadata": {
    "id": "86de58d7"
   },
   "source": [
    "## Getting the Dataset"
   ]
  },
  {
   "cell_type": "markdown",
   "id": "2a039f4f",
   "metadata": {
    "id": "2a039f4f"
   },
   "source": [
    "First we need a dataset. We will use `dataset`'s `load_dataset` function to quickly generate a raw dataset straight from HuggingFace:"
   ]
  },
  {
   "cell_type": "code",
   "execution_count": 4,
   "id": "cc8faf2f",
   "metadata": {},
   "outputs": [],
   "source": [
    "from datasets import load_dataset"
   ]
  },
  {
   "cell_type": "code",
   "execution_count": 5,
   "id": "cb182fd9",
   "metadata": {},
   "outputs": [
    {
     "name": "stderr",
     "output_type": "stream",
     "text": [
      "Reusing dataset glue (/root/.cache/huggingface/datasets/glue/mrpc/1.0.0/dacbe3125aa31d7f70367a07a8a9e72a5a0bfeb5fc42e75c9db75b96da6053ad)\n"
     ]
    }
   ],
   "source": [
    "raw_datasets = load_dataset(\"glue\", \"mrpc\")"
   ]
  },
  {
   "cell_type": "markdown",
   "id": "05ef7942",
   "metadata": {},
   "source": [
    "We now have a raw `datasets` dataset, which we can index into:"
   ]
  },
  {
   "cell_type": "code",
   "execution_count": 6,
   "id": "fb649bbd",
   "metadata": {},
   "outputs": [
    {
     "data": {
      "text/plain": [
       "{'idx': 0,\n",
       " 'label': 1,\n",
       " 'sentence1': 'Amrozi accused his brother , whom he called \" the witness \" , of deliberately distorting his evidence .',\n",
       " 'sentence2': 'Referring to him as only \" the witness \" , Amrozi accused his brother of deliberately distorting his evidence .'}"
      ]
     },
     "execution_count": 6,
     "metadata": {},
     "output_type": "execute_result"
    }
   ],
   "source": [
    "raw_datasets['train'][0]"
   ]
  },
  {
   "cell_type": "markdown",
   "id": "01caee30",
   "metadata": {},
   "source": [
    "Now that we have the data downloaded, let's decide on a model to use."
   ]
  },
  {
   "cell_type": "markdown",
   "id": "320caa02",
   "metadata": {
    "id": "320caa02"
   },
   "source": [
    "## Picking a Model with the Hub"
   ]
  },
  {
   "cell_type": "markdown",
   "id": "170b200d",
   "metadata": {
    "id": "170b200d"
   },
   "source": [
    "AdaptNLP has a `HFModelHub` class that allows you to communicate with the HuggingFace Hub and pick a model from it, as well as a namespace `HF_TASKS` class with a list of valid tasks we can search by.\n",
    "\n",
    "Let's try and find one suitable for sequence classification.\n",
    "\n",
    "First we need to import the class and generate an instance of it:"
   ]
  },
  {
   "cell_type": "code",
   "execution_count": 7,
   "id": "e6c1f6ab",
   "metadata": {
    "id": "e6c1f6ab"
   },
   "outputs": [],
   "source": [
    "from adaptnlp import HFModelHub, HF_TASKS"
   ]
  },
  {
   "cell_type": "code",
   "execution_count": 8,
   "id": "9460e9d8",
   "metadata": {
    "id": "9460e9d8"
   },
   "outputs": [],
   "source": [
    "hub = HFModelHub()"
   ]
  },
  {
   "cell_type": "markdown",
   "id": "7ce5e54e",
   "metadata": {
    "id": "7ce5e54e"
   },
   "source": [
    "Next we can search for a model:"
   ]
  },
  {
   "cell_type": "code",
   "execution_count": 9,
   "id": "1ded037a",
   "metadata": {
    "id": "1ded037a"
   },
   "outputs": [],
   "source": [
    "models = hub.search_model_by_task(HF_TASKS.TEXT_CLASSIFICATION)"
   ]
  },
  {
   "cell_type": "markdown",
   "id": "9fec0167",
   "metadata": {
    "id": "9fec0167"
   },
   "source": [
    "Let's look at a few:"
   ]
  },
  {
   "cell_type": "code",
   "execution_count": 10,
   "id": "17717851",
   "metadata": {
    "colab": {
     "base_uri": "https://localhost:8080/"
    },
    "id": "17717851",
    "outputId": "7dfa7154-49de-4836-9c6f-eb16519006a4"
   },
   "outputs": [
    {
     "data": {
      "text/plain": [
       "[Model Name: distilbert-base-uncased-finetuned-sst-2-english, Tasks: [text-classification],\n",
       " Model Name: roberta-base-openai-detector, Tasks: [text-classification],\n",
       " Model Name: roberta-large-mnli, Tasks: [text-classification],\n",
       " Model Name: roberta-large-openai-detector, Tasks: [text-classification]]"
      ]
     },
     "execution_count": 10,
     "metadata": {},
     "output_type": "execute_result"
    }
   ],
   "source": [
    "models[:10]"
   ]
  },
  {
   "cell_type": "markdown",
   "id": "92cc23ba",
   "metadata": {
    "id": "92cc23ba"
   },
   "source": [
    "These are models specifically tagged with the `text-classification` tag, so you may not see a few models you would expect such as `bert_base_cased`.\n",
    "\n",
    "Let's search for that one for this problem:"
   ]
  },
  {
   "cell_type": "code",
   "execution_count": 11,
   "id": "2a7941ea",
   "metadata": {},
   "outputs": [],
   "source": [
    "models = hub.search_model_by_name('bert-base-uncased', user_uploaded=True)"
   ]
  },
  {
   "cell_type": "code",
   "execution_count": 12,
   "id": "60e340d4",
   "metadata": {
    "id": "60e340d4"
   },
   "outputs": [
    {
     "data": {
      "text/plain": [
       "[Model Name: bert-base-uncased, Tasks: [fill-mask],\n",
       " Model Name: distilbert-base-uncased-distilled-squad, Tasks: [question-answering],\n",
       " Model Name: distilbert-base-uncased-finetuned-sst-2-english, Tasks: [text-classification],\n",
       " Model Name: distilbert-base-uncased, Tasks: [fill-mask],\n",
       " Model Name: GD/bert-base-uncased-gh, Tasks: []]"
      ]
     },
     "execution_count": 12,
     "metadata": {},
     "output_type": "execute_result"
    }
   ],
   "source": [
    "models[:5]"
   ]
  },
  {
   "cell_type": "markdown",
   "id": "56640897",
   "metadata": {},
   "source": [
    "We want the first one."
   ]
  },
  {
   "cell_type": "code",
   "execution_count": 13,
   "id": "9b29d210",
   "metadata": {
    "colab": {
     "base_uri": "https://localhost:8080/"
    },
    "id": "9b29d210",
    "outputId": "1713ef56-13da-4e4f-ba3a-6141213fd804"
   },
   "outputs": [],
   "source": [
    "model = models[0]"
   ]
  },
  {
   "cell_type": "markdown",
   "id": "a567732b",
   "metadata": {
    "id": "a567732b"
   },
   "source": [
    "Now that we have picked a model, let's use the data API to prepare our data"
   ]
  },
  {
   "cell_type": "markdown",
   "id": "a52c80c1",
   "metadata": {},
   "source": [
    "> Note: It should be mentioned that this is optional, you can always just pass in the string name of a model such as \"bert-base-cased\""
   ]
  },
  {
   "cell_type": "markdown",
   "id": "b676253e",
   "metadata": {
    "id": "b676253e"
   },
   "source": [
    "## Building `TaskDatasets`"
   ]
  },
  {
   "cell_type": "markdown",
   "id": "7faa7c29",
   "metadata": {
    "id": "7faa7c29"
   },
   "source": [
    "All of the task-specific high-level data API's (such as `SequenceClassificationDatasets`) all wrap around the `TaskDatasets` class, which is a small wrapper around `datasets` highly efficient `Dataset` class.\n",
    "\n",
    "This integration was valuable because it provides a fast and memory-efficient way to use large datasets with minimal effort. \n",
    "\n",
    "First let's import the class:"
   ]
  },
  {
   "cell_type": "code",
   "execution_count": 14,
   "id": "83994a53",
   "metadata": {
    "id": "83994a53"
   },
   "outputs": [],
   "source": [
    "from adaptnlp import TaskDatasets"
   ]
  },
  {
   "cell_type": "markdown",
   "id": "6965c387",
   "metadata": {
    "id": "6965c387"
   },
   "source": [
    "The `TaskDatasets` class has no class constructors outside the normal one. The reason for this is it takes in raw `Datasets` and other tokenizer arguments to build from:"
   ]
  },
  {
   "cell_type": "code",
   "execution_count": 15,
   "id": "ce0cfe3a",
   "metadata": {
    "colab": {
     "base_uri": "https://localhost:8080/",
     "height": 400
    },
    "id": "ce0cfe3a",
    "outputId": "75b2394a-d70a-4682-d62a-8b57a5febeff"
   },
   "outputs": [
    {
     "data": {
      "text/markdown": [
       "<h2 id=\"TaskDatasets\" class=\"doc_header\"><code>class</code> <code>TaskDatasets</code><a href=\"https://github.com/novetta/adaptnlp/tree/master/adaptnlp/training/core.py#L167\" class=\"source_link\" style=\"float:right\">[source]</a></h2>\n",
       "\n",
       "> <code>TaskDatasets</code>(**`train_dset`**, **`valid_dset`**, **`tokenizer_name`**:`str`=*`None`*, **`tokenize`**:`bool`=*`True`*, **`tokenize_func`**:`callable`=*`None`*, **`tokenize_kwargs`**:`dict`=*`{}`*, **`auto_kwargs`**:`dict`=*`{}`*, **`remove_cols`**:`Union`\\[`str`, `List`\\[`str`\\]\\]=*`None`*)\n",
       "\n",
       "A set of datasets for a particular task, with a simple API.\n",
       "\n",
       "Note: This is the base API, `items` should be a set of regular text and model-ready labels,\n",
       "      including label or one-hot encoding being applied.\n",
       "\n",
       "**Function Arguments**:\n",
       "* `train_dset`: A train `Dataset` object\n",
       "* `valid_dset`: A validation `Dataset` object\n",
       "* `tokenizer_name` (`str `): The string name of a `HuggingFace` tokenizer or model. If `None`, will not tokenize the dataset.\n",
       "* `tokenize` (`bool `): Whether to tokenize the dataset immediatly\n",
       "* `tokenize_func` (`callable `): A function to tokenize an item with\n",
       "* `tokenize_kwargs` (`dict `): Some kwargs for when we call the tokenizer\n",
       "* `auto_kwargs` (`dict `): Some kwargs when calling `AutoTokenizer.from_pretrained`\n",
       "* `remove_cols` (`Union[str,List[str]] `): What columns to remove\n",
       "* `tokenizer_name` (`str`): A string name of a `HuggingFace` tokenizer or model\n"
      ],
      "text/plain": [
       "<IPython.core.display.Markdown object>"
      ]
     },
     "metadata": {},
     "output_type": "display_data"
    }
   ],
   "source": [
    "show_doc(TaskDatasets)"
   ]
  },
  {
   "cell_type": "markdown",
   "id": "759f48f0",
   "metadata": {
    "id": "a224521a"
   },
   "source": [
    "Anything you would normally pass to the tokenizer call (such as `max_length`, `padding`) should go in `tokenize_kwargs`, and anything going to the `AutoTokenizer.from_pretrained` constructor should be passed to the `auto_kwargs`."
   ]
  },
  {
   "cell_type": "markdown",
   "id": "b5e8b0ef",
   "metadata": {},
   "source": [
    "## Custom Tokenization Function and Finishing our `TaskDatasets`"
   ]
  },
  {
   "cell_type": "markdown",
   "id": "fb4a80d0",
   "metadata": {},
   "source": [
    "You may notice there is an extra step here: We need to pass in a `tokenize_func`. In the other tutorials we used a very basic tokenizing function, and this has a default for that as well.\n",
    "\n",
    "However given our dataset, we need to implement our own tokenization function.\n",
    "\n",
    "To do so, your function must take in an `item`, a `tokenizer`, and `tokenize_kwargs`. It should be noted that **you do not have to declare any of these**. All of them are attributes that the `TaskDatasets` has access to, and will be passed to this function implicitly.\n",
    "\n",
    "What you need to declare is *how* you want the tokenizer applied.\n",
    "\n",
    "In our case we have two separate sentences that need to be tokenized at once. These texts live in that dictionary we saw earlier at the keys `sentence1` and `sentence2`.\n",
    "\n",
    "Let's write that function:"
   ]
  },
  {
   "cell_type": "code",
   "execution_count": 16,
   "id": "063a1e06",
   "metadata": {},
   "outputs": [],
   "source": [
    "def tok_func(\n",
    "    item, # A single item in the dataset\n",
    "    tokenizer, # The implicit tokenizer that `TaskDatasets` has access to\n",
    "    tokenize_kwargs, # Key word arguments passed into the constructor of `TaskDatasets`\n",
    "):\n",
    "    \"A basic tokenization function for two items\"\n",
    "    return tokenizer(\n",
    "        item['sentence1'],\n",
    "        item['sentence2'],\n",
    "        **tokenize_kwargs\n",
    "    )"
   ]
  },
  {
   "cell_type": "markdown",
   "id": "2683bdf5",
   "metadata": {},
   "source": [
    "Along with building our own tokenize function, we need to tell `Datasets` what columns to drop when we pull an item from our dataset. \n",
    "\n",
    "These are synonymous with `Datasets` `remove_cols`.\n",
    "\n",
    "In our problem this includes the `sentence1`, `sentence2`, and `idx` keys, as our tokenized input gets put into a `text` key:"
   ]
  },
  {
   "cell_type": "code",
   "execution_count": 17,
   "id": "f4eb04ca",
   "metadata": {},
   "outputs": [],
   "source": [
    "remove_cols = ['sentence1', 'sentence2', 'idx']"
   ]
  },
  {
   "cell_type": "markdown",
   "id": "aa19b76d",
   "metadata": {},
   "source": [
    "Finally we'll declare some arguments for our tokenize function, specifically ensuring our max length is reasonable and that we should pad our samples to that length:\n",
    "\n",
    "> Note: These vary problem to problem. You should look at your specific model and dataset to judge what a proper max length and padding should be. AdaptNLP does its best to use a decent default, but it may not work for every problem"
   ]
  },
  {
   "cell_type": "code",
   "execution_count": 18,
   "id": "4a49354d",
   "metadata": {},
   "outputs": [],
   "source": [
    "tokenize_kwargs = {'max_length':64, 'padding':True}"
   ]
  },
  {
   "cell_type": "markdown",
   "id": "a224521a",
   "metadata": {
    "id": "a224521a"
   },
   "source": [
    "Let's build our `TaskDatasets` now, passing in everything we built:"
   ]
  },
  {
   "cell_type": "code",
   "execution_count": 19,
   "id": "9cafa7cc",
   "metadata": {},
   "outputs": [
    {
     "data": {
      "application/vnd.jupyter.widget-view+json": {
       "model_id": "5e90bac8eb6c4b8497ac21fa25503345",
       "version_major": 2,
       "version_minor": 0
      },
      "text/plain": [
       "HBox(children=(FloatProgress(value=0.0, max=4.0), HTML(value='')))"
      ]
     },
     "metadata": {},
     "output_type": "display_data"
    },
    {
     "name": "stdout",
     "output_type": "stream",
     "text": [
      "\n"
     ]
    },
    {
     "data": {
      "application/vnd.jupyter.widget-view+json": {
       "model_id": "36102f393b9e47ba89e046b111a2acd7",
       "version_major": 2,
       "version_minor": 0
      },
      "text/plain": [
       "HBox(children=(FloatProgress(value=0.0, max=1.0), HTML(value='')))"
      ]
     },
     "metadata": {},
     "output_type": "display_data"
    },
    {
     "name": "stdout",
     "output_type": "stream",
     "text": [
      "\n"
     ]
    }
   ],
   "source": [
    "dsets = TaskDatasets(\n",
    "    train_dset = raw_datasets['train'], # Our training `Dataset`\n",
    "    valid_dset = raw_datasets['validation'], # Our validation `Dataset`\n",
    "    tokenizer_name = model.name, # The name of our model\n",
    "    tokenize_kwargs = tokenize_kwargs, # The tokenizer kwargs\n",
    "    tokenize_func = tok_func, # The tokenization function\n",
    "    remove_cols = remove_cols # The columns to remove after tokenizing our input\n",
    ")"
   ]
  },
  {
   "cell_type": "markdown",
   "id": "e17c3911",
   "metadata": {
    "colab": {
     "base_uri": "https://localhost:8080/",
     "height": 280,
     "referenced_widgets": [
      "5780a7acaf5e4bf2a791aeee546c05e0",
      "1fa62f102cd343b390b04821eefb90cd",
      "812c129e139a41e4a010b9bd8ef2d1b2",
      "b7a7ed05a59c46b4990cf699e6466e41",
      "5445cabaca6940ab869fd2f9863f06f4",
      "763ef804a5ce4cb7810e363af09905d6",
      "b38529b752494e74bfac11694a989967",
      "ee931e99de6a4626a5f1d283c1071353",
      "0774917179ac4dfaa08f1d542c3de3f2",
      "0f1921b690eb472b8c887f62918c8bef",
      "858f0fb6468343a495980c4b4e3878c3",
      "b054af4c240940c482bbeb803dc76698",
      "6a1be3b6f469442ca64413fe3eeeff95",
      "3364e1ecdf884e818895ecccc3b9dde3",
      "e1ea19f9b12b409f9e140ae9e2c56039",
      "4c427d2ca2fe4d6d99c904df002eec1f",
      "fa98321746794b108c551603d807fa57",
      "d188ac67237f4d4e81c4783f37e5fadb",
      "fba9c7e82f894ab8974de56f5c4b39df",
      "50e94413e94c4e869c10f6dcda0a7927",
      "569940b456344d6989812a0a3e2571e3",
      "ba1eee0b8fe84f3993a4c5be7ea87676",
      "38d3f86dac1f4014a5ba51c0acce5465",
      "172161cbcb584aa994ecfd0cd12dfe61",
      "d1fb8c06863e43e29b2d6bc453cd88e8",
      "117bfb67fd5c475daec1faa268dd20c6",
      "166913c6b64042f38d14928310ea7ad8",
      "d3849b0482e94eb793f0a7ae2265ca04",
      "1cfc2c9326bb4858835d739b1ed3dda1",
      "0162aa1d55a1450bbdad584256a44020",
      "c47b8f07df5e4a3cbccdaecf2770d161",
      "1f98309917c245e282f8772fbaf20346",
      "30bda2c328a445dca736ab521212f2fa",
      "d849bd7b5a164a58883683c64ae547e4",
      "3254cb66a73e4b619a28d680873888a2",
      "c2109980c2b647cba0c29c7665d024f0",
      "a0a7d71072414105a6cbb7bc39d65b7c",
      "c701eba473f34688b71de49da2e09871",
      "e6ea321b3ef649c485e3e8bce15eac16",
      "3ecf6ee1cb144078aad3fd9e05458b3d"
     ]
    },
    "id": "497cf7f7",
    "outputId": "cfaa5a0e-5471-4211-c51e-1740a68f1760"
   },
   "source": [
    "You may be wondering why we use the `TaskDatasets` class, this is a convience wrapper around much of the functions and tasks you need to call when using `datasets`'s `Dataset` class, and there are a few special behaviors to quickly build working `AdaptiveDataLoaders` as well.\n",
    "\n",
    "Let's build these `AdaptiveDataLoaders`, which are just fastai's `DataLoaders` class, but it overrides a few functions to have it work nicely with HuggingFace's `Dataset` class"
   ]
  },
  {
   "cell_type": "code",
   "execution_count": 20,
   "id": "08cc36db",
   "metadata": {
    "colab": {
     "base_uri": "https://localhost:8080/",
     "height": 201
    },
    "id": "08cc36db",
    "outputId": "9d6535a3-6e84-42d3-99b2-215e2438e93d"
   },
   "outputs": [
    {
     "data": {
      "text/markdown": [
       "<h4 id=\"TaskDatasets.dataloaders\" class=\"doc_header\"><code>TaskDatasets.dataloaders</code><a href=\"https://github.com/novetta/adaptnlp/tree/master/adaptnlp/training/core.py#L246\" class=\"source_link\" style=\"float:right\">[source]</a></h4>\n",
       "\n",
       "> <code>TaskDatasets.dataloaders</code>(**`batch_size`**:`int`=*`8`*, **`shuffle_train`**:`bool`=*`True`*, **`collate_fn`**:`callable`=*`None`*, **`path`**=*`'.'`*, **`device`**=*`None`*)\n",
       "\n",
       "Creates `DataLoaders` from the dataset\n",
       "\n",
       "**Function Arguments**:\n",
       "* `batch_size` (`int`): A batch size\n",
       "* `shuffle_train` (`bool`): Whether to shuffle the training dataset\n",
       "* `collate_fn` (`callable `): A custom collation function\n"
      ],
      "text/plain": [
       "<IPython.core.display.Markdown object>"
      ]
     },
     "metadata": {},
     "output_type": "display_data"
    }
   ],
   "source": [
    "show_doc(dsets.dataloaders)"
   ]
  },
  {
   "cell_type": "markdown",
   "id": "48d9de40",
   "metadata": {},
   "source": [
    "To build our `DataLoaders`, can call `.dataloaders`, specifying our batch size and a collate function to use. In our case we will collate with the `DataCollatorWithPadding` class out of `transformers`:"
   ]
  },
  {
   "cell_type": "code",
   "execution_count": 21,
   "id": "be0b86ad",
   "metadata": {},
   "outputs": [],
   "source": [
    "from transformers import DataCollatorWithPadding"
   ]
  },
  {
   "cell_type": "code",
   "execution_count": 22,
   "id": "031a26b4",
   "metadata": {
    "id": "031a26b4"
   },
   "outputs": [],
   "source": [
    "dls = dsets.dataloaders(\n",
    "    batch_size=8,\n",
    "    collate_fn=DataCollatorWithPadding(tokenizer=dsets.tokenizer)\n",
    ")"
   ]
  },
  {
   "cell_type": "markdown",
   "id": "91df0c08",
   "metadata": {
    "id": "91df0c08"
   },
   "source": [
    "Finally, let's view a batch of data with the `show_batch` function:"
   ]
  },
  {
   "cell_type": "code",
   "execution_count": 23,
   "id": "965ad300",
   "metadata": {
    "colab": {
     "base_uri": "https://localhost:8080/",
     "height": 386
    },
    "id": "965ad300",
    "outputId": "73e6aae9-fd81-498b-d4a5-36387473def0"
   },
   "outputs": [
    {
     "data": {
      "text/html": [
       "<table border=\"1\" class=\"dataframe\">\n",
       "  <thead>\n",
       "    <tr style=\"text-align: right;\">\n",
       "      <th></th>\n",
       "      <th>Input</th>\n",
       "      <th>Label</th>\n",
       "    </tr>\n",
       "  </thead>\n",
       "  <tbody>\n",
       "    <tr>\n",
       "      <th>0</th>\n",
       "      <td>but for more than a century, an untold amount of money intended for some of the nation's poorest residents was lost, stolen or never collected. for more than a century, an undetermined amount of money was lost, stolen, or never collected.</td>\n",
       "      <td>tensor(0)</td>\n",
       "    </tr>\n",
       "    <tr>\n",
       "      <th>1</th>\n",
       "      <td>a lamar mother arrested saturday in colorado springs is accused of drowning her two children in a bathtub before slitting her wrists. a 32 - year - old mother of two is suspected of drowning her children in a bathtub before slashing her wrists in an unsuccessful suicide attempt, police said.</td>\n",
       "      <td>tensor(1)</td>\n",
       "    </tr>\n",
       "    <tr>\n",
       "      <th>2</th>\n",
       "      <td>he faces up to 10 years in prison and a $ 250, 000 fine if convicted. if convicted, parson faces up to 10 years in federal prison and a fine of up to $ 250, 000.</td>\n",
       "      <td>tensor(1)</td>\n",
       "    </tr>\n",
       "    <tr>\n",
       "      <th>3</th>\n",
       "      <td>\" the accuser arrived at the hospital wearing yellow knit panties - with someone else's semen and sperm in them, not that of mr. bryant, \" mackey hammered triumphantly. \" the accuser arrived at the hospital wearing panties with someone else's semen and sperm in them, not that of mr. bryant, correct? \"</td>\n",
       "      <td>tensor(1)</td>\n",
       "    </tr>\n",
       "  </tbody>\n",
       "</table>"
      ],
      "text/plain": [
       "<IPython.core.display.HTML object>"
      ]
     },
     "metadata": {},
     "output_type": "display_data"
    }
   ],
   "source": [
    "dls.show_batch(n=4)"
   ]
  },
  {
   "cell_type": "markdown",
   "id": "d23348be",
   "metadata": {},
   "source": [
    "Since this isn't a pre-built `*TaskDatasets` object, the `show_batch` looks a little plain, but it gets across exactly what you would need to see. "
   ]
  },
  {
   "cell_type": "markdown",
   "id": "5343c100",
   "metadata": {},
   "source": [
    "Next let's build a `Tuner` and train our model"
   ]
  },
  {
   "cell_type": "markdown",
   "id": "586172ad",
   "metadata": {
    "id": "586172ad"
   },
   "source": [
    "## Building a `Tuner`"
   ]
  },
  {
   "cell_type": "markdown",
   "id": "23e2d9bf",
   "metadata": {
    "id": "23e2d9bf"
   },
   "source": [
    "Next we need to build a compatible `Tuner` for our problem. These tuners contain good defaults for our problem space, including loss functions and metrics.\n",
    "\n",
    "First let's import the `SequenceClassificationTuner` and view it's documentation"
   ]
  },
  {
   "cell_type": "code",
   "execution_count": 24,
   "id": "c54d78db",
   "metadata": {
    "id": "c54d78db"
   },
   "outputs": [],
   "source": [
    "from adaptnlp import SequenceClassificationTuner"
   ]
  },
  {
   "cell_type": "code",
   "execution_count": 28,
   "id": "WRxJWveszSmY",
   "metadata": {
    "colab": {
     "base_uri": "https://localhost:8080/",
     "height": 452
    },
    "id": "WRxJWveszSmY",
    "outputId": "6dc2e11b-24ad-40e6-d5ec-c3c64886ec99"
   },
   "outputs": [
    {
     "data": {
      "text/markdown": [
       "<h2 id=\"SequenceClassificationTuner\" class=\"doc_header\"><code>class</code> <code>SequenceClassificationTuner</code><a href=\"https://github.com/novetta/adaptnlp/tree/master/adaptnlp/training/sequence_classification.py#L222\" class=\"source_link\" style=\"float:right\">[source]</a></h2>\n",
       "\n",
       "> <code>SequenceClassificationTuner</code>(**`dls`**:`DataLoaders`, **`model_name`**:`str`, **`tokenizer`**=*`None`*, **`loss_func`**=*`CrossEntropyLoss()`*, **`metrics`**=*`[<function accuracy at 0x7f34418921f0>, <fastai.metrics.AccumMetric object at 0x7f34417935e0>]`*, **`opt_func`**=*`Adam`*, **`additional_cbs`**=*`None`*, **`expose_fastai_api`**=*`False`*, **`num_classes`**:`int`=*`None`*, **\\*\\*`kwargs`**) :: [`AdaptiveTuner`](/adaptnlp/training.core.html#AdaptiveTuner)\n",
       "\n",
       "An [`AdaptiveTuner`](/adaptnlp/training.core.html#AdaptiveTuner) with good defaults for Sequence Classification tasks\n",
       "\n",
       "**Valid kwargs and defaults:**\n",
       "  - `lr`:float = 0.001\n",
       "  - `splitter`:function = `trainable_params`\n",
       "  - `cbs`:list = None\n",
       "  - `path`:Path = None\n",
       "  - `model_dir`:Path = 'models'\n",
       "  - `wd`:float = None\n",
       "  - `wd_bn_bias`:bool = False\n",
       "  - `train_bn`:bool = True\n",
       "  - `moms`: tuple(float) = (0.95, 0.85, 0.95)\n",
       "\n",
       "**Function Arguments**:\n",
       "* `dls` (`DataLoaders`): A set of DataLoaders\n",
       "* `model_name` (`str`): A HuggingFace model\n",
       "* `num_classes` (`int`): The number of classes\n",
       "* `**kwargs`: kwargs for `Learner.__init__`\n"
      ],
      "text/plain": [
       "<IPython.core.display.Markdown object>"
      ]
     },
     "metadata": {},
     "output_type": "display_data"
    }
   ],
   "source": [
    "show_doc(SequenceClassificationTuner)"
   ]
  },
  {
   "cell_type": "markdown",
   "id": "UXvHCw5HzVil",
   "metadata": {
    "id": "UXvHCw5HzVil"
   },
   "source": [
    "Next we'll pass in our `DataLoaders`, the name of our model, and since we are using raw `Datasets`, the number of classes we have. In our case this is two."
   ]
  },
  {
   "cell_type": "markdown",
   "id": "1efac2b5",
   "metadata": {},
   "source": [
    "> Note: If you are **not** using the data API and generating `AdaptiveDataLoaders`, you need to pass in the tokenizer to the constructor as well with `tokenizer=tokenizer`"
   ]
  },
  {
   "cell_type": "code",
   "execution_count": 29,
   "id": "k-gczguJzSjM",
   "metadata": {
    "id": "k-gczguJzSjM"
   },
   "outputs": [
    {
     "name": "stderr",
     "output_type": "stream",
     "text": [
      "Some weights of the model checkpoint at bert-base-uncased were not used when initializing BertForSequenceClassification: ['cls.seq_relationship.weight', 'cls.predictions.decoder.weight', 'cls.predictions.transform.dense.bias', 'cls.seq_relationship.bias', 'cls.predictions.transform.LayerNorm.weight', 'cls.predictions.transform.dense.weight', 'cls.predictions.transform.LayerNorm.bias', 'cls.predictions.bias']\n",
      "- This IS expected if you are initializing BertForSequenceClassification from the checkpoint of a model trained on another task or with another architecture (e.g. initializing a BertForSequenceClassification model from a BertForPreTraining model).\n",
      "- This IS NOT expected if you are initializing BertForSequenceClassification from the checkpoint of a model that you expect to be exactly identical (initializing a BertForSequenceClassification model from a BertForSequenceClassification model).\n",
      "Some weights of BertForSequenceClassification were not initialized from the model checkpoint at bert-base-uncased and are newly initialized: ['classifier.weight', 'classifier.bias']\n",
      "You should probably TRAIN this model on a down-stream task to be able to use it for predictions and inference.\n"
     ]
    }
   ],
   "source": [
    "tuner = SequenceClassificationTuner(dls, model.name, num_classes=2)"
   ]
  },
  {
   "cell_type": "markdown",
   "id": "9rAi8TF5zfPz",
   "metadata": {
    "id": "9rAi8TF5zfPz"
   },
   "source": [
    "By default we can see that it used `CrossEntropyLoss` as our loss function, and both `accuracy` and `F1Score` as our metrics:"
   ]
  },
  {
   "cell_type": "code",
   "execution_count": 30,
   "id": "QTyxXImizjxC",
   "metadata": {
    "colab": {
     "base_uri": "https://localhost:8080/"
    },
    "id": "QTyxXImizjxC",
    "outputId": "d5f20de9-d55d-4d61-9ad5-d2f1de39fdbe"
   },
   "outputs": [
    {
     "data": {
      "text/plain": [
       "FlattenedLoss of CrossEntropyLoss()"
      ]
     },
     "execution_count": 30,
     "metadata": {},
     "output_type": "execute_result"
    }
   ],
   "source": [
    "tuner.loss_func"
   ]
  },
  {
   "cell_type": "code",
   "execution_count": 31,
   "id": "x_PEmOXAzlAE",
   "metadata": {
    "colab": {
     "base_uri": "https://localhost:8080/"
    },
    "id": "x_PEmOXAzlAE",
    "outputId": "fb11e68d-ac79-43c0-f9ca-8d0ab5b6aa48"
   },
   "outputs": [
    {
     "name": "stdout",
     "output_type": "stream",
     "text": [
      "accuracy\n",
      "f1_score\n"
     ]
    }
   ],
   "source": [
    "_ = [print(m.name) for m in tuner.metrics]"
   ]
  },
  {
   "cell_type": "markdown",
   "id": "dl-tqB5uzq1k",
   "metadata": {
    "id": "dl-tqB5uzq1k"
   },
   "source": [
    "Finally we just need to train our model!"
   ]
  },
  {
   "cell_type": "markdown",
   "id": "33dd944d",
   "metadata": {
    "id": "33dd944d"
   },
   "source": [
    "## Fine-Tuning"
   ]
  },
  {
   "cell_type": "markdown",
   "id": "2e9ec17d",
   "metadata": {
    "id": "2e9ec17d"
   },
   "source": [
    "To fine-tune, AdaptNLP's tuner class provides only a few functions to work with. The important ones are the `tune` and `lr_find` class.\n",
    "\n",
    "As the `Tuner` uses `fastai` under the hood, `lr_find` calls fastai's Learning Rate Finder to help us pick a learning rate. Let's do that now:"
   ]
  },
  {
   "cell_type": "code",
   "execution_count": 32,
   "id": "ZTaeO5Vm0P-h",
   "metadata": {
    "colab": {
     "base_uri": "https://localhost:8080/",
     "height": 140
    },
    "id": "ZTaeO5Vm0P-h",
    "outputId": "53bf608c-17ef-498a-c266-f1b0663d69f6"
   },
   "outputs": [
    {
     "data": {
      "text/markdown": [
       "<h4 id=\"AdaptiveTuner.lr_find\" class=\"doc_header\"><code>AdaptiveTuner.lr_find</code><a href=\"https://github.com/novetta/adaptnlp/tree/master/adaptnlp/training/core.py#L383\" class=\"source_link\" style=\"float:right\">[source]</a></h4>\n",
       "\n",
       "> <code>AdaptiveTuner.lr_find</code>(**`start_lr`**=*`1e-07`*, **`end_lr`**=*`10`*, **`num_it`**=*`100`*, **`stop_div`**=*`True`*, **`show_plot`**=*`True`*, **`suggest_funcs`**=*`valley`*)\n",
       "\n",
       "Runs fastai's `LR Finder`\n",
       "\n"
      ],
      "text/plain": [
       "<IPython.core.display.Markdown object>"
      ]
     },
     "metadata": {},
     "output_type": "display_data"
    }
   ],
   "source": [
    "show_doc(tuner.lr_find)"
   ]
  },
  {
   "cell_type": "code",
   "execution_count": 33,
   "id": "2oWmrMic0H0z",
   "metadata": {
    "colab": {
     "base_uri": "https://localhost:8080/",
     "height": 320
    },
    "id": "2oWmrMic0H0z",
    "outputId": "0d3dff0a-7cd9-412b-8130-f469f3e76e17"
   },
   "outputs": [
    {
     "data": {
      "text/html": [],
      "text/plain": [
       "<IPython.core.display.HTML object>"
      ]
     },
     "metadata": {},
     "output_type": "display_data"
    },
    {
     "name": "stderr",
     "output_type": "stream",
     "text": [
      "/opt/venv/lib/python3.8/site-packages/fastai/callback/schedule.py:270: UserWarning: color is redundantly defined by the 'color' keyword argument and the fmt string \"ro\" (-> color='r'). The keyword argument will take precedence.\n",
      "  ax.plot(val, idx, 'ro', label=nm, c=color)\n"
     ]
    },
    {
     "data": {
      "text/plain": [
       "SuggestedLRs(valley=0.0003981071640737355)"
      ]
     },
     "execution_count": 33,
     "metadata": {},
     "output_type": "execute_result"
    },
    {
     "data": {
      "image/png": "[encoded data removed]",
      "text/plain": [
       "<Figure size 432x288 with 1 Axes>"
      ]
     },
     "metadata": {
      "needs_background": "light"
     },
     "output_type": "display_data"
    }
   ],
   "source": [
    "tuner.lr_find()"
   ]
  },
  {
   "cell_type": "markdown",
   "id": "jxviy-Nj0Mly",
   "metadata": {
    "id": "jxviy-Nj0Mly"
   },
   "source": [
    "It recommends a learning rate of around 2e-4, however a steeper slope can be found around 5e-5 so we will use that.\n",
    "\n",
    "> Note: Reading the LR Finder is somewhat of an art. The `valley` method is one of the most reliable ones, but also try and figure out an intuition towards finding a learning rate as you go as well."
   ]
  },
  {
   "cell_type": "code",
   "execution_count": 34,
   "id": "a20a2181",
   "metadata": {},
   "outputs": [],
   "source": [
    "lr = 5e-5"
   ]
  },
  {
   "cell_type": "markdown",
   "id": "bpl6Krkl0SLX",
   "metadata": {
    "id": "bpl6Krkl0SLX"
   },
   "source": [
    "Let's look at the documentation for `tune`:"
   ]
  },
  {
   "cell_type": "code",
   "execution_count": 35,
   "id": "CtnRVQOX0T0-",
   "metadata": {
    "colab": {
     "base_uri": "https://localhost:8080/",
     "height": 140
    },
    "id": "CtnRVQOX0T0-",
    "outputId": "cb39a0a5-4428-4143-ad73-c6b183b083ae"
   },
   "outputs": [
    {
     "data": {
      "text/markdown": [
       "<h4 id=\"AdaptiveTuner.tune\" class=\"doc_header\"><code>AdaptiveTuner.tune</code><a href=\"https://github.com/novetta/adaptnlp/tree/master/adaptnlp/training/core.py#L369\" class=\"source_link\" style=\"float:right\">[source]</a></h4>\n",
       "\n",
       "> <code>AdaptiveTuner.tune</code>(**`epochs`**:`int`, **`lr`**:`float`=*`None`*, **`strategy`**:`Strategy`=*`'fit_one_cycle'`*, **`callbacks`**:`list`=*`[]`*, **\\*\\*`kwargs`**)\n",
       "\n",
       "Fine tune `self.model` for `epochs` with an `lr` and `strategy`\n",
       "\n"
      ],
      "text/plain": [
       "<IPython.core.display.Markdown object>"
      ]
     },
     "metadata": {},
     "output_type": "display_data"
    }
   ],
   "source": [
    "show_doc(tuner.tune)"
   ]
  },
  {
   "cell_type": "markdown",
   "id": "06gNa3Rk0U-_",
   "metadata": {
    "id": "06gNa3Rk0U-_"
   },
   "source": [
    "We can pass in a number of epochs, a learning rate, a strategy, and additional fastai callbacks to call.\n",
    "\n",
    "Valid strategies live in the `Strategy` namespace class, and consist of:\n",
    "- OneCycle (Also called the [One-Cycle Policy](https://docs.fast.ai/callback.schedule.html#Learner.fit_one_cycle))\n",
    "- [CosineAnnealing](https://docs.fast.ai/callback.schedule.html#Learner.fit_flat_cos)\n",
    "- [SGDR](https://docs.fast.ai/callback.schedule.html#Learner.fit_sgdr)"
   ]
  },
  {
   "cell_type": "code",
   "execution_count": 36,
   "id": "5DK9Q-rd0gHN",
   "metadata": {
    "id": "5DK9Q-rd0gHN"
   },
   "outputs": [],
   "source": [
    "from adaptnlp import Strategy"
   ]
  },
  {
   "cell_type": "markdown",
   "id": "Xgf9oa4H0nDI",
   "metadata": {
    "id": "Xgf9oa4H0nDI"
   },
   "source": [
    "In this tutorial we will train with the One-Cycle policy, as currently it is one of the best schedulers to use."
   ]
  },
  {
   "cell_type": "code",
   "execution_count": 37,
   "id": "e4214963",
   "metadata": {
    "colab": {
     "base_uri": "https://localhost:8080/",
     "height": 160
    },
    "id": "e4214963",
    "outputId": "de177040-585c-4003-8642-8b53434b75af"
   },
   "outputs": [
    {
     "data": {
      "text/html": [
       "<table border=\"1\" class=\"dataframe\">\n",
       "  <thead>\n",
       "    <tr style=\"text-align: left;\">\n",
       "      <th>epoch</th>\n",
       "      <th>train_loss</th>\n",
       "      <th>valid_loss</th>\n",
       "      <th>accuracy</th>\n",
       "      <th>f1_score</th>\n",
       "      <th>time</th>\n",
       "    </tr>\n",
       "  </thead>\n",
       "  <tbody>\n",
       "    <tr>\n",
       "      <td>0</td>\n",
       "      <td>0.627173</td>\n",
       "      <td>0.579103</td>\n",
       "      <td>0.710784</td>\n",
       "      <td>0.818462</td>\n",
       "      <td>01:19</td>\n",
       "    </tr>\n",
       "    <tr>\n",
       "      <td>1</td>\n",
       "      <td>0.405690</td>\n",
       "      <td>0.391377</td>\n",
       "      <td>0.848039</td>\n",
       "      <td>0.889286</td>\n",
       "      <td>01:20</td>\n",
       "    </tr>\n",
       "    <tr>\n",
       "      <td>2</td>\n",
       "      <td>0.252534</td>\n",
       "      <td>0.415499</td>\n",
       "      <td>0.830882</td>\n",
       "      <td>0.882051</td>\n",
       "      <td>01:20</td>\n",
       "    </tr>\n",
       "  </tbody>\n",
       "</table>"
      ],
      "text/plain": [
       "<IPython.core.display.HTML object>"
      ]
     },
     "metadata": {},
     "output_type": "display_data"
    }
   ],
   "source": [
    "tuner.tune(3, lr, strategy=Strategy.OneCycle)"
   ]
  },
  {
   "cell_type": "markdown",
   "id": "42dc3547",
   "metadata": {
    "id": "42dc3547"
   },
   "source": [
    "## Saving Model"
   ]
  },
  {
   "cell_type": "markdown",
   "id": "2aebf7b2",
   "metadata": {
    "id": "2aebf7b2"
   },
   "source": [
    "Now that we have a trained model, let's save those weights away.\n",
    "\n",
    "Calling `tuner.save` will save both the model and the tokenizer in the same format as how HuggingFace does:"
   ]
  },
  {
   "cell_type": "code",
   "execution_count": 38,
   "id": "a01b6b63",
   "metadata": {
    "colab": {
     "base_uri": "https://localhost:8080/",
     "height": 185
    },
    "id": "a01b6b63",
    "outputId": "72f464ba-3acb-4563-8e76-45a19dddf9c3"
   },
   "outputs": [
    {
     "data": {
      "text/markdown": [
       "<h4 id=\"AdaptiveTuner.save\" class=\"doc_header\"><code>AdaptiveTuner.save</code><a href=\"https://github.com/novetta/adaptnlp/tree/master/adaptnlp/training/core.py#L391\" class=\"source_link\" style=\"float:right\">[source]</a></h4>\n",
       "\n",
       "> <code>AdaptiveTuner.save</code>(**`save_directory`**)\n",
       "\n",
       "Save a pretrained model to a `save_directory`\n",
       "\n",
       "**Function Arguments**:\n",
       "* `save_directory`: A folder to save our model to\n"
      ],
      "text/plain": [
       "<IPython.core.display.Markdown object>"
      ]
     },
     "metadata": {},
     "output_type": "display_data"
    }
   ],
   "source": [
    "show_doc(tuner.save)"
   ]
  },
  {
   "cell_type": "code",
   "execution_count": 39,
   "id": "WHCmaQxp0_88",
   "metadata": {
    "colab": {
     "base_uri": "https://localhost:8080/",
     "height": 58
    },
    "id": "WHCmaQxp0_88",
    "outputId": "b1ae70b6-dcf2-4301-84ae-458180003a00"
   },
   "outputs": [
    {
     "data": {
      "text/plain": [
       "'good_model'"
      ]
     },
     "execution_count": 39,
     "metadata": {},
     "output_type": "execute_result"
    }
   ],
   "source": [
    "tuner.save('good_model')"
   ]
  },
  {
   "cell_type": "markdown",
   "id": "faf8dec2",
   "metadata": {
    "id": "faf8dec2"
   },
   "source": [
    "## Performing Inference"
   ]
  },
  {
   "cell_type": "markdown",
   "id": "1ce058be",
   "metadata": {
    "id": "1ce058be"
   },
   "source": [
    "There are two ways to get predictions, the first is with the `.predict` method in our `tuner`. This is great for if you just finished training and want to see how your model performs on some new data!\n",
    "The other method is with AdaptNLP's infernece API, which we will show afterwards"
   ]
  },
  {
   "cell_type": "markdown",
   "id": "S_OxB8QN1PD2",
   "metadata": {
    "id": "S_OxB8QN1PD2"
   },
   "source": [
    "### In Tuner\n",
    "\n",
    "First let's write a sentence to test with"
   ]
  },
  {
   "cell_type": "code",
   "execution_count": 40,
   "id": "43d011be",
   "metadata": {
    "id": "43d011be"
   },
   "outputs": [],
   "source": [
    "sentence = 'Amrozi accused his brother , whom he called \" the witness \" , of deliberately distorting his evidence . Referring to him as only \" the witness \" , Amrozi accused his brother of deliberately distorting his evidence .'"
   ]
  },
  {
   "cell_type": "markdown",
   "id": "jHP8lv2P1kKf",
   "metadata": {
    "id": "jHP8lv2P1kKf"
   },
   "source": [
    "And then predict with it:"
   ]
  },
  {
   "cell_type": "code",
   "execution_count": 41,
   "id": "KRdOk9bt1lSy",
   "metadata": {
    "colab": {
     "base_uri": "https://localhost:8080/",
     "height": 218
    },
    "id": "KRdOk9bt1lSy",
    "outputId": "e7a88437-a171-45d4-a8b9-40e38b6febcf"
   },
   "outputs": [
    {
     "data": {
      "text/markdown": [
       "<h4 id=\"SequenceClassificationTuner.predict\" class=\"doc_header\"><code>SequenceClassificationTuner.predict</code><a href=\"https://github.com/novetta/adaptnlp/tree/master/adaptnlp/training/sequence_classification.py#L272\" class=\"source_link\" style=\"float:right\">[source]</a></h4>\n",
       "\n",
       "> <code>SequenceClassificationTuner.predict</code>(**`text`**:`Union`\\[`List`\\[`str`\\], `str`\\], **`bs`**:`int`=*`64`*, **`detail_level`**:`DetailLevel`=*`'low'`*, **`class_names`**:`list`=*`None`*)\n",
       "\n",
       "Predict some `text` for sequence classification with the currently loaded model\n",
       "\n",
       "**Function Arguments**:\n",
       "* `text` (`Union[List[str], str]`): Some text or list of texts to do inference with\n",
       "* `bs` (`int`): A batch size to use for multiple texts\n",
       "* `detail_level` (`DetailLevel `): A detail level to return on the predictions\n",
       "* `class_names` (`list `): A list of labels\n"
      ],
      "text/plain": [
       "<IPython.core.display.Markdown object>"
      ]
     },
     "metadata": {},
     "output_type": "display_data"
    }
   ],
   "source": [
    "show_doc(tuner.predict)"
   ]
  },
  {
   "cell_type": "code",
   "execution_count": 42,
   "id": "wPhkn9fp1mi6",
   "metadata": {
    "colab": {
     "base_uri": "https://localhost:8080/",
     "height": 87
    },
    "id": "wPhkn9fp1mi6",
    "outputId": "8133da69-8c0a-451d-8de4-07c64546e0a7"
   },
   "outputs": [
    {
     "data": {
      "text/html": [],
      "text/plain": [
       "<IPython.core.display.HTML object>"
      ]
     },
     "metadata": {},
     "output_type": "display_data"
    },
    {
     "data": {
      "text/plain": [
       "{'sentences': ['Amrozi accused his brother , whom he called \" the witness \" , of deliberately distorting his evidence . Referring to him as only \" the witness \" , Amrozi accused his brother of deliberately distorting his evidence .'],\n",
       " 'predictions': ['LABEL_0'],\n",
       " 'probs': tensor([[0.6317, 0.3683]])}"
      ]
     },
     "execution_count": 42,
     "metadata": {},
     "output_type": "execute_result"
    }
   ],
   "source": [
    "tuner.predict(sentence)"
   ]
  },
  {
   "cell_type": "markdown",
   "id": "bac20c59",
   "metadata": {},
   "source": [
    "You'll notice it says `LABEL_1`. We did not build with the `Datasets` wrapper API's, so currently they do not have a vocabulary to work off of. \n",
    "\n",
    "Let's pass in a vocabulary of `not_equivalent` and `equivalent` to work with:"
   ]
  },
  {
   "cell_type": "code",
   "execution_count": 43,
   "id": "9f11211f",
   "metadata": {},
   "outputs": [],
   "source": [
    "names = ['not_equivalent', 'equivalent']"
   ]
  },
  {
   "cell_type": "code",
   "execution_count": 44,
   "id": "6c9d3bca",
   "metadata": {},
   "outputs": [
    {
     "data": {
      "text/html": [],
      "text/plain": [
       "<IPython.core.display.HTML object>"
      ]
     },
     "metadata": {},
     "output_type": "display_data"
    },
    {
     "data": {
      "text/plain": [
       "{'sentences': ['Amrozi accused his brother , whom he called \" the witness \" , of deliberately distorting his evidence . Referring to him as only \" the witness \" , Amrozi accused his brother of deliberately distorting his evidence .'],\n",
       " 'predictions': ['not_equivalent'],\n",
       " 'probs': tensor([[0.6317, 0.3683]])}"
      ]
     },
     "execution_count": 44,
     "metadata": {},
     "output_type": "execute_result"
    }
   ],
   "source": [
    "tuner.predict(sentence, class_names=names)"
   ]
  },
  {
   "cell_type": "markdown",
   "id": "e7ebc3ae",
   "metadata": {},
   "source": [
    "You can see it gave us much more readable results!"
   ]
  },
  {
   "cell_type": "markdown",
   "id": "caaihrDr1taH",
   "metadata": {
    "id": "caaihrDr1taH"
   },
   "source": [
    "### With the Inference API\n",
    "\n",
    "Next we will use the `EasySequenceClassifier` class, which AdaptNLP offers:"
   ]
  },
  {
   "cell_type": "code",
   "execution_count": 45,
   "id": "S2TyPxzh10Tx",
   "metadata": {
    "id": "S2TyPxzh10Tx"
   },
   "outputs": [],
   "source": [
    "from adaptnlp import EasySequenceClassifier"
   ]
  },
  {
   "cell_type": "markdown",
   "id": "2_5JihBk12kA",
   "metadata": {
    "id": "2_5JihBk12kA"
   },
   "source": [
    "We simply construct the class:"
   ]
  },
  {
   "cell_type": "code",
   "execution_count": 46,
   "id": "Wa2mnVPY10QR",
   "metadata": {
    "id": "Wa2mnVPY10QR"
   },
   "outputs": [],
   "source": [
    "classifier = EasySequenceClassifier()"
   ]
  },
  {
   "cell_type": "markdown",
   "id": "Vf_HrdWy1_-Q",
   "metadata": {
    "id": "Vf_HrdWy1_-Q"
   },
   "source": [
    "And call the `tag_text` method, passing in the sentence, the location of our saved model, and some names for our classes.\n",
    "\n",
    "Similarly here, we can pass in our own vocabulary to use. Let's do that:"
   ]
  },
  {
   "cell_type": "code",
   "execution_count": 47,
   "id": "UX_sdJkL10JA",
   "metadata": {
    "colab": {
     "base_uri": "https://localhost:8080/",
     "height": 104
    },
    "id": "UX_sdJkL10JA",
    "outputId": "6807c684-2dd1-4abf-efb8-05b40d316ec5"
   },
   "outputs": [
    {
     "name": "stdout",
     "output_type": "stream",
     "text": [
      "2021-08-02 19:42:29,864 loading file good_model\n"
     ]
    },
    {
     "data": {
      "text/html": [],
      "text/plain": [
       "<IPython.core.display.HTML object>"
      ]
     },
     "metadata": {},
     "output_type": "display_data"
    },
    {
     "data": {
      "text/plain": [
       "{'sentences': ['Amrozi accused his brother , whom he called \" the witness \" , of deliberately distorting his evidence . Referring to him as only \" the witness \" , Amrozi accused his brother of deliberately distorting his evidence .'],\n",
       " 'predictions': ['not_equivalent'],\n",
       " 'probs': tensor([[0.6317, 0.3683]])}"
      ]
     },
     "execution_count": 47,
     "metadata": {},
     "output_type": "execute_result"
    }
   ],
   "source": [
    "classifier.tag_text(\n",
    "    sentence,\n",
    "    model_name_or_path='good_model',\n",
    "    class_names=names\n",
    ")"
   ]
  },
  {
   "cell_type": "markdown",
   "id": "qXsMgmQC2Qmt",
   "metadata": {
    "id": "qXsMgmQC2Qmt"
   },
   "source": [
    "And we got the exact same output and probabilities!"
   ]
  },
  {
   "cell_type": "markdown",
   "id": "wUyr63752UQo",
   "metadata": {
    "id": "wUyr63752UQo"
   },
   "source": [
    "There are also different levels of predictions we can return (which is also the same with our earlier `predict` call).\n",
    "\n",
    "These live in a namespace `DetailLevel` class, with a few examples below:"
   ]
  },
  {
   "cell_type": "code",
   "execution_count": 48,
   "id": "jWYd1N4110EK",
   "metadata": {
    "id": "jWYd1N4110EK"
   },
   "outputs": [],
   "source": [
    "from adaptnlp import DetailLevel"
   ]
  },
  {
   "cell_type": "code",
   "execution_count": 49,
   "id": "xuFd4z7c2adf",
   "metadata": {
    "colab": {
     "base_uri": "https://localhost:8080/",
     "height": 58
    },
    "id": "xuFd4z7c2adf",
    "outputId": "b4297e4a-6be1-4081-efc3-d7684fc5d75b"
   },
   "outputs": [
    {
     "data": {
      "text/plain": [
       "'low'"
      ]
     },
     "execution_count": 49,
     "metadata": {},
     "output_type": "execute_result"
    }
   ],
   "source": [
    "DetailLevel.Low"
   ]
  },
  {
   "cell_type": "markdown",
   "id": "YcnqBH6b2c8D",
   "metadata": {
    "id": "YcnqBH6b2c8D"
   },
   "source": [
    "While some Easy modules will not return different items at each level, most will return only a few specific outputs at the Low level, and everything possible at the High level:"
   ]
  },
  {
   "cell_type": "code",
   "execution_count": 50,
   "id": "-6SxPpTT2nhp",
   "metadata": {
    "colab": {
     "base_uri": "https://localhost:8080/",
     "height": 87
    },
    "id": "-6SxPpTT2nhp",
    "outputId": "7681695d-45d4-4edf-db2d-0b30db008ace"
   },
   "outputs": [
    {
     "data": {
      "text/html": [],
      "text/plain": [
       "<IPython.core.display.HTML object>"
      ]
     },
     "metadata": {},
     "output_type": "display_data"
    },
    {
     "data": {
      "text/plain": [
       "{'sentences': ['Amrozi accused his brother , whom he called \" the witness \" , of deliberately distorting his evidence . Referring to him as only \" the witness \" , Amrozi accused his brother of deliberately distorting his evidence .'],\n",
       " 'predictions': ['not_equivalent'],\n",
       " 'probs': tensor([[0.6317, 0.3683]])}"
      ]
     },
     "execution_count": 50,
     "metadata": {},
     "output_type": "execute_result"
    }
   ],
   "source": [
    "classifier.tag_text(\n",
    "    sentence,\n",
    "    model_name_or_path = 'good_model',\n",
    "    detail_level=DetailLevel.Low,\n",
    "    class_names=names\n",
    ")"
   ]
  },
  {
   "cell_type": "code",
   "execution_count": 51,
   "id": "IBWnrnWH2pQ4",
   "metadata": {
    "colab": {
     "base_uri": "https://localhost:8080/",
     "height": 137
    },
    "id": "IBWnrnWH2pQ4",
    "outputId": "a64b51ea-44c3-42b7-ba1a-385551b7a3be"
   },
   "outputs": [
    {
     "data": {
      "text/html": [],
      "text/plain": [
       "<IPython.core.display.HTML object>"
      ]
     },
     "metadata": {},
     "output_type": "display_data"
    },
    {
     "data": {
      "text/plain": [
       "{'sentences': ['Amrozi accused his brother , whom he called \" the witness \" , of deliberately distorting his evidence . Referring to him as only \" the witness \" , Amrozi accused his brother of deliberately distorting his evidence .'],\n",
       " 'predictions': ['not_equivalent'],\n",
       " 'probs': tensor([[0.6317, 0.3683]]),\n",
       " 'pairings': OrderedDict([('Amrozi accused his brother , whom he called \" the witness \" , of deliberately distorting his evidence . Referring to him as only \" the witness \" , Amrozi accused his brother of deliberately distorting his evidence .',\n",
       "               tensor([0.6317, 0.3683]))]),\n",
       " 'classes': ['LABEL_0', 'LABEL_1']}"
      ]
     },
     "execution_count": 51,
     "metadata": {},
     "output_type": "execute_result"
    }
   ],
   "source": [
    "classifier.tag_text(\n",
    "    sentence,\n",
    "    model_name_or_path = 'good_model',\n",
    "    detail_level=DetailLevel.Medium,\n",
    "    class_names=names\n",
    ")"
   ]
  },
  {
   "cell_type": "code",
   "execution_count": 52,
   "id": "s5-Z8qhH2zbZ",
   "metadata": {
    "colab": {
     "base_uri": "https://localhost:8080/",
     "height": 137
    },
    "id": "s5-Z8qhH2zbZ",
    "outputId": "33ccbbd4-23b0-4464-cd9e-5cac130b955b"
   },
   "outputs": [
    {
     "data": {
      "text/html": [],
      "text/plain": [
       "<IPython.core.display.HTML object>"
      ]
     },
     "metadata": {},
     "output_type": "display_data"
    },
    {
     "data": {
      "text/plain": [
       "{'sentences': [Sentence: \"Amrozi accused his brother , whom he called \" the witness \" , of deliberately distorting his evidence . Referring to him as only \" the witness \" , Amrozi accused his brother of deliberately distorting his evidence .\"   [− Tokens: 39  − Sentence-Labels: {'sc': [LABEL_0 (0.6317), LABEL_1 (0.3683)]}]],\n",
       " 'predictions': ['not_equivalent'],\n",
       " 'probs': tensor([[0.6317, 0.3683]]),\n",
       " 'pairings': OrderedDict([('Amrozi accused his brother , whom he called \" the witness \" , of deliberately distorting his evidence . Referring to him as only \" the witness \" , Amrozi accused his brother of deliberately distorting his evidence .',\n",
       "               tensor([0.6317, 0.3683]))]),\n",
       " 'classes': ['LABEL_0', 'LABEL_1']}"
      ]
     },
     "execution_count": 52,
     "metadata": {},
     "output_type": "execute_result"
    }
   ],
   "source": [
    "classifier.tag_text(\n",
    "    sentence,\n",
    "    model_name_or_path = 'good_model',\n",
    "    detail_level=DetailLevel.High,\n",
    "    class_names=names\n",
    ")"
   ]
  }
 ],
 "metadata": {
  "accelerator": "GPU",
  "colab": {
   "name": "00_from_df.ipynb",
   "provenance": []
  },
  "kernelspec": {
   "display_name": "Python 3 (ipykernel)",
   "language": "python",
   "name": "python3"
  },
  "language_info": {
   "codemirror_mode": {
    "name": "ipython",
    "version": 3
   },
   "file_extension": ".py",
   "mimetype": "text/x-python",
   "name": "python",
   "nbconvert_exporter": "python",
   "pygments_lexer": "ipython3",
   "version": "3.8.11"
  },
  "widgets": {
   "application/vnd.jupyter.widget-state+json": {
    "0162aa1d55a1450bbdad584256a44020": {
     "model_module": "@jupyter-widgets/base",
     "model_name": "LayoutModel",
     "state": {
      "_model_module": "@jupyter-widgets/base",
      "_model_module_version": "1.2.0",
      "_model_name": "LayoutModel",
      "_view_count": null,
      "_view_module": "@jupyter-widgets/base",
      "_view_module_version": "1.2.0",
      "_view_name": "LayoutView",
      "align_content": null,
      "align_items": null,
      "align_self": null,
      "border": null,
      "bottom": null,
      "display": null,
      "flex": null,
      "flex_flow": null,
      "grid_area": null,
      "grid_auto_columns": null,
      "grid_auto_flow": null,
      "grid_auto_rows": null,
      "grid_column": null,
      "grid_gap": null,
      "grid_row": null,
      "grid_template_areas": null,
      "grid_template_columns": null,
      "grid_template_rows": null,
      "height": null,
      "justify_content": null,
      "justify_items": null,
      "left": null,
      "margin": null,
      "max_height": null,
      "max_width": null,
      "min_height": null,
      "min_width": null,
      "object_fit": null,
      "object_position": null,
      "order": null,
      "overflow": null,
      "overflow_x": null,
      "overflow_y": null,
      "padding": null,
      "right": null,
      "top": null,
      "visibility": null,
      "width": null
     }
    },
    "0774917179ac4dfaa08f1d542c3de3f2": {
     "model_module": "@jupyter-widgets/controls",
     "model_name": "HBoxModel",
     "state": {
      "_dom_classes": [],
      "_model_module": "@jupyter-widgets/controls",
      "_model_module_version": "1.5.0",
      "_model_name": "HBoxModel",
      "_view_count": null,
      "_view_module": "@jupyter-widgets/controls",
      "_view_module_version": "1.5.0",
      "_view_name": "HBoxView",
      "box_style": "",
      "children": [
       "IPY_MODEL_858f0fb6468343a495980c4b4e3878c3",
       "IPY_MODEL_b054af4c240940c482bbeb803dc76698"
      ],
      "layout": "IPY_MODEL_0f1921b690eb472b8c887f62918c8bef"
     }
    },
    "0f1921b690eb472b8c887f62918c8bef": {
     "model_module": "@jupyter-widgets/base",
     "model_name": "LayoutModel",
     "state": {
      "_model_module": "@jupyter-widgets/base",
      "_model_module_version": "1.2.0",
      "_model_name": "LayoutModel",
      "_view_count": null,
      "_view_module": "@jupyter-widgets/base",
      "_view_module_version": "1.2.0",
      "_view_name": "LayoutView",
      "align_content": null,
      "align_items": null,
      "align_self": null,
      "border": null,
      "bottom": null,
      "display": null,
      "flex": null,
      "flex_flow": null,
      "grid_area": null,
      "grid_auto_columns": null,
      "grid_auto_flow": null,
      "grid_auto_rows": null,
      "grid_column": null,
      "grid_gap": null,
      "grid_row": null,
      "grid_template_areas": null,
      "grid_template_columns": null,
      "grid_template_rows": null,
      "height": null,
      "justify_content": null,
      "justify_items": null,
      "left": null,
      "margin": null,
      "max_height": null,
      "max_width": null,
      "min_height": null,
      "min_width": null,
      "object_fit": null,
      "object_position": null,
      "order": null,
      "overflow": null,
      "overflow_x": null,
      "overflow_y": null,
      "padding": null,
      "right": null,
      "top": null,
      "visibility": null,
      "width": null
     }
    },
    "117bfb67fd5c475daec1faa268dd20c6": {
     "model_module": "@jupyter-widgets/base",
     "model_name": "LayoutModel",
     "state": {
      "_model_module": "@jupyter-widgets/base",
      "_model_module_version": "1.2.0",
      "_model_name": "LayoutModel",
      "_view_count": null,
      "_view_module": "@jupyter-widgets/base",
      "_view_module_version": "1.2.0",
      "_view_name": "LayoutView",
      "align_content": null,
      "align_items": null,
      "align_self": null,
      "border": null,
      "bottom": null,
      "display": null,
      "flex": null,
      "flex_flow": null,
      "grid_area": null,
      "grid_auto_columns": null,
      "grid_auto_flow": null,
      "grid_auto_rows": null,
      "grid_column": null,
      "grid_gap": null,
      "grid_row": null,
      "grid_template_areas": null,
      "grid_template_columns": null,
      "grid_template_rows": null,
      "height": null,
      "justify_content": null,
      "justify_items": null,
      "left": null,
      "margin": null,
      "max_height": null,
      "max_width": null,
      "min_height": null,
      "min_width": null,
      "object_fit": null,
      "object_position": null,
      "order": null,
      "overflow": null,
      "overflow_x": null,
      "overflow_y": null,
      "padding": null,
      "right": null,
      "top": null,
      "visibility": null,
      "width": null
     }
    },
    "166913c6b64042f38d14928310ea7ad8": {
     "model_module": "@jupyter-widgets/controls",
     "model_name": "FloatProgressModel",
     "state": {
      "_dom_classes": [],
      "_model_module": "@jupyter-widgets/controls",
      "_model_module_version": "1.5.0",
      "_model_name": "FloatProgressModel",
      "_view_count": null,
      "_view_module": "@jupyter-widgets/controls",
      "_view_module_version": "1.5.0",
      "_view_name": "ProgressView",
      "bar_style": "success",
      "description": "100%",
      "description_tooltip": null,
      "layout": "IPY_MODEL_0162aa1d55a1450bbdad584256a44020",
      "max": 1,
      "min": 0,
      "orientation": "horizontal",
      "style": "IPY_MODEL_1cfc2c9326bb4858835d739b1ed3dda1",
      "value": 1
     }
    },
    "172161cbcb584aa994ecfd0cd12dfe61": {
     "model_module": "@jupyter-widgets/base",
     "model_name": "LayoutModel",
     "state": {
      "_model_module": "@jupyter-widgets/base",
      "_model_module_version": "1.2.0",
      "_model_name": "LayoutModel",
      "_view_count": null,
      "_view_module": "@jupyter-widgets/base",
      "_view_module_version": "1.2.0",
      "_view_name": "LayoutView",
      "align_content": null,
      "align_items": null,
      "align_self": null,
      "border": null,
      "bottom": null,
      "display": null,
      "flex": null,
      "flex_flow": null,
      "grid_area": null,
      "grid_auto_columns": null,
      "grid_auto_flow": null,
      "grid_auto_rows": null,
      "grid_column": null,
      "grid_gap": null,
      "grid_row": null,
      "grid_template_areas": null,
      "grid_template_columns": null,
      "grid_template_rows": null,
      "height": null,
      "justify_content": null,
      "justify_items": null,
      "left": null,
      "margin": null,
      "max_height": null,
      "max_width": null,
      "min_height": null,
      "min_width": null,
      "object_fit": null,
      "object_position": null,
      "order": null,
      "overflow": null,
      "overflow_x": null,
      "overflow_y": null,
      "padding": null,
      "right": null,
      "top": null,
      "visibility": null,
      "width": null
     }
    },
    "1cfc2c9326bb4858835d739b1ed3dda1": {
     "model_module": "@jupyter-widgets/controls",
     "model_name": "ProgressStyleModel",
     "state": {
      "_model_module": "@jupyter-widgets/controls",
      "_model_module_version": "1.5.0",
      "_model_name": "ProgressStyleModel",
      "_view_count": null,
      "_view_module": "@jupyter-widgets/base",
      "_view_module_version": "1.2.0",
      "_view_name": "StyleView",
      "bar_color": null,
      "description_width": "initial"
     }
    },
    "1f98309917c245e282f8772fbaf20346": {
     "model_module": "@jupyter-widgets/base",
     "model_name": "LayoutModel",
     "state": {
      "_model_module": "@jupyter-widgets/base",
      "_model_module_version": "1.2.0",
      "_model_name": "LayoutModel",
      "_view_count": null,
      "_view_module": "@jupyter-widgets/base",
      "_view_module_version": "1.2.0",
      "_view_name": "LayoutView",
      "align_content": null,
      "align_items": null,
      "align_self": null,
      "border": null,
      "bottom": null,
      "display": null,
      "flex": null,
      "flex_flow": null,
      "grid_area": null,
      "grid_auto_columns": null,
      "grid_auto_flow": null,
      "grid_auto_rows": null,
      "grid_column": null,
      "grid_gap": null,
      "grid_row": null,
      "grid_template_areas": null,
      "grid_template_columns": null,
      "grid_template_rows": null,
      "height": null,
      "justify_content": null,
      "justify_items": null,
      "left": null,
      "margin": null,
      "max_height": null,
      "max_width": null,
      "min_height": null,
      "min_width": null,
      "object_fit": null,
      "object_position": null,
      "order": null,
      "overflow": null,
      "overflow_x": null,
      "overflow_y": null,
      "padding": null,
      "right": null,
      "top": null,
      "visibility": null,
      "width": null
     }
    },
    "1fa62f102cd343b390b04821eefb90cd": {
     "model_module": "@jupyter-widgets/base",
     "model_name": "LayoutModel",
     "state": {
      "_model_module": "@jupyter-widgets/base",
      "_model_module_version": "1.2.0",
      "_model_name": "LayoutModel",
      "_view_count": null,
      "_view_module": "@jupyter-widgets/base",
      "_view_module_version": "1.2.0",
      "_view_name": "LayoutView",
      "align_content": null,
      "align_items": null,
      "align_self": null,
      "border": null,
      "bottom": null,
      "display": null,
      "flex": null,
      "flex_flow": null,
      "grid_area": null,
      "grid_auto_columns": null,
      "grid_auto_flow": null,
      "grid_auto_rows": null,
      "grid_column": null,
      "grid_gap": null,
      "grid_row": null,
      "grid_template_areas": null,
      "grid_template_columns": null,
      "grid_template_rows": null,
      "height": null,
      "justify_content": null,
      "justify_items": null,
      "left": null,
      "margin": null,
      "max_height": null,
      "max_width": null,
      "min_height": null,
      "min_width": null,
      "object_fit": null,
      "object_position": null,
      "order": null,
      "overflow": null,
      "overflow_x": null,
      "overflow_y": null,
      "padding": null,
      "right": null,
      "top": null,
      "visibility": null,
      "width": null
     }
    },
    "30bda2c328a445dca736ab521212f2fa": {
     "model_module": "@jupyter-widgets/controls",
     "model_name": "HBoxModel",
     "state": {
      "_dom_classes": [],
      "_model_module": "@jupyter-widgets/controls",
      "_model_module_version": "1.5.0",
      "_model_name": "HBoxModel",
      "_view_count": null,
      "_view_module": "@jupyter-widgets/controls",
      "_view_module_version": "1.5.0",
      "_view_name": "HBoxView",
      "box_style": "",
      "children": [
       "IPY_MODEL_3254cb66a73e4b619a28d680873888a2",
       "IPY_MODEL_c2109980c2b647cba0c29c7665d024f0"
      ],
      "layout": "IPY_MODEL_d849bd7b5a164a58883683c64ae547e4"
     }
    },
    "3254cb66a73e4b619a28d680873888a2": {
     "model_module": "@jupyter-widgets/controls",
     "model_name": "FloatProgressModel",
     "state": {
      "_dom_classes": [],
      "_model_module": "@jupyter-widgets/controls",
      "_model_module_version": "1.5.0",
      "_model_name": "FloatProgressModel",
      "_view_count": null,
      "_view_module": "@jupyter-widgets/controls",
      "_view_module_version": "1.5.0",
      "_view_name": "ProgressView",
      "bar_style": "success",
      "description": "100%",
      "description_tooltip": null,
      "layout": "IPY_MODEL_c701eba473f34688b71de49da2e09871",
      "max": 1,
      "min": 0,
      "orientation": "horizontal",
      "style": "IPY_MODEL_a0a7d71072414105a6cbb7bc39d65b7c",
      "value": 1
     }
    },
    "3364e1ecdf884e818895ecccc3b9dde3": {
     "model_module": "@jupyter-widgets/base",
     "model_name": "LayoutModel",
     "state": {
      "_model_module": "@jupyter-widgets/base",
      "_model_module_version": "1.2.0",
      "_model_name": "LayoutModel",
      "_view_count": null,
      "_view_module": "@jupyter-widgets/base",
      "_view_module_version": "1.2.0",
      "_view_name": "LayoutView",
      "align_content": null,
      "align_items": null,
      "align_self": null,
      "border": null,
      "bottom": null,
      "display": null,
      "flex": null,
      "flex_flow": null,
      "grid_area": null,
      "grid_auto_columns": null,
      "grid_auto_flow": null,
      "grid_auto_rows": null,
      "grid_column": null,
      "grid_gap": null,
      "grid_row": null,
      "grid_template_areas": null,
      "grid_template_columns": null,
      "grid_template_rows": null,
      "height": null,
      "justify_content": null,
      "justify_items": null,
      "left": null,
      "margin": null,
      "max_height": null,
      "max_width": null,
      "min_height": null,
      "min_width": null,
      "object_fit": null,
      "object_position": null,
      "order": null,
      "overflow": null,
      "overflow_x": null,
      "overflow_y": null,
      "padding": null,
      "right": null,
      "top": null,
      "visibility": null,
      "width": null
     }
    },
    "38d3f86dac1f4014a5ba51c0acce5465": {
     "model_module": "@jupyter-widgets/controls",
     "model_name": "DescriptionStyleModel",
     "state": {
      "_model_module": "@jupyter-widgets/controls",
      "_model_module_version": "1.5.0",
      "_model_name": "DescriptionStyleModel",
      "_view_count": null,
      "_view_module": "@jupyter-widgets/base",
      "_view_module_version": "1.2.0",
      "_view_name": "StyleView",
      "description_width": ""
     }
    },
    "3ecf6ee1cb144078aad3fd9e05458b3d": {
     "model_module": "@jupyter-widgets/base",
     "model_name": "LayoutModel",
     "state": {
      "_model_module": "@jupyter-widgets/base",
      "_model_module_version": "1.2.0",
      "_model_name": "LayoutModel",
      "_view_count": null,
      "_view_module": "@jupyter-widgets/base",
      "_view_module_version": "1.2.0",
      "_view_name": "LayoutView",
      "align_content": null,
      "align_items": null,
      "align_self": null,
      "border": null,
      "bottom": null,
      "display": null,
      "flex": null,
      "flex_flow": null,
      "grid_area": null,
      "grid_auto_columns": null,
      "grid_auto_flow": null,
      "grid_auto_rows": null,
      "grid_column": null,
      "grid_gap": null,
      "grid_row": null,
      "grid_template_areas": null,
      "grid_template_columns": null,
      "grid_template_rows": null,
      "height": null,
      "justify_content": null,
      "justify_items": null,
      "left": null,
      "margin": null,
      "max_height": null,
      "max_width": null,
      "min_height": null,
      "min_width": null,
      "object_fit": null,
      "object_position": null,
      "order": null,
      "overflow": null,
      "overflow_x": null,
      "overflow_y": null,
      "padding": null,
      "right": null,
      "top": null,
      "visibility": null,
      "width": null
     }
    },
    "4c427d2ca2fe4d6d99c904df002eec1f": {
     "model_module": "@jupyter-widgets/base",
     "model_name": "LayoutModel",
     "state": {
      "_model_module": "@jupyter-widgets/base",
      "_model_module_version": "1.2.0",
      "_model_name": "LayoutModel",
      "_view_count": null,
      "_view_module": "@jupyter-widgets/base",
      "_view_module_version": "1.2.0",
      "_view_name": "LayoutView",
      "align_content": null,
      "align_items": null,
      "align_self": null,
      "border": null,
      "bottom": null,
      "display": null,
      "flex": null,
      "flex_flow": null,
      "grid_area": null,
      "grid_auto_columns": null,
      "grid_auto_flow": null,
      "grid_auto_rows": null,
      "grid_column": null,
      "grid_gap": null,
      "grid_row": null,
      "grid_template_areas": null,
      "grid_template_columns": null,
      "grid_template_rows": null,
      "height": null,
      "justify_content": null,
      "justify_items": null,
      "left": null,
      "margin": null,
      "max_height": null,
      "max_width": null,
      "min_height": null,
      "min_width": null,
      "object_fit": null,
      "object_position": null,
      "order": null,
      "overflow": null,
      "overflow_x": null,
      "overflow_y": null,
      "padding": null,
      "right": null,
      "top": null,
      "visibility": null,
      "width": null
     }
    },
    "50e94413e94c4e869c10f6dcda0a7927": {
     "model_module": "@jupyter-widgets/controls",
     "model_name": "HTMLModel",
     "state": {
      "_dom_classes": [],
      "_model_module": "@jupyter-widgets/controls",
      "_model_module_version": "1.5.0",
      "_model_name": "HTMLModel",
      "_view_count": null,
      "_view_module": "@jupyter-widgets/controls",
      "_view_module_version": "1.5.0",
      "_view_name": "HTMLView",
      "description": "",
      "description_tooltip": null,
      "layout": "IPY_MODEL_172161cbcb584aa994ecfd0cd12dfe61",
      "placeholder": "​",
      "style": "IPY_MODEL_38d3f86dac1f4014a5ba51c0acce5465",
      "value": " 232k/232k [00:00&lt;00:00, 1.01MB/s]"
     }
    },
    "5445cabaca6940ab869fd2f9863f06f4": {
     "model_module": "@jupyter-widgets/controls",
     "model_name": "ProgressStyleModel",
     "state": {
      "_model_module": "@jupyter-widgets/controls",
      "_model_module_version": "1.5.0",
      "_model_name": "ProgressStyleModel",
      "_view_count": null,
      "_view_module": "@jupyter-widgets/base",
      "_view_module_version": "1.2.0",
      "_view_name": "StyleView",
      "bar_color": null,
      "description_width": "initial"
     }
    },
    "569940b456344d6989812a0a3e2571e3": {
     "model_module": "@jupyter-widgets/controls",
     "model_name": "ProgressStyleModel",
     "state": {
      "_model_module": "@jupyter-widgets/controls",
      "_model_module_version": "1.5.0",
      "_model_name": "ProgressStyleModel",
      "_view_count": null,
      "_view_module": "@jupyter-widgets/base",
      "_view_module_version": "1.2.0",
      "_view_name": "StyleView",
      "bar_color": null,
      "description_width": "initial"
     }
    },
    "5780a7acaf5e4bf2a791aeee546c05e0": {
     "model_module": "@jupyter-widgets/controls",
     "model_name": "HBoxModel",
     "state": {
      "_dom_classes": [],
      "_model_module": "@jupyter-widgets/controls",
      "_model_module_version": "1.5.0",
      "_model_name": "HBoxModel",
      "_view_count": null,
      "_view_module": "@jupyter-widgets/controls",
      "_view_module_version": "1.5.0",
      "_view_name": "HBoxView",
      "box_style": "",
      "children": [
       "IPY_MODEL_812c129e139a41e4a010b9bd8ef2d1b2",
       "IPY_MODEL_b7a7ed05a59c46b4990cf699e6466e41"
      ],
      "layout": "IPY_MODEL_1fa62f102cd343b390b04821eefb90cd"
     }
    },
    "6a1be3b6f469442ca64413fe3eeeff95": {
     "model_module": "@jupyter-widgets/controls",
     "model_name": "ProgressStyleModel",
     "state": {
      "_model_module": "@jupyter-widgets/controls",
      "_model_module_version": "1.5.0",
      "_model_name": "ProgressStyleModel",
      "_view_count": null,
      "_view_module": "@jupyter-widgets/base",
      "_view_module_version": "1.2.0",
      "_view_name": "StyleView",
      "bar_color": null,
      "description_width": "initial"
     }
    },
    "763ef804a5ce4cb7810e363af09905d6": {
     "model_module": "@jupyter-widgets/base",
     "model_name": "LayoutModel",
     "state": {
      "_model_module": "@jupyter-widgets/base",
      "_model_module_version": "1.2.0",
      "_model_name": "LayoutModel",
      "_view_count": null,
      "_view_module": "@jupyter-widgets/base",
      "_view_module_version": "1.2.0",
      "_view_name": "LayoutView",
      "align_content": null,
      "align_items": null,
      "align_self": null,
      "border": null,
      "bottom": null,
      "display": null,
      "flex": null,
      "flex_flow": null,
      "grid_area": null,
      "grid_auto_columns": null,
      "grid_auto_flow": null,
      "grid_auto_rows": null,
      "grid_column": null,
      "grid_gap": null,
      "grid_row": null,
      "grid_template_areas": null,
      "grid_template_columns": null,
      "grid_template_rows": null,
      "height": null,
      "justify_content": null,
      "justify_items": null,
      "left": null,
      "margin": null,
      "max_height": null,
      "max_width": null,
      "min_height": null,
      "min_width": null,
      "object_fit": null,
      "object_position": null,
      "order": null,
      "overflow": null,
      "overflow_x": null,
      "overflow_y": null,
      "padding": null,
      "right": null,
      "top": null,
      "visibility": null,
      "width": null
     }
    },
    "812c129e139a41e4a010b9bd8ef2d1b2": {
     "model_module": "@jupyter-widgets/controls",
     "model_name": "FloatProgressModel",
     "state": {
      "_dom_classes": [],
      "_model_module": "@jupyter-widgets/controls",
      "_model_module_version": "1.5.0",
      "_model_name": "FloatProgressModel",
      "_view_count": null,
      "_view_module": "@jupyter-widgets/controls",
      "_view_module_version": "1.5.0",
      "_view_name": "ProgressView",
      "bar_style": "success",
      "description": "Downloading: 100%",
      "description_tooltip": null,
      "layout": "IPY_MODEL_763ef804a5ce4cb7810e363af09905d6",
      "max": 48,
      "min": 0,
      "orientation": "horizontal",
      "style": "IPY_MODEL_5445cabaca6940ab869fd2f9863f06f4",
      "value": 48
     }
    },
    "858f0fb6468343a495980c4b4e3878c3": {
     "model_module": "@jupyter-widgets/controls",
     "model_name": "FloatProgressModel",
     "state": {
      "_dom_classes": [],
      "_model_module": "@jupyter-widgets/controls",
      "_model_module_version": "1.5.0",
      "_model_name": "FloatProgressModel",
      "_view_count": null,
      "_view_module": "@jupyter-widgets/controls",
      "_view_module_version": "1.5.0",
      "_view_name": "ProgressView",
      "bar_style": "success",
      "description": "Downloading: 100%",
      "description_tooltip": null,
      "layout": "IPY_MODEL_3364e1ecdf884e818895ecccc3b9dde3",
      "max": 629,
      "min": 0,
      "orientation": "horizontal",
      "style": "IPY_MODEL_6a1be3b6f469442ca64413fe3eeeff95",
      "value": 629
     }
    },
    "a0a7d71072414105a6cbb7bc39d65b7c": {
     "model_module": "@jupyter-widgets/controls",
     "model_name": "ProgressStyleModel",
     "state": {
      "_model_module": "@jupyter-widgets/controls",
      "_model_module_version": "1.5.0",
      "_model_name": "ProgressStyleModel",
      "_view_count": null,
      "_view_module": "@jupyter-widgets/base",
      "_view_module_version": "1.2.0",
      "_view_name": "StyleView",
      "bar_color": null,
      "description_width": "initial"
     }
    },
    "b054af4c240940c482bbeb803dc76698": {
     "model_module": "@jupyter-widgets/controls",
     "model_name": "HTMLModel",
     "state": {
      "_dom_classes": [],
      "_model_module": "@jupyter-widgets/controls",
      "_model_module_version": "1.5.0",
      "_model_name": "HTMLModel",
      "_view_count": null,
      "_view_module": "@jupyter-widgets/controls",
      "_view_module_version": "1.5.0",
      "_view_name": "HTMLView",
      "description": "",
      "description_tooltip": null,
      "layout": "IPY_MODEL_4c427d2ca2fe4d6d99c904df002eec1f",
      "placeholder": "​",
      "style": "IPY_MODEL_e1ea19f9b12b409f9e140ae9e2c56039",
      "value": " 629/629 [00:00&lt;00:00, 3.87kB/s]"
     }
    },
    "b38529b752494e74bfac11694a989967": {
     "model_module": "@jupyter-widgets/controls",
     "model_name": "DescriptionStyleModel",
     "state": {
      "_model_module": "@jupyter-widgets/controls",
      "_model_module_version": "1.5.0",
      "_model_name": "DescriptionStyleModel",
      "_view_count": null,
      "_view_module": "@jupyter-widgets/base",
      "_view_module_version": "1.2.0",
      "_view_name": "StyleView",
      "description_width": ""
     }
    },
    "b7a7ed05a59c46b4990cf699e6466e41": {
     "model_module": "@jupyter-widgets/controls",
     "model_name": "HTMLModel",
     "state": {
      "_dom_classes": [],
      "_model_module": "@jupyter-widgets/controls",
      "_model_module_version": "1.5.0",
      "_model_name": "HTMLModel",
      "_view_count": null,
      "_view_module": "@jupyter-widgets/controls",
      "_view_module_version": "1.5.0",
      "_view_name": "HTMLView",
      "description": "",
      "description_tooltip": null,
      "layout": "IPY_MODEL_ee931e99de6a4626a5f1d283c1071353",
      "placeholder": "​",
      "style": "IPY_MODEL_b38529b752494e74bfac11694a989967",
      "value": " 48.0/48.0 [00:00&lt;00:00, 95.2B/s]"
     }
    },
    "ba1eee0b8fe84f3993a4c5be7ea87676": {
     "model_module": "@jupyter-widgets/base",
     "model_name": "LayoutModel",
     "state": {
      "_model_module": "@jupyter-widgets/base",
      "_model_module_version": "1.2.0",
      "_model_name": "LayoutModel",
      "_view_count": null,
      "_view_module": "@jupyter-widgets/base",
      "_view_module_version": "1.2.0",
      "_view_name": "LayoutView",
      "align_content": null,
      "align_items": null,
      "align_self": null,
      "border": null,
      "bottom": null,
      "display": null,
      "flex": null,
      "flex_flow": null,
      "grid_area": null,
      "grid_auto_columns": null,
      "grid_auto_flow": null,
      "grid_auto_rows": null,
      "grid_column": null,
      "grid_gap": null,
      "grid_row": null,
      "grid_template_areas": null,
      "grid_template_columns": null,
      "grid_template_rows": null,
      "height": null,
      "justify_content": null,
      "justify_items": null,
      "left": null,
      "margin": null,
      "max_height": null,
      "max_width": null,
      "min_height": null,
      "min_width": null,
      "object_fit": null,
      "object_position": null,
      "order": null,
      "overflow": null,
      "overflow_x": null,
      "overflow_y": null,
      "padding": null,
      "right": null,
      "top": null,
      "visibility": null,
      "width": null
     }
    },
    "c2109980c2b647cba0c29c7665d024f0": {
     "model_module": "@jupyter-widgets/controls",
     "model_name": "HTMLModel",
     "state": {
      "_dom_classes": [],
      "_model_module": "@jupyter-widgets/controls",
      "_model_module_version": "1.5.0",
      "_model_name": "HTMLModel",
      "_view_count": null,
      "_view_module": "@jupyter-widgets/controls",
      "_view_module_version": "1.5.0",
      "_view_name": "HTMLView",
      "description": "",
      "description_tooltip": null,
      "layout": "IPY_MODEL_3ecf6ee1cb144078aad3fd9e05458b3d",
      "placeholder": "​",
      "style": "IPY_MODEL_e6ea321b3ef649c485e3e8bce15eac16",
      "value": " 1/1 [15:53&lt;00:00, 953.09s/ba]"
     }
    },
    "c47b8f07df5e4a3cbccdaecf2770d161": {
     "model_module": "@jupyter-widgets/controls",
     "model_name": "DescriptionStyleModel",
     "state": {
      "_model_module": "@jupyter-widgets/controls",
      "_model_module_version": "1.5.0",
      "_model_name": "DescriptionStyleModel",
      "_view_count": null,
      "_view_module": "@jupyter-widgets/base",
      "_view_module_version": "1.2.0",
      "_view_name": "StyleView",
      "description_width": ""
     }
    },
    "c701eba473f34688b71de49da2e09871": {
     "model_module": "@jupyter-widgets/base",
     "model_name": "LayoutModel",
     "state": {
      "_model_module": "@jupyter-widgets/base",
      "_model_module_version": "1.2.0",
      "_model_name": "LayoutModel",
      "_view_count": null,
      "_view_module": "@jupyter-widgets/base",
      "_view_module_version": "1.2.0",
      "_view_name": "LayoutView",
      "align_content": null,
      "align_items": null,
      "align_self": null,
      "border": null,
      "bottom": null,
      "display": null,
      "flex": null,
      "flex_flow": null,
      "grid_area": null,
      "grid_auto_columns": null,
      "grid_auto_flow": null,
      "grid_auto_rows": null,
      "grid_column": null,
      "grid_gap": null,
      "grid_row": null,
      "grid_template_areas": null,
      "grid_template_columns": null,
      "grid_template_rows": null,
      "height": null,
      "justify_content": null,
      "justify_items": null,
      "left": null,
      "margin": null,
      "max_height": null,
      "max_width": null,
      "min_height": null,
      "min_width": null,
      "object_fit": null,
      "object_position": null,
      "order": null,
      "overflow": null,
      "overflow_x": null,
      "overflow_y": null,
      "padding": null,
      "right": null,
      "top": null,
      "visibility": null,
      "width": null
     }
    },
    "d188ac67237f4d4e81c4783f37e5fadb": {
     "model_module": "@jupyter-widgets/base",
     "model_name": "LayoutModel",
     "state": {
      "_model_module": "@jupyter-widgets/base",
      "_model_module_version": "1.2.0",
      "_model_name": "LayoutModel",
      "_view_count": null,
      "_view_module": "@jupyter-widgets/base",
      "_view_module_version": "1.2.0",
      "_view_name": "LayoutView",
      "align_content": null,
      "align_items": null,
      "align_self": null,
      "border": null,
      "bottom": null,
      "display": null,
      "flex": null,
      "flex_flow": null,
      "grid_area": null,
      "grid_auto_columns": null,
      "grid_auto_flow": null,
      "grid_auto_rows": null,
      "grid_column": null,
      "grid_gap": null,
      "grid_row": null,
      "grid_template_areas": null,
      "grid_template_columns": null,
      "grid_template_rows": null,
      "height": null,
      "justify_content": null,
      "justify_items": null,
      "left": null,
      "margin": null,
      "max_height": null,
      "max_width": null,
      "min_height": null,
      "min_width": null,
      "object_fit": null,
      "object_position": null,
      "order": null,
      "overflow": null,
      "overflow_x": null,
      "overflow_y": null,
      "padding": null,
      "right": null,
      "top": null,
      "visibility": null,
      "width": null
     }
    },
    "d1fb8c06863e43e29b2d6bc453cd88e8": {
     "model_module": "@jupyter-widgets/controls",
     "model_name": "HBoxModel",
     "state": {
      "_dom_classes": [],
      "_model_module": "@jupyter-widgets/controls",
      "_model_module_version": "1.5.0",
      "_model_name": "HBoxModel",
      "_view_count": null,
      "_view_module": "@jupyter-widgets/controls",
      "_view_module_version": "1.5.0",
      "_view_name": "HBoxView",
      "box_style": "",
      "children": [
       "IPY_MODEL_166913c6b64042f38d14928310ea7ad8",
       "IPY_MODEL_d3849b0482e94eb793f0a7ae2265ca04"
      ],
      "layout": "IPY_MODEL_117bfb67fd5c475daec1faa268dd20c6"
     }
    },
    "d3849b0482e94eb793f0a7ae2265ca04": {
     "model_module": "@jupyter-widgets/controls",
     "model_name": "HTMLModel",
     "state": {
      "_dom_classes": [],
      "_model_module": "@jupyter-widgets/controls",
      "_model_module_version": "1.5.0",
      "_model_name": "HTMLModel",
      "_view_count": null,
      "_view_module": "@jupyter-widgets/controls",
      "_view_module_version": "1.5.0",
      "_view_name": "HTMLView",
      "description": "",
      "description_tooltip": null,
      "layout": "IPY_MODEL_1f98309917c245e282f8772fbaf20346",
      "placeholder": "​",
      "style": "IPY_MODEL_c47b8f07df5e4a3cbccdaecf2770d161",
      "value": " 1/1 [00:00&lt;00:00,  1.19ba/s]"
     }
    },
    "d849bd7b5a164a58883683c64ae547e4": {
     "model_module": "@jupyter-widgets/base",
     "model_name": "LayoutModel",
     "state": {
      "_model_module": "@jupyter-widgets/base",
      "_model_module_version": "1.2.0",
      "_model_name": "LayoutModel",
      "_view_count": null,
      "_view_module": "@jupyter-widgets/base",
      "_view_module_version": "1.2.0",
      "_view_name": "LayoutView",
      "align_content": null,
      "align_items": null,
      "align_self": null,
      "border": null,
      "bottom": null,
      "display": null,
      "flex": null,
      "flex_flow": null,
      "grid_area": null,
      "grid_auto_columns": null,
      "grid_auto_flow": null,
      "grid_auto_rows": null,
      "grid_column": null,
      "grid_gap": null,
      "grid_row": null,
      "grid_template_areas": null,
      "grid_template_columns": null,
      "grid_template_rows": null,
      "height": null,
      "justify_content": null,
      "justify_items": null,
      "left": null,
      "margin": null,
      "max_height": null,
      "max_width": null,
      "min_height": null,
      "min_width": null,
      "object_fit": null,
      "object_position": null,
      "order": null,
      "overflow": null,
      "overflow_x": null,
      "overflow_y": null,
      "padding": null,
      "right": null,
      "top": null,
      "visibility": null,
      "width": null
     }
    },
    "e1ea19f9b12b409f9e140ae9e2c56039": {
     "model_module": "@jupyter-widgets/controls",
     "model_name": "DescriptionStyleModel",
     "state": {
      "_model_module": "@jupyter-widgets/controls",
      "_model_module_version": "1.5.0",
      "_model_name": "DescriptionStyleModel",
      "_view_count": null,
      "_view_module": "@jupyter-widgets/base",
      "_view_module_version": "1.2.0",
      "_view_name": "StyleView",
      "description_width": ""
     }
    },
    "e6ea321b3ef649c485e3e8bce15eac16": {
     "model_module": "@jupyter-widgets/controls",
     "model_name": "DescriptionStyleModel",
     "state": {
      "_model_module": "@jupyter-widgets/controls",
      "_model_module_version": "1.5.0",
      "_model_name": "DescriptionStyleModel",
      "_view_count": null,
      "_view_module": "@jupyter-widgets/base",
      "_view_module_version": "1.2.0",
      "_view_name": "StyleView",
      "description_width": ""
     }
    },
    "ee931e99de6a4626a5f1d283c1071353": {
     "model_module": "@jupyter-widgets/base",
     "model_name": "LayoutModel",
     "state": {
      "_model_module": "@jupyter-widgets/base",
      "_model_module_version": "1.2.0",
      "_model_name": "LayoutModel",
      "_view_count": null,
      "_view_module": "@jupyter-widgets/base",
      "_view_module_version": "1.2.0",
      "_view_name": "LayoutView",
      "align_content": null,
      "align_items": null,
      "align_self": null,
      "border": null,
      "bottom": null,
      "display": null,
      "flex": null,
      "flex_flow": null,
      "grid_area": null,
      "grid_auto_columns": null,
      "grid_auto_flow": null,
      "grid_auto_rows": null,
      "grid_column": null,
      "grid_gap": null,
      "grid_row": null,
      "grid_template_areas": null,
      "grid_template_columns": null,
      "grid_template_rows": null,
      "height": null,
      "justify_content": null,
      "justify_items": null,
      "left": null,
      "margin": null,
      "max_height": null,
      "max_width": null,
      "min_height": null,
      "min_width": null,
      "object_fit": null,
      "object_position": null,
      "order": null,
      "overflow": null,
      "overflow_x": null,
      "overflow_y": null,
      "padding": null,
      "right": null,
      "top": null,
      "visibility": null,
      "width": null
     }
    },
    "fa98321746794b108c551603d807fa57": {
     "model_module": "@jupyter-widgets/controls",
     "model_name": "HBoxModel",
     "state": {
      "_dom_classes": [],
      "_model_module": "@jupyter-widgets/controls",
      "_model_module_version": "1.5.0",
      "_model_name": "HBoxModel",
      "_view_count": null,
      "_view_module": "@jupyter-widgets/controls",
      "_view_module_version": "1.5.0",
      "_view_name": "HBoxView",
      "box_style": "",
      "children": [
       "IPY_MODEL_fba9c7e82f894ab8974de56f5c4b39df",
       "IPY_MODEL_50e94413e94c4e869c10f6dcda0a7927"
      ],
      "layout": "IPY_MODEL_d188ac67237f4d4e81c4783f37e5fadb"
     }
    },
    "fba9c7e82f894ab8974de56f5c4b39df": {
     "model_module": "@jupyter-widgets/controls",
     "model_name": "FloatProgressModel",
     "state": {
      "_dom_classes": [],
      "_model_module": "@jupyter-widgets/controls",
      "_model_module_version": "1.5.0",
      "_model_name": "FloatProgressModel",
      "_view_count": null,
      "_view_module": "@jupyter-widgets/controls",
      "_view_module_version": "1.5.0",
      "_view_name": "ProgressView",
      "bar_style": "success",
      "description": "Downloading: 100%",
      "description_tooltip": null,
      "layout": "IPY_MODEL_ba1eee0b8fe84f3993a4c5be7ea87676",
      "max": 231508,
      "min": 0,
      "orientation": "horizontal",
      "style": "IPY_MODEL_569940b456344d6989812a0a3e2571e3",
      "value": 231508
     }
    }
   }
  }
 },
 "nbformat": 4,
 "nbformat_minor": 5
}
