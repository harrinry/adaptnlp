{
 "cells": [
  {
   "cell_type": "code",
   "execution_count": null,
   "id": "53946cd5",
   "metadata": {},
   "outputs": [],
   "source": [
    "#all_slow"
   ]
  },
  {
   "cell_type": "markdown",
   "id": "ca157d7d",
   "metadata": {},
   "source": [
    "# Tutorial&#58; Fine-Tuning a Language Model on CSV Files with IMDB\n",
    "> Tuning a base Language model on the IMDB dataset"
   ]
  },
  {
   "cell_type": "markdown",
   "id": "e17d8af2",
   "metadata": {},
   "source": [
    "## Introduction\n",
    "\n",
    "In this tutorial we will be showing an end-to-end example of fine-tuning a Transformer language model on a custom dataset in CSV file format.\n",
    "\n",
    "By the end of this you should be able to:\n",
    "\n",
    "1. Build a dataset with the `LanguageModelDatasets` class, and their DataLoaders\n",
    "2. Build a `LanguageModelTuner` quickly, find a good learning rate, and train with the One-Cycle Policy\n",
    "3. Save that model away, to be used with deployment or other HuggingFace libraries\n",
    "4. Apply inference using both the `Tuner` available function as well as with the `EasyTextGenerator` class within AdaptNLP"
   ]
  },
  {
   "cell_type": "markdown",
   "id": "3a44baa5",
   "metadata": {},
   "source": [
    "## Installing the Library\n",
    "\n",
    "This tutorial utilizies the latest AdaptNLP version, as well as parts of the `fastai` library. Please run the below code to install them:\n",
    "\n",
    "```python\n",
    "!pip install adaptnlp -U\n",
    "```\n",
    "(or `pip3`)"
   ]
  },
  {
   "cell_type": "code",
   "execution_count": null,
   "id": "VOwOHNTgyJzY",
   "metadata": {},
   "outputs": [],
   "source": [
    "#hide\n",
    "from nbverbose.showdoc import *"
   ]
  },
  {
   "cell_type": "markdown",
   "id": "86de58d7",
   "metadata": {},
   "source": [
    "## Getting the Dataset"
   ]
  },
  {
   "cell_type": "markdown",
   "id": "2a039f4f",
   "metadata": {},
   "source": [
    "First we need a dataset. We will use the `fastai` library to download the `IMDB_SAMPLE` dataset, a subset of IMDB Movie Reviews."
   ]
  },
  {
   "cell_type": "code",
   "execution_count": null,
   "id": "82a2612b",
   "metadata": {},
   "outputs": [],
   "source": [
    "from fastai.data.external import URLs, untar_data"
   ]
  },
  {
   "cell_type": "markdown",
   "id": "a1f46366",
   "metadata": {},
   "source": [
    "`URLs` holds a namespace of many data endpoints, and `untar_data` is a function that can download and extract any data from a given URL.\n",
    "\n",
    "Combining both, we can download the data:"
   ]
  },
  {
   "cell_type": "code",
   "execution_count": null,
   "id": "bcc5510a",
   "metadata": {},
   "outputs": [],
   "source": [
    "data_path = untar_data(URLs.IMDB_SAMPLE)"
   ]
  },
  {
   "cell_type": "markdown",
   "id": "b9a3a4f8",
   "metadata": {},
   "source": [
    "If we look at what was downloaded, we will find a `texts.csv` file:"
   ]
  },
  {
   "cell_type": "code",
   "execution_count": null,
   "id": "b9683198",
   "metadata": {},
   "outputs": [
    {
     "data": {
      "text/plain": [
       "(#1) [Path('/root/.fastai/data/imdb_sample/texts.csv')]"
      ]
     },
     "execution_count": null,
     "metadata": {},
     "output_type": "execute_result"
    }
   ],
   "source": [
    "data_path.ls()"
   ]
  },
  {
   "cell_type": "markdown",
   "id": "79f0ec65",
   "metadata": {},
   "source": [
    "This is our data we want to use. This CSV is formatted with a table of columns with `label`, `text`, and `is_valid` dictating whether it is part of the validation set or not. \n",
    "\n",
    "Now that we have the dataset, and we know the format it is in, let's pick a viable model to train with"
   ]
  },
  {
   "cell_type": "markdown",
   "id": "320caa02",
   "metadata": {},
   "source": [
    "## Picking a Model with the Hub"
   ]
  },
  {
   "cell_type": "markdown",
   "id": "170b200d",
   "metadata": {},
   "source": [
    "AdaptNLP has a `HFModelHub` class that allows you to communicate with the HuggingFace Hub and pick a model from it, as well as a namespace `HF_TASKS` class with a list of valid tasks we can search by.\n",
    "\n",
    "Let's try and find one suitable for sequence classification.\n",
    "\n",
    "First we need to import the class and generate an instance of it:"
   ]
  },
  {
   "cell_type": "code",
   "execution_count": null,
   "id": "e6c1f6ab",
   "metadata": {},
   "outputs": [],
   "source": [
    "from adaptnlp import HFModelHub, HF_TASKS"
   ]
  },
  {
   "cell_type": "code",
   "execution_count": null,
   "id": "9460e9d8",
   "metadata": {},
   "outputs": [],
   "source": [
    "hub = HFModelHub()"
   ]
  },
  {
   "cell_type": "markdown",
   "id": "7ce5e54e",
   "metadata": {},
   "source": [
    "Next we can search for a model:"
   ]
  },
  {
   "cell_type": "code",
   "execution_count": null,
   "id": "1ded037a",
   "metadata": {},
   "outputs": [],
   "source": [
    "models = hub.search_model_by_task(HF_TASKS.TEXT_GENERATION)"
   ]
  },
  {
   "cell_type": "markdown",
   "id": "9fec0167",
   "metadata": {},
   "source": [
    "Let's look at a few:"
   ]
  },
  {
   "cell_type": "code",
   "execution_count": null,
   "id": "17717851",
   "metadata": {},
   "outputs": [
    {
     "data": {
      "text/plain": [
       "[Model Name: distilgpt2, Tasks: [text-generation],\n",
       " Model Name: gpt2-large, Tasks: [text-generation],\n",
       " Model Name: gpt2-medium, Tasks: [text-generation],\n",
       " Model Name: gpt2-xl, Tasks: [text-generation],\n",
       " Model Name: gpt2, Tasks: [text-generation],\n",
       " Model Name: openai-gpt, Tasks: [text-generation],\n",
       " Model Name: transfo-xl-wt103, Tasks: [text-generation],\n",
       " Model Name: xlnet-base-cased, Tasks: [text-generation],\n",
       " Model Name: xlnet-large-cased, Tasks: [text-generation]]"
      ]
     },
     "execution_count": null,
     "metadata": {},
     "output_type": "execute_result"
    }
   ],
   "source": [
    "models[:10]"
   ]
  },
  {
   "cell_type": "markdown",
   "id": "92cc23ba",
   "metadata": {},
   "source": [
    "These are models specifically tagged with the `text-generation` tag, so you may not see a few models you would expect such as `bert_base_cased`.\n",
    "\n",
    "We'll use that first model, `distilgpt2`:"
   ]
  },
  {
   "cell_type": "code",
   "execution_count": null,
   "id": "60e340d4",
   "metadata": {},
   "outputs": [],
   "source": [
    "model = models[0]"
   ]
  },
  {
   "cell_type": "code",
   "execution_count": null,
   "id": "9b29d210",
   "metadata": {},
   "outputs": [
    {
     "data": {
      "text/plain": [
       "Model Name: distilgpt2, Tasks: [text-generation]"
      ]
     },
     "execution_count": null,
     "metadata": {},
     "output_type": "execute_result"
    }
   ],
   "source": [
    "model"
   ]
  },
  {
   "cell_type": "markdown",
   "id": "a567732b",
   "metadata": {},
   "source": [
    "Now that we have picked a model, let's use the data API to prepare our data"
   ]
  },
  {
   "cell_type": "markdown",
   "id": "a52c80c1",
   "metadata": {},
   "source": [
    "> Note: It should be mentioned that this is optional, you can always just pass in the string name of a model such as \"bert-base-cased\""
   ]
  },
  {
   "cell_type": "markdown",
   "id": "b676253e",
   "metadata": {},
   "source": [
    "## Building `TaskDatasets` with `LanguageModelDatasets`"
   ]
  },
  {
   "cell_type": "markdown",
   "id": "7faa7c29",
   "metadata": {},
   "source": [
    "Each task has a high-level data wrapper around the `TaskDatasets` class. In our case this is the `LanguageModelDatasets` class:"
   ]
  },
  {
   "cell_type": "code",
   "execution_count": null,
   "id": "83994a53",
   "metadata": {},
   "outputs": [],
   "source": [
    "from adaptnlp import LanguageModelDatasets"
   ]
  },
  {
   "cell_type": "markdown",
   "id": "6965c387",
   "metadata": {},
   "source": [
    "There are multiple different constructors for the `LanguageModelDatasets` class, and you should never call the main constructor directly.\n",
    "\n",
    "We will be using `from_csvs`, which wraps around the `from_dfs` constructor:"
   ]
  },
  {
   "cell_type": "code",
   "execution_count": null,
   "id": "ce0cfe3a",
   "metadata": {},
   "outputs": [
    {
     "data": {
      "text/markdown": [
       "<h4 id=\"LanguageModelDatasets.from_csvs\" class=\"doc_header\"><code>LanguageModelDatasets.from_csvs</code><a href=\"https://github.com/novetta/adaptnlp/tree/master/adaptnlp/training/language_model.py#L123\" class=\"source_link\" style=\"float:right\">[source]</a></h4>\n",
       "\n",
       "> <code>LanguageModelDatasets.from_csvs</code>(**`train_csv`**:`Path`, **`text_col`**:`str`, **`tokenizer_name`**:`str`, **`block_size`**:`int`=*`128`*, **`masked_lm`**:`bool`=*`False`*, **`valid_csv`**:`Path`=*`None`*, **`split_func`**:`callable`=*`None`*, **`split_pct`**:`float`=*`0.1`*, **`tokenize_kwargs`**:`dict`=*`{}`*, **`auto_kwargs`**:`dict`=*`{}`*, **\\*\\*`kwargs`**)\n",
       "\n",
       "Builds [`LanguageModelDatasets`](/adaptnlp/training.language_model.html#LanguageModelDatasets) from a single csv or set of csvs. A convience constructor for `from_dfs`\n",
       "\n",
       "**Parameters:**\n",
       "\n",
       "\n",
       " - **`train_csv`** : *`<class 'pathlib.Path'>`*\t<p>A training csv file</p>\n",
       "\n",
       "\n",
       " - **`text_col`** : *`<class 'str'>`*\t<p>The name of the text column</p>\n",
       "\n",
       "\n",
       " - **`tokenizer_name`** : *`<class 'str'>`*\t<p>The name of the tokenizer</p>\n",
       "\n",
       "\n",
       " - **`block_size`** : *`<class 'int'>`*, *optional*\t<p>The size of each block</p>\n",
       "\n",
       "\n",
       " - **`masked_lm`** : *`<class 'bool'>`*, *optional*\t<p>Whether the language model is a MLM</p>\n",
       "\n",
       "\n",
       " - **`valid_csv`** : *`<class 'pathlib.Path'>`*, *optional*\t<p>An optional validation csv</p>\n",
       "\n",
       "\n",
       " - **`split_func`** : *`<built-in function callable>`*, *optional*\t<p>Optionally a splitting function similar to RandomSplitter</p>\n",
       "\n",
       "\n",
       " - **`split_pct`** : *`<class 'float'>`*, *optional*\t<p>What % to split the df between training and validation</p>\n",
       "\n",
       "\n",
       " - **`tokenize_kwargs`** : *`<class 'dict'>`*, *optional*\t<p>kwargs for the tokenize function</p>\n",
       "\n",
       "\n",
       " - **`auto_kwargs`** : *`<class 'dict'>`*, *optional*\t<p>kwargs for the AutoTokenizer.from_pretrained constructor</p>\n",
       "\n",
       "\n",
       " - **`kwargs`** : *`<class 'inspect._empty'>`*\n"
      ],
      "text/plain": [
       "<IPython.core.display.Markdown object>"
      ]
     },
     "metadata": {},
     "output_type": "display_data"
    }
   ],
   "source": [
    "from adaptnlp import LanguageModelDatasets\n",
    "show_doc(LanguageModelDatasets.from_csvs)"
   ]
  },
  {
   "cell_type": "markdown",
   "id": "a224521a",
   "metadata": {},
   "source": [
    "Anything you would normally pass to the tokenizer call (such as `max_length`, `padding`) should go in `tokenize_kwargs`, and anything going to the `AutoTokenizer.from_pretrained` constructor should be passed to the `auto_kwargs`.\n",
    "\n",
    "In our case we only have a `train_csv` and we have a tokenizer name. We also want to split 90%/10% (which is the default)"
   ]
  },
  {
   "cell_type": "markdown",
   "id": "e805e1a8",
   "metadata": {},
   "source": [
    "Also, we will set a block_size of 128, and it is *not* a masked language model:"
   ]
  },
  {
   "cell_type": "code",
   "execution_count": null,
   "id": "497cf7f7",
   "metadata": {},
   "outputs": [
    {
     "name": "stdout",
     "output_type": "stream",
     "text": [
      "No value for `max_length` set, automatically adjusting to the size of the model and including truncation\n",
      "Sequence length set to: 1024\n"
     ]
    },
    {
     "data": {
      "application/vnd.jupyter.widget-view+json": {
       "model_id": "0133b0d9d72b489b9bcfa704ecfae4d6",
       "version_major": 2,
       "version_minor": 0
      },
      "text/plain": [
       "HBox(children=(FloatProgress(value=0.0, max=1.0), HTML(value='')))"
      ]
     },
     "metadata": {},
     "output_type": "display_data"
    },
    {
     "name": "stdout",
     "output_type": "stream",
     "text": [
      "\n"
     ]
    },
    {
     "data": {
      "application/vnd.jupyter.widget-view+json": {
       "model_id": "746f687952404b2a9f4542f22db2bc5a",
       "version_major": 2,
       "version_minor": 0
      },
      "text/plain": [
       "HBox(children=(FloatProgress(value=0.0, max=1.0), HTML(value='')))"
      ]
     },
     "metadata": {},
     "output_type": "display_data"
    },
    {
     "name": "stdout",
     "output_type": "stream",
     "text": [
      "\n"
     ]
    },
    {
     "data": {
      "application/vnd.jupyter.widget-view+json": {
       "model_id": "18e35749729f43fd82cd80a4c1e6e1b5",
       "version_major": 2,
       "version_minor": 0
      },
      "text/plain": [
       "HBox(children=(FloatProgress(value=0.0, max=1.0), HTML(value='')))"
      ]
     },
     "metadata": {},
     "output_type": "display_data"
    },
    {
     "name": "stdout",
     "output_type": "stream",
     "text": [
      "\n"
     ]
    },
    {
     "data": {
      "application/vnd.jupyter.widget-view+json": {
       "model_id": "107ed718959e43309c35541ca4443a11",
       "version_major": 2,
       "version_minor": 0
      },
      "text/plain": [
       "HBox(children=(FloatProgress(value=0.0, max=1.0), HTML(value='')))"
      ]
     },
     "metadata": {},
     "output_type": "display_data"
    },
    {
     "name": "stdout",
     "output_type": "stream",
     "text": [
      "\n"
     ]
    }
   ],
   "source": [
    "dsets = LanguageModelDatasets.from_csvs(\n",
    "    train_csv=data_path/'texts.csv',\n",
    "    text_col='text',\n",
    "    tokenizer_name=model.name,\n",
    "    block_size=128,\n",
    "    masked_lm=False\n",
    ")"
   ]
  },
  {
   "cell_type": "markdown",
   "id": "6eebf5ec",
   "metadata": {},
   "source": [
    "> Note: If you have a training and validation CSV, simply pass in the validation CSV path as `valid_csv=path/to/validation_dataset.csv` and do not pass in any `split_func` or `split_pct`. Everything else is the exact same"
   ]
  },
  {
   "cell_type": "markdown",
   "id": "4faae30d",
   "metadata": {},
   "source": [
    "And finally turn it into some `AdaptiveDataLoaders`.\n",
    "\n",
    "These are just fastai's `DataLoaders` class, but it overrides a few functions to have it work nicely with HuggingFace's `Dataset` class"
   ]
  },
  {
   "cell_type": "code",
   "execution_count": null,
   "id": "08cc36db",
   "metadata": {},
   "outputs": [
    {
     "data": {
      "text/markdown": [
       "<h4 id=\"LanguageModelDatasets.dataloaders\" class=\"doc_header\"><code>LanguageModelDatasets.dataloaders</code><a href=\"https://github.com/novetta/adaptnlp/tree/master/adaptnlp/training/language_model.py#L202\" class=\"source_link\" style=\"float:right\">[source]</a></h4>\n",
       "\n",
       "> <code>LanguageModelDatasets.dataloaders</code>(**`batch_size`**=*`8`*, **`shuffle_train`**=*`True`*, **`collate_fn`**=*`default_data_collator`*, **`mlm_probability`**:`float`=*`0.15`*, **`path`**=*`'.'`*, **`device`**=*`None`*)\n",
       "\n",
       "Build DataLoaders from `self`\n",
       "\n",
       "**Parameters:**\n",
       "\n",
       "\n",
       " - **`batch_size`** : *`<class 'int'>`*, *optional*\t<p>A batch size</p>\n",
       "\n",
       "\n",
       " - **`shuffle_train`** : *`<class 'bool'>`*, *optional*\t<p>Whether to shuffle the training dataset</p>\n",
       "\n",
       "\n",
       " - **`collate_fn`** : *`<class 'function'>`*, *optional*\t<p>A custom collation function</p>\n",
       "\n",
       "\n",
       " - **`mlm_probability`** : *`<class 'float'>`*, *optional*\t<p>Token masking probablity for Masked Language Models</p>\n",
       "\n",
       "\n",
       " - **`path`** : *`<class 'str'>`*, *optional*\n",
       "\n",
       " - **`device`** : *`<class 'NoneType'>`*, *optional*\n"
      ],
      "text/plain": [
       "<IPython.core.display.Markdown object>"
      ]
     },
     "metadata": {},
     "output_type": "display_data"
    }
   ],
   "source": [
    "show_doc(LanguageModelDatasets.dataloaders)"
   ]
  },
  {
   "cell_type": "code",
   "execution_count": null,
   "id": "031a26b4",
   "metadata": {},
   "outputs": [],
   "source": [
    "dls = dsets.dataloaders(batch_size=8)"
   ]
  },
  {
   "cell_type": "markdown",
   "id": "91df0c08",
   "metadata": {},
   "source": [
    "Finally, let's view a batch of data with the `show_batch` function:"
   ]
  },
  {
   "cell_type": "code",
   "execution_count": null,
   "id": "965ad300",
   "metadata": {},
   "outputs": [
    {
     "data": {
      "text/html": [
       "<table border=\"1\" class=\"dataframe\">\n",
       "  <thead>\n",
       "    <tr style=\"text-align: right;\">\n",
       "      <th></th>\n",
       "      <th>Input</th>\n",
       "      <th>Labels</th>\n",
       "    </tr>\n",
       "  </thead>\n",
       "  <tbody>\n",
       "    <tr>\n",
       "      <th>0</th>\n",
       "      <td>2\".&lt;br /&gt;&lt;br /&gt;It starts out trying to borrow its comic relief style of Star Wars, but mercifully (since the humor doesn't work) gives up on comedy and plays it serious. In that sense, it's superior to the Star Wars franchise, which started with a clever sense of humor, and eventually deteriorated to Jar-Jar's annoying silliness.&lt;br /&gt;&lt;br /&gt;The agricultural details were apparently drawn by someone who had never seen a farm. The harvester was driving through the unharvested middle of a field, dumping silage onto unharvested crops, rather than working from one side to the other and dumping the silage onto already-harvested rows or into a truck. Corn (maize) was pouring out the grain chute, but the farm lands were drawn like a wheat field.&lt;br /&gt;&lt;br /&gt;When it was time for Kim's father had to face his fate, there wasn't any dramatic weight to the scene. That could have been partly the fault of the English-language voice actor, but the drawings didn't show much weight either. Kim's reactions in that scene were similarly unconvincing.&lt;br /&gt;&lt;br /&gt;Similarly, when a character named Henderson was killed, Chris showed very little reaction, even though they were apparently supposed to have been close. (Henderson's death is no spoiler; his name isn't revealed until his death scene.) She seems to promptly forget him. Someone's expression of sympathy shows more feeling than she does. I think the voice actor deserves most of the blame in that case; there's at least a hint of feeling in the drawings of Chris.&lt;br /&gt;&lt;br /&gt;On several occasions, villains fail to accomplish their orders. A villain leader often punishes those failures with miserable deaths. I can't say whether that's lifted from Star Wars, or if that comes from an earlier source -- possibly the Lensman books.&lt;br /&gt;&lt;br /&gt;There's a scene where a space ship crash-lands. As it plunges toward the ground, parts are break off the ship. But so many pieces are fall off that there should be nothing left of it by the time it lands.&lt;br /&gt;&lt;br /&gt;While in most cases Chris seems like a competent, tough space hero, there's a scene where she shrieks like an incompetent damsel in distress. Someone tough enough to get over Henderson's death so quickly should at least be able to shout, \"help, it's got me and I can't</td>\n",
       "      <td>2\".&lt;br /&gt;&lt;br /&gt;It starts out trying to borrow its comic relief style of Star Wars, but mercifully (since the humor doesn't work) gives up on comedy and plays it serious. In that sense, it's superior to the Star Wars franchise, which started with a clever sense of humor, and eventually deteriorated to Jar-Jar's annoying silliness.&lt;br /&gt;&lt;br /&gt;The agricultural details were apparently drawn by someone who had never seen a farm. The harvester was driving through the unharvested middle of a field, dumping silage onto unharvested crops, rather than working from one side to the other and dumping the silage onto already-harvested rows or into a truck. Corn (maize) was pouring out the grain chute, but the farm lands were drawn like a wheat field.&lt;br /&gt;&lt;br /&gt;When it was time for Kim's father had to face his fate, there wasn't any dramatic weight to the scene. That could have been partly the fault of the English-language voice actor, but the drawings didn't show much weight either. Kim's reactions in that scene were similarly unconvincing.&lt;br /&gt;&lt;br /&gt;Similarly, when a character named Henderson was killed, Chris showed very little reaction, even though they were apparently supposed to have been close. (Henderson's death is no spoiler; his name isn't revealed until his death scene.) She seems to promptly forget him. Someone's expression of sympathy shows more feeling than she does. I think the voice actor deserves most of the blame in that case; there's at least a hint of feeling in the drawings of Chris.&lt;br /&gt;&lt;br /&gt;On several occasions, villains fail to accomplish their orders. A villain leader often punishes those failures with miserable deaths. I can't say whether that's lifted from Star Wars, or if that comes from an earlier source -- possibly the Lensman books.&lt;br /&gt;&lt;br /&gt;There's a scene where a space ship crash-lands. As it plunges toward the ground, parts are break off the ship. But so many pieces are fall off that there should be nothing left of it by the time it lands.&lt;br /&gt;&lt;br /&gt;While in most cases Chris seems like a competent, tough space hero, there's a scene where she shrieks like an incompetent damsel in distress. Someone tough enough to get over Henderson's death so quickly should at least be able to shout, \"help, it's got me and I can't</td>\n",
       "    </tr>\n",
       "    <tr>\n",
       "      <th>1</th>\n",
       "      <td>a script that gives the heroine some intelligence and agency, and an actress who can convey those qualities.&lt;br /&gt;&lt;br /&gt;Hugh Jackman is similarly cheated by the script. Allen apparently can't stand it that Jackman is so stunningly good looking and young, and so he gives Jackman nothing to say or do. Like Johansson, he is used merely for his good looks. This is a shame, because, as Jackman has shown in any number of productions, from \"Oklahoma\" to \"X Men,\" he CAN act.&lt;br /&gt;&lt;br /&gt;Here's the big plot twist -- Jackman, suave, charming English Lord, really is a killer. So, though the movie says it is all about letting someone else, other than Allen, get the girl, she doesn't get anyone. Jackman, the man she's been making love to, is a man who murdered a prostitute. Nice, Woody. Nice way to punish your heroine for being beyond your grasp.&lt;br /&gt;&lt;br /&gt;In a passive aggressive touch, Allen deprives his heroine of his own presence, as well, killing off his character, the magician, leaving Scarlett Johansson all alone at the end of the film.&lt;br /&gt;&lt;br /&gt;A final note: at my screening, not a single audience member laughed at any point during the film. Always a bad sign when a film is advertised as a comedy.The movie is plain bad. Simply awful. The string of bad movies from Bollywood has no end! They must be running out of excuses for making such awful movies (or not).&lt;br /&gt;&lt;br /&gt;The problem seems to be with mainly the directors. This movie has 2 good actors who have proved in the past that the have the ability to deliver great performance...but they were directed so poorly. The poor script did not help either.&lt;br /&gt;&lt;br /&gt;This movie has plenty of ridiculous moments and very bad editing in the first half. For instance :&lt;br /&gt;&lt;br /&gt;After his 1st big concert, Ajay Devgan, meets up with Om Puri (from whom he ran away some 30 years ago and talked to again) and all Om Puri finds to say is to beware of his friendship with Salman!!! What a load of crap. Seriously. Not to mention the baaad soundtrack. Whatever happened to Shankar Ehsaan Loy?&lt;br /&gt;&lt;br /&gt;Ajay Devgun is total miscast for portraying a rockstar.&lt;br /&gt;&lt;br /&gt;Only saving grace</td>\n",
       "      <td>a script that gives the heroine some intelligence and agency, and an actress who can convey those qualities.&lt;br /&gt;&lt;br /&gt;Hugh Jackman is similarly cheated by the script. Allen apparently can't stand it that Jackman is so stunningly good looking and young, and so he gives Jackman nothing to say or do. Like Johansson, he is used merely for his good looks. This is a shame, because, as Jackman has shown in any number of productions, from \"Oklahoma\" to \"X Men,\" he CAN act.&lt;br /&gt;&lt;br /&gt;Here's the big plot twist -- Jackman, suave, charming English Lord, really is a killer. So, though the movie says it is all about letting someone else, other than Allen, get the girl, she doesn't get anyone. Jackman, the man she's been making love to, is a man who murdered a prostitute. Nice, Woody. Nice way to punish your heroine for being beyond your grasp.&lt;br /&gt;&lt;br /&gt;In a passive aggressive touch, Allen deprives his heroine of his own presence, as well, killing off his character, the magician, leaving Scarlett Johansson all alone at the end of the film.&lt;br /&gt;&lt;br /&gt;A final note: at my screening, not a single audience member laughed at any point during the film. Always a bad sign when a film is advertised as a comedy.The movie is plain bad. Simply awful. The string of bad movies from Bollywood has no end! They must be running out of excuses for making such awful movies (or not).&lt;br /&gt;&lt;br /&gt;The problem seems to be with mainly the directors. This movie has 2 good actors who have proved in the past that the have the ability to deliver great performance...but they were directed so poorly. The poor script did not help either.&lt;br /&gt;&lt;br /&gt;This movie has plenty of ridiculous moments and very bad editing in the first half. For instance :&lt;br /&gt;&lt;br /&gt;After his 1st big concert, Ajay Devgan, meets up with Om Puri (from whom he ran away some 30 years ago and talked to again) and all Om Puri finds to say is to beware of his friendship with Salman!!! What a load of crap. Seriously. Not to mention the baaad soundtrack. Whatever happened to Shankar Ehsaan Loy?&lt;br /&gt;&lt;br /&gt;Ajay Devgun is total miscast for portraying a rockstar.&lt;br /&gt;&lt;br /&gt;Only saving grace</td>\n",
       "    </tr>\n",
       "    <tr>\n",
       "      <th>2</th>\n",
       "      <td>to entice Robert into sex. Robert wants none of it, and puts on a jazz record. Ellen turns on the radio; Robert turns up the music; Ellen turns on the TV; Robert turns on another TV. Cacophony ensues. Ellen goes up on the roof, Robert joins her. Ellen confesses that she needs to experience more men, men other than Robert. Robert says that he too needs to experience men.&lt;br /&gt;&lt;br /&gt;We next follow Robert as he visits an artist, Martin, played by Steve Buscemi. I wish Buscemi could have more roles like this, where he is a sexy, smart, totally desirable guy. Robert praises Martin's work, much more than it deserves, promises to get it into a show. Martin is excited, until it turns out that Robert is speaking out of his groin, it is all a mating dance. Robert tries to kiss Martin, on the lips, and Martin pulls back, saying that he is not gay. Robert asserts that he's not gay either, Martin scoffs. Both admit that the artworks are bad. Robert is about to leave, when Martin allows Robert to kiss him. They make out, and Robert goes down on Martin.&lt;br /&gt;&lt;br /&gt;Next we follow Martin, as he prepares for an art show at a Manhattan gallery. He is smitten by the receptionist, Anna, played by Rosario Dawson. (I had to cut some of this review to keep it under 1000 words)... and they make love to each other.&lt;br /&gt;&lt;br /&gt;We next follow Anna, who is sitting at a lunch stand. Her boyfriend, Nick (Adrian Grenier), enters, bearing flowers. She is cold toward him; he tries to figure out why. He coaxes out of her the information that she has had sex with someone while he was in San Francisco. She coaxes out of him the fact that he has stayed with his ex-gf while in San Francisco, and had sex with her. The latter revelation turns out to be a lie. The two of them make out in the luncheonette, but she decides that they must break up. Nick is heartbroken.&lt;br /&gt;&lt;br /&gt;And we follow Nick, who confesses his troubles to an older woman who he meets on a park bench, Joey (Carol Kane). Joey is sort of weird and child-like, but is a good audience for Nick, who needs a sympathetic ear. The two of them go to Coney Island</td>\n",
       "      <td>to entice Robert into sex. Robert wants none of it, and puts on a jazz record. Ellen turns on the radio; Robert turns up the music; Ellen turns on the TV; Robert turns on another TV. Cacophony ensues. Ellen goes up on the roof, Robert joins her. Ellen confesses that she needs to experience more men, men other than Robert. Robert says that he too needs to experience men.&lt;br /&gt;&lt;br /&gt;We next follow Robert as he visits an artist, Martin, played by Steve Buscemi. I wish Buscemi could have more roles like this, where he is a sexy, smart, totally desirable guy. Robert praises Martin's work, much more than it deserves, promises to get it into a show. Martin is excited, until it turns out that Robert is speaking out of his groin, it is all a mating dance. Robert tries to kiss Martin, on the lips, and Martin pulls back, saying that he is not gay. Robert asserts that he's not gay either, Martin scoffs. Both admit that the artworks are bad. Robert is about to leave, when Martin allows Robert to kiss him. They make out, and Robert goes down on Martin.&lt;br /&gt;&lt;br /&gt;Next we follow Martin, as he prepares for an art show at a Manhattan gallery. He is smitten by the receptionist, Anna, played by Rosario Dawson. (I had to cut some of this review to keep it under 1000 words)... and they make love to each other.&lt;br /&gt;&lt;br /&gt;We next follow Anna, who is sitting at a lunch stand. Her boyfriend, Nick (Adrian Grenier), enters, bearing flowers. She is cold toward him; he tries to figure out why. He coaxes out of her the information that she has had sex with someone while he was in San Francisco. She coaxes out of him the fact that he has stayed with his ex-gf while in San Francisco, and had sex with her. The latter revelation turns out to be a lie. The two of them make out in the luncheonette, but she decides that they must break up. Nick is heartbroken.&lt;br /&gt;&lt;br /&gt;And we follow Nick, who confesses his troubles to an older woman who he meets on a park bench, Joey (Carol Kane). Joey is sort of weird and child-like, but is a good audience for Nick, who needs a sympathetic ear. The two of them go to Coney Island</td>\n",
       "    </tr>\n",
       "    <tr>\n",
       "      <th>3</th>\n",
       "      <td>I thought this film was alright; much better than I expected it to be. I was skeptical at first - the idea of a computer virus that can also infect people seemed a little ludicrous to me. But in the end, I thought the film handled the concept well (even if some scenes were a little clichéd).&lt;br /&gt;&lt;br /&gt;The cast was quite good, and the two leads seemed to take their roles very seriously. I couldn't help thinking, though, that Janine Turner is a bit of a Geena Davis look-a-like. Maybe it's just her face or the make-up, hair and clothes she had in this movie but it just kept nagging at the back of my mind the whole time.&lt;br /&gt;&lt;br /&gt;While it's not a'must see' or a great film by any standard, 'Fatal Error' is an entertaining flick that will keep you watching until the end.While I count myself as a fan of the Babylon 5 television series, the original movie that introduced the series was a weak start. Although many of the elements that would later mature and become much more compelling in the series are there, the pace of The Gathering is slow, the makeup somewhat inadequate, and the plot confusing. Worse, the characterization in the premiere episode is poor. Although the ratings chart shows that many fans are willing to overlook these problems, I remember The Gathering almost turned me off off what soon grew into a spectacular series.How unfortunate, to have so many of my \"a\" list, and good \"b\" list actors agree to do this movie, but they did, and that is what sucked me into watching it. I had never heard of this movie, but there was Cuba Gooding Jr. right on the DVD cover, and James Woods in the background how bad can it be? In a word Very! This movie starts o.k. has some twists and turns, then just lays an egg. The ending was so weak, it was as if the writer got called away and his 4 year old son sat down at the type writer and hacked out the ending. How ironic a for a movie titled \"The end game\" to have such a poor one. These are the types of movies that can move \"a\" list actors to the \"b\" list in hurry. I hope Cuba Gooding JR, and James Woods don't make a habit of this.A definite no. A resounding NO. This movie is an absolute dud.&lt;br /&gt;&lt;br /&gt;Having</td>\n",
       "      <td>I thought this film was alright; much better than I expected it to be. I was skeptical at first - the idea of a computer virus that can also infect people seemed a little ludicrous to me. But in the end, I thought the film handled the concept well (even if some scenes were a little clichéd).&lt;br /&gt;&lt;br /&gt;The cast was quite good, and the two leads seemed to take their roles very seriously. I couldn't help thinking, though, that Janine Turner is a bit of a Geena Davis look-a-like. Maybe it's just her face or the make-up, hair and clothes she had in this movie but it just kept nagging at the back of my mind the whole time.&lt;br /&gt;&lt;br /&gt;While it's not a'must see' or a great film by any standard, 'Fatal Error' is an entertaining flick that will keep you watching until the end.While I count myself as a fan of the Babylon 5 television series, the original movie that introduced the series was a weak start. Although many of the elements that would later mature and become much more compelling in the series are there, the pace of The Gathering is slow, the makeup somewhat inadequate, and the plot confusing. Worse, the characterization in the premiere episode is poor. Although the ratings chart shows that many fans are willing to overlook these problems, I remember The Gathering almost turned me off off what soon grew into a spectacular series.How unfortunate, to have so many of my \"a\" list, and good \"b\" list actors agree to do this movie, but they did, and that is what sucked me into watching it. I had never heard of this movie, but there was Cuba Gooding Jr. right on the DVD cover, and James Woods in the background how bad can it be? In a word Very! This movie starts o.k. has some twists and turns, then just lays an egg. The ending was so weak, it was as if the writer got called away and his 4 year old son sat down at the type writer and hacked out the ending. How ironic a for a movie titled \"The end game\" to have such a poor one. These are the types of movies that can move \"a\" list actors to the \"b\" list in hurry. I hope Cuba Gooding JR, and James Woods don't make a habit of this.A definite no. A resounding NO. This movie is an absolute dud.&lt;br /&gt;&lt;br /&gt;Having</td>\n",
       "    </tr>\n",
       "    <tr>\n",
       "      <th>4</th>\n",
       "      <td>&gt;&lt;br /&gt;All in all pretty dull slasher flick that doesn't go anywhere I'd definitely wouldn't recommend it to Slasher fans.From a plot and movement standpoint, this movie was terrible. I found myself looking at the clock in theater hoping it would end and relieved after 80 long minutes that it mercifully did. Basically, five characters appear in the movie, A Son &amp; Father, son's girl friend, and two male characters of the son's age who appear and then disappear without context or explanation. The movie and scenes seemed to suggest homo-eroticism, but nothing ever actually happened to reveal this one way or another. There were a couple of brilliant scenes. At the beginning of the movie, the son's girl friend shows up at a window outside his room and they engage in an odd conversation. The photography and acting lent an incredible seductiveness to the interaction between the two, ending with her admitting to having another man who was \"older\". End of that story.Watching It Lives By Night makes you wonder, just who in the world greenlit this crap. A newlywed couple go spelunking on their honeymoon, get attacked by bats and the husband starts to run around in his pajamas attacking various people. And where exactly are they? They're in the desert, then they're skiing, then they're in a small town that looks like it has mountains nearby. The town is run by a sheriff who likes to watch and has a personal vendetta against whiny doctor boy. The ski hospital is run by a really groovy guy with a nice thick mustache and the wife looks like Mary Tyler Moore or Marilyn Quayle. There's no dramatic tension and the ending will leave you filled with anger. Special effects and makeup guru Stan Winston did the effects for this movie. I guess you have to start somewhere.I remember I saw this cartoon when I was 6 or 7. My grandfather picked up the video of it for free at the mall. I remember that it really sucked. The plot had no sense. I hated the fox that became Casper's friend. He was so stupid! Casper cried his head off if he couldn't find a friend. So what? Get over it! The only good part and I don't want to sound mean-spirited was when the fox got shot and died at the end. I laughed my head off in payback because this cartoon sucked so much. The bad news is the fox resurrects and becomes a ghost. I wish he</td>\n",
       "      <td>&gt;&lt;br /&gt;All in all pretty dull slasher flick that doesn't go anywhere I'd definitely wouldn't recommend it to Slasher fans.From a plot and movement standpoint, this movie was terrible. I found myself looking at the clock in theater hoping it would end and relieved after 80 long minutes that it mercifully did. Basically, five characters appear in the movie, A Son &amp; Father, son's girl friend, and two male characters of the son's age who appear and then disappear without context or explanation. The movie and scenes seemed to suggest homo-eroticism, but nothing ever actually happened to reveal this one way or another. There were a couple of brilliant scenes. At the beginning of the movie, the son's girl friend shows up at a window outside his room and they engage in an odd conversation. The photography and acting lent an incredible seductiveness to the interaction between the two, ending with her admitting to having another man who was \"older\". End of that story.Watching It Lives By Night makes you wonder, just who in the world greenlit this crap. A newlywed couple go spelunking on their honeymoon, get attacked by bats and the husband starts to run around in his pajamas attacking various people. And where exactly are they? They're in the desert, then they're skiing, then they're in a small town that looks like it has mountains nearby. The town is run by a sheriff who likes to watch and has a personal vendetta against whiny doctor boy. The ski hospital is run by a really groovy guy with a nice thick mustache and the wife looks like Mary Tyler Moore or Marilyn Quayle. There's no dramatic tension and the ending will leave you filled with anger. Special effects and makeup guru Stan Winston did the effects for this movie. I guess you have to start somewhere.I remember I saw this cartoon when I was 6 or 7. My grandfather picked up the video of it for free at the mall. I remember that it really sucked. The plot had no sense. I hated the fox that became Casper's friend. He was so stupid! Casper cried his head off if he couldn't find a friend. So what? Get over it! The only good part and I don't want to sound mean-spirited was when the fox got shot and died at the end. I laughed my head off in payback because this cartoon sucked so much. The bad news is the fox resurrects and becomes a ghost. I wish he</td>\n",
       "    </tr>\n",
       "  </tbody>\n",
       "</table>"
      ],
      "text/plain": [
       "<IPython.core.display.HTML object>"
      ]
     },
     "metadata": {},
     "output_type": "display_data"
    }
   ],
   "source": [
    "dls.show_batch()"
   ]
  },
  {
   "cell_type": "markdown",
   "id": "e0666f8d",
   "metadata": {},
   "source": [
    "When training a language model, the input and output are made to be the exact same, so there isn't a shown noticable difference here."
   ]
  },
  {
   "cell_type": "markdown",
   "id": "586172ad",
   "metadata": {},
   "source": [
    "## Building `Tuner`"
   ]
  },
  {
   "cell_type": "markdown",
   "id": "23e2d9bf",
   "metadata": {},
   "source": [
    "Next we need to build a compatible `Tuner` for our problem. These tuners contain good defaults for our problem space, including loss functions and metrics.\n",
    "\n",
    "First let's import the `LanguageModelTuner` and view it's documentation"
   ]
  },
  {
   "cell_type": "code",
   "execution_count": null,
   "id": "c54d78db",
   "metadata": {},
   "outputs": [],
   "source": [
    "from adaptnlp import LanguageModelTuner"
   ]
  },
  {
   "cell_type": "code",
   "execution_count": null,
   "id": "WRxJWveszSmY",
   "metadata": {},
   "outputs": [
    {
     "data": {
      "text/markdown": [
       "<h2 id=\"LanguageModelTuner\" class=\"doc_header\"><code>class</code> <code>LanguageModelTuner</code><a href=\"https://github.com/novetta/adaptnlp/tree/master/adaptnlp/training/language_model.py#L224\" class=\"source_link\" style=\"float:right\">[source]</a></h2>\n",
       "\n",
       "> <code>LanguageModelTuner</code>(**`dls`**:`DataLoaders`, **`model_name`**, **`tokenizer`**=*`None`*, **`language_model_type`**:`LMType`=*`'causal'`*, **`loss_func`**=*`CrossEntropyLoss()`*, **`metrics`**=*`[<fastai.metrics.Perplexity object at 0x7f69c372c370>]`*, **`opt_func`**=*`Adam`*, **`additional_cbs`**=*`None`*, **`expose_fastai_api`**=*`False`*, **\\*\\*`kwargs`**) :: [`AdaptiveTuner`](/adaptnlp/training.core.html#AdaptiveTuner)\n",
       "\n",
       "An [`AdaptiveTuner`](/adaptnlp/training.core.html#AdaptiveTuner) with good defaults for Language Model fine-tuning\n",
       "**Valid kwargs and defaults:**\n",
       "  - `lr`:float = 0.001\n",
       "  - `splitter`:function = `trainable_params`\n",
       "  - `cbs`:list = None\n",
       "  - `path`:Path = None\n",
       "  - `model_dir`:Path = 'models'\n",
       "  - `wd`:float = None\n",
       "  - `wd_bn_bias`:bool = False\n",
       "  - `train_bn`:bool = True\n",
       "  - `moms`: tuple(float) = (0.95, 0.85, 0.95)\n",
       "\n",
       "**Function Arguments**:\n",
       "* `dls` (`DataLoaders`): A set of DataLoaders or AdaptiveDataLoaders\n",
       "* `model_name`: A HuggingFace model\n",
       "* `language_model_type` (`LMType `): The type of language model to use\n",
       "* `**kwargs`: kwargs for `Learner.__init__`\n",
       "* `**kwargs`: Optional arguments for `PretrainedModel.generate`\n"
      ],
      "text/plain": [
       "<IPython.core.display.Markdown object>"
      ]
     },
     "metadata": {},
     "output_type": "display_data"
    }
   ],
   "source": [
    "from adaptnlp import LanguageModelTuner\n",
    "show_doc(LanguageModelTuner)"
   ]
  },
  {
   "cell_type": "markdown",
   "id": "UXvHCw5HzVil",
   "metadata": {},
   "source": [
    "Next we'll pass in our `DataLoaders`, the name of our model, and the tokenizer:"
   ]
  },
  {
   "cell_type": "markdown",
   "id": "1efac2b5",
   "metadata": {},
   "source": [
    "> Note: If you are not using the data API (`TaskDatasets`, `SequenceClassificationDatasets`, etc), you need to pass in the tokenizer to the constructor as well with `tokenizer=tokenizer`"
   ]
  },
  {
   "cell_type": "code",
   "execution_count": null,
   "id": "k-gczguJzSjM",
   "metadata": {},
   "outputs": [],
   "source": [
    "tuner = LanguageModelTuner(dls, model.name, dls.tokenizer)"
   ]
  },
  {
   "cell_type": "markdown",
   "id": "9rAi8TF5zfPz",
   "metadata": {},
   "source": [
    "By default we can see that it used `CrossEntropyLoss` as our loss function, and `Perplexity` as our metric"
   ]
  },
  {
   "cell_type": "code",
   "execution_count": null,
   "id": "QTyxXImizjxC",
   "metadata": {},
   "outputs": [
    {
     "data": {
      "text/plain": [
       "FlattenedLoss of CrossEntropyLoss()"
      ]
     },
     "execution_count": null,
     "metadata": {},
     "output_type": "execute_result"
    }
   ],
   "source": [
    "tuner.loss_func"
   ]
  },
  {
   "cell_type": "code",
   "execution_count": null,
   "id": "x_PEmOXAzlAE",
   "metadata": {},
   "outputs": [
    {
     "name": "stdout",
     "output_type": "stream",
     "text": [
      "perplexity\n"
     ]
    }
   ],
   "source": [
    "_ = [print(m.name) for m in tuner.metrics]"
   ]
  },
  {
   "cell_type": "markdown",
   "id": "dl-tqB5uzq1k",
   "metadata": {},
   "source": [
    "Finally we just need to train our model!"
   ]
  },
  {
   "cell_type": "markdown",
   "id": "33dd944d",
   "metadata": {},
   "source": [
    "## Fine-Tuning"
   ]
  },
  {
   "cell_type": "markdown",
   "id": "2e9ec17d",
   "metadata": {},
   "source": [
    "To fine-tune, AdaptNLP's tuner class provides only a few functions to work with. The important ones are the `tune` and `lr_find` class.\n",
    "\n",
    "As the `Tuner` uses `fastai` under the hood, `lr_find` calls fastai's Learning Rate Finder to help us pick a learning rate. Let's do that now:"
   ]
  },
  {
   "cell_type": "code",
   "execution_count": null,
   "id": "ZTaeO5Vm0P-h",
   "metadata": {},
   "outputs": [
    {
     "data": {
      "text/markdown": [
       "<h4 id=\"AdaptiveTuner.lr_find\" class=\"doc_header\"><code>AdaptiveTuner.lr_find</code><a href=\"https://github.com/novetta/adaptnlp/tree/master/adaptnlp/training/core.py#L383\" class=\"source_link\" style=\"float:right\">[source]</a></h4>\n",
       "\n",
       "> <code>AdaptiveTuner.lr_find</code>(**`start_lr`**=*`1e-07`*, **`end_lr`**=*`10`*, **`num_it`**=*`100`*, **`stop_div`**=*`True`*, **`show_plot`**=*`True`*, **`suggest_funcs`**=*`valley`*)\n",
       "\n",
       "Runs fastai's `LR Finder`\n",
       "\n"
      ],
      "text/plain": [
       "<IPython.core.display.Markdown object>"
      ]
     },
     "metadata": {},
     "output_type": "display_data"
    }
   ],
   "source": [
    "show_doc(LanguageModelTuner.lr_find)"
   ]
  },
  {
   "cell_type": "code",
   "execution_count": null,
   "id": "2oWmrMic0H0z",
   "metadata": {},
   "outputs": [
    {
     "data": {
      "text/html": [],
      "text/plain": [
       "<IPython.core.display.HTML object>"
      ]
     },
     "metadata": {},
     "output_type": "display_data"
    },
    {
     "name": "stderr",
     "output_type": "stream",
     "text": [
      "/opt/venv/lib/python3.8/site-packages/fastai/callback/schedule.py:270: UserWarning: color is redundantly defined by the 'color' keyword argument and the fmt string \"ro\" (-> color='r'). The keyword argument will take precedence.\n",
      "  ax.plot(val, idx, 'ro', label=nm, c=color)\n"
     ]
    },
    {
     "data": {
      "text/plain": [
       "SuggestedLRs(valley=6.30957365501672e-05)"
      ]
     },
     "execution_count": null,
     "metadata": {},
     "output_type": "execute_result"
    },
    {
     "data": {
      "image/png": "[encoded data removed]",
      "text/plain": [
       "<Figure size 432x288 with 1 Axes>"
      ]
     },
     "metadata": {
      "needs_background": "light"
     },
     "output_type": "display_data"
    }
   ],
   "source": [
    "tuner.lr_find()"
   ]
  },
  {
   "cell_type": "markdown",
   "id": "jxviy-Nj0Mly",
   "metadata": {},
   "source": [
    "It recommends a learning rate of around 5e-5, so we will use that."
   ]
  },
  {
   "cell_type": "code",
   "execution_count": null,
   "id": "a20a2181",
   "metadata": {},
   "outputs": [],
   "source": [
    "lr = 5e-5"
   ]
  },
  {
   "cell_type": "markdown",
   "id": "bpl6Krkl0SLX",
   "metadata": {},
   "source": [
    "Let's look at the documentation for `tune`:"
   ]
  },
  {
   "cell_type": "code",
   "execution_count": null,
   "id": "CtnRVQOX0T0-",
   "metadata": {},
   "outputs": [
    {
     "data": {
      "text/markdown": [
       "<h4 id=\"AdaptiveTuner.tune\" class=\"doc_header\"><code>AdaptiveTuner.tune</code><a href=\"https://github.com/novetta/adaptnlp/tree/master/adaptnlp/training/core.py#L369\" class=\"source_link\" style=\"float:right\">[source]</a></h4>\n",
       "\n",
       "> <code>AdaptiveTuner.tune</code>(**`epochs`**:`int`, **`lr`**:`float`=*`None`*, **`strategy`**:`Strategy`=*`'fit_one_cycle'`*, **`callbacks`**:`list`=*`[]`*, **\\*\\*`kwargs`**)\n",
       "\n",
       "Fine tune `self.model` for `epochs` with an `lr` and `strategy`\n",
       "\n"
      ],
      "text/plain": [
       "<IPython.core.display.Markdown object>"
      ]
     },
     "metadata": {},
     "output_type": "display_data"
    }
   ],
   "source": [
    "show_doc(LanguageModelTuner.tune)"
   ]
  },
  {
   "cell_type": "markdown",
   "id": "06gNa3Rk0U-_",
   "metadata": {},
   "source": [
    "We can pass in a number of epochs, a learning rate, a strategy, and additional fastai callbacks to call.\n",
    "\n",
    "Valid strategies live in the `Strategy` namespace class, and consist of:\n",
    "- OneCycle (Also called the [One-Cycle Policy](https://docs.fast.ai/callback.schedule.html#Learner.fit_one_cycle))\n",
    "- [CosineAnnealing](https://docs.fast.ai/callback.schedule.html#Learner.fit_flat_cos)\n",
    "- [SGDR](https://docs.fast.ai/callback.schedule.html#Learner.fit_sgdr)"
   ]
  },
  {
   "cell_type": "code",
   "execution_count": null,
   "id": "5DK9Q-rd0gHN",
   "metadata": {},
   "outputs": [],
   "source": [
    "from adaptnlp import Strategy"
   ]
  },
  {
   "cell_type": "markdown",
   "id": "Xgf9oa4H0nDI",
   "metadata": {},
   "source": [
    "In this tutorial we will train with the One-Cycle policy, as currently it is one of the best schedulers to use."
   ]
  },
  {
   "cell_type": "code",
   "execution_count": null,
   "id": "e4214963",
   "metadata": {},
   "outputs": [
    {
     "data": {
      "text/html": [
       "<table border=\"1\" class=\"dataframe\">\n",
       "  <thead>\n",
       "    <tr style=\"text-align: left;\">\n",
       "      <th>epoch</th>\n",
       "      <th>train_loss</th>\n",
       "      <th>valid_loss</th>\n",
       "      <th>perplexity</th>\n",
       "      <th>time</th>\n",
       "    </tr>\n",
       "  </thead>\n",
       "  <tbody>\n",
       "    <tr>\n",
       "      <td>0</td>\n",
       "      <td>4.061049</td>\n",
       "      <td>3.879425</td>\n",
       "      <td>48.396393</td>\n",
       "      <td>00:55</td>\n",
       "    </tr>\n",
       "    <tr>\n",
       "      <td>1</td>\n",
       "      <td>3.973648</td>\n",
       "      <td>3.857744</td>\n",
       "      <td>47.358402</td>\n",
       "      <td>00:54</td>\n",
       "    </tr>\n",
       "    <tr>\n",
       "      <td>2</td>\n",
       "      <td>3.900359</td>\n",
       "      <td>3.858645</td>\n",
       "      <td>47.401066</td>\n",
       "      <td>00:54</td>\n",
       "    </tr>\n",
       "  </tbody>\n",
       "</table>"
      ],
      "text/plain": [
       "<IPython.core.display.HTML object>"
      ]
     },
     "metadata": {},
     "output_type": "display_data"
    }
   ],
   "source": [
    "tuner.tune(3, lr, strategy=Strategy.OneCycle)"
   ]
  },
  {
   "cell_type": "markdown",
   "id": "42dc3547",
   "metadata": {},
   "source": [
    "## Saving Model"
   ]
  },
  {
   "cell_type": "markdown",
   "id": "2aebf7b2",
   "metadata": {},
   "source": [
    "Now that we have a trained model, let's save those weights away.\n",
    "\n",
    "Calling `tuner.save` will save both the model and the tokenizer in the same format as how HuggingFace does:"
   ]
  },
  {
   "cell_type": "code",
   "execution_count": null,
   "id": "a01b6b63",
   "metadata": {},
   "outputs": [
    {
     "data": {
      "text/markdown": [
       "<h4 id=\"AdaptiveTuner.save\" class=\"doc_header\"><code>AdaptiveTuner.save</code><a href=\"https://github.com/novetta/adaptnlp/tree/master/adaptnlp/training/core.py#L391\" class=\"source_link\" style=\"float:right\">[source]</a></h4>\n",
       "\n",
       "> <code>AdaptiveTuner.save</code>(**`save_directory`**)\n",
       "\n",
       "Save a pretrained model to a `save_directory`\n",
       "\n",
       "**Function Arguments**:\n",
       "* `save_directory`: A folder to save our model to\n"
      ],
      "text/plain": [
       "<IPython.core.display.Markdown object>"
      ]
     },
     "metadata": {},
     "output_type": "display_data"
    }
   ],
   "source": [
    "show_doc(LanguageModelTuner.save)"
   ]
  },
  {
   "cell_type": "code",
   "execution_count": null,
   "id": "WHCmaQxp0_88",
   "metadata": {},
   "outputs": [
    {
     "data": {
      "text/plain": [
       "'good_model'"
      ]
     },
     "execution_count": null,
     "metadata": {},
     "output_type": "execute_result"
    }
   ],
   "source": [
    "tuner.save('good_model')"
   ]
  },
  {
   "cell_type": "markdown",
   "id": "faf8dec2",
   "metadata": {},
   "source": [
    "## Performing Inference"
   ]
  },
  {
   "cell_type": "markdown",
   "id": "1ce058be",
   "metadata": {},
   "source": [
    "There are two ways to get predictions, the first is with the `.predict` method in our `tuner`. This is great for if you just finished training and want to see how your model performs on some new data!\n",
    "The other method is with AdaptNLP's inference API, which we will show afterwards"
   ]
  },
  {
   "cell_type": "markdown",
   "id": "S_OxB8QN1PD2",
   "metadata": {},
   "source": [
    "### In Tuner\n",
    "\n",
    "First let's write a sentence to test with"
   ]
  },
  {
   "cell_type": "code",
   "execution_count": null,
   "id": "43d011be",
   "metadata": {},
   "outputs": [],
   "source": [
    "sentence = \"Hugh Jackman is a terrible \""
   ]
  },
  {
   "cell_type": "markdown",
   "id": "jHP8lv2P1kKf",
   "metadata": {},
   "source": [
    "And then predict with it:"
   ]
  },
  {
   "cell_type": "code",
   "execution_count": null,
   "id": "KRdOk9bt1lSy",
   "metadata": {},
   "outputs": [
    {
     "data": {
      "text/markdown": [
       "<h4 id=\"LanguageModelTuner.predict\" class=\"doc_header\"><code>LanguageModelTuner.predict</code><a href=\"https://github.com/novetta/adaptnlp/tree/master/adaptnlp/training/language_model.py#L289\" class=\"source_link\" style=\"float:right\">[source]</a></h4>\n",
       "\n",
       "> <code>LanguageModelTuner.predict</code>(**`text`**:`Union`\\[`List`\\[`str`\\], `str`\\], **`bs`**:`int`=*`64`*, **`num_tokens_to_produce`**:`int`=*`50`*, **\\*\\*`kwargs`**)\n",
       "\n",
       "Predict some `text` for sequence classification with the currently loaded model\n",
       "\n",
       "**Function Arguments**:\n",
       "* `text` (`Union[List[str], str]`): Some text or list of texts to do inference with\n",
       "* `bs` (`int`): A batch size to use for multiple texts\n",
       "* `num_tokens_to_produce` (`int`): Number of tokens to generate\n",
       "* `**kwargs`: Optional arguments for `PretrainedModel.generate`\n"
      ],
      "text/plain": [
       "<IPython.core.display.Markdown object>"
      ]
     },
     "metadata": {},
     "output_type": "display_data"
    }
   ],
   "source": [
    "show_doc(LanguageModelTuner.predict)"
   ]
  },
  {
   "cell_type": "code",
   "execution_count": null,
   "id": "wPhkn9fp1mi6",
   "metadata": {},
   "outputs": [
    {
     "data": {
      "text/html": [
       "\n",
       "    <div>\n",
       "        <style>\n",
       "            /* Turns off some styling */\n",
       "            progress {\n",
       "                /* gets rid of default border in Firefox and Opera. */\n",
       "                border: none;\n",
       "                /* Needs to be in here for Safari polyfill so background images work as expected. */\n",
       "                background-size: auto;\n",
       "            }\n",
       "            .progress-bar-interrupted, .progress-bar-interrupted::-webkit-progress-bar {\n",
       "                background: #F44336;\n",
       "            }\n",
       "        </style>\n",
       "      <progress value='1' class='' max='1' style='width:300px; height:20px; vertical-align: middle;'></progress>\n",
       "      100.00% [1/1 00:00<00:00]\n",
       "    </div>\n",
       "    "
      ],
      "text/plain": [
       "<IPython.core.display.HTML object>"
      ]
     },
     "metadata": {},
     "output_type": "display_data"
    },
    {
     "data": {
      "text/plain": [
       "{'generated_text': [\"Hugh Jackman is a terrible icky, and I'm not sure if he's a good actor\"]}"
      ]
     },
     "execution_count": null,
     "metadata": {},
     "output_type": "execute_result"
    }
   ],
   "source": [
    "tuner.predict(sentence, num_tokens_to_produce=13)"
   ]
  },
  {
   "cell_type": "markdown",
   "id": "caaihrDr1taH",
   "metadata": {},
   "source": [
    "### With the Inference API\n",
    "\n",
    "Next we will use the `EasyTextGenerator` class, which AdaptNLP offers:"
   ]
  },
  {
   "cell_type": "code",
   "execution_count": null,
   "id": "S2TyPxzh10Tx",
   "metadata": {},
   "outputs": [],
   "source": [
    "from adaptnlp import EasyTextGenerator"
   ]
  },
  {
   "cell_type": "markdown",
   "id": "2_5JihBk12kA",
   "metadata": {},
   "source": [
    "We simply construct the class:"
   ]
  },
  {
   "cell_type": "code",
   "execution_count": null,
   "id": "Wa2mnVPY10QR",
   "metadata": {},
   "outputs": [],
   "source": [
    "classifier = EasyTextGenerator()"
   ]
  },
  {
   "cell_type": "markdown",
   "id": "Vf_HrdWy1_-Q",
   "metadata": {},
   "source": [
    "And call the `tag_text` method, passing in the sentence, the location of our saved model, and some names for our classes:"
   ]
  },
  {
   "cell_type": "code",
   "execution_count": null,
   "id": "UX_sdJkL10JA",
   "metadata": {},
   "outputs": [
    {
     "data": {
      "text/html": [
       "\n",
       "    <div>\n",
       "        <style>\n",
       "            /* Turns off some styling */\n",
       "            progress {\n",
       "                /* gets rid of default border in Firefox and Opera. */\n",
       "                border: none;\n",
       "                /* Needs to be in here for Safari polyfill so background images work as expected. */\n",
       "                background-size: auto;\n",
       "            }\n",
       "            .progress-bar-interrupted, .progress-bar-interrupted::-webkit-progress-bar {\n",
       "                background: #F44336;\n",
       "            }\n",
       "        </style>\n",
       "      <progress value='1' class='' max='1' style='width:300px; height:20px; vertical-align: middle;'></progress>\n",
       "      100.00% [1/1 00:00<00:00]\n",
       "    </div>\n",
       "    "
      ],
      "text/plain": [
       "<IPython.core.display.HTML object>"
      ]
     },
     "metadata": {},
     "output_type": "display_data"
    },
    {
     "data": {
      "text/plain": [
       "{'generated_text': [\"Hugh Jackman is a terrible icky, and I'm not sure if he's a good actor\"]}"
      ]
     },
     "execution_count": null,
     "metadata": {},
     "output_type": "execute_result"
    }
   ],
   "source": [
    "classifier.generate(\n",
    "    sentence,\n",
    "    model_name_or_path='good_model',\n",
    "    num_tokens_to_produce=13\n",
    ")"
   ]
  },
  {
   "cell_type": "markdown",
   "id": "qXsMgmQC2Qmt",
   "metadata": {},
   "source": [
    "And we got the exact same output!"
   ]
  }
 ],
 "metadata": {
  "kernelspec": {
   "display_name": "Python 3 (ipykernel)",
   "language": "python",
   "name": "python3"
  }
 },
 "nbformat": 4,
 "nbformat_minor": 5
}
