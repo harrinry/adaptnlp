{
 "cells": [
  {
   "cell_type": "code",
   "execution_count": null,
   "id": "53946cd5",
   "metadata": {},
   "outputs": [],
   "source": [
    "#all_slow"
   ]
  },
  {
   "cell_type": "markdown",
   "id": "ca157d7d",
   "metadata": {},
   "source": [
    "# Tutorial: Fine-Tuning a Language Model on CSV Files with IMDB\n",
    "> Tuning a base Language model on the IMDB dataset"
   ]
  },
  {
   "cell_type": "markdown",
   "id": "e17d8af2",
   "metadata": {},
   "source": [
    "## Introduction\n",
    "\n",
    "In this tutorial we will be showing an end-to-end example of fine-tuning a Transformer language model on a custom dataset in CSV file format.\n",
    "\n",
    "By the end of this you should be able to:\n",
    "\n",
    "1. Build a dataset with the `LanguageModelDatasets` class, and their DataLoaders\n",
    "2. Build a `LanguageModelTuner` quickly, find a good learning rate, and train with the One-Cycle Policy\n",
    "3. Save that model away, to be used with deployment or other HuggingFace libraries\n",
    "4. Apply inference using both the `Tuner` available function as well as with the `EasyTextGenerator` class within AdaptNLP"
   ]
  },
  {
   "cell_type": "markdown",
   "id": "3a44baa5",
   "metadata": {},
   "source": [
    "## Installing the Library"
   ]
  },
  {
   "cell_type": "code",
   "execution_count": null,
   "id": "8bc6b3cd",
   "metadata": {},
   "outputs": [],
   "source": [
    "# !pip install adaptnlp -U"
   ]
  },
  {
   "cell_type": "code",
   "execution_count": null,
   "id": "VOwOHNTgyJzY",
   "metadata": {},
   "outputs": [],
   "source": [
    "#hide\n",
    "from nbverbose.showdoc import *"
   ]
  },
  {
   "cell_type": "markdown",
   "id": "86de58d7",
   "metadata": {},
   "source": [
    "## Getting the Dataset"
   ]
  },
  {
   "cell_type": "markdown",
   "id": "2a039f4f",
   "metadata": {},
   "source": [
    "First we need a dataset. We will use the `fastai` library to download the `IMDB_SAMPLE` dataset, a subset of IMDB Movie Reviews."
   ]
  },
  {
   "cell_type": "code",
   "execution_count": null,
   "id": "82a2612b",
   "metadata": {},
   "outputs": [],
   "source": [
    "from fastai.data.external import URLs, untar_data"
   ]
  },
  {
   "cell_type": "markdown",
   "id": "a1f46366",
   "metadata": {},
   "source": [
    "`URLs` holds a namespace of many data endpoints, and `untar_data` is a function that can download and extract any data from a given URL.\n",
    "\n",
    "Combining both, we can download the data:"
   ]
  },
  {
   "cell_type": "code",
   "execution_count": null,
   "id": "bcc5510a",
   "metadata": {},
   "outputs": [],
   "source": [
    "data_path = untar_data(URLs.IMDB_SAMPLE)"
   ]
  },
  {
   "cell_type": "markdown",
   "id": "b9a3a4f8",
   "metadata": {},
   "source": [
    "If we look at what was downloaded, we will find a `texts.csv` file:"
   ]
  },
  {
   "cell_type": "code",
   "execution_count": null,
   "id": "b9683198",
   "metadata": {},
   "outputs": [
    {
     "data": {
      "text/plain": [
       "(#1) [Path('/root/.fastai/data/imdb_sample/texts.csv')]"
      ]
     },
     "execution_count": null,
     "metadata": {},
     "output_type": "execute_result"
    }
   ],
   "source": [
    "data_path.ls()"
   ]
  },
  {
   "cell_type": "markdown",
   "id": "79f0ec65",
   "metadata": {},
   "source": [
    "This is our data we want to use. This CSV is formatted with a table of columns with `label`, `text`, and `is_valid` dictating whether it is part of the validation set or not. \n",
    "\n",
    "Now that we have the dataset, and we know the format it is in, let's pick a viable model to train with"
   ]
  },
  {
   "cell_type": "markdown",
   "id": "320caa02",
   "metadata": {},
   "source": [
    "## Picking a Model with the Hub"
   ]
  },
  {
   "cell_type": "markdown",
   "id": "170b200d",
   "metadata": {},
   "source": [
    "AdaptNLP has a `HFModelHub` class that allows you to communicate with the HuggingFace Hub and pick a model from it, as well as a namespace `HF_TASKS` class with a list of valid tasks we can search by.\n",
    "\n",
    "Let's try and find one suitable for sequence classification.\n",
    "\n",
    "First we need to import the class and generate an instance of it:"
   ]
  },
  {
   "cell_type": "code",
   "execution_count": null,
   "id": "e6c1f6ab",
   "metadata": {},
   "outputs": [],
   "source": [
    "from adaptnlp import HFModelHub, HF_TASKS"
   ]
  },
  {
   "cell_type": "code",
   "execution_count": null,
   "id": "9460e9d8",
   "metadata": {},
   "outputs": [],
   "source": [
    "hub = HFModelHub()"
   ]
  },
  {
   "cell_type": "markdown",
   "id": "7ce5e54e",
   "metadata": {},
   "source": [
    "Next we can search for a model:"
   ]
  },
  {
   "cell_type": "code",
   "execution_count": null,
   "id": "1ded037a",
   "metadata": {},
   "outputs": [],
   "source": [
    "models = hub.search_model_by_task(HF_TASKS.TEXT_GENERATION)"
   ]
  },
  {
   "cell_type": "markdown",
   "id": "9fec0167",
   "metadata": {},
   "source": [
    "Let's look at a few:"
   ]
  },
  {
   "cell_type": "code",
   "execution_count": null,
   "id": "17717851",
   "metadata": {},
   "outputs": [
    {
     "data": {
      "text/plain": [
       "[Model Name: distilgpt2, Tasks: [text-generation],\n",
       " Model Name: gpt2-large, Tasks: [text-generation],\n",
       " Model Name: gpt2-medium, Tasks: [text-generation],\n",
       " Model Name: gpt2-xl, Tasks: [text-generation],\n",
       " Model Name: gpt2, Tasks: [text-generation],\n",
       " Model Name: openai-gpt, Tasks: [text-generation],\n",
       " Model Name: transfo-xl-wt103, Tasks: [text-generation],\n",
       " Model Name: xlnet-base-cased, Tasks: [text-generation],\n",
       " Model Name: xlnet-large-cased, Tasks: [text-generation]]"
      ]
     },
     "execution_count": null,
     "metadata": {},
     "output_type": "execute_result"
    }
   ],
   "source": [
    "models[:10]"
   ]
  },
  {
   "cell_type": "markdown",
   "id": "92cc23ba",
   "metadata": {},
   "source": [
    "These are models specifically tagged with the `text-generation` tag, so you may not see a few models you would expect such as `bert_base_cased`.\n",
    "\n",
    "We'll use that first model, `distilgpt2`:"
   ]
  },
  {
   "cell_type": "code",
   "execution_count": null,
   "id": "60e340d4",
   "metadata": {},
   "outputs": [],
   "source": [
    "model = models[0]"
   ]
  },
  {
   "cell_type": "code",
   "execution_count": null,
   "id": "9b29d210",
   "metadata": {},
   "outputs": [
    {
     "data": {
      "text/plain": [
       "Model Name: distilgpt2, Tasks: [text-generation]"
      ]
     },
     "execution_count": null,
     "metadata": {},
     "output_type": "execute_result"
    }
   ],
   "source": [
    "model"
   ]
  },
  {
   "cell_type": "markdown",
   "id": "a567732b",
   "metadata": {},
   "source": [
    "Now that we have picked a model, let's use the data API to prepare our data"
   ]
  },
  {
   "cell_type": "markdown",
   "id": "a52c80c1",
   "metadata": {},
   "source": [
    "> Note: It should be mentioned that this is optional, you can always just pass in the string name of a model such as \"bert-base-cased\""
   ]
  },
  {
   "cell_type": "markdown",
   "id": "b676253e",
   "metadata": {},
   "source": [
    "## Building `TaskDatasets` with `LanguageModelDatasets`"
   ]
  },
  {
   "cell_type": "markdown",
   "id": "7faa7c29",
   "metadata": {},
   "source": [
    "Each task has a high-level data wrapper around the `TaskDatasets` class. In our case this is the `LanguageModelDatasets` class:"
   ]
  },
  {
   "cell_type": "code",
   "execution_count": null,
   "id": "83994a53",
   "metadata": {},
   "outputs": [],
   "source": [
    "from adaptnlp import LanguageModelDatasets"
   ]
  },
  {
   "cell_type": "markdown",
   "id": "6965c387",
   "metadata": {},
   "source": [
    "There are multiple different constructors for the `LanguageModelDatasets` class, and you should never call the main constructor directly.\n",
    "\n",
    "We will be using `from_csvs`, which wraps around the `from_dfs` constructor:"
   ]
  },
  {
   "cell_type": "code",
   "execution_count": null,
   "id": "ce0cfe3a",
   "metadata": {},
   "outputs": [
    {
     "data": {
      "text/markdown": [
       "<h4 id=\"LanguageModelDatasets.from_csvs\" class=\"doc_header\"><code>LanguageModelDatasets.from_csvs</code><a href=\"https://github.com/novetta/adaptnlp/tree/master/adaptnlp/training/language_model.py#L123\" class=\"source_link\" style=\"float:right\">[source]</a></h4>\n",
       "\n",
       "> <code>LanguageModelDatasets.from_csvs</code>(**`train_csv`**:`Path`, **`text_col`**:`str`, **`tokenizer_name`**:`str`, **`block_size`**:`int`=*`128`*, **`masked_lm`**:`bool`=*`False`*, **`valid_csv`**:`Path`=*`None`*, **`split_func`**:`callable`=*`None`*, **`split_pct`**:`float`=*`0.1`*, **`tokenize_kwargs`**:`dict`=*`{}`*, **`auto_kwargs`**:`dict`=*`{}`*, **\\*\\*`kwargs`**)\n",
       "\n",
       "Builds [`LanguageModelDatasets`](/adaptnlp/training.language_model.html#LanguageModelDatasets) from a single csv or set of csvs. A convience constructor for `from_dfs`\n",
       "\n",
       "**Parameters:**\n",
       "\n",
       "\n",
       " - **`train_csv`** : *`<class 'pathlib.Path'>`*\t<p>A training csv file</p>\n",
       "\n",
       "\n",
       " - **`text_col`** : *`<class 'str'>`*\t<p>The name of the text column</p>\n",
       "\n",
       "\n",
       " - **`tokenizer_name`** : *`<class 'str'>`*\t<p>The name of the tokenizer</p>\n",
       "\n",
       "\n",
       " - **`block_size`** : *`<class 'int'>`*, *optional*\t<p>The size of each block</p>\n",
       "\n",
       "\n",
       " - **`masked_lm`** : *`<class 'bool'>`*, *optional*\t<p>Whether the language model is a MLM</p>\n",
       "\n",
       "\n",
       " - **`valid_csv`** : *`<class 'pathlib.Path'>`*, *optional*\t<p>An optional validation csv</p>\n",
       "\n",
       "\n",
       " - **`split_func`** : *`<built-in function callable>`*, *optional*\t<p>Optionally a splitting function similar to RandomSplitter</p>\n",
       "\n",
       "\n",
       " - **`split_pct`** : *`<class 'float'>`*, *optional*\t<p>What % to split the df between training and validation</p>\n",
       "\n",
       "\n",
       " - **`tokenize_kwargs`** : *`<class 'dict'>`*, *optional*\t<p>kwargs for the tokenize function</p>\n",
       "\n",
       "\n",
       " - **`auto_kwargs`** : *`<class 'dict'>`*, *optional*\t<p>kwargs for the AutoTokenizer.from_pretrained constructor</p>\n",
       "\n",
       "\n",
       " - **`kwargs`** : *`<class 'inspect._empty'>`*\n"
      ],
      "text/plain": [
       "<IPython.core.display.Markdown object>"
      ]
     },
     "metadata": {},
     "output_type": "display_data"
    }
   ],
   "source": [
    "from adaptnlp import LanguageModelDatasets\n",
    "show_doc(LanguageModelDatasets.from_csvs)"
   ]
  },
  {
   "cell_type": "markdown",
   "id": "a224521a",
   "metadata": {},
   "source": [
    "Anything you would normally pass to the tokenizer call (such as `max_length`, `padding`) should go in `tokenize_kwargs`, and anything going to the `AutoTokenizer.from_pretrained` constructor should be passed to the `auto_kwargs`.\n",
    "\n",
    "In our case we only have a `train_csv` and we have a tokenizer name. We also want to split 90%/10% (which is the default)"
   ]
  },
  {
   "cell_type": "markdown",
   "id": "e805e1a8",
   "metadata": {},
   "source": [
    "Also, we will set a block_size of 128, and it is *not* a masked language model:"
   ]
  },
  {
   "cell_type": "code",
   "execution_count": null,
   "id": "497cf7f7",
   "metadata": {},
   "outputs": [
    {
     "name": "stdout",
     "output_type": "stream",
     "text": [
      "No value for `max_length` set, automatically adjusting to the size of the model and including truncation\n",
      "Sequence length set to: 1024\n"
     ]
    },
    {
     "data": {
      "application/vnd.jupyter.widget-view+json": {
       "model_id": "3d3cde4f1f1e432580d15e1c960ae92b",
       "version_major": 2,
       "version_minor": 0
      },
      "text/plain": [
       "HBox(children=(FloatProgress(value=0.0, max=1.0), HTML(value='')))"
      ]
     },
     "metadata": {},
     "output_type": "display_data"
    },
    {
     "name": "stdout",
     "output_type": "stream",
     "text": [
      "\n"
     ]
    },
    {
     "data": {
      "application/vnd.jupyter.widget-view+json": {
       "model_id": "895a1b4370f443f68d8c521f92e8f3d1",
       "version_major": 2,
       "version_minor": 0
      },
      "text/plain": [
       "HBox(children=(FloatProgress(value=0.0, max=1.0), HTML(value='')))"
      ]
     },
     "metadata": {},
     "output_type": "display_data"
    },
    {
     "name": "stdout",
     "output_type": "stream",
     "text": [
      "\n"
     ]
    },
    {
     "data": {
      "application/vnd.jupyter.widget-view+json": {
       "model_id": "6bcffb00578646638fac3ae4f62f29df",
       "version_major": 2,
       "version_minor": 0
      },
      "text/plain": [
       "HBox(children=(FloatProgress(value=0.0, max=1.0), HTML(value='')))"
      ]
     },
     "metadata": {},
     "output_type": "display_data"
    },
    {
     "name": "stdout",
     "output_type": "stream",
     "text": [
      "\n"
     ]
    },
    {
     "data": {
      "application/vnd.jupyter.widget-view+json": {
       "model_id": "2cd7899c41c2492aa2bd2da2785a834e",
       "version_major": 2,
       "version_minor": 0
      },
      "text/plain": [
       "HBox(children=(FloatProgress(value=0.0, max=1.0), HTML(value='')))"
      ]
     },
     "metadata": {},
     "output_type": "display_data"
    },
    {
     "name": "stdout",
     "output_type": "stream",
     "text": [
      "\n"
     ]
    }
   ],
   "source": [
    "dsets = LanguageModelDatasets.from_csvs(\n",
    "    train_csv=data_path/'texts.csv',\n",
    "    text_col='text',\n",
    "    tokenizer_name=model.name,\n",
    "    block_size=128,\n",
    "    masked_lm=False\n",
    ")"
   ]
  },
  {
   "cell_type": "markdown",
   "id": "6eebf5ec",
   "metadata": {},
   "source": [
    "> Note: If you have a training and validation CSV, simply pass in the validation CSV path as `valid_csv=path/to/validation_dataset.csv` and do not pass in any `split_func` or `split_pct`. Everything else is the exact same"
   ]
  },
  {
   "cell_type": "markdown",
   "id": "4faae30d",
   "metadata": {},
   "source": [
    "And finally turn it into some `AdaptiveDataLoaders`.\n",
    "\n",
    "These are just fastai's `DataLoaders` class, but it overrides a few functions to have it work nicely with HuggingFace's `Dataset` class"
   ]
  },
  {
   "cell_type": "code",
   "execution_count": null,
   "id": "08cc36db",
   "metadata": {},
   "outputs": [
    {
     "data": {
      "text/markdown": [
       "<h4 id=\"TaskDatasets.dataloaders\" class=\"doc_header\"><code>TaskDatasets.dataloaders</code><a href=\"https://github.com/novetta/adaptnlp/tree/master/adaptnlp/training/core.py#L246\" class=\"source_link\" style=\"float:right\">[source]</a></h4>\n",
       "\n",
       "> <code>TaskDatasets.dataloaders</code>(**`batch_size`**:`int`=*`8`*, **`shuffle_train`**:`bool`=*`True`*, **`collate_fn`**:`callable`=*`None`*, **`path`**=*`'.'`*, **`device`**=*`None`*)\n",
       "\n",
       "Creates `DataLoaders` from the dataset\n",
       "\n",
       "**Function Arguments**:\n",
       "* `batch_size` (`int`): A batch size\n",
       "* `shuffle_train` (`bool`): Whether to shuffle the training dataset\n",
       "* `collate_fn` (`callable `): A custom collation function\n"
      ],
      "text/plain": [
       "<IPython.core.display.Markdown object>"
      ]
     },
     "metadata": {},
     "output_type": "display_data"
    }
   ],
   "source": [
    "show_doc(LanguageModelDatasets.dataloaders)"
   ]
  },
  {
   "cell_type": "code",
   "execution_count": null,
   "id": "031a26b4",
   "metadata": {},
   "outputs": [],
   "source": [
    "dls = dsets.dataloaders(batch_size=8)"
   ]
  },
  {
   "cell_type": "markdown",
   "id": "91df0c08",
   "metadata": {},
   "source": [
    "Finally, let's view a batch of data with the `show_batch` function:"
   ]
  },
  {
   "cell_type": "code",
   "execution_count": null,
   "id": "965ad300",
   "metadata": {},
   "outputs": [
    {
     "data": {
      "text/html": [
       "<table border=\"1\" class=\"dataframe\">\n",
       "  <thead>\n",
       "    <tr style=\"text-align: right;\">\n",
       "      <th></th>\n",
       "      <th>Input</th>\n",
       "      <th>Label</th>\n",
       "    </tr>\n",
       "  </thead>\n",
       "  <tbody>\n",
       "    <tr>\n",
       "      <th>0</th>\n",
       "      <td>night.&lt;br /&gt;&lt;br /&gt;The fact that Todd Sheets seriously considers Zombie Bloodbath to be THAT superior to Zombie Rampage, amuses me to no end. I mean really, both are complete jokes on celluloid, but then again, so is Redneck Zombies, so, obviously Todd Sheets is in the company of awsomeness. By 1993, a movie this bad would no doubt, be a full-blast spoof, but Mr. Sheets stands his ground, giving us some good old fashion schlock, the way it was meant to be, unaware, clueless, and pointless. God bless Todd Sheets. For anyone seeking surprisingly worthwhile 90's B-Horror, Leif Jonker's Darkness should be at the top of your list. As for Zombie Bloodbath, if you're a gorehound who got bored sometime around 1990, then '93 would be the perfect time to pick up. 8/10I couldn't believe it. I had to rub my eyes a few times. Was it true? &lt;br /&gt;&lt;br /&gt;Yes, there were Billy Dee Williams, Jeff Conaway, Maxwell Caulfield and Tracy Scoggins - all of them have some manner of talent but here they all were in what basically adds up to a Cinemax-style skin flick set on board a spaceship!&lt;br /&gt;&lt;br /&gt;Sad as it is, \"Alien Intruder\" tries to be unique, with a computer virus/alien demon/harpy/whatever else you want to call her named Ariel (Scoggins) infiltrating this sort-of high-tech virtual reality station on board a spaceship where four men are allowed to live out their fantasies as the system is over-seen by their captain (Williams).&lt;br /&gt;&lt;br /&gt;Interesting? Maybe, but here everything just plays out like a well-padded episode of \"Red Shoe Diaries\". Williams out-classes everything right and left, and looks like he'd rather be doing anything else, ANYWHERE else. Ah, the things people do for money....&lt;br /&gt;&lt;br /&gt;The FX are pretty static, maybe even less than what you'd expect for a straight-to-video cheapie like this. Unfortunately, even the female nudity is less than you'd expect. SEXUAL INNUENDO is the real star here and, of course, it gets ALL the best scenes.&lt;br /&gt;&lt;br /&gt;If you like a movie that's all tease and no brains, check out \"</td>\n",
       "      <td>night.&lt;br /&gt;&lt;br /&gt;The fact that Todd Sheets seriously considers Zombie Bloodbath to be THAT superior to Zombie Rampage, amuses me to no end. I mean really, both are complete jokes on celluloid, but then again, so is Redneck Zombies, so, obviously Todd Sheets is in the company of awsomeness. By 1993, a movie this bad would no doubt, be a full-blast spoof, but Mr. Sheets stands his ground, giving us some good old fashion schlock, the way it was meant to be, unaware, clueless, and pointless. God bless Todd Sheets. For anyone seeking surprisingly worthwhile 90's B-Horror, Leif Jonker's Darkness should be at the top of your list. As for Zombie Bloodbath, if you're a gorehound who got bored sometime around 1990, then '93 would be the perfect time to pick up. 8/10I couldn't believe it. I had to rub my eyes a few times. Was it true? &lt;br /&gt;&lt;br /&gt;Yes, there were Billy Dee Williams, Jeff Conaway, Maxwell Caulfield and Tracy Scoggins - all of them have some manner of talent but here they all were in what basically adds up to a Cinemax-style skin flick set on board a spaceship!&lt;br /&gt;&lt;br /&gt;Sad as it is, \"Alien Intruder\" tries to be unique, with a computer virus/alien demon/harpy/whatever else you want to call her named Ariel (Scoggins) infiltrating this sort-of high-tech virtual reality station on board a spaceship where four men are allowed to live out their fantasies as the system is over-seen by their captain (Williams).&lt;br /&gt;&lt;br /&gt;Interesting? Maybe, but here everything just plays out like a well-padded episode of \"Red Shoe Diaries\". Williams out-classes everything right and left, and looks like he'd rather be doing anything else, ANYWHERE else. Ah, the things people do for money....&lt;br /&gt;&lt;br /&gt;The FX are pretty static, maybe even less than what you'd expect for a straight-to-video cheapie like this. Unfortunately, even the female nudity is less than you'd expect. SEXUAL INNUENDO is the real star here and, of course, it gets ALL the best scenes.&lt;br /&gt;&lt;br /&gt;If you like a movie that's all tease and no brains, check out \"</td>\n",
       "    </tr>\n",
       "    <tr>\n",
       "      <th>1</th>\n",
       "      <td>on a three- or four-day leave. Joe is the \"Sea Wolf\" and Clarence, the bookish type, begs Joe to get him a \"dame\". Now, after they're picked up by the coppers they get little Donald home. That's where they meet Susie, that temptress, that jezebel. Just kidding! Clarence falls in love with her. At least he thinks he does. Is he right? Or is he a moron? Or is he just misguided by society? Find out all this and more when you watch {trumpet fanfare} ANCHORS AWEIGH!&lt;br /&gt;&lt;br /&gt;P.S. If you want to see Kathryn Grayson be anything but sickeningly sweet, try Kiss Me Kate (1953).A fun concept, but poorly executed. Except for the fairly good makeup effects, there's really not much to it. There are obvious problems; for example, after taking what seems to be weeks and weeks to get from fat to normal size, the main character seems to go from normal size to deathly thin in days... and once he's deathly thin he stays pretty much equally deathly thin for what seems to be a long time.&lt;br /&gt;&lt;br /&gt;In any case, the movie has far worse problems than that--the cinematography is decidedly low-budget-TV-show quality and most of all the acting is pretty awful all around. Robert John Burke seems to always be trying for some kind of weird snarling Charlton Heston impersonation and is literally painful to watch... the only scary thing is that Lucinda Jenney and Kari Wuhrer are both even worse.&lt;br /&gt;&lt;br /&gt;The only reason why I'm giving this movie as high as I am is that once the movie enters its last 1/3 or so and Joe Mantegna's character takes over, the movie develops a fun, campy 'cheesefest slaughterhouse' feel, and the gangster's crazy schemes for tormenting the totally obnoxious gypsies are somewhat fun to watch. The ending, if predictable, is also nicely mean. Avoid unless you're a King-o-Phile or are REALLY psyched up at the idea of the voice of Fat Tony from the Simpsons terrorizing a gypsy camp.December holiday specials, like the original Frosty, ought to be richly-produced with quality music and a wholesome, yet lighthearted storyline. They should have a touch of the mystical magic of the</td>\n",
       "      <td>on a three- or four-day leave. Joe is the \"Sea Wolf\" and Clarence, the bookish type, begs Joe to get him a \"dame\". Now, after they're picked up by the coppers they get little Donald home. That's where they meet Susie, that temptress, that jezebel. Just kidding! Clarence falls in love with her. At least he thinks he does. Is he right? Or is he a moron? Or is he just misguided by society? Find out all this and more when you watch {trumpet fanfare} ANCHORS AWEIGH!&lt;br /&gt;&lt;br /&gt;P.S. If you want to see Kathryn Grayson be anything but sickeningly sweet, try Kiss Me Kate (1953).A fun concept, but poorly executed. Except for the fairly good makeup effects, there's really not much to it. There are obvious problems; for example, after taking what seems to be weeks and weeks to get from fat to normal size, the main character seems to go from normal size to deathly thin in days... and once he's deathly thin he stays pretty much equally deathly thin for what seems to be a long time.&lt;br /&gt;&lt;br /&gt;In any case, the movie has far worse problems than that--the cinematography is decidedly low-budget-TV-show quality and most of all the acting is pretty awful all around. Robert John Burke seems to always be trying for some kind of weird snarling Charlton Heston impersonation and is literally painful to watch... the only scary thing is that Lucinda Jenney and Kari Wuhrer are both even worse.&lt;br /&gt;&lt;br /&gt;The only reason why I'm giving this movie as high as I am is that once the movie enters its last 1/3 or so and Joe Mantegna's character takes over, the movie develops a fun, campy 'cheesefest slaughterhouse' feel, and the gangster's crazy schemes for tormenting the totally obnoxious gypsies are somewhat fun to watch. The ending, if predictable, is also nicely mean. Avoid unless you're a King-o-Phile or are REALLY psyched up at the idea of the voice of Fat Tony from the Simpsons terrorizing a gypsy camp.December holiday specials, like the original Frosty, ought to be richly-produced with quality music and a wholesome, yet lighthearted storyline. They should have a touch of the mystical magic of the</td>\n",
       "    </tr>\n",
       "    <tr>\n",
       "      <th>2</th>\n",
       "      <td>from a cinema.&lt;br /&gt;&lt;br /&gt;Paul Greengrass's dispassionate style worked exceptionally well on United 93 which was a sentiment overload desperate to happen, but on Bourne and his interminable woes it just has the effect of removing the audience from involvement with the character. He runs. He jumps. He punches. He gets blown up. He clears tall buildings. Yada yada yada. Above all - he SURVIVES. He survives like a plastic Action Man survives, which only makes the ridiculous stunts he pulls all the more slack and lacking in any kind of tension. So he drives off a building? So what? He'll survive. Yawn.&lt;br /&gt;&lt;br /&gt;There's a girl thrown into the mix because Bourne's love interest died in a previous incarnation, but she's just decor. I've seen more character depth and snappy dialogue in episodes of Captain Scarlet.&lt;br /&gt;&lt;br /&gt;Bourne's own journey of literal self-discovery is dull and formless and tells us nothing we didn't know from the first movie. He was turned into a killing machine. Big deal. He finds out his true identity. So what? It doesn't have any emotional resonance when it comes.&lt;br /&gt;&lt;br /&gt;The 'twist' ending is telegraphed and weak. Oh, dear, the more I think about this film the more I hate it! I've already reduced my score to 4 during the writing of this comment! I'd better end now before the slide continues.&lt;br /&gt;&lt;br /&gt;I love a good action flick and I love a good thriller. The Bourne Ultimatum is neither. It's a loud, tedious series of flashy edits, ridiculous sound effects and cartoon violence. &lt;br /&gt;&lt;br /&gt;The idea that it'shows the way' to the Bond franchise is utter crap. Casino Royale blows it out of the water.A Give this Movie a 10/10 because it deserves a 10/10. Two of the best actors of their time-Walter Matthau &amp; George Burns collaborate with Neil Simon and all of the other actors that are in this film + director Herbert Ross, and all of that makes this stage adaption come true. The Sunshine Boys is one of the best films of the 70's. I love the type of humor in this film, it just makes me laugh so hard.&lt;br /&gt;&lt;br /&gt;I got this movie on VHS 3 days ago (yes, VHS because it was cheaper-only</td>\n",
       "      <td>from a cinema.&lt;br /&gt;&lt;br /&gt;Paul Greengrass's dispassionate style worked exceptionally well on United 93 which was a sentiment overload desperate to happen, but on Bourne and his interminable woes it just has the effect of removing the audience from involvement with the character. He runs. He jumps. He punches. He gets blown up. He clears tall buildings. Yada yada yada. Above all - he SURVIVES. He survives like a plastic Action Man survives, which only makes the ridiculous stunts he pulls all the more slack and lacking in any kind of tension. So he drives off a building? So what? He'll survive. Yawn.&lt;br /&gt;&lt;br /&gt;There's a girl thrown into the mix because Bourne's love interest died in a previous incarnation, but she's just decor. I've seen more character depth and snappy dialogue in episodes of Captain Scarlet.&lt;br /&gt;&lt;br /&gt;Bourne's own journey of literal self-discovery is dull and formless and tells us nothing we didn't know from the first movie. He was turned into a killing machine. Big deal. He finds out his true identity. So what? It doesn't have any emotional resonance when it comes.&lt;br /&gt;&lt;br /&gt;The 'twist' ending is telegraphed and weak. Oh, dear, the more I think about this film the more I hate it! I've already reduced my score to 4 during the writing of this comment! I'd better end now before the slide continues.&lt;br /&gt;&lt;br /&gt;I love a good action flick and I love a good thriller. The Bourne Ultimatum is neither. It's a loud, tedious series of flashy edits, ridiculous sound effects and cartoon violence. &lt;br /&gt;&lt;br /&gt;The idea that it'shows the way' to the Bond franchise is utter crap. Casino Royale blows it out of the water.A Give this Movie a 10/10 because it deserves a 10/10. Two of the best actors of their time-Walter Matthau &amp; George Burns collaborate with Neil Simon and all of the other actors that are in this film + director Herbert Ross, and all of that makes this stage adaption come true. The Sunshine Boys is one of the best films of the 70's. I love the type of humor in this film, it just makes me laugh so hard.&lt;br /&gt;&lt;br /&gt;I got this movie on VHS 3 days ago (yes, VHS because it was cheaper-only</td>\n",
       "    </tr>\n",
       "    <tr>\n",
       "      <th>3</th>\n",
       "      <td>my initial reaction when the credits started but just over an hour and a half later I was in a state of shock. What a superb movie &lt;br /&gt;&lt;br /&gt;The story starts on the day of the wedding between Sean Cloney and Sheila Kelly in the 1950s. There is a slight problem since they're getting married in the catholic church and that is Sheila is a protestant but in order for the wedding to happen Sheila takes a pledge that her children will be brought up catholic and attend the catholic school when they're old enough. The story - Which is set in the 1950s - then jumps forward a few years when the Cloney daughters are about to start school but Sheila has decided they'll be attending the local protestant school much to the disgust of local priest Father Stafford. From there things escalate &lt;br /&gt;&lt;br /&gt;Let me put my cards on the table and state that despite having both Irish catholic and Scottish protestant heritage I was brought up as agnostic and have considered myself as an atheist throughout my adult life. In fact when it comes to religion I consider myself a Marxist and religion is a cynical weapon used to manipulate people. A LOVE DIVIDED shows what happens when self appointed moral guardians take it upon themselves to tell other people what to think and believe. May I have the temerity to state that if Karl Marx saw this movie he'd love it and call it a masterpiece? Perhaps I shouldn't since the drama of this story shows what happens when other people do your thinking for you &lt;br /&gt;&lt;br /&gt;In reply to the couple of reviewers who have claimed this movie is propaganda of the worst sort I don't claim to know the exact details of what happened in County Wexford and there's no denying that Father Stafford and his flock of catholic sheep are portrayed as being the bad guys but Sheila isn't blameless herself. Think about a woman living in a rural village in 1950s Ireland who takes a pledge to bring her children up as catholics then changes her mind and believes there will be no consequences of this? This is a warning against taking pledges and not keeping to them. Not only that but she disappears to let other people pick up the pieces of their shattered lives. There's also something that no one else has picked up upon and that is that the only character with any type of moral sense is former IRA man Andy Bailey who is shown as being gallant not because he was a former IRA member ( That makes a change. We're not talking about THE DEVIL</td>\n",
       "      <td>my initial reaction when the credits started but just over an hour and a half later I was in a state of shock. What a superb movie &lt;br /&gt;&lt;br /&gt;The story starts on the day of the wedding between Sean Cloney and Sheila Kelly in the 1950s. There is a slight problem since they're getting married in the catholic church and that is Sheila is a protestant but in order for the wedding to happen Sheila takes a pledge that her children will be brought up catholic and attend the catholic school when they're old enough. The story - Which is set in the 1950s - then jumps forward a few years when the Cloney daughters are about to start school but Sheila has decided they'll be attending the local protestant school much to the disgust of local priest Father Stafford. From there things escalate &lt;br /&gt;&lt;br /&gt;Let me put my cards on the table and state that despite having both Irish catholic and Scottish protestant heritage I was brought up as agnostic and have considered myself as an atheist throughout my adult life. In fact when it comes to religion I consider myself a Marxist and religion is a cynical weapon used to manipulate people. A LOVE DIVIDED shows what happens when self appointed moral guardians take it upon themselves to tell other people what to think and believe. May I have the temerity to state that if Karl Marx saw this movie he'd love it and call it a masterpiece? Perhaps I shouldn't since the drama of this story shows what happens when other people do your thinking for you &lt;br /&gt;&lt;br /&gt;In reply to the couple of reviewers who have claimed this movie is propaganda of the worst sort I don't claim to know the exact details of what happened in County Wexford and there's no denying that Father Stafford and his flock of catholic sheep are portrayed as being the bad guys but Sheila isn't blameless herself. Think about a woman living in a rural village in 1950s Ireland who takes a pledge to bring her children up as catholics then changes her mind and believes there will be no consequences of this? This is a warning against taking pledges and not keeping to them. Not only that but she disappears to let other people pick up the pieces of their shattered lives. There's also something that no one else has picked up upon and that is that the only character with any type of moral sense is former IRA man Andy Bailey who is shown as being gallant not because he was a former IRA member ( That makes a change. We're not talking about THE DEVIL</td>\n",
       "    </tr>\n",
       "    <tr>\n",
       "      <th>4</th>\n",
       "      <td>. Just when your thinking its going to get boring they throw a twist at you. Luckily this isn't a long movie and doesn't feel like it either. Much better then the other flight movie Flight Plan.&lt;br /&gt;&lt;br /&gt;Here is my Flight Plan comment: http://www.imdb.com/title/tt0408790/usercomments-578&lt;br /&gt;&lt;br /&gt;I recommend. Not too long and not too shabby.&lt;br /&gt;&lt;br /&gt;8/10This movie lacked... everything: story, acting, surprise, ingenuity and a soul. Fifteen minutes in, I was staring at the screen saying, \"How could all of these guys get together and consider themselves friends (even without the girl)?\" Another fifteen minutes in, I was praying for as much Amanda Peet as possible. When a bad movie quietly rears it's ugly head, eye candy is a nice consolation. But there wasn't much of that! Cheated on all fronts!I'm still trying to figure out if there was a point to this film.&lt;br /&gt;&lt;br /&gt;For content that's supposed to be so'rebellious' and 'controversial' the things that Maddox distributes to the students are awfully lame. Students seem to be easily swayed by vague anti-authoritarian sentiments and snippets of words illegibly scrawled onto leaflets. Rebel, everybody.&lt;br /&gt;&lt;br /&gt;I suppose it would have been too much to ask to have a teenage rebellion film where a school fire alarm doesn't get set off.&lt;br /&gt;&lt;br /&gt;Apparently a 'huge fight up on the football fields' is a fight that consists of two people.&lt;br /&gt;&lt;br /&gt;Characters personalities seem to wildly vary at random. A football jock who Maddox was fighting (and who subsequently got a staple on the face) is all smiles and apologies the next day.&lt;br /&gt;&lt;br /&gt;The fact that it doesn't come to any real conclusion of the plot makes me feel that the whole thing could have been fitted into a half hour after school special. If they had cut most of the attempted pseudo-glitch soundtrack.i've seen a movie thats sort of like this, were a transsexual drugs woman and he then picks there nose with a knife and rips there nose to peaces. he then slices there tongue and eats it.&lt;br /&gt;&lt;br /&gt;the most gruesome part of the movie is were he cuts there left eye out and starts dancing with it. he then starts to eat the woman naked.&lt;br</td>\n",
       "      <td>. Just when your thinking its going to get boring they throw a twist at you. Luckily this isn't a long movie and doesn't feel like it either. Much better then the other flight movie Flight Plan.&lt;br /&gt;&lt;br /&gt;Here is my Flight Plan comment: http://www.imdb.com/title/tt0408790/usercomments-578&lt;br /&gt;&lt;br /&gt;I recommend. Not too long and not too shabby.&lt;br /&gt;&lt;br /&gt;8/10This movie lacked... everything: story, acting, surprise, ingenuity and a soul. Fifteen minutes in, I was staring at the screen saying, \"How could all of these guys get together and consider themselves friends (even without the girl)?\" Another fifteen minutes in, I was praying for as much Amanda Peet as possible. When a bad movie quietly rears it's ugly head, eye candy is a nice consolation. But there wasn't much of that! Cheated on all fronts!I'm still trying to figure out if there was a point to this film.&lt;br /&gt;&lt;br /&gt;For content that's supposed to be so'rebellious' and 'controversial' the things that Maddox distributes to the students are awfully lame. Students seem to be easily swayed by vague anti-authoritarian sentiments and snippets of words illegibly scrawled onto leaflets. Rebel, everybody.&lt;br /&gt;&lt;br /&gt;I suppose it would have been too much to ask to have a teenage rebellion film where a school fire alarm doesn't get set off.&lt;br /&gt;&lt;br /&gt;Apparently a 'huge fight up on the football fields' is a fight that consists of two people.&lt;br /&gt;&lt;br /&gt;Characters personalities seem to wildly vary at random. A football jock who Maddox was fighting (and who subsequently got a staple on the face) is all smiles and apologies the next day.&lt;br /&gt;&lt;br /&gt;The fact that it doesn't come to any real conclusion of the plot makes me feel that the whole thing could have been fitted into a half hour after school special. If they had cut most of the attempted pseudo-glitch soundtrack.i've seen a movie thats sort of like this, were a transsexual drugs woman and he then picks there nose with a knife and rips there nose to peaces. he then slices there tongue and eats it.&lt;br /&gt;&lt;br /&gt;the most gruesome part of the movie is were he cuts there left eye out and starts dancing with it. he then starts to eat the woman naked.&lt;br</td>\n",
       "    </tr>\n",
       "  </tbody>\n",
       "</table>"
      ],
      "text/plain": [
       "<IPython.core.display.HTML object>"
      ]
     },
     "metadata": {},
     "output_type": "display_data"
    }
   ],
   "source": [
    "dls.show_batch()"
   ]
  },
  {
   "cell_type": "markdown",
   "id": "e0666f8d",
   "metadata": {},
   "source": [
    "When training a language model, the input and output are made to be the exact same, so there isn't a shown noticable difference here."
   ]
  },
  {
   "cell_type": "markdown",
   "id": "586172ad",
   "metadata": {},
   "source": [
    "## Building `Tuner`"
   ]
  },
  {
   "cell_type": "markdown",
   "id": "23e2d9bf",
   "metadata": {},
   "source": [
    "Next we need to build a compatible `Tuner` for our problem. These tuners contain good defaults for our problem space, including loss functions and metrics.\n",
    "\n",
    "First let's import the `LanguageModelTuner` and view it's documentation"
   ]
  },
  {
   "cell_type": "code",
   "execution_count": null,
   "id": "c54d78db",
   "metadata": {},
   "outputs": [],
   "source": [
    "from adaptnlp import LanguageModelTuner"
   ]
  },
  {
   "cell_type": "code",
   "execution_count": null,
   "id": "WRxJWveszSmY",
   "metadata": {},
   "outputs": [
    {
     "data": {
      "text/markdown": [
       "<h2 id=\"LanguageModelTuner\" class=\"doc_header\"><code>class</code> <code>LanguageModelTuner</code><a href=\"https://github.com/novetta/adaptnlp/tree/master/adaptnlp/training/language_model.py#L224\" class=\"source_link\" style=\"float:right\">[source]</a></h2>\n",
       "\n",
       "> <code>LanguageModelTuner</code>(**`dls`**:`DataLoaders`, **`model_name`**, **`tokenizer`**=*`None`*, **`language_model_type`**:`LMType`=*`'causal'`*, **`loss_func`**=*`CrossEntropyLoss()`*, **`metrics`**=*`[<fastai.metrics.Perplexity object at 0x7f69c372c370>]`*, **`opt_func`**=*`Adam`*, **`additional_cbs`**=*`None`*, **`expose_fastai_api`**=*`False`*, **\\*\\*`kwargs`**) :: [`AdaptiveTuner`](/adaptnlp/training.core.html#AdaptiveTuner)\n",
       "\n",
       "An [`AdaptiveTuner`](/adaptnlp/training.core.html#AdaptiveTuner) with good defaults for Language Model fine-tuning\n",
       "**Valid kwargs and defaults:**\n",
       "  - `lr`:float = 0.001\n",
       "  - `splitter`:function = `trainable_params`\n",
       "  - `cbs`:list = None\n",
       "  - `path`:Path = None\n",
       "  - `model_dir`:Path = 'models'\n",
       "  - `wd`:float = None\n",
       "  - `wd_bn_bias`:bool = False\n",
       "  - `train_bn`:bool = True\n",
       "  - `moms`: tuple(float) = (0.95, 0.85, 0.95)\n",
       "\n",
       "**Function Arguments**:\n",
       "* `dls` (`DataLoaders`): A set of DataLoaders or AdaptiveDataLoaders\n",
       "* `model_name`: A HuggingFace model\n",
       "* `language_model_type` (`LMType `): The type of language model to use\n",
       "* `**kwargs`: kwargs for `Learner.__init__`\n",
       "* `**kwargs`: Optional arguments for `PretrainedModel.generate`\n"
      ],
      "text/plain": [
       "<IPython.core.display.Markdown object>"
      ]
     },
     "metadata": {},
     "output_type": "display_data"
    }
   ],
   "source": [
    "from adaptnlp import LanguageModelTuner\n",
    "show_doc(LanguageModelTuner)"
   ]
  },
  {
   "cell_type": "markdown",
   "id": "UXvHCw5HzVil",
   "metadata": {},
   "source": [
    "Next we'll pass in our `DataLoaders`, the name of our model, and the tokenizer:"
   ]
  },
  {
   "cell_type": "markdown",
   "id": "1efac2b5",
   "metadata": {},
   "source": [
    "> Note: If you are not using the data API (`TaskDatasets`, `SequenceClassificationDatasets`, etc), you need to pass in the tokenizer to the constructor as well with `tokenizer=tokenizer`"
   ]
  },
  {
   "cell_type": "code",
   "execution_count": null,
   "id": "k-gczguJzSjM",
   "metadata": {},
   "outputs": [],
   "source": [
    "tuner = LanguageModelTuner(dls, model.name, dls.tokenizer)"
   ]
  },
  {
   "cell_type": "markdown",
   "id": "9rAi8TF5zfPz",
   "metadata": {},
   "source": [
    "By default we can see that it used `CrossEntropyLoss` as our loss function, and `Perplexity` as our metric"
   ]
  },
  {
   "cell_type": "code",
   "execution_count": null,
   "id": "QTyxXImizjxC",
   "metadata": {},
   "outputs": [
    {
     "data": {
      "text/plain": [
       "FlattenedLoss of CrossEntropyLoss()"
      ]
     },
     "execution_count": null,
     "metadata": {},
     "output_type": "execute_result"
    }
   ],
   "source": [
    "tuner.loss_func"
   ]
  },
  {
   "cell_type": "code",
   "execution_count": null,
   "id": "x_PEmOXAzlAE",
   "metadata": {},
   "outputs": [
    {
     "name": "stdout",
     "output_type": "stream",
     "text": [
      "perplexity\n"
     ]
    }
   ],
   "source": [
    "_ = [print(m.name) for m in tuner.metrics]"
   ]
  },
  {
   "cell_type": "markdown",
   "id": "dl-tqB5uzq1k",
   "metadata": {},
   "source": [
    "Finally we just need to train our model!"
   ]
  },
  {
   "cell_type": "markdown",
   "id": "33dd944d",
   "metadata": {},
   "source": [
    "## Fine-Tuning"
   ]
  },
  {
   "cell_type": "markdown",
   "id": "2e9ec17d",
   "metadata": {},
   "source": [
    "To fine-tune, AdaptNLP's tuner class provides only a few functions to work with. The important ones are the `tune` and `lr_find` class.\n",
    "\n",
    "As the `Tuner` uses `fastai` under the hood, `lr_find` calls fastai's Learning Rate Finder to help us pick a learning rate. Let's do that now:"
   ]
  },
  {
   "cell_type": "code",
   "execution_count": null,
   "id": "ZTaeO5Vm0P-h",
   "metadata": {},
   "outputs": [
    {
     "data": {
      "text/markdown": [
       "<h4 id=\"AdaptiveTuner.lr_find\" class=\"doc_header\"><code>AdaptiveTuner.lr_find</code><a href=\"https://github.com/novetta/adaptnlp/tree/master/adaptnlp/training/core.py#L383\" class=\"source_link\" style=\"float:right\">[source]</a></h4>\n",
       "\n",
       "> <code>AdaptiveTuner.lr_find</code>(**`start_lr`**=*`1e-07`*, **`end_lr`**=*`10`*, **`num_it`**=*`100`*, **`stop_div`**=*`True`*, **`show_plot`**=*`True`*, **`suggest_funcs`**=*`valley`*)\n",
       "\n",
       "Runs fastai's `LR Finder`\n",
       "\n"
      ],
      "text/plain": [
       "<IPython.core.display.Markdown object>"
      ]
     },
     "metadata": {},
     "output_type": "display_data"
    }
   ],
   "source": [
    "show_doc(LanguageModelTuner.lr_find)"
   ]
  },
  {
   "cell_type": "code",
   "execution_count": null,
   "id": "2oWmrMic0H0z",
   "metadata": {},
   "outputs": [
    {
     "data": {
      "text/html": [],
      "text/plain": [
       "<IPython.core.display.HTML object>"
      ]
     },
     "metadata": {},
     "output_type": "display_data"
    },
    {
     "name": "stderr",
     "output_type": "stream",
     "text": [
      "/opt/venv/lib/python3.8/site-packages/fastai/callback/schedule.py:270: UserWarning: color is redundantly defined by the 'color' keyword argument and the fmt string \"ro\" (-> color='r'). The keyword argument will take precedence.\n",
      "  ax.plot(val, idx, 'ro', label=nm, c=color)\n"
     ]
    },
    {
     "data": {
      "text/plain": [
       "SuggestedLRs(valley=6.30957365501672e-05)"
      ]
     },
     "execution_count": null,
     "metadata": {},
     "output_type": "execute_result"
    },
    {
     "data": {
      "image/png": "[encoded data removed]",
      "text/plain": [
       "<Figure size 432x288 with 1 Axes>"
      ]
     },
     "metadata": {
      "needs_background": "light"
     },
     "output_type": "display_data"
    }
   ],
   "source": [
    "tuner.lr_find()"
   ]
  },
  {
   "cell_type": "markdown",
   "id": "jxviy-Nj0Mly",
   "metadata": {},
   "source": [
    "It recommends a learning rate of around 5e-5, so we will use that."
   ]
  },
  {
   "cell_type": "code",
   "execution_count": null,
   "id": "a20a2181",
   "metadata": {},
   "outputs": [],
   "source": [
    "lr = 5e-5"
   ]
  },
  {
   "cell_type": "markdown",
   "id": "bpl6Krkl0SLX",
   "metadata": {},
   "source": [
    "Let's look at the documentation for `tune`:"
   ]
  },
  {
   "cell_type": "code",
   "execution_count": null,
   "id": "CtnRVQOX0T0-",
   "metadata": {},
   "outputs": [
    {
     "data": {
      "text/markdown": [
       "<h4 id=\"AdaptiveTuner.tune\" class=\"doc_header\"><code>AdaptiveTuner.tune</code><a href=\"https://github.com/novetta/adaptnlp/tree/master/adaptnlp/training/core.py#L369\" class=\"source_link\" style=\"float:right\">[source]</a></h4>\n",
       "\n",
       "> <code>AdaptiveTuner.tune</code>(**`epochs`**:`int`, **`lr`**:`float`=*`None`*, **`strategy`**:`Strategy`=*`'fit_one_cycle'`*, **`callbacks`**:`list`=*`[]`*, **\\*\\*`kwargs`**)\n",
       "\n",
       "Fine tune `self.model` for `epochs` with an `lr` and `strategy`\n",
       "\n"
      ],
      "text/plain": [
       "<IPython.core.display.Markdown object>"
      ]
     },
     "metadata": {},
     "output_type": "display_data"
    }
   ],
   "source": [
    "show_doc(LanguageModelTuner.tune)"
   ]
  },
  {
   "cell_type": "markdown",
   "id": "06gNa3Rk0U-_",
   "metadata": {},
   "source": [
    "We can pass in a number of epochs, a learning rate, a strategy, and additional fastai callbacks to call.\n",
    "\n",
    "Valid strategies live in the `Strategy` namespace class, and consist of:\n",
    "- OneCycle (Also called the [One-Cycle Policy](https://docs.fast.ai/callback.schedule.html#Learner.fit_one_cycle))\n",
    "- [CosineAnnealing](https://docs.fast.ai/callback.schedule.html#Learner.fit_flat_cos)\n",
    "- [SGDR](https://docs.fast.ai/callback.schedule.html#Learner.fit_sgdr)"
   ]
  },
  {
   "cell_type": "code",
   "execution_count": null,
   "id": "5DK9Q-rd0gHN",
   "metadata": {},
   "outputs": [],
   "source": [
    "from adaptnlp import Strategy"
   ]
  },
  {
   "cell_type": "markdown",
   "id": "Xgf9oa4H0nDI",
   "metadata": {},
   "source": [
    "In this tutorial we will train with the One-Cycle policy, as currently it is one of the best schedulers to use."
   ]
  },
  {
   "cell_type": "code",
   "execution_count": null,
   "id": "e4214963",
   "metadata": {},
   "outputs": [
    {
     "data": {
      "text/html": [
       "<table border=\"1\" class=\"dataframe\">\n",
       "  <thead>\n",
       "    <tr style=\"text-align: left;\">\n",
       "      <th>epoch</th>\n",
       "      <th>train_loss</th>\n",
       "      <th>valid_loss</th>\n",
       "      <th>perplexity</th>\n",
       "      <th>time</th>\n",
       "    </tr>\n",
       "  </thead>\n",
       "  <tbody>\n",
       "    <tr>\n",
       "      <td>0</td>\n",
       "      <td>4.061049</td>\n",
       "      <td>3.879425</td>\n",
       "      <td>48.396393</td>\n",
       "      <td>00:55</td>\n",
       "    </tr>\n",
       "    <tr>\n",
       "      <td>1</td>\n",
       "      <td>3.973648</td>\n",
       "      <td>3.857744</td>\n",
       "      <td>47.358402</td>\n",
       "      <td>00:54</td>\n",
       "    </tr>\n",
       "    <tr>\n",
       "      <td>2</td>\n",
       "      <td>3.900359</td>\n",
       "      <td>3.858645</td>\n",
       "      <td>47.401066</td>\n",
       "      <td>00:54</td>\n",
       "    </tr>\n",
       "  </tbody>\n",
       "</table>"
      ],
      "text/plain": [
       "<IPython.core.display.HTML object>"
      ]
     },
     "metadata": {},
     "output_type": "display_data"
    }
   ],
   "source": [
    "tuner.tune(3, lr, strategy=Strategy.OneCycle)"
   ]
  },
  {
   "cell_type": "markdown",
   "id": "42dc3547",
   "metadata": {},
   "source": [
    "## Saving Model"
   ]
  },
  {
   "cell_type": "markdown",
   "id": "2aebf7b2",
   "metadata": {},
   "source": [
    "Now that we have a trained model, let's save those weights away.\n",
    "\n",
    "Calling `tuner.save` will save both the model and the tokenizer in the same format as how HuggingFace does:"
   ]
  },
  {
   "cell_type": "code",
   "execution_count": null,
   "id": "a01b6b63",
   "metadata": {},
   "outputs": [
    {
     "data": {
      "text/markdown": [
       "<h4 id=\"AdaptiveTuner.save\" class=\"doc_header\"><code>AdaptiveTuner.save</code><a href=\"https://github.com/novetta/adaptnlp/tree/master/adaptnlp/training/core.py#L391\" class=\"source_link\" style=\"float:right\">[source]</a></h4>\n",
       "\n",
       "> <code>AdaptiveTuner.save</code>(**`save_directory`**)\n",
       "\n",
       "Save a pretrained model to a `save_directory`\n",
       "\n",
       "**Function Arguments**:\n",
       "* `save_directory`: A folder to save our model to\n"
      ],
      "text/plain": [
       "<IPython.core.display.Markdown object>"
      ]
     },
     "metadata": {},
     "output_type": "display_data"
    }
   ],
   "source": [
    "show_doc(LanguageModelTuner.save)"
   ]
  },
  {
   "cell_type": "code",
   "execution_count": null,
   "id": "WHCmaQxp0_88",
   "metadata": {},
   "outputs": [
    {
     "data": {
      "text/plain": [
       "'good_model'"
      ]
     },
     "execution_count": null,
     "metadata": {},
     "output_type": "execute_result"
    }
   ],
   "source": [
    "tuner.save('good_model')"
   ]
  },
  {
   "cell_type": "markdown",
   "id": "faf8dec2",
   "metadata": {},
   "source": [
    "## Performing Inference"
   ]
  },
  {
   "cell_type": "markdown",
   "id": "1ce058be",
   "metadata": {},
   "source": [
    "There are two ways to get predictions, the first is with the `.predict` method in our `tuner`. This is great for if you just finished training and want to see how your model performs on some new data!\n",
    "The other method is with AdaptNLP's inference API, which we will show afterwards"
   ]
  },
  {
   "cell_type": "markdown",
   "id": "S_OxB8QN1PD2",
   "metadata": {},
   "source": [
    "### In Tuner\n",
    "\n",
    "First let's write a sentence to test with"
   ]
  },
  {
   "cell_type": "code",
   "execution_count": null,
   "id": "43d011be",
   "metadata": {},
   "outputs": [],
   "source": [
    "sentence = \"Hugh Jackman is a terrible \""
   ]
  },
  {
   "cell_type": "markdown",
   "id": "jHP8lv2P1kKf",
   "metadata": {},
   "source": [
    "And then predict with it:"
   ]
  },
  {
   "cell_type": "code",
   "execution_count": null,
   "id": "KRdOk9bt1lSy",
   "metadata": {},
   "outputs": [
    {
     "data": {
      "text/markdown": [
       "<h4 id=\"LanguageModelTuner.predict\" class=\"doc_header\"><code>LanguageModelTuner.predict</code><a href=\"https://github.com/novetta/adaptnlp/tree/master/adaptnlp/training/language_model.py#L289\" class=\"source_link\" style=\"float:right\">[source]</a></h4>\n",
       "\n",
       "> <code>LanguageModelTuner.predict</code>(**`text`**:`Union`\\[`List`\\[`str`\\], `str`\\], **`bs`**:`int`=*`64`*, **`num_tokens_to_produce`**:`int`=*`50`*, **\\*\\*`kwargs`**)\n",
       "\n",
       "Predict some `text` for sequence classification with the currently loaded model\n",
       "\n",
       "**Function Arguments**:\n",
       "* `text` (`Union[List[str], str]`): Some text or list of texts to do inference with\n",
       "* `bs` (`int`): A batch size to use for multiple texts\n",
       "* `num_tokens_to_produce` (`int`): Number of tokens to generate\n",
       "* `**kwargs`: Optional arguments for `PretrainedModel.generate`\n"
      ],
      "text/plain": [
       "<IPython.core.display.Markdown object>"
      ]
     },
     "metadata": {},
     "output_type": "display_data"
    }
   ],
   "source": [
    "show_doc(LanguageModelTuner.predict)"
   ]
  },
  {
   "cell_type": "code",
   "execution_count": null,
   "id": "wPhkn9fp1mi6",
   "metadata": {},
   "outputs": [
    {
     "data": {
      "text/html": [
       "\n",
       "    <div>\n",
       "        <style>\n",
       "            /* Turns off some styling */\n",
       "            progress {\n",
       "                /* gets rid of default border in Firefox and Opera. */\n",
       "                border: none;\n",
       "                /* Needs to be in here for Safari polyfill so background images work as expected. */\n",
       "                background-size: auto;\n",
       "            }\n",
       "            .progress-bar-interrupted, .progress-bar-interrupted::-webkit-progress-bar {\n",
       "                background: #F44336;\n",
       "            }\n",
       "        </style>\n",
       "      <progress value='1' class='' max='1' style='width:300px; height:20px; vertical-align: middle;'></progress>\n",
       "      100.00% [1/1 00:00<00:00]\n",
       "    </div>\n",
       "    "
      ],
      "text/plain": [
       "<IPython.core.display.HTML object>"
      ]
     },
     "metadata": {},
     "output_type": "display_data"
    },
    {
     "data": {
      "text/plain": [
       "{'generated_text': [\"Hugh Jackman is a terrible icky, and I'm not sure if he's a good actor\"]}"
      ]
     },
     "execution_count": null,
     "metadata": {},
     "output_type": "execute_result"
    }
   ],
   "source": [
    "tuner.predict(sentence, num_tokens_to_produce=13)"
   ]
  },
  {
   "cell_type": "markdown",
   "id": "caaihrDr1taH",
   "metadata": {},
   "source": [
    "### With the Inference API\n",
    "\n",
    "Next we will use the `EasyTextGenerator` class, which AdaptNLP offers:"
   ]
  },
  {
   "cell_type": "code",
   "execution_count": null,
   "id": "S2TyPxzh10Tx",
   "metadata": {},
   "outputs": [],
   "source": [
    "from adaptnlp import EasyTextGenerator"
   ]
  },
  {
   "cell_type": "markdown",
   "id": "2_5JihBk12kA",
   "metadata": {},
   "source": [
    "We simply construct the class:"
   ]
  },
  {
   "cell_type": "code",
   "execution_count": null,
   "id": "Wa2mnVPY10QR",
   "metadata": {},
   "outputs": [],
   "source": [
    "classifier = EasyTextGenerator()"
   ]
  },
  {
   "cell_type": "markdown",
   "id": "Vf_HrdWy1_-Q",
   "metadata": {},
   "source": [
    "And call the `tag_text` method, passing in the sentence, the location of our saved model, and some names for our classes:"
   ]
  },
  {
   "cell_type": "code",
   "execution_count": null,
   "id": "UX_sdJkL10JA",
   "metadata": {},
   "outputs": [
    {
     "data": {
      "text/html": [
       "\n",
       "    <div>\n",
       "        <style>\n",
       "            /* Turns off some styling */\n",
       "            progress {\n",
       "                /* gets rid of default border in Firefox and Opera. */\n",
       "                border: none;\n",
       "                /* Needs to be in here for Safari polyfill so background images work as expected. */\n",
       "                background-size: auto;\n",
       "            }\n",
       "            .progress-bar-interrupted, .progress-bar-interrupted::-webkit-progress-bar {\n",
       "                background: #F44336;\n",
       "            }\n",
       "        </style>\n",
       "      <progress value='1' class='' max='1' style='width:300px; height:20px; vertical-align: middle;'></progress>\n",
       "      100.00% [1/1 00:00<00:00]\n",
       "    </div>\n",
       "    "
      ],
      "text/plain": [
       "<IPython.core.display.HTML object>"
      ]
     },
     "metadata": {},
     "output_type": "display_data"
    },
    {
     "data": {
      "text/plain": [
       "{'generated_text': [\"Hugh Jackman is a terrible icky, and I'm not sure if he's a good actor\"]}"
      ]
     },
     "execution_count": null,
     "metadata": {},
     "output_type": "execute_result"
    }
   ],
   "source": [
    "classifier.generate(\n",
    "    sentence,\n",
    "    model_name_or_path='good_model',\n",
    "    num_tokens_to_produce=13\n",
    ")"
   ]
  },
  {
   "cell_type": "markdown",
   "id": "qXsMgmQC2Qmt",
   "metadata": {},
   "source": [
    "And we got the exact same output!"
   ]
  }
 ],
 "metadata": {
  "kernelspec": {
   "display_name": "Python 3 (ipykernel)",
   "language": "python",
   "name": "python3"
  }
 },
 "nbformat": 4,
 "nbformat_minor": 5
}
