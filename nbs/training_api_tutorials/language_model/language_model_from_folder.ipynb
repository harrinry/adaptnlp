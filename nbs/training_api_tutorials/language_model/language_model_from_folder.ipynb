{
 "cells": [
  {
   "cell_type": "code",
   "execution_count": null,
   "id": "53946cd5",
   "metadata": {},
   "outputs": [],
   "source": [
    "#all_slow"
   ]
  },
  {
   "cell_type": "markdown",
   "id": "ca157d7d",
   "metadata": {},
   "source": [
    "# Tutorial: Fine-Tuning a Language Model on Text Files with IMDB\n",
    "> Tuning a base Language model on the IMDB dataset"
   ]
  },
  {
   "cell_type": "markdown",
   "id": "e17d8af2",
   "metadata": {},
   "source": [
    "## Introduction\n",
    "\n",
    "In this tutorial we will be showing an end-to-end example of fine-tuning a Transformer language model on a custom dataset in text files format.\n",
    "\n",
    "By the end of this you should be able to:\n",
    "\n",
    "1. Build a dataset with the `LanguageModelDatasets` class, and their DataLoaders\n",
    "2. Build a `LanguageModelTuner` quickly, find a good learning rate, and train with the One-Cycle Policy\n",
    "3. Save that model away, to be used with deployment or other HuggingFace libraries\n",
    "4. Apply inference using both the `Tuner` available function as well as with the `EasyTextGenerator` class within AdaptNLP"
   ]
  },
  {
   "cell_type": "markdown",
   "id": "3a44baa5",
   "metadata": {},
   "source": [
    "## Installing the Library"
   ]
  },
  {
   "cell_type": "markdown",
   "id": "fce03b17",
   "metadata": {},
   "source": [
    "This tutorial utilizies the latest AdaptNLP version, as well as parts of the `fastai` library. Please run the below code to install them:"
   ]
  },
  {
   "cell_type": "code",
   "execution_count": null,
   "id": "8bc6b3cd",
   "metadata": {},
   "outputs": [],
   "source": [
    "# !git+https://github.com/novetta/adaptnlp@dev -U"
   ]
  },
  {
   "cell_type": "code",
   "execution_count": null,
   "id": "VOwOHNTgyJzY",
   "metadata": {},
   "outputs": [],
   "source": [
    "#hide\n",
    "from nbverbose.showdoc import *"
   ]
  },
  {
   "cell_type": "markdown",
   "id": "86de58d7",
   "metadata": {},
   "source": [
    "## Getting the Dataset"
   ]
  },
  {
   "cell_type": "markdown",
   "id": "2a039f4f",
   "metadata": {},
   "source": [
    "First we need a dataset. We will use the `fastai` library to download the full `IMDB` Movie Reviews dataset"
   ]
  },
  {
   "cell_type": "code",
   "execution_count": null,
   "id": "82a2612b",
   "metadata": {},
   "outputs": [],
   "source": [
    "from fastai.data.external import URLs, untar_data"
   ]
  },
  {
   "cell_type": "markdown",
   "id": "a1f46366",
   "metadata": {},
   "source": [
    "`URLs` holds a namespace of many data endpoints, and `untar_data` is a function that can download and extract any data from a given URL.\n",
    "\n",
    "Combining both, we can download the data:"
   ]
  },
  {
   "cell_type": "code",
   "execution_count": null,
   "id": "bcc5510a",
   "metadata": {},
   "outputs": [],
   "source": [
    "data_path = untar_data(URLs.IMDB)"
   ]
  },
  {
   "cell_type": "markdown",
   "id": "b9a3a4f8",
   "metadata": {},
   "source": [
    "If we look at what was downloaded, we will find a `train` and `test` folder:"
   ]
  },
  {
   "cell_type": "code",
   "execution_count": null,
   "id": "b9683198",
   "metadata": {},
   "outputs": [
    {
     "data": {
      "text/plain": [
       "(#7) [Path('/root/.fastai/data/imdb/test'),Path('/root/.fastai/data/imdb/README'),Path('/root/.fastai/data/imdb/train'),Path('/root/.fastai/data/imdb/imdb.vocab'),Path('/root/.fastai/data/imdb/tmp_clas'),Path('/root/.fastai/data/imdb/unsup'),Path('/root/.fastai/data/imdb/tmp_lm')]"
      ]
     },
     "execution_count": null,
     "metadata": {},
     "output_type": "execute_result"
    }
   ],
   "source": [
    "data_path.ls()"
   ]
  },
  {
   "cell_type": "markdown",
   "id": "79f0ec65",
   "metadata": {},
   "source": [
    "In each are folders seperating each text file by class:"
   ]
  },
  {
   "cell_type": "code",
   "execution_count": null,
   "id": "f9e69fec",
   "metadata": {},
   "outputs": [
    {
     "data": {
      "text/plain": [
       "(#4) [Path('/root/.fastai/data/imdb/train/pos'),Path('/root/.fastai/data/imdb/train/neg'),Path('/root/.fastai/data/imdb/train/unsupBow.feat'),Path('/root/.fastai/data/imdb/train/labeledBow.feat')]"
      ]
     },
     "execution_count": null,
     "metadata": {},
     "output_type": "execute_result"
    }
   ],
   "source": [
    "(data_path/'train').ls()"
   ]
  },
  {
   "cell_type": "markdown",
   "id": "ec7e572f",
   "metadata": {},
   "source": [
    "As a result, we can say the dataset follows the following format:\n",
    "\n",
    "- `train`\n",
    "  - `class_a`\n",
    "    - `text1.txt`\n",
    "    - `text2.txt`\n",
    "    - ...\n",
    "  - `class_b`\n",
    "    - `text1.txt`\n",
    "    - ...\n",
    "- `test` (or `valid`)\n",
    "  - `class_a`\n",
    "    - `text1.txt`\n",
    "    - ...\n",
    "  - `class_b`\n",
    "    - `text1.txt`\n",
    "    - ..."
   ]
  },
  {
   "cell_type": "markdown",
   "id": "1b146969",
   "metadata": {},
   "source": [
    "> Note: In this instance, test and validation have very similar meanings. Both are the dataset which is used to calculate the metrics during training (such as accuracy or F1Score)"
   ]
  },
  {
   "cell_type": "markdown",
   "id": "b464b74a",
   "metadata": {},
   "source": [
    "Now that we have the dataset, and we know the format it is in, let's pick a viable model to train with"
   ]
  },
  {
   "cell_type": "markdown",
   "id": "320caa02",
   "metadata": {},
   "source": [
    "## Picking a Model with the Hub"
   ]
  },
  {
   "cell_type": "markdown",
   "id": "170b200d",
   "metadata": {},
   "source": [
    "AdaptNLP has a `HFModelHub` class that allows you to communicate with the HuggingFace Hub and pick a model from it, as well as a namespace `HF_TASKS` class with a list of valid tasks we can search by.\n",
    "\n",
    "Let's try and find one suitable for sequence classification.\n",
    "\n",
    "First we need to import the class and generate an instance of it:"
   ]
  },
  {
   "cell_type": "code",
   "execution_count": null,
   "id": "e6c1f6ab",
   "metadata": {},
   "outputs": [],
   "source": [
    "from adaptnlp import HFModelHub, HF_TASKS"
   ]
  },
  {
   "cell_type": "code",
   "execution_count": null,
   "id": "9460e9d8",
   "metadata": {},
   "outputs": [],
   "source": [
    "hub = HFModelHub()"
   ]
  },
  {
   "cell_type": "markdown",
   "id": "7ce5e54e",
   "metadata": {},
   "source": [
    "Next we can search for a model:"
   ]
  },
  {
   "cell_type": "code",
   "execution_count": null,
   "id": "1ded037a",
   "metadata": {},
   "outputs": [],
   "source": [
    "models = hub.search_model_by_task(HF_TASKS.TEXT_GENERATION)"
   ]
  },
  {
   "cell_type": "markdown",
   "id": "9fec0167",
   "metadata": {},
   "source": [
    "Let's look at a few:"
   ]
  },
  {
   "cell_type": "code",
   "execution_count": null,
   "id": "17717851",
   "metadata": {},
   "outputs": [
    {
     "data": {
      "text/plain": [
       "[Model Name: distilgpt2, Tasks: [text-generation],\n",
       " Model Name: gpt2-large, Tasks: [text-generation],\n",
       " Model Name: gpt2-medium, Tasks: [text-generation],\n",
       " Model Name: gpt2-xl, Tasks: [text-generation],\n",
       " Model Name: gpt2, Tasks: [text-generation],\n",
       " Model Name: openai-gpt, Tasks: [text-generation],\n",
       " Model Name: transfo-xl-wt103, Tasks: [text-generation],\n",
       " Model Name: xlnet-base-cased, Tasks: [text-generation],\n",
       " Model Name: xlnet-large-cased, Tasks: [text-generation]]"
      ]
     },
     "execution_count": null,
     "metadata": {},
     "output_type": "execute_result"
    }
   ],
   "source": [
    "models[:10]"
   ]
  },
  {
   "cell_type": "markdown",
   "id": "92cc23ba",
   "metadata": {},
   "source": [
    "These are models specifically tagged with the `text-generation` tag, so you may not see a few models you would expect such as `bert_base_cased`.\n",
    "\n",
    "We'll use that first model, `distilgpt2`:"
   ]
  },
  {
   "cell_type": "code",
   "execution_count": null,
   "id": "60e340d4",
   "metadata": {},
   "outputs": [],
   "source": [
    "model = models[0]"
   ]
  },
  {
   "cell_type": "code",
   "execution_count": null,
   "id": "9b29d210",
   "metadata": {},
   "outputs": [
    {
     "data": {
      "text/plain": [
       "Model Name: distilgpt2, Tasks: [text-generation]"
      ]
     },
     "execution_count": null,
     "metadata": {},
     "output_type": "execute_result"
    }
   ],
   "source": [
    "model"
   ]
  },
  {
   "cell_type": "markdown",
   "id": "a567732b",
   "metadata": {},
   "source": [
    "Now that we have picked a model, let's use the data API to prepare our data"
   ]
  },
  {
   "cell_type": "markdown",
   "id": "a52c80c1",
   "metadata": {},
   "source": [
    "> Note: It should be mentioned that this is optional, you can always just pass in the string name of a model such as \"bert-base-cased\""
   ]
  },
  {
   "cell_type": "markdown",
   "id": "b676253e",
   "metadata": {},
   "source": [
    "## Building `TaskDatasets` with `LanguageModelDatasets`"
   ]
  },
  {
   "cell_type": "markdown",
   "id": "7faa7c29",
   "metadata": {},
   "source": [
    "Each task has a high-level data wrapper around the `TaskDatasets` class. In our case this is the `LanguageModelDatasets` class:"
   ]
  },
  {
   "cell_type": "code",
   "execution_count": null,
   "id": "83994a53",
   "metadata": {},
   "outputs": [],
   "source": [
    "from adaptnlp import LanguageModelDatasets"
   ]
  },
  {
   "cell_type": "markdown",
   "id": "6965c387",
   "metadata": {},
   "source": [
    "There are multiple different constructors for the `LanguageModelDatasets` class, and you should never call the main constructor directly.\n",
    "\n",
    "We will be using `from_folders` method:"
   ]
  },
  {
   "cell_type": "code",
   "execution_count": null,
   "id": "ce0cfe3a",
   "metadata": {},
   "outputs": [
    {
     "data": {
      "text/markdown": [
       "<h4 id=\"LanguageModelDatasets.from_folders\" class=\"doc_header\"><code>LanguageModelDatasets.from_folders</code><a href=\"https://github.com/novetta/adaptnlp/tree/master/adaptnlp/training/language_model.py#L158\" class=\"source_link\" style=\"float:right\">[source]</a></h4>\n",
       "\n",
       "> <code>LanguageModelDatasets.from_folders</code>(**`train_path`**:`Path`, **`tokenizer_name`**:`str`, **`block_size`**:`int`=*`128`*, **`masked_lm`**:`bool`=*`False`*, **`valid_path`**:`Path`=*`None`*, **`split_func`**:`callable`=*`None`*, **`split_pct`**:`float`=*`0.1`*, **`tokenize_kwargs`**:`dict`=*`{}`*, **`auto_kwargs`**:`dict`=*`{}`*)\n",
       "\n",
       "Builds [`LanguageModelDatasets`](/adaptnlp/training.language_model.html#LanguageModelDatasets) from a folder or group of folders\n",
       "\n",
       "**Function Arguments**:\n",
       "* `train_path` (`Path`): The path to the training data\n",
       "* `tokenizer_name` (`str`): The name of the tokenizer\n",
       "* `block_size` (`int`): The size of each block\n",
       "* `masked_lm` (`bool`): Whether the language model is a MLM\n",
       "* `valid_path` (`Path`): An optional validation path\n",
       "* `split_func` (`callable`): Optionally a splitting function similar to RandomSplitter\n",
       "* `split_pct` (`float`): What % to split the df between training and validation\n",
       "* `tokenize_kwargs` (`dict`): kwargs for the tokenize function\n",
       "* `auto_kwargs` (`dict`): kwargs for the AutoTokenizer.from_pretrained constructor\n"
      ],
      "text/plain": [
       "<IPython.core.display.Markdown object>"
      ]
     },
     "metadata": {},
     "output_type": "display_data"
    }
   ],
   "source": [
    "from adaptnlp import LanguageModelDatasets\n",
    "show_doc(LanguageModelDatasets.from_folders)"
   ]
  },
  {
   "cell_type": "markdown",
   "id": "a224521a",
   "metadata": {},
   "source": [
    "Anything you would normally pass to the tokenizer call (such as `max_length`, `padding`) should go in `tokenize_kwargs`, and anything going to the `AutoTokenizer.from_pretrained` constructor should be passed to the `auto_kwargs`.\n",
    "\n",
    "In our case we have a `train_path` and `valid_path`"
   ]
  },
  {
   "cell_type": "code",
   "execution_count": null,
   "id": "117f3b8c",
   "metadata": {},
   "outputs": [],
   "source": [
    "from fastcore.basics import patch"
   ]
  },
  {
   "cell_type": "markdown",
   "id": "e805e1a8",
   "metadata": {},
   "source": [
    "Also, we will set a block_size of 128, and it is *not* a masked language model:"
   ]
  },
  {
   "cell_type": "code",
   "execution_count": null,
   "id": "497cf7f7",
   "metadata": {},
   "outputs": [
    {
     "name": "stderr",
     "output_type": "stream",
     "text": [
      "Using custom data configuration default-1f2b71eec4880b46\n",
      "Reusing dataset text_no_new_line (/root/.cache/huggingface/datasets/text_no_new_line/default-1f2b71eec4880b46/0.0.0)\n",
      "Using custom data configuration default-04d8fbd2bd2108a0\n",
      "Reusing dataset text_no_new_line (/root/.cache/huggingface/datasets/text_no_new_line/default-04d8fbd2bd2108a0/0.0.0)\n"
     ]
    },
    {
     "name": "stdout",
     "output_type": "stream",
     "text": [
      "No value for `max_length` set, automatically adjusting to the size of the model and including truncation\n",
      "Sequence length set to: 1024\n"
     ]
    },
    {
     "data": {
      "application/vnd.jupyter.widget-view+json": {
       "model_id": "2f42d90b85cb479cb8af2093eb5bb9ef",
       "version_major": 2,
       "version_minor": 0
      },
      "text/plain": [
       "HBox(children=(FloatProgress(value=0.0, max=25.0), HTML(value='')))"
      ]
     },
     "metadata": {},
     "output_type": "display_data"
    },
    {
     "name": "stdout",
     "output_type": "stream",
     "text": [
      "\n"
     ]
    },
    {
     "data": {
      "application/vnd.jupyter.widget-view+json": {
       "model_id": "d43c4d734eae4510a504ba28c36f3405",
       "version_major": 2,
       "version_minor": 0
      },
      "text/plain": [
       "HBox(children=(FloatProgress(value=0.0, max=25.0), HTML(value='')))"
      ]
     },
     "metadata": {},
     "output_type": "display_data"
    },
    {
     "name": "stdout",
     "output_type": "stream",
     "text": [
      "\n"
     ]
    },
    {
     "data": {
      "application/vnd.jupyter.widget-view+json": {
       "model_id": "1b0af98775c143d9b288c96fd395bb40",
       "version_major": 2,
       "version_minor": 0
      },
      "text/plain": [
       "HBox(children=(FloatProgress(value=0.0, max=25.0), HTML(value='')))"
      ]
     },
     "metadata": {},
     "output_type": "display_data"
    },
    {
     "name": "stdout",
     "output_type": "stream",
     "text": [
      "\n"
     ]
    },
    {
     "data": {
      "application/vnd.jupyter.widget-view+json": {
       "model_id": "618b5978f46949209770d1e66599ce28",
       "version_major": 2,
       "version_minor": 0
      },
      "text/plain": [
       "HBox(children=(FloatProgress(value=0.0, max=25.0), HTML(value='')))"
      ]
     },
     "metadata": {},
     "output_type": "display_data"
    },
    {
     "name": "stdout",
     "output_type": "stream",
     "text": [
      "\n"
     ]
    }
   ],
   "source": [
    "dsets = LanguageModelDatasets.from_folders(\n",
    "    train_path=data_path/'train',\n",
    "    valid_path=data_path/'test',\n",
    "    tokenizer_name=model.name,\n",
    "    block_size=128,\n",
    "    masked_lm=False\n",
    ")"
   ]
  },
  {
   "cell_type": "markdown",
   "id": "6eebf5ec",
   "metadata": {},
   "source": [
    "> Note: If you only have a training folder, just pass in a `split_func` or `split_pct` to either have it split the dataset in a custom way, or pass in a percentage to randomly split by"
   ]
  },
  {
   "cell_type": "markdown",
   "id": "4faae30d",
   "metadata": {},
   "source": [
    "And finally turn it into some `AdaptiveDataLoaders`.\n",
    "\n",
    "These are just fastai's `DataLoaders` class, but it overrides a few functions to have it work nicely with HuggingFace's `Dataset` class"
   ]
  },
  {
   "cell_type": "code",
   "execution_count": null,
   "id": "08cc36db",
   "metadata": {},
   "outputs": [
    {
     "data": {
      "text/markdown": [
       "<h4 id=\"TaskDatasets.dataloaders\" class=\"doc_header\"><code>TaskDatasets.dataloaders</code><a href=\"https://github.com/novetta/adaptnlp/tree/master/adaptnlp/training/core.py#L246\" class=\"source_link\" style=\"float:right\">[source]</a></h4>\n",
       "\n",
       "> <code>TaskDatasets.dataloaders</code>(**`batch_size`**:`int`=*`8`*, **`shuffle_train`**:`bool`=*`True`*, **`collate_fn`**:`callable`=*`None`*, **`path`**=*`'.'`*, **`device`**=*`None`*)\n",
       "\n",
       "Creates `DataLoaders` from the dataset\n",
       "\n",
       "**Function Arguments**:\n",
       "* `batch_size` (`int`): A batch size\n",
       "* `shuffle_train` (`bool`): Whether to shuffle the training dataset\n",
       "* `collate_fn` (`callable `): A custom collation function\n"
      ],
      "text/plain": [
       "<IPython.core.display.Markdown object>"
      ]
     },
     "metadata": {},
     "output_type": "display_data"
    }
   ],
   "source": [
    "show_doc(LanguageModelDatasets.dataloaders)"
   ]
  },
  {
   "cell_type": "code",
   "execution_count": null,
   "id": "031a26b4",
   "metadata": {},
   "outputs": [],
   "source": [
    "dls = dsets.dataloaders(batch_size=8)"
   ]
  },
  {
   "cell_type": "markdown",
   "id": "91df0c08",
   "metadata": {},
   "source": [
    "Finally, let's view a batch of data with the `show_batch` function:"
   ]
  },
  {
   "cell_type": "code",
   "execution_count": null,
   "id": "965ad300",
   "metadata": {},
   "outputs": [
    {
     "data": {
      "text/html": [
       "<table border=\"1\" class=\"dataframe\">\n",
       "  <thead>\n",
       "    <tr style=\"text-align: right;\">\n",
       "      <th></th>\n",
       "      <th>Input</th>\n",
       "      <th>Label</th>\n",
       "    </tr>\n",
       "  </thead>\n",
       "  <tbody>\n",
       "    <tr>\n",
       "      <th>0</th>\n",
       "      <td>dad.\"&lt;br /&gt;&lt;br /&gt;This film makes periodic appearances on TV but today my teenage son and I saw it in a theater with quite a few youngsters present. It was great to see computer-besotted kids in an affluent community respond with cheers and applause to special effects that must seem primitive to them.&lt;br /&gt;&lt;br /&gt;\"Thief of Bagdad\" is a pre-war Hollywood classic from a time when strong production values often resulted in enduringly attractive and important releases. This is one of the best of its kind.&lt;br /&gt;&lt;br /&gt;9/10.This movie is simply incredible! I had expected something quite different form the film that I actually saw. However, it is very insightful in that it shows the aggressive nature of human sexuality and its linkage with animal behavior. Let me warn those among the readers of this article who are easily offended by content that is all too sexual, for the explicit sexual nature of this film feels like a high-brow sort of pornography. It even features a scene that comes extremely close to rape.&lt;br /&gt;&lt;br /&gt;Meanwhile, I strongly suggest seeing this rare work of \"sexual art\". Every minute of the picture breathes the sexual spirit of the seventies, by the way. One should not forget how times have changed!&lt;br /&gt;&lt;br /&gt;Go see it! It´s worth your money and time!If you have ever read and enjoyed a novel by Tom Robbins you will appreciate this movie as a whole-hearted attempt to translate his outrageously unconventional writing style into a workable piece of big screen art. The actors and the direction of this film are both good. &lt;br /&gt;&lt;br /&gt;The only trouble with the film, as I can see it, is that Robbins can relate ideas and sentiments with his words that were still beyond Hollywood's capabilities at the time this film was shot.&lt;br /&gt;&lt;br /&gt;Given both the irreverence of today's movies, as well as the willingness and abilityof today's audiences to delve into the bizarre, I think \"Even Cowgirls... would receive a better reception today than it did when it was originally released.With Iphigenia, Mikhali Cacoyannis is perhaps the first film director to have successfully brought the feel of ancient Greek theatre to the screen. His own screenplay, an adaptation of Euripides' tragedy, was far from easy, compared to that of the other two films of the trilogy he directed. The story has been very carefully deconstructed from Euripides' version and</td>\n",
       "      <td>dad.\"&lt;br /&gt;&lt;br /&gt;This film makes periodic appearances on TV but today my teenage son and I saw it in a theater with quite a few youngsters present. It was great to see computer-besotted kids in an affluent community respond with cheers and applause to special effects that must seem primitive to them.&lt;br /&gt;&lt;br /&gt;\"Thief of Bagdad\" is a pre-war Hollywood classic from a time when strong production values often resulted in enduringly attractive and important releases. This is one of the best of its kind.&lt;br /&gt;&lt;br /&gt;9/10.This movie is simply incredible! I had expected something quite different form the film that I actually saw. However, it is very insightful in that it shows the aggressive nature of human sexuality and its linkage with animal behavior. Let me warn those among the readers of this article who are easily offended by content that is all too sexual, for the explicit sexual nature of this film feels like a high-brow sort of pornography. It even features a scene that comes extremely close to rape.&lt;br /&gt;&lt;br /&gt;Meanwhile, I strongly suggest seeing this rare work of \"sexual art\". Every minute of the picture breathes the sexual spirit of the seventies, by the way. One should not forget how times have changed!&lt;br /&gt;&lt;br /&gt;Go see it! It´s worth your money and time!If you have ever read and enjoyed a novel by Tom Robbins you will appreciate this movie as a whole-hearted attempt to translate his outrageously unconventional writing style into a workable piece of big screen art. The actors and the direction of this film are both good. &lt;br /&gt;&lt;br /&gt;The only trouble with the film, as I can see it, is that Robbins can relate ideas and sentiments with his words that were still beyond Hollywood's capabilities at the time this film was shot.&lt;br /&gt;&lt;br /&gt;Given both the irreverence of today's movies, as well as the willingness and abilityof today's audiences to delve into the bizarre, I think \"Even Cowgirls... would receive a better reception today than it did when it was originally released.With Iphigenia, Mikhali Cacoyannis is perhaps the first film director to have successfully brought the feel of ancient Greek theatre to the screen. His own screenplay, an adaptation of Euripides' tragedy, was far from easy, compared to that of the other two films of the trilogy he directed. The story has been very carefully deconstructed from Euripides' version and</td>\n",
       "    </tr>\n",
       "    <tr>\n",
       "      <th>1</th>\n",
       "      <td>up his seat for one of the intended victims, flees with his tail in-between his legs, rather than face immanent death with the school kids he's promised not to leave behind.&lt;br /&gt;&lt;br /&gt;It's more of character study, and a come to Jesus moment for one character, than a story about the genocide in \"RAWANDA\". This movie didn't have to take place in RAWANDA, it could have taken place any one of the Genocidal hell holes going around this world at any given time.This is one seriously disturbed movie. Even Though the boys deserved some of what they got.....the sadistic gruesome executions were \"slightly\" over the top. The only character showing some conscience early in the hunt was killed off before he could offer some help to the sad plot.&lt;br /&gt;&lt;br /&gt;At the beginning of the movie, there looked to be some promise of a mediocre affair, but this was just a ploy to lull the viewers into a false sense of security, before the joy of what was to come. &lt;br /&gt;&lt;br /&gt;The only thing that could have saved the movie for me was if Jack Nicholson had jumped out of the bushes and yelled, \"and, where is the batman?\". Kim Basinger could have screamed. &lt;br /&gt;&lt;br /&gt;Now that would have been cool!I stopped by BB and picked up 4 zombie flicks to watch over the weekend. Now, I understand that the effects will be cheesy, the acting will be sub-par, and the sets will be suspect. So I'm not expecting much. But it should at least have a story. Stories don't cost a thing except time.....apparently, they didn't have any time either.&lt;br /&gt;&lt;br /&gt;\"Zombie Nation\" had 5 zombies that appeared near the end of the movie that all looked like new wave hookers. The picture of the zombie on the front cover NEVER appears in the movie. It was absolutely agonizing to watch and had nothing to offer the genre.&lt;br /&gt;&lt;br /&gt;The running time is only 81 minutes but it felt like 2 hours. According to my wife (who could only hear the movie since she was on the computer in another room), it sounded like zombie porn....which if you think about, sounds kinda gross.....but it wasn't even that good.&lt;br /&gt;&lt;br /&gt;The only suggestion I can make is that maybe the writer tried to do too many things and ended up with an incoherent mess.&lt;br /&gt;&lt;br</td>\n",
       "      <td>up his seat for one of the intended victims, flees with his tail in-between his legs, rather than face immanent death with the school kids he's promised not to leave behind.&lt;br /&gt;&lt;br /&gt;It's more of character study, and a come to Jesus moment for one character, than a story about the genocide in \"RAWANDA\". This movie didn't have to take place in RAWANDA, it could have taken place any one of the Genocidal hell holes going around this world at any given time.This is one seriously disturbed movie. Even Though the boys deserved some of what they got.....the sadistic gruesome executions were \"slightly\" over the top. The only character showing some conscience early in the hunt was killed off before he could offer some help to the sad plot.&lt;br /&gt;&lt;br /&gt;At the beginning of the movie, there looked to be some promise of a mediocre affair, but this was just a ploy to lull the viewers into a false sense of security, before the joy of what was to come. &lt;br /&gt;&lt;br /&gt;The only thing that could have saved the movie for me was if Jack Nicholson had jumped out of the bushes and yelled, \"and, where is the batman?\". Kim Basinger could have screamed. &lt;br /&gt;&lt;br /&gt;Now that would have been cool!I stopped by BB and picked up 4 zombie flicks to watch over the weekend. Now, I understand that the effects will be cheesy, the acting will be sub-par, and the sets will be suspect. So I'm not expecting much. But it should at least have a story. Stories don't cost a thing except time.....apparently, they didn't have any time either.&lt;br /&gt;&lt;br /&gt;\"Zombie Nation\" had 5 zombies that appeared near the end of the movie that all looked like new wave hookers. The picture of the zombie on the front cover NEVER appears in the movie. It was absolutely agonizing to watch and had nothing to offer the genre.&lt;br /&gt;&lt;br /&gt;The running time is only 81 minutes but it felt like 2 hours. According to my wife (who could only hear the movie since she was on the computer in another room), it sounded like zombie porn....which if you think about, sounds kinda gross.....but it wasn't even that good.&lt;br /&gt;&lt;br /&gt;The only suggestion I can make is that maybe the writer tried to do too many things and ended up with an incoherent mess.&lt;br /&gt;&lt;br</td>\n",
       "    </tr>\n",
       "    <tr>\n",
       "      <th>2</th>\n",
       "      <td>and how they painted the ones on their side. It was the ending that I hated. I was disappointed that it was earth but 150k years back. But to travel all that way just to start over? Are you kidding me? 38k people that fought for their very existence and once they get to paradise, they abandon technology? No way. Sure they were eating paper and rationing food, but that is over. They can live like humans again. They only have one good doctor. What are they going to do when someone has a tooth ache never mind giving birth... yea right. No one would have made that choice.I have to agree with some of the other comments and even go a step further. &lt;br /&gt;&lt;br /&gt;Nothing about this film worked, absolutely nothing. Delmar our central character makes the decision to become a surrogate mother in order to earn enough money to buy a restaurant but along the way fall for a wise ex-jailbird. At the same time her friend Hortense is trying to get her lawyer boyfriend to finally marry her. She also happens to be sleeping with Marlon who is desperately in love with her. Then there's Delmar's brother Jethro who gets involved with a former coke addict, Missy who reveals she was sexually abused by her adopted father. On the sidelines we also have the eccentricmother who has an assortment of equally odd friends, one of whom dies on the couch at the beginning of the film. So far so good but after introducing these characters and story lines addressing life, death, grief and love in the first half, the film simply loses direction. &lt;br /&gt;&lt;br /&gt;If the writer had only selected one or two characters and allowed us to follow their stories maybe things would have been fine but equal screen time is given to all with the result that no one story or character is fully developed. For instance, why does Delmar think she will be able to hand over her child in exchange for money, especially when the prospective parents are a creepy bigoted lawyer and his semi alcoholic and depressed wife? Why is Hortense so desperate to marry a man who is a jerk and clearly doesn't love her? How is it Missy manages to kick her coke habit overnight? Is Jethro regularly drawn to women with overwhelming problems, or is Missy the exception? Has Delmar and Jethro's mother always been on the eccentric side, or is it a more recent development? Why is Jethro so keen on Cadillacs that he</td>\n",
       "      <td>and how they painted the ones on their side. It was the ending that I hated. I was disappointed that it was earth but 150k years back. But to travel all that way just to start over? Are you kidding me? 38k people that fought for their very existence and once they get to paradise, they abandon technology? No way. Sure they were eating paper and rationing food, but that is over. They can live like humans again. They only have one good doctor. What are they going to do when someone has a tooth ache never mind giving birth... yea right. No one would have made that choice.I have to agree with some of the other comments and even go a step further. &lt;br /&gt;&lt;br /&gt;Nothing about this film worked, absolutely nothing. Delmar our central character makes the decision to become a surrogate mother in order to earn enough money to buy a restaurant but along the way fall for a wise ex-jailbird. At the same time her friend Hortense is trying to get her lawyer boyfriend to finally marry her. She also happens to be sleeping with Marlon who is desperately in love with her. Then there's Delmar's brother Jethro who gets involved with a former coke addict, Missy who reveals she was sexually abused by her adopted father. On the sidelines we also have the eccentricmother who has an assortment of equally odd friends, one of whom dies on the couch at the beginning of the film. So far so good but after introducing these characters and story lines addressing life, death, grief and love in the first half, the film simply loses direction. &lt;br /&gt;&lt;br /&gt;If the writer had only selected one or two characters and allowed us to follow their stories maybe things would have been fine but equal screen time is given to all with the result that no one story or character is fully developed. For instance, why does Delmar think she will be able to hand over her child in exchange for money, especially when the prospective parents are a creepy bigoted lawyer and his semi alcoholic and depressed wife? Why is Hortense so desperate to marry a man who is a jerk and clearly doesn't love her? How is it Missy manages to kick her coke habit overnight? Is Jethro regularly drawn to women with overwhelming problems, or is Missy the exception? Has Delmar and Jethro's mother always been on the eccentric side, or is it a more recent development? Why is Jethro so keen on Cadillacs that he</td>\n",
       "    </tr>\n",
       "    <tr>\n",
       "      <th>3</th>\n",
       "      <td>corner.&lt;br /&gt;&lt;br /&gt;Peter's fate ultimately lies with the heavenly court and American prosecutor (Raymond Massey), whose jury consists of several deceased war heroes and posh British delegates. The surreal trial, which dissolves from b/w back into rich Technicolor, once the verdict is announced, may well be a dream, but the final shot in the hospital validates the predictable outcome.&lt;br /&gt;&lt;br /&gt;The abstract, frame filling \"stairway to heaven\" (the American title of the film) is used twice: the first time in b/w, when it elevates Peter and his enigmatic French guardian upwards, crossing giant statues of Peter's potential attorneys for the trial, including Abraham Lincoln and Plato. The second time, the softly lit colour stairway provides the setting for what is an iconic image in cinema - Peter and June frozen side-by-side, their marvelled eyes fixed forward in the frame, their fate sealed.&lt;br /&gt;&lt;br /&gt;The unlikely affection shared between Peter and June never turns mushy or verbose; it's treated with nobility and the perception that the couple are already suitable enough to be married and simply need to convince people of their love, so it can keep them together. &lt;br /&gt;&lt;br /&gt;The French Conductor, who can freeze time and people's bodies, obtrudes many of their key moments together, lecturing Peter about history and among his mischievous tricks, pinching Peter's 'Top 100 Game Tricks' book and his coffee cup.&lt;br /&gt;&lt;br /&gt;As visually inspired as other Powell/Pressburger collaborations, this was the first time they combined colour with b/w  the latter having a cheerful quality when used for the heaven scenes, and both are equally captivating. &lt;br /&gt;&lt;br /&gt;The outstanding script more than matches the imaginative set design, with dialogue that sounds so immediate that is doesn't feel like it was written or performed for the screen. Amusing and witty, Powell/Pressburger's writing deserves equal acclamation with their forte for colour and composition.&lt;br /&gt;&lt;br /&gt;Made in 1946, \"A Matter of Life and Death\" is one of those films that defies it age, looking fresh and inventive, even in this age where CGI would vamp up its artificial effects, probably stripping them of their emotional wonder. &lt;br /&gt;&lt;br /&gt;Other jarring changes would include the need for reduced average seconds for cutting and the inevitable plea to shorten dialogue so it can preserve</td>\n",
       "      <td>corner.&lt;br /&gt;&lt;br /&gt;Peter's fate ultimately lies with the heavenly court and American prosecutor (Raymond Massey), whose jury consists of several deceased war heroes and posh British delegates. The surreal trial, which dissolves from b/w back into rich Technicolor, once the verdict is announced, may well be a dream, but the final shot in the hospital validates the predictable outcome.&lt;br /&gt;&lt;br /&gt;The abstract, frame filling \"stairway to heaven\" (the American title of the film) is used twice: the first time in b/w, when it elevates Peter and his enigmatic French guardian upwards, crossing giant statues of Peter's potential attorneys for the trial, including Abraham Lincoln and Plato. The second time, the softly lit colour stairway provides the setting for what is an iconic image in cinema - Peter and June frozen side-by-side, their marvelled eyes fixed forward in the frame, their fate sealed.&lt;br /&gt;&lt;br /&gt;The unlikely affection shared between Peter and June never turns mushy or verbose; it's treated with nobility and the perception that the couple are already suitable enough to be married and simply need to convince people of their love, so it can keep them together. &lt;br /&gt;&lt;br /&gt;The French Conductor, who can freeze time and people's bodies, obtrudes many of their key moments together, lecturing Peter about history and among his mischievous tricks, pinching Peter's 'Top 100 Game Tricks' book and his coffee cup.&lt;br /&gt;&lt;br /&gt;As visually inspired as other Powell/Pressburger collaborations, this was the first time they combined colour with b/w  the latter having a cheerful quality when used for the heaven scenes, and both are equally captivating. &lt;br /&gt;&lt;br /&gt;The outstanding script more than matches the imaginative set design, with dialogue that sounds so immediate that is doesn't feel like it was written or performed for the screen. Amusing and witty, Powell/Pressburger's writing deserves equal acclamation with their forte for colour and composition.&lt;br /&gt;&lt;br /&gt;Made in 1946, \"A Matter of Life and Death\" is one of those films that defies it age, looking fresh and inventive, even in this age where CGI would vamp up its artificial effects, probably stripping them of their emotional wonder. &lt;br /&gt;&lt;br /&gt;Other jarring changes would include the need for reduced average seconds for cutting and the inevitable plea to shorten dialogue so it can preserve</td>\n",
       "    </tr>\n",
       "    <tr>\n",
       "      <th>4</th>\n",
       "      <td>carry out for the 3 months that Bill is in New York, while Bill meets with Cleo and another woman. At the end, love is in the air for Bill and one other.............&lt;br /&gt;&lt;br /&gt;The picture quality and sound quality are poor in this film. The story is interspersed with musical numbers but the songs are bad and Kathryn Crawford has a terrible voice. Rogers isn't that good either. He's pleasant enough but only really comes to life when playing the drums or trombone. There is a very irritating character who plays a cab driver (Roscoe Karns) and the film is just dull.i've seen a movie thats sort of like this, were a transsexual drugs woman and he then picks there nose with a knife and rips there nose to peaces. he then slices there tongue and eats it.&lt;br /&gt;&lt;br /&gt;the most gruesome part of the movie is were he cuts there left eye out and starts dancing with it. he then starts to eat the woman naked.&lt;br /&gt;&lt;br /&gt;(i'm not sure what the movies called but i know it's a cult movie and that it was made in Germany).&lt;br /&gt;&lt;br /&gt;anyway THE NOSE PICKER is fairly crap.&lt;br /&gt;&lt;br /&gt;its a crap movie and the picture and volume quality is very rubbish.&lt;br /&gt;&lt;br /&gt;please don't waste you're time buying and watching this movie its totally crap.&lt;br /&gt;&lt;br /&gt;i prefer DAY OF THE WOMAN also known as I SPIT ON YOUR GRAVE (its one of the best cult movies ever) check out this link http://www.imdb.com/title/tt0077713/Having searched for this movie high and low, I actually found it when I least expected, playing on the Sundance Channel very early in the morning one day. Why I searched endlessly for a small vanity project that Chuck Barris that was made during the last waning years of the TV show, I haven't a clue. The film is simply put horrible. The scripted part that deals with a week that is. Of course the highlight of the film is seeing the real performers that were \"too hot for TV\" or rejected for some reason or other. That part is still horrid, but campy bad which was enjoyable in it's own way. Now that I saw what I sought after for so long will I watch it again in my lifetime? Resoundingly NO!! Do yourself a favor and just watch the MUCH</td>\n",
       "      <td>carry out for the 3 months that Bill is in New York, while Bill meets with Cleo and another woman. At the end, love is in the air for Bill and one other.............&lt;br /&gt;&lt;br /&gt;The picture quality and sound quality are poor in this film. The story is interspersed with musical numbers but the songs are bad and Kathryn Crawford has a terrible voice. Rogers isn't that good either. He's pleasant enough but only really comes to life when playing the drums or trombone. There is a very irritating character who plays a cab driver (Roscoe Karns) and the film is just dull.i've seen a movie thats sort of like this, were a transsexual drugs woman and he then picks there nose with a knife and rips there nose to peaces. he then slices there tongue and eats it.&lt;br /&gt;&lt;br /&gt;the most gruesome part of the movie is were he cuts there left eye out and starts dancing with it. he then starts to eat the woman naked.&lt;br /&gt;&lt;br /&gt;(i'm not sure what the movies called but i know it's a cult movie and that it was made in Germany).&lt;br /&gt;&lt;br /&gt;anyway THE NOSE PICKER is fairly crap.&lt;br /&gt;&lt;br /&gt;its a crap movie and the picture and volume quality is very rubbish.&lt;br /&gt;&lt;br /&gt;please don't waste you're time buying and watching this movie its totally crap.&lt;br /&gt;&lt;br /&gt;i prefer DAY OF THE WOMAN also known as I SPIT ON YOUR GRAVE (its one of the best cult movies ever) check out this link http://www.imdb.com/title/tt0077713/Having searched for this movie high and low, I actually found it when I least expected, playing on the Sundance Channel very early in the morning one day. Why I searched endlessly for a small vanity project that Chuck Barris that was made during the last waning years of the TV show, I haven't a clue. The film is simply put horrible. The scripted part that deals with a week that is. Of course the highlight of the film is seeing the real performers that were \"too hot for TV\" or rejected for some reason or other. That part is still horrid, but campy bad which was enjoyable in it's own way. Now that I saw what I sought after for so long will I watch it again in my lifetime? Resoundingly NO!! Do yourself a favor and just watch the MUCH</td>\n",
       "    </tr>\n",
       "  </tbody>\n",
       "</table>"
      ],
      "text/plain": [
       "<IPython.core.display.HTML object>"
      ]
     },
     "metadata": {},
     "output_type": "display_data"
    }
   ],
   "source": [
    "dls.show_batch()"
   ]
  },
  {
   "cell_type": "markdown",
   "id": "e0666f8d",
   "metadata": {},
   "source": [
    "When training a language model, the input and output are made to be the exact same, so there isn't a shown noticable difference here."
   ]
  },
  {
   "cell_type": "markdown",
   "id": "586172ad",
   "metadata": {},
   "source": [
    "## Building `Tuner`"
   ]
  },
  {
   "cell_type": "markdown",
   "id": "23e2d9bf",
   "metadata": {},
   "source": [
    "Next we need to build a compatible `Tuner` for our problem. These tuners contain good defaults for our problem space, including loss functions and metrics.\n",
    "\n",
    "First let's import the `LanguageModelTuner` and view it's documentation"
   ]
  },
  {
   "cell_type": "code",
   "execution_count": null,
   "id": "c54d78db",
   "metadata": {},
   "outputs": [],
   "source": [
    "from adaptnlp import LanguageModelTuner"
   ]
  },
  {
   "cell_type": "code",
   "execution_count": null,
   "id": "WRxJWveszSmY",
   "metadata": {},
   "outputs": [
    {
     "data": {
      "text/markdown": [
       "<h2 id=\"LanguageModelTuner\" class=\"doc_header\"><code>class</code> <code>LanguageModelTuner</code><a href=\"https://github.com/novetta/adaptnlp/tree/master/adaptnlp/training/language_model.py#L231\" class=\"source_link\" style=\"float:right\">[source]</a></h2>\n",
       "\n",
       "> <code>LanguageModelTuner</code>(**`dls`**:`DataLoaders`, **`model_name`**, **`tokenizer`**=*`None`*, **`language_model_type`**:`LMType`=*`'causal'`*, **`loss_func`**=*`CrossEntropyLoss()`*, **`metrics`**=*`[<fastai.metrics.Perplexity object at 0x7fcacf2e3580>]`*, **`opt_func`**=*`Adam`*, **`additional_cbs`**=*`None`*, **`expose_fastai_api`**=*`False`*, **\\*\\*`kwargs`**) :: [`AdaptiveTuner`](/adaptnlp/training.core.html#AdaptiveTuner)\n",
       "\n",
       "An [`AdaptiveTuner`](/adaptnlp/training.core.html#AdaptiveTuner) with good defaults for Language Model fine-tuning\n",
       "**Valid kwargs and defaults:**\n",
       "  - `lr`:float = 0.001\n",
       "  - `splitter`:function = `trainable_params`\n",
       "  - `cbs`:list = None\n",
       "  - `path`:Path = None\n",
       "  - `model_dir`:Path = 'models'\n",
       "  - `wd`:float = None\n",
       "  - `wd_bn_bias`:bool = False\n",
       "  - `train_bn`:bool = True\n",
       "  - `moms`: tuple(float) = (0.95, 0.85, 0.95)\n",
       "\n",
       "**Function Arguments**:\n",
       "* `dls` (`DataLoaders`): A set of DataLoaders or AdaptiveDataLoaders\n",
       "* `model_name`: A HuggingFace model\n",
       "* `language_model_type` (`LMType `): The type of language model to use\n",
       "* `**kwargs`: kwargs for `Learner.__init__`\n",
       "* `**kwargs`: Optional arguments for `PretrainedModel.generate`\n"
      ],
      "text/plain": [
       "<IPython.core.display.Markdown object>"
      ]
     },
     "metadata": {},
     "output_type": "display_data"
    }
   ],
   "source": [
    "from adaptnlp import LanguageModelTuner\n",
    "show_doc(LanguageModelTuner)"
   ]
  },
  {
   "cell_type": "markdown",
   "id": "UXvHCw5HzVil",
   "metadata": {},
   "source": [
    "Next we'll pass in our `DataLoaders`, the name of our model, and the tokenizer:"
   ]
  },
  {
   "cell_type": "markdown",
   "id": "1efac2b5",
   "metadata": {},
   "source": [
    "> Note: If you are not using the data API (`TaskDatasets`, `SequenceClassificationDatasets`, etc), you need to pass in the tokenizer to the constructor as well with `tokenizer=tokenizer`"
   ]
  },
  {
   "cell_type": "code",
   "execution_count": null,
   "id": "k-gczguJzSjM",
   "metadata": {},
   "outputs": [],
   "source": [
    "tuner = LanguageModelTuner(dls, model.name, dls.tokenizer)"
   ]
  },
  {
   "cell_type": "markdown",
   "id": "9rAi8TF5zfPz",
   "metadata": {},
   "source": [
    "By default we can see that it used `CrossEntropyLoss` as our loss function, and `Perplexity` as our metric"
   ]
  },
  {
   "cell_type": "code",
   "execution_count": null,
   "id": "QTyxXImizjxC",
   "metadata": {},
   "outputs": [
    {
     "data": {
      "text/plain": [
       "FlattenedLoss of CrossEntropyLoss()"
      ]
     },
     "execution_count": null,
     "metadata": {},
     "output_type": "execute_result"
    }
   ],
   "source": [
    "tuner.loss_func"
   ]
  },
  {
   "cell_type": "code",
   "execution_count": null,
   "id": "x_PEmOXAzlAE",
   "metadata": {},
   "outputs": [
    {
     "name": "stdout",
     "output_type": "stream",
     "text": [
      "perplexity\n"
     ]
    }
   ],
   "source": [
    "_ = [print(m.name) for m in tuner.metrics]"
   ]
  },
  {
   "cell_type": "markdown",
   "id": "dl-tqB5uzq1k",
   "metadata": {},
   "source": [
    "Finally we just need to train our model!"
   ]
  },
  {
   "cell_type": "markdown",
   "id": "33dd944d",
   "metadata": {},
   "source": [
    "## Fine-Tuning"
   ]
  },
  {
   "cell_type": "markdown",
   "id": "2e9ec17d",
   "metadata": {},
   "source": [
    "And all that's left is to `tune`. There are only 4 or 5 functions you can call on our `tuner` currently, and this is by design to make it simplistic. In case you don't want to be boxed in however, if you pass in `expose_fastai_api=True` to our earlier call, it will expose the entirety of `Learner` to you, so you can call `fit_one_cycle`, `lr_find`, and everything else as `Tuner` uses `fastai` under the hood. \n",
    "\n",
    "First, let's call `lr_find`, which uses fastai's Learning Rate Finder to help us pick a learning rate."
   ]
  },
  {
   "cell_type": "code",
   "execution_count": null,
   "id": "ZTaeO5Vm0P-h",
   "metadata": {},
   "outputs": [
    {
     "data": {
      "text/markdown": [
       "<h4 id=\"AdaptiveTuner.lr_find\" class=\"doc_header\"><code>AdaptiveTuner.lr_find</code><a href=\"https://github.com/novetta/adaptnlp/tree/master/adaptnlp/training/core.py#L383\" class=\"source_link\" style=\"float:right\">[source]</a></h4>\n",
       "\n",
       "> <code>AdaptiveTuner.lr_find</code>(**`start_lr`**=*`1e-07`*, **`end_lr`**=*`10`*, **`num_it`**=*`100`*, **`stop_div`**=*`True`*, **`show_plot`**=*`True`*, **`suggest_funcs`**=*`valley`*)\n",
       "\n",
       "Runs fastai's `LR Finder`\n",
       "\n"
      ],
      "text/plain": [
       "<IPython.core.display.Markdown object>"
      ]
     },
     "metadata": {},
     "output_type": "display_data"
    }
   ],
   "source": [
    "show_doc(LanguageModelTuner.lr_find)"
   ]
  },
  {
   "cell_type": "code",
   "execution_count": null,
   "id": "2oWmrMic0H0z",
   "metadata": {},
   "outputs": [
    {
     "data": {
      "text/html": [],
      "text/plain": [
       "<IPython.core.display.HTML object>"
      ]
     },
     "metadata": {},
     "output_type": "display_data"
    },
    {
     "name": "stderr",
     "output_type": "stream",
     "text": [
      "/opt/venv/lib/python3.8/site-packages/fastai/callback/schedule.py:270: UserWarning: color is redundantly defined by the 'color' keyword argument and the fmt string \"ro\" (-> color='r'). The keyword argument will take precedence.\n",
      "  ax.plot(val, idx, 'ro', label=nm, c=color)\n"
     ]
    },
    {
     "data": {
      "text/plain": [
       "SuggestedLRs(valley=7.585775892948732e-05)"
      ]
     },
     "execution_count": null,
     "metadata": {},
     "output_type": "execute_result"
    },
    {
     "data": {
      "image/png": "[encoded data removed]",
      "text/plain": [
       "<Figure size 432x288 with 1 Axes>"
      ]
     },
     "metadata": {
      "needs_background": "light"
     },
     "output_type": "display_data"
    }
   ],
   "source": [
    "tuner.lr_find()"
   ]
  },
  {
   "cell_type": "markdown",
   "id": "jxviy-Nj0Mly",
   "metadata": {},
   "source": [
    "It recommends a learning rate of around 5e-5, so we will use that."
   ]
  },
  {
   "cell_type": "code",
   "execution_count": null,
   "id": "a20a2181",
   "metadata": {},
   "outputs": [],
   "source": [
    "lr = 5e-5"
   ]
  },
  {
   "cell_type": "markdown",
   "id": "bpl6Krkl0SLX",
   "metadata": {},
   "source": [
    "Let's look at the documentation for `tune`:"
   ]
  },
  {
   "cell_type": "code",
   "execution_count": null,
   "id": "CtnRVQOX0T0-",
   "metadata": {},
   "outputs": [
    {
     "data": {
      "text/markdown": [
       "<h4 id=\"AdaptiveTuner.tune\" class=\"doc_header\"><code>AdaptiveTuner.tune</code><a href=\"https://github.com/novetta/adaptnlp/tree/master/adaptnlp/training/core.py#L369\" class=\"source_link\" style=\"float:right\">[source]</a></h4>\n",
       "\n",
       "> <code>AdaptiveTuner.tune</code>(**`epochs`**:`int`, **`lr`**:`float`=*`None`*, **`strategy`**:`Strategy`=*`'fit_one_cycle'`*, **`callbacks`**:`list`=*`[]`*, **\\*\\*`kwargs`**)\n",
       "\n",
       "Fine tune `self.model` for `epochs` with an `lr` and `strategy`\n",
       "\n"
      ],
      "text/plain": [
       "<IPython.core.display.Markdown object>"
      ]
     },
     "metadata": {},
     "output_type": "display_data"
    }
   ],
   "source": [
    "show_doc(LanguageModelTuner.tune)"
   ]
  },
  {
   "cell_type": "markdown",
   "id": "06gNa3Rk0U-_",
   "metadata": {},
   "source": [
    "We can pass in a number of epochs, a learning rate, a strategy, and additional fastai callbacks to call.\n",
    "\n",
    "Valid strategies live in the `Strategy` namespace class, and consist of:\n",
    "- OneCycle (Also called the [One-Cycle Policy](https://docs.fast.ai/callback.schedule.html#Learner.fit_one_cycle))\n",
    "- [CosineAnnealing](https://docs.fast.ai/callback.schedule.html#Learner.fit_flat_cos)\n",
    "- [SGDR](https://docs.fast.ai/callback.schedule.html#Learner.fit_sgdr)"
   ]
  },
  {
   "cell_type": "code",
   "execution_count": null,
   "id": "5DK9Q-rd0gHN",
   "metadata": {},
   "outputs": [],
   "source": [
    "from adaptnlp import Strategy"
   ]
  },
  {
   "cell_type": "markdown",
   "id": "Xgf9oa4H0nDI",
   "metadata": {},
   "source": [
    "In this tutorial we will train with the One-Cycle policy, as currently it is one of the best schedulers to use."
   ]
  },
  {
   "cell_type": "code",
   "execution_count": null,
   "id": "e4214963",
   "metadata": {},
   "outputs": [
    {
     "data": {
      "text/html": [
       "<table border=\"1\" class=\"dataframe\">\n",
       "  <thead>\n",
       "    <tr style=\"text-align: left;\">\n",
       "      <th>epoch</th>\n",
       "      <th>train_loss</th>\n",
       "      <th>valid_loss</th>\n",
       "      <th>perplexity</th>\n",
       "      <th>time</th>\n",
       "    </tr>\n",
       "  </thead>\n",
       "  <tbody>\n",
       "    <tr>\n",
       "      <td>0</td>\n",
       "      <td>3.907161</td>\n",
       "      <td>3.809843</td>\n",
       "      <td>45.143364</td>\n",
       "      <td>31:15</td>\n",
       "    </tr>\n",
       "    <tr>\n",
       "      <td>1</td>\n",
       "      <td>3.814265</td>\n",
       "      <td>3.767976</td>\n",
       "      <td>43.292336</td>\n",
       "      <td>31:22</td>\n",
       "    </tr>\n",
       "    <tr>\n",
       "      <td>2</td>\n",
       "      <td>3.766881</td>\n",
       "      <td>3.760747</td>\n",
       "      <td>42.980507</td>\n",
       "      <td>31:02</td>\n",
       "    </tr>\n",
       "  </tbody>\n",
       "</table>"
      ],
      "text/plain": [
       "<IPython.core.display.HTML object>"
      ]
     },
     "metadata": {},
     "output_type": "display_data"
    }
   ],
   "source": [
    "tuner.tune(3, lr, strategy=Strategy.OneCycle)"
   ]
  },
  {
   "cell_type": "markdown",
   "id": "42dc3547",
   "metadata": {},
   "source": [
    "## Saving Model"
   ]
  },
  {
   "cell_type": "markdown",
   "id": "2aebf7b2",
   "metadata": {},
   "source": [
    "Now that we have a trained model, let's save those weights away.\n",
    "\n",
    "Calling `tuner.save` will save both the model and the tokenizer in the same format as how HuggingFace does:"
   ]
  },
  {
   "cell_type": "code",
   "execution_count": null,
   "id": "a01b6b63",
   "metadata": {},
   "outputs": [
    {
     "data": {
      "text/markdown": [
       "<h4 id=\"AdaptiveTuner.save\" class=\"doc_header\"><code>AdaptiveTuner.save</code><a href=\"https://github.com/novetta/adaptnlp/tree/master/adaptnlp/training/core.py#L391\" class=\"source_link\" style=\"float:right\">[source]</a></h4>\n",
       "\n",
       "> <code>AdaptiveTuner.save</code>(**`save_directory`**)\n",
       "\n",
       "Save a pretrained model to a `save_directory`\n",
       "\n",
       "**Function Arguments**:\n",
       "* `save_directory`: A folder to save our model to\n"
      ],
      "text/plain": [
       "<IPython.core.display.Markdown object>"
      ]
     },
     "metadata": {},
     "output_type": "display_data"
    }
   ],
   "source": [
    "show_doc(LanguageModelTuner.save)"
   ]
  },
  {
   "cell_type": "code",
   "execution_count": null,
   "id": "WHCmaQxp0_88",
   "metadata": {},
   "outputs": [
    {
     "data": {
      "text/plain": [
       "'good_model'"
      ]
     },
     "execution_count": null,
     "metadata": {},
     "output_type": "execute_result"
    }
   ],
   "source": [
    "tuner.save('good_model')"
   ]
  },
  {
   "cell_type": "markdown",
   "id": "faf8dec2",
   "metadata": {},
   "source": [
    "## Performing Inference"
   ]
  },
  {
   "cell_type": "markdown",
   "id": "1ce058be",
   "metadata": {},
   "source": [
    "There are two ways to get predictions, the first is with the `.predict` method in our `tuner`. This is great for if you just finished training and want to see how your model performs on some new data!\n",
    "The other method is with AdaptNLP's inference API, which we will show afterwards"
   ]
  },
  {
   "cell_type": "markdown",
   "id": "S_OxB8QN1PD2",
   "metadata": {},
   "source": [
    "### In Tuner\n",
    "\n",
    "First let's write a sentence to test with"
   ]
  },
  {
   "cell_type": "code",
   "execution_count": null,
   "id": "43d011be",
   "metadata": {},
   "outputs": [],
   "source": [
    "sentence = \"Hugh Jackman is a terrible\""
   ]
  },
  {
   "cell_type": "markdown",
   "id": "jHP8lv2P1kKf",
   "metadata": {},
   "source": [
    "And then predict with it:"
   ]
  },
  {
   "cell_type": "code",
   "execution_count": null,
   "id": "KRdOk9bt1lSy",
   "metadata": {},
   "outputs": [
    {
     "data": {
      "text/markdown": [
       "<h4 id=\"LanguageModelTuner.predict\" class=\"doc_header\"><code>LanguageModelTuner.predict</code><a href=\"https://github.com/novetta/adaptnlp/tree/master/adaptnlp/training/language_model.py#L296\" class=\"source_link\" style=\"float:right\">[source]</a></h4>\n",
       "\n",
       "> <code>LanguageModelTuner.predict</code>(**`text`**:`Union`\\[`List`\\[`str`\\], `str`\\], **`bs`**:`int`=*`64`*, **`num_tokens_to_produce`**:`int`=*`50`*, **\\*\\*`kwargs`**)\n",
       "\n",
       "Predict some `text` for sequence classification with the currently loaded model\n",
       "\n",
       "**Function Arguments**:\n",
       "* `text` (`Union[List[str], str]`): Some text or list of texts to do inference with\n",
       "* `bs` (`int`): A batch size to use for multiple texts\n",
       "* `num_tokens_to_produce` (`int`): Number of tokens to generate\n",
       "* `**kwargs`: Optional arguments for `PretrainedModel.generate`\n"
      ],
      "text/plain": [
       "<IPython.core.display.Markdown object>"
      ]
     },
     "metadata": {},
     "output_type": "display_data"
    }
   ],
   "source": [
    "show_doc(LanguageModelTuner.predict)"
   ]
  },
  {
   "cell_type": "code",
   "execution_count": null,
   "id": "wPhkn9fp1mi6",
   "metadata": {},
   "outputs": [
    {
     "data": {
      "text/html": [
       "\n",
       "    <div>\n",
       "        <style>\n",
       "            /* Turns off some styling */\n",
       "            progress {\n",
       "                /* gets rid of default border in Firefox and Opera. */\n",
       "                border: none;\n",
       "                /* Needs to be in here for Safari polyfill so background images work as expected. */\n",
       "                background-size: auto;\n",
       "            }\n",
       "            .progress-bar-interrupted, .progress-bar-interrupted::-webkit-progress-bar {\n",
       "                background: #F44336;\n",
       "            }\n",
       "        </style>\n",
       "      <progress value='1' class='' max='1' style='width:300px; height:20px; vertical-align: middle;'></progress>\n",
       "      100.00% [1/1 00:00<00:00]\n",
       "    </div>\n",
       "    "
      ],
      "text/plain": [
       "<IPython.core.display.HTML object>"
      ]
     },
     "metadata": {},
     "output_type": "display_data"
    },
    {
     "data": {
      "text/plain": [
       "{'generated_text': [\"Hugh Jackman is a terrible actor, and I'm not sure if he's a good actor\"]}"
      ]
     },
     "execution_count": null,
     "metadata": {},
     "output_type": "execute_result"
    }
   ],
   "source": [
    "tuner.predict(sentence, num_tokens_to_produce=13)"
   ]
  },
  {
   "cell_type": "markdown",
   "id": "caaihrDr1taH",
   "metadata": {},
   "source": [
    "### With the Inference API\n",
    "\n",
    "Next we will use the `EasyTextGenerator` class, which AdaptNLP offers:"
   ]
  },
  {
   "cell_type": "code",
   "execution_count": null,
   "id": "S2TyPxzh10Tx",
   "metadata": {},
   "outputs": [],
   "source": [
    "from adaptnlp import EasyTextGenerator"
   ]
  },
  {
   "cell_type": "markdown",
   "id": "2_5JihBk12kA",
   "metadata": {},
   "source": [
    "We simply construct the class:"
   ]
  },
  {
   "cell_type": "code",
   "execution_count": null,
   "id": "Wa2mnVPY10QR",
   "metadata": {},
   "outputs": [],
   "source": [
    "classifier = EasyTextGenerator()"
   ]
  },
  {
   "cell_type": "markdown",
   "id": "Vf_HrdWy1_-Q",
   "metadata": {},
   "source": [
    "And call the `tag_text` method, passing in the sentence, the location of our saved model, and some names for our classes:"
   ]
  },
  {
   "cell_type": "code",
   "execution_count": null,
   "id": "UX_sdJkL10JA",
   "metadata": {},
   "outputs": [
    {
     "name": "stderr",
     "output_type": "stream",
     "text": [
      "Special tokens have been added in the vocabulary, make sure the associated word embeddings are fine-tuned or trained.\n"
     ]
    },
    {
     "data": {
      "text/html": [
       "\n",
       "    <div>\n",
       "        <style>\n",
       "            /* Turns off some styling */\n",
       "            progress {\n",
       "                /* gets rid of default border in Firefox and Opera. */\n",
       "                border: none;\n",
       "                /* Needs to be in here for Safari polyfill so background images work as expected. */\n",
       "                background-size: auto;\n",
       "            }\n",
       "            .progress-bar-interrupted, .progress-bar-interrupted::-webkit-progress-bar {\n",
       "                background: #F44336;\n",
       "            }\n",
       "        </style>\n",
       "      <progress value='1' class='' max='1' style='width:300px; height:20px; vertical-align: middle;'></progress>\n",
       "      100.00% [1/1 00:00<00:00]\n",
       "    </div>\n",
       "    "
      ],
      "text/plain": [
       "<IPython.core.display.HTML object>"
      ]
     },
     "metadata": {},
     "output_type": "display_data"
    },
    {
     "data": {
      "text/plain": [
       "{'generated_text': [\"Hugh Jackman is a terrible actor, and I'm not sure if he's a good actor\"]}"
      ]
     },
     "execution_count": null,
     "metadata": {},
     "output_type": "execute_result"
    }
   ],
   "source": [
    "classifier.generate(\n",
    "    sentence,\n",
    "    model_name_or_path='good_model',\n",
    "    num_tokens_to_produce=13\n",
    ")"
   ]
  },
  {
   "cell_type": "markdown",
   "id": "qXsMgmQC2Qmt",
   "metadata": {},
   "source": [
    "And we got the exact same output!"
   ]
  }
 ],
 "metadata": {
  "kernelspec": {
   "display_name": "Python 3 (ipykernel)",
   "language": "python",
   "name": "python3"
  }
 },
 "nbformat": 4,
 "nbformat_minor": 5
}
