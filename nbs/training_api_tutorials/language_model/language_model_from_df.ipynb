{
 "cells": [
  {
   "cell_type": "code",
   "execution_count": null,
   "id": "53946cd5",
   "metadata": {},
   "outputs": [],
   "source": [
    "#all_slow"
   ]
  },
  {
   "cell_type": "markdown",
   "id": "ca157d7d",
   "metadata": {},
   "source": [
    "# Tutorial&#58; Fine-Tuning a Language Model on DataFrames with IMDB\n",
    "> Tuning a base Language model on the IMDB dataset"
   ]
  },
  {
   "cell_type": "markdown",
   "id": "e17d8af2",
   "metadata": {},
   "source": [
    "## Introduction\n",
    "\n",
    "In this tutorial we will be showing an end-to-end example of fine-tuning a Transformer language model on a custom dataset in `DataFrame` format.\n",
    "\n",
    "By the end of this you should be able to:\n",
    "\n",
    "1. Build a dataset with the `LanguageModelDatasets` class, and their DataLoaders\n",
    "2. Build a `LanguageModelTuner` quickly, find a good learning rate, and train with the One-Cycle Policy\n",
    "3. Save that model away, to be used with deployment or other HuggingFace libraries\n",
    "4. Apply inference using both the `Tuner` available function as well as with the `EasyTextGenerator` class within AdaptNLP"
   ]
  },
  {
   "cell_type": "markdown",
   "id": "3a44baa5",
   "metadata": {},
   "source": [
    "## Installing the Library"
   ]
  },
  {
   "cell_type": "markdown",
   "id": "fce03b17",
   "metadata": {},
   "source": [
    "This tutorial utilizies the latest AdaptNLP version, as well as parts of the `fastai` library. Please run the below code to install them:\n",
    "\n",
    "```python\n",
    "!pip install adaptnlp -U\n",
    "```\n",
    "(or `pip3`)"
   ]
  },
  {
   "cell_type": "code",
   "execution_count": null,
   "id": "VOwOHNTgyJzY",
   "metadata": {},
   "outputs": [],
   "source": [
    "#hide\n",
    "from nbverbose.showdoc import *"
   ]
  },
  {
   "cell_type": "markdown",
   "id": "86de58d7",
   "metadata": {},
   "source": [
    "## Getting the Dataset"
   ]
  },
  {
   "cell_type": "markdown",
   "id": "2a039f4f",
   "metadata": {},
   "source": [
    "First we need a dataset. We will use the `fastai` library to download the `IMDB_SAMPLE` dataset, a subset of IMDB Movie Reviews."
   ]
  },
  {
   "cell_type": "code",
   "execution_count": null,
   "id": "82a2612b",
   "metadata": {},
   "outputs": [],
   "source": [
    "from fastai.data.external import URLs, untar_data"
   ]
  },
  {
   "cell_type": "markdown",
   "id": "a1f46366",
   "metadata": {},
   "source": [
    "`URLs` holds a namespace of many data endpoints, and `untar_data` is a function that can download and extract any data from a given URL.\n",
    "\n",
    "Combining both, we can download the data:"
   ]
  },
  {
   "cell_type": "code",
   "execution_count": null,
   "id": "bcc5510a",
   "metadata": {},
   "outputs": [],
   "source": [
    "data_path = untar_data(URLs.IMDB_SAMPLE)"
   ]
  },
  {
   "cell_type": "markdown",
   "id": "b9a3a4f8",
   "metadata": {},
   "source": [
    "If we look at what was downloaded, we will find a `texts.csv` file:"
   ]
  },
  {
   "cell_type": "code",
   "execution_count": null,
   "id": "b9683198",
   "metadata": {},
   "outputs": [
    {
     "data": {
      "text/plain": [
       "(#1) [Path('/root/.fastai/data/imdb_sample/texts.csv')]"
      ]
     },
     "execution_count": null,
     "metadata": {},
     "output_type": "execute_result"
    }
   ],
   "source": [
    "data_path.ls()"
   ]
  },
  {
   "cell_type": "markdown",
   "id": "79f0ec65",
   "metadata": {},
   "source": [
    "This is our data we want to use. We should now open the `csv` in `pandas` to generate our `DataFrame` object:"
   ]
  },
  {
   "cell_type": "code",
   "execution_count": null,
   "id": "33a19f73",
   "metadata": {},
   "outputs": [],
   "source": [
    "import pandas as pd"
   ]
  },
  {
   "cell_type": "code",
   "execution_count": null,
   "id": "f93b687b",
   "metadata": {},
   "outputs": [],
   "source": [
    "df = pd.read_csv(data_path/'texts.csv')"
   ]
  },
  {
   "cell_type": "markdown",
   "id": "2307856c",
   "metadata": {},
   "source": [
    "Let's look at our data"
   ]
  },
  {
   "cell_type": "code",
   "execution_count": null,
   "id": "d4413be4",
   "metadata": {},
   "outputs": [
    {
     "data": {
      "text/html": [
       "<div>\n",
       "<style scoped>\n",
       "    .dataframe tbody tr th:only-of-type {\n",
       "        vertical-align: middle;\n",
       "    }\n",
       "\n",
       "    .dataframe tbody tr th {\n",
       "        vertical-align: top;\n",
       "    }\n",
       "\n",
       "    .dataframe thead th {\n",
       "        text-align: right;\n",
       "    }\n",
       "</style>\n",
       "<table border=\"1\" class=\"dataframe\">\n",
       "  <thead>\n",
       "    <tr style=\"text-align: right;\">\n",
       "      <th></th>\n",
       "      <th>label</th>\n",
       "      <th>text</th>\n",
       "      <th>is_valid</th>\n",
       "    </tr>\n",
       "  </thead>\n",
       "  <tbody>\n",
       "    <tr>\n",
       "      <th>0</th>\n",
       "      <td>negative</td>\n",
       "      <td>Un-bleeping-believable! Meg Ryan doesn't even look her usual pert lovable self in this, which normally makes me forgive her shallow ticky acting schtick. Hard to believe she was the producer on this dog. Plus Kevin Kline: what kind of suicide trip has his career been on? Whoosh... Banzai!!! Finally this was directed by the guy who did Big Chill? Must be a replay of Jonestown - hollywood style. Wooofff!</td>\n",
       "      <td>False</td>\n",
       "    </tr>\n",
       "    <tr>\n",
       "      <th>1</th>\n",
       "      <td>positive</td>\n",
       "      <td>This is a extremely well-made film. The acting, script and camera-work are all first-rate. The music is good, too, though it is mostly early in the film, when things are still relatively cheery. There are no really superstars in the cast, though several faces will be familiar. The entire cast does an excellent job with the script.&lt;br /&gt;&lt;br /&gt;But it is hard to watch, because there is no good end to a situation like the one presented. It is now fashionable to blame the British for setting Hindus and Muslims against each other, and then cruelly separating them into two countries. There is som...</td>\n",
       "      <td>False</td>\n",
       "    </tr>\n",
       "    <tr>\n",
       "      <th>2</th>\n",
       "      <td>negative</td>\n",
       "      <td>Every once in a long while a movie will come along that will be so awful that I feel compelled to warn people. If I labor all my days and I can save but one soul from watching this movie, how great will be my joy.&lt;br /&gt;&lt;br /&gt;Where to begin my discussion of pain. For starters, there was a musical montage every five minutes. There was no character development. Every character was a stereotype. We had swearing guy, fat guy who eats donuts, goofy foreign guy, etc. The script felt as if it were being written as the movie was being shot. The production value was so incredibly low that it felt li...</td>\n",
       "      <td>False</td>\n",
       "    </tr>\n",
       "    <tr>\n",
       "      <th>3</th>\n",
       "      <td>positive</td>\n",
       "      <td>Name just says it all. I watched this movie with my dad when it came out and having served in Korea he had great admiration for the man. The disappointing thing about this film is that it only concentrate on a short period of the man's life - interestingly enough the man's entire life would have made such an epic bio-pic that it is staggering to imagine the cost for production.&lt;br /&gt;&lt;br /&gt;Some posters elude to the flawed characteristics about the man, which are cheap shots. The theme of the movie \"Duty, Honor, Country\" are not just mere words blathered from the lips of a high-brassed offic...</td>\n",
       "      <td>False</td>\n",
       "    </tr>\n",
       "    <tr>\n",
       "      <th>4</th>\n",
       "      <td>negative</td>\n",
       "      <td>This movie succeeds at being one of the most unique movies you've seen. However this comes from the fact that you can't make heads or tails of this mess. It almost seems as a series of challenges set up to determine whether or not you are willing to walk out of the movie and give up the money you just paid. If you don't want to feel slighted you'll sit through this horrible film and develop a real sense of pity for the actors involved, they've all seen better days, but then you realize they actually got paid quite a bit of money to do this and you'll lose pity for them just like you've alr...</td>\n",
       "      <td>False</td>\n",
       "    </tr>\n",
       "  </tbody>\n",
       "</table>\n",
       "</div>"
      ],
      "text/plain": [
       "      label  \\\n",
       "0  negative   \n",
       "1  positive   \n",
       "2  negative   \n",
       "3  positive   \n",
       "4  negative   \n",
       "\n",
       "                                                                                                                                                                                                                                                                                                                                                                                                                                                                                                                                                                                                                      text  \\\n",
       "0                                                                                                                                                                                                    Un-bleeping-believable! Meg Ryan doesn't even look her usual pert lovable self in this, which normally makes me forgive her shallow ticky acting schtick. Hard to believe she was the producer on this dog. Plus Kevin Kline: what kind of suicide trip has his career been on? Whoosh... Banzai!!! Finally this was directed by the guy who did Big Chill? Must be a replay of Jonestown - hollywood style. Wooofff!   \n",
       "1  This is a extremely well-made film. The acting, script and camera-work are all first-rate. The music is good, too, though it is mostly early in the film, when things are still relatively cheery. There are no really superstars in the cast, though several faces will be familiar. The entire cast does an excellent job with the script.<br /><br />But it is hard to watch, because there is no good end to a situation like the one presented. It is now fashionable to blame the British for setting Hindus and Muslims against each other, and then cruelly separating them into two countries. There is som...   \n",
       "2  Every once in a long while a movie will come along that will be so awful that I feel compelled to warn people. If I labor all my days and I can save but one soul from watching this movie, how great will be my joy.<br /><br />Where to begin my discussion of pain. For starters, there was a musical montage every five minutes. There was no character development. Every character was a stereotype. We had swearing guy, fat guy who eats donuts, goofy foreign guy, etc. The script felt as if it were being written as the movie was being shot. The production value was so incredibly low that it felt li...   \n",
       "3  Name just says it all. I watched this movie with my dad when it came out and having served in Korea he had great admiration for the man. The disappointing thing about this film is that it only concentrate on a short period of the man's life - interestingly enough the man's entire life would have made such an epic bio-pic that it is staggering to imagine the cost for production.<br /><br />Some posters elude to the flawed characteristics about the man, which are cheap shots. The theme of the movie \"Duty, Honor, Country\" are not just mere words blathered from the lips of a high-brassed offic...   \n",
       "4  This movie succeeds at being one of the most unique movies you've seen. However this comes from the fact that you can't make heads or tails of this mess. It almost seems as a series of challenges set up to determine whether or not you are willing to walk out of the movie and give up the money you just paid. If you don't want to feel slighted you'll sit through this horrible film and develop a real sense of pity for the actors involved, they've all seen better days, but then you realize they actually got paid quite a bit of money to do this and you'll lose pity for them just like you've alr...   \n",
       "\n",
       "   is_valid  \n",
       "0     False  \n",
       "1     False  \n",
       "2     False  \n",
       "3     False  \n",
       "4     False  "
      ]
     },
     "execution_count": null,
     "metadata": {},
     "output_type": "execute_result"
    }
   ],
   "source": [
    "df.head()"
   ]
  },
  {
   "cell_type": "markdown",
   "id": "bf0610dd",
   "metadata": {},
   "source": [
    "We will find that there is a `label`, some `text`, and a `is_valid` boolean, which determines if a row is part of the training or the validation set"
   ]
  },
  {
   "cell_type": "markdown",
   "id": "6bcf48d1",
   "metadata": {},
   "source": [
    "Now that we've downloaded some data, let's pick a viable model to train with"
   ]
  },
  {
   "cell_type": "markdown",
   "id": "320caa02",
   "metadata": {},
   "source": [
    "## Picking a Model with the Hub"
   ]
  },
  {
   "cell_type": "markdown",
   "id": "170b200d",
   "metadata": {},
   "source": [
    "AdaptNLP has a `HFModelHub` class that allows you to communicate with the HuggingFace Hub and pick a model from it, as well as a namespace `HF_TASKS` class with a list of valid tasks we can search by.\n",
    "\n",
    "Let's try and find one suitable for sequence classification.\n",
    "\n",
    "First we need to import the class and generate an instance of it:"
   ]
  },
  {
   "cell_type": "code",
   "execution_count": null,
   "id": "e6c1f6ab",
   "metadata": {},
   "outputs": [],
   "source": [
    "from adaptnlp import HFModelHub, HF_TASKS"
   ]
  },
  {
   "cell_type": "code",
   "execution_count": null,
   "id": "9460e9d8",
   "metadata": {},
   "outputs": [],
   "source": [
    "hub = HFModelHub()"
   ]
  },
  {
   "cell_type": "markdown",
   "id": "7ce5e54e",
   "metadata": {},
   "source": [
    "Next we can search for a model:"
   ]
  },
  {
   "cell_type": "code",
   "execution_count": null,
   "id": "1ded037a",
   "metadata": {},
   "outputs": [],
   "source": [
    "models = hub.search_model_by_task(HF_TASKS.TEXT_GENERATION)"
   ]
  },
  {
   "cell_type": "markdown",
   "id": "9fec0167",
   "metadata": {},
   "source": [
    "Let's look at a few:"
   ]
  },
  {
   "cell_type": "code",
   "execution_count": null,
   "id": "17717851",
   "metadata": {},
   "outputs": [
    {
     "data": {
      "text/plain": [
       "[Model Name: distilgpt2, Tasks: [text-generation],\n",
       " Model Name: gpt2-large, Tasks: [text-generation],\n",
       " Model Name: gpt2-medium, Tasks: [text-generation],\n",
       " Model Name: gpt2-xl, Tasks: [text-generation],\n",
       " Model Name: gpt2, Tasks: [text-generation],\n",
       " Model Name: openai-gpt, Tasks: [text-generation],\n",
       " Model Name: transfo-xl-wt103, Tasks: [text-generation],\n",
       " Model Name: xlnet-base-cased, Tasks: [text-generation],\n",
       " Model Name: xlnet-large-cased, Tasks: [text-generation]]"
      ]
     },
     "execution_count": null,
     "metadata": {},
     "output_type": "execute_result"
    }
   ],
   "source": [
    "models[:10]"
   ]
  },
  {
   "cell_type": "markdown",
   "id": "92cc23ba",
   "metadata": {},
   "source": [
    "These are models specifically tagged with the `text-generation` tag, so you may not see a few models you would expect such as `bert_base_cased`.\n",
    "\n",
    "We'll use that first model, `distilgpt2`:"
   ]
  },
  {
   "cell_type": "code",
   "execution_count": null,
   "id": "60e340d4",
   "metadata": {},
   "outputs": [],
   "source": [
    "model = models[0]"
   ]
  },
  {
   "cell_type": "code",
   "execution_count": null,
   "id": "9b29d210",
   "metadata": {},
   "outputs": [
    {
     "data": {
      "text/plain": [
       "Model Name: distilgpt2, Tasks: [text-generation]"
      ]
     },
     "execution_count": null,
     "metadata": {},
     "output_type": "execute_result"
    }
   ],
   "source": [
    "model"
   ]
  },
  {
   "cell_type": "markdown",
   "id": "a567732b",
   "metadata": {},
   "source": [
    "Now that we have picked a model, let's use the data API to prepare our data"
   ]
  },
  {
   "cell_type": "markdown",
   "id": "a52c80c1",
   "metadata": {},
   "source": [
    "> Note: It should be mentioned that this is optional, you can always just pass in the string name of a model such as \"bert-base-cased\""
   ]
  },
  {
   "cell_type": "markdown",
   "id": "b676253e",
   "metadata": {},
   "source": [
    "## Building `TaskDatasets` with `LanguageModelDatasets`"
   ]
  },
  {
   "cell_type": "markdown",
   "id": "7faa7c29",
   "metadata": {},
   "source": [
    "Each task has a high-level data wrapper around the `TaskDatasets` class. In our case this is the `LanguageModelDatasets` class:"
   ]
  },
  {
   "cell_type": "code",
   "execution_count": null,
   "id": "83994a53",
   "metadata": {},
   "outputs": [],
   "source": [
    "from adaptnlp import LanguageModelDatasets"
   ]
  },
  {
   "cell_type": "markdown",
   "id": "6965c387",
   "metadata": {},
   "source": [
    "There are multiple different constructors for the `LanguageModelDatasets` class, and you should never call the main constructor directly.\n",
    "\n",
    "We will be using `from_dfs`:"
   ]
  },
  {
   "cell_type": "code",
   "execution_count": null,
   "id": "ce0cfe3a",
   "metadata": {},
   "outputs": [
    {
     "data": {
      "text/markdown": [
       "<h4 id=\"LanguageModelDatasets.from_dfs\" class=\"doc_header\"><code>LanguageModelDatasets.from_dfs</code><a href=\"https://github.com/novetta/adaptnlp/tree/master/adaptnlp/training/language_model.py#L74\" class=\"source_link\" style=\"float:right\">[source]</a></h4>\n",
       "\n",
       "> <code>LanguageModelDatasets.from_dfs</code>(**`train_df`**:`DataFrame`, **`text_col`**:`str`, **`tokenizer_name`**:`str`, **`block_size`**:`int`=*`128`*, **`masked_lm`**:`bool`=*`False`*, **`valid_df`**:`DataFrame`=*`None`*, **`split_func`**:`callable`=*`None`*, **`split_pct`**:`float`=*`0.1`*, **`tokenize_kwargs`**:`dict`=*`{}`*, **`auto_kwargs`**:`dict`=*`{}`*)\n",
       "\n",
       "Builds [`LanguageModelDatasets`](/adaptnlp/training.language_model.html#LanguageModelDatasets) from a `DataFrame` or file path\n",
       "\n",
       "**Parameters:**\n",
       "\n",
       "\n",
       " - **`train_df`** : *`<class 'pandas.core.frame.DataFrame'>`*\t<p>A Pandas Dataframe</p>\n",
       "\n",
       "\n",
       " - **`text_col`** : *`<class 'str'>`*\t<p>The name of the text column</p>\n",
       "\n",
       "\n",
       " - **`tokenizer_name`** : *`<class 'str'>`*\t<p>The name of the tokenizer</p>\n",
       "\n",
       "\n",
       " - **`block_size`** : *`<class 'int'>`*, *optional*\t<p>The size of each block</p>\n",
       "\n",
       "\n",
       " - **`masked_lm`** : *`<class 'bool'>`*, *optional*\t<p>Whether the language model is a MLM</p>\n",
       "\n",
       "\n",
       " - **`valid_df`** : *`<class 'pandas.core.frame.DataFrame'>`*, *optional*\t<p>An optional validation DataFrame</p>\n",
       "\n",
       "\n",
       " - **`split_func`** : *`<built-in function callable>`*, *optional*\t<p>Optionally a splitting function similar to RandomSplitter</p>\n",
       "\n",
       "\n",
       " - **`split_pct`** : *`<class 'float'>`*, *optional*\t<p>What % to split the df between training and validation</p>\n",
       "\n",
       "\n",
       " - **`tokenize_kwargs`** : *`<class 'dict'>`*, *optional*\t<p>kwargs for the tokenize function</p>\n",
       "\n",
       "\n",
       " - **`auto_kwargs`** : *`<class 'dict'>`*, *optional*\t<p>kwargs for the AutoTokenizer.from_pretrained constructor</p>\n",
       "\n"
      ],
      "text/plain": [
       "<IPython.core.display.Markdown object>"
      ]
     },
     "metadata": {},
     "output_type": "display_data"
    }
   ],
   "source": [
    "from adaptnlp import LanguageModelDatasets\n",
    "show_doc(LanguageModelDatasets.from_dfs)"
   ]
  },
  {
   "cell_type": "markdown",
   "id": "a224521a",
   "metadata": {},
   "source": [
    "Anything you would normally pass to the tokenizer call (such as `max_length`, `padding`) should go in `tokenize_kwargs`, and anything going to the `AutoTokenizer.from_pretrained` constructor should be passed to the `auto_kwargs`.\n",
    "\n",
    "In our case we only have a `train_df`, and since we are training a language model, we want to split the data 90/10 (which is the default)"
   ]
  },
  {
   "cell_type": "markdown",
   "id": "e805e1a8",
   "metadata": {},
   "source": [
    "Also, we will set a block_size of 128, and it is *not* a masked language model:"
   ]
  },
  {
   "cell_type": "code",
   "execution_count": null,
   "id": "497cf7f7",
   "metadata": {},
   "outputs": [
    {
     "name": "stdout",
     "output_type": "stream",
     "text": [
      "No value for `max_length` set, automatically adjusting to the size of the model and including truncation\n",
      "Sequence length set to: 1024\n"
     ]
    },
    {
     "data": {
      "application/vnd.jupyter.widget-view+json": {
       "model_id": "953a59fb5a7643188cbacad3784d5b1e",
       "version_major": 2,
       "version_minor": 0
      },
      "text/plain": [
       "HBox(children=(FloatProgress(value=0.0, max=1.0), HTML(value='')))"
      ]
     },
     "metadata": {},
     "output_type": "display_data"
    },
    {
     "name": "stdout",
     "output_type": "stream",
     "text": [
      "\n"
     ]
    },
    {
     "data": {
      "application/vnd.jupyter.widget-view+json": {
       "model_id": "62038d45eede488d82ffb1437708e4a0",
       "version_major": 2,
       "version_minor": 0
      },
      "text/plain": [
       "HBox(children=(FloatProgress(value=0.0, max=1.0), HTML(value='')))"
      ]
     },
     "metadata": {},
     "output_type": "display_data"
    },
    {
     "name": "stdout",
     "output_type": "stream",
     "text": [
      "\n"
     ]
    },
    {
     "data": {
      "application/vnd.jupyter.widget-view+json": {
       "model_id": "386ea3a5a60a44389c80ed0410c057a4",
       "version_major": 2,
       "version_minor": 0
      },
      "text/plain": [
       "HBox(children=(FloatProgress(value=0.0, max=1.0), HTML(value='')))"
      ]
     },
     "metadata": {},
     "output_type": "display_data"
    },
    {
     "name": "stdout",
     "output_type": "stream",
     "text": [
      "\n"
     ]
    },
    {
     "data": {
      "application/vnd.jupyter.widget-view+json": {
       "model_id": "da1841c9d0124be68aa72ffcbb22c66d",
       "version_major": 2,
       "version_minor": 0
      },
      "text/plain": [
       "HBox(children=(FloatProgress(value=0.0, max=1.0), HTML(value='')))"
      ]
     },
     "metadata": {},
     "output_type": "display_data"
    },
    {
     "name": "stdout",
     "output_type": "stream",
     "text": [
      "\n"
     ]
    }
   ],
   "source": [
    "dsets = LanguageModelDatasets.from_dfs(\n",
    "    train_df=df,\n",
    "    text_col='text',\n",
    "    tokenizer_name=model.name,\n",
    "    block_size=128,\n",
    "    masked_lm=False\n",
    ")"
   ]
  },
  {
   "cell_type": "markdown",
   "id": "6eebf5ec",
   "metadata": {},
   "source": [
    "> Note: If you have a training and validation `DataFrame`, simply pass in the validation `DataFrame` as `valid_df=validation_dataframe` and do not pass in any `split_func` or `split_pct`. Everything else is the exact same"
   ]
  },
  {
   "cell_type": "markdown",
   "id": "4faae30d",
   "metadata": {},
   "source": [
    "And finally turn it into some `AdaptiveDataLoaders`.\n",
    "\n",
    "These are just fastai's `DataLoaders` class, but it overrides a few functions to have it work nicely with HuggingFace's `Dataset` class"
   ]
  },
  {
   "cell_type": "code",
   "execution_count": null,
   "id": "08cc36db",
   "metadata": {},
   "outputs": [
    {
     "data": {
      "text/markdown": [
       "<h4 id=\"LanguageModelDatasets.dataloaders\" class=\"doc_header\"><code>LanguageModelDatasets.dataloaders</code><a href=\"https://github.com/novetta/adaptnlp/tree/master/adaptnlp/training/language_model.py#L202\" class=\"source_link\" style=\"float:right\">[source]</a></h4>\n",
       "\n",
       "> <code>LanguageModelDatasets.dataloaders</code>(**`batch_size`**=*`8`*, **`shuffle_train`**=*`True`*, **`collate_fn`**=*`default_data_collator`*, **`mlm_probability`**:`float`=*`0.15`*, **`path`**=*`'.'`*, **`device`**=*`None`*)\n",
       "\n",
       "Build DataLoaders from `self`\n",
       "\n",
       "**Parameters:**\n",
       "\n",
       "\n",
       " - **`batch_size`** : *`<class 'int'>`*, *optional*\t<p>A batch size</p>\n",
       "\n",
       "\n",
       " - **`shuffle_train`** : *`<class 'bool'>`*, *optional*\t<p>Whether to shuffle the training dataset</p>\n",
       "\n",
       "\n",
       " - **`collate_fn`** : *`<class 'function'>`*, *optional*\t<p>A custom collation function</p>\n",
       "\n",
       "\n",
       " - **`mlm_probability`** : *`<class 'float'>`*, *optional*\t<p>Token masking probablity for Masked Language Models</p>\n",
       "\n",
       "\n",
       " - **`path`** : *`<class 'str'>`*, *optional*\n",
       "\n",
       " - **`device`** : *`<class 'NoneType'>`*, *optional*\n"
      ],
      "text/plain": [
       "<IPython.core.display.Markdown object>"
      ]
     },
     "metadata": {},
     "output_type": "display_data"
    }
   ],
   "source": [
    "show_doc(LanguageModelDatasets.dataloaders)"
   ]
  },
  {
   "cell_type": "code",
   "execution_count": null,
   "id": "031a26b4",
   "metadata": {},
   "outputs": [],
   "source": [
    "dls = dsets.dataloaders(batch_size=8)"
   ]
  },
  {
   "cell_type": "markdown",
   "id": "91df0c08",
   "metadata": {},
   "source": [
    "Finally, let's view a batch of data with the `show_batch` function:"
   ]
  },
  {
   "cell_type": "code",
   "execution_count": null,
   "id": "965ad300",
   "metadata": {},
   "outputs": [
    {
     "data": {
      "text/html": [
       "<table border=\"1\" class=\"dataframe\">\n",
       "  <thead>\n",
       "    <tr style=\"text-align: right;\">\n",
       "      <th></th>\n",
       "      <th>Input</th>\n",
       "      <th>Label</th>\n",
       "    </tr>\n",
       "  </thead>\n",
       "  <tbody>\n",
       "    <tr>\n",
       "      <th>0</th>\n",
       "      <td>finished program or will Willie wring Al's neck?&lt;br /&gt;&lt;br /&gt;The three leads, Matthau, Burns, and Benjamin, do very well with the one-liners, frequently reminiscent of vaudeville patter (example: \"Chest pains...I'm getting chest pains Uncle Willie. Every Thursday I come here and get chest pains!\" \"So, come on Fridays!\"). Benjamin strives to prove his deep affection for his uncle, although Matthau's rough outer shell makes it difficult (he only smooths down when he discusses the glory days of vaudeville). Matthau has a little better grasp on reality (at first) than Burns, who seems senile by his repeating himself - but in actuality Matthau's sense of rejection by the world that once applauded him make him less willing to behave properly. Burns is not senile - he takes things slowly. But he seems far happier in accepting his retirement.&lt;br /&gt;&lt;br /&gt;I call this a final \"Voyage of Discovery\" for our modern Lewis and Clark. Al and Willie transcend their old skits, as they gradually end up realizing that they have more in common in their old age than they thought. Even the irascible Willie admits that Al may be (to him) a pain in the ass, but he was a funny man.&lt;br /&gt;&lt;br /&gt;Burns was not the original choice for the part of \"Al Lewis\" (supposedly Dale of the team Smith and Dale). Jack Benny was. Benny probably would have done a good job, but ill-health forced him out (he died in 1975). Burns (whose last involvement in any film was in THE SOLID GOLD CADILLAC in 1956 as the narrator) turned in such a fine performance that he got the \"Oscar\" for best supporting actor, and was to have a career in movies in the next decade in such films as OH GOD!; OH GOD, YOU DEVIL; and GOING IN STYLE. He died in 1996 age 100, having proved that he was more than just a brilliant straight man for his wife Gracie Allan.As far as cinematography goes, this film was pretty good for the mid 50's. There were a few times that the lighting was way too hot but the shots were generally in frame and stayed in focus. The acting was above average for a low budget stinker but the direction was horrible. Several scenes were dragged out way too long in an attempt at suspense and the effects were non-existent</td>\n",
       "      <td>finished program or will Willie wring Al's neck?&lt;br /&gt;&lt;br /&gt;The three leads, Matthau, Burns, and Benjamin, do very well with the one-liners, frequently reminiscent of vaudeville patter (example: \"Chest pains...I'm getting chest pains Uncle Willie. Every Thursday I come here and get chest pains!\" \"So, come on Fridays!\"). Benjamin strives to prove his deep affection for his uncle, although Matthau's rough outer shell makes it difficult (he only smooths down when he discusses the glory days of vaudeville). Matthau has a little better grasp on reality (at first) than Burns, who seems senile by his repeating himself - but in actuality Matthau's sense of rejection by the world that once applauded him make him less willing to behave properly. Burns is not senile - he takes things slowly. But he seems far happier in accepting his retirement.&lt;br /&gt;&lt;br /&gt;I call this a final \"Voyage of Discovery\" for our modern Lewis and Clark. Al and Willie transcend their old skits, as they gradually end up realizing that they have more in common in their old age than they thought. Even the irascible Willie admits that Al may be (to him) a pain in the ass, but he was a funny man.&lt;br /&gt;&lt;br /&gt;Burns was not the original choice for the part of \"Al Lewis\" (supposedly Dale of the team Smith and Dale). Jack Benny was. Benny probably would have done a good job, but ill-health forced him out (he died in 1975). Burns (whose last involvement in any film was in THE SOLID GOLD CADILLAC in 1956 as the narrator) turned in such a fine performance that he got the \"Oscar\" for best supporting actor, and was to have a career in movies in the next decade in such films as OH GOD!; OH GOD, YOU DEVIL; and GOING IN STYLE. He died in 1996 age 100, having proved that he was more than just a brilliant straight man for his wife Gracie Allan.As far as cinematography goes, this film was pretty good for the mid 50's. There were a few times that the lighting was way too hot but the shots were generally in frame and stayed in focus. The acting was above average for a low budget stinker but the direction was horrible. Several scenes were dragged out way too long in an attempt at suspense and the effects were non-existent</td>\n",
       "    </tr>\n",
       "    <tr>\n",
       "      <th>1</th>\n",
       "      <td>, how could I not recommend it?&lt;br /&gt;&lt;br /&gt;War,Inc.:3.5/5In her autobiography,Laureen Bacall reveals that Bogie told her that she should not make such dud movies as this one or something like that.At the time,Douglas Sirk was labeled \"weepies for women\",actually,he was restored to favor,at least in Europa,after he stopped directing.And when he filmed \"written on the wind\",Sirk had only three movies to make:\"tarnished Angels\",\"A time to love and a time to die\",his masterpiece,IMHO,and finally\" Imitation of life\"(1960).Then there was silence. Actually Bacall and Hudson characters do not interest Sirk.They are too straight,too virtuous.Dorothy Malone -who was some kind of substitute for his former German star Zarah Leander-and her brother Robert Stack provide the main interest of the plot.A plot constructed continuously,most of the movie being a long flashback.The instability of the brother and the sister,from a family of rich Texan oil owners,is brought to the fore by garish clothes,and rutilant cars that go at top speed in a derricks landscape. Malone's metamorphosis at the end of the movie is stunning :suit and chignon,toying with a small derrick:she's ready for life,the rebel is tamed. Now alone,because she's lost Hudson (but anyway,he was not in love with her).This end is a bit reactionary,but melodrama is par excellence reactionary;three years later,in \"imitation of life\",Sarah-Jane (Susan Kohner) will be blamed because she does not know her place.Over Her Dead Body was a nice little movie.It was decent and entertaining, while still being pretty funny.There were a few cliché's, but I found most stuff fresh.At first I didn't think it was going to be good at all,when it started out.If you can get past the first 20 minutes though,the movie starts getting more interesting.This film wasn't burst out in laughter hilarious,and wasn't OH MY GOSH wonderful.It was just a movie that you can sit down and enjoy for how enjoyable it was.I don't see how this movie was bad.It's rating is just a bit too low.I could've dealt with a 5.5,but a 4.8?</td>\n",
       "      <td>, how could I not recommend it?&lt;br /&gt;&lt;br /&gt;War,Inc.:3.5/5In her autobiography,Laureen Bacall reveals that Bogie told her that she should not make such dud movies as this one or something like that.At the time,Douglas Sirk was labeled \"weepies for women\",actually,he was restored to favor,at least in Europa,after he stopped directing.And when he filmed \"written on the wind\",Sirk had only three movies to make:\"tarnished Angels\",\"A time to love and a time to die\",his masterpiece,IMHO,and finally\" Imitation of life\"(1960).Then there was silence. Actually Bacall and Hudson characters do not interest Sirk.They are too straight,too virtuous.Dorothy Malone -who was some kind of substitute for his former German star Zarah Leander-and her brother Robert Stack provide the main interest of the plot.A plot constructed continuously,most of the movie being a long flashback.The instability of the brother and the sister,from a family of rich Texan oil owners,is brought to the fore by garish clothes,and rutilant cars that go at top speed in a derricks landscape. Malone's metamorphosis at the end of the movie is stunning :suit and chignon,toying with a small derrick:she's ready for life,the rebel is tamed. Now alone,because she's lost Hudson (but anyway,he was not in love with her).This end is a bit reactionary,but melodrama is par excellence reactionary;three years later,in \"imitation of life\",Sarah-Jane (Susan Kohner) will be blamed because she does not know her place.Over Her Dead Body was a nice little movie.It was decent and entertaining, while still being pretty funny.There were a few cliché's, but I found most stuff fresh.At first I didn't think it was going to be good at all,when it started out.If you can get past the first 20 minutes though,the movie starts getting more interesting.This film wasn't burst out in laughter hilarious,and wasn't OH MY GOSH wonderful.It was just a movie that you can sit down and enjoy for how enjoyable it was.I don't see how this movie was bad.It's rating is just a bit too low.I could've dealt with a 5.5,but a 4.8?</td>\n",
       "    </tr>\n",
       "    <tr>\n",
       "      <th>2</th>\n",
       "      <td>deliver a $6million ransom, brave mercenary Peter Weston (Al Cliver) and his Vietnam vet pilot pal travel to the island, but encounter trouble when the bad guys attempt a double-cross. During the confusion, Laura escapes into the jungle, but runs straight into the arms of the island's natives, who offer her up to their god.&lt;br /&gt;&lt;br /&gt;Franco directs in his usual torpid style and loads this laughable effort with his usual dreadful trademarks: crap gore, murky cinematography, rapid zooms, numerous crotch shots, out of focus imagery, awful sound effects, and ham-fisted editing. The result is a dire mess that is a real struggle to sit through from start to finish (It took me a couple of sittings to finish the thing), and even the sight of the luscious Buchfellner in all of her natural glory ain't enough to make me revisit this film in a hurry.You know a movie will not go well when John Carradine narrates (a.k.a. reads the script &amp; plot synopsis) over his character's funeral procession, a mere 5 minutes into the movie. The narration is his character's last will &amp; testament. It stipulates that his estate be divided amongst his 4 children and servants. The children shall split $136 million equally, but if any should die then that share is split amongst the remainders. If all the children should die then it is divided amongst the servants. To be eligible, they must live in the family estate for a week. It sounds like the typical plot of a reality show.&lt;br /&gt;&lt;br /&gt;There is little subtext as to the nature of the Deans. They are a powerful and severely dysfunctional family, but the real trouble starts with the drowning of that dog. From the opening voice-over by John Carradine you expect this movie will lead to a Machiavellian cat and mouse game with a twist ending. &lt;br /&gt;&lt;br /&gt;That journey is painfully slow and pointless. We trudge through minutes of watching people sitting around, playing pool, throwing darts, the misuse of the \"through the fish bowl\" shot, dramatic conversations between silk cravat wearing men, constant bickering, misplaced circus music, bizarre flashbacks reminiscent of faux-German expressionism, the horror aesthetic of the 4th grade and heaps of dramatic overacting. This all inevitably leads to the expected &amp; ungratifying ending. You will be happy to still be alive, but the pain might</td>\n",
       "      <td>deliver a $6million ransom, brave mercenary Peter Weston (Al Cliver) and his Vietnam vet pilot pal travel to the island, but encounter trouble when the bad guys attempt a double-cross. During the confusion, Laura escapes into the jungle, but runs straight into the arms of the island's natives, who offer her up to their god.&lt;br /&gt;&lt;br /&gt;Franco directs in his usual torpid style and loads this laughable effort with his usual dreadful trademarks: crap gore, murky cinematography, rapid zooms, numerous crotch shots, out of focus imagery, awful sound effects, and ham-fisted editing. The result is a dire mess that is a real struggle to sit through from start to finish (It took me a couple of sittings to finish the thing), and even the sight of the luscious Buchfellner in all of her natural glory ain't enough to make me revisit this film in a hurry.You know a movie will not go well when John Carradine narrates (a.k.a. reads the script &amp; plot synopsis) over his character's funeral procession, a mere 5 minutes into the movie. The narration is his character's last will &amp; testament. It stipulates that his estate be divided amongst his 4 children and servants. The children shall split $136 million equally, but if any should die then that share is split amongst the remainders. If all the children should die then it is divided amongst the servants. To be eligible, they must live in the family estate for a week. It sounds like the typical plot of a reality show.&lt;br /&gt;&lt;br /&gt;There is little subtext as to the nature of the Deans. They are a powerful and severely dysfunctional family, but the real trouble starts with the drowning of that dog. From the opening voice-over by John Carradine you expect this movie will lead to a Machiavellian cat and mouse game with a twist ending. &lt;br /&gt;&lt;br /&gt;That journey is painfully slow and pointless. We trudge through minutes of watching people sitting around, playing pool, throwing darts, the misuse of the \"through the fish bowl\" shot, dramatic conversations between silk cravat wearing men, constant bickering, misplaced circus music, bizarre flashbacks reminiscent of faux-German expressionism, the horror aesthetic of the 4th grade and heaps of dramatic overacting. This all inevitably leads to the expected &amp; ungratifying ending. You will be happy to still be alive, but the pain might</td>\n",
       "    </tr>\n",
       "    <tr>\n",
       "      <th>3</th>\n",
       "      <td>very much into \"that sort of thing,\" I watched this movie with some anticipation of being informed, changed, moved, altered, uplifted, and all the other positive mystical things that could happen to me when I suddenly see The Truth. Now this may sound like someone who is already predisposed to poo-pooing anything dealing with the metaphysical, the metaphysical/physical boundaries of existence. Believe me, I am not such a person. I try to be open about any presentation and then decide accordingly.&lt;br /&gt;&lt;br /&gt;In terms of content, the only thing I found mildly interesting and informative, was the bit about peptides, emotions, addiction, and cellular receptors. That was the only \"unifying\" element I could find in the documentary part of this film. The rest of the documentary rambled around several topics and never seemed to unify and cohere, try to tie up and conclude to a point. And what was all that stuff about native Americans not being able to see the ships that Columbus came in? Who told the \"authorities\" in this film that that was what happened in 1492? Where they there too? Had they compared this to scientific work being done in visual cognition (the famous gorilla video, for example, visit the Visual Cognition Lab at the University of Illinois site) there may have been a more convincing point made. Here, however, it seemed like unsupported mystical mumbo-jumbo.&lt;br /&gt;&lt;br /&gt;As a film: this wasn't one film, it was two. I found the documentary part mildly interesting, just to hear the people talking about what they were talking about (I was annoyed that their credentials weren't presented at the bottom of the screen when they spoke, at least initially!) But I found the \"story\" part of the movie with Matlin in it annoying, disjointed, intrusive, non-related and downright stupid. That bit about the Polish wedding with that dance was not in the least bit funny. It was laughable, ludicrous, sophomoric, and stupid. And I found the use of the word \"Pollack\" offensive. It just seemed so out of place and wrong. Is such usage okay because a member of the group uses a pejorative term to refer to the group because he or she is a member of the group? That may be okay to make a point, but it didn't seem to be used that way here. And in any case, I don't care what the reason, it offended me,</td>\n",
       "      <td>very much into \"that sort of thing,\" I watched this movie with some anticipation of being informed, changed, moved, altered, uplifted, and all the other positive mystical things that could happen to me when I suddenly see The Truth. Now this may sound like someone who is already predisposed to poo-pooing anything dealing with the metaphysical, the metaphysical/physical boundaries of existence. Believe me, I am not such a person. I try to be open about any presentation and then decide accordingly.&lt;br /&gt;&lt;br /&gt;In terms of content, the only thing I found mildly interesting and informative, was the bit about peptides, emotions, addiction, and cellular receptors. That was the only \"unifying\" element I could find in the documentary part of this film. The rest of the documentary rambled around several topics and never seemed to unify and cohere, try to tie up and conclude to a point. And what was all that stuff about native Americans not being able to see the ships that Columbus came in? Who told the \"authorities\" in this film that that was what happened in 1492? Where they there too? Had they compared this to scientific work being done in visual cognition (the famous gorilla video, for example, visit the Visual Cognition Lab at the University of Illinois site) there may have been a more convincing point made. Here, however, it seemed like unsupported mystical mumbo-jumbo.&lt;br /&gt;&lt;br /&gt;As a film: this wasn't one film, it was two. I found the documentary part mildly interesting, just to hear the people talking about what they were talking about (I was annoyed that their credentials weren't presented at the bottom of the screen when they spoke, at least initially!) But I found the \"story\" part of the movie with Matlin in it annoying, disjointed, intrusive, non-related and downright stupid. That bit about the Polish wedding with that dance was not in the least bit funny. It was laughable, ludicrous, sophomoric, and stupid. And I found the use of the word \"Pollack\" offensive. It just seemed so out of place and wrong. Is such usage okay because a member of the group uses a pejorative term to refer to the group because he or she is a member of the group? That may be okay to make a point, but it didn't seem to be used that way here. And in any case, I don't care what the reason, it offended me,</td>\n",
       "    </tr>\n",
       "    <tr>\n",
       "      <th>4</th>\n",
       "      <td>Jones and The Temple of Doom\". Unfortunately I was in for a virtual yawn. Not like any yawn i have had before though. This yawn was so large that i could barely find anything of quality in this movie. The cover described amazing special effects. There were none. The movie was so lightweight that even the stereotypes were awfully portrayed. It does give the idea that you can solve problems with violence. Good if you want to teach your kids that. I don't. Keep away from this one. If you are looking for family entertainment then you might find something that is more inspiring elsewhere.TV does influence society...just look at the surge in popularity of cappucino shops after this shallow little piece of work debuted. Besides, real people who look as good as these people do don't have any problems.&lt;br /&gt;&lt;br /&gt;Besides, does anyone really believe that these people can afford to live in a nice Manhattan loft considering what they do for a living? NBC just loves to insult the viewer's intelligence, even if they're just around Gump's level. I know a person who makes $100,000 a year as a web designer and lives in a tiny one-bedroom apartment in Manhattan that costs $2200 a month in rent. &lt;br /&gt;&lt;br /&gt;I'd like to see a show called Phriends, where it's six ugly nobodies in dead-end jobs, living in a crummy neighborhood where sirens constantly wail and someone gets mugged every week...and then the landlord jacks up the rent. Now THAT I would watch.Director / writer Michael Winner's feature is a better than expected offbeat supernatural horror film (although still schlock efficiently catered for), which really does by go unnoticed. Sure it might borrow ideas from other similar themed horror movies of this period, but still manages to bring its own psychological imprint to the smokescreen material (of good vs. evil) and a unique vision that has a fair share of impressively expansive, if somewhat exploitative set-pieces. As a whole it's sketchy, however remains intriguing by instilling an ominous charge without going gang-busters with the scares. Actually there's always something going on amongst its busy framework, but it's rather down-played with its shocks steering to soapy patterns and atmospheric tailoring, up until its vividly repellent and grisly climax with a downbeat revelation. Winner's dressed up craftsmanship might feel pedestrian, however it's the ensemble cast that really holds it together",
       " as you try</td>\n",
       "      <td>Jones and The Temple of Doom\". Unfortunately I was in for a virtual yawn. Not like any yawn i have had before though. This yawn was so large that i could barely find anything of quality in this movie. The cover described amazing special effects. There were none. The movie was so lightweight that even the stereotypes were awfully portrayed. It does give the idea that you can solve problems with violence. Good if you want to teach your kids that. I don't. Keep away from this one. If you are looking for family entertainment then you might find something that is more inspiring elsewhere.TV does influence society...just look at the surge in popularity of cappucino shops after this shallow little piece of work debuted. Besides, real people who look as good as these people do don't have any problems.&lt;br /&gt;&lt;br /&gt;Besides, does anyone really believe that these people can afford to live in a nice Manhattan loft considering what they do for a living? NBC just loves to insult the viewer's intelligence, even if they're just around Gump's level. I know a person who makes $100,000 a year as a web designer and lives in a tiny one-bedroom apartment in Manhattan that costs $2200 a month in rent. &lt;br /&gt;&lt;br /&gt;I'd like to see a show called Phriends, where it's six ugly nobodies in dead-end jobs, living in a crummy neighborhood where sirens constantly wail and someone gets mugged every week...and then the landlord jacks up the rent. Now THAT I would watch.Director / writer Michael Winner's feature is a better than expected offbeat supernatural horror film (although still schlock efficiently catered for), which really does by go unnoticed. Sure it might borrow ideas from other similar themed horror movies of this period, but still manages to bring its own psychological imprint to the smokescreen material (of good vs. evil) and a unique vision that has a fair share of impressively expansive, if somewhat exploitative set-pieces. As a whole it's sketchy, however remains intriguing by instilling an ominous charge without going gang-busters with the scares. Actually there's always something going on amongst its busy framework, but it's rather down-played with its shocks steering to soapy patterns and atmospheric tailoring, up until its vividly repellent and grisly climax with a downbeat revelation. Winner's dressed up craftsmanship might feel pedestrian, however it's the ensemble cast that really holds it together",
       " as you try</td>\n",
       "    </tr>\n",
       "  </tbody>\n",
       "</table>"
      ],
      "text/plain": [
       "<IPython.core.display.HTML object>"
      ]
     },
     "metadata": {},
     "output_type": "display_data"
    }
   ],
   "source": [
    "dls.show_batch()"
   ]
  },
  {
   "cell_type": "markdown",
   "id": "e0666f8d",
   "metadata": {},
   "source": [
    "When training a language model, the input and output are made to be the exact same, so there isn't a shown noticable difference here."
   ]
  },
  {
   "cell_type": "markdown",
   "id": "586172ad",
   "metadata": {},
   "source": [
    "## Building `Tuner`"
   ]
  },
  {
   "cell_type": "markdown",
   "id": "23e2d9bf",
   "metadata": {},
   "source": [
    "Next we need to build a compatible `Tuner` for our problem. These tuners contain good defaults for our problem space, including loss functions and metrics.\n",
    "\n",
    "First let's import the `LanguageModelTuner` and view it's documentation"
   ]
  },
  {
   "cell_type": "code",
   "execution_count": null,
   "id": "c54d78db",
   "metadata": {},
   "outputs": [],
   "source": [
    "from adaptnlp import LanguageModelTuner"
   ]
  },
  {
   "cell_type": "code",
   "execution_count": null,
   "id": "WRxJWveszSmY",
   "metadata": {},
   "outputs": [
    {
     "data": {
      "text/markdown": [
       "<h2 id=\"LanguageModelTuner\" class=\"doc_header\"><code>class</code> <code>LanguageModelTuner</code><a href=\"https://github.com/novetta/adaptnlp/tree/master/adaptnlp/training/language_model.py#L228\" class=\"source_link\" style=\"float:right\">[source]</a></h2>\n",
       "\n",
       "> <code>LanguageModelTuner</code>(**`dls`**:`DataLoaders`, **`model_name`**, **`tokenizer`**=*`None`*, **`language_model_type`**:`LMType`=*`'causal'`*, **`loss_func`**=*`CrossEntropyLoss()`*, **`metrics`**=*`[<fastai.metrics.Perplexity object at 0x7f847b9bf730>]`*, **`opt_func`**=*`Adam`*, **`additional_cbs`**=*`None`*, **`expose_fastai_api`**=*`False`*, **\\*\\*`kwargs`**) :: [`AdaptiveTuner`](/adaptnlp/training.core.html#AdaptiveTuner)\n",
       "\n",
       "An [`AdaptiveTuner`](/adaptnlp/training.core.html#AdaptiveTuner) with good defaults for Language Model fine-tuning\n",
       "**Valid kwargs and defaults:**\n",
       "  - `lr`:float = 0.001\n",
       "  - `splitter`:function = `trainable_params`\n",
       "  - `cbs`:list = None\n",
       "  - `path`:Path = None\n",
       "  - `model_dir`:Path = 'models'\n",
       "  - `wd`:float = None\n",
       "  - `wd_bn_bias`:bool = False\n",
       "  - `train_bn`:bool = True\n",
       "  - `moms`: tuple(float) = (0.95, 0.85, 0.95)\n",
       "\n",
       "**Parameters:**\n",
       "\n",
       "\n",
       " - **`dls`** : *`<class 'fastai.data.core.DataLoaders'>`*\t<p>A set of DataLoaders or AdaptiveDataLoaders</p>\n",
       "\n",
       "\n",
       " - **`model_name`** : *`<class 'inspect._empty'>`*\t<p>A HuggingFace model</p>\n",
       "\n",
       "\n",
       " - **`tokenizer`** : *`<class 'NoneType'>`*, *optional*\t<p>A HuggingFace tokenizer</p>\n",
       "\n",
       "\n",
       " - **`language_model_type`** : *`<class 'fastcore.basics.LMType'>`*, *optional*\t<p>The type of language model to use</p>\n",
       "\n",
       "\n",
       " - **`loss_func`** : *`<class 'fastai.losses.CrossEntropyLossFlat'>`*, *optional*\t<p>A loss function</p>\n",
       "\n",
       "\n",
       " - **`metrics`** : *`<class 'list'>`*, *optional*\t<p>Metrics to monitor the training with</p>\n",
       "\n",
       "\n",
       " - **`opt_func`** : *`<class 'function'>`*, *optional*\t<p>A fastai or torch Optimizer</p>\n",
       "\n",
       "\n",
       " - **`additional_cbs`** : *`<class 'NoneType'>`*, *optional*\t<p>Additional Callbacks to have always tied to the Tuner,</p>\n",
       "\n",
       "\n",
       " - **`expose_fastai_api`** : *`<class 'bool'>`*, *optional*\t<p>Whether to expose the fastai API</p>\n",
       "\n",
       "\n",
       " - **`kwargs`** : *`<class 'inspect._empty'>`*\n"
      ],
      "text/plain": [
       "<IPython.core.display.Markdown object>"
      ]
     },
     "metadata": {},
     "output_type": "display_data"
    }
   ],
   "source": [
    "from adaptnlp import LanguageModelTuner\n",
    "show_doc(LanguageModelTuner)"
   ]
  },
  {
   "cell_type": "markdown",
   "id": "UXvHCw5HzVil",
   "metadata": {},
   "source": [
    "Next we'll pass in our `DataLoaders`, the name of our model, and the tokenizer:"
   ]
  },
  {
   "cell_type": "markdown",
   "id": "1efac2b5",
   "metadata": {},
   "source": [
    "> Note: If you are not using the data API (`TaskDatasets`, `SequenceClassificationDatasets`, etc), you need to pass in the tokenizer to the constructor as well with `tokenizer=tokenizer`"
   ]
  },
  {
   "cell_type": "code",
   "execution_count": null,
   "id": "k-gczguJzSjM",
   "metadata": {},
   "outputs": [],
   "source": [
    "tuner = LanguageModelTuner(dls, model.name, dls.tokenizer)"
   ]
  },
  {
   "cell_type": "markdown",
   "id": "9rAi8TF5zfPz",
   "metadata": {},
   "source": [
    "By default we can see that it used `CrossEntropyLoss` as our loss function, and `Perplexity` as our metric"
   ]
  },
  {
   "cell_type": "code",
   "execution_count": null,
   "id": "QTyxXImizjxC",
   "metadata": {},
   "outputs": [
    {
     "data": {
      "text/plain": [
       "FlattenedLoss of CrossEntropyLoss()"
      ]
     },
     "execution_count": null,
     "metadata": {},
     "output_type": "execute_result"
    }
   ],
   "source": [
    "tuner.loss_func"
   ]
  },
  {
   "cell_type": "code",
   "execution_count": null,
   "id": "x_PEmOXAzlAE",
   "metadata": {},
   "outputs": [
    {
     "name": "stdout",
     "output_type": "stream",
     "text": [
      "perplexity\n"
     ]
    }
   ],
   "source": [
    "_ = [print(m.name) for m in tuner.metrics]"
   ]
  },
  {
   "cell_type": "markdown",
   "id": "dl-tqB5uzq1k",
   "metadata": {},
   "source": [
    "Finally we just need to train our model!"
   ]
  },
  {
   "cell_type": "markdown",
   "id": "33dd944d",
   "metadata": {},
   "source": [
    "## Fine-Tuning"
   ]
  },
  {
   "cell_type": "markdown",
   "id": "2e9ec17d",
   "metadata": {},
   "source": [
    "To fine-tune, AdaptNLP's tuner class provides only a few functions to work with. The important ones are the `tune` and `lr_find` class.\n",
    "\n",
    "As the `Tuner` uses `fastai` under the hood, `lr_find` calls fastai's Learning Rate Finder to help us pick a learning rate. Let's do that now:"
   ]
  },
  {
   "cell_type": "code",
   "execution_count": null,
   "id": "ZTaeO5Vm0P-h",
   "metadata": {},
   "outputs": [
    {
     "data": {
      "text/markdown": [
       "<h4 id=\"AdaptiveTuner.lr_find\" class=\"doc_header\"><code>AdaptiveTuner.lr_find</code><a href=\"https://github.com/novetta/adaptnlp/tree/master/adaptnlp/training/core.py#L387\" class=\"source_link\" style=\"float:right\">[source]</a></h4>\n",
       "\n",
       "> <code>AdaptiveTuner.lr_find</code>(**`start_lr`**=*`1e-07`*, **`end_lr`**=*`10`*, **`num_it`**=*`100`*, **`stop_div`**=*`True`*, **`show_plot`**=*`True`*, **`suggest_funcs`**=*`valley`*)\n",
       "\n",
       "Runs fastai's `LR Finder`\n",
       "\n",
       "**Parameters:**\n",
       "\n",
       "\n",
       " - **`start_lr`** : *`<class 'float'>`*, *optional*\n",
       "\n",
       " - **`end_lr`** : *`<class 'int'>`*, *optional*\n",
       "\n",
       " - **`num_it`** : *`<class 'int'>`*, *optional*\n",
       "\n",
       " - **`stop_div`** : *`<class 'bool'>`*, *optional*\n",
       "\n",
       " - **`show_plot`** : *`<class 'bool'>`*, *optional*\n",
       "\n",
       " - **`suggest_funcs`** : *`<class 'function'>`*, *optional*\n"
      ],
      "text/plain": [
       "<IPython.core.display.Markdown object>"
      ]
     },
     "metadata": {},
     "output_type": "display_data"
    }
   ],
   "source": [
    "show_doc(LanguageModelTuner.lr_find)"
   ]
  },
  {
   "cell_type": "code",
   "execution_count": null,
   "id": "2oWmrMic0H0z",
   "metadata": {},
   "outputs": [
    {
     "data": {
      "text/html": [],
      "text/plain": [
       "<IPython.core.display.HTML object>"
      ]
     },
     "metadata": {},
     "output_type": "display_data"
    },
    {
     "name": "stderr",
     "output_type": "stream",
     "text": [
      "/opt/venv/lib/python3.8/site-packages/fastai/callback/schedule.py:270: UserWarning: color is redundantly defined by the 'color' keyword argument and the fmt string \"ro\" (-> color='r'). The keyword argument will take precedence.\n",
      "  ax.plot(val, idx, 'ro', label=nm, c=color)\n"
     ]
    },
    {
     "data": {
      "text/plain": [
       "SuggestedLRs(valley=7.585775892948732e-05)"
      ]
     },
     "execution_count": null,
     "metadata": {},
     "output_type": "execute_result"
    },
    {
     "data": {
      "image/png": "[encoded data removed]",
      "text/plain": [
       "<Figure size 432x288 with 1 Axes>"
      ]
     },
     "metadata": {
      "needs_background": "light"
     },
     "output_type": "display_data"
    }
   ],
   "source": [
    "tuner.lr_find()"
   ]
  },
  {
   "cell_type": "markdown",
   "id": "jxviy-Nj0Mly",
   "metadata": {},
   "source": [
    "It recommends a learning rate of around 5e-5, so we will use that."
   ]
  },
  {
   "cell_type": "code",
   "execution_count": null,
   "id": "a20a2181",
   "metadata": {},
   "outputs": [],
   "source": [
    "lr = 5e-5"
   ]
  },
  {
   "cell_type": "markdown",
   "id": "bpl6Krkl0SLX",
   "metadata": {},
   "source": [
    "Let's look at the documentation for `tune`:"
   ]
  },
  {
   "cell_type": "code",
   "execution_count": null,
   "id": "CtnRVQOX0T0-",
   "metadata": {},
   "outputs": [],
   "source": [
    "show_doc(LanguageModelTuner.tune)"
   ]
  },
  {
   "cell_type": "markdown",
   "id": "06gNa3Rk0U-_",
   "metadata": {},
   "source": [
    "We can pass in a number of epochs, a learning rate, a strategy, and additional fastai callbacks to call.\n",
    "\n",
    "Valid strategies live in the `Strategy` namespace class, and consist of:\n",
    "- OneCycle (Also called the [One-Cycle Policy](https://docs.fast.ai/callback.schedule.html#Learner.fit_one_cycle))\n",
    "- [CosineAnnealing](https://docs.fast.ai/callback.schedule.html#Learner.fit_flat_cos)\n",
    "- [SGDR](https://docs.fast.ai/callback.schedule.html#Learner.fit_sgdr)"
   ]
  },
  {
   "cell_type": "code",
   "execution_count": null,
   "id": "5DK9Q-rd0gHN",
   "metadata": {},
   "outputs": [],
   "source": [
    "from adaptnlp import Strategy"
   ]
  },
  {
   "cell_type": "markdown",
   "id": "Xgf9oa4H0nDI",
   "metadata": {},
   "source": [
    "In this tutorial we will train with the One-Cycle policy, as currently it is one of the best schedulers to use."
   ]
  },
  {
   "cell_type": "code",
   "execution_count": null,
   "id": "e4214963",
   "metadata": {},
   "outputs": [],
   "source": [
    "tuner.tune(3, lr, strategy=Strategy.OneCycle)"
   ]
  },
  {
   "cell_type": "markdown",
   "id": "42dc3547",
   "metadata": {},
   "source": [
    "## Saving Model"
   ]
  },
  {
   "cell_type": "markdown",
   "id": "2aebf7b2",
   "metadata": {},
   "source": [
    "Now that we have a trained model, let's save those weights away.\n",
    "\n",
    "Calling `tuner.save` will save both the model and the tokenizer in the same format as how HuggingFace does:"
   ]
  },
  {
   "cell_type": "code",
   "execution_count": null,
   "id": "a01b6b63",
   "metadata": {},
   "outputs": [
    {
     "data": {
      "text/markdown": [
       "<h4 id=\"AdaptiveTuner.save\" class=\"doc_header\"><code>AdaptiveTuner.save</code><a href=\"https://github.com/novetta/adaptnlp/tree/master/adaptnlp/training/core.py#L391\" class=\"source_link\" style=\"float:right\">[source]</a></h4>\n",
       "\n",
       "> <code>AdaptiveTuner.save</code>(**`save_directory`**)\n",
       "\n",
       "Save a pretrained model to a `save_directory`\n",
       "\n",
       "**Function Arguments**:\n",
       "* `save_directory`: A folder to save our model to\n"
      ],
      "text/plain": [
       "<IPython.core.display.Markdown object>"
      ]
     },
     "metadata": {},
     "output_type": "display_data"
    }
   ],
   "source": [
    "show_doc(LanguageModelTuner.save)"
   ]
  },
  {
   "cell_type": "code",
   "execution_count": null,
   "id": "WHCmaQxp0_88",
   "metadata": {},
   "outputs": [
    {
     "data": {
      "text/plain": [
       "'good_model'"
      ]
     },
     "execution_count": null,
     "metadata": {},
     "output_type": "execute_result"
    }
   ],
   "source": [
    "tuner.save('good_model')"
   ]
  },
  {
   "cell_type": "markdown",
   "id": "faf8dec2",
   "metadata": {},
   "source": [
    "## Performing Inference"
   ]
  },
  {
   "cell_type": "markdown",
   "id": "1ce058be",
   "metadata": {},
   "source": [
    "There are two ways to get predictions, the first is with the `.predict` method in our `tuner`. This is great for if you just finished training and want to see how your model performs on some new data!\n",
    "The other method is with AdaptNLP's inference API, which we will show afterwards"
   ]
  },
  {
   "cell_type": "markdown",
   "id": "S_OxB8QN1PD2",
   "metadata": {},
   "source": [
    "### In Tuner\n",
    "\n",
    "First let's write a sentence to test with"
   ]
  },
  {
   "cell_type": "code",
   "execution_count": null,
   "id": "43d011be",
   "metadata": {},
   "outputs": [],
   "source": [
    "sentence = \"Hugh Jackman is a terrible \""
   ]
  },
  {
   "cell_type": "markdown",
   "id": "jHP8lv2P1kKf",
   "metadata": {},
   "source": [
    "And then predict with it:"
   ]
  },
  {
   "cell_type": "code",
   "execution_count": null,
   "id": "KRdOk9bt1lSy",
   "metadata": {},
   "outputs": [
    {
     "data": {
      "text/markdown": [
       "<h4 id=\"LanguageModelTuner.predict\" class=\"doc_header\"><code>LanguageModelTuner.predict</code><a href=\"https://github.com/novetta/adaptnlp/tree/master/adaptnlp/training/language_model.py#L289\" class=\"source_link\" style=\"float:right\">[source]</a></h4>\n",
       "\n",
       "> <code>LanguageModelTuner.predict</code>(**`text`**:`Union`\\[`List`\\[`str`\\], `str`\\], **`bs`**:`int`=*`64`*, **`num_tokens_to_produce`**:`int`=*`50`*, **\\*\\*`kwargs`**)\n",
       "\n",
       "Predict some `text` for sequence classification with the currently loaded model\n",
       "\n",
       "**Function Arguments**:\n",
       "* `text` (`Union[List[str], str]`): Some text or list of texts to do inference with\n",
       "* `bs` (`int`): A batch size to use for multiple texts\n",
       "* `num_tokens_to_produce` (`int`): Number of tokens to generate\n",
       "* `**kwargs`: Optional arguments for `PretrainedModel.generate`\n"
      ],
      "text/plain": [
       "<IPython.core.display.Markdown object>"
      ]
     },
     "metadata": {},
     "output_type": "display_data"
    }
   ],
   "source": [
    "show_doc(LanguageModelTuner.predict)"
   ]
  },
  {
   "cell_type": "code",
   "execution_count": null,
   "id": "wPhkn9fp1mi6",
   "metadata": {},
   "outputs": [
    {
     "data": {
      "text/html": [
       "\n",
       "    <div>\n",
       "        <style>\n",
       "            /* Turns off some styling */\n",
       "            progress {\n",
       "                /* gets rid of default border in Firefox and Opera. */\n",
       "                border: none;\n",
       "                /* Needs to be in here for Safari polyfill so background images work as expected. */\n",
       "                background-size: auto;\n",
       "            }\n",
       "            .progress-bar-interrupted, .progress-bar-interrupted::-webkit-progress-bar {\n",
       "                background: #F44336;\n",
       "            }\n",
       "        </style>\n",
       "      <progress value='1' class='' max='1' style='width:300px; height:20px; vertical-align: middle;'></progress>\n",
       "      100.00% [1/1 00:00<00:00]\n",
       "    </div>\n",
       "    "
      ],
      "text/plain": [
       "<IPython.core.display.HTML object>"
      ]
     },
     "metadata": {},
     "output_type": "display_data"
    },
    {
     "data": {
      "text/plain": [
       "{'generated_text': ['Hugh Jackman is a terrible icky, and very funny, character.']}"
      ]
     },
     "execution_count": null,
     "metadata": {},
     "output_type": "execute_result"
    }
   ],
   "source": [
    "tuner.predict(sentence, num_tokens_to_produce=8)"
   ]
  },
  {
   "cell_type": "markdown",
   "id": "caaihrDr1taH",
   "metadata": {},
   "source": [
    "### With the Inference API\n",
    "\n",
    "Next we will use the `EasyTextGenerator` class, which AdaptNLP offers:"
   ]
  },
  {
   "cell_type": "code",
   "execution_count": null,
   "id": "S2TyPxzh10Tx",
   "metadata": {},
   "outputs": [],
   "source": [
    "from adaptnlp import EasyTextGenerator"
   ]
  },
  {
   "cell_type": "markdown",
   "id": "2_5JihBk12kA",
   "metadata": {},
   "source": [
    "We simply construct the class:"
   ]
  },
  {
   "cell_type": "code",
   "execution_count": null,
   "id": "Wa2mnVPY10QR",
   "metadata": {},
   "outputs": [],
   "source": [
    "classifier = EasyTextGenerator()"
   ]
  },
  {
   "cell_type": "markdown",
   "id": "Vf_HrdWy1_-Q",
   "metadata": {},
   "source": [
    "And call the `tag_text` method, passing in the sentence, the location of our saved model, and some names for our classes:"
   ]
  },
  {
   "cell_type": "code",
   "execution_count": null,
   "id": "UX_sdJkL10JA",
   "metadata": {},
   "outputs": [
    {
     "data": {
      "text/html": [
       "\n",
       "    <div>\n",
       "        <style>\n",
       "            /* Turns off some styling */\n",
       "            progress {\n",
       "                /* gets rid of default border in Firefox and Opera. */\n",
       "                border: none;\n",
       "                /* Needs to be in here for Safari polyfill so background images work as expected. */\n",
       "                background-size: auto;\n",
       "            }\n",
       "            .progress-bar-interrupted, .progress-bar-interrupted::-webkit-progress-bar {\n",
       "                background: #F44336;\n",
       "            }\n",
       "        </style>\n",
       "      <progress value='1' class='' max='1' style='width:300px; height:20px; vertical-align: middle;'></progress>\n",
       "      100.00% [1/1 00:00<00:00]\n",
       "    </div>\n",
       "    "
      ],
      "text/plain": [
       "<IPython.core.display.HTML object>"
      ]
     },
     "metadata": {},
     "output_type": "display_data"
    },
    {
     "data": {
      "text/plain": [
       "{'generated_text': ['Hugh Jackman is a terrible icky, and very funny, character.']}"
      ]
     },
     "execution_count": null,
     "metadata": {},
     "output_type": "execute_result"
    }
   ],
   "source": [
    "classifier.generate(\n",
    "    sentence,\n",
    "    model_name_or_path='good_model',\n",
    "    num_tokens_to_produce=8\n",
    ")"
   ]
  },
  {
   "cell_type": "markdown",
   "id": "qXsMgmQC2Qmt",
   "metadata": {},
   "source": [
    "And we got the exact same output!"
   ]
  }
 ],
 "metadata": {
  "kernelspec": {
   "display_name": "Python 3 (ipykernel)",
   "language": "python",
   "name": "python3"
  }
 },
 "nbformat": 4,
 "nbformat_minor": 5
}
