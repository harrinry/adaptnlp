{
 "cells": [
  {
   "cell_type": "code",
   "execution_count": null,
   "id": "53946cd5",
   "metadata": {},
   "outputs": [],
   "source": [
    "#all_slow"
   ]
  },
  {
   "cell_type": "markdown",
   "id": "ca157d7d",
   "metadata": {},
   "source": [
    "# Tutorial: Fine-Tuning a Language Model on DataFrames with IMDB\n",
    "> Tuning a base Language model on the IMDB dataset"
   ]
  },
  {
   "cell_type": "markdown",
   "id": "e17d8af2",
   "metadata": {},
   "source": [
    "## Introduction\n",
    "\n",
    "In this tutorial we will be showing an end-to-end example of fine-tuning a Transformer language model on a custom dataset in `DataFrame` format.\n",
    "\n",
    "By the end of this you should be able to:\n",
    "\n",
    "1. Build a dataset with the `LanguageModelDatasets` class, and their DataLoaders\n",
    "2. Build a `LanguageModelTuner` quickly, find a good learning rate, and train with the One-Cycle Policy\n",
    "3. Save that model away, to be used with deployment or other HuggingFace libraries\n",
    "4. Apply inference using both the `Tuner` available function as well as with the `EasyTextGenerator` class within AdaptNLP"
   ]
  },
  {
   "cell_type": "markdown",
   "id": "3a44baa5",
   "metadata": {},
   "source": [
    "## Installing the Library"
   ]
  },
  {
   "cell_type": "markdown",
   "id": "fce03b17",
   "metadata": {},
   "source": [
    "This tutorial utilizies the latest AdaptNLP version, as well as parts of the `fastai` library. Please run the below code to install them:"
   ]
  },
  {
   "cell_type": "code",
   "execution_count": null,
   "id": "8bc6b3cd",
   "metadata": {},
   "outputs": [],
   "source": [
    "# !pip install adaptnlp -U"
   ]
  },
  {
   "cell_type": "code",
   "execution_count": null,
   "id": "VOwOHNTgyJzY",
   "metadata": {},
   "outputs": [],
   "source": [
    "#hide\n",
    "from nbverbose.showdoc import *"
   ]
  },
  {
   "cell_type": "markdown",
   "id": "86de58d7",
   "metadata": {},
   "source": [
    "## Getting the Dataset"
   ]
  },
  {
   "cell_type": "markdown",
   "id": "2a039f4f",
   "metadata": {},
   "source": [
    "First we need a dataset. We will use the `fastai` library to download the `IMDB_SAMPLE` dataset, a subset of IMDB Movie Reviews."
   ]
  },
  {
   "cell_type": "code",
   "execution_count": null,
   "id": "82a2612b",
   "metadata": {},
   "outputs": [],
   "source": [
    "from fastai.data.external import URLs, untar_data"
   ]
  },
  {
   "cell_type": "markdown",
   "id": "a1f46366",
   "metadata": {},
   "source": [
    "`URLs` holds a namespace of many data endpoints, and `untar_data` is a function that can download and extract any data from a given URL.\n",
    "\n",
    "Combining both, we can download the data:"
   ]
  },
  {
   "cell_type": "code",
   "execution_count": null,
   "id": "bcc5510a",
   "metadata": {},
   "outputs": [],
   "source": [
    "data_path = untar_data(URLs.IMDB_SAMPLE)"
   ]
  },
  {
   "cell_type": "markdown",
   "id": "b9a3a4f8",
   "metadata": {},
   "source": [
    "If we look at what was downloaded, we will find a `texts.csv` file:"
   ]
  },
  {
   "cell_type": "code",
   "execution_count": null,
   "id": "b9683198",
   "metadata": {},
   "outputs": [
    {
     "data": {
      "text/plain": [
       "(#1) [Path('/root/.fastai/data/imdb_sample/texts.csv')]"
      ]
     },
     "execution_count": null,
     "metadata": {},
     "output_type": "execute_result"
    }
   ],
   "source": [
    "data_path.ls()"
   ]
  },
  {
   "cell_type": "markdown",
   "id": "79f0ec65",
   "metadata": {},
   "source": [
    "This is our data we want to use. We should now open the `csv` in `pandas` to generate our `DataFrame` object:"
   ]
  },
  {
   "cell_type": "code",
   "execution_count": null,
   "id": "33a19f73",
   "metadata": {},
   "outputs": [],
   "source": [
    "import pandas as pd"
   ]
  },
  {
   "cell_type": "code",
   "execution_count": null,
   "id": "f93b687b",
   "metadata": {},
   "outputs": [],
   "source": [
    "df = pd.read_csv(data_path/'texts.csv')"
   ]
  },
  {
   "cell_type": "markdown",
   "id": "2307856c",
   "metadata": {},
   "source": [
    "Let's look at our data"
   ]
  },
  {
   "cell_type": "code",
   "execution_count": null,
   "id": "d4413be4",
   "metadata": {},
   "outputs": [
    {
     "data": {
      "text/html": [
       "<div>\n",
       "<style scoped>\n",
       "    .dataframe tbody tr th:only-of-type {\n",
       "        vertical-align: middle;\n",
       "    }\n",
       "\n",
       "    .dataframe tbody tr th {\n",
       "        vertical-align: top;\n",
       "    }\n",
       "\n",
       "    .dataframe thead th {\n",
       "        text-align: right;\n",
       "    }\n",
       "</style>\n",
       "<table border=\"1\" class=\"dataframe\">\n",
       "  <thead>\n",
       "    <tr style=\"text-align: right;\">\n",
       "      <th></th>\n",
       "      <th>label</th>\n",
       "      <th>text</th>\n",
       "      <th>is_valid</th>\n",
       "    </tr>\n",
       "  </thead>\n",
       "  <tbody>\n",
       "    <tr>\n",
       "      <th>0</th>\n",
       "      <td>negative</td>\n",
       "      <td>Un-bleeping-believable! Meg Ryan doesn't even look her usual pert lovable self in this, which normally makes me forgive her shallow ticky acting schtick. Hard to believe she was the producer on this dog. Plus Kevin Kline: what kind of suicide trip has his career been on? Whoosh... Banzai!!! Finally this was directed by the guy who did Big Chill? Must be a replay of Jonestown - hollywood style. Wooofff!</td>\n",
       "      <td>False</td>\n",
       "    </tr>\n",
       "    <tr>\n",
       "      <th>1</th>\n",
       "      <td>positive</td>\n",
       "      <td>This is a extremely well-made film. The acting, script and camera-work are all first-rate. The music is good, too, though it is mostly early in the film, when things are still relatively cheery. There are no really superstars in the cast, though several faces will be familiar. The entire cast does an excellent job with the script.&lt;br /&gt;&lt;br /&gt;But it is hard to watch, because there is no good end to a situation like the one presented. It is now fashionable to blame the British for setting Hindus and Muslims against each other, and then cruelly separating them into two countries. There is som...</td>\n",
       "      <td>False</td>\n",
       "    </tr>\n",
       "    <tr>\n",
       "      <th>2</th>\n",
       "      <td>negative</td>\n",
       "      <td>Every once in a long while a movie will come along that will be so awful that I feel compelled to warn people. If I labor all my days and I can save but one soul from watching this movie, how great will be my joy.&lt;br /&gt;&lt;br /&gt;Where to begin my discussion of pain. For starters, there was a musical montage every five minutes. There was no character development. Every character was a stereotype. We had swearing guy, fat guy who eats donuts, goofy foreign guy, etc. The script felt as if it were being written as the movie was being shot. The production value was so incredibly low that it felt li...</td>\n",
       "      <td>False</td>\n",
       "    </tr>\n",
       "    <tr>\n",
       "      <th>3</th>\n",
       "      <td>positive</td>\n",
       "      <td>Name just says it all. I watched this movie with my dad when it came out and having served in Korea he had great admiration for the man. The disappointing thing about this film is that it only concentrate on a short period of the man's life - interestingly enough the man's entire life would have made such an epic bio-pic that it is staggering to imagine the cost for production.&lt;br /&gt;&lt;br /&gt;Some posters elude to the flawed characteristics about the man, which are cheap shots. The theme of the movie \"Duty, Honor, Country\" are not just mere words blathered from the lips of a high-brassed offic...</td>\n",
       "      <td>False</td>\n",
       "    </tr>\n",
       "    <tr>\n",
       "      <th>4</th>\n",
       "      <td>negative</td>\n",
       "      <td>This movie succeeds at being one of the most unique movies you've seen. However this comes from the fact that you can't make heads or tails of this mess. It almost seems as a series of challenges set up to determine whether or not you are willing to walk out of the movie and give up the money you just paid. If you don't want to feel slighted you'll sit through this horrible film and develop a real sense of pity for the actors involved, they've all seen better days, but then you realize they actually got paid quite a bit of money to do this and you'll lose pity for them just like you've alr...</td>\n",
       "      <td>False</td>\n",
       "    </tr>\n",
       "  </tbody>\n",
       "</table>\n",
       "</div>"
      ],
      "text/plain": [
       "      label  \\\n",
       "0  negative   \n",
       "1  positive   \n",
       "2  negative   \n",
       "3  positive   \n",
       "4  negative   \n",
       "\n",
       "                                                                                                                                                                                                                                                                                                                                                                                                                                                                                                                                                                                                                      text  \\\n",
       "0                                                                                                                                                                                                    Un-bleeping-believable! Meg Ryan doesn't even look her usual pert lovable self in this, which normally makes me forgive her shallow ticky acting schtick. Hard to believe she was the producer on this dog. Plus Kevin Kline: what kind of suicide trip has his career been on? Whoosh... Banzai!!! Finally this was directed by the guy who did Big Chill? Must be a replay of Jonestown - hollywood style. Wooofff!   \n",
       "1  This is a extremely well-made film. The acting, script and camera-work are all first-rate. The music is good, too, though it is mostly early in the film, when things are still relatively cheery. There are no really superstars in the cast, though several faces will be familiar. The entire cast does an excellent job with the script.<br /><br />But it is hard to watch, because there is no good end to a situation like the one presented. It is now fashionable to blame the British for setting Hindus and Muslims against each other, and then cruelly separating them into two countries. There is som...   \n",
       "2  Every once in a long while a movie will come along that will be so awful that I feel compelled to warn people. If I labor all my days and I can save but one soul from watching this movie, how great will be my joy.<br /><br />Where to begin my discussion of pain. For starters, there was a musical montage every five minutes. There was no character development. Every character was a stereotype. We had swearing guy, fat guy who eats donuts, goofy foreign guy, etc. The script felt as if it were being written as the movie was being shot. The production value was so incredibly low that it felt li...   \n",
       "3  Name just says it all. I watched this movie with my dad when it came out and having served in Korea he had great admiration for the man. The disappointing thing about this film is that it only concentrate on a short period of the man's life - interestingly enough the man's entire life would have made such an epic bio-pic that it is staggering to imagine the cost for production.<br /><br />Some posters elude to the flawed characteristics about the man, which are cheap shots. The theme of the movie \"Duty, Honor, Country\" are not just mere words blathered from the lips of a high-brassed offic...   \n",
       "4  This movie succeeds at being one of the most unique movies you've seen. However this comes from the fact that you can't make heads or tails of this mess. It almost seems as a series of challenges set up to determine whether or not you are willing to walk out of the movie and give up the money you just paid. If you don't want to feel slighted you'll sit through this horrible film and develop a real sense of pity for the actors involved, they've all seen better days, but then you realize they actually got paid quite a bit of money to do this and you'll lose pity for them just like you've alr...   \n",
       "\n",
       "   is_valid  \n",
       "0     False  \n",
       "1     False  \n",
       "2     False  \n",
       "3     False  \n",
       "4     False  "
      ]
     },
     "execution_count": null,
     "metadata": {},
     "output_type": "execute_result"
    }
   ],
   "source": [
    "df.head()"
   ]
  },
  {
   "cell_type": "markdown",
   "id": "bf0610dd",
   "metadata": {},
   "source": [
    "We will find that there is a `label`, some `text`, and a `is_valid` boolean, which determines if a row is part of the training or the validation set"
   ]
  },
  {
   "cell_type": "markdown",
   "id": "6bcf48d1",
   "metadata": {},
   "source": [
    "Now that we've downloaded some data, let's pick a viable model to train with"
   ]
  },
  {
   "cell_type": "markdown",
   "id": "320caa02",
   "metadata": {},
   "source": [
    "## Picking a Model with the Hub"
   ]
  },
  {
   "cell_type": "markdown",
   "id": "170b200d",
   "metadata": {},
   "source": [
    "AdaptNLP has a `HFModelHub` class that allows you to communicate with the HuggingFace Hub and pick a model from it, as well as a namespace `HF_TASKS` class with a list of valid tasks we can search by.\n",
    "\n",
    "Let's try and find one suitable for sequence classification.\n",
    "\n",
    "First we need to import the class and generate an instance of it:"
   ]
  },
  {
   "cell_type": "code",
   "execution_count": null,
   "id": "e6c1f6ab",
   "metadata": {},
   "outputs": [],
   "source": [
    "from adaptnlp import HFModelHub, HF_TASKS"
   ]
  },
  {
   "cell_type": "code",
   "execution_count": null,
   "id": "9460e9d8",
   "metadata": {},
   "outputs": [],
   "source": [
    "hub = HFModelHub()"
   ]
  },
  {
   "cell_type": "markdown",
   "id": "7ce5e54e",
   "metadata": {},
   "source": [
    "Next we can search for a model:"
   ]
  },
  {
   "cell_type": "code",
   "execution_count": null,
   "id": "1ded037a",
   "metadata": {},
   "outputs": [],
   "source": [
    "models = hub.search_model_by_task(HF_TASKS.TEXT_GENERATION)"
   ]
  },
  {
   "cell_type": "markdown",
   "id": "9fec0167",
   "metadata": {},
   "source": [
    "Let's look at a few:"
   ]
  },
  {
   "cell_type": "code",
   "execution_count": null,
   "id": "17717851",
   "metadata": {},
   "outputs": [
    {
     "data": {
      "text/plain": [
       "[Model Name: distilgpt2, Tasks: [text-generation],\n",
       " Model Name: gpt2-large, Tasks: [text-generation],\n",
       " Model Name: gpt2-medium, Tasks: [text-generation],\n",
       " Model Name: gpt2-xl, Tasks: [text-generation],\n",
       " Model Name: gpt2, Tasks: [text-generation],\n",
       " Model Name: openai-gpt, Tasks: [text-generation],\n",
       " Model Name: transfo-xl-wt103, Tasks: [text-generation],\n",
       " Model Name: xlnet-base-cased, Tasks: [text-generation],\n",
       " Model Name: xlnet-large-cased, Tasks: [text-generation]]"
      ]
     },
     "execution_count": null,
     "metadata": {},
     "output_type": "execute_result"
    }
   ],
   "source": [
    "models[:10]"
   ]
  },
  {
   "cell_type": "markdown",
   "id": "92cc23ba",
   "metadata": {},
   "source": [
    "These are models specifically tagged with the `text-generation` tag, so you may not see a few models you would expect such as `bert_base_cased`.\n",
    "\n",
    "We'll use that first model, `distilgpt2`:"
   ]
  },
  {
   "cell_type": "code",
   "execution_count": null,
   "id": "60e340d4",
   "metadata": {},
   "outputs": [],
   "source": [
    "model = models[0]"
   ]
  },
  {
   "cell_type": "code",
   "execution_count": null,
   "id": "9b29d210",
   "metadata": {},
   "outputs": [
    {
     "data": {
      "text/plain": [
       "Model Name: distilgpt2, Tasks: [text-generation]"
      ]
     },
     "execution_count": null,
     "metadata": {},
     "output_type": "execute_result"
    }
   ],
   "source": [
    "model"
   ]
  },
  {
   "cell_type": "markdown",
   "id": "a567732b",
   "metadata": {},
   "source": [
    "Now that we have picked a model, let's use the data API to prepare our data"
   ]
  },
  {
   "cell_type": "markdown",
   "id": "a52c80c1",
   "metadata": {},
   "source": [
    "> Note: It should be mentioned that this is optional, you can always just pass in the string name of a model such as \"bert-base-cased\""
   ]
  },
  {
   "cell_type": "markdown",
   "id": "b676253e",
   "metadata": {},
   "source": [
    "## Building `TaskDatasets` with `LanguageModelDatasets`"
   ]
  },
  {
   "cell_type": "markdown",
   "id": "7faa7c29",
   "metadata": {},
   "source": [
    "Each task has a high-level data wrapper around the `TaskDatasets` class. In our case this is the `LanguageModelDatasets` class:"
   ]
  },
  {
   "cell_type": "code",
   "execution_count": null,
   "id": "83994a53",
   "metadata": {},
   "outputs": [],
   "source": [
    "from adaptnlp import LanguageModelDatasets"
   ]
  },
  {
   "cell_type": "markdown",
   "id": "6965c387",
   "metadata": {},
   "source": [
    "There are multiple different constructors for the `LanguageModelDatasets` class, and you should never call the main constructor directly.\n",
    "\n",
    "We will be using `from_dfs`:"
   ]
  },
  {
   "cell_type": "code",
   "execution_count": null,
   "id": "ce0cfe3a",
   "metadata": {},
   "outputs": [
    {
     "data": {
      "text/markdown": [
       "<h4 id=\"LanguageModelDatasets.from_dfs\" class=\"doc_header\"><code>LanguageModelDatasets.from_dfs</code><a href=\"https://github.com/novetta/adaptnlp/tree/master/adaptnlp/training/language_model.py#L77\" class=\"source_link\" style=\"float:right\">[source]</a></h4>\n",
       "\n",
       "> <code>LanguageModelDatasets.from_dfs</code>(**`train_df`**:`DataFrame`, **`text_col`**:`str`, **`tokenizer_name`**:`str`, **`block_size`**:`int`=*`128`*, **`masked_lm`**:`bool`=*`False`*, **`valid_df`**:`DataFrame`=*`None`*, **`split_func`**:`callable`=*`None`*, **`split_pct`**:`float`=*`0.1`*, **`tokenize_kwargs`**:`dict`=*`{}`*, **`auto_kwargs`**:`dict`=*`{}`*)\n",
       "\n",
       "Builds [`LanguageModelDatasets`](/adaptnlp/training.language_model.html#LanguageModelDatasets) from a `DataFrame` or file path\n",
       "\n",
       "**Function Arguments**:\n",
       "* `train_df` (`pd.DataFrame`): A Pandas Dataframe\n",
       "* `text_col` (`str`): The name of the text column\n",
       "* `tokenizer_name` (`str`): The name of the tokenizer\n",
       "* `block_size` (`int`): The size of each block\n",
       "* `masked_lm` (`bool`): Whether the language model is a MLM\n",
       "* `valid_df` (`pd.DataFrame`): An optional validation DataFrame\n",
       "* `split_func` (`callable`): Optionally a splitting function similar to RandomSplitter\n",
       "* `split_pct` (`float`): What % to split the df between training and validation\n",
       "* `tokenize_kwargs` (`dict`): kwargs for the tokenize function\n",
       "* `auto_kwargs` (`dict`): kwargs for the AutoTokenizer.from_pretrained constructor\n"
      ],
      "text/plain": [
       "<IPython.core.display.Markdown object>"
      ]
     },
     "metadata": {},
     "output_type": "display_data"
    }
   ],
   "source": [
    "from adaptnlp import LanguageModelDatasets\n",
    "show_doc(LanguageModelDatasets.from_dfs)"
   ]
  },
  {
   "cell_type": "markdown",
   "id": "a224521a",
   "metadata": {},
   "source": [
    "Anything you would normally pass to the tokenizer call (such as `max_length`, `padding`) should go in `tokenize_kwargs`, and anything going to the `AutoTokenizer.from_pretrained` constructor should be passed to the `auto_kwargs`.\n",
    "\n",
    "In our case we only have a `train_df`, and since we are training a language model, we want to split the data 90/10 (which is the default)"
   ]
  },
  {
   "cell_type": "markdown",
   "id": "e805e1a8",
   "metadata": {},
   "source": [
    "Also, we will set a block_size of 128, and it is *not* a masked language model:"
   ]
  },
  {
   "cell_type": "code",
   "execution_count": null,
   "id": "497cf7f7",
   "metadata": {},
   "outputs": [
    {
     "name": "stdout",
     "output_type": "stream",
     "text": [
      "No value for `max_length` set, automatically adjusting to the size of the model and including truncation\n",
      "Sequence length set to: 1024\n"
     ]
    },
    {
     "data": {
      "application/vnd.jupyter.widget-view+json": {
       "model_id": "e26934dbb72c4e8aaa961f1d9b756182",
       "version_major": 2,
       "version_minor": 0
      },
      "text/plain": [
       "HBox(children=(FloatProgress(value=0.0, max=1.0), HTML(value='')))"
      ]
     },
     "metadata": {},
     "output_type": "display_data"
    },
    {
     "name": "stdout",
     "output_type": "stream",
     "text": [
      "\n"
     ]
    },
    {
     "data": {
      "application/vnd.jupyter.widget-view+json": {
       "model_id": "9842b4fe85c547588852871570456994",
       "version_major": 2,
       "version_minor": 0
      },
      "text/plain": [
       "HBox(children=(FloatProgress(value=0.0, max=1.0), HTML(value='')))"
      ]
     },
     "metadata": {},
     "output_type": "display_data"
    },
    {
     "name": "stdout",
     "output_type": "stream",
     "text": [
      "\n"
     ]
    },
    {
     "data": {
      "application/vnd.jupyter.widget-view+json": {
       "model_id": "9b9b935ee3c24708a2aa0c3357142d8f",
       "version_major": 2,
       "version_minor": 0
      },
      "text/plain": [
       "HBox(children=(FloatProgress(value=0.0, max=1.0), HTML(value='')))"
      ]
     },
     "metadata": {},
     "output_type": "display_data"
    },
    {
     "name": "stdout",
     "output_type": "stream",
     "text": [
      "\n"
     ]
    },
    {
     "data": {
      "application/vnd.jupyter.widget-view+json": {
       "model_id": "a61b3cec719d444d8e6ffa2569aaf5ec",
       "version_major": 2,
       "version_minor": 0
      },
      "text/plain": [
       "HBox(children=(FloatProgress(value=0.0, max=1.0), HTML(value='')))"
      ]
     },
     "metadata": {},
     "output_type": "display_data"
    },
    {
     "name": "stdout",
     "output_type": "stream",
     "text": [
      "\n"
     ]
    }
   ],
   "source": [
    "dsets = LanguageModelDatasets.from_dfs(\n",
    "    train_df=df,\n",
    "    text_col='text',\n",
    "    tokenizer_name=model.name,\n",
    "    block_size=128,\n",
    "    masked_lm=False\n",
    ")"
   ]
  },
  {
   "cell_type": "markdown",
   "id": "6eebf5ec",
   "metadata": {},
   "source": [
    "> Note: If you have a training and validation `DataFrame`, simply pass in the validation `DataFrame` as `valid_df=validation_dataframe` and do not pass in any `split_func` or `split_pct`. Everything else is the exact same"
   ]
  },
  {
   "cell_type": "markdown",
   "id": "4faae30d",
   "metadata": {},
   "source": [
    "And finally turn it into some `AdaptiveDataLoaders`.\n",
    "\n",
    "These are just fastai's `DataLoaders` class, but it overrides a few functions to have it work nicely with HuggingFace's `Dataset` class"
   ]
  },
  {
   "cell_type": "code",
   "execution_count": null,
   "id": "08cc36db",
   "metadata": {},
   "outputs": [
    {
     "data": {
      "text/markdown": [
       "<h4 id=\"TaskDatasets.dataloaders\" class=\"doc_header\"><code>TaskDatasets.dataloaders</code><a href=\"https://github.com/novetta/adaptnlp/tree/master/adaptnlp/training/core.py#L246\" class=\"source_link\" style=\"float:right\">[source]</a></h4>\n",
       "\n",
       "> <code>TaskDatasets.dataloaders</code>(**`batch_size`**:`int`=*`8`*, **`shuffle_train`**:`bool`=*`True`*, **`collate_fn`**:`callable`=*`None`*, **`path`**=*`'.'`*, **`device`**=*`None`*)\n",
       "\n",
       "Creates `DataLoaders` from the dataset\n",
       "\n",
       "**Function Arguments**:\n",
       "* `batch_size` (`int`): A batch size\n",
       "* `shuffle_train` (`bool`): Whether to shuffle the training dataset\n",
       "* `collate_fn` (`callable `): A custom collation function\n"
      ],
      "text/plain": [
       "<IPython.core.display.Markdown object>"
      ]
     },
     "metadata": {},
     "output_type": "display_data"
    }
   ],
   "source": [
    "show_doc(LanguageModelDatasets.dataloaders)"
   ]
  },
  {
   "cell_type": "code",
   "execution_count": null,
   "id": "031a26b4",
   "metadata": {},
   "outputs": [],
   "source": [
    "dls = dsets.dataloaders(batch_size=8)"
   ]
  },
  {
   "cell_type": "markdown",
   "id": "91df0c08",
   "metadata": {},
   "source": [
    "Finally, let's view a batch of data with the `show_batch` function:"
   ]
  },
  {
   "cell_type": "code",
   "execution_count": null,
   "id": "965ad300",
   "metadata": {},
   "outputs": [
    {
     "data": {
      "text/html": [
       "<table border=\"1\" class=\"dataframe\">\n",
       "  <thead>\n",
       "    <tr style=\"text-align: right;\">\n",
       "      <th></th>\n",
       "      <th>Input</th>\n",
       "      <th>Label</th>\n",
       "    </tr>\n",
       "  </thead>\n",
       "  <tbody>\n",
       "    <tr>\n",
       "      <th>0</th>\n",
       "      <td>acknowledge the real essence of what makes them the modern day Puerto Ricans,but barely mentioned how Africans influenced the way their Spanish is spoken, the food and music. She is so typical and I lost a lot of respect for her and will not support anything else she does. Also, since she wants to dance around her African-ness then she need not take more roles associated with blackness (i.e. Lackawanna Blues). We can find a prideful Black Latina next time (thank you Zoe Saldana,Gina Torres, Gina Ravera and Melissa DeSousa).&lt;br /&gt;&lt;br /&gt;To the Puerto Rican on here that said they are African and not \"black\"....thank you. We \"blacks\" certainly do not have anything in common with \"you\" so there is no love lost. But, since you are probably in the States and have benefited from the Civil Rights movement we would like for you refuse any decent human treatment you received courtesy of the blood,sweat and tears from the backs of the \"blacks\" you share nothing with.&lt;br /&gt;&lt;br /&gt;If I am correct Puerto Ricans have a terrible image in the media, but we blacks do not spend our time trying to disrespect you because we know that the media loves to exploits the low points and behaviors of all minorities to maintain mindless generalizations. However, you evidently have fed into the hype that one you are somehow white or superior...you are not. Also, you somehow feel compelled to believe that black culture is BET...again you are incorrect and need to take a vacation out of the hood. Try visiting Atlanta, Ga., Houston, Texas, Charlotte, N.C. Trust me none of those blacks want to claim your \"culture\" either.I think James Cameron might be becoming my favorite director because this is my second review of his movies. Anyway, everyone remembers the RMS Titanic. It was big, fast, and \"unsinkable\"... until April 1912. It was all over the news and one of the biggest tragedies ever. Well James Cameron decided to make a movie out of it but star two fictional characters to be in the spotlight instead of the ship. Well, onto the main review but let me remind you that this is all opinion and zero fact and the only fact that will be present is an event from the film.&lt;br /&gt;&lt;br /&gt;So our two main characters are Jack (Leonardo DiCaprio) and Rose (Kate Winslet). They're not annoying too much but</td>\n",
       "      <td>acknowledge the real essence of what makes them the modern day Puerto Ricans,but barely mentioned how Africans influenced the way their Spanish is spoken, the food and music. She is so typical and I lost a lot of respect for her and will not support anything else she does. Also, since she wants to dance around her African-ness then she need not take more roles associated with blackness (i.e. Lackawanna Blues). We can find a prideful Black Latina next time (thank you Zoe Saldana,Gina Torres, Gina Ravera and Melissa DeSousa).&lt;br /&gt;&lt;br /&gt;To the Puerto Rican on here that said they are African and not \"black\"....thank you. We \"blacks\" certainly do not have anything in common with \"you\" so there is no love lost. But, since you are probably in the States and have benefited from the Civil Rights movement we would like for you refuse any decent human treatment you received courtesy of the blood,sweat and tears from the backs of the \"blacks\" you share nothing with.&lt;br /&gt;&lt;br /&gt;If I am correct Puerto Ricans have a terrible image in the media, but we blacks do not spend our time trying to disrespect you because we know that the media loves to exploits the low points and behaviors of all minorities to maintain mindless generalizations. However, you evidently have fed into the hype that one you are somehow white or superior...you are not. Also, you somehow feel compelled to believe that black culture is BET...again you are incorrect and need to take a vacation out of the hood. Try visiting Atlanta, Ga., Houston, Texas, Charlotte, N.C. Trust me none of those blacks want to claim your \"culture\" either.I think James Cameron might be becoming my favorite director because this is my second review of his movies. Anyway, everyone remembers the RMS Titanic. It was big, fast, and \"unsinkable\"... until April 1912. It was all over the news and one of the biggest tragedies ever. Well James Cameron decided to make a movie out of it but star two fictional characters to be in the spotlight instead of the ship. Well, onto the main review but let me remind you that this is all opinion and zero fact and the only fact that will be present is an event from the film.&lt;br /&gt;&lt;br /&gt;So our two main characters are Jack (Leonardo DiCaprio) and Rose (Kate Winslet). They're not annoying too much but</td>\n",
       "    </tr>\n",
       "    <tr>\n",
       "      <th>1</th>\n",
       "      <td>transformation from gruff to caring was so well realised, making it more believable than Scrooge in Christmas Carol. After Inspector Morse, this is Thaw's finest hour. He was matched earnestly by a young Nick Robinson, who gave a thoroughly convincing portrayal of an evacuee traumatised by the abusive relationship with his mother. The script and music made it worth the buy, and you also see Thaw playing the organ. Amazing! The most moving scene, was Willie finding out about Zak's death, and then Tom telling him about his deceased family who died of scarlatina. Buy this, you'll love it! 10/10 Bethany CoxI was required to watch the movie for my work, so I didn't pay for it (on the contrary, i got paid), but I still found the movie to suck far more than average. The jokes were lame, the two lead actresses... well, to use the \"First wives club\" division of women's ages in Hollywood, they are no longer in their \"hot chick\" age but more in their \"district attorney\" age. What angered me most about the movie was the main plot line, which pretty much completely plagiarized \"Beavis &amp; Butthead Do America\" (in which the boys are all jazzed up about some dude offering them money to \"do his wife\", not realizing they're expected to assassinate her). All in all, a bland piece of crap.Now my friends, films like \"La Bête\" (aka \"The Beast\" or \"O Monstro\")only can be done in the old continent :),in this film we see all: horses dirty sex, nymphomaniac kind off gorilla, non sense dialogs, etc, etc, etc... In the serious terms now,its an allegory, that men sometimes could be bestial, visceral and brutal,Walerian Borowczyk (the director) shows us the loss of innocence, sexual violence, rape and brutality. Its a astonishing cinematic experience, bizarre and full of grotesque scenes. For all fans of European shocking exploitation, i recommend this film.If you like this one i recommend: \"Orloff Against the Invisible Man\" and \"Alterated States\".This is an amazing film to watch or show young people. Aside from a very brief nude scene, it gives an interesting glimpse into colonial rule in Africa that you'll rarely find in other films. It does bear a superficial similarity to OUT OF Africa, but without all the romantic</td>\n",
       "      <td>transformation from gruff to caring was so well realised, making it more believable than Scrooge in Christmas Carol. After Inspector Morse, this is Thaw's finest hour. He was matched earnestly by a young Nick Robinson, who gave a thoroughly convincing portrayal of an evacuee traumatised by the abusive relationship with his mother. The script and music made it worth the buy, and you also see Thaw playing the organ. Amazing! The most moving scene, was Willie finding out about Zak's death, and then Tom telling him about his deceased family who died of scarlatina. Buy this, you'll love it! 10/10 Bethany CoxI was required to watch the movie for my work, so I didn't pay for it (on the contrary, i got paid), but I still found the movie to suck far more than average. The jokes were lame, the two lead actresses... well, to use the \"First wives club\" division of women's ages in Hollywood, they are no longer in their \"hot chick\" age but more in their \"district attorney\" age. What angered me most about the movie was the main plot line, which pretty much completely plagiarized \"Beavis &amp; Butthead Do America\" (in which the boys are all jazzed up about some dude offering them money to \"do his wife\", not realizing they're expected to assassinate her). All in all, a bland piece of crap.Now my friends, films like \"La Bête\" (aka \"The Beast\" or \"O Monstro\")only can be done in the old continent :),in this film we see all: horses dirty sex, nymphomaniac kind off gorilla, non sense dialogs, etc, etc, etc... In the serious terms now,its an allegory, that men sometimes could be bestial, visceral and brutal,Walerian Borowczyk (the director) shows us the loss of innocence, sexual violence, rape and brutality. Its a astonishing cinematic experience, bizarre and full of grotesque scenes. For all fans of European shocking exploitation, i recommend this film.If you like this one i recommend: \"Orloff Against the Invisible Man\" and \"Alterated States\".This is an amazing film to watch or show young people. Aside from a very brief nude scene, it gives an interesting glimpse into colonial rule in Africa that you'll rarely find in other films. It does bear a superficial similarity to OUT OF Africa, but without all the romantic</td>\n",
       "    </tr>\n",
       "    <tr>\n",
       "      <th>2</th>\n",
       "      <td>br /&gt;The plot of \"Genova\" sounds promising, but unfortunately it is empty and without focus. The film only consists of a collection of scenes depicting the daily life of the family, such as swimming, taking piano lessons or cooking eggs. Most of such scenes are redundant and tiresome, completely failing to engage viewers emotionally. The ending is very disappointing as it is not spectacular, moving or emotional. I can safely say that I am disappointed and bored by \"Genova\" The only thing good about the film is the sunny weather and the beauty of Genova. \"Genova\" can serve as an extended tourism advertisement for the city, but not as a film to be enjoyed.As an adult I really did enjoy this one. I watched it with my 2 granddaughters and the 3 1/2 year old was fascinated and the 15 month old giggled at the mice.&lt;br /&gt;&lt;br /&gt;The music is fun and the animation is wonderful. This sequel does what Return to Neverland didn't accomplish. A good follow-up to the Cinderella story; but what becomes of Drusilla? Another sequel? I hope so!This may have been made for the hell of it, but it was most probably the worst film i've seen in years, The best thing about the entire DVD would be the case!!! I'm surprised that people took the time to make something so rubbish and yet spend money on it too, I'm glad i only rented. I suppose the real fans of this film would probably have to be sadistic and Gothic to care about it without taking in any CGI or any other effects for that matter, I hope Alex Chandon learnt a lesson about lighting and SFX to make a better film in the future, that is, if he is still in work.&lt;br /&gt;&lt;br /&gt;Notes to buyers this is extremely disappointing, DON'T BUY IT!!!!!There are no people like \"Show People\" Marion Davies (as Peggy Pepper) and William Haines (as Billy Boone). My introduction to Ms. Davies was a \"clip\" from this film; the delightfully spoofy one in which she lowers a scarf to reveal different emotions. My introduction to Mr. Haines was in viewing this film, presently; though, it's possible I've seen him in a less memorable role. Haines makes an incredible impression, when he joins Davies for a commissary meal - tossing his hat into the ring with some wonderful bits at the dining table. Indeed, Haines and Davies deliver</td>\n",
       "      <td>br /&gt;The plot of \"Genova\" sounds promising, but unfortunately it is empty and without focus. The film only consists of a collection of scenes depicting the daily life of the family, such as swimming, taking piano lessons or cooking eggs. Most of such scenes are redundant and tiresome, completely failing to engage viewers emotionally. The ending is very disappointing as it is not spectacular, moving or emotional. I can safely say that I am disappointed and bored by \"Genova\" The only thing good about the film is the sunny weather and the beauty of Genova. \"Genova\" can serve as an extended tourism advertisement for the city, but not as a film to be enjoyed.As an adult I really did enjoy this one. I watched it with my 2 granddaughters and the 3 1/2 year old was fascinated and the 15 month old giggled at the mice.&lt;br /&gt;&lt;br /&gt;The music is fun and the animation is wonderful. This sequel does what Return to Neverland didn't accomplish. A good follow-up to the Cinderella story; but what becomes of Drusilla? Another sequel? I hope so!This may have been made for the hell of it, but it was most probably the worst film i've seen in years, The best thing about the entire DVD would be the case!!! I'm surprised that people took the time to make something so rubbish and yet spend money on it too, I'm glad i only rented. I suppose the real fans of this film would probably have to be sadistic and Gothic to care about it without taking in any CGI or any other effects for that matter, I hope Alex Chandon learnt a lesson about lighting and SFX to make a better film in the future, that is, if he is still in work.&lt;br /&gt;&lt;br /&gt;Notes to buyers this is extremely disappointing, DON'T BUY IT!!!!!There are no people like \"Show People\" Marion Davies (as Peggy Pepper) and William Haines (as Billy Boone). My introduction to Ms. Davies was a \"clip\" from this film; the delightfully spoofy one in which she lowers a scarf to reveal different emotions. My introduction to Mr. Haines was in viewing this film, presently; though, it's possible I've seen him in a less memorable role. Haines makes an incredible impression, when he joins Davies for a commissary meal - tossing his hat into the ring with some wonderful bits at the dining table. Indeed, Haines and Davies deliver</td>\n",
       "    </tr>\n",
       "    <tr>\n",
       "      <th>3</th>\n",
       "      <td>does. Is he right? Or is he a moron? Or is he just misguided by society? Find out all this and more when you watch {trumpet fanfare} ANCHORS AWEIGH!&lt;br /&gt;&lt;br /&gt;P.S. If you want to see Kathryn Grayson be anything but sickeningly sweet, try Kiss Me Kate (1953).Pathetic is the word. Bad acting, pathetic script, cheezy dialog and hip hop music &amp; fashion...what the hell was up with that? The directer of this movie acts as bad as the movie he made. If someone would have taken some time and effort to rework the whole thing, it may of had a chance. Bet the studios are still trying figure out how they could screw up up so badly.&lt;br /&gt;&lt;br /&gt;The absolute best thing about this movie was Stacey Dash...the Asian chick wasn't too bad neither. These too gals carried the whole movie. If it weren't for them I would have destroyed my copy of this movie.&lt;br /&gt;&lt;br /&gt;If any of those who have not seen this yet and had a notion to, don't waste your time...you'll only regret it later.\"What would you do?\" is a question that will stick in your mind for weeks after watching the emotional Brokedown Palace. You will also be left wondering if Alice (Danes) was telling the truth or not - a issue that is left unresolved, and rightly so. This is a particularly well acted and beautifully shot film. Although it is slow at times, its pace is reflective of the story line - but a lot of the film will have you on the edge of your seat; wanting to know what happens next. The ending will also leave you imagining yourself in the shoes of the lead characters, which are brilliantly played by Kate Beckinsale and Claire Danes. Bill Pullman's performance is commendable, too.Wenders was great with Million $ Hotel.I don't know how he came up with this film! The idea of giving the situation after spt11 and the view of American Society is hopeful,that makes it 2 out of ten.But this is not a movie.Is that the best someone can do with a great idea(the west-east clash).There are important things going on in middle east and it is just issued on the screen of a MAC* with the fingers of an Amerian girl who is actually at the level of stupidity(because she is just ignorant about the</td>\n",
       "      <td>does. Is he right? Or is he a moron? Or is he just misguided by society? Find out all this and more when you watch {trumpet fanfare} ANCHORS AWEIGH!&lt;br /&gt;&lt;br /&gt;P.S. If you want to see Kathryn Grayson be anything but sickeningly sweet, try Kiss Me Kate (1953).Pathetic is the word. Bad acting, pathetic script, cheezy dialog and hip hop music &amp; fashion...what the hell was up with that? The directer of this movie acts as bad as the movie he made. If someone would have taken some time and effort to rework the whole thing, it may of had a chance. Bet the studios are still trying figure out how they could screw up up so badly.&lt;br /&gt;&lt;br /&gt;The absolute best thing about this movie was Stacey Dash...the Asian chick wasn't too bad neither. These too gals carried the whole movie. If it weren't for them I would have destroyed my copy of this movie.&lt;br /&gt;&lt;br /&gt;If any of those who have not seen this yet and had a notion to, don't waste your time...you'll only regret it later.\"What would you do?\" is a question that will stick in your mind for weeks after watching the emotional Brokedown Palace. You will also be left wondering if Alice (Danes) was telling the truth or not - a issue that is left unresolved, and rightly so. This is a particularly well acted and beautifully shot film. Although it is slow at times, its pace is reflective of the story line - but a lot of the film will have you on the edge of your seat; wanting to know what happens next. The ending will also leave you imagining yourself in the shoes of the lead characters, which are brilliantly played by Kate Beckinsale and Claire Danes. Bill Pullman's performance is commendable, too.Wenders was great with Million $ Hotel.I don't know how he came up with this film! The idea of giving the situation after spt11 and the view of American Society is hopeful,that makes it 2 out of ten.But this is not a movie.Is that the best someone can do with a great idea(the west-east clash).There are important things going on in middle east and it is just issued on the screen of a MAC* with the fingers of an Amerian girl who is actually at the level of stupidity(because she is just ignorant about the</td>\n",
       "    </tr>\n",
       "    <tr>\n",
       "      <th>4</th>\n",
       "      <td>to life alone after 45 years of marriage. He also has to solve the problem of the family milch cow, Tulip, which refuses to allow itself to be milked. Until, that is, he visualizes his wife who was the one who used to milk Tulip.&lt;br /&gt;&lt;br /&gt;Tulip is based on a real story told in Griffith's family, of her grandparents' generation. The film is a nostalgic look back at a disappearing way of life, one where people still felt some sense of responsibility for each other, set in the lush green Victorian (the Australian state, not the era) countryside.&lt;br /&gt;&lt;br /&gt;Writer and director Griffiths evidently has further ambitions in both areas, and this multiple award-winning 15-minute short is a fine beginning to her reel.How to Lose Friends &amp; Alienate People is in all honesty one of the best comedies I've seen this year along with Pineapple Express and Step Brothers. Its not one of those \"gross out\" comedies that heavily relies on fart jokes and toilet humor but instead moves at an affable pace and you will be easily attached to the unfolding narrative. Simon Pegg nails it in the coffin with his hilarious portrayal of a fish-out-of-water character and is quickly detaching himself from the tripod he once belonged to back in England (the other two would be Nick Frost and Edgar Wright). Getting yourself in the top of the Hollywood food chain is a hard thing to do as we can clearly see with Pegg, his first jab at the lead role was David Schwimmer's comedy Run Fatboy Run but it received lukewarm reviews from critics and audiences alike. His second try is this movie, got fairly positive reviews from the majority but was a flop in the box office. I, for one still haven't lost faith in him and I'll still be there whenever he wants to take that third shot for glory.&lt;br /&gt;&lt;br /&gt;Other characters were well cast from Jeff Bridges to Danny Huston and Gillian Anderson. Surprisingly, Kirsten Dunst in my opinion fared well in this movie as the love angle to Pegg's character however, the spark that I saw in Interview with the Vampire is still lost. She needs to find it, fast or she might suffer the consequences of being lost in the land of \"rom-coms\" forever.\"Look, I know this may suck right now, but pain is temporary, film is forever. Whatever you do right now is burned into celluloid for all</td>\n",
       "      <td>to life alone after 45 years of marriage. He also has to solve the problem of the family milch cow, Tulip, which refuses to allow itself to be milked. Until, that is, he visualizes his wife who was the one who used to milk Tulip.&lt;br /&gt;&lt;br /&gt;Tulip is based on a real story told in Griffith's family, of her grandparents' generation. The film is a nostalgic look back at a disappearing way of life, one where people still felt some sense of responsibility for each other, set in the lush green Victorian (the Australian state, not the era) countryside.&lt;br /&gt;&lt;br /&gt;Writer and director Griffiths evidently has further ambitions in both areas, and this multiple award-winning 15-minute short is a fine beginning to her reel.How to Lose Friends &amp; Alienate People is in all honesty one of the best comedies I've seen this year along with Pineapple Express and Step Brothers. Its not one of those \"gross out\" comedies that heavily relies on fart jokes and toilet humor but instead moves at an affable pace and you will be easily attached to the unfolding narrative. Simon Pegg nails it in the coffin with his hilarious portrayal of a fish-out-of-water character and is quickly detaching himself from the tripod he once belonged to back in England (the other two would be Nick Frost and Edgar Wright). Getting yourself in the top of the Hollywood food chain is a hard thing to do as we can clearly see with Pegg, his first jab at the lead role was David Schwimmer's comedy Run Fatboy Run but it received lukewarm reviews from critics and audiences alike. His second try is this movie, got fairly positive reviews from the majority but was a flop in the box office. I, for one still haven't lost faith in him and I'll still be there whenever he wants to take that third shot for glory.&lt;br /&gt;&lt;br /&gt;Other characters were well cast from Jeff Bridges to Danny Huston and Gillian Anderson. Surprisingly, Kirsten Dunst in my opinion fared well in this movie as the love angle to Pegg's character however, the spark that I saw in Interview with the Vampire is still lost. She needs to find it, fast or she might suffer the consequences of being lost in the land of \"rom-coms\" forever.\"Look, I know this may suck right now, but pain is temporary, film is forever. Whatever you do right now is burned into celluloid for all</td>\n",
       "    </tr>\n",
       "  </tbody>\n",
       "</table>"
      ],
      "text/plain": [
       "<IPython.core.display.HTML object>"
      ]
     },
     "metadata": {},
     "output_type": "display_data"
    }
   ],
   "source": [
    "dls.show_batch()"
   ]
  },
  {
   "cell_type": "markdown",
   "id": "e0666f8d",
   "metadata": {},
   "source": [
    "When training a language model, the input and output are made to be the exact same, so there isn't a shown noticable difference here."
   ]
  },
  {
   "cell_type": "markdown",
   "id": "586172ad",
   "metadata": {},
   "source": [
    "## Building `Tuner`"
   ]
  },
  {
   "cell_type": "markdown",
   "id": "23e2d9bf",
   "metadata": {},
   "source": [
    "Next we need to build a compatible `Tuner` for our problem. These tuners contain good defaults for our problem space, including loss functions and metrics.\n",
    "\n",
    "First let's import the `LanguageModelTuner` and view it's documentation"
   ]
  },
  {
   "cell_type": "code",
   "execution_count": null,
   "id": "c54d78db",
   "metadata": {},
   "outputs": [],
   "source": [
    "from adaptnlp import LanguageModelTuner"
   ]
  },
  {
   "cell_type": "code",
   "execution_count": null,
   "id": "WRxJWveszSmY",
   "metadata": {},
   "outputs": [
    {
     "data": {
      "text/markdown": [
       "<h2 id=\"LanguageModelTuner\" class=\"doc_header\"><code>class</code> <code>LanguageModelTuner</code><a href=\"https://github.com/novetta/adaptnlp/tree/master/adaptnlp/training/language_model.py#L224\" class=\"source_link\" style=\"float:right\">[source]</a></h2>\n",
       "\n",
       "> <code>LanguageModelTuner</code>(**`dls`**:`DataLoaders`, **`model_name`**, **`tokenizer`**=*`None`*, **`language_model_type`**:`LMType`=*`'causal'`*, **`loss_func`**=*`CrossEntropyLoss()`*, **`metrics`**=*`[<fastai.metrics.Perplexity object at 0x7f8c5c968130>]`*, **`opt_func`**=*`Adam`*, **`additional_cbs`**=*`None`*, **`expose_fastai_api`**=*`False`*, **\\*\\*`kwargs`**) :: [`AdaptiveTuner`](/adaptnlp/training.core.html#AdaptiveTuner)\n",
       "\n",
       "An [`AdaptiveTuner`](/adaptnlp/training.core.html#AdaptiveTuner) with good defaults for Language Model fine-tuning\n",
       "**Valid kwargs and defaults:**\n",
       "  - `lr`:float = 0.001\n",
       "  - `splitter`:function = `trainable_params`\n",
       "  - `cbs`:list = None\n",
       "  - `path`:Path = None\n",
       "  - `model_dir`:Path = 'models'\n",
       "  - `wd`:float = None\n",
       "  - `wd_bn_bias`:bool = False\n",
       "  - `train_bn`:bool = True\n",
       "  - `moms`: tuple(float) = (0.95, 0.85, 0.95)\n",
       "\n",
       "**Function Arguments**:\n",
       "* `dls` (`DataLoaders`): A set of DataLoaders or AdaptiveDataLoaders\n",
       "* `model_name`: A HuggingFace model\n",
       "* `language_model_type` (`LMType `): The type of language model to use\n",
       "* `**kwargs`: kwargs for `Learner.__init__`\n",
       "* `**kwargs`: Optional arguments for `PretrainedModel.generate`\n"
      ],
      "text/plain": [
       "<IPython.core.display.Markdown object>"
      ]
     },
     "metadata": {},
     "output_type": "display_data"
    }
   ],
   "source": [
    "from adaptnlp import LanguageModelTuner\n",
    "show_doc(LanguageModelTuner)"
   ]
  },
  {
   "cell_type": "markdown",
   "id": "UXvHCw5HzVil",
   "metadata": {},
   "source": [
    "Next we'll pass in our `DataLoaders`, the name of our model, and the tokenizer:"
   ]
  },
  {
   "cell_type": "markdown",
   "id": "1efac2b5",
   "metadata": {},
   "source": [
    "> Note: If you are not using the data API (`TaskDatasets`, `SequenceClassificationDatasets`, etc), you need to pass in the tokenizer to the constructor as well with `tokenizer=tokenizer`"
   ]
  },
  {
   "cell_type": "code",
   "execution_count": null,
   "id": "k-gczguJzSjM",
   "metadata": {},
   "outputs": [],
   "source": [
    "tuner = LanguageModelTuner(dls, model.name, dls.tokenizer)"
   ]
  },
  {
   "cell_type": "markdown",
   "id": "9rAi8TF5zfPz",
   "metadata": {},
   "source": [
    "By default we can see that it used `CrossEntropyLoss` as our loss function, and `Perplexity` as our metric"
   ]
  },
  {
   "cell_type": "code",
   "execution_count": null,
   "id": "QTyxXImizjxC",
   "metadata": {},
   "outputs": [
    {
     "data": {
      "text/plain": [
       "FlattenedLoss of CrossEntropyLoss()"
      ]
     },
     "execution_count": null,
     "metadata": {},
     "output_type": "execute_result"
    }
   ],
   "source": [
    "tuner.loss_func"
   ]
  },
  {
   "cell_type": "code",
   "execution_count": null,
   "id": "x_PEmOXAzlAE",
   "metadata": {},
   "outputs": [
    {
     "name": "stdout",
     "output_type": "stream",
     "text": [
      "perplexity\n"
     ]
    }
   ],
   "source": [
    "_ = [print(m.name) for m in tuner.metrics]"
   ]
  },
  {
   "cell_type": "markdown",
   "id": "dl-tqB5uzq1k",
   "metadata": {},
   "source": [
    "Finally we just need to train our model!"
   ]
  },
  {
   "cell_type": "markdown",
   "id": "33dd944d",
   "metadata": {},
   "source": [
    "## Fine-Tuning"
   ]
  },
  {
   "cell_type": "markdown",
   "id": "2e9ec17d",
   "metadata": {},
   "source": [
    "To fine-tune, AdaptNLP's tuner class provides only a few functions to work with. The important ones are the `tune` and `lr_find` class.\n",
    "\n",
    "As the `Tuner` uses `fastai` under the hood, `lr_find` calls fastai's Learning Rate Finder to help us pick a learning rate. Let's do that now:"
   ]
  },
  {
   "cell_type": "code",
   "execution_count": null,
   "id": "ZTaeO5Vm0P-h",
   "metadata": {},
   "outputs": [
    {
     "data": {
      "text/markdown": [
       "<h4 id=\"AdaptiveTuner.lr_find\" class=\"doc_header\"><code>AdaptiveTuner.lr_find</code><a href=\"https://github.com/novetta/adaptnlp/tree/master/adaptnlp/training/core.py#L383\" class=\"source_link\" style=\"float:right\">[source]</a></h4>\n",
       "\n",
       "> <code>AdaptiveTuner.lr_find</code>(**`start_lr`**=*`1e-07`*, **`end_lr`**=*`10`*, **`num_it`**=*`100`*, **`stop_div`**=*`True`*, **`show_plot`**=*`True`*, **`suggest_funcs`**=*`valley`*)\n",
       "\n",
       "Runs fastai's `LR Finder`\n",
       "\n"
      ],
      "text/plain": [
       "<IPython.core.display.Markdown object>"
      ]
     },
     "metadata": {},
     "output_type": "display_data"
    }
   ],
   "source": [
    "show_doc(LanguageModelTuner.lr_find)"
   ]
  },
  {
   "cell_type": "code",
   "execution_count": null,
   "id": "2oWmrMic0H0z",
   "metadata": {},
   "outputs": [
    {
     "data": {
      "text/html": [],
      "text/plain": [
       "<IPython.core.display.HTML object>"
      ]
     },
     "metadata": {},
     "output_type": "display_data"
    },
    {
     "name": "stderr",
     "output_type": "stream",
     "text": [
      "/opt/venv/lib/python3.8/site-packages/fastai/callback/schedule.py:270: UserWarning: color is redundantly defined by the 'color' keyword argument and the fmt string \"ro\" (-> color='r'). The keyword argument will take precedence.\n",
      "  ax.plot(val, idx, 'ro', label=nm, c=color)\n"
     ]
    },
    {
     "data": {
      "text/plain": [
       "SuggestedLRs(valley=0.0003311311302240938)"
      ]
     },
     "execution_count": null,
     "metadata": {},
     "output_type": "execute_result"
    },
    {
     "data": {
      "image/png": "[encoded data removed]",
      "text/plain": [
       "<Figure size 432x288 with 1 Axes>"
      ]
     },
     "metadata": {
      "needs_background": "light"
     },
     "output_type": "display_data"
    }
   ],
   "source": [
    "tuner.lr_find()"
   ]
  },
  {
   "cell_type": "markdown",
   "id": "jxviy-Nj0Mly",
   "metadata": {},
   "source": [
    "It recommends a learning rate of around 5e-5, so we will use that."
   ]
  },
  {
   "cell_type": "code",
   "execution_count": null,
   "id": "a20a2181",
   "metadata": {},
   "outputs": [],
   "source": [
    "lr = 5e-5"
   ]
  },
  {
   "cell_type": "markdown",
   "id": "bpl6Krkl0SLX",
   "metadata": {},
   "source": [
    "Let's look at the documentation for `tune`:"
   ]
  },
  {
   "cell_type": "code",
   "execution_count": null,
   "id": "CtnRVQOX0T0-",
   "metadata": {},
   "outputs": [
    {
     "data": {
      "text/markdown": [
       "<h4 id=\"AdaptiveTuner.tune\" class=\"doc_header\"><code>AdaptiveTuner.tune</code><a href=\"https://github.com/novetta/adaptnlp/tree/master/adaptnlp/training/core.py#L369\" class=\"source_link\" style=\"float:right\">[source]</a></h4>\n",
       "\n",
       "> <code>AdaptiveTuner.tune</code>(**`epochs`**:`int`, **`lr`**:`float`=*`None`*, **`strategy`**:`Strategy`=*`'fit_one_cycle'`*, **`callbacks`**:`list`=*`[]`*, **\\*\\*`kwargs`**)\n",
       "\n",
       "Fine tune `self.model` for `epochs` with an `lr` and `strategy`\n",
       "\n"
      ],
      "text/plain": [
       "<IPython.core.display.Markdown object>"
      ]
     },
     "metadata": {},
     "output_type": "display_data"
    }
   ],
   "source": [
    "show_doc(LanguageModelTuner.tune)"
   ]
  },
  {
   "cell_type": "markdown",
   "id": "06gNa3Rk0U-_",
   "metadata": {},
   "source": [
    "We can pass in a number of epochs, a learning rate, a strategy, and additional fastai callbacks to call.\n",
    "\n",
    "Valid strategies live in the `Strategy` namespace class, and consist of:\n",
    "- OneCycle (Also called the [One-Cycle Policy](https://docs.fast.ai/callback.schedule.html#Learner.fit_one_cycle))\n",
    "- [CosineAnnealing](https://docs.fast.ai/callback.schedule.html#Learner.fit_flat_cos)\n",
    "- [SGDR](https://docs.fast.ai/callback.schedule.html#Learner.fit_sgdr)"
   ]
  },
  {
   "cell_type": "code",
   "execution_count": null,
   "id": "5DK9Q-rd0gHN",
   "metadata": {},
   "outputs": [],
   "source": [
    "from adaptnlp import Strategy"
   ]
  },
  {
   "cell_type": "markdown",
   "id": "Xgf9oa4H0nDI",
   "metadata": {},
   "source": [
    "In this tutorial we will train with the One-Cycle policy, as currently it is one of the best schedulers to use."
   ]
  },
  {
   "cell_type": "code",
   "execution_count": null,
   "id": "e4214963",
   "metadata": {},
   "outputs": [
    {
     "data": {
      "text/html": [
       "<table border=\"1\" class=\"dataframe\">\n",
       "  <thead>\n",
       "    <tr style=\"text-align: left;\">\n",
       "      <th>epoch</th>\n",
       "      <th>train_loss</th>\n",
       "      <th>valid_loss</th>\n",
       "      <th>perplexity</th>\n",
       "      <th>time</th>\n",
       "    </tr>\n",
       "  </thead>\n",
       "  <tbody>\n",
       "    <tr>\n",
       "      <td>0</td>\n",
       "      <td>4.060410</td>\n",
       "      <td>3.894190</td>\n",
       "      <td>49.116245</td>\n",
       "      <td>00:56</td>\n",
       "    </tr>\n",
       "    <tr>\n",
       "      <td>1</td>\n",
       "      <td>3.961307</td>\n",
       "      <td>3.877189</td>\n",
       "      <td>48.288303</td>\n",
       "      <td>00:55</td>\n",
       "    </tr>\n",
       "    <tr>\n",
       "      <td>2</td>\n",
       "      <td>3.893311</td>\n",
       "      <td>3.877568</td>\n",
       "      <td>48.306591</td>\n",
       "      <td>00:54</td>\n",
       "    </tr>\n",
       "  </tbody>\n",
       "</table>"
      ],
      "text/plain": [
       "<IPython.core.display.HTML object>"
      ]
     },
     "metadata": {},
     "output_type": "display_data"
    }
   ],
   "source": [
    "tuner.tune(3, lr, strategy=Strategy.OneCycle)"
   ]
  },
  {
   "cell_type": "markdown",
   "id": "42dc3547",
   "metadata": {},
   "source": [
    "## Saving Model"
   ]
  },
  {
   "cell_type": "markdown",
   "id": "2aebf7b2",
   "metadata": {},
   "source": [
    "Now that we have a trained model, let's save those weights away.\n",
    "\n",
    "Calling `tuner.save` will save both the model and the tokenizer in the same format as how HuggingFace does:"
   ]
  },
  {
   "cell_type": "code",
   "execution_count": null,
   "id": "a01b6b63",
   "metadata": {},
   "outputs": [
    {
     "data": {
      "text/markdown": [
       "<h4 id=\"AdaptiveTuner.save\" class=\"doc_header\"><code>AdaptiveTuner.save</code><a href=\"https://github.com/novetta/adaptnlp/tree/master/adaptnlp/training/core.py#L391\" class=\"source_link\" style=\"float:right\">[source]</a></h4>\n",
       "\n",
       "> <code>AdaptiveTuner.save</code>(**`save_directory`**)\n",
       "\n",
       "Save a pretrained model to a `save_directory`\n",
       "\n",
       "**Function Arguments**:\n",
       "* `save_directory`: A folder to save our model to\n"
      ],
      "text/plain": [
       "<IPython.core.display.Markdown object>"
      ]
     },
     "metadata": {},
     "output_type": "display_data"
    }
   ],
   "source": [
    "show_doc(LanguageModelTuner.save)"
   ]
  },
  {
   "cell_type": "code",
   "execution_count": null,
   "id": "WHCmaQxp0_88",
   "metadata": {},
   "outputs": [
    {
     "data": {
      "text/plain": [
       "'good_model'"
      ]
     },
     "execution_count": null,
     "metadata": {},
     "output_type": "execute_result"
    }
   ],
   "source": [
    "tuner.save('good_model')"
   ]
  },
  {
   "cell_type": "markdown",
   "id": "faf8dec2",
   "metadata": {},
   "source": [
    "## Performing Inference"
   ]
  },
  {
   "cell_type": "markdown",
   "id": "1ce058be",
   "metadata": {},
   "source": [
    "There are two ways to get predictions, the first is with the `.predict` method in our `tuner`. This is great for if you just finished training and want to see how your model performs on some new data!\n",
    "The other method is with AdaptNLP's inference API, which we will show afterwards"
   ]
  },
  {
   "cell_type": "markdown",
   "id": "S_OxB8QN1PD2",
   "metadata": {},
   "source": [
    "### In Tuner\n",
    "\n",
    "First let's write a sentence to test with"
   ]
  },
  {
   "cell_type": "code",
   "execution_count": null,
   "id": "43d011be",
   "metadata": {},
   "outputs": [],
   "source": [
    "sentence = \"Hugh Jackman is a terrible \""
   ]
  },
  {
   "cell_type": "markdown",
   "id": "jHP8lv2P1kKf",
   "metadata": {},
   "source": [
    "And then predict with it:"
   ]
  },
  {
   "cell_type": "code",
   "execution_count": null,
   "id": "KRdOk9bt1lSy",
   "metadata": {},
   "outputs": [
    {
     "data": {
      "text/markdown": [
       "<h4 id=\"LanguageModelTuner.predict\" class=\"doc_header\"><code>LanguageModelTuner.predict</code><a href=\"https://github.com/novetta/adaptnlp/tree/master/adaptnlp/training/language_model.py#L289\" class=\"source_link\" style=\"float:right\">[source]</a></h4>\n",
       "\n",
       "> <code>LanguageModelTuner.predict</code>(**`text`**:`Union`\\[`List`\\[`str`\\], `str`\\], **`bs`**:`int`=*`64`*, **`num_tokens_to_produce`**:`int`=*`50`*, **\\*\\*`kwargs`**)\n",
       "\n",
       "Predict some `text` for sequence classification with the currently loaded model\n",
       "\n",
       "**Function Arguments**:\n",
       "* `text` (`Union[List[str], str]`): Some text or list of texts to do inference with\n",
       "* `bs` (`int`): A batch size to use for multiple texts\n",
       "* `num_tokens_to_produce` (`int`): Number of tokens to generate\n",
       "* `**kwargs`: Optional arguments for `PretrainedModel.generate`\n"
      ],
      "text/plain": [
       "<IPython.core.display.Markdown object>"
      ]
     },
     "metadata": {},
     "output_type": "display_data"
    }
   ],
   "source": [
    "show_doc(LanguageModelTuner.predict)"
   ]
  },
  {
   "cell_type": "code",
   "execution_count": null,
   "id": "wPhkn9fp1mi6",
   "metadata": {},
   "outputs": [
    {
     "data": {
      "text/html": [
       "\n",
       "    <div>\n",
       "        <style>\n",
       "            /* Turns off some styling */\n",
       "            progress {\n",
       "                /* gets rid of default border in Firefox and Opera. */\n",
       "                border: none;\n",
       "                /* Needs to be in here for Safari polyfill so background images work as expected. */\n",
       "                background-size: auto;\n",
       "            }\n",
       "            .progress-bar-interrupted, .progress-bar-interrupted::-webkit-progress-bar {\n",
       "                background: #F44336;\n",
       "            }\n",
       "        </style>\n",
       "      <progress value='1' class='' max='1' style='width:300px; height:20px; vertical-align: middle;'></progress>\n",
       "      100.00% [1/1 00:00<00:00]\n",
       "    </div>\n",
       "    "
      ],
      "text/plain": [
       "<IPython.core.display.HTML object>"
      ]
     },
     "metadata": {},
     "output_type": "display_data"
    },
    {
     "data": {
      "text/plain": [
       "{'generated_text': ['Hugh Jackman is a terrible icky, and very funny, character.']}"
      ]
     },
     "execution_count": null,
     "metadata": {},
     "output_type": "execute_result"
    }
   ],
   "source": [
    "tuner.predict(sentence, num_tokens_to_produce=8)"
   ]
  },
  {
   "cell_type": "markdown",
   "id": "caaihrDr1taH",
   "metadata": {},
   "source": [
    "### With the Inference API\n",
    "\n",
    "Next we will use the `EasyTextGenerator` class, which AdaptNLP offers:"
   ]
  },
  {
   "cell_type": "code",
   "execution_count": null,
   "id": "S2TyPxzh10Tx",
   "metadata": {},
   "outputs": [],
   "source": [
    "from adaptnlp import EasyTextGenerator"
   ]
  },
  {
   "cell_type": "markdown",
   "id": "2_5JihBk12kA",
   "metadata": {},
   "source": [
    "We simply construct the class:"
   ]
  },
  {
   "cell_type": "code",
   "execution_count": null,
   "id": "Wa2mnVPY10QR",
   "metadata": {},
   "outputs": [],
   "source": [
    "classifier = EasyTextGenerator()"
   ]
  },
  {
   "cell_type": "markdown",
   "id": "Vf_HrdWy1_-Q",
   "metadata": {},
   "source": [
    "And call the `tag_text` method, passing in the sentence, the location of our saved model, and some names for our classes:"
   ]
  },
  {
   "cell_type": "code",
   "execution_count": null,
   "id": "UX_sdJkL10JA",
   "metadata": {},
   "outputs": [
    {
     "data": {
      "text/html": [
       "\n",
       "    <div>\n",
       "        <style>\n",
       "            /* Turns off some styling */\n",
       "            progress {\n",
       "                /* gets rid of default border in Firefox and Opera. */\n",
       "                border: none;\n",
       "                /* Needs to be in here for Safari polyfill so background images work as expected. */\n",
       "                background-size: auto;\n",
       "            }\n",
       "            .progress-bar-interrupted, .progress-bar-interrupted::-webkit-progress-bar {\n",
       "                background: #F44336;\n",
       "            }\n",
       "        </style>\n",
       "      <progress value='1' class='' max='1' style='width:300px; height:20px; vertical-align: middle;'></progress>\n",
       "      100.00% [1/1 00:00<00:00]\n",
       "    </div>\n",
       "    "
      ],
      "text/plain": [
       "<IPython.core.display.HTML object>"
      ]
     },
     "metadata": {},
     "output_type": "display_data"
    },
    {
     "data": {
      "text/plain": [
       "{'generated_text': ['Hugh Jackman is a terrible icky, and very funny, character.']}"
      ]
     },
     "execution_count": null,
     "metadata": {},
     "output_type": "execute_result"
    }
   ],
   "source": [
    "classifier.generate(\n",
    "    sentence,\n",
    "    model_name_or_path='good_model',\n",
    "    num_tokens_to_produce=8\n",
    ")"
   ]
  },
  {
   "cell_type": "markdown",
   "id": "qXsMgmQC2Qmt",
   "metadata": {},
   "source": [
    "And we got the exact same output!"
   ]
  }
 ],
 "metadata": {
  "kernelspec": {
   "display_name": "Python 3 (ipykernel)",
   "language": "python",
   "name": "python3"
  }
 },
 "nbformat": 4,
 "nbformat_minor": 5
}
