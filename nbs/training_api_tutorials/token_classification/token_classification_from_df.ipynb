{
 "cells": [
  {
   "cell_type": "code",
   "execution_count": null,
   "id": "53946cd5",
   "metadata": {},
   "outputs": [],
   "source": [
    "#all_slow"
   ]
  },
  {
   "cell_type": "markdown",
   "id": "ca157d7d",
   "metadata": {},
   "source": [
    "# Tutorial: Fine-Tuning Token Classification on DataFrames with CoNLL 2003\n",
    "> Tuning a Token Classification (Named Entity Recognition) model on the CoNLL 2003 dataset"
   ]
  },
  {
   "cell_type": "markdown",
   "id": "36868fd4",
   "metadata": {},
   "source": [
    "## Introduction\n",
    "\n",
    "In this tutorial we will be showing an end-to-end example of fine-tuning a Transformer for token classification on a custom dataset in DataFrame format.\n",
    "\n",
    "By the end of this you should be able to:\n",
    "\n",
    "1. Build a dataset with the `TokenClassificationDatasets` class, and its DataLoaders\n",
    "2. Build a `TokenClassificationTuner` quickly, find a good learning rate, and train with the One-Cycle Policy\n",
    "3. Save that model away, to be used with deployment or other HuggingFace libraries\n",
    "4. Apply inference using both the `Tuner`'s available function as well as with the `EasyTokenTagger` class within AdaptNLP\n"
   ]
  },
  {
   "cell_type": "markdown",
   "id": "3a44baa5",
   "metadata": {},
   "source": [
    "## Installing the Library"
   ]
  },
  {
   "cell_type": "markdown",
   "id": "fce03b17",
   "metadata": {},
   "source": [
    "This tutorial utilizies the latest AdaptNLP version, as well as parts of the `fastai` library. Please run the below code to install them:\n",
    "\n",
    "```python\n",
    "!pip install adaptnlp -U\n",
    "```\n",
    "(or `pip3`)"
   ]
  },
  {
   "cell_type": "code",
   "execution_count": null,
   "id": "injured-longitude",
   "metadata": {},
   "outputs": [],
   "source": [
    "#hide\n",
    "from nbverbose.showdoc import *"
   ]
  },
  {
   "cell_type": "markdown",
   "id": "86de58d7",
   "metadata": {},
   "source": [
    "## Getting the Dataset"
   ]
  },
  {
   "cell_type": "markdown",
   "id": "2a039f4f",
   "metadata": {},
   "source": [
    "First we need a dataset. We will use the `HuggingFace` library to download the `conll2003` dataset and convert it to a `pandas` DataFrame. This may seem counterintuitive, but it works for demonstrational purposes. In practice you would use a custom `pandas` DataFrame.\n",
    "\n",
    "`CoNLL 2003` is a named entity recognition (NER) dataset which contains the following named entities: persons, locations, organizations, and names of miscellaneous entities that do not belong to the previous three groups. It follows the IOB2 tagging scheme."
   ]
  },
  {
   "cell_type": "code",
   "execution_count": null,
   "id": "82a2612b",
   "metadata": {},
   "outputs": [
    {
     "name": "stderr",
     "output_type": "stream",
     "text": [
      "Reusing dataset conll2003 (/home/ubuntu/.cache/huggingface/datasets/conll2003/conll2003/1.0.0/40e7cb6bcc374f7c349c83acd1e9352a4f09474eb691f64f364ee62eb65d0ca6)\n"
     ]
    }
   ],
   "source": [
    "from datasets import load_dataset\n",
    "\n",
    "dsets = load_dataset('conll2003')"
   ]
  },
  {
   "cell_type": "markdown",
   "id": "editorial-energy",
   "metadata": {},
   "source": [
    "For the purpose of example, we'll take the train subset, convert it to a `pandas` DataFrame, and grab the `tokens` and `ner_tags` columns, which will serve as our tokens and labels."
   ]
  },
  {
   "cell_type": "code",
   "execution_count": null,
   "id": "expensive-cleanup",
   "metadata": {},
   "outputs": [],
   "source": [
    "dset = dsets['train']\n",
    "dset.set_format(type='pandas')\n",
    "df = dset[:]\n",
    "df = df[['tokens', 'ner_tags']]"
   ]
  },
  {
   "cell_type": "markdown",
   "id": "incorporated-sullivan",
   "metadata": {},
   "source": [
    "Let's look at our data"
   ]
  },
  {
   "cell_type": "code",
   "execution_count": null,
   "id": "moral-detroit",
   "metadata": {},
   "outputs": [
    {
     "data": {
      "text/html": [
       "<div>\n",
       "<style scoped>\n",
       "    .dataframe tbody tr th:only-of-type {\n",
       "        vertical-align: middle;\n",
       "    }\n",
       "\n",
       "    .dataframe tbody tr th {\n",
       "        vertical-align: top;\n",
       "    }\n",
       "\n",
       "    .dataframe thead th {\n",
       "        text-align: right;\n",
       "    }\n",
       "</style>\n",
       "<table border=\"1\" class=\"dataframe\">\n",
       "  <thead>\n",
       "    <tr style=\"text-align: right;\">\n",
       "      <th></th>\n",
       "      <th>tokens</th>\n",
       "      <th>ner_tags</th>\n",
       "    </tr>\n",
       "  </thead>\n",
       "  <tbody>\n",
       "    <tr>\n",
       "      <th>0</th>\n",
       "      <td>[EU, rejects, German, call, to, boycott, Briti...</td>\n",
       "      <td>[3, 0, 7, 0, 0, 0, 7, 0, 0]</td>\n",
       "    </tr>\n",
       "    <tr>\n",
       "      <th>1</th>\n",
       "      <td>[Peter, Blackburn]</td>\n",
       "      <td>[1, 2]</td>\n",
       "    </tr>\n",
       "    <tr>\n",
       "      <th>2</th>\n",
       "      <td>[BRUSSELS, 1996-08-22]</td>\n",
       "      <td>[5, 0]</td>\n",
       "    </tr>\n",
       "    <tr>\n",
       "      <th>3</th>\n",
       "      <td>[The, European, Commission, said, on, Thursday...</td>\n",
       "      <td>[0, 3, 4, 0, 0, 0, 0, 0, 0, 7, 0, 0, 0, 0, 0, ...</td>\n",
       "    </tr>\n",
       "    <tr>\n",
       "      <th>4</th>\n",
       "      <td>[Germany, 's, representative, to, the, Europea...</td>\n",
       "      <td>[5, 0, 0, 0, 0, 3, 4, 0, 0, 0, 1, 2, 0, 0, 0, ...</td>\n",
       "    </tr>\n",
       "  </tbody>\n",
       "</table>\n",
       "</div>"
      ],
      "text/plain": [
       "                                              tokens  \\\n",
       "0  [EU, rejects, German, call, to, boycott, Briti...   \n",
       "1                                 [Peter, Blackburn]   \n",
       "2                             [BRUSSELS, 1996-08-22]   \n",
       "3  [The, European, Commission, said, on, Thursday...   \n",
       "4  [Germany, 's, representative, to, the, Europea...   \n",
       "\n",
       "                                            ner_tags  \n",
       "0                        [3, 0, 7, 0, 0, 0, 7, 0, 0]  \n",
       "1                                             [1, 2]  \n",
       "2                                             [5, 0]  \n",
       "3  [0, 3, 4, 0, 0, 0, 0, 0, 0, 7, 0, 0, 0, 0, 0, ...  \n",
       "4  [5, 0, 0, 0, 0, 3, 4, 0, 0, 0, 1, 2, 0, 0, 0, ...  "
      ]
     },
     "execution_count": null,
     "metadata": {},
     "output_type": "execute_result"
    }
   ],
   "source": [
    "df.head()"
   ]
  },
  {
   "cell_type": "markdown",
   "id": "harmful-window",
   "metadata": {},
   "source": [
    "Now that we've downloaded some data, let's pick a viable model to train with"
   ]
  },
  {
   "cell_type": "markdown",
   "id": "320caa02",
   "metadata": {},
   "source": [
    "## Picking a Model with the Hub"
   ]
  },
  {
   "cell_type": "markdown",
   "id": "170b200d",
   "metadata": {},
   "source": [
    "AdaptNLP has a `HFModelHub` class that allows you to communicate with the HuggingFace Hub and pick a model from it, as well as a namespace `HF_TASKS` class with a list of valid tasks we can search by.\n",
    "\n",
    "Let's try and find one suitable for token classification.\n",
    "\n",
    "First we need to import the class and generate an instance of it:"
   ]
  },
  {
   "cell_type": "code",
   "execution_count": null,
   "id": "b85eb95c",
   "metadata": {},
   "outputs": [],
   "source": [
    "from adaptnlp import HFModelHub, HF_TASKS"
   ]
  },
  {
   "cell_type": "code",
   "execution_count": null,
   "id": "tropical-nursing",
   "metadata": {},
   "outputs": [],
   "source": [
    "hub = HFModelHub()"
   ]
  },
  {
   "cell_type": "markdown",
   "id": "classified-alberta",
   "metadata": {},
   "source": [
    "Next we can search for a model:"
   ]
  },
  {
   "cell_type": "code",
   "execution_count": null,
   "id": "invalid-survival",
   "metadata": {},
   "outputs": [],
   "source": [
    "models = hub.search_model_by_task(HF_TASKS.TOKEN_CLASSIFICATION)"
   ]
  },
  {
   "cell_type": "markdown",
   "id": "interested-scanning",
   "metadata": {},
   "source": [
    "Let's look at a few:"
   ]
  },
  {
   "cell_type": "code",
   "execution_count": null,
   "id": "hourly-airfare",
   "metadata": {},
   "outputs": [
    {
     "data": {
      "text/plain": [
       "[Model Name: xlm-roberta-large-finetuned-conll03-english, Tasks: [token-classification],\n",
       " Model Name: xlm-roberta-large-finetuned-conll03-german, Tasks: [token-classification]]"
      ]
     },
     "execution_count": null,
     "metadata": {},
     "output_type": "execute_result"
    }
   ],
   "source": [
    "models[:10]"
   ]
  },
  {
   "cell_type": "markdown",
   "id": "national-legislation",
   "metadata": {},
   "source": [
    "These are models specifically tagged with the `token-classification` tag, so you may not see a few models you would expect such as `bert_base_cased`.\n",
    "\n",
    "Since both of these models have already been fine-tuned on the `CoNLL 2003` dataset, let's choose a basic pre-trained model `distilbert-base-uncased`:"
   ]
  },
  {
   "cell_type": "code",
   "execution_count": null,
   "id": "failing-questionnaire",
   "metadata": {},
   "outputs": [],
   "source": [
    "model_name = 'distilbert-base-uncased'"
   ]
  },
  {
   "cell_type": "markdown",
   "id": "billion-peoples",
   "metadata": {},
   "source": [
    "In general, if you don't need to go through the `HFModelHub` if you know which model you'd like to use already. You can always just pass in the string name of a model such as \"bert-base-cased\""
   ]
  },
  {
   "cell_type": "markdown",
   "id": "b676253e",
   "metadata": {},
   "source": [
    "## Building `TaskDatasets` with `TokenClassificationDatasets`"
   ]
  },
  {
   "cell_type": "markdown",
   "id": "7faa7c29",
   "metadata": {},
   "source": [
    "Each task has a high-level data wrapper around the `TaskDatasets` class. In our case this is the `TokenClassificationDatasets` class:"
   ]
  },
  {
   "cell_type": "code",
   "execution_count": null,
   "id": "83994a53",
   "metadata": {},
   "outputs": [],
   "source": [
    "from adaptnlp import TokenClassificationDatasets"
   ]
  },
  {
   "cell_type": "markdown",
   "id": "essential-carol",
   "metadata": {},
   "source": [
    "There are multiple different constructors for the `TokenClassificationDatasets` class, and you should never call the main constructor directly.\n",
    "\n",
    "We will be using `from_dfs`:"
   ]
  },
  {
   "cell_type": "code",
   "execution_count": null,
   "id": "coastal-kenya",
   "metadata": {},
   "outputs": [
    {
     "data": {
      "text/markdown": [
       "<h4 id=\"TokenClassificationDatasets.from_dfs\" class=\"doc_header\"><code>TokenClassificationDatasets.from_dfs</code><a href=\"https://github.com/novetta/adaptnlp/tree/master/adaptnlp/training/token_classification.py#L89\" class=\"source_link\" style=\"float:right\">[source]</a></h4>\n",
       "\n",
       "> <code>TokenClassificationDatasets.from_dfs</code>(**`train_df`**:`DataFrame`, **`token_col`**:`str`, **`tag_col`**:`str`, **`entity_mapping`**:`dict`, **`tokenizer_name`**:`str`, **`tokenize`**:`bool`=*`True`*, **`valid_df`**=*`None`*, **`split_func`**=*`None`*, **`split_pct`**=*`0.2`*, **`tokenize_kwargs`**:`dict`=*`{}`*, **`auto_kwargs`**:`dict`=*`{}`*)\n",
       "\n",
       "Builds [`TokenClassificationDatasets`](/adaptnlp/training.token_classification.html#TokenClassificationDatasets) from a `DataFrame` or set of `DataFrames`\n",
       "\n",
       "**Parameters:**\n",
       "\n",
       "\n",
       " - **`train_df`** : *`<class 'pandas.core.frame.DataFrame'>`*\t<p>A training dataframe</p>\n",
       "\n",
       "\n",
       " - **`token_col`** : *`<class 'str'>`*\t<p>The name of the token column</p>\n",
       "\n",
       "\n",
       " - **`tag_col`** : *`<class 'str'>`*\t<p>The name of the tag column</p>\n",
       "\n",
       "\n",
       " - **`entity_mapping`** : *`<class 'dict'>`*\t<p>A mapping of entity names to encoded labels</p>\n",
       "\n",
       "\n",
       " - **`tokenizer_name`** : *`<class 'str'>`*\t<p>The name of the tokenizer</p>\n",
       "\n",
       "\n",
       " - **`tokenize`** : *`<class 'bool'>`*, *optional*\t<p>Whether to tokenize immediately</p>\n",
       "\n",
       "\n",
       " - **`valid_df`** : *`<class 'NoneType'>`*, *optional*\t<p>An optional validation dataframe</p>\n",
       "\n",
       "\n",
       " - **`split_func`** : *`<class 'NoneType'>`*, *optional*\t<p>Optionally a splitting function similar to RandomSplitter</p>\n",
       "\n",
       "\n",
       " - **`split_pct`** : *`<class 'float'>`*, *optional*\t<p>What % to split the train_df</p>\n",
       "\n",
       "\n",
       " - **`tokenize_kwargs`** : *`<class 'dict'>`*, *optional*\t<p>kwargs for the tokenize function</p>\n",
       "\n",
       "\n",
       " - **`auto_kwargs`** : *`<class 'dict'>`*, *optional*\t<p>kwargs for the AutoTokenizer.from_pretrained constructor</p>\n",
       "\n"
      ],
      "text/plain": [
       "<IPython.core.display.Markdown object>"
      ]
     },
     "metadata": {},
     "output_type": "display_data"
    }
   ],
   "source": [
    "from adaptnlp import TokenClassificationDatasets\n",
    "show_doc(TokenClassificationDatasets.from_dfs)"
   ]
  },
  {
   "cell_type": "markdown",
   "id": "lonely-craps",
   "metadata": {},
   "source": [
    "Anything you would normally pass to the tokenizer call (such as `max_length`, `padding`) should go in `tokenize_kwargs`, and anything going to the `AutoTokenizer.from_pretrained` constructor should be passed to the `auto_kwargs`.\n",
    "\n",
    "**Important**: Because our dataset is already tokenized, when we try to encode the tokens, we may end up with sub-tokens. This will cause our labels to no longer align with the number of tokens. In order to take this into account, the following arguments should be passed to the tokenizer:"
   ]
  },
  {
   "cell_type": "code",
   "execution_count": null,
   "id": "bottom-abortion",
   "metadata": {},
   "outputs": [],
   "source": [
    "tokenize_kwargs = {\n",
    "    'truncation':True, \n",
    "    'is_split_into_words':True, \n",
    "    'padding':'max_length', \n",
    "    'return_offsets_mapping':True\n",
    "}"
   ]
  },
  {
   "cell_type": "markdown",
   "id": "cutting-humanity",
   "metadata": {},
   "source": [
    "We will also need to provide a mapping between the labels and the entities:"
   ]
  },
  {
   "cell_type": "code",
   "execution_count": null,
   "id": "swiss-society",
   "metadata": {},
   "outputs": [],
   "source": [
    "entity_mapping = {\n",
    "    0: 'O',\n",
    "    1: 'B-PER',\n",
    "    2: 'I-PER',\n",
    "    3: 'B-ORG',\n",
    "    4: 'I-ORG',\n",
    "    5: 'B-LOC',\n",
    "    6: 'I-LOC',\n",
    "    7: 'B-MISC',\n",
    "    8: 'I-MISC'\n",
    "}"
   ]
  },
  {
   "cell_type": "markdown",
   "id": "interstate-gossip",
   "metadata": {},
   "source": [
    "In our case we only have a `train_df`, so we should specify what percent to split into train and validation sets."
   ]
  },
  {
   "cell_type": "code",
   "execution_count": null,
   "id": "medium-venezuela",
   "metadata": {},
   "outputs": [
    {
     "name": "stdout",
     "output_type": "stream",
     "text": [
      "No value for `max_length` set, automatically adjusting to the size of the model and including truncation\n",
      "Sequence length set to: 512\n"
     ]
    },
    {
     "data": {
      "application/vnd.jupyter.widget-view+json": {
       "model_id": "70071c2c80064f3395c7ff9b05100641",
       "version_major": 2,
       "version_minor": 0
      },
      "text/plain": [
       "HBox(children=(FloatProgress(value=0.0, max=12.0), HTML(value='')))"
      ]
     },
     "metadata": {},
     "output_type": "display_data"
    },
    {
     "name": "stdout",
     "output_type": "stream",
     "text": [
      "\n"
     ]
    },
    {
     "data": {
      "application/vnd.jupyter.widget-view+json": {
       "model_id": "261f7c9144ef4adeb3525436b6189dfe",
       "version_major": 2,
       "version_minor": 0
      },
      "text/plain": [
       "HBox(children=(FloatProgress(value=0.0, max=3.0), HTML(value='')))"
      ]
     },
     "metadata": {},
     "output_type": "display_data"
    },
    {
     "name": "stdout",
     "output_type": "stream",
     "text": [
      "\n"
     ]
    }
   ],
   "source": [
    "dsets = TokenClassificationDatasets.from_dfs(\n",
    "    df,\n",
    "    'tokens',\n",
    "    'ner_tags',\n",
    "    entity_mapping,\n",
    "    tokenizer_name = model_name,\n",
    "    tokenize=True,\n",
    "    tokenize_kwargs = tokenize_kwargs,\n",
    "    split_pct=.2\n",
    ")"
   ]
  },
  {
   "cell_type": "markdown",
   "id": "friendly-explosion",
   "metadata": {},
   "source": [
    "> Note: If you have a training and validation `DataFrame`, simply pass in the validation `DataFrame` as `valid_df=validation_dataframe` and do not pass in any `split_func` or `split_pct`. Everything else is the exact same"
   ]
  },
  {
   "cell_type": "markdown",
   "id": "induced-slide",
   "metadata": {},
   "source": [
    "And finally turn it into some `AdaptiveDataLoaders`.\n",
    "\n",
    "These are just fastai's `DataLoaders` class, but it overrides a few functions to have it work nicely with HuggingFace's `Dataset` class"
   ]
  },
  {
   "cell_type": "code",
   "execution_count": null,
   "id": "funded-valuation",
   "metadata": {},
   "outputs": [
    {
     "data": {
      "text/markdown": [
       "<h4 id=\"TokenClassificationDatasets.dataloaders\" class=\"doc_header\"><code>TokenClassificationDatasets.dataloaders</code><a href=\"https://github.com/novetta/adaptnlp/tree/master/adaptnlp/training/token_classification.py#L165\" class=\"source_link\" style=\"float:right\">[source]</a></h4>\n",
       "\n",
       "> <code>TokenClassificationDatasets.dataloaders</code>(**`batch_size`**:`int`=*`16`*, **`shuffle_train`**:`bool`=*`True`*, **`collate_fn`**:`callable`=*`None`*, **`path`**=*`'.'`*, **`device`**=*`None`*)\n",
       "\n",
       "Build DataLoaders from `self`\n",
       "\n",
       "**Parameters:**\n",
       "\n",
       "\n",
       " - **`batch_size`** : *`<class 'int'>`*, *optional*\t<p>A batch size</p>\n",
       "\n",
       "\n",
       " - **`shuffle_train`** : *`<class 'bool'>`*, *optional*\t<p>Whether to shuffle the training dataset</p>\n",
       "\n",
       "\n",
       " - **`collate_fn`** : *`<built-in function callable>`*, *optional*\t<p>A custom collation function</p>\n",
       "\n",
       "\n",
       " - **`path`** : *`<class 'str'>`*, *optional*\n",
       "\n",
       " - **`device`** : *`<class 'NoneType'>`*, *optional*\n"
      ],
      "text/plain": [
       "<IPython.core.display.Markdown object>"
      ]
     },
     "metadata": {},
     "output_type": "display_data"
    }
   ],
   "source": [
    "show_doc(TokenClassificationDatasets.dataloaders)"
   ]
  },
  {
   "cell_type": "code",
   "execution_count": null,
   "id": "serious-cleanup",
   "metadata": {},
   "outputs": [],
   "source": [
    "dls = dsets.dataloaders(batch_size=8)"
   ]
  },
  {
   "cell_type": "markdown",
   "id": "adjustable-cornwall",
   "metadata": {},
   "source": [
    "Finally, let's view a batch of data with the `show_batch` function:"
   ]
  },
  {
   "cell_type": "code",
   "execution_count": null,
   "id": "unnecessary-enzyme",
   "metadata": {},
   "outputs": [
    {
     "data": {
      "text/html": [
       "<table border=\"1\" class=\"dataframe\">\n",
       "  <thead>\n",
       "    <tr style=\"text-align: right;\">\n",
       "      <th></th>\n",
       "      <th>Input</th>\n",
       "      <th>Labels</th>\n",
       "    </tr>\n",
       "  </thead>\n",
       "  <tbody>\n",
       "    <tr>\n",
       "      <th>0</th>\n",
       "      <td>weaver had been reported after being found guilty of irresponsible riding at the provincial track of pontefract 10 days ago.</td>\n",
       "      <td>[B-PER, O, O, O, O, O, O, O, O, O, O, O, O, O, O, O, B-LOC, O, O, O, O]</td>\n",
       "    </tr>\n",
       "    <tr>\n",
       "      <th>1</th>\n",
       "      <td>cricket - nz face tough schedule at home and abroad.</td>\n",
       "      <td>[O, O, B-LOC, O, O, O, O, O, O, O, O]</td>\n",
       "    </tr>\n",
       "    <tr>\n",
       "      <th>2</th>\n",
       "      <td>willem ii tilburg 2 0 1 1 0 1 1</td>\n",
       "      <td>[B-ORG, I-ORG, I-ORG, O, O, O, O, O, O, O]</td>\n",
       "    </tr>\n",
       "    <tr>\n",
       "      <th>3</th>\n",
       "      <td>8. george hincapie ( usa ) motorola 0 : 09</td>\n",
       "      <td>[O, B-PER, I-PER, O, B-LOC, O, B-ORG, O]</td>\n",
       "    </tr>\n",
       "    <tr>\n",
       "      <th>4</th>\n",
       "      <td>women's singles</td>\n",
       "      <td>[O, O, O]</td>\n",
       "    </tr>\n",
       "  </tbody>\n",
       "</table>"
      ],
      "text/plain": [
       "<IPython.core.display.HTML object>"
      ]
     },
     "metadata": {},
     "output_type": "display_data"
    }
   ],
   "source": [
    "dls.show_batch()"
   ]
  },
  {
   "cell_type": "markdown",
   "id": "586172ad",
   "metadata": {},
   "source": [
    "## Building `Tuner`"
   ]
  },
  {
   "cell_type": "markdown",
   "id": "23e2d9bf",
   "metadata": {},
   "source": [
    "Next we need to build a compatible `Tuner` for our problem. These tuners contain good defaults for our problem space, including loss functions and metrics.\n",
    "\n",
    "First let's import the `TokenClassificationTuner` and view it's documentation"
   ]
  },
  {
   "cell_type": "code",
   "execution_count": null,
   "id": "c54d78db",
   "metadata": {},
   "outputs": [
    {
     "data": {
      "text/markdown": [
       "<h2 id=\"TokenClassificationTuner\" class=\"doc_header\"><code>class</code> <code>TokenClassificationTuner</code><a href=\"https://github.com/novetta/adaptnlp/tree/master/adaptnlp/training/token_classification.py#L254\" class=\"source_link\" style=\"float:right\">[source]</a></h2>\n",
       "\n",
       "> <code>TokenClassificationTuner</code>(**`dls`**:`DataLoaders`, **`model_name`**:`str`, **`tokenizer`**=*`None`*, **`loss_func`**=*`CrossEntropyLoss()`*, **`metrics`**:`List`\\[`NERMetric`\\]=*`['accuracy', 'f1']`*, **`opt_func`**=*`Adam`*, **`additional_cbs`**=*`None`*, **`expose_fastai_api`**=*`False`*, **`num_classes`**:`int`=*`None`*, **`entity_mapping`**:`dict`=*`None`*, **\\*\\*`kwargs`**) :: [`AdaptiveTuner`](/adaptnlp/training.core.html#AdaptiveTuner)\n",
       "\n",
       "An [`AdaptiveTuner`](/adaptnlp/training.core.html#AdaptiveTuner) with good defaults for Token Classification tasks\n",
       "\n",
       "**Valid kwargs and defaults:**\n",
       "  - `lr`:float = 0.001\n",
       "  - `splitter`:function = `trainable_params`\n",
       "  - `cbs`:list = None\n",
       "  - `path`:Path = None\n",
       "  - `model_dir`:Path = 'models'\n",
       "  - `wd`:float = None\n",
       "  - `wd_bn_bias`:bool = False\n",
       "  - `train_bn`:bool = True\n",
       "  - `moms`: tuple(float) = (0.95, 0.85, 0.95)\n",
       "\n",
       "**Parameters:**\n",
       "\n",
       "\n",
       " - **`dls`** : *`<class 'fastai.data.core.DataLoaders'>`*\t<p>A set of DataLoaders</p>\n",
       "\n",
       "\n",
       " - **`model_name`** : *`<class 'str'>`*\t<p>A HuggingFace model</p>\n",
       "\n",
       "\n",
       " - **`tokenizer`** : *`<class 'NoneType'>`*, *optional*\t<p>A HuggingFace tokenizer</p>\n",
       "\n",
       "\n",
       " - **`loss_func`** : *`<class 'fastai.losses.CrossEntropyLossFlat'>`*, *optional*\t<p>A loss function</p>\n",
       "\n",
       "\n",
       " - **`metrics`** : *`typing.List[fastcore.basics.NERMetric]`*, *optional*\t<p>Metrics to monitor the training with</p>\n",
       "\n",
       "\n",
       " - **`opt_func`** : *`<class 'function'>`*, *optional*\t<p>A fastai or torch Optimizer</p>\n",
       "\n",
       "\n",
       " - **`additional_cbs`** : *`<class 'NoneType'>`*, *optional*\t<p>Additional Callbacks to have always tied to the Tuner</p>\n",
       "\n",
       "\n",
       " - **`expose_fastai_api`** : *`<class 'bool'>`*, *optional*\t<p>Whether to expose the fastai API</p>\n",
       "\n",
       "\n",
       " - **`num_classes`** : *`<class 'int'>`*, *optional*\t<p>The number of classes</p>\n",
       "\n",
       "\n",
       " - **`entity_mapping`** : *`<class 'dict'>`*, *optional*\t<p>A mapping of entity names to encoded labels</p>\n",
       "\n",
       "\n",
       " - **`kwargs`** : *`<class 'inspect._empty'>`*\n"
      ],
      "text/plain": [
       "<IPython.core.display.Markdown object>"
      ]
     },
     "metadata": {},
     "output_type": "display_data"
    }
   ],
   "source": [
    "from adaptnlp import TokenClassificationTuner\n",
    "show_doc(TokenClassificationTuner)"
   ]
  },
  {
   "cell_type": "markdown",
   "id": "crude-valentine",
   "metadata": {},
   "source": [
    "Next we'll pass in our `DataLoaders` and the name of our model:"
   ]
  },
  {
   "cell_type": "markdown",
   "id": "departmental-capacity",
   "metadata": {},
   "source": [
    "> Note: If you are not using the data API (`TaskDatasets`, `SequenceClassificationDatasets`, etc), you need to pass in the tokenizer to the constructor as well with `tokenizer=tokenizer`"
   ]
  },
  {
   "cell_type": "code",
   "execution_count": null,
   "id": "worldwide-breakfast",
   "metadata": {},
   "outputs": [
    {
     "name": "stderr",
     "output_type": "stream",
     "text": [
      "Some weights of the model checkpoint at distilbert-base-uncased were not used when initializing DistilBertForTokenClassification: ['vocab_transform.bias', 'vocab_layer_norm.weight', 'vocab_transform.weight', 'vocab_layer_norm.bias', 'vocab_projector.weight', 'vocab_projector.bias']\n",
      "- This IS expected if you are initializing DistilBertForTokenClassification from the checkpoint of a model trained on another task or with another architecture (e.g. initializing a BertForSequenceClassification model from a BertForPreTraining model).\n",
      "- This IS NOT expected if you are initializing DistilBertForTokenClassification from the checkpoint of a model that you expect to be exactly identical (initializing a BertForSequenceClassification model from a BertForSequenceClassification model).\n",
      "Some weights of DistilBertForTokenClassification were not initialized from the model checkpoint at distilbert-base-uncased and are newly initialized: ['classifier.bias', 'classifier.weight']\n",
      "You should probably TRAIN this model on a down-stream task to be able to use it for predictions and inference.\n"
     ]
    }
   ],
   "source": [
    "tuner = TokenClassificationTuner(dls, model_name)"
   ]
  },
  {
   "cell_type": "markdown",
   "id": "addressed-shade",
   "metadata": {},
   "source": [
    "By default we can see that it used `CrossEntropyLoss` as our loss function, and both `accuracy` and `F1` as our metrics:"
   ]
  },
  {
   "cell_type": "code",
   "execution_count": null,
   "id": "charming-documentary",
   "metadata": {},
   "outputs": [
    {
     "data": {
      "text/plain": [
       "FlattenedLoss of CrossEntropyLoss()"
      ]
     },
     "execution_count": null,
     "metadata": {},
     "output_type": "execute_result"
    }
   ],
   "source": [
    "tuner.loss_func"
   ]
  },
  {
   "cell_type": "code",
   "execution_count": null,
   "id": "adequate-volume",
   "metadata": {},
   "outputs": [
    {
     "name": "stdout",
     "output_type": "stream",
     "text": [
      "accuracy\n",
      "f1\n"
     ]
    }
   ],
   "source": [
    "_ = [print(m.name) for m in tuner.metrics]"
   ]
  },
  {
   "cell_type": "markdown",
   "id": "front-pursuit",
   "metadata": {},
   "source": [
    "**Important**: By default, the `TokenClassificationTuner` class does not use `fastai` metrics (unlike the other `Tuner` classes). Instead it uses `HuggingFace`'s `seqeval` metric to compute accuracy, precision, recall, and/or F1 scores based on the requirements of multi-label classification. As a result, you will need to have [seqeval](https://github.com/chakki-works/seqeval) installed in order to use the `TokenClassificationTuner`."
   ]
  },
  {
   "cell_type": "markdown",
   "id": "incomplete-introduction",
   "metadata": {},
   "source": [
    "In this tutorial, we will show how to use the metrics built into `TokenClassificationTuner`. Valid metrics can be found in the `NERMetric` namespace.\n",
    "\n",
    "While `Accuracy` and `F1` are already defaults, we will specify all the available built-in metrics for clarity."
   ]
  },
  {
   "cell_type": "code",
   "execution_count": null,
   "id": "8eb07a73",
   "metadata": {},
   "outputs": [],
   "source": [
    "from adaptnlp import NERMetric"
   ]
  },
  {
   "cell_type": "code",
   "execution_count": null,
   "id": "neither-nicaragua",
   "metadata": {},
   "outputs": [
    {
     "name": "stderr",
     "output_type": "stream",
     "text": [
      "Some weights of the model checkpoint at distilbert-base-uncased were not used when initializing DistilBertForTokenClassification: ['vocab_transform.bias', 'vocab_layer_norm.weight', 'vocab_transform.weight', 'vocab_layer_norm.bias', 'vocab_projector.weight', 'vocab_projector.bias']\n",
      "- This IS expected if you are initializing DistilBertForTokenClassification from the checkpoint of a model trained on another task or with another architecture (e.g. initializing a BertForSequenceClassification model from a BertForPreTraining model).\n",
      "- This IS NOT expected if you are initializing DistilBertForTokenClassification from the checkpoint of a model that you expect to be exactly identical (initializing a BertForSequenceClassification model from a BertForSequenceClassification model).\n",
      "Some weights of DistilBertForTokenClassification were not initialized from the model checkpoint at distilbert-base-uncased and are newly initialized: ['classifier.bias', 'classifier.weight']\n",
      "You should probably TRAIN this model on a down-stream task to be able to use it for predictions and inference.\n"
     ]
    }
   ],
   "source": [
    "tuner = TokenClassificationTuner(dls, model_name, metrics=[NERMetric.Accuracy,\n",
    "                                                           NERMetric.Precision,\n",
    "                                                           NERMetric.Recall,\n",
    "                                                           NERMetric.F1])"
   ]
  },
  {
   "cell_type": "markdown",
   "id": "social-keyboard",
   "metadata": {},
   "source": [
    "Finally we just need to train our model!"
   ]
  },
  {
   "cell_type": "markdown",
   "id": "33dd944d",
   "metadata": {},
   "source": [
    "## Fine-Tuning"
   ]
  },
  {
   "cell_type": "markdown",
   "id": "2e9ec17d",
   "metadata": {},
   "source": [
    "And all that's left is to `tune`. There are only 4 or 5 functions you can call on our `tuner` currently, and this is by design to make it simplistic. In case you don't want to be boxed in however, if you pass in `expose_fastai_api=True` to our earlier call, it will expose the entirety of `Learner` to you, so you can call `fit_one_cycle`, `lr_find`, and everything else as `Tuner` uses `fastai` under the hood. \n",
    "\n",
    "First, let's call `lr_find`, which uses fastai's Learning Rate Finder to help us pick a learning rate."
   ]
  },
  {
   "cell_type": "code",
   "execution_count": null,
   "id": "e4214963",
   "metadata": {},
   "outputs": [
    {
     "data": {
      "text/markdown": [
       "<h4 id=\"AdaptiveTuner.lr_find\" class=\"doc_header\"><code>AdaptiveTuner.lr_find</code><a href=\"https://github.com/novetta/adaptnlp/tree/master/adaptnlp/training/core.py#L413\" class=\"source_link\" style=\"float:right\">[source]</a></h4>\n",
       "\n",
       "> <code>AdaptiveTuner.lr_find</code>(**`start_lr`**=*`1e-07`*, **`end_lr`**=*`10`*, **`num_it`**=*`100`*, **`stop_div`**=*`True`*, **`show_plot`**=*`True`*, **`suggest_funcs`**=*`valley`*)\n",
       "\n",
       "Runs fastai's `LR Finder`\n",
       "\n",
       "**Parameters:**\n",
       "\n",
       "\n",
       " - **`start_lr`** : *`<class 'float'>`*, *optional*\n",
       "\n",
       " - **`end_lr`** : *`<class 'int'>`*, *optional*\n",
       "\n",
       " - **`num_it`** : *`<class 'int'>`*, *optional*\n",
       "\n",
       " - **`stop_div`** : *`<class 'bool'>`*, *optional*\n",
       "\n",
       " - **`show_plot`** : *`<class 'bool'>`*, *optional*\n",
       "\n",
       " - **`suggest_funcs`** : *`<class 'function'>`*, *optional*\n"
      ],
      "text/plain": [
       "<IPython.core.display.Markdown object>"
      ]
     },
     "metadata": {},
     "output_type": "display_data"
    }
   ],
   "source": [
    "show_doc(TokenClassificationTuner.lr_find)"
   ]
  },
  {
   "cell_type": "code",
   "execution_count": null,
   "id": "junior-louisiana",
   "metadata": {},
   "outputs": [
    {
     "name": "stdout",
     "output_type": "stream",
     "text": [
      "█\r"
     ]
    },
    {
     "data": {
      "image/png": "[encoded data removed]",
      "text/plain": [
       "<Figure size 432x288 with 1 Axes>"
      ]
     },
     "metadata": {
      "needs_background": "light"
     },
     "output_type": "display_data"
    }
   ],
   "source": [
    "lr = tuner.lr_find()"
   ]
  },
  {
   "cell_type": "markdown",
   "id": "intellectual-standard",
   "metadata": {},
   "source": [
    "It recommends a learning rate of around 1e-4, so we will use that."
   ]
  },
  {
   "cell_type": "markdown",
   "id": "removed-newton",
   "metadata": {},
   "source": [
    "Let's look at the documentation for `tune`:"
   ]
  },
  {
   "cell_type": "code",
   "execution_count": null,
   "id": "civil-future",
   "metadata": {},
   "outputs": [
    {
     "data": {
      "text/markdown": [
       "<h4 id=\"AdaptiveTuner.tune\" class=\"doc_header\"><code>AdaptiveTuner.tune</code><a href=\"https://github.com/novetta/adaptnlp/tree/master/adaptnlp/training/core.py#L399\" class=\"source_link\" style=\"float:right\">[source]</a></h4>\n",
       "\n",
       "> <code>AdaptiveTuner.tune</code>(**`epochs`**:`int`, **`lr`**:`float`=*`None`*, **`strategy`**:`Strategy`=*`'fit_one_cycle'`*, **`callbacks`**:`list`=*`[]`*, **\\*\\*`kwargs`**)\n",
       "\n",
       "Fine tune `self.model` for `epochs` with an `lr` and `strategy`\n",
       "\n",
       "**Parameters:**\n",
       "\n",
       "\n",
       " - **`epochs`** : *`<class 'int'>`*\t<p>Number of iterations to train for</p>\n",
       "\n",
       "\n",
       " - **`lr`** : *`<class 'float'>`*, *optional*\t<p>If None, finds a new learning rate and uses suggestion_method</p>\n",
       "\n",
       "\n",
       " - **`strategy`** : *`<class 'fastcore.basics.Strategy'>`*, *optional*\t<p>A fitting method</p>\n",
       "\n",
       "\n",
       " - **`callbacks`** : *`<class 'list'>`*, *optional*\t<p>Extra fastai Callbacks</p>\n",
       "\n",
       "\n",
       " - **`kwargs`** : *`<class 'inspect._empty'>`*\n"
      ],
      "text/plain": [
       "<IPython.core.display.Markdown object>"
      ]
     },
     "metadata": {},
     "output_type": "display_data"
    }
   ],
   "source": [
    "show_doc(TokenClassificationTuner.tune)"
   ]
  },
  {
   "cell_type": "markdown",
   "id": "designing-marks",
   "metadata": {},
   "source": [
    "We can pass in a number of epochs, a learning rate, a strategy, and additional fastai callbacks to call.\n",
    "\n",
    "Valid strategies live in the `Strategy` namespace class, and consist of:\n",
    "- OneCycle (Also called the [One-Cycle Policy](https://docs.fast.ai/callback.schedule.html#Learner.fit_one_cycle))\n",
    "- [CosineAnnealing](https://docs.fast.ai/callback.schedule.html#Learner.fit_flat_cos)\n",
    "- [SGDR](https://docs.fast.ai/callback.schedule.html#Learner.fit_sgdr)"
   ]
  },
  {
   "cell_type": "code",
   "execution_count": null,
   "id": "after-glory",
   "metadata": {},
   "outputs": [],
   "source": [
    "from adaptnlp import Strategy"
   ]
  },
  {
   "cell_type": "markdown",
   "id": "unexpected-state",
   "metadata": {},
   "source": [
    "In this tutorial we will train with the One-Cycle policy, as currently it is one of the best schedulers to use."
   ]
  },
  {
   "cell_type": "code",
   "execution_count": null,
   "id": "alleged-preservation",
   "metadata": {},
   "outputs": [
    {
     "name": "stdout",
     "output_type": "stream",
     "text": [
      "epoch     train_loss  valid_loss  accuracy  precision  recall    f1        time    \n",
      "█\r"
     ]
    },
    {
     "name": "stderr",
     "output_type": "stream",
     "text": [
      "/home/ubuntu/anaconda3/envs/pytorch_p36/lib/python3.6/site-packages/seqeval/metrics/v1.py:57: UndefinedMetricWarning: Precision and F-score are ill-defined and being set to 0.0 in labels with no predicted samples. Use `zero_division` parameter to control this behavior.\n",
      "  _warn_prf(average, modifier, msg_start, len(result))\n",
      "/home/ubuntu/anaconda3/envs/pytorch_p36/lib/python3.6/site-packages/seqeval/metrics/v1.py:57: UndefinedMetricWarning: Recall and F-score are ill-defined and being set to 0.0 in labels with no true samples. Use `zero_division` parameter to control this behavior.\n",
      "  _warn_prf(average, modifier, msg_start, len(result))\n"
     ]
    },
    {
     "name": "stdout",
     "output_type": "stream",
     "text": [
      "0         0.073525    0.059352    0.982763  0.895060   0.908902  0.900667  14:55     \n",
      "1         0.034628    0.044417    0.987849  0.929728   0.940017  0.934077  14:57     \n",
      "2         0.009520    0.045935    0.989362  0.943019   0.945272  0.943433  14:57     \n"
     ]
    }
   ],
   "source": [
    "tuner.tune(3, lr, strategy=Strategy.OneCycle)"
   ]
  },
  {
   "cell_type": "markdown",
   "id": "42dc3547",
   "metadata": {},
   "source": [
    "## Saving Model"
   ]
  },
  {
   "cell_type": "markdown",
   "id": "2aebf7b2",
   "metadata": {},
   "source": [
    "Now that we have a trained model, let's save those weights away.\n",
    "\n",
    "Calling `tuner.save` will save both the model and the tokenizer in the same format as how HuggingFace does:"
   ]
  },
  {
   "cell_type": "code",
   "execution_count": null,
   "id": "a01b6b63",
   "metadata": {},
   "outputs": [
    {
     "data": {
      "text/markdown": [
       "<h4 id=\"AdaptiveTuner.save\" class=\"doc_header\"><code>AdaptiveTuner.save</code><a href=\"https://github.com/novetta/adaptnlp/tree/master/adaptnlp/training/core.py#L421\" class=\"source_link\" style=\"float:right\">[source]</a></h4>\n",
       "\n",
       "> <code>AdaptiveTuner.save</code>(**`save_directory`**)\n",
       "\n",
       "Save a pretrained model to a `save_directory`\n",
       "\n",
       "**Parameters:**\n",
       "\n",
       "\n",
       " - **`save_directory`** : *`<class 'inspect._empty'>`*\t<p>A folder to save our model to</p>\n",
       "\n"
      ],
      "text/plain": [
       "<IPython.core.display.Markdown object>"
      ]
     },
     "metadata": {},
     "output_type": "display_data"
    }
   ],
   "source": [
    "show_doc(TokenClassificationTuner.save)"
   ]
  },
  {
   "cell_type": "code",
   "execution_count": null,
   "id": "assisted-capital",
   "metadata": {},
   "outputs": [
    {
     "data": {
      "text/plain": [
       "'good_model'"
      ]
     },
     "execution_count": null,
     "metadata": {},
     "output_type": "execute_result"
    }
   ],
   "source": [
    "tuner.save('good_model')"
   ]
  },
  {
   "cell_type": "markdown",
   "id": "faf8dec2",
   "metadata": {},
   "source": [
    "## Performing Inference"
   ]
  },
  {
   "cell_type": "markdown",
   "id": "1ce058be",
   "metadata": {},
   "source": [
    "There are two ways to get predictions, the first is with the `.predict` method in our `tuner`. This is great for if you just finished training and want to see how your model performs on some new data!\n",
    "The other method is with AdaptNLP's inference API, which we will show afterwards"
   ]
  },
  {
   "cell_type": "markdown",
   "id": "heated-daniel",
   "metadata": {},
   "source": [
    "### In Tuner\n",
    "\n",
    "First let's write a sentence to test with"
   ]
  },
  {
   "cell_type": "code",
   "execution_count": null,
   "id": "bigger-penalty",
   "metadata": {},
   "outputs": [],
   "source": [
    "sentence = \"The company Novetta is based in McLean, Virgina.\""
   ]
  },
  {
   "cell_type": "markdown",
   "id": "powered-return",
   "metadata": {},
   "source": [
    "And then predict with it:"
   ]
  },
  {
   "cell_type": "code",
   "execution_count": null,
   "id": "plain-mechanism",
   "metadata": {},
   "outputs": [
    {
     "data": {
      "text/markdown": [
       "<h4 id=\"TokenClassificationTuner.predict\" class=\"doc_header\"><code>TokenClassificationTuner.predict</code><a href=\"https://github.com/novetta/adaptnlp/tree/master/adaptnlp/training/token_classification.py#L317\" class=\"source_link\" style=\"float:right\">[source]</a></h4>\n",
       "\n",
       "> <code>TokenClassificationTuner.predict</code>(**`text`**:`Union`\\[`List`\\[`str`\\], `str`\\], **`bs`**:`int`=*`64`*, **`grouped_entities`**:`bool`=*`True`*, **`detail_level`**:`DetailLevel`=*`'low'`*)\n",
       "\n",
       "Predict some `text` for token classification with the currently loaded model\n",
       "\n",
       "**Parameters:**\n",
       "\n",
       "\n",
       " - **`text`** : *`typing.Union[typing.List[str], str]`*\t<p>Some text or list of texts to do inference with</p>\n",
       "\n",
       "\n",
       " - **`bs`** : *`<class 'int'>`*, *optional*\t<p>A batch size to use for multiple texts</p>\n",
       "\n",
       "\n",
       " - **`grouped_entities`** : *`<class 'bool'>`*, *optional*\t<p>Return whole entity span strings</p>\n",
       "\n",
       "\n",
       " - **`detail_level`** : *`<class 'fastcore.basics.DetailLevel'>`*, *optional*\t<p>A detail level to return on the predictions</p>\n",
       "\n",
       "\n",
       "\n",
       "**Returns**:\n",
       "\t\n",
       " * *`<class 'dict'>`*\t<p>A dictionary of filtered predictions</p>\n",
       "\n"
      ],
      "text/plain": [
       "<IPython.core.display.Markdown object>"
      ]
     },
     "metadata": {},
     "output_type": "display_data"
    }
   ],
   "source": [
    "show_doc(TokenClassificationTuner.predict)"
   ]
  },
  {
   "cell_type": "code",
   "execution_count": null,
   "id": "equal-indication",
   "metadata": {},
   "outputs": [
    {
     "name": "stdout",
     "output_type": "stream",
     "text": [
      "█\r"
     ]
    },
    {
     "data": {
      "text/plain": [
       "OrderedDict([('tags',\n",
       "              [[{'entity': 'B-ORG',\n",
       "                 'score': 0.1850021630525589,\n",
       "                 'word': '[CLS]'},\n",
       "                {'entity': 'B-ORG', 'score': 0.997603714466095, 'word': 'nov'},\n",
       "                {'entity': 'I-ORG',\n",
       "                 'score': 0.9754220247268677,\n",
       "                 'word': '##etta'},\n",
       "                {'entity': 'B-LOC',\n",
       "                 'score': 0.995358407497406,\n",
       "                 'word': 'mclean'},\n",
       "                {'entity': 'B-LOC',\n",
       "                 'score': 0.9764575958251953,\n",
       "                 'word': 'virgin'}]])])"
      ]
     },
     "execution_count": null,
     "metadata": {},
     "output_type": "execute_result"
    }
   ],
   "source": [
    "tuner.predict(sentence)"
   ]
  },
  {
   "cell_type": "markdown",
   "id": "rapid-hostel",
   "metadata": {},
   "source": [
    "### With the Inference API\n",
    "\n",
    "Next we will use the `EasyTokenTagger` class, which AdaptNLP offers:"
   ]
  },
  {
   "cell_type": "code",
   "execution_count": null,
   "id": "rational-loading",
   "metadata": {},
   "outputs": [],
   "source": [
    "from adaptnlp import EasyTokenTagger"
   ]
  },
  {
   "cell_type": "markdown",
   "id": "powerful-copper",
   "metadata": {},
   "source": [
    "We simply construct the class:"
   ]
  },
  {
   "cell_type": "code",
   "execution_count": null,
   "id": "interpreted-mailing",
   "metadata": {},
   "outputs": [],
   "source": [
    "classifier = EasyTokenTagger()"
   ]
  },
  {
   "cell_type": "markdown",
   "id": "posted-shareware",
   "metadata": {},
   "source": [
    "And call the `tag_text` method, passing in the sentence, the location of our saved model, and some names for our classes:"
   ]
  },
  {
   "cell_type": "code",
   "execution_count": null,
   "id": "muslim-burlington",
   "metadata": {},
   "outputs": [
    {
     "name": "stdout",
     "output_type": "stream",
     "text": [
      "2021-11-09 23:10:55,157 loading file good_model\n",
      "█\r"
     ]
    },
    {
     "data": {
      "text/plain": [
       "OrderedDict([('tags',\n",
       "              [[{'entity': 'B-ORG',\n",
       "                 'score': 0.1850021630525589,\n",
       "                 'word': '[CLS]'},\n",
       "                {'entity': 'B-ORG', 'score': 0.997603714466095, 'word': 'nov'},\n",
       "                {'entity': 'I-ORG',\n",
       "                 'score': 0.9754220247268677,\n",
       "                 'word': '##etta'},\n",
       "                {'entity': 'B-LOC',\n",
       "                 'score': 0.995358407497406,\n",
       "                 'word': 'mclean'},\n",
       "                {'entity': 'B-LOC',\n",
       "                 'score': 0.9764575958251953,\n",
       "                 'word': 'virgin'}]])])"
      ]
     },
     "execution_count": null,
     "metadata": {},
     "output_type": "execute_result"
    }
   ],
   "source": [
    "classifier.tag_text(\n",
    "    sentence,\n",
    "    model_name_or_path='good_model',\n",
    ")"
   ]
  },
  {
   "cell_type": "markdown",
   "id": "special-ecology",
   "metadata": {},
   "source": [
    "And we got the exact same output and probabilities!"
   ]
  },
  {
   "cell_type": "markdown",
   "id": "alpha-smith",
   "metadata": {},
   "source": [
    "There are also different levels of predictions we can return (which is also the same with our earlier `predict` call).\n",
    "\n",
    "These live in a namespace `DetailLevel` class, with a few examples below:"
   ]
  },
  {
   "cell_type": "code",
   "execution_count": null,
   "id": "smart-accident",
   "metadata": {},
   "outputs": [],
   "source": [
    "from adaptnlp import DetailLevel"
   ]
  },
  {
   "cell_type": "code",
   "execution_count": null,
   "id": "excess-center",
   "metadata": {},
   "outputs": [
    {
     "data": {
      "text/plain": [
       "'low'"
      ]
     },
     "execution_count": null,
     "metadata": {},
     "output_type": "execute_result"
    }
   ],
   "source": [
    "DetailLevel.Low"
   ]
  },
  {
   "cell_type": "markdown",
   "id": "imperial-factor",
   "metadata": {},
   "source": [
    "While some Easy modules will not return different items at each level, most will return only a few specific outputs at the Low level, and everything possible at the High level:"
   ]
  },
  {
   "cell_type": "code",
   "execution_count": null,
   "id": "decreased-worship",
   "metadata": {},
   "outputs": [
    {
     "name": "stdout",
     "output_type": "stream",
     "text": [
      "█\r"
     ]
    },
    {
     "data": {
      "text/plain": [
       "OrderedDict([('tags',\n",
       "              [[{'entity': 'B-ORG',\n",
       "                 'score': 0.1850021630525589,\n",
       "                 'word': '[CLS]'},\n",
       "                {'entity': 'B-ORG', 'score': 0.997603714466095, 'word': 'nov'},\n",
       "                {'entity': 'I-ORG',\n",
       "                 'score': 0.9754220247268677,\n",
       "                 'word': '##etta'},\n",
       "                {'entity': 'B-LOC',\n",
       "                 'score': 0.995358407497406,\n",
       "                 'word': 'mclean'},\n",
       "                {'entity': 'B-LOC',\n",
       "                 'score': 0.9764575958251953,\n",
       "                 'word': 'virgin'}]])])"
      ]
     },
     "execution_count": null,
     "metadata": {},
     "output_type": "execute_result"
    }
   ],
   "source": [
    "classifier.tag_text(\n",
    "    sentence,\n",
    "    model_name_or_path = 'good_model',\n",
    "    detail_level=DetailLevel.Low\n",
    ")"
   ]
  },
  {
   "cell_type": "code",
   "execution_count": null,
   "id": "crucial-buddy",
   "metadata": {},
   "outputs": [
    {
     "name": "stdout",
     "output_type": "stream",
     "text": [
      "█\r"
     ]
    },
    {
     "data": {
      "text/plain": [
       "OrderedDict([('tags',\n",
       "              [[{'entity': 'B-ORG',\n",
       "                 'score': 0.1850021630525589,\n",
       "                 'word': '[CLS]'},\n",
       "                {'entity': 'B-ORG', 'score': 0.997603714466095, 'word': 'nov'},\n",
       "                {'entity': 'I-ORG',\n",
       "                 'score': 0.9754220247268677,\n",
       "                 'word': '##etta'},\n",
       "                {'entity': 'B-LOC',\n",
       "                 'score': 0.995358407497406,\n",
       "                 'word': 'mclean'},\n",
       "                {'entity': 'B-LOC',\n",
       "                 'score': 0.9764575958251953,\n",
       "                 'word': 'virgin'}]])])"
      ]
     },
     "execution_count": null,
     "metadata": {},
     "output_type": "execute_result"
    }
   ],
   "source": [
    "classifier.tag_text(\n",
    "    sentence,\n",
    "    model_name_or_path = 'good_model',\n",
    "    detail_level=DetailLevel.Medium\n",
    ")"
   ]
  },
  {
   "cell_type": "code",
   "execution_count": null,
   "id": "destroyed-investigator",
   "metadata": {},
   "outputs": [
    {
     "name": "stdout",
     "output_type": "stream",
     "text": [
      "█\r"
     ]
    },
    {
     "data": {
      "text/plain": [
       "OrderedDict([('tags',\n",
       "              [[{'entity': 'B-ORG',\n",
       "                 'score': 0.1850021630525589,\n",
       "                 'word': '[CLS]'},\n",
       "                {'entity': 'B-ORG', 'score': 0.997603714466095, 'word': 'nov'},\n",
       "                {'entity': 'I-ORG',\n",
       "                 'score': 0.9754220247268677,\n",
       "                 'word': '##etta'},\n",
       "                {'entity': 'B-LOC',\n",
       "                 'score': 0.995358407497406,\n",
       "                 'word': 'mclean'},\n",
       "                {'entity': 'B-LOC',\n",
       "                 'score': 0.9764575958251953,\n",
       "                 'word': 'virgin'}]])])"
      ]
     },
     "execution_count": null,
     "metadata": {},
     "output_type": "execute_result"
    }
   ],
   "source": [
    "classifier.tag_text(\n",
    "    sentence,\n",
    "    model_name_or_path = 'good_model',\n",
    "    detail_level=DetailLevel.High\n",
    ")"
   ]
  },
  {
   "cell_type": "markdown",
   "id": "cff6d3dc",
   "metadata": {},
   "source": [
    "## Code Summary"
   ]
  },
  {
   "cell_type": "markdown",
   "id": "f345ccf1",
   "metadata": {},
   "source": [
    "A quick one-cell code chunk with all the code used in this notebook, so the reader can quickly copy/paste this"
   ]
  },
  {
   "cell_type": "code",
   "execution_count": null,
   "id": "c2cbbc9c",
   "metadata": {},
   "outputs": [],
   "source": [
    "from datasets import load_dataset\n",
    "from adaptnlp import TokenClassificationDatasets\n",
    "from adaptnlp import TokenClassificationTuner\n",
    "from adaptnlp import Strategy\n",
    "from adaptnlp import NERMetric\n",
    "\n",
    "dsets = load_dataset('conll2003')\n",
    "\n",
    "dset = dsets['train']\n",
    "dset.set_format(type='pandas')\n",
    "df = dset[:]\n",
    "df = df[['tokens', 'ner_tags']]\n",
    "\n",
    "model_name = 'distilbert-base-uncased'\n",
    "\n",
    "tokenize_kwargs = {\n",
    "    'truncation':True, \n",
    "    'is_split_into_words':True, \n",
    "    'padding':'max_length', \n",
    "    'return_offsets_mapping':True\n",
    "}\n",
    "\n",
    "entity_mapping = {\n",
    "    0: 'O',\n",
    "    1: 'B-PER',\n",
    "    2: 'I-PER',\n",
    "    3: 'B-ORG',\n",
    "    4: 'I-ORG',\n",
    "    5: 'B-LOC',\n",
    "    6: 'I-LOC',\n",
    "    7: 'B-MISC',\n",
    "    8: 'I-MISC'\n",
    "}\n",
    "\n",
    "dsets = TokenClassificationDatasets.from_dfs(\n",
    "    df,\n",
    "    'tokens',\n",
    "    'ner_tags',\n",
    "    entity_mapping,\n",
    "    tokenizer_name = model_name,\n",
    "    tokenize=True,\n",
    "    tokenize_kwargs = tokenize_kwargs,\n",
    "    split_pct=.2\n",
    ")\n",
    "\n",
    "dls = dsets.dataloaders(batch_size=8)\n",
    "\n",
    "tuner = TokenClassificationTuner(dls, model_name)\n",
    "\n",
    "tuner = TokenClassificationTuner(dls, model_name, metrics=[NERMetric.Accuracy,\n",
    "                                                           NERMetric.Precision,\n",
    "                                                           NERMetric.Recall,\n",
    "                                                           NERMetric.F1])\n",
    "\n",
    "lr = tuner.lr_find()\n",
    "\n",
    "tuner.tune(3, lr, strategy=Strategy.OneCycle)\n",
    "\n",
    "tuner.save('good_model')"
   ]
  }
 ],
 "metadata": {
  "kernelspec": {
   "display_name": "Python 3 (ipykernel)",
   "language": "python",
   "name": "python3"
  }
 },
 "nbformat": 4,
 "nbformat_minor": 5
}
