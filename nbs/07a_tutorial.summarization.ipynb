{
 "cells": [
  {
   "cell_type": "code",
   "execution_count": null,
   "metadata": {},
   "outputs": [],
   "source": [
    "#all_slow"
   ]
  },
  {
   "cell_type": "markdown",
   "metadata": {},
   "source": [
    "# Tutorial - Summarization\n",
    "> Performing document summarization with AdaptNLP"
   ]
  },
  {
   "cell_type": "markdown",
   "metadata": {},
   "source": [
    "Summarization is the NLP task of compressing one or many documents but still retain the input's original context and meaning.\n",
    "\n",
    "Below, we'll walk through how we can use AdaptNLP's `EasySummarizer` module to summarize large amounts of text with state-of-the-art models."
   ]
  },
  {
   "cell_type": "markdown",
   "metadata": {},
   "source": [
    "## Getting Started with `EasySummarizer`\n",
    "\n",
    "First we'll import our `EasySummarizer` class:"
   ]
  },
  {
   "cell_type": "code",
   "execution_count": null,
   "metadata": {},
   "outputs": [],
   "source": [
    "from adaptnlp import EasySummarizer"
   ]
  },
  {
   "cell_type": "markdown",
   "metadata": {},
   "source": [
    "Next we need some example text to use:"
   ]
  },
  {
   "cell_type": "code",
   "execution_count": null,
   "metadata": {},
   "outputs": [],
   "source": [
    "# Text from encyclopedia Britannica on Einstein\n",
    "text = [\"\"\"Einstein’s education was disrupted by his father’s repeated failures at business. In 1894, after his company failed to get an important \n",
    "          contract to electrify the city of Munich, Hermann Einstein moved to Milan to work with a relative. Einstein was left at a boardinghouse in \n",
    "          Munich and expected to finish his education. Alone, miserable, and repelled by the looming prospect of military duty when he turned 16, Einstein \n",
    "          ran away six months later and landed on the doorstep of his surprised parents. His parents realized the enormous problems that he faced as a \n",
    "          school dropout and draft dodger with no employable skills. His prospects did not look promising.\n",
    "          Fortunately, Einstein could apply directly to the Eidgenössische Polytechnische Schule (“Swiss Federal Polytechnic School”; in 1911, \n",
    "          following expansion in 1909 to full university status, it was renamed the Eidgenössische Technische Hochschule, or “Swiss Federal \n",
    "          Institute of Technology”) in Zürich without the equivalent of a high school diploma if he passed its stiff entrance examinations. His marks \n",
    "          showed that he excelled in mathematics and physics, but he failed at French, chemistry, and biology. Because of his exceptional math scores, \n",
    "          he was allowed into the polytechnic on the condition that he first finish his formal schooling. He went to a special high school run by \n",
    "          Jost Winteler in Aarau, Switzerland, and graduated in 1896. He also renounced his German citizenship at that time. (He was stateless until 1901, \n",
    "          when he was granted Swiss citizenship.) He became lifelong friends with the Winteler family, with whom he had been boarding. (Winteler’s \n",
    "          daughter, Marie, was Einstein’s first love; Einstein’s sister, Maja, would eventually marry Winteler’s son Paul; and his close friend Michele \n",
    "          Besso would marry their eldest daughter, Anna.)\"\"\",\n",
    "       \"\"\"Einstein would write that two “wonders” deeply affected his early years. The first was his encounter with a compass at age five. \n",
    "          He was mystified that invisible forces could deflect the needle. This would lead to a lifelong fascination with invisible forces. \n",
    "          The second wonder came at age 12 when he discovered a book of geometry, which he devoured, calling it his 'sacred little geometry \n",
    "          book'. Einstein became deeply religious at age 12, even composing several songs in praise of God and chanting religious songs on \n",
    "          the way to school. This began to change, however, after he read science books that contradicted his religious beliefs. This challenge \n",
    "          to established authority left a deep and lasting impression. At the Luitpold Gymnasium, Einstein often felt out of place and victimized \n",
    "          by a Prussian-style educational system that seemed to stifle originality and creativity. One teacher even told him that he would \n",
    "          never amount to anything.\"\"\"]"
   ]
  },
  {
   "cell_type": "markdown",
   "metadata": {},
   "source": [
    "And finally we'll intantiate the summarizer:"
   ]
  },
  {
   "cell_type": "code",
   "execution_count": null,
   "metadata": {},
   "outputs": [],
   "source": [
    "summarizer = EasySummarizer()"
   ]
  },
  {
   "cell_type": "markdown",
   "metadata": {},
   "source": [
    "## Summarizing with `summarize`\n",
    "\n",
    "Now that we have the summarizer instantiated, we are ready to load in a model and compress the text with the built-in `summarize()` method.\n",
    "\n",
    "This method takes in parameters: `text`, `model_name_or_path`, and `mini_batch_size` as well as optional keyword arguments from the `Transformers.PreTrainedModel.generate()` method."
   ]
  },
  {
   "cell_type": "markdown",
   "metadata": {},
   "source": [
    "Our first example will be with the `t5-small` model:"
   ]
  },
  {
   "cell_type": "code",
   "execution_count": null,
   "metadata": {},
   "outputs": [
    {
     "data": {
      "text/html": [],
      "text/plain": [
       "<IPython.core.display.HTML object>"
      ]
     },
     "metadata": {},
     "output_type": "display_data"
    }
   ],
   "source": [
    "summaries = summarizer.summarize(text = text, model_name_or_path=\"t5-small\", mini_batch_size=1, num_beams = 4, min_length=0, max_length=100, early_stopping=True)"
   ]
  },
  {
   "cell_type": "markdown",
   "metadata": {},
   "source": [
    "And we can see its output below:"
   ]
  },
  {
   "cell_type": "code",
   "execution_count": null,
   "metadata": {},
   "outputs": [
    {
     "name": "stdout",
     "output_type": "stream",
     "text": [
      "Summaries:\n",
      "\n",
      "Hermann Einstein was left at a boardinghouse and expected to finish his education . he ran away six months later and landed on the doorstep of his surprised parents . he could apply directly to the Eidgenössische Polytechnische Schule without the equivalent of a high school diploma . \n",
      "\n",
      "Einstein was mystified that invisible forces could deflect the needle . the second wonder came at age 12 when he discovered a book of geometry . he became deeply religious at age 12 . \n",
      "\n"
     ]
    }
   ],
   "source": [
    "print(\"Summaries:\\n\")\n",
    "for s in summaries:\n",
    "    print(s, \"\\n\")"
   ]
  },
  {
   "cell_type": "markdown",
   "metadata": {},
   "source": [
    "Next we'll use the `bart-large-cnn` from `Facebook`. We can either simply pass in `facebook/bart-large-cnn` to our `summarizer`, *or* we can use the `HFModelHub` to go and search for it. Let's try that now:"
   ]
  },
  {
   "cell_type": "code",
   "execution_count": null,
   "metadata": {},
   "outputs": [
    {
     "data": {
      "text/plain": [
       "[Model Name: facebook/bart-large-cnn, Tasks: [summarization],\n",
       " Model Name: facebook/bart-large-mnli, Tasks: [zero-shot-classification],\n",
       " Model Name: facebook/bart-large-xsum, Tasks: [summarization],\n",
       " Model Name: facebook/bart-large, Tasks: []]"
      ]
     },
     "execution_count": null,
     "metadata": {},
     "output_type": "execute_result"
    }
   ],
   "source": [
    "from adaptnlp import HFModelHub\n",
    "hub = HFModelHub()\n",
    "models = hub.search_model_by_name('facebook/bart-large', user_uploaded=True); models"
   ]
  },
  {
   "cell_type": "markdown",
   "metadata": {},
   "source": [
    "We can see that the first result is our `bart-large-cnn`, let's use it:"
   ]
  },
  {
   "cell_type": "code",
   "execution_count": null,
   "metadata": {},
   "outputs": [],
   "source": [
    "model = models[0]"
   ]
  },
  {
   "cell_type": "markdown",
   "metadata": {},
   "source": [
    "And directly pass it into `summarizer.summarize`:"
   ]
  },
  {
   "cell_type": "code",
   "execution_count": null,
   "metadata": {},
   "outputs": [
    {
     "data": {
      "text/html": [],
      "text/plain": [
       "<IPython.core.display.HTML object>"
      ]
     },
     "metadata": {},
     "output_type": "display_data"
    }
   ],
   "source": [
    "summaries = summarizer.summarize(text = text, model_name_or_path=model, mini_batch_size=1, num_beams = 2, min_length=40, max_length=300, early_stopping=True)"
   ]
  },
  {
   "cell_type": "markdown",
   "metadata": {},
   "source": [
    "And finally we can view the results:"
   ]
  },
  {
   "cell_type": "code",
   "execution_count": null,
   "metadata": {},
   "outputs": [
    {
     "name": "stdout",
     "output_type": "stream",
     "text": [
      "Summaries:\n",
      "\n",
      "Einstein’s education was disrupted by his father’S repeated failures at business. In 1894, after his company failed to get an important contract, Einstein moved to Milan to work with a relative. Einstein was left at a boardinghouse in Munich and expected to finish his education. \n",
      "\n",
      "Einstein would write that two ‘wonders’ deeply affected his early years. The first was his encounter with a compass at age five. The second wonder came at age 12 when he discovered a book of geometry. \n",
      "\n"
     ]
    }
   ],
   "source": [
    "print(\"Summaries:\\n\")\n",
    "for s in summaries:\n",
    "    print(s, \"\\n\")"
   ]
  }
 ],
 "metadata": {
  "kernelspec": {
   "display_name": "Python 3 (ipykernel)",
   "language": "python",
   "name": "python3"
  }
 },
 "nbformat": 4,
 "nbformat_minor": 4
}
