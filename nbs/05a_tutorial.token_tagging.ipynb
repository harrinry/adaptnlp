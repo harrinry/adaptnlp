{
 "cells": [
  {
   "cell_type": "code",
   "execution_count": null,
   "metadata": {},
   "outputs": [],
   "source": [
    "#all_slow"
   ]
  },
  {
   "cell_type": "markdown",
   "metadata": {},
   "source": [
    "# Token Tagging with AdaptNLP\n",
    "> Using EasyTokenTagger to quickly perform POS tagging"
   ]
  },
  {
   "cell_type": "markdown",
   "metadata": {},
   "source": [
    "We'll import the `adaptnlp` `EasyTokenTagger` class:"
   ]
  },
  {
   "cell_type": "code",
   "execution_count": null,
   "metadata": {},
   "outputs": [],
   "source": [
    "from adaptnlp import EasyTokenTagger\n",
    "from pprint import pprint"
   ]
  },
  {
   "cell_type": "markdown",
   "metadata": {},
   "source": [
    "Let's write some simple example text, and instantiate an `EasyTokenTagger`:"
   ]
  },
  {
   "cell_type": "code",
   "execution_count": null,
   "metadata": {},
   "outputs": [],
   "source": [
    "example_text = '''Novetta Solutions is the best. Albert Einstein used to be employed at Novetta Solutions. \n",
    "The Wright brothers loved to visit the JBF headquarters, and they would have a chat with Albert.'''\n",
    "tagger = EasyTokenTagger()"
   ]
  },
  {
   "cell_type": "markdown",
   "metadata": {},
   "source": [
    "## With Transformers"
   ]
  },
  {
   "cell_type": "markdown",
   "metadata": {},
   "source": [
    "First we will use some `Transformers` models, specifically `bert`.\n",
    "\n",
    "We'll search `HuggingFace` for the model we want, in this case we want to use `sshleifer`'s `tiny-dbmdz-bert` model:"
   ]
  },
  {
   "cell_type": "code",
   "execution_count": null,
   "metadata": {},
   "outputs": [],
   "source": [
    "from adaptnlp.model_hub import HFModelHub"
   ]
  },
  {
   "cell_type": "code",
   "execution_count": null,
   "metadata": {},
   "outputs": [
    {
     "data": {
      "text/plain": [
       "Model Name: sshleifer/tiny-dbmdz-bert-large-cased-finetuned-conll03-english, Tasks: [token-classification]"
      ]
     },
     "execution_count": null,
     "metadata": {},
     "output_type": "execute_result"
    }
   ],
   "source": [
    "hub = HFModelHub()\n",
    "model = hub.search_model_by_name('sshleifer/tiny-dbmdz-bert', user_uploaded=True)[0]; model"
   ]
  },
  {
   "cell_type": "markdown",
   "metadata": {},
   "source": [
    "Next we'll use our `tagger` to generate some sentences:"
   ]
  },
  {
   "cell_type": "code",
   "execution_count": null,
   "metadata": {},
   "outputs": [
    {
     "name": "stdout",
     "output_type": "stream",
     "text": [
      "2021-04-20 16:39:49,456 loading file /root/.flair/models/tiny-dbmdz-bert-large-cased-finetuned-conll03-english/1e2c09da4ad5b3257008353a87852a7148389cc8308b91cf837f066b95650a0d.595173de82e795b5e4022dca79d10d885137a50ed2ee3974f15a75d328c0cd0a\n"
     ]
    },
    {
     "name": "stderr",
     "output_type": "stream",
     "text": [
      "/opt/venv/lib/python3.8/site-packages/transformers/tokenization_utils_base.py:2073: FutureWarning: The `pad_to_max_length` argument is deprecated and will be removed in a future version, use `padding=True` or `padding='longest'` to pad to the longest sequence in the batch, or use `padding='max_length'` to pad to a max length. In this case, you can give a specific length with `max_length` (e.g. `max_length=45`) or leave max_length to None to pad to the maximal input size of the model (e.g. 512 for Bert).\n",
      "  warnings.warn(\n"
     ]
    },
    {
     "data": {
      "text/html": [],
      "text/plain": [
       "<IPython.core.display.HTML object>"
      ]
     },
     "metadata": {},
     "output_type": "display_data"
    }
   ],
   "source": [
    "sentences = tagger.tag_text(text=example_text, model_name_or_path = model)"
   ]
  },
  {
   "cell_type": "code",
   "execution_count": null,
   "metadata": {},
   "outputs": [
    {
     "data": {
      "text/plain": [
       "adaptnlp.model_hub.HFModelResult"
      ]
     },
     "execution_count": null,
     "metadata": {},
     "output_type": "execute_result"
    }
   ],
   "source": [
    "type(model)"
   ]
  },
  {
   "cell_type": "markdown",
   "metadata": {},
   "source": [
    "And then look at some of our results:"
   ]
  },
  {
   "cell_type": "code",
   "execution_count": null,
   "metadata": {},
   "outputs": [
    {
     "name": "stdout",
     "output_type": "stream",
     "text": [
      "List string outputs of tags:\n",
      "\n",
      "[{'entity_group': 'I-LOC',\n",
      "  'offsets': (-1, 2),\n",
      "  'score': 0.11716679483652115,\n",
      "  'word': '[CLS] Novetta'},\n",
      " {'entity_group': 'B-ORG',\n",
      "  'offsets': (2, 3),\n",
      "  'score': 0.11758644878864288,\n",
      "  'word': 'Solutions'},\n",
      " {'entity_group': 'I-LOC',\n",
      "  'offsets': (3, 5),\n",
      "  'score': 0.11716679483652115,\n",
      "  'word': 'is the'},\n",
      " {'entity_group': 'B-ORG',\n",
      "  'offsets': (5, 6),\n",
      "  'score': 0.11758644878864288,\n",
      "  'word': 'best'},\n",
      " {'entity_group': 'I-LOC',\n",
      "  'offsets': (6, 13),\n",
      "  'score': 0.11716679483652115,\n",
      "  'word': '. Albert Einstein used to be employed'},\n",
      " {'entity_group': 'B-ORG',\n",
      "  'offsets': (13, 15),\n",
      "  'score': 0.11758644878864288,\n",
      "  'word': 'at Nov'},\n",
      " {'entity_group': 'I-LOC',\n",
      "  'offsets': (15, 24),\n",
      "  'score': 0.11716679483652115,\n",
      "  'word': '##etta Solutions. The Wright brothers loved to visit'},\n",
      " {'entity_group': 'B-ORG',\n",
      "  'offsets': (24, 25),\n",
      "  'score': 0.11758644878864288,\n",
      "  'word': 'the'},\n",
      " {'entity_group': 'I-LOC',\n",
      "  'offsets': (25, 27),\n",
      "  'score': 0.11716679483652115,\n",
      "  'word': 'JBF'},\n",
      " {'entity_group': 'B-ORG',\n",
      "  'offsets': (27, 28),\n",
      "  'score': 0.11758644878864288,\n",
      "  'word': 'headquarters'},\n",
      " {'entity_group': 'I-LOC',\n",
      "  'offsets': (28, 31),\n",
      "  'score': 0.11716679483652115,\n",
      "  'word': ', and they'},\n",
      " {'entity_group': 'B-ORG',\n",
      "  'offsets': (31, 32),\n",
      "  'score': 0.11758644878864288,\n",
      "  'word': 'would'},\n",
      " {'entity_group': 'I-LOC',\n",
      "  'offsets': (32, 39),\n",
      "  'score': 0.11716679483652115,\n",
      "  'word': 'have a chat with Albert. [SEP]'}]\n"
     ]
    }
   ],
   "source": [
    "print(\"List string outputs of tags:\\n\")\n",
    "for sen in sentences:\n",
    "    pprint(sen)"
   ]
  },
  {
   "cell_type": "markdown",
   "metadata": {},
   "source": [
    "## With Flair "
   ]
  },
  {
   "cell_type": "markdown",
   "metadata": {},
   "source": [
    "### Named Entity Recognition (NER)"
   ]
  },
  {
   "cell_type": "markdown",
   "metadata": {},
   "source": [
    "With Flair we can follow a similar setup to earlier, searching HuggingFace for valid `ner` models. In our case we'll use `Flair`'s `ner-english-ontonotes-fast` model"
   ]
  },
  {
   "cell_type": "code",
   "execution_count": null,
   "metadata": {},
   "outputs": [
    {
     "data": {
      "text/plain": [
       "Model Name: flair/ner-english-ontonotes-fast, Tasks: [token-classification], Source: HuggingFace Model Hub"
      ]
     },
     "execution_count": null,
     "metadata": {},
     "output_type": "execute_result"
    }
   ],
   "source": [
    "from adaptnlp.model_hub import FlairModelHub\n",
    "hub = FlairModelHub()\n",
    "model = hub.search_model_by_name('ontonotes-fast')[0]; model"
   ]
  },
  {
   "cell_type": "markdown",
   "metadata": {},
   "source": [
    "Then we'll tag the string:"
   ]
  },
  {
   "cell_type": "code",
   "execution_count": null,
   "metadata": {},
   "outputs": [
    {
     "data": {
      "text/plain": [
       "'flair/ner-english-ontonotes-fast'"
      ]
     },
     "execution_count": null,
     "metadata": {},
     "output_type": "execute_result"
    }
   ],
   "source": [
    "model.name"
   ]
  },
  {
   "cell_type": "code",
   "execution_count": null,
   "metadata": {},
   "outputs": [
    {
     "data": {
      "text/plain": [
       "False"
      ]
     },
     "execution_count": null,
     "metadata": {},
     "output_type": "execute_result"
    }
   ],
   "source": [
    "tagger.token_taggers[model.name]"
   ]
  },
  {
   "cell_type": "code",
   "execution_count": null,
   "metadata": {},
   "outputs": [
    {
     "name": "stdout",
     "output_type": "stream",
     "text": [
      "2021-04-20 16:39:53,487 loading file /root/.flair/models/ner-english-ontonotes-fast/0d55dd3b912da9cf26e003035a0c269a0e9ab222f0be1e48a3bbba3a58c0fed0.c9907cd5fde3ce84b71a4172e7ca03841cd81ab71d13eb68aa08b259f57c00b6\n"
     ]
    }
   ],
   "source": [
    "sentences = tagger.tag_text(text = example_text, model_name_or_path = model)"
   ]
  },
  {
   "cell_type": "markdown",
   "metadata": {},
   "source": [
    "And look at our results, either the tagged strings themselves:"
   ]
  },
  {
   "cell_type": "code",
   "execution_count": null,
   "metadata": {},
   "outputs": [
    {
     "name": "stdout",
     "output_type": "stream",
     "text": [
      "List string outputs of tags:\n",
      "\n",
      "Novetta <B-ORG> Solutions <E-ORG> is the best . Albert <B-PERSON> Einstein <E-PERSON> used to be employed at Novetta <B-ORG> Solutions <E-ORG> . The Wright <S-PERSON> brothers loved to visit the JBF <S-ORG> headquarters , and they would have a chat with Albert <S-PERSON> .\n"
     ]
    }
   ],
   "source": [
    "print(\"List string outputs of tags:\\n\")\n",
    "for sen in sentences:\n",
    "    print(sen.to_tagged_string())"
   ]
  },
  {
   "cell_type": "markdown",
   "metadata": {},
   "source": [
    "The entities and their spans:"
   ]
  },
  {
   "cell_type": "code",
   "execution_count": null,
   "metadata": {},
   "outputs": [
    {
     "name": "stdout",
     "output_type": "stream",
     "text": [
      "List entities tagged:\n",
      "\n",
      "Span [1,2]: \"Novetta Solutions\"   [− Labels: ORG (0.7751)]\n",
      "Span [7,8]: \"Albert Einstein\"   [− Labels: PERSON (0.9917)]\n",
      "Span [14,15]: \"Novetta Solutions\"   [− Labels: ORG (0.7489)]\n",
      "Span [18]: \"Wright\"   [− Labels: PERSON (0.9993)]\n",
      "Span [24]: \"JBF\"   [− Labels: ORG (0.967)]\n",
      "Span [34]: \"Albert\"   [− Labels: PERSON (0.9979)]\n"
     ]
    }
   ],
   "source": [
    "print(\"List entities tagged:\\n\")\n",
    "for sen in sentences:\n",
    "    for entity in sen.get_spans(\"ner\"):\n",
    "        print(entity)"
   ]
  },
  {
   "cell_type": "markdown",
   "metadata": {},
   "source": [
    "Or all of the raw tagged information:"
   ]
  },
  {
   "cell_type": "code",
   "execution_count": null,
   "metadata": {},
   "outputs": [
    {
     "name": "stdout",
     "output_type": "stream",
     "text": [
      "Get json of tagged information:\n",
      "\n",
      "{'entities': [{'end_pos': 17,\n",
      "               'labels': [ORG (0.7751)],\n",
      "               'start_pos': 0,\n",
      "               'text': 'Novetta Solutions'},\n",
      "              {'end_pos': 46,\n",
      "               'labels': [PERSON (0.9917)],\n",
      "               'start_pos': 31,\n",
      "               'text': 'Albert Einstein'},\n",
      "              {'end_pos': 87,\n",
      "               'labels': [ORG (0.7489)],\n",
      "               'start_pos': 70,\n",
      "               'text': 'Novetta Solutions'},\n",
      "              {'end_pos': 100,\n",
      "               'labels': [PERSON (0.9993)],\n",
      "               'start_pos': 94,\n",
      "               'text': 'Wright'},\n",
      "              {'end_pos': 132,\n",
      "               'labels': [ORG (0.967)],\n",
      "               'start_pos': 129,\n",
      "               'text': 'JBF'},\n",
      "              {'end_pos': 185,\n",
      "               'labels': [PERSON (0.9979)],\n",
      "               'start_pos': 179,\n",
      "               'text': 'Albert'}],\n",
      " 'labels': [],\n",
      " 'text': 'Novetta Solutions is the best. Albert Einstein used to be employed '\n",
      "         'at Novetta Solutions.  The Wright brothers loved to visit the JBF '\n",
      "         'headquarters, and they would have a chat with Albert.'}\n"
     ]
    }
   ],
   "source": [
    "print(\"Get json of tagged information:\\n\")\n",
    "for sen in sentences:\n",
    "    pprint(sen.to_dict(tag_type=\"ner\"))"
   ]
  },
  {
   "cell_type": "markdown",
   "metadata": {},
   "source": [
    "### Parts of Speech\n",
    "\n",
    "Next we'll look at a parts-of-speech tagger."
   ]
  },
  {
   "cell_type": "markdown",
   "metadata": {},
   "source": [
    "We can simply pass in `\"pos\"`, but let's use our search API to find an english POS tagger:"
   ]
  },
  {
   "cell_type": "code",
   "execution_count": null,
   "metadata": {},
   "outputs": [
    {
     "data": {
      "text/plain": [
       "[Model Name: flair/pos-english-fast, Tasks: [token-classification], Source: HuggingFace Model Hub,\n",
       " Model Name: flair/pos-english, Tasks: [token-classification], Source: HuggingFace Model Hub,\n",
       " Model Name: flair/upos-english-fast, Tasks: [token-classification], Source: HuggingFace Model Hub,\n",
       " Model Name: flair/upos-english, Tasks: [token-classification], Source: HuggingFace Model Hub,\n",
       " Model Name: flair/upos-multi-fast, Tasks: [token-classification], Source: HuggingFace Model Hub,\n",
       " Model Name: flair/upos-multi, Tasks: [token-classification], Source: HuggingFace Model Hub,\n",
       " Model Name: flair/upos, Tasks: [token-classification], Source: Flair's Private Model Hub,\n",
       " Model Name: flair/upos-fast, Tasks: [token-classification], Source: Flair's Private Model Hub,\n",
       " Model Name: flair/pos, Tasks: [token-classification], Source: Flair's Private Model Hub,\n",
       " Model Name: flair/pos-fast, Tasks: [token-classification], Source: Flair's Private Model Hub,\n",
       " Model Name: flair/pos-multi, Tasks: [token-classification], Source: Flair's Private Model Hub,\n",
       " Model Name: flair/multi-pos, Tasks: [token-classification], Source: Flair's Private Model Hub,\n",
       " Model Name: flair/pos-multi-fast, Tasks: [token-classification], Source: Flair's Private Model Hub,\n",
       " Model Name: flair/multi-pos-fast, Tasks: [token-classification], Source: Flair's Private Model Hub,\n",
       " Model Name: flair/da-pos, Tasks: [token-classification], Source: Flair's Private Model Hub,\n",
       " Model Name: flair/de-pos, Tasks: [token-classification], Source: Flair's Private Model Hub,\n",
       " Model Name: flair/de-pos-tweets, Tasks: [token-classification], Source: Flair's Private Model Hub,\n",
       " Model Name: flair/ml-pos, Tasks: [token-classification], Source: Flair's Private Model Hub,\n",
       " Model Name: flair/ml-upos, Tasks: [token-classification], Source: Flair's Private Model Hub,\n",
       " Model Name: flair/pt-pos-clinical, Tasks: [token-classification], Source: Flair's Private Model Hub]"
      ]
     },
     "execution_count": null,
     "metadata": {},
     "output_type": "execute_result"
    }
   ],
   "source": [
    "hub.search_model_by_task('pos')"
   ]
  },
  {
   "cell_type": "markdown",
   "metadata": {},
   "source": [
    "We'll use the `pos-english-fast` model"
   ]
  },
  {
   "cell_type": "code",
   "execution_count": null,
   "metadata": {},
   "outputs": [
    {
     "data": {
      "text/plain": [
       "Model Name: flair/pos-english-fast, Tasks: [token-classification], Source: HuggingFace Model Hub"
      ]
     },
     "execution_count": null,
     "metadata": {},
     "output_type": "execute_result"
    }
   ],
   "source": [
    "model = hub.search_model_by_name('pos-english-fast')[0]; model"
   ]
  },
  {
   "cell_type": "code",
   "execution_count": null,
   "metadata": {},
   "outputs": [
    {
     "name": "stdout",
     "output_type": "stream",
     "text": [
      "2021-04-20 16:39:58,139 loading file /root/.flair/models/pos-english-fast/36f7923039eed4c66e4275927daaff6cd275997d61d238355fb1fe0338fe10a1.ff87e5b4e47fdb42a0c00237d9506c671db773e0a7932179ace82e584383a1b8\n"
     ]
    }
   ],
   "source": [
    "sentences = tagger.tag_text(text = example_text, model_name_or_path = model)"
   ]
  },
  {
   "cell_type": "markdown",
   "metadata": {},
   "source": [
    "Then just as before, we can look at our results. Either as a sentence with tags:"
   ]
  },
  {
   "cell_type": "code",
   "execution_count": null,
   "metadata": {},
   "outputs": [
    {
     "name": "stdout",
     "output_type": "stream",
     "text": [
      "List string outputs of tags:\n",
      "\n",
      "Novetta <NNP> Solutions <NNPS> is <VBZ> the <DT> best <JJS> . <.> Albert <NNP> Einstein <NNP> used <VBD> to <TO> be <VB> employed <VBN> at <IN> Novetta <NNP> Solutions <NNP> . <,> The <DT> Wright <NNP> brothers <NNS> loved <VBD> to <TO> visit <VB> the <DT> JBF <NNP> headquarters <NN> , <,> and <CC> they <PRP> would <MD> have <VB> a <DT> chat <NN> with <IN> Albert <NNP> . <.>\n"
     ]
    }
   ],
   "source": [
    "print(\"List string outputs of tags:\\n\")\n",
    "for sen in sentences:\n",
    "    print(sen.to_tagged_string())"
   ]
  },
  {
   "cell_type": "markdown",
   "metadata": {},
   "source": [
    "With a list of tagged entities:"
   ]
  },
  {
   "cell_type": "code",
   "execution_count": null,
   "metadata": {},
   "outputs": [
    {
     "name": "stdout",
     "output_type": "stream",
     "text": [
      "List text/entities tagged:\n",
      "\n",
      "Span [1]: \"Novetta\"   [− Labels: NNP (0.9991)]\n",
      "Span [2]: \"Solutions\"   [− Labels: NNPS (0.8552)]\n",
      "Span [3]: \"is\"   [− Labels: VBZ (1.0)]\n",
      "Span [4]: \"the\"   [− Labels: DT (1.0)]\n",
      "Span [5]: \"best\"   [− Labels: JJS (0.8458)]\n",
      "Span [6]: \".\"   [− Labels: . (0.943)]\n",
      "Span [7]: \"Albert\"   [− Labels: NNP (1.0)]\n",
      "Span [8]: \"Einstein\"   [− Labels: NNP (1.0)]\n",
      "Span [9]: \"used\"   [− Labels: VBD (0.9755)]\n",
      "Span [10]: \"to\"   [− Labels: TO (0.9995)]\n",
      "Span [11]: \"be\"   [− Labels: VB (1.0)]\n",
      "Span [12]: \"employed\"   [− Labels: VBN (0.9998)]\n",
      "Span [13]: \"at\"   [− Labels: IN (1.0)]\n",
      "Span [14]: \"Novetta\"   [− Labels: NNP (1.0)]\n",
      "Span [15]: \"Solutions\"   [− Labels: NNP (0.5506)]\n",
      "Span [16]: \".\"   [− Labels: , (0.5253)]\n",
      "Span [17]: \"The\"   [− Labels: DT (1.0)]\n",
      "Span [18]: \"Wright\"   [− Labels: NNP (0.9982)]\n",
      "Span [19]: \"brothers\"   [− Labels: NNS (0.9998)]\n",
      "Span [20]: \"loved\"   [− Labels: VBD (0.9999)]\n",
      "Span [21]: \"to\"   [− Labels: TO (0.9997)]\n",
      "Span [22]: \"visit\"   [− Labels: VB (1.0)]\n",
      "Span [23]: \"the\"   [− Labels: DT (1.0)]\n",
      "Span [24]: \"JBF\"   [− Labels: NNP (1.0)]\n",
      "Span [25]: \"headquarters\"   [− Labels: NN (0.9047)]\n",
      "Span [26]: \",\"   [− Labels: , (1.0)]\n",
      "Span [27]: \"and\"   [− Labels: CC (1.0)]\n",
      "Span [28]: \"they\"   [− Labels: PRP (1.0)]\n",
      "Span [29]: \"would\"   [− Labels: MD (1.0)]\n",
      "Span [30]: \"have\"   [− Labels: VB (0.9999)]\n",
      "Span [31]: \"a\"   [− Labels: DT (0.9999)]\n",
      "Span [32]: \"chat\"   [− Labels: NN (0.9985)]\n",
      "Span [33]: \"with\"   [− Labels: IN (1.0)]\n",
      "Span [34]: \"Albert\"   [− Labels: NNP (0.9999)]\n",
      "Span [35]: \".\"   [− Labels: . (0.9999)]\n"
     ]
    }
   ],
   "source": [
    "print(\"List text/entities tagged:\\n\")\n",
    "for sen in sentences:\n",
    "    for entity in sen.get_spans(\"pos\"):\n",
    "        print(entity)"
   ]
  },
  {
   "cell_type": "markdown",
   "metadata": {},
   "source": [
    "Or the raw JSON of information:"
   ]
  },
  {
   "cell_type": "code",
   "execution_count": null,
   "metadata": {},
   "outputs": [
    {
     "name": "stdout",
     "output_type": "stream",
     "text": [
      "Get json of tagged information:\n",
      "\n",
      "{'entities': [{'end_pos': 7,\n",
      "               'labels': [NNP (0.9991)],\n",
      "               'start_pos': 0,\n",
      "               'text': 'Novetta'},\n",
      "              {'end_pos': 17,\n",
      "               'labels': [NNPS (0.8552)],\n",
      "               'start_pos': 8,\n",
      "               'text': 'Solutions'},\n",
      "              {'end_pos': 20,\n",
      "               'labels': [VBZ (1.0)],\n",
      "               'start_pos': 18,\n",
      "               'text': 'is'},\n",
      "              {'end_pos': 24,\n",
      "               'labels': [DT (1.0)],\n",
      "               'start_pos': 21,\n",
      "               'text': 'the'},\n",
      "              {'end_pos': 29,\n",
      "               'labels': [JJS (0.8458)],\n",
      "               'start_pos': 25,\n",
      "               'text': 'best'},\n",
      "              {'end_pos': 30,\n",
      "               'labels': [. (0.943)],\n",
      "               'start_pos': 29,\n",
      "               'text': '.'},\n",
      "              {'end_pos': 37,\n",
      "               'labels': [NNP (1.0)],\n",
      "               'start_pos': 31,\n",
      "               'text': 'Albert'},\n",
      "              {'end_pos': 46,\n",
      "               'labels': [NNP (1.0)],\n",
      "               'start_pos': 38,\n",
      "               'text': 'Einstein'},\n",
      "              {'end_pos': 51,\n",
      "               'labels': [VBD (0.9755)],\n",
      "               'start_pos': 47,\n",
      "               'text': 'used'},\n",
      "              {'end_pos': 54,\n",
      "               'labels': [TO (0.9995)],\n",
      "               'start_pos': 52,\n",
      "               'text': 'to'},\n",
      "              {'end_pos': 57,\n",
      "               'labels': [VB (1.0)],\n",
      "               'start_pos': 55,\n",
      "               'text': 'be'},\n",
      "              {'end_pos': 66,\n",
      "               'labels': [VBN (0.9998)],\n",
      "               'start_pos': 58,\n",
      "               'text': 'employed'},\n",
      "              {'end_pos': 69,\n",
      "               'labels': [IN (1.0)],\n",
      "               'start_pos': 67,\n",
      "               'text': 'at'},\n",
      "              {'end_pos': 77,\n",
      "               'labels': [NNP (1.0)],\n",
      "               'start_pos': 70,\n",
      "               'text': 'Novetta'},\n",
      "              {'end_pos': 87,\n",
      "               'labels': [NNP (0.5506)],\n",
      "               'start_pos': 78,\n",
      "               'text': 'Solutions'},\n",
      "              {'end_pos': 88,\n",
      "               'labels': [, (0.5253)],\n",
      "               'start_pos': 87,\n",
      "               'text': '.'},\n",
      "              {'end_pos': 93,\n",
      "               'labels': [DT (1.0)],\n",
      "               'start_pos': 90,\n",
      "               'text': 'The'},\n",
      "              {'end_pos': 100,\n",
      "               'labels': [NNP (0.9982)],\n",
      "               'start_pos': 94,\n",
      "               'text': 'Wright'},\n",
      "              {'end_pos': 109,\n",
      "               'labels': [NNS (0.9998)],\n",
      "               'start_pos': 101,\n",
      "               'text': 'brothers'},\n",
      "              {'end_pos': 115,\n",
      "               'labels': [VBD (0.9999)],\n",
      "               'start_pos': 110,\n",
      "               'text': 'loved'},\n",
      "              {'end_pos': 118,\n",
      "               'labels': [TO (0.9997)],\n",
      "               'start_pos': 116,\n",
      "               'text': 'to'},\n",
      "              {'end_pos': 124,\n",
      "               'labels': [VB (1.0)],\n",
      "               'start_pos': 119,\n",
      "               'text': 'visit'},\n",
      "              {'end_pos': 128,\n",
      "               'labels': [DT (1.0)],\n",
      "               'start_pos': 125,\n",
      "               'text': 'the'},\n",
      "              {'end_pos': 132,\n",
      "               'labels': [NNP (1.0)],\n",
      "               'start_pos': 129,\n",
      "               'text': 'JBF'},\n",
      "              {'end_pos': 145,\n",
      "               'labels': [NN (0.9047)],\n",
      "               'start_pos': 133,\n",
      "               'text': 'headquarters'},\n",
      "              {'end_pos': 146,\n",
      "               'labels': [, (1.0)],\n",
      "               'start_pos': 145,\n",
      "               'text': ','},\n",
      "              {'end_pos': 150,\n",
      "               'labels': [CC (1.0)],\n",
      "               'start_pos': 147,\n",
      "               'text': 'and'},\n",
      "              {'end_pos': 155,\n",
      "               'labels': [PRP (1.0)],\n",
      "               'start_pos': 151,\n",
      "               'text': 'they'},\n",
      "              {'end_pos': 161,\n",
      "               'labels': [MD (1.0)],\n",
      "               'start_pos': 156,\n",
      "               'text': 'would'},\n",
      "              {'end_pos': 166,\n",
      "               'labels': [VB (0.9999)],\n",
      "               'start_pos': 162,\n",
      "               'text': 'have'},\n",
      "              {'end_pos': 168,\n",
      "               'labels': [DT (0.9999)],\n",
      "               'start_pos': 167,\n",
      "               'text': 'a'},\n",
      "              {'end_pos': 173,\n",
      "               'labels': [NN (0.9985)],\n",
      "               'start_pos': 169,\n",
      "               'text': 'chat'},\n",
      "              {'end_pos': 178,\n",
      "               'labels': [IN (1.0)],\n",
      "               'start_pos': 174,\n",
      "               'text': 'with'},\n",
      "              {'end_pos': 185,\n",
      "               'labels': [NNP (0.9999)],\n",
      "               'start_pos': 179,\n",
      "               'text': 'Albert'},\n",
      "              {'end_pos': 186,\n",
      "               'labels': [. (0.9999)],\n",
      "               'start_pos': 185,\n",
      "               'text': '.'}],\n",
      " 'labels': [],\n",
      " 'text': 'Novetta Solutions is the best. Albert Einstein used to be employed '\n",
      "         'at Novetta Solutions.  The Wright brothers loved to visit the JBF '\n",
      "         'headquarters, and they would have a chat with Albert.'}\n"
     ]
    }
   ],
   "source": [
    "print(\"Get json of tagged information:\\n\")\n",
    "for sen in sentences:\n",
    "    pprint(sen.to_dict(tag_type=\"pos\"))"
   ]
  },
  {
   "cell_type": "markdown",
   "metadata": {},
   "source": [
    "### Chunk\n",
    "\n",
    "As with everything before, `chunk` tasks operate the same way. You can either pass `chunk` to get the default `en-chunk` model, or we can search the model hub:"
   ]
  },
  {
   "cell_type": "code",
   "execution_count": null,
   "metadata": {},
   "outputs": [
    {
     "data": {
      "text/plain": [
       "[Model Name: flair/chunk-english-fast, Tasks: [token-classification], Source: HuggingFace Model Hub,\n",
       " Model Name: flair/chunk-english, Tasks: [token-classification], Source: HuggingFace Model Hub,\n",
       " Model Name: flair/chunk, Tasks: [token-classification], Source: Flair's Private Model Hub,\n",
       " Model Name: flair/chunk-fast, Tasks: [token-classification], Source: Flair's Private Model Hub]"
      ]
     },
     "execution_count": null,
     "metadata": {},
     "output_type": "execute_result"
    }
   ],
   "source": [
    "models = hub.search_model_by_task('chunk'); models"
   ]
  },
  {
   "cell_type": "markdown",
   "metadata": {},
   "source": [
    "We'll use the `fast` model again:"
   ]
  },
  {
   "cell_type": "code",
   "execution_count": null,
   "metadata": {},
   "outputs": [
    {
     "data": {
      "text/plain": [
       "Model Name: flair/chunk-english-fast, Tasks: [token-classification], Source: HuggingFace Model Hub"
      ]
     },
     "execution_count": null,
     "metadata": {},
     "output_type": "execute_result"
    }
   ],
   "source": [
    "model = models[0]; model"
   ]
  },
  {
   "cell_type": "code",
   "execution_count": null,
   "metadata": {},
   "outputs": [
    {
     "name": "stdout",
     "output_type": "stream",
     "text": [
      "2021-04-20 16:39:58,442 loading file /root/.flair/models/chunk-english-fast/be3a207f4993dd6d174d5083341a717d371ec16f721358e7a4d72158ebab28a6.a7f897d05c83e618a8235bbb7ddfca5a79d2daefb8a97c776eb73f97dbaea508\n"
     ]
    }
   ],
   "source": [
    "sentences = tagger.tag_text(text = example_text, model_name_or_path = model)"
   ]
  },
  {
   "cell_type": "markdown",
   "metadata": {},
   "source": [
    "Let's view our results.\n",
    "\n",
    "Tagged string:"
   ]
  },
  {
   "cell_type": "code",
   "execution_count": null,
   "metadata": {},
   "outputs": [
    {
     "name": "stdout",
     "output_type": "stream",
     "text": [
      "List string outputs of tags:\n",
      "\n",
      "Novetta <B-NP> Solutions <E-NP> is <S-VP> the <B-NP> best <I-NP> . <I-NP> Albert <I-NP> Einstein <E-NP> used <B-VP> to <I-VP> be <I-VP> employed <E-VP> at <S-PP> Novetta <B-NP> Solutions <E-NP> . The <B-NP> Wright <I-NP> brothers <E-NP> loved <B-VP> to <I-VP> visit <E-VP> the <B-NP> JBF <I-NP> headquarters <E-NP> , and they <S-NP> would <B-VP> have <E-VP> a <B-NP> chat <E-NP> with <S-PP> Albert <S-NP> .\n"
     ]
    }
   ],
   "source": [
    "print(\"List string outputs of tags:\\n\")\n",
    "for sen in sentences:\n",
    "    print(sen.to_tagged_string())"
   ]
  },
  {
   "cell_type": "markdown",
   "metadata": {},
   "source": [
    "Tagged entities:"
   ]
  },
  {
   "cell_type": "code",
   "execution_count": null,
   "metadata": {},
   "outputs": [
    {
     "name": "stdout",
     "output_type": "stream",
     "text": [
      "List text/entities tagged:\n",
      "\n",
      "Span [1,2]: \"Novetta Solutions\"   [− Labels: NP (0.9865)]\n",
      "Span [3]: \"is\"   [− Labels: VP (1.0)]\n",
      "Span [4,5,6,7,8]: \"the best . Albert Einstein\"   [− Labels: NP (0.8215)]\n",
      "Span [9,10,11,12]: \"used to be employed\"   [− Labels: VP (0.9314)]\n",
      "Span [13]: \"at\"   [− Labels: PP (1.0)]\n",
      "Span [14,15]: \"Novetta Solutions\"   [− Labels: NP (0.9916)]\n",
      "Span [17,18,19]: \"The Wright brothers\"   [− Labels: NP (0.8962)]\n",
      "Span [20,21,22]: \"loved to visit\"   [− Labels: VP (0.9181)]\n",
      "Span [23,24,25]: \"the JBF headquarters\"   [− Labels: NP (0.986)]\n",
      "Span [28]: \"they\"   [− Labels: NP (1.0)]\n",
      "Span [29,30]: \"would have\"   [− Labels: VP (0.9376)]\n",
      "Span [31,32]: \"a chat\"   [− Labels: NP (0.9899)]\n",
      "Span [33]: \"with\"   [− Labels: PP (1.0)]\n",
      "Span [34]: \"Albert\"   [− Labels: NP (0.9995)]\n"
     ]
    }
   ],
   "source": [
    "print(\"List text/entities tagged:\\n\")\n",
    "for sen in sentences:\n",
    "    for entity in sen.get_spans(\"np\"):\n",
    "        print(entity)"
   ]
  },
  {
   "cell_type": "markdown",
   "metadata": {},
   "source": [
    "### Frame\n",
    "\n",
    "We can either delegate the `\"frame\"` task and use the default `en-frame-ontonotes` model, or search the API for usable models:"
   ]
  },
  {
   "cell_type": "code",
   "execution_count": null,
   "metadata": {},
   "outputs": [
    {
     "data": {
      "text/plain": [
       "[Model Name: flair/frame-english-fast, Tasks: [token-classification], Source: HuggingFace Model Hub,\n",
       " Model Name: flair/frame-english, Tasks: [token-classification], Source: HuggingFace Model Hub,\n",
       " Model Name: flair/frame, Tasks: [token-classification], Source: Flair's Private Model Hub,\n",
       " Model Name: flair/frame-fast, Tasks: [token-classification], Source: Flair's Private Model Hub]"
      ]
     },
     "execution_count": null,
     "metadata": {},
     "output_type": "execute_result"
    }
   ],
   "source": [
    "models = hub.search_model_by_task(\"frame\"); models"
   ]
  },
  {
   "cell_type": "markdown",
   "metadata": {},
   "source": [
    "Again we will use the \"fast\" model:"
   ]
  },
  {
   "cell_type": "code",
   "execution_count": null,
   "metadata": {},
   "outputs": [
    {
     "data": {
      "text/plain": [
       "Model Name: flair/frame-english-fast, Tasks: [token-classification], Source: HuggingFace Model Hub"
      ]
     },
     "execution_count": null,
     "metadata": {},
     "output_type": "execute_result"
    }
   ],
   "source": [
    "model = models[0]; model"
   ]
  },
  {
   "cell_type": "code",
   "execution_count": null,
   "metadata": {},
   "outputs": [
    {
     "name": "stdout",
     "output_type": "stream",
     "text": [
      "2021-04-20 16:39:58,687 loading file /root/.flair/models/frame-english-fast/b2f10f9bc52898d86d8e6f3bf20369d681cc1e9badcb71650aa274ac696433c7.643ca10453770684aca3f2e886a7243adb2979c67a68de6379e50ccf5dc248da\n"
     ]
    }
   ],
   "source": [
    "sentences = tagger.tag_text(text = example_text, model_name_or_path = model)"
   ]
  },
  {
   "cell_type": "markdown",
   "metadata": {},
   "source": [
    "And look at our tagged string:"
   ]
  },
  {
   "cell_type": "code",
   "execution_count": null,
   "metadata": {},
   "outputs": [
    {
     "name": "stdout",
     "output_type": "stream",
     "text": [
      "List string outputs of tags:\n",
      "\n",
      "Novetta Solutions is <be.01> the best . Albert Einstein used <use.03> to be <be.03> employed <employ.01> at Novetta Solutions . The Wright brothers loved <love.01> to visit <visit.01> the JBF headquarters , and they would have <have.03> a chat <chat.01> with Albert .\n"
     ]
    }
   ],
   "source": [
    "print(\"List string outputs of tags:\\n\")\n",
    "for sen in sentences:\n",
    "    print(sen.to_tagged_string())"
   ]
  },
  {
   "cell_type": "markdown",
   "metadata": {},
   "source": [
    "> Notice: Pay attention to the \"fast\" versus regular naming. \"fast\" models are designed to be extremely efficient on the CPU, and are worth checking out"
   ]
  },
  {
   "cell_type": "markdown",
   "metadata": {},
   "source": [
    "### Tag Tokens with All Loaded Models At Once\n",
    "\n",
    "As different taggers are loaded into memory, we can tag with all of them at once, for example we'll make a new `EasyTokenTagger` and load in a `ner` and `pos` tagger:"
   ]
  },
  {
   "cell_type": "code",
   "execution_count": null,
   "metadata": {},
   "outputs": [
    {
     "name": "stdout",
     "output_type": "stream",
     "text": [
      "2021-04-20 16:39:59,530 --------------------------------------------------------------------------------\n",
      "2021-04-20 16:39:59,531 The model key 'ner-ontonotes' now maps to 'https://huggingface.co/flair/ner-english-ontonotes' on the HuggingFace ModelHub\n",
      "2021-04-20 16:39:59,531  - The most current version of the model is automatically downloaded from there.\n",
      "2021-04-20 16:39:59,532  - (you can alternatively manually download the original model at https://nlp.informatik.hu-berlin.de/resources/models/ner-ontonotes/en-ner-ontonotes-v0.4.pt)\n",
      "2021-04-20 16:39:59,532 --------------------------------------------------------------------------------\n",
      "2021-04-20 16:39:59,551 loading file /root/.flair/models/ner-english-ontonotes/f46dcd14689a594a7dd2a8c9c001a34fd55b02fded2528410913c7e88dbe43d4.1207747bf5ae24291205b6f3e7417c8bedd5c32cacfb5a439f3eff38afda66f7\n",
      "2021-04-20 16:40:04,606 loading file /root/.flair/models/pos-english-fast/36f7923039eed4c66e4275927daaff6cd275997d61d238355fb1fe0338fe10a1.ff87e5b4e47fdb42a0c00237d9506c671db773e0a7932179ace82e584383a1b8\n"
     ]
    }
   ],
   "source": [
    "tagger = EasyTokenTagger()\n",
    "_ = tagger.tag_text(text=example_text, model_name_or_path=\"ner-ontonotes\")\n",
    "_ = tagger.tag_text(text=example_text, model_name_or_path=\"pos\")"
   ]
  },
  {
   "cell_type": "markdown",
   "metadata": {},
   "source": [
    "Before finally using both at once:"
   ]
  },
  {
   "cell_type": "code",
   "execution_count": null,
   "metadata": {},
   "outputs": [
    {
     "name": "stdout",
     "output_type": "stream",
     "text": [
      "2021-04-20 16:40:04,886 loading file /root/.flair/models/pos-english-fast/36f7923039eed4c66e4275927daaff6cd275997d61d238355fb1fe0338fe10a1.ff87e5b4e47fdb42a0c00237d9506c671db773e0a7932179ace82e584383a1b8\n"
     ]
    }
   ],
   "source": [
    "sentences = tagger.tag_all(text=example_text)"
   ]
  },
  {
   "cell_type": "markdown",
   "metadata": {},
   "source": [
    "And now we can look at the entities tagged of each kind:"
   ]
  },
  {
   "cell_type": "code",
   "execution_count": null,
   "metadata": {},
   "outputs": [
    {
     "name": "stdout",
     "output_type": "stream",
     "text": [
      "List entities tagged:\n",
      "\n",
      "Span [1,2]: \"Novetta Solutions\"   [− Labels: ORG (0.9644)]\n",
      "Span [7,8]: \"Albert Einstein\"   [− Labels: PERSON (0.9969)]\n",
      "Span [14,15]: \"Novetta Solutions\"   [− Labels: ORG (0.9796)]\n",
      "Span [18]: \"Wright\"   [− Labels: PERSON (0.9995)]\n",
      "Span [24]: \"JBF\"   [− Labels: ORG (0.9898)]\n",
      "Span [34]: \"Albert\"   [− Labels: PERSON (0.9999)]\n"
     ]
    }
   ],
   "source": [
    "print(\"List entities tagged:\\n\")\n",
    "for sen in sentences:\n",
    "    for entity in sen.get_spans(\"ner\"):\n",
    "        print(entity)"
   ]
  },
  {
   "cell_type": "code",
   "execution_count": null,
   "metadata": {},
   "outputs": [
    {
     "name": "stdout",
     "output_type": "stream",
     "text": [
      "List entities tagged:\n",
      "\n",
      "Span [1]: \"Novetta\"   [− Labels: NNP (0.9991)]\n",
      "Span [2]: \"Solutions\"   [− Labels: NNPS (0.8552)]\n",
      "Span [3]: \"is\"   [− Labels: VBZ (1.0)]\n",
      "Span [4]: \"the\"   [− Labels: DT (1.0)]\n",
      "Span [5]: \"best\"   [− Labels: JJS (0.8458)]\n",
      "Span [6]: \".\"   [− Labels: . (0.943)]\n",
      "Span [7]: \"Albert\"   [− Labels: NNP (1.0)]\n",
      "Span [8]: \"Einstein\"   [− Labels: NNP (1.0)]\n",
      "Span [9]: \"used\"   [− Labels: VBD (0.9755)]\n",
      "Span [10]: \"to\"   [− Labels: TO (0.9995)]\n",
      "Span [11]: \"be\"   [− Labels: VB (1.0)]\n",
      "Span [12]: \"employed\"   [− Labels: VBN (0.9998)]\n",
      "Span [13]: \"at\"   [− Labels: IN (1.0)]\n",
      "Span [14]: \"Novetta\"   [− Labels: NNP (1.0)]\n",
      "Span [15]: \"Solutions\"   [− Labels: NNP (0.5506)]\n",
      "Span [16]: \".\"   [− Labels: , (0.5253)]\n",
      "Span [17]: \"The\"   [− Labels: DT (1.0)]\n",
      "Span [18]: \"Wright\"   [− Labels: NNP (0.9982)]\n",
      "Span [19]: \"brothers\"   [− Labels: NNS (0.9998)]\n",
      "Span [20]: \"loved\"   [− Labels: VBD (0.9999)]\n",
      "Span [21]: \"to\"   [− Labels: TO (0.9997)]\n",
      "Span [22]: \"visit\"   [− Labels: VB (1.0)]\n",
      "Span [23]: \"the\"   [− Labels: DT (1.0)]\n",
      "Span [24]: \"JBF\"   [− Labels: NNP (1.0)]\n",
      "Span [25]: \"headquarters\"   [− Labels: NN (0.9047)]\n",
      "Span [26]: \",\"   [− Labels: , (1.0)]\n",
      "Span [27]: \"and\"   [− Labels: CC (1.0)]\n",
      "Span [28]: \"they\"   [− Labels: PRP (1.0)]\n",
      "Span [29]: \"would\"   [− Labels: MD (1.0)]\n",
      "Span [30]: \"have\"   [− Labels: VB (0.9999)]\n",
      "Span [31]: \"a\"   [− Labels: DT (0.9999)]\n",
      "Span [32]: \"chat\"   [− Labels: NN (0.9985)]\n",
      "Span [33]: \"with\"   [− Labels: IN (1.0)]\n",
      "Span [34]: \"Albert\"   [− Labels: NNP (0.9999)]\n",
      "Span [35]: \".\"   [− Labels: . (0.9999)]\n"
     ]
    }
   ],
   "source": [
    "print(\"List entities tagged:\\n\")\n",
    "for sen in sentences:\n",
    "    for entity in sen.get_spans(\"pos\"):\n",
    "        print(entity)"
   ]
  },
  {
   "cell_type": "code",
   "execution_count": null,
   "metadata": {},
   "outputs": [],
   "source": []
  }
 ],
 "metadata": {
  "kernelspec": {
   "display_name": "Python 3",
   "language": "python",
   "name": "python3"
  }
 },
 "nbformat": 4,
 "nbformat_minor": 4
}
