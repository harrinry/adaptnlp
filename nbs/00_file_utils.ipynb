{
 "cells": [
  {
   "cell_type": "code",
   "execution_count": null,
   "metadata": {},
   "outputs": [],
   "source": [
    "# default_exp file_utils"
   ]
  },
  {
   "cell_type": "markdown",
   "metadata": {},
   "source": [
    "# File Utilities\n",
    "> Utilities for working with a local dataset cache, adapted from AllenNLP"
   ]
  },
  {
   "cell_type": "code",
   "execution_count": null,
   "metadata": {},
   "outputs": [],
   "source": [
    "#exporti\n",
    "\"\"\"\n",
    "Utilities for working with the local dataset cache.  Adapted from AllenNLP.\n",
    "\"\"\";"
   ]
  },
  {
   "cell_type": "code",
   "execution_count": null,
   "metadata": {},
   "outputs": [],
   "source": [
    "#export\n",
    "import logging\n",
    "import shutil\n",
    "import tempfile\n",
    "import json\n",
    "from urllib.parse import urlparse\n",
    "from pathlib import Path\n",
    "from typing import Optional, Tuple, Union, IO, Callable, Set\n",
    "from hashlib import sha256\n",
    "from functools import wraps\n",
    "\n",
    "from tqdm import tqdm as _tqdm\n",
    "import boto3\n",
    "import botocore\n",
    "from botocore.exceptions import ClientError\n",
    "import requests\n",
    "from requests.adapters import HTTPAdapter\n",
    "from requests.packages.urllib3.util.retry import Retry\n",
    "\n",
    "import adaptnlp"
   ]
  },
  {
   "cell_type": "code",
   "execution_count": null,
   "metadata": {},
   "outputs": [],
   "source": [
    "#export\n",
    "logger = logging.getLogger(__name__)"
   ]
  },
  {
   "cell_type": "code",
   "execution_count": null,
   "metadata": {},
   "outputs": [],
   "source": [
    "#export\n",
    "CACHE_ROOT = adaptnlp.cache_root"
   ]
  },
  {
   "cell_type": "code",
   "execution_count": null,
   "metadata": {},
   "outputs": [],
   "source": [
    "#export\n",
    "CACHE_DIRECTORY = CACHE_ROOT / \"cache\""
   ]
  },
  {
   "cell_type": "code",
   "execution_count": null,
   "metadata": {},
   "outputs": [],
   "source": [
    "#export\n",
    "def url_to_filename(url: str, etag: str = None) -> str:\n",
    "    \"\"\"\n",
    "    Convert `url` into a hashed filename in a repeatable way.\n",
    "    If `etag` is specified, append its hash to the url's, delimited\n",
    "    by a period.\n",
    "    \"\"\"\n",
    "    url_bytes = url.encode(\"utf-8\")\n",
    "    url_hash = sha256(url_bytes)\n",
    "    filename = url_hash.hexdigest()\n",
    "\n",
    "    if etag:\n",
    "        etag_bytes = etag.encode(\"utf-8\")\n",
    "        etag_hash = sha256(etag_bytes)\n",
    "        filename += \".\" + etag_hash.hexdigest()\n",
    "\n",
    "    return filename"
   ]
  },
  {
   "cell_type": "code",
   "execution_count": null,
   "metadata": {},
   "outputs": [],
   "source": [
    "#export\n",
    "def filename_to_url(filename: str, cache_dir: str = None) -> Tuple[str, str]:\n",
    "    \"\"\"\n",
    "    Return the url and etag (which may be ``None``) stored for `filename`.\n",
    "    Raise ``FileNotFoundError`` if `filename` or its stored metadata do not exist.\n",
    "    \"\"\"\n",
    "    if cache_dir is None:\n",
    "        cache_dir = CACHE_DIRECTORY\n",
    "    if not isinstance(cache_dir, Path): cache_dir = Path(cache_dir)\n",
    "    \n",
    "    cache_path = cache_dir/fname\n",
    "    if not cache_path.exists():\n",
    "        raise FileNotFoundError(f\"file {cache_dir} not found\")\n",
    "\n",
    "    meta_path = Path(f'{cache_path}.json')\n",
    "    if not meta_path.exists():\n",
    "        raise FileNotFoundError(f\"file {meta_path} not found\")\n",
    "\n",
    "    with open(meta_path) as meta_file:\n",
    "        metadata = json.load(meta_file)\n",
    "    url = metadata[\"url\"]\n",
    "    etag = metadata[\"etag\"]\n",
    "\n",
    "    return url, etag"
   ]
  },
  {
   "cell_type": "code",
   "execution_count": null,
   "metadata": {},
   "outputs": [],
   "source": [
    "#export\n",
    "def cached_path(url_or_filename: Union[str, Path], cache_dir: str = None) -> str:\n",
    "    \"\"\"\n",
    "    Given something that might be a URL (or might be a local path),\n",
    "    determine which. If it's a URL, download the file and cache it, and\n",
    "    return the path to the cached file. If it's already a local path,\n",
    "    make sure the file exists and then return the path.\n",
    "    \"\"\"\n",
    "    if cache_dir is None:\n",
    "        cache_dir = CACHE_DIRECTORY\n",
    "    if not isinstance(url_or_filename, Path):\n",
    "        url_or_filename = Path(url_or_filename)\n",
    "    \n",
    "    url_or_filename = url_or_filename.expanduser()\n",
    "    parsed = urlparse(str(url_or_filename))\n",
    "\n",
    "    if parsed.scheme in (\"http\", \"https\", \"s3\"):\n",
    "        # URL, so get it from the cache (downloading if necessary)\n",
    "        return get_from_cache(url_or_filename, cache_dir)\n",
    "    elif url_or_filename.exists():\n",
    "        # File, and it exists.\n",
    "        return url_or_filename\n",
    "    elif parsed.scheme == \"\":\n",
    "        # File, but it doesn't exist.\n",
    "        raise FileNotFoundError(f\"file {url_or_filename} not found\")\n",
    "    else:\n",
    "        # Something unknown\n",
    "        raise ValueError(\n",
    "            f\"unable to parse {url_or_filename} as a URL or as a local path\"\n",
    "        )"
   ]
  },
  {
   "cell_type": "code",
   "execution_count": null,
   "metadata": {},
   "outputs": [],
   "source": [
    "#export\n",
    "def is_url_or_existing_file(url_or_filename: Union[str, Path, None]) -> bool:\n",
    "    \"\"\"\n",
    "    Given something that might be a URL (or might be a local path),\n",
    "    determine check if it's url or an existing file path.\n",
    "    \"\"\"\n",
    "    if url_or_filename is None:\n",
    "        return False\n",
    "    url_or_filename = Path(url_or_filename).expanduser()\n",
    "    parsed = urlparse(str(url_or_filename))\n",
    "    return parsed.scheme in (\"http\", \"https\", \"s3\") or url_or_fname.exists()"
   ]
  },
  {
   "cell_type": "code",
   "execution_count": null,
   "metadata": {},
   "outputs": [],
   "source": [
    "#export\n",
    "def split_s3_path(url: str) -> Tuple[str, str]:\n",
    "    \"\"\"Split a full s3 path into the bucket name and path.\"\"\"\n",
    "    parsed = urlparse(url)\n",
    "    if not parsed.netloc or not parsed.path:\n",
    "        raise ValueError(\"bad s3 path {}\".format(url))\n",
    "    bucket_name = parsed.netloc\n",
    "    s3_path = parsed.path\n",
    "    # Remove '/' at beginning of path.\n",
    "    if s3_path.startswith(\"/\"):\n",
    "        s3_path = s3_path[1:]\n",
    "    return bucket_name, s3_path"
   ]
  },
  {
   "cell_type": "code",
   "execution_count": null,
   "metadata": {},
   "outputs": [],
   "source": [
    "#export\n",
    "def s3_request(func: Callable):\n",
    "    \"\"\"\n",
    "    Wrapper function for s3 requests in order to create more helpful error\n",
    "    messages.\n",
    "    \"\"\"\n",
    "\n",
    "    @wraps(func)\n",
    "    def wrapper(url: str, *args, **kwargs):\n",
    "        try:\n",
    "            return func(url, *args, **kwargs)\n",
    "        except ClientError as exc:\n",
    "            if int(exc.response[\"Error\"][\"Code\"]) == 404:\n",
    "                raise FileNotFoundError(\"file {} not found\".format(url))\n",
    "            else:\n",
    "                raise\n",
    "\n",
    "    return wrapper"
   ]
  },
  {
   "cell_type": "code",
   "execution_count": null,
   "metadata": {},
   "outputs": [],
   "source": [
    "#export\n",
    "def get_s3_resource():\n",
    "    session = boto3.session.Session()\n",
    "    if session.get_credentials() is None:\n",
    "        # Use unsigned requests.\n",
    "        s3_resource = session.resource(\n",
    "            \"s3\", config=botocore.client.Config(signature_version=botocore.UNSIGNED)\n",
    "        )\n",
    "    else:\n",
    "        s3_resource = session.resource(\"s3\")\n",
    "    return s3_resource"
   ]
  },
  {
   "cell_type": "code",
   "execution_count": null,
   "metadata": {},
   "outputs": [],
   "source": [
    "#export\n",
    "@s3_request\n",
    "def s3_etag(url: str) -> Optional[str]:\n",
    "    \"\"\"Check ETag on S3 object.\"\"\"\n",
    "    s3_resource = get_s3_resource()\n",
    "    bucket_name, s3_path = split_s3_path(url)\n",
    "    s3_object = s3_resource.Object(bucket_name, s3_path)\n",
    "    return s3_object.e_tag"
   ]
  },
  {
   "cell_type": "code",
   "execution_count": null,
   "metadata": {},
   "outputs": [],
   "source": [
    "#export\n",
    "@s3_request\n",
    "def s3_get(url: str, temp_file: IO) -> None:\n",
    "    \"\"\"Pull a file directly from S3.\"\"\"\n",
    "    s3_resource = get_s3_resource()\n",
    "    bucket_name, s3_path = split_s3_path(url)\n",
    "    s3_resource.Bucket(bucket_name).download_fileobj(s3_path, temp_file)"
   ]
  },
  {
   "cell_type": "code",
   "execution_count": null,
   "metadata": {},
   "outputs": [],
   "source": [
    "#export\n",
    "def session_with_backoff() -> requests.Session:\n",
    "    \"\"\"\n",
    "    We ran into an issue where http requests to s3 were timing out,\n",
    "    possibly because we were making too many requests too quickly.\n",
    "    This helper function returns a requests session that has retry-with-backoff\n",
    "    built in.\n",
    "    see stackoverflow.com/questions/23267409/how-to-implement-retry-mechanism-into-python-requests-library\n",
    "    \"\"\"\n",
    "    session = requests.Session()\n",
    "    retries = Retry(total=5, backoff_factor=1, status_forcelist=[502, 503, 504])\n",
    "    session.mount(\"http://\", HTTPAdapter(max_retries=retries))\n",
    "    session.mount(\"https://\", HTTPAdapter(max_retries=retries))\n",
    "\n",
    "    return session"
   ]
  },
  {
   "cell_type": "code",
   "execution_count": null,
   "metadata": {},
   "outputs": [],
   "source": [
    "#export\n",
    "def http_get(url: str, temp_file: IO) -> None:\n",
    "    with session_with_backoff() as session:\n",
    "        req = session.get(url, stream=True)\n",
    "        content_length = req.headers.get(\"Content-Length\")\n",
    "        total = int(content_length) if content_length is not None else None\n",
    "        progress = Tqdm.tqdm(unit=\"B\", total=total)\n",
    "        for chunk in req.iter_content(chunk_size=1024):\n",
    "            if chunk:  # filter out keep-alive new chunks\n",
    "                progress.update(len(chunk))\n",
    "                temp_file.write(chunk)\n",
    "        progress.close()"
   ]
  },
  {
   "cell_type": "code",
   "execution_count": null,
   "metadata": {},
   "outputs": [],
   "source": [
    "#export\n",
    "def get_from_cache(url: str, cache_dir: str = None) -> str:\n",
    "    \"\"\"\n",
    "    Given a URL, look for the corresponding dataset in the local cache.\n",
    "    If it's not there, download it. Then return the path to the cached file.\n",
    "    \"\"\"\n",
    "    if cache_dir is None:\n",
    "        cache_dir = CACHE_DIRECTORY\n",
    "    if not isinstance(cache_dir, Path): cache_dir = Path(cache_dir)\n",
    "        \n",
    "    cache_dir.mkdir(exist_ok=True)\n",
    "\n",
    "    # Get eTag to add to filename, if it exists.\n",
    "    if url.startswith(\"s3://\"):\n",
    "        etag = s3_etag(url)\n",
    "    else:\n",
    "        with session_with_backoff() as session:\n",
    "            response = session.head(url, allow_redirects=True)\n",
    "        if response.status_code != 200:\n",
    "            raise IOError(\n",
    "                \"HEAD request failed for url {} with status code {}\".format(\n",
    "                    url, response.status_code\n",
    "                )\n",
    "            )\n",
    "        etag = response.headers.get(\"ETag\")\n",
    "\n",
    "    filename = url_to_filename(url, etag)\n",
    "\n",
    "    # get cache path to put the file\n",
    "    cache_path = cache_dir/filename\n",
    "\n",
    "    if not cache_path.exists():\n",
    "        # Download to temporary file, then copy to cache dir once finished.\n",
    "        # Otherwise you get corrupt cache entries if the download gets interrupted.\n",
    "        with tempfile.NamedTemporaryFile() as temp_file:\n",
    "            logger.info(\"%s not found in cache, downloading to %s\", url, temp_file.name)\n",
    "\n",
    "            # GET file object\n",
    "            if url.startswith(\"s3://\"):\n",
    "                s3_get(url, temp_file)\n",
    "            else:\n",
    "                http_get(url, temp_file)\n",
    "\n",
    "            # we are copying the file before closing it, so flush to avoid truncation\n",
    "            temp_file.flush()\n",
    "            # shutil.copyfileobj() starts at the current position, so go to the start\n",
    "            temp_file.seek(0)\n",
    "\n",
    "            logger.info(\"copying %s to cache at %s\", temp_file.name, cache_path)\n",
    "            with open(cache_path, \"wb\") as cache_file:\n",
    "                shutil.copyfileobj(temp_file, cache_file)\n",
    "\n",
    "            logger.info(\"creating metadata file for %s\", cache_path)\n",
    "            meta = {\"url\": url, \"etag\": etag}\n",
    "            meta_path = cache_path + \".json\"\n",
    "            with open(meta_path, \"w\") as meta_file:\n",
    "                json.dump(meta, meta_file)\n",
    "\n",
    "            logger.info(\"removing temp file %s\", temp_file.name)\n",
    "\n",
    "    return cache_path"
   ]
  },
  {
   "cell_type": "code",
   "execution_count": null,
   "metadata": {},
   "outputs": [],
   "source": [
    "#export\n",
    "def read_set_from_file(filename: str) -> Set[str]:\n",
    "    \"\"\"\n",
    "    Extract a de-duped collection (set) of text from a file.\n",
    "    Expected file format is one item per line.\n",
    "    \"\"\"\n",
    "    collection = set()\n",
    "    with open(filename, \"r\") as file_:\n",
    "        for line in file_:\n",
    "            collection.add(line.rstrip())\n",
    "    return collection"
   ]
  },
  {
   "cell_type": "code",
   "execution_count": null,
   "metadata": {},
   "outputs": [],
   "source": [
    "#export\n",
    "def get_file_extension(path:str, dot=True, lower:bool=True) -> str:\n",
    "    ext = Path(path).suffix\n",
    "    if not dot: ext = ext.strip('.')\n",
    "    return ext.lower() if lower else ext"
   ]
  },
  {
   "cell_type": "code",
   "execution_count": null,
   "metadata": {},
   "outputs": [],
   "source": [
    "#export\n",
    "class Tqdm:\n",
    "    # These defaults are the same as the argument defaults in tqdm.\n",
    "    default_mininterval: float = 0.1\n",
    "\n",
    "    @staticmethod\n",
    "    def set_default_mininterval(value: float) -> None:\n",
    "        Tqdm.default_mininterval = value\n",
    "\n",
    "    @staticmethod\n",
    "    def set_slower_interval(use_slower_interval: bool) -> None:\n",
    "        \"\"\"\n",
    "        If ``use_slower_interval`` is ``True``, we will dramatically slow down ``tqdm's`` default\n",
    "        output rate.  ``tqdm's`` default output rate is great for interactively watching progress,\n",
    "        but it is not great for log files.  You might want to set this if you are primarily going\n",
    "        to be looking at output through log files, not the terminal.\n",
    "        \"\"\"\n",
    "        if use_slower_interval:\n",
    "            Tqdm.default_mininterval = 10.0\n",
    "        else:\n",
    "            Tqdm.default_mininterval = 0.1\n",
    "\n",
    "    @staticmethod\n",
    "    def tqdm(*args, **kwargs):\n",
    "        new_kwargs = {\"mininterval\": Tqdm.default_mininterval, **kwargs}\n",
    "\n",
    "        return _tqdm(*args, **new_kwargs)"
   ]
  }
 ],
 "metadata": {
  "jupytext": {
   "split_at_heading": true
  },
  "kernelspec": {
   "display_name": "Python 3",
   "language": "python",
   "name": "python3"
  }
 },
 "nbformat": 4,
 "nbformat_minor": 4
}
