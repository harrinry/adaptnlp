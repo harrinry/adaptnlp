{
 "cells": [
  {
   "cell_type": "code",
   "execution_count": null,
   "id": "3bd0c1db",
   "metadata": {},
   "outputs": [],
   "source": [
    "#hide\n",
    "from nbverbose.showdoc import *"
   ]
  },
  {
   "cell_type": "markdown",
   "id": "53ab3d4e",
   "metadata": {},
   "source": [
    "# The AdaptNLP Cookbook\n",
    "> A one-stop shop for AdaptNLP recipies"
   ]
  },
  {
   "cell_type": "markdown",
   "id": "91e0fb25",
   "metadata": {},
   "source": [
    "## What is this?\n",
    "\n",
    "The Cookbook is a centralized resource with up-to-date tutorials throughout the entirety of the AdaptNLP documentation with quick links to each. It is segmented out by use case (inference or fine-tuning), and further segmented out by application (if applicable). \n",
    "\n",
    "Each link to the documentation website, and to run them in Google Colaboratory simply hit the Open in Colab button towards the top (you can find one here too!)"
   ]
  },
  {
   "cell_type": "markdown",
   "id": "237bf1b2",
   "metadata": {},
   "source": [
    "## Inference\n",
    "\n",
    "### Embeddings\n",
    "- [Inference tutorial](https://novetta.github.io/adaptnlp/tutorial.embeddings)\n",
    "\n",
    "### Question Answering\n",
    "- [Inference tutorial](https://novetta.github.io/adaptnlp/question_answering)\n",
    "\n",
    "### Sequence Classification\n",
    "- [Inference tutorial](https://novetta.github.io/adaptnlp/tutorial.easy_sequence_classifier)\n",
    "\n",
    "### Summarization\n",
    "- [Inference tutorial](https://novetta.github.io/adaptnlp/tutorial.summarization)\n",
    "\n",
    "### Text Generation\n",
    "- [Inference tutorial](https://novetta.github.io/adaptnlp/tutorial.easy_text_generator)\n",
    "\n",
    "### Token Tagging\n",
    "- [Inference tutorial](https://novetta.github.io/adaptnlp/tutorial.token_tagging)\n",
    "\n",
    "### Translation\n",
    "- [Inference tutorial](https://novetta.github.io/adaptnlp/tutorial.translation)"
   ]
  },
  {
   "cell_type": "markdown",
   "id": "8fad8570",
   "metadata": {},
   "source": [
    "## Fine-Tuning\n",
    "\n",
    "### Language Models\n",
    "- [Fine-Tuning with DataFrames](https://novetta.github.io/adaptnlp/language_model_from_df)\n",
    "- [Fine-Tuning with CSVs](https://novetta.github.io/adaptnlp/language_model_from_csv)\n",
    "- [Fine-Tuning with Folders](https://novetta.github.io/adaptnlp/language_model_from_folder)\n",
    "\n",
    "### Sequence Classification\n",
    "- [Fine-Tuning with DataFrames](https://novetta.github.io/adaptnlp/sequence_classification_from_df)\n",
    "- [Fine-Tuning with CSVs](https://novetta.github.io/adaptnlp/sequence_classification_from_csv)\n",
    "- [Fine-Tuning with Folders](https://novetta.github.io/adaptnlp/sequence_classification_from_folder)\n",
    "- [Fine-Tuning with HuggingFace Datasets](https://novetta.github.io/adaptnlp/sequence_classification_from_dataset)\n",
    "\n",
    "### Token Tagging/NER\n",
    "- [Fine-Tuning with DataFrames](https://novetta.github.io/adaptnlp/token_tagging_from_df)\n",
    "- [Fine-Tuning with CSVs](https://novetta.github.io/adaptnlp/token_tagging_from_csv)"
   ]
  },
  {
   "cell_type": "code",
   "execution_count": null,
   "id": "42a8d5e1",
   "metadata": {},
   "outputs": [],
   "source": []
  }
 ],
 "metadata": {
  "kernelspec": {
   "display_name": "Python 3 (ipykernel)",
   "language": "python",
   "name": "python3"
  },
  "language_info": {
   "codemirror_mode": {
    "name": "ipython",
    "version": 3
   },
   "file_extension": ".py",
   "mimetype": "text/x-python",
   "name": "python",
   "nbconvert_exporter": "python",
   "pygments_lexer": "ipython3",
   "version": "3.8.12"
  }
 },
 "nbformat": 4,
 "nbformat_minor": 5
}
